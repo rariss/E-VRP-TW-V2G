{
 "cells": [
  {
   "cell_type": "code",
   "execution_count": 1,
   "metadata": {},
   "outputs": [],
   "source": [
    "import sys\n",
    "sys.path.append(\"../\") # go to parent dir\n",
    "\n",
    "%load_ext autoreload\n",
    "%autoreload 2"
   ]
  },
  {
   "cell_type": "code",
   "execution_count": 2,
   "metadata": {
    "pycharm": {
     "name": "#%%\n"
    }
   },
   "outputs": [],
   "source": [
    "from evrptw import EVRPTW"
   ]
  },
  {
   "cell_type": "code",
   "execution_count": 3,
   "metadata": {
    "pycharm": {
     "name": "#%% Imports for graphs and solution plots\n"
    }
   },
   "outputs": [],
   "source": [
    "from utils.graph import draw_plain_graph, draw_graph\n",
    "from utils.plot import plot_interactive_graph\n",
    "from utils.utilities import create_optimal_edges, merge_variable_results\n",
    "from utils.utilities import parse_csv_tables, calculate_distance_matrix, generate_index_mapping\n",
    "from utils.utilities import trace_routes\n",
    "import pandas as pd"
   ]
  },
  {
   "cell_type": "code",
   "execution_count": 114,
   "metadata": {
    "pycharm": {
     "name": "#%%\n"
    }
   },
   "outputs": [],
   "source": [
    "# instance = 'r104C5'\n",
    "# instance = 'r105C5'\n",
    "# instance = 'r201C10'\n",
    "# instance = 'rc108C10'\n",
    "# instance = 'c103C15'\n",
    "# instance = 'c202C15'\n",
    "instance = 'rc103C15'\n",
    "# instance = 'r105C15'\n",
    "# instance = 'r202C15'\n",
    "# instance = 'r102C15'\n",
    "\n",
    "fpath = 'data/' + instance + '.csv'"
   ]
  },
  {
   "cell_type": "code",
   "execution_count": 115,
   "metadata": {
    "pycharm": {
     "name": "#%%\n"
    }
   },
   "outputs": [],
   "source": [
    "m = EVRPTW()"
   ]
  },
  {
   "cell_type": "code",
   "execution_count": 116,
   "metadata": {
    "pycharm": {
     "name": "#%%\n"
    },
    "scrolled": false
   },
   "outputs": [
    {
     "name": "stderr",
     "output_type": "stream",
     "text": [
      "WARNING:pyomo.core:Initializing ordered Set start_node with a fundamentally unordered data source (type: set).  This WILL potentially lead to nondeterministic behavior in Pyomo\n",
      "WARNING:pyomo.core:Initializing ordered Set end_node with a fundamentally unordered data source (type: set).  This WILL potentially lead to nondeterministic behavior in Pyomo\n"
     ]
    },
    {
     "name": "stdout",
     "output_type": "stream",
     "text": [
      "WARNING: Initializing ordered Set start_node with a fundamentally unordered\n",
      "    data source (type: set).  This WILL potentially lead to nondeterministic\n",
      "    behavior in Pyomo\n",
      "WARNING: Initializing ordered Set end_node with a fundamentally unordered data\n",
      "    source (type: set).  This WILL potentially lead to nondeterministic\n",
      "    behavior in Pyomo\n",
      "\n",
      "--------------------------------------------\n",
      "Warning: your license will expire in 11 days\n",
      "--------------------------------------------\n",
      "\n",
      "Using license file C:\\Users\\berwa\\gurobi.lic\n",
      "Academic license - for non-commercial use only - expires 2021-02-09\n",
      "Read LP format model from file C:\\Users\\berwa\\AppData\\Local\\Temp\\tmp6bd07vtx.pyomo.lp\n",
      "Reading time = 0.02 seconds\n",
      "x551: 1350 rows, 487 columns, 5012 nonzeros\n",
      "Gurobi Optimizer version 9.1.0 build v9.1.0rc0 (win64)\n",
      "Thread count: 4 physical cores, 8 logical processors, using up to 8 threads\n",
      "Optimize a model with 1350 rows, 487 columns and 5012 nonzeros\n",
      "Model fingerprint: 0x6bdf334e\n",
      "Variable types: 66 continuous, 421 integer (421 binary)\n",
      "Coefficient statistics:\n",
      "  Matrix range     [4e-01, 4e+02]\n",
      "  Objective range  [4e+00, 9e+01]\n",
      "  Bounds range     [1e+00, 1e+00]\n",
      "  RHS range        [1e+00, 2e+02]\n",
      "Presolve removed 383 rows and 126 columns\n",
      "Presolve time: 0.06s\n",
      "Presolved: 967 rows, 361 columns, 6560 nonzeros\n",
      "Variable types: 60 continuous, 301 integer (301 binary)\n",
      "\n",
      "Root relaxation: objective 1.934565e+02, 118 iterations, 0.00 seconds\n",
      "\n",
      "    Nodes    |    Current Node    |     Objective Bounds      |     Work\n",
      " Expl Unexpl |  Obj  Depth IntInf | Incumbent    BestBd   Gap | It/Node Time\n",
      "\n",
      "     0     0  193.45653    0   37          -  193.45653      -     -    0s\n",
      "H    0     0                     795.5771605  193.45653  75.7%     -    0s\n",
      "H    0     0                     754.5190820  193.45653  74.4%     -    0s\n",
      "H    0     0                     686.8017747  199.17701  71.0%     -    0s\n",
      "H    0     0                     683.6566284  199.17701  70.9%     -    0s\n",
      "     0     0  274.95154    0   37  683.65663  274.95154  59.8%     -    0s\n",
      "H    0     0                     497.4439472  274.95154  44.7%     -    0s\n",
      "     0     0  276.17064    0   37  497.44395  276.17064  44.5%     -    0s\n",
      "     0     0  276.17602    0   39  497.44395  276.17602  44.5%     -    0s\n",
      "H    0     0                     457.0633499  276.17602  39.6%     -    0s\n",
      "     0     0  279.77707    0   32  457.06335  279.77707  38.8%     -    0s\n",
      "     0     0  281.38021    0   40  457.06335  281.38021  38.4%     -    0s\n",
      "     0     0  281.39799    0   41  457.06335  281.39799  38.4%     -    0s\n",
      "H    0     0                     446.9519643  281.39799  37.0%     -    0s\n",
      "     0     0  283.58047    0   20  446.95196  283.58047  36.6%     -    0s\n",
      "     0     0  283.59746    0   20  446.95196  283.59746  36.5%     -    0s\n",
      "     0     0  285.31958    0   24  446.95196  285.31958  36.2%     -    0s\n",
      "     0     0  285.42283    0   28  446.95196  285.42283  36.1%     -    0s\n",
      "     0     0  285.42283    0   28  446.95196  285.42283  36.1%     -    0s\n",
      "     0     0  286.98636    0   38  446.95196  286.98636  35.8%     -    0s\n",
      "     0     0  288.65873    0   20  446.95196  288.65873  35.4%     -    0s\n",
      "     0     0  288.77394    0   20  446.95196  288.77394  35.4%     -    0s\n",
      "H    0     0                     446.8730398  288.77394  35.4%     -    0s\n",
      "     0     0  290.11539    0   43  446.87304  290.11539  35.1%     -    0s\n",
      "     0     0  290.39534    0   41  446.87304  290.39534  35.0%     -    0s\n",
      "     0     0  290.43757    0   46  446.87304  290.43757  35.0%     -    0s\n",
      "     0     0  290.43757    0   46  446.87304  290.43757  35.0%     -    0s\n",
      "     0     0  291.73828    0   46  446.87304  291.73828  34.7%     -    0s\n",
      "H    0     0                     434.9627886  291.73828  32.9%     -    0s\n",
      "     0     0  291.83053    0   47  434.96279  291.83053  32.9%     -    0s\n",
      "     0     0  291.83053    0   47  434.96279  291.83053  32.9%     -    0s\n",
      "     0     0  295.00525    0   44  434.96279  295.00525  32.2%     -    0s\n",
      "H    0     0                     430.2699976  295.00525  31.4%     -    0s\n",
      "     0     0  295.04939    0   44  430.27000  295.04939  31.4%     -    0s\n",
      "     0     0  295.29302    0   44  430.27000  295.29302  31.4%     -    0s\n",
      "H    0     0                     403.4910866  295.29302  26.8%     -    0s\n",
      "     0     0  295.29302    0   44  403.49109  295.29302  26.8%     -    0s\n",
      "     0     0  295.29302    0   44  403.49109  295.29302  26.8%     -    0s\n",
      "     0     0  295.29302    0   44  403.49109  295.29302  26.8%     -    0s\n",
      "     0     2  295.30485    0   44  403.49109  295.30485  26.8%     -    0s\n",
      "H   79    64                     403.4121621  296.80355  26.4%  16.5    0s\n",
      "*  416   250              41     402.1430820  304.75020  24.2%  13.9    0s\n",
      "H  824   381                     401.7917111  307.19768  23.5%  12.9    1s\n",
      "H 1860   738                     400.5324243  312.76458  21.9%  13.1    1s\n",
      "H 2332   862                     397.6698569  314.31233  21.0%  14.8    3s\n",
      "  4148   703  387.61088   21   14  397.66986  339.17849  14.7%  18.3    5s\n",
      "\n",
      "Cutting planes:\n",
      "  Learned: 8\n",
      "  Gomory: 10\n",
      "  Cover: 15\n",
      "  Implied bound: 13\n",
      "  Projected implied bound: 11\n",
      "  Clique: 2\n",
      "  MIR: 55\n",
      "  StrongCG: 5\n",
      "  Flow cover: 68\n",
      "  GUB cover: 7\n",
      "  Inf proof: 6\n",
      "  Zero half: 17\n",
      "  RLT: 7\n",
      "  Relax-and-lift: 19\n",
      "\n",
      "Explored 8744 nodes (164131 simplex iterations) in 7.17 seconds\n",
      "Thread count was 8 (of 8 available processors)\n",
      "\n",
      "Solution count 10: 397.67 400.532 401.792 ... 446.952\n",
      "\n",
      "Optimal solution found (tolerance 1.00e-04)\n",
      "Best objective 3.976698569130e+02, best bound 3.976698569130e+02, gap 0.0000%\n"
     ]
    }
   ],
   "source": [
    "duplicates = False\n",
    "m.solve(fpath, duplicates)"
   ]
  },
  {
   "cell_type": "code",
   "execution_count": 117,
   "metadata": {
    "pycharm": {
     "name": "#%%\n"
    }
   },
   "outputs": [],
   "source": [
    "e, e_flat = create_optimal_edges(m)"
   ]
  },
  {
   "cell_type": "code",
   "execution_count": 118,
   "metadata": {
    "pycharm": {
     "name": "#%%\n"
    }
   },
   "outputs": [
    {
     "data": {
      "application/vnd.plotly.v1+json": {
       "config": {
        "plotlyServerURL": "https://plot.ly"
       },
       "data": [
        {
         "customdata": [
          "d",
          "d",
          "s",
          "s",
          "s",
          "s",
          "s",
          "m",
          "m",
          "m",
          "m",
          "m",
          "m",
          "m",
          "m",
          "m",
          "m",
          "m",
          "m",
          "m",
          "m",
          "m"
         ],
         "hoverinfo": "none",
         "hovertemplate": "<b>%{text}</b>: %{customdata}<br>X: %{x}<br>Y: %{y}",
         "marker": {
          "color": [
           "rgba(191, 243, 180, 0.8)",
           "rgba(191, 243, 180, 0.8)",
           "rgba(167, 215, 241, 0.8)",
           "rgba(167, 215, 241, 0.8)",
           "rgba(167, 215, 241, 0.8)",
           "rgba(167, 215, 241, 0.8)",
           "rgba(167, 215, 241, 0.8)",
           "rgba(240, 169, 171, 0.8)",
           "rgba(240, 169, 171, 0.8)",
           "rgba(240, 169, 171, 0.8)",
           "rgba(240, 169, 171, 0.8)",
           "rgba(240, 169, 171, 0.8)",
           "rgba(240, 169, 171, 0.8)",
           "rgba(240, 169, 171, 0.8)",
           "rgba(240, 169, 171, 0.8)",
           "rgba(240, 169, 171, 0.8)",
           "rgba(240, 169, 171, 0.8)",
           "rgba(240, 169, 171, 0.8)",
           "rgba(240, 169, 171, 0.8)",
           "rgba(240, 169, 171, 0.8)",
           "rgba(240, 169, 171, 0.8)",
           "rgba(240, 169, 171, 0.8)"
          ],
          "size": 25
         },
         "mode": "markers+text",
         "name": "Nodes",
         "showlegend": true,
         "text": [
          "D0",
          "D1",
          "S0",
          "S3",
          "S7",
          "S11",
          "S19",
          "C33",
          "C84",
          "C15",
          "C6",
          "C90",
          "C62",
          "C8",
          "C39",
          "C34",
          "C65",
          "C70",
          "C72",
          "C87",
          "C100",
          "C83"
         ],
         "type": "scatter",
         "x": [
          40,
          40,
          40,
          57,
          21,
          10,
          77,
          85,
          57,
          2,
          18,
          37,
          65,
          15,
          60,
          85,
          35,
          35,
          63,
          12,
          31,
          37
         ],
         "y": [
          50,
          50,
          50,
          82,
          83,
          28,
          30,
          25,
          29,
          40,
          75,
          47,
          35,
          80,
          80,
          35,
          40,
          69,
          65,
          24,
          67,
          31
         ]
        }
       ],
       "layout": {
        "annotations": [
         {
          "arrowcolor": "#888",
          "arrowhead": 5,
          "arrowsize": 1,
          "arrowwidth": 2,
          "ax": 40,
          "axref": "x",
          "ay": 50,
          "ayref": "y",
          "showarrow": true,
          "text": "",
          "x": 40,
          "xref": "x",
          "y": 50,
          "yref": "y"
         },
         {
          "arrowcolor": "#888",
          "arrowhead": 5,
          "arrowsize": 1,
          "arrowwidth": 2,
          "ax": 57,
          "axref": "x",
          "ay": 82,
          "ayref": "y",
          "showarrow": true,
          "text": "",
          "x": 40,
          "xref": "x",
          "y": 50,
          "yref": "y"
         },
         {
          "arrowcolor": "#888",
          "arrowhead": 5,
          "arrowsize": 1,
          "arrowwidth": 2,
          "ax": 57,
          "axref": "x",
          "ay": 29,
          "ayref": "y",
          "showarrow": true,
          "text": "",
          "x": 40,
          "xref": "x",
          "y": 50,
          "yref": "y"
         },
         {
          "arrowcolor": "#888",
          "arrowhead": 5,
          "arrowsize": 1,
          "arrowwidth": 2,
          "ax": 35,
          "axref": "x",
          "ay": 40,
          "ayref": "y",
          "showarrow": true,
          "text": "",
          "x": 40,
          "xref": "x",
          "y": 50,
          "yref": "y"
         },
         {
          "arrowcolor": "#888",
          "arrowhead": 5,
          "arrowsize": 1,
          "arrowwidth": 2,
          "ax": 35,
          "axref": "x",
          "ay": 69,
          "ayref": "y",
          "showarrow": true,
          "text": "",
          "x": 40,
          "xref": "x",
          "y": 50,
          "yref": "y"
         },
         {
          "arrowcolor": "#888",
          "arrowhead": 5,
          "arrowsize": 1,
          "arrowwidth": 2,
          "ax": 60,
          "axref": "x",
          "ay": 80,
          "ayref": "y",
          "showarrow": true,
          "text": "",
          "x": 57,
          "xref": "x",
          "y": 82,
          "yref": "y"
         },
         {
          "arrowcolor": "#888",
          "arrowhead": 5,
          "arrowsize": 1,
          "arrowwidth": 2,
          "ax": 15,
          "axref": "x",
          "ay": 80,
          "ayref": "y",
          "showarrow": true,
          "text": "",
          "x": 21,
          "xref": "x",
          "y": 83,
          "yref": "y"
         },
         {
          "arrowcolor": "#888",
          "arrowhead": 5,
          "arrowsize": 1,
          "arrowwidth": 2,
          "ax": 2,
          "axref": "x",
          "ay": 40,
          "ayref": "y",
          "showarrow": true,
          "text": "",
          "x": 10,
          "xref": "x",
          "y": 28,
          "yref": "y"
         },
         {
          "arrowcolor": "#888",
          "arrowhead": 5,
          "arrowsize": 1,
          "arrowwidth": 2,
          "ax": 85,
          "axref": "x",
          "ay": 25,
          "ayref": "y",
          "showarrow": true,
          "text": "",
          "x": 77,
          "xref": "x",
          "y": 30,
          "yref": "y"
         },
         {
          "arrowcolor": "#888",
          "arrowhead": 5,
          "arrowsize": 1,
          "arrowwidth": 2,
          "ax": 85,
          "axref": "x",
          "ay": 35,
          "ayref": "y",
          "showarrow": true,
          "text": "",
          "x": 85,
          "xref": "x",
          "y": 25,
          "yref": "y"
         },
         {
          "arrowcolor": "#888",
          "arrowhead": 5,
          "arrowsize": 1,
          "arrowwidth": 2,
          "ax": 77,
          "axref": "x",
          "ay": 30,
          "ayref": "y",
          "showarrow": true,
          "text": "",
          "x": 57,
          "xref": "x",
          "y": 29,
          "yref": "y"
         },
         {
          "arrowcolor": "#888",
          "arrowhead": 5,
          "arrowsize": 1,
          "arrowwidth": 2,
          "ax": 40,
          "axref": "x",
          "ay": 50,
          "ayref": "y",
          "showarrow": true,
          "text": "",
          "x": 2,
          "xref": "x",
          "y": 40,
          "yref": "y"
         },
         {
          "arrowcolor": "#888",
          "arrowhead": 5,
          "arrowsize": 1,
          "arrowwidth": 2,
          "ax": 31,
          "axref": "x",
          "ay": 67,
          "ayref": "y",
          "showarrow": true,
          "text": "",
          "x": 18,
          "xref": "x",
          "y": 75,
          "yref": "y"
         },
         {
          "arrowcolor": "#888",
          "arrowhead": 5,
          "arrowsize": 1,
          "arrowwidth": 2,
          "ax": 40,
          "axref": "x",
          "ay": 50,
          "ayref": "y",
          "showarrow": true,
          "text": "",
          "x": 37,
          "xref": "x",
          "y": 47,
          "yref": "y"
         },
         {
          "arrowcolor": "#888",
          "arrowhead": 5,
          "arrowsize": 1,
          "arrowwidth": 2,
          "ax": 40,
          "axref": "x",
          "ay": 50,
          "ayref": "y",
          "showarrow": true,
          "text": "",
          "x": 65,
          "xref": "x",
          "y": 35,
          "yref": "y"
         },
         {
          "arrowcolor": "#888",
          "arrowhead": 5,
          "arrowsize": 1,
          "arrowwidth": 2,
          "ax": 18,
          "axref": "x",
          "ay": 75,
          "ayref": "y",
          "showarrow": true,
          "text": "",
          "x": 15,
          "xref": "x",
          "y": 80,
          "yref": "y"
         },
         {
          "arrowcolor": "#888",
          "arrowhead": 5,
          "arrowsize": 1,
          "arrowwidth": 2,
          "ax": 63,
          "axref": "x",
          "ay": 65,
          "ayref": "y",
          "showarrow": true,
          "text": "",
          "x": 60,
          "xref": "x",
          "y": 80,
          "yref": "y"
         },
         {
          "arrowcolor": "#888",
          "arrowhead": 5,
          "arrowsize": 1,
          "arrowwidth": 2,
          "ax": 65,
          "axref": "x",
          "ay": 35,
          "ayref": "y",
          "showarrow": true,
          "text": "",
          "x": 85,
          "xref": "x",
          "y": 35,
          "yref": "y"
         },
         {
          "arrowcolor": "#888",
          "arrowhead": 5,
          "arrowsize": 1,
          "arrowwidth": 2,
          "ax": 37,
          "axref": "x",
          "ay": 31,
          "ayref": "y",
          "showarrow": true,
          "text": "",
          "x": 35,
          "xref": "x",
          "y": 40,
          "yref": "y"
         },
         {
          "arrowcolor": "#888",
          "arrowhead": 5,
          "arrowsize": 1,
          "arrowwidth": 2,
          "ax": 21,
          "axref": "x",
          "ay": 83,
          "ayref": "y",
          "showarrow": true,
          "text": "",
          "x": 35,
          "xref": "x",
          "y": 69,
          "yref": "y"
         },
         {
          "arrowcolor": "#888",
          "arrowhead": 5,
          "arrowsize": 1,
          "arrowwidth": 2,
          "ax": 37,
          "axref": "x",
          "ay": 47,
          "ayref": "y",
          "showarrow": true,
          "text": "",
          "x": 63,
          "xref": "x",
          "y": 65,
          "yref": "y"
         },
         {
          "arrowcolor": "#888",
          "arrowhead": 5,
          "arrowsize": 1,
          "arrowwidth": 2,
          "ax": 10,
          "axref": "x",
          "ay": 28,
          "ayref": "y",
          "showarrow": true,
          "text": "",
          "x": 12,
          "xref": "x",
          "y": 24,
          "yref": "y"
         },
         {
          "arrowcolor": "#888",
          "arrowhead": 5,
          "arrowsize": 1,
          "arrowwidth": 2,
          "ax": 40,
          "axref": "x",
          "ay": 50,
          "ayref": "y",
          "showarrow": true,
          "text": "",
          "x": 31,
          "xref": "x",
          "y": 67,
          "yref": "y"
         },
         {
          "arrowcolor": "#888",
          "arrowhead": 5,
          "arrowsize": 1,
          "arrowwidth": 2,
          "ax": 12,
          "axref": "x",
          "ay": 24,
          "ayref": "y",
          "showarrow": true,
          "text": "",
          "x": 37,
          "xref": "x",
          "y": 31,
          "yref": "y"
         }
        ],
        "height": 600,
        "showlegend": true,
        "template": {
         "data": {
          "bar": [
           {
            "error_x": {
             "color": "rgb(36,36,36)"
            },
            "error_y": {
             "color": "rgb(36,36,36)"
            },
            "marker": {
             "line": {
              "color": "white",
              "width": 0.5
             }
            },
            "type": "bar"
           }
          ],
          "barpolar": [
           {
            "marker": {
             "line": {
              "color": "white",
              "width": 0.5
             }
            },
            "type": "barpolar"
           }
          ],
          "carpet": [
           {
            "aaxis": {
             "endlinecolor": "rgb(36,36,36)",
             "gridcolor": "white",
             "linecolor": "white",
             "minorgridcolor": "white",
             "startlinecolor": "rgb(36,36,36)"
            },
            "baxis": {
             "endlinecolor": "rgb(36,36,36)",
             "gridcolor": "white",
             "linecolor": "white",
             "minorgridcolor": "white",
             "startlinecolor": "rgb(36,36,36)"
            },
            "type": "carpet"
           }
          ],
          "choropleth": [
           {
            "colorbar": {
             "outlinewidth": 1,
             "tickcolor": "rgb(36,36,36)",
             "ticks": "outside"
            },
            "type": "choropleth"
           }
          ],
          "contour": [
           {
            "colorbar": {
             "outlinewidth": 1,
             "tickcolor": "rgb(36,36,36)",
             "ticks": "outside"
            },
            "colorscale": [
             [
              0,
              "#440154"
             ],
             [
              0.1111111111111111,
              "#482878"
             ],
             [
              0.2222222222222222,
              "#3e4989"
             ],
             [
              0.3333333333333333,
              "#31688e"
             ],
             [
              0.4444444444444444,
              "#26828e"
             ],
             [
              0.5555555555555556,
              "#1f9e89"
             ],
             [
              0.6666666666666666,
              "#35b779"
             ],
             [
              0.7777777777777778,
              "#6ece58"
             ],
             [
              0.8888888888888888,
              "#b5de2b"
             ],
             [
              1,
              "#fde725"
             ]
            ],
            "type": "contour"
           }
          ],
          "contourcarpet": [
           {
            "colorbar": {
             "outlinewidth": 1,
             "tickcolor": "rgb(36,36,36)",
             "ticks": "outside"
            },
            "type": "contourcarpet"
           }
          ],
          "heatmap": [
           {
            "colorbar": {
             "outlinewidth": 1,
             "tickcolor": "rgb(36,36,36)",
             "ticks": "outside"
            },
            "colorscale": [
             [
              0,
              "#440154"
             ],
             [
              0.1111111111111111,
              "#482878"
             ],
             [
              0.2222222222222222,
              "#3e4989"
             ],
             [
              0.3333333333333333,
              "#31688e"
             ],
             [
              0.4444444444444444,
              "#26828e"
             ],
             [
              0.5555555555555556,
              "#1f9e89"
             ],
             [
              0.6666666666666666,
              "#35b779"
             ],
             [
              0.7777777777777778,
              "#6ece58"
             ],
             [
              0.8888888888888888,
              "#b5de2b"
             ],
             [
              1,
              "#fde725"
             ]
            ],
            "type": "heatmap"
           }
          ],
          "heatmapgl": [
           {
            "colorbar": {
             "outlinewidth": 1,
             "tickcolor": "rgb(36,36,36)",
             "ticks": "outside"
            },
            "colorscale": [
             [
              0,
              "#440154"
             ],
             [
              0.1111111111111111,
              "#482878"
             ],
             [
              0.2222222222222222,
              "#3e4989"
             ],
             [
              0.3333333333333333,
              "#31688e"
             ],
             [
              0.4444444444444444,
              "#26828e"
             ],
             [
              0.5555555555555556,
              "#1f9e89"
             ],
             [
              0.6666666666666666,
              "#35b779"
             ],
             [
              0.7777777777777778,
              "#6ece58"
             ],
             [
              0.8888888888888888,
              "#b5de2b"
             ],
             [
              1,
              "#fde725"
             ]
            ],
            "type": "heatmapgl"
           }
          ],
          "histogram": [
           {
            "marker": {
             "line": {
              "color": "white",
              "width": 0.6
             }
            },
            "type": "histogram"
           }
          ],
          "histogram2d": [
           {
            "colorbar": {
             "outlinewidth": 1,
             "tickcolor": "rgb(36,36,36)",
             "ticks": "outside"
            },
            "colorscale": [
             [
              0,
              "#440154"
             ],
             [
              0.1111111111111111,
              "#482878"
             ],
             [
              0.2222222222222222,
              "#3e4989"
             ],
             [
              0.3333333333333333,
              "#31688e"
             ],
             [
              0.4444444444444444,
              "#26828e"
             ],
             [
              0.5555555555555556,
              "#1f9e89"
             ],
             [
              0.6666666666666666,
              "#35b779"
             ],
             [
              0.7777777777777778,
              "#6ece58"
             ],
             [
              0.8888888888888888,
              "#b5de2b"
             ],
             [
              1,
              "#fde725"
             ]
            ],
            "type": "histogram2d"
           }
          ],
          "histogram2dcontour": [
           {
            "colorbar": {
             "outlinewidth": 1,
             "tickcolor": "rgb(36,36,36)",
             "ticks": "outside"
            },
            "colorscale": [
             [
              0,
              "#440154"
             ],
             [
              0.1111111111111111,
              "#482878"
             ],
             [
              0.2222222222222222,
              "#3e4989"
             ],
             [
              0.3333333333333333,
              "#31688e"
             ],
             [
              0.4444444444444444,
              "#26828e"
             ],
             [
              0.5555555555555556,
              "#1f9e89"
             ],
             [
              0.6666666666666666,
              "#35b779"
             ],
             [
              0.7777777777777778,
              "#6ece58"
             ],
             [
              0.8888888888888888,
              "#b5de2b"
             ],
             [
              1,
              "#fde725"
             ]
            ],
            "type": "histogram2dcontour"
           }
          ],
          "mesh3d": [
           {
            "colorbar": {
             "outlinewidth": 1,
             "tickcolor": "rgb(36,36,36)",
             "ticks": "outside"
            },
            "type": "mesh3d"
           }
          ],
          "parcoords": [
           {
            "line": {
             "colorbar": {
              "outlinewidth": 1,
              "tickcolor": "rgb(36,36,36)",
              "ticks": "outside"
             }
            },
            "type": "parcoords"
           }
          ],
          "pie": [
           {
            "automargin": true,
            "type": "pie"
           }
          ],
          "scatter": [
           {
            "marker": {
             "colorbar": {
              "outlinewidth": 1,
              "tickcolor": "rgb(36,36,36)",
              "ticks": "outside"
             }
            },
            "type": "scatter"
           }
          ],
          "scatter3d": [
           {
            "line": {
             "colorbar": {
              "outlinewidth": 1,
              "tickcolor": "rgb(36,36,36)",
              "ticks": "outside"
             }
            },
            "marker": {
             "colorbar": {
              "outlinewidth": 1,
              "tickcolor": "rgb(36,36,36)",
              "ticks": "outside"
             }
            },
            "type": "scatter3d"
           }
          ],
          "scattercarpet": [
           {
            "marker": {
             "colorbar": {
              "outlinewidth": 1,
              "tickcolor": "rgb(36,36,36)",
              "ticks": "outside"
             }
            },
            "type": "scattercarpet"
           }
          ],
          "scattergeo": [
           {
            "marker": {
             "colorbar": {
              "outlinewidth": 1,
              "tickcolor": "rgb(36,36,36)",
              "ticks": "outside"
             }
            },
            "type": "scattergeo"
           }
          ],
          "scattergl": [
           {
            "marker": {
             "colorbar": {
              "outlinewidth": 1,
              "tickcolor": "rgb(36,36,36)",
              "ticks": "outside"
             }
            },
            "type": "scattergl"
           }
          ],
          "scattermapbox": [
           {
            "marker": {
             "colorbar": {
              "outlinewidth": 1,
              "tickcolor": "rgb(36,36,36)",
              "ticks": "outside"
             }
            },
            "type": "scattermapbox"
           }
          ],
          "scatterpolar": [
           {
            "marker": {
             "colorbar": {
              "outlinewidth": 1,
              "tickcolor": "rgb(36,36,36)",
              "ticks": "outside"
             }
            },
            "type": "scatterpolar"
           }
          ],
          "scatterpolargl": [
           {
            "marker": {
             "colorbar": {
              "outlinewidth": 1,
              "tickcolor": "rgb(36,36,36)",
              "ticks": "outside"
             }
            },
            "type": "scatterpolargl"
           }
          ],
          "scatterternary": [
           {
            "marker": {
             "colorbar": {
              "outlinewidth": 1,
              "tickcolor": "rgb(36,36,36)",
              "ticks": "outside"
             }
            },
            "type": "scatterternary"
           }
          ],
          "surface": [
           {
            "colorbar": {
             "outlinewidth": 1,
             "tickcolor": "rgb(36,36,36)",
             "ticks": "outside"
            },
            "colorscale": [
             [
              0,
              "#440154"
             ],
             [
              0.1111111111111111,
              "#482878"
             ],
             [
              0.2222222222222222,
              "#3e4989"
             ],
             [
              0.3333333333333333,
              "#31688e"
             ],
             [
              0.4444444444444444,
              "#26828e"
             ],
             [
              0.5555555555555556,
              "#1f9e89"
             ],
             [
              0.6666666666666666,
              "#35b779"
             ],
             [
              0.7777777777777778,
              "#6ece58"
             ],
             [
              0.8888888888888888,
              "#b5de2b"
             ],
             [
              1,
              "#fde725"
             ]
            ],
            "type": "surface"
           }
          ],
          "table": [
           {
            "cells": {
             "fill": {
              "color": "rgb(237,237,237)"
             },
             "line": {
              "color": "white"
             }
            },
            "header": {
             "fill": {
              "color": "rgb(217,217,217)"
             },
             "line": {
              "color": "white"
             }
            },
            "type": "table"
           }
          ]
         },
         "layout": {
          "annotationdefaults": {
           "arrowhead": 0,
           "arrowwidth": 1
          },
          "coloraxis": {
           "colorbar": {
            "outlinewidth": 1,
            "tickcolor": "rgb(36,36,36)",
            "ticks": "outside"
           }
          },
          "colorscale": {
           "diverging": [
            [
             0,
             "rgb(103,0,31)"
            ],
            [
             0.1,
             "rgb(178,24,43)"
            ],
            [
             0.2,
             "rgb(214,96,77)"
            ],
            [
             0.3,
             "rgb(244,165,130)"
            ],
            [
             0.4,
             "rgb(253,219,199)"
            ],
            [
             0.5,
             "rgb(247,247,247)"
            ],
            [
             0.6,
             "rgb(209,229,240)"
            ],
            [
             0.7,
             "rgb(146,197,222)"
            ],
            [
             0.8,
             "rgb(67,147,195)"
            ],
            [
             0.9,
             "rgb(33,102,172)"
            ],
            [
             1,
             "rgb(5,48,97)"
            ]
           ],
           "sequential": [
            [
             0,
             "#440154"
            ],
            [
             0.1111111111111111,
             "#482878"
            ],
            [
             0.2222222222222222,
             "#3e4989"
            ],
            [
             0.3333333333333333,
             "#31688e"
            ],
            [
             0.4444444444444444,
             "#26828e"
            ],
            [
             0.5555555555555556,
             "#1f9e89"
            ],
            [
             0.6666666666666666,
             "#35b779"
            ],
            [
             0.7777777777777778,
             "#6ece58"
            ],
            [
             0.8888888888888888,
             "#b5de2b"
            ],
            [
             1,
             "#fde725"
            ]
           ],
           "sequentialminus": [
            [
             0,
             "#440154"
            ],
            [
             0.1111111111111111,
             "#482878"
            ],
            [
             0.2222222222222222,
             "#3e4989"
            ],
            [
             0.3333333333333333,
             "#31688e"
            ],
            [
             0.4444444444444444,
             "#26828e"
            ],
            [
             0.5555555555555556,
             "#1f9e89"
            ],
            [
             0.6666666666666666,
             "#35b779"
            ],
            [
             0.7777777777777778,
             "#6ece58"
            ],
            [
             0.8888888888888888,
             "#b5de2b"
            ],
            [
             1,
             "#fde725"
            ]
           ]
          },
          "colorway": [
           "#1F77B4",
           "#FF7F0E",
           "#2CA02C",
           "#D62728",
           "#9467BD",
           "#8C564B",
           "#E377C2",
           "#7F7F7F",
           "#BCBD22",
           "#17BECF"
          ],
          "font": {
           "color": "rgb(36,36,36)"
          },
          "geo": {
           "bgcolor": "white",
           "lakecolor": "white",
           "landcolor": "white",
           "showlakes": true,
           "showland": true,
           "subunitcolor": "white"
          },
          "hoverlabel": {
           "align": "left"
          },
          "hovermode": "closest",
          "mapbox": {
           "style": "light"
          },
          "paper_bgcolor": "white",
          "plot_bgcolor": "white",
          "polar": {
           "angularaxis": {
            "gridcolor": "rgb(232,232,232)",
            "linecolor": "rgb(36,36,36)",
            "showgrid": false,
            "showline": true,
            "ticks": "outside"
           },
           "bgcolor": "white",
           "radialaxis": {
            "gridcolor": "rgb(232,232,232)",
            "linecolor": "rgb(36,36,36)",
            "showgrid": false,
            "showline": true,
            "ticks": "outside"
           }
          },
          "scene": {
           "xaxis": {
            "backgroundcolor": "white",
            "gridcolor": "rgb(232,232,232)",
            "gridwidth": 2,
            "linecolor": "rgb(36,36,36)",
            "showbackground": true,
            "showgrid": false,
            "showline": true,
            "ticks": "outside",
            "zeroline": false,
            "zerolinecolor": "rgb(36,36,36)"
           },
           "yaxis": {
            "backgroundcolor": "white",
            "gridcolor": "rgb(232,232,232)",
            "gridwidth": 2,
            "linecolor": "rgb(36,36,36)",
            "showbackground": true,
            "showgrid": false,
            "showline": true,
            "ticks": "outside",
            "zeroline": false,
            "zerolinecolor": "rgb(36,36,36)"
           },
           "zaxis": {
            "backgroundcolor": "white",
            "gridcolor": "rgb(232,232,232)",
            "gridwidth": 2,
            "linecolor": "rgb(36,36,36)",
            "showbackground": true,
            "showgrid": false,
            "showline": true,
            "ticks": "outside",
            "zeroline": false,
            "zerolinecolor": "rgb(36,36,36)"
           }
          },
          "shapedefaults": {
           "fillcolor": "black",
           "line": {
            "width": 0
           },
           "opacity": 0.3
          },
          "ternary": {
           "aaxis": {
            "gridcolor": "rgb(232,232,232)",
            "linecolor": "rgb(36,36,36)",
            "showgrid": false,
            "showline": true,
            "ticks": "outside"
           },
           "baxis": {
            "gridcolor": "rgb(232,232,232)",
            "linecolor": "rgb(36,36,36)",
            "showgrid": false,
            "showline": true,
            "ticks": "outside"
           },
           "bgcolor": "white",
           "caxis": {
            "gridcolor": "rgb(232,232,232)",
            "linecolor": "rgb(36,36,36)",
            "showgrid": false,
            "showline": true,
            "ticks": "outside"
           }
          },
          "title": {
           "x": 0.05
          },
          "xaxis": {
           "automargin": true,
           "gridcolor": "rgb(232,232,232)",
           "linecolor": "rgb(36,36,36)",
           "showgrid": false,
           "showline": true,
           "ticks": "outside",
           "title": {
            "standoff": 15
           },
           "zeroline": false,
           "zerolinecolor": "rgb(36,36,36)"
          },
          "yaxis": {
           "automargin": true,
           "gridcolor": "rgb(232,232,232)",
           "linecolor": "rgb(36,36,36)",
           "showgrid": false,
           "showline": true,
           "ticks": "outside",
           "title": {
            "standoff": 15
           },
           "zeroline": false,
           "zerolinecolor": "rgb(36,36,36)"
          }
         }
        },
        "title": {
         "text": "rc103C15 - Objective: 397.67"
        },
        "xaxis": {
         "anchor": "y",
         "constrain": "domain",
         "domain": [
          0,
          1
         ],
         "mirror": true,
         "range": [
          0,
          93.50000000000001
         ],
         "showline": true,
         "ticks": "outside",
         "title": {
          "text": "x"
         }
        },
        "yaxis": {
         "anchor": "x",
         "domain": [
          0,
          1
         ],
         "mirror": true,
         "range": [
          0,
          91.30000000000001
         ],
         "scaleanchor": "x",
         "scaleratio": 1,
         "showline": true,
         "ticks": "outside",
         "title": {
          "text": "y"
         }
        }
       }
      },
      "text/html": [
       "<div>                            <div id=\"4ca175cf-1d28-4797-9d71-53d14859fdbb\" class=\"plotly-graph-div\" style=\"height:600px; width:100%;\"></div>            <script type=\"text/javascript\">                require([\"plotly\"], function(Plotly) {                    window.PLOTLYENV=window.PLOTLYENV || {};                                    if (document.getElementById(\"4ca175cf-1d28-4797-9d71-53d14859fdbb\")) {                    Plotly.newPlot(                        \"4ca175cf-1d28-4797-9d71-53d14859fdbb\",                        [{\"customdata\": [\"d\", \"d\", \"s\", \"s\", \"s\", \"s\", \"s\", \"m\", \"m\", \"m\", \"m\", \"m\", \"m\", \"m\", \"m\", \"m\", \"m\", \"m\", \"m\", \"m\", \"m\", \"m\"], \"hoverinfo\": \"none\", \"hovertemplate\": \"<b>%{text}</b>: %{customdata}<br>X: %{x}<br>Y: %{y}\", \"marker\": {\"color\": [\"rgba(191, 243, 180, 0.8)\", \"rgba(191, 243, 180, 0.8)\", \"rgba(167, 215, 241, 0.8)\", \"rgba(167, 215, 241, 0.8)\", \"rgba(167, 215, 241, 0.8)\", \"rgba(167, 215, 241, 0.8)\", \"rgba(167, 215, 241, 0.8)\", \"rgba(240, 169, 171, 0.8)\", \"rgba(240, 169, 171, 0.8)\", \"rgba(240, 169, 171, 0.8)\", \"rgba(240, 169, 171, 0.8)\", \"rgba(240, 169, 171, 0.8)\", \"rgba(240, 169, 171, 0.8)\", \"rgba(240, 169, 171, 0.8)\", \"rgba(240, 169, 171, 0.8)\", \"rgba(240, 169, 171, 0.8)\", \"rgba(240, 169, 171, 0.8)\", \"rgba(240, 169, 171, 0.8)\", \"rgba(240, 169, 171, 0.8)\", \"rgba(240, 169, 171, 0.8)\", \"rgba(240, 169, 171, 0.8)\", \"rgba(240, 169, 171, 0.8)\"], \"size\": 25}, \"mode\": \"markers+text\", \"name\": \"Nodes\", \"showlegend\": true, \"text\": [\"D0\", \"D1\", \"S0\", \"S3\", \"S7\", \"S11\", \"S19\", \"C33\", \"C84\", \"C15\", \"C6\", \"C90\", \"C62\", \"C8\", \"C39\", \"C34\", \"C65\", \"C70\", \"C72\", \"C87\", \"C100\", \"C83\"], \"type\": \"scatter\", \"x\": [40, 40, 40, 57, 21, 10, 77, 85, 57, 2, 18, 37, 65, 15, 60, 85, 35, 35, 63, 12, 31, 37], \"y\": [50, 50, 50, 82, 83, 28, 30, 25, 29, 40, 75, 47, 35, 80, 80, 35, 40, 69, 65, 24, 67, 31]}],                        {\"annotations\": [{\"arrowcolor\": \"#888\", \"arrowhead\": 5, \"arrowsize\": 1, \"arrowwidth\": 2, \"ax\": 40, \"axref\": \"x\", \"ay\": 50, \"ayref\": \"y\", \"showarrow\": true, \"text\": \"\", \"x\": 40, \"xref\": \"x\", \"y\": 50, \"yref\": \"y\"}, {\"arrowcolor\": \"#888\", \"arrowhead\": 5, \"arrowsize\": 1, \"arrowwidth\": 2, \"ax\": 57, \"axref\": \"x\", \"ay\": 82, \"ayref\": \"y\", \"showarrow\": true, \"text\": \"\", \"x\": 40, \"xref\": \"x\", \"y\": 50, \"yref\": \"y\"}, {\"arrowcolor\": \"#888\", \"arrowhead\": 5, \"arrowsize\": 1, \"arrowwidth\": 2, \"ax\": 57, \"axref\": \"x\", \"ay\": 29, \"ayref\": \"y\", \"showarrow\": true, \"text\": \"\", \"x\": 40, \"xref\": \"x\", \"y\": 50, \"yref\": \"y\"}, {\"arrowcolor\": \"#888\", \"arrowhead\": 5, \"arrowsize\": 1, \"arrowwidth\": 2, \"ax\": 35, \"axref\": \"x\", \"ay\": 40, \"ayref\": \"y\", \"showarrow\": true, \"text\": \"\", \"x\": 40, \"xref\": \"x\", \"y\": 50, \"yref\": \"y\"}, {\"arrowcolor\": \"#888\", \"arrowhead\": 5, \"arrowsize\": 1, \"arrowwidth\": 2, \"ax\": 35, \"axref\": \"x\", \"ay\": 69, \"ayref\": \"y\", \"showarrow\": true, \"text\": \"\", \"x\": 40, \"xref\": \"x\", \"y\": 50, \"yref\": \"y\"}, {\"arrowcolor\": \"#888\", \"arrowhead\": 5, \"arrowsize\": 1, \"arrowwidth\": 2, \"ax\": 60, \"axref\": \"x\", \"ay\": 80, \"ayref\": \"y\", \"showarrow\": true, \"text\": \"\", \"x\": 57, \"xref\": \"x\", \"y\": 82, \"yref\": \"y\"}, {\"arrowcolor\": \"#888\", \"arrowhead\": 5, \"arrowsize\": 1, \"arrowwidth\": 2, \"ax\": 15, \"axref\": \"x\", \"ay\": 80, \"ayref\": \"y\", \"showarrow\": true, \"text\": \"\", \"x\": 21, \"xref\": \"x\", \"y\": 83, \"yref\": \"y\"}, {\"arrowcolor\": \"#888\", \"arrowhead\": 5, \"arrowsize\": 1, \"arrowwidth\": 2, \"ax\": 2, \"axref\": \"x\", \"ay\": 40, \"ayref\": \"y\", \"showarrow\": true, \"text\": \"\", \"x\": 10, \"xref\": \"x\", \"y\": 28, \"yref\": \"y\"}, {\"arrowcolor\": \"#888\", \"arrowhead\": 5, \"arrowsize\": 1, \"arrowwidth\": 2, \"ax\": 85, \"axref\": \"x\", \"ay\": 25, \"ayref\": \"y\", \"showarrow\": true, \"text\": \"\", \"x\": 77, \"xref\": \"x\", \"y\": 30, \"yref\": \"y\"}, {\"arrowcolor\": \"#888\", \"arrowhead\": 5, \"arrowsize\": 1, \"arrowwidth\": 2, \"ax\": 85, \"axref\": \"x\", \"ay\": 35, \"ayref\": \"y\", \"showarrow\": true, \"text\": \"\", \"x\": 85, \"xref\": \"x\", \"y\": 25, \"yref\": \"y\"}, {\"arrowcolor\": \"#888\", \"arrowhead\": 5, \"arrowsize\": 1, \"arrowwidth\": 2, \"ax\": 77, \"axref\": \"x\", \"ay\": 30, \"ayref\": \"y\", \"showarrow\": true, \"text\": \"\", \"x\": 57, \"xref\": \"x\", \"y\": 29, \"yref\": \"y\"}, {\"arrowcolor\": \"#888\", \"arrowhead\": 5, \"arrowsize\": 1, \"arrowwidth\": 2, \"ax\": 40, \"axref\": \"x\", \"ay\": 50, \"ayref\": \"y\", \"showarrow\": true, \"text\": \"\", \"x\": 2, \"xref\": \"x\", \"y\": 40, \"yref\": \"y\"}, {\"arrowcolor\": \"#888\", \"arrowhead\": 5, \"arrowsize\": 1, \"arrowwidth\": 2, \"ax\": 31, \"axref\": \"x\", \"ay\": 67, \"ayref\": \"y\", \"showarrow\": true, \"text\": \"\", \"x\": 18, \"xref\": \"x\", \"y\": 75, \"yref\": \"y\"}, {\"arrowcolor\": \"#888\", \"arrowhead\": 5, \"arrowsize\": 1, \"arrowwidth\": 2, \"ax\": 40, \"axref\": \"x\", \"ay\": 50, \"ayref\": \"y\", \"showarrow\": true, \"text\": \"\", \"x\": 37, \"xref\": \"x\", \"y\": 47, \"yref\": \"y\"}, {\"arrowcolor\": \"#888\", \"arrowhead\": 5, \"arrowsize\": 1, \"arrowwidth\": 2, \"ax\": 40, \"axref\": \"x\", \"ay\": 50, \"ayref\": \"y\", \"showarrow\": true, \"text\": \"\", \"x\": 65, \"xref\": \"x\", \"y\": 35, \"yref\": \"y\"}, {\"arrowcolor\": \"#888\", \"arrowhead\": 5, \"arrowsize\": 1, \"arrowwidth\": 2, \"ax\": 18, \"axref\": \"x\", \"ay\": 75, \"ayref\": \"y\", \"showarrow\": true, \"text\": \"\", \"x\": 15, \"xref\": \"x\", \"y\": 80, \"yref\": \"y\"}, {\"arrowcolor\": \"#888\", \"arrowhead\": 5, \"arrowsize\": 1, \"arrowwidth\": 2, \"ax\": 63, \"axref\": \"x\", \"ay\": 65, \"ayref\": \"y\", \"showarrow\": true, \"text\": \"\", \"x\": 60, \"xref\": \"x\", \"y\": 80, \"yref\": \"y\"}, {\"arrowcolor\": \"#888\", \"arrowhead\": 5, \"arrowsize\": 1, \"arrowwidth\": 2, \"ax\": 65, \"axref\": \"x\", \"ay\": 35, \"ayref\": \"y\", \"showarrow\": true, \"text\": \"\", \"x\": 85, \"xref\": \"x\", \"y\": 35, \"yref\": \"y\"}, {\"arrowcolor\": \"#888\", \"arrowhead\": 5, \"arrowsize\": 1, \"arrowwidth\": 2, \"ax\": 37, \"axref\": \"x\", \"ay\": 31, \"ayref\": \"y\", \"showarrow\": true, \"text\": \"\", \"x\": 35, \"xref\": \"x\", \"y\": 40, \"yref\": \"y\"}, {\"arrowcolor\": \"#888\", \"arrowhead\": 5, \"arrowsize\": 1, \"arrowwidth\": 2, \"ax\": 21, \"axref\": \"x\", \"ay\": 83, \"ayref\": \"y\", \"showarrow\": true, \"text\": \"\", \"x\": 35, \"xref\": \"x\", \"y\": 69, \"yref\": \"y\"}, {\"arrowcolor\": \"#888\", \"arrowhead\": 5, \"arrowsize\": 1, \"arrowwidth\": 2, \"ax\": 37, \"axref\": \"x\", \"ay\": 47, \"ayref\": \"y\", \"showarrow\": true, \"text\": \"\", \"x\": 63, \"xref\": \"x\", \"y\": 65, \"yref\": \"y\"}, {\"arrowcolor\": \"#888\", \"arrowhead\": 5, \"arrowsize\": 1, \"arrowwidth\": 2, \"ax\": 10, \"axref\": \"x\", \"ay\": 28, \"ayref\": \"y\", \"showarrow\": true, \"text\": \"\", \"x\": 12, \"xref\": \"x\", \"y\": 24, \"yref\": \"y\"}, {\"arrowcolor\": \"#888\", \"arrowhead\": 5, \"arrowsize\": 1, \"arrowwidth\": 2, \"ax\": 40, \"axref\": \"x\", \"ay\": 50, \"ayref\": \"y\", \"showarrow\": true, \"text\": \"\", \"x\": 31, \"xref\": \"x\", \"y\": 67, \"yref\": \"y\"}, {\"arrowcolor\": \"#888\", \"arrowhead\": 5, \"arrowsize\": 1, \"arrowwidth\": 2, \"ax\": 12, \"axref\": \"x\", \"ay\": 24, \"ayref\": \"y\", \"showarrow\": true, \"text\": \"\", \"x\": 37, \"xref\": \"x\", \"y\": 31, \"yref\": \"y\"}], \"height\": 600, \"showlegend\": true, \"template\": {\"data\": {\"bar\": [{\"error_x\": {\"color\": \"rgb(36,36,36)\"}, \"error_y\": {\"color\": \"rgb(36,36,36)\"}, \"marker\": {\"line\": {\"color\": \"white\", \"width\": 0.5}}, \"type\": \"bar\"}], \"barpolar\": [{\"marker\": {\"line\": {\"color\": \"white\", \"width\": 0.5}}, \"type\": \"barpolar\"}], \"carpet\": [{\"aaxis\": {\"endlinecolor\": \"rgb(36,36,36)\", \"gridcolor\": \"white\", \"linecolor\": \"white\", \"minorgridcolor\": \"white\", \"startlinecolor\": \"rgb(36,36,36)\"}, \"baxis\": {\"endlinecolor\": \"rgb(36,36,36)\", \"gridcolor\": \"white\", \"linecolor\": \"white\", \"minorgridcolor\": \"white\", \"startlinecolor\": \"rgb(36,36,36)\"}, \"type\": \"carpet\"}], \"choropleth\": [{\"colorbar\": {\"outlinewidth\": 1, \"tickcolor\": \"rgb(36,36,36)\", \"ticks\": \"outside\"}, \"type\": \"choropleth\"}], \"contour\": [{\"colorbar\": {\"outlinewidth\": 1, \"tickcolor\": \"rgb(36,36,36)\", \"ticks\": \"outside\"}, \"colorscale\": [[0.0, \"#440154\"], [0.1111111111111111, \"#482878\"], [0.2222222222222222, \"#3e4989\"], [0.3333333333333333, \"#31688e\"], [0.4444444444444444, \"#26828e\"], [0.5555555555555556, \"#1f9e89\"], [0.6666666666666666, \"#35b779\"], [0.7777777777777778, \"#6ece58\"], [0.8888888888888888, \"#b5de2b\"], [1.0, \"#fde725\"]], \"type\": \"contour\"}], \"contourcarpet\": [{\"colorbar\": {\"outlinewidth\": 1, \"tickcolor\": \"rgb(36,36,36)\", \"ticks\": \"outside\"}, \"type\": \"contourcarpet\"}], \"heatmap\": [{\"colorbar\": {\"outlinewidth\": 1, \"tickcolor\": \"rgb(36,36,36)\", \"ticks\": \"outside\"}, \"colorscale\": [[0.0, \"#440154\"], [0.1111111111111111, \"#482878\"], [0.2222222222222222, \"#3e4989\"], [0.3333333333333333, \"#31688e\"], [0.4444444444444444, \"#26828e\"], [0.5555555555555556, \"#1f9e89\"], [0.6666666666666666, \"#35b779\"], [0.7777777777777778, \"#6ece58\"], [0.8888888888888888, \"#b5de2b\"], [1.0, \"#fde725\"]], \"type\": \"heatmap\"}], \"heatmapgl\": [{\"colorbar\": {\"outlinewidth\": 1, \"tickcolor\": \"rgb(36,36,36)\", \"ticks\": \"outside\"}, \"colorscale\": [[0.0, \"#440154\"], [0.1111111111111111, \"#482878\"], [0.2222222222222222, \"#3e4989\"], [0.3333333333333333, \"#31688e\"], [0.4444444444444444, \"#26828e\"], [0.5555555555555556, \"#1f9e89\"], [0.6666666666666666, \"#35b779\"], [0.7777777777777778, \"#6ece58\"], [0.8888888888888888, \"#b5de2b\"], [1.0, \"#fde725\"]], \"type\": \"heatmapgl\"}], \"histogram\": [{\"marker\": {\"line\": {\"color\": \"white\", \"width\": 0.6}}, \"type\": \"histogram\"}], \"histogram2d\": [{\"colorbar\": {\"outlinewidth\": 1, \"tickcolor\": \"rgb(36,36,36)\", \"ticks\": \"outside\"}, \"colorscale\": [[0.0, \"#440154\"], [0.1111111111111111, \"#482878\"], [0.2222222222222222, \"#3e4989\"], [0.3333333333333333, \"#31688e\"], [0.4444444444444444, \"#26828e\"], [0.5555555555555556, \"#1f9e89\"], [0.6666666666666666, \"#35b779\"], [0.7777777777777778, \"#6ece58\"], [0.8888888888888888, \"#b5de2b\"], [1.0, \"#fde725\"]], \"type\": \"histogram2d\"}], \"histogram2dcontour\": [{\"colorbar\": {\"outlinewidth\": 1, \"tickcolor\": \"rgb(36,36,36)\", \"ticks\": \"outside\"}, \"colorscale\": [[0.0, \"#440154\"], [0.1111111111111111, \"#482878\"], [0.2222222222222222, \"#3e4989\"], [0.3333333333333333, \"#31688e\"], [0.4444444444444444, \"#26828e\"], [0.5555555555555556, \"#1f9e89\"], [0.6666666666666666, \"#35b779\"], [0.7777777777777778, \"#6ece58\"], [0.8888888888888888, \"#b5de2b\"], [1.0, \"#fde725\"]], \"type\": \"histogram2dcontour\"}], \"mesh3d\": [{\"colorbar\": {\"outlinewidth\": 1, \"tickcolor\": \"rgb(36,36,36)\", \"ticks\": \"outside\"}, \"type\": \"mesh3d\"}], \"parcoords\": [{\"line\": {\"colorbar\": {\"outlinewidth\": 1, \"tickcolor\": \"rgb(36,36,36)\", \"ticks\": \"outside\"}}, \"type\": \"parcoords\"}], \"pie\": [{\"automargin\": true, \"type\": \"pie\"}], \"scatter\": [{\"marker\": {\"colorbar\": {\"outlinewidth\": 1, \"tickcolor\": \"rgb(36,36,36)\", \"ticks\": \"outside\"}}, \"type\": \"scatter\"}], \"scatter3d\": [{\"line\": {\"colorbar\": {\"outlinewidth\": 1, \"tickcolor\": \"rgb(36,36,36)\", \"ticks\": \"outside\"}}, \"marker\": {\"colorbar\": {\"outlinewidth\": 1, \"tickcolor\": \"rgb(36,36,36)\", \"ticks\": \"outside\"}}, \"type\": \"scatter3d\"}], \"scattercarpet\": [{\"marker\": {\"colorbar\": {\"outlinewidth\": 1, \"tickcolor\": \"rgb(36,36,36)\", \"ticks\": \"outside\"}}, \"type\": \"scattercarpet\"}], \"scattergeo\": [{\"marker\": {\"colorbar\": {\"outlinewidth\": 1, \"tickcolor\": \"rgb(36,36,36)\", \"ticks\": \"outside\"}}, \"type\": \"scattergeo\"}], \"scattergl\": [{\"marker\": {\"colorbar\": {\"outlinewidth\": 1, \"tickcolor\": \"rgb(36,36,36)\", \"ticks\": \"outside\"}}, \"type\": \"scattergl\"}], \"scattermapbox\": [{\"marker\": {\"colorbar\": {\"outlinewidth\": 1, \"tickcolor\": \"rgb(36,36,36)\", \"ticks\": \"outside\"}}, \"type\": \"scattermapbox\"}], \"scatterpolar\": [{\"marker\": {\"colorbar\": {\"outlinewidth\": 1, \"tickcolor\": \"rgb(36,36,36)\", \"ticks\": \"outside\"}}, \"type\": \"scatterpolar\"}], \"scatterpolargl\": [{\"marker\": {\"colorbar\": {\"outlinewidth\": 1, \"tickcolor\": \"rgb(36,36,36)\", \"ticks\": \"outside\"}}, \"type\": \"scatterpolargl\"}], \"scatterternary\": [{\"marker\": {\"colorbar\": {\"outlinewidth\": 1, \"tickcolor\": \"rgb(36,36,36)\", \"ticks\": \"outside\"}}, \"type\": \"scatterternary\"}], \"surface\": [{\"colorbar\": {\"outlinewidth\": 1, \"tickcolor\": \"rgb(36,36,36)\", \"ticks\": \"outside\"}, \"colorscale\": [[0.0, \"#440154\"], [0.1111111111111111, \"#482878\"], [0.2222222222222222, \"#3e4989\"], [0.3333333333333333, \"#31688e\"], [0.4444444444444444, \"#26828e\"], [0.5555555555555556, \"#1f9e89\"], [0.6666666666666666, \"#35b779\"], [0.7777777777777778, \"#6ece58\"], [0.8888888888888888, \"#b5de2b\"], [1.0, \"#fde725\"]], \"type\": \"surface\"}], \"table\": [{\"cells\": {\"fill\": {\"color\": \"rgb(237,237,237)\"}, \"line\": {\"color\": \"white\"}}, \"header\": {\"fill\": {\"color\": \"rgb(217,217,217)\"}, \"line\": {\"color\": \"white\"}}, \"type\": \"table\"}]}, \"layout\": {\"annotationdefaults\": {\"arrowhead\": 0, \"arrowwidth\": 1}, \"coloraxis\": {\"colorbar\": {\"outlinewidth\": 1, \"tickcolor\": \"rgb(36,36,36)\", \"ticks\": \"outside\"}}, \"colorscale\": {\"diverging\": [[0.0, \"rgb(103,0,31)\"], [0.1, \"rgb(178,24,43)\"], [0.2, \"rgb(214,96,77)\"], [0.3, \"rgb(244,165,130)\"], [0.4, \"rgb(253,219,199)\"], [0.5, \"rgb(247,247,247)\"], [0.6, \"rgb(209,229,240)\"], [0.7, \"rgb(146,197,222)\"], [0.8, \"rgb(67,147,195)\"], [0.9, \"rgb(33,102,172)\"], [1.0, \"rgb(5,48,97)\"]], \"sequential\": [[0.0, \"#440154\"], [0.1111111111111111, \"#482878\"], [0.2222222222222222, \"#3e4989\"], [0.3333333333333333, \"#31688e\"], [0.4444444444444444, \"#26828e\"], [0.5555555555555556, \"#1f9e89\"], [0.6666666666666666, \"#35b779\"], [0.7777777777777778, \"#6ece58\"], [0.8888888888888888, \"#b5de2b\"], [1.0, \"#fde725\"]], \"sequentialminus\": [[0.0, \"#440154\"], [0.1111111111111111, \"#482878\"], [0.2222222222222222, \"#3e4989\"], [0.3333333333333333, \"#31688e\"], [0.4444444444444444, \"#26828e\"], [0.5555555555555556, \"#1f9e89\"], [0.6666666666666666, \"#35b779\"], [0.7777777777777778, \"#6ece58\"], [0.8888888888888888, \"#b5de2b\"], [1.0, \"#fde725\"]]}, \"colorway\": [\"#1F77B4\", \"#FF7F0E\", \"#2CA02C\", \"#D62728\", \"#9467BD\", \"#8C564B\", \"#E377C2\", \"#7F7F7F\", \"#BCBD22\", \"#17BECF\"], \"font\": {\"color\": \"rgb(36,36,36)\"}, \"geo\": {\"bgcolor\": \"white\", \"lakecolor\": \"white\", \"landcolor\": \"white\", \"showlakes\": true, \"showland\": true, \"subunitcolor\": \"white\"}, \"hoverlabel\": {\"align\": \"left\"}, \"hovermode\": \"closest\", \"mapbox\": {\"style\": \"light\"}, \"paper_bgcolor\": \"white\", \"plot_bgcolor\": \"white\", \"polar\": {\"angularaxis\": {\"gridcolor\": \"rgb(232,232,232)\", \"linecolor\": \"rgb(36,36,36)\", \"showgrid\": false, \"showline\": true, \"ticks\": \"outside\"}, \"bgcolor\": \"white\", \"radialaxis\": {\"gridcolor\": \"rgb(232,232,232)\", \"linecolor\": \"rgb(36,36,36)\", \"showgrid\": false, \"showline\": true, \"ticks\": \"outside\"}}, \"scene\": {\"xaxis\": {\"backgroundcolor\": \"white\", \"gridcolor\": \"rgb(232,232,232)\", \"gridwidth\": 2, \"linecolor\": \"rgb(36,36,36)\", \"showbackground\": true, \"showgrid\": false, \"showline\": true, \"ticks\": \"outside\", \"zeroline\": false, \"zerolinecolor\": \"rgb(36,36,36)\"}, \"yaxis\": {\"backgroundcolor\": \"white\", \"gridcolor\": \"rgb(232,232,232)\", \"gridwidth\": 2, \"linecolor\": \"rgb(36,36,36)\", \"showbackground\": true, \"showgrid\": false, \"showline\": true, \"ticks\": \"outside\", \"zeroline\": false, \"zerolinecolor\": \"rgb(36,36,36)\"}, \"zaxis\": {\"backgroundcolor\": \"white\", \"gridcolor\": \"rgb(232,232,232)\", \"gridwidth\": 2, \"linecolor\": \"rgb(36,36,36)\", \"showbackground\": true, \"showgrid\": false, \"showline\": true, \"ticks\": \"outside\", \"zeroline\": false, \"zerolinecolor\": \"rgb(36,36,36)\"}}, \"shapedefaults\": {\"fillcolor\": \"black\", \"line\": {\"width\": 0}, \"opacity\": 0.3}, \"ternary\": {\"aaxis\": {\"gridcolor\": \"rgb(232,232,232)\", \"linecolor\": \"rgb(36,36,36)\", \"showgrid\": false, \"showline\": true, \"ticks\": \"outside\"}, \"baxis\": {\"gridcolor\": \"rgb(232,232,232)\", \"linecolor\": \"rgb(36,36,36)\", \"showgrid\": false, \"showline\": true, \"ticks\": \"outside\"}, \"bgcolor\": \"white\", \"caxis\": {\"gridcolor\": \"rgb(232,232,232)\", \"linecolor\": \"rgb(36,36,36)\", \"showgrid\": false, \"showline\": true, \"ticks\": \"outside\"}}, \"title\": {\"x\": 0.05}, \"xaxis\": {\"automargin\": true, \"gridcolor\": \"rgb(232,232,232)\", \"linecolor\": \"rgb(36,36,36)\", \"showgrid\": false, \"showline\": true, \"ticks\": \"outside\", \"title\": {\"standoff\": 15}, \"zeroline\": false, \"zerolinecolor\": \"rgb(36,36,36)\"}, \"yaxis\": {\"automargin\": true, \"gridcolor\": \"rgb(232,232,232)\", \"linecolor\": \"rgb(36,36,36)\", \"showgrid\": false, \"showline\": true, \"ticks\": \"outside\", \"title\": {\"standoff\": 15}, \"zeroline\": false, \"zerolinecolor\": \"rgb(36,36,36)\"}}}, \"title\": {\"text\": \"rc103C15 - Objective: 397.67\"}, \"xaxis\": {\"anchor\": \"y\", \"constrain\": \"domain\", \"domain\": [0.0, 1.0], \"mirror\": true, \"range\": [0, 93.50000000000001], \"showline\": true, \"ticks\": \"outside\", \"title\": {\"text\": \"x\"}}, \"yaxis\": {\"anchor\": \"x\", \"domain\": [0.0, 1.0], \"mirror\": true, \"range\": [0, 91.30000000000001], \"scaleanchor\": \"x\", \"scaleratio\": 1, \"showline\": true, \"ticks\": \"outside\", \"title\": {\"text\": \"y\"}}},                        {\"responsive\": true}                    ).then(function(){\n",
       "                            \n",
       "var gd = document.getElementById('4ca175cf-1d28-4797-9d71-53d14859fdbb');\n",
       "var x = new MutationObserver(function (mutations, observer) {{\n",
       "        var display = window.getComputedStyle(gd).display;\n",
       "        if (!display || display === 'none') {{\n",
       "            console.log([gd, 'removed!']);\n",
       "            Plotly.purge(gd);\n",
       "            observer.disconnect();\n",
       "        }}\n",
       "}});\n",
       "\n",
       "// Listen for the removal of the full notebook cells\n",
       "var notebookContainer = gd.closest('#notebook-container');\n",
       "if (notebookContainer) {{\n",
       "    x.observe(notebookContainer, {childList: true});\n",
       "}}\n",
       "\n",
       "// Listen for the clearing of the current output cell\n",
       "var outputEl = gd.closest('.output');\n",
       "if (outputEl) {{\n",
       "    x.observe(outputEl, {childList: true});\n",
       "}}\n",
       "\n",
       "                        })                };                });            </script>        </div>"
      ]
     },
     "metadata": {},
     "output_type": "display_data"
    }
   ],
   "source": [
    "plot_interactive_graph(m.data['V'], e=e_flat, obj=m.instance.obj(), instance_name=m.instance_name)"
   ]
  },
  {
   "cell_type": "code",
   "execution_count": 113,
   "metadata": {
    "pycharm": {
     "name": "#%%\n"
    },
    "scrolled": true
   },
   "outputs": [
    {
     "data": {
      "text/html": [
       "<div>\n",
       "<style scoped>\n",
       "    .dataframe tbody tr th:only-of-type {\n",
       "        vertical-align: middle;\n",
       "    }\n",
       "\n",
       "    .dataframe tbody tr th {\n",
       "        vertical-align: top;\n",
       "    }\n",
       "\n",
       "    .dataframe thead th {\n",
       "        text-align: right;\n",
       "    }\n",
       "</style>\n",
       "<table border=\"1\" class=\"dataframe\">\n",
       "  <thead>\n",
       "    <tr style=\"text-align: right;\">\n",
       "      <th></th>\n",
       "      <th>route</th>\n",
       "      <th>from</th>\n",
       "      <th>to</th>\n",
       "      <th>state</th>\n",
       "      <th>xw</th>\n",
       "      <th>xq</th>\n",
       "      <th>xa</th>\n",
       "    </tr>\n",
       "  </thead>\n",
       "  <tbody>\n",
       "    <tr>\n",
       "      <th>0</th>\n",
       "      <td>1</td>\n",
       "      <td>D0</td>\n",
       "      <td>C77</td>\n",
       "      <td>1.0</td>\n",
       "      <td>86.000000</td>\n",
       "      <td>77.0</td>\n",
       "      <td>31.418539</td>\n",
       "    </tr>\n",
       "    <tr>\n",
       "      <th>5</th>\n",
       "      <td>1</td>\n",
       "      <td>C77</td>\n",
       "      <td>C50</td>\n",
       "      <td>1.0</td>\n",
       "      <td>507.000000</td>\n",
       "      <td>63.0</td>\n",
       "      <td>24.207437</td>\n",
       "    </tr>\n",
       "    <tr>\n",
       "      <th>6</th>\n",
       "      <td>1</td>\n",
       "      <td>C50</td>\n",
       "      <td>S5</td>\n",
       "      <td>1.0</td>\n",
       "      <td>541.207437</td>\n",
       "      <td>50.0</td>\n",
       "      <td>0.000000</td>\n",
       "    </tr>\n",
       "    <tr>\n",
       "      <th>3</th>\n",
       "      <td>1</td>\n",
       "      <td>S5</td>\n",
       "      <td>C32</td>\n",
       "      <td>1.0</td>\n",
       "      <td>580.815632</td>\n",
       "      <td>50.0</td>\n",
       "      <td>34.928498</td>\n",
       "    </tr>\n",
       "    <tr>\n",
       "      <th>9</th>\n",
       "      <td>1</td>\n",
       "      <td>C32</td>\n",
       "      <td>C31</td>\n",
       "      <td>1.0</td>\n",
       "      <td>608.279881</td>\n",
       "      <td>27.0</td>\n",
       "      <td>17.464249</td>\n",
       "    </tr>\n",
       "    <tr>\n",
       "      <th>10</th>\n",
       "      <td>1</td>\n",
       "      <td>C31</td>\n",
       "      <td>D1</td>\n",
       "      <td>1.0</td>\n",
       "      <td>NaN</td>\n",
       "      <td>NaN</td>\n",
       "      <td>NaN</td>\n",
       "    </tr>\n",
       "    <tr>\n",
       "      <th>1</th>\n",
       "      <td>2</td>\n",
       "      <td>D0</td>\n",
       "      <td>C28</td>\n",
       "      <td>1.0</td>\n",
       "      <td>357.000000</td>\n",
       "      <td>16.0</td>\n",
       "      <td>6.324555</td>\n",
       "    </tr>\n",
       "    <tr>\n",
       "      <th>8</th>\n",
       "      <td>2</td>\n",
       "      <td>C28</td>\n",
       "      <td>D1</td>\n",
       "      <td>1.0</td>\n",
       "      <td>NaN</td>\n",
       "      <td>NaN</td>\n",
       "      <td>NaN</td>\n",
       "    </tr>\n",
       "    <tr>\n",
       "      <th>2</th>\n",
       "      <td>3</td>\n",
       "      <td>D0</td>\n",
       "      <td>C72</td>\n",
       "      <td>1.0</td>\n",
       "      <td>104.000000</td>\n",
       "      <td>88.0</td>\n",
       "      <td>34.068884</td>\n",
       "    </tr>\n",
       "    <tr>\n",
       "      <th>12</th>\n",
       "      <td>3</td>\n",
       "      <td>C72</td>\n",
       "      <td>C100</td>\n",
       "      <td>1.0</td>\n",
       "      <td>143.068884</td>\n",
       "      <td>63.0</td>\n",
       "      <td>5.000000</td>\n",
       "    </tr>\n",
       "    <tr>\n",
       "      <th>14</th>\n",
       "      <td>3</td>\n",
       "      <td>C100</td>\n",
       "      <td>S13</td>\n",
       "      <td>1.0</td>\n",
       "      <td>158.068884</td>\n",
       "      <td>46.0</td>\n",
       "      <td>0.000000</td>\n",
       "    </tr>\n",
       "    <tr>\n",
       "      <th>4</th>\n",
       "      <td>3</td>\n",
       "      <td>S13</td>\n",
       "      <td>C84</td>\n",
       "      <td>1.0</td>\n",
       "      <td>314.000000</td>\n",
       "      <td>46.0</td>\n",
       "      <td>39.087338</td>\n",
       "    </tr>\n",
       "    <tr>\n",
       "      <th>11</th>\n",
       "      <td>3</td>\n",
       "      <td>C84</td>\n",
       "      <td>C18</td>\n",
       "      <td>1.0</td>\n",
       "      <td>403.000000</td>\n",
       "      <td>39.0</td>\n",
       "      <td>26.359416</td>\n",
       "    </tr>\n",
       "    <tr>\n",
       "      <th>7</th>\n",
       "      <td>3</td>\n",
       "      <td>C18</td>\n",
       "      <td>C94</td>\n",
       "      <td>1.0</td>\n",
       "      <td>534.000000</td>\n",
       "      <td>27.0</td>\n",
       "      <td>12.041595</td>\n",
       "    </tr>\n",
       "    <tr>\n",
       "      <th>13</th>\n",
       "      <td>3</td>\n",
       "      <td>C94</td>\n",
       "      <td>D1</td>\n",
       "      <td>1.0</td>\n",
       "      <td>1000.000000</td>\n",
       "      <td>0.0</td>\n",
       "      <td>0.000000</td>\n",
       "    </tr>\n",
       "  </tbody>\n",
       "</table>\n",
       "</div>"
      ],
      "text/plain": [
       "    route  from    to  state           xw    xq         xa\n",
       "0       1    D0   C77    1.0    86.000000  77.0  31.418539\n",
       "5       1   C77   C50    1.0   507.000000  63.0  24.207437\n",
       "6       1   C50    S5    1.0   541.207437  50.0   0.000000\n",
       "3       1    S5   C32    1.0   580.815632  50.0  34.928498\n",
       "9       1   C32   C31    1.0   608.279881  27.0  17.464249\n",
       "10      1   C31    D1    1.0          NaN   NaN        NaN\n",
       "1       2    D0   C28    1.0   357.000000  16.0   6.324555\n",
       "8       2   C28    D1    1.0          NaN   NaN        NaN\n",
       "2       3    D0   C72    1.0   104.000000  88.0  34.068884\n",
       "12      3   C72  C100    1.0   143.068884  63.0   5.000000\n",
       "14      3  C100   S13    1.0   158.068884  46.0   0.000000\n",
       "4       3   S13   C84    1.0   314.000000  46.0  39.087338\n",
       "11      3   C84   C18    1.0   403.000000  39.0  26.359416\n",
       "7       3   C18   C94    1.0   534.000000  27.0  12.041595\n",
       "13      3   C94    D1    1.0  1000.000000   0.0   0.000000"
      ]
     },
     "execution_count": 113,
     "metadata": {},
     "output_type": "execute_result"
    }
   ],
   "source": [
    "var_list = ['xgamma', 'xw', 'xq', 'xa']\n",
    "x = merge_variable_results(m, var_list)\n",
    "x[x['state']>0].sort_values(['route', 'xw'])"
   ]
  },
  {
   "cell_type": "code",
   "execution_count": 101,
   "metadata": {
    "pycharm": {
     "name": "#%%\n"
    }
   },
   "outputs": [],
   "source": [
    "# m.instance.constraint_energy_customer.pprint()"
   ]
  },
  {
   "cell_type": "code",
   "execution_count": 102,
   "metadata": {
    "pycharm": {
     "name": "#%%\n"
    }
   },
   "outputs": [
    {
     "name": "stdout",
     "output_type": "stream",
     "text": [
      "xw : Size=10, Index=V01_\n",
      "    Key : Lower : Value              : Upper : Fixed : Stale : Domain\n",
      "     C1 :     0 :               36.0 :  None : False : False : NonNegativeReals\n",
      "     C5 :     0 : 128.28316726358238 :  None : False : False : NonNegativeReals\n",
      "    C71 :     0 :  84.93227539004248 :  None : False : False : NonNegativeReals\n",
      "    C87 :     0 :              166.0 :  None : False : False : NonNegativeReals\n",
      "    C99 :     0 : 144.68629150101523 :  None : False : False : NonNegativeReals\n",
      "     D0 :     0 :                0.0 :  None : False : False : NonNegativeReals\n",
      "     D1 :     0 :              230.0 :  None : False : False : NonNegativeReals\n",
      "     S0 :     0 :                0.0 :  None : False : False : NonNegativeReals\n",
      "     S3 :     0 :   59.0384048104053 :  None : False : False : NonNegativeReals\n",
      "     S9 :     0 :                0.0 :  None : False : False : NonNegativeReals\n"
     ]
    }
   ],
   "source": [
    "m.instance.xw.pprint()"
   ]
  },
  {
   "cell_type": "code",
   "execution_count": 78,
   "metadata": {},
   "outputs": [],
   "source": [
    "# m.instance.temp_start.pprint()"
   ]
  },
  {
   "cell_type": "code",
   "execution_count": 79,
   "metadata": {},
   "outputs": [],
   "source": [
    "# m.instance.xgamma.pprint()"
   ]
  },
  {
   "cell_type": "code",
   "execution_count": 80,
   "metadata": {},
   "outputs": [
    {
     "data": {
      "text/plain": [
       "[(('D0', 'C91'), 1.0),\n",
       " (('D0', 'C75'), 1.0),\n",
       " (('S1_0', 'C78'), 1.0),\n",
       " (('S1_1', 'S1_0'), 1.0),\n",
       " (('C91', 'C95'), 1.0),\n",
       " (('C28', 'D1'), 1.0),\n",
       " (('C75', 'S1_1'), 1.0),\n",
       " (('C78', 'C28'), 1.0),\n",
       " (('C95', 'D1'), 1.0)]"
      ]
     },
     "execution_count": 80,
     "metadata": {},
     "output_type": "execute_result"
    }
   ],
   "source": [
    "x = getattr(m.instance, 'xgamma')\n",
    "# keys, values = zip(*x.get_values().items())\n",
    "x_val = x.extract_values()\n",
    "active_arcs = [n for n in list(x_val.items()) if n[1] == 1.0]\n",
    "active_arcs"
   ]
  },
  {
   "cell_type": "code",
   "execution_count": 42,
   "metadata": {},
   "outputs": [],
   "source": [
    "# print(m.results)"
   ]
  },
  {
   "cell_type": "code",
   "execution_count": null,
   "metadata": {},
   "outputs": [],
   "source": [
    "# print(m.results.solver.status)\n",
    "# print(m.results.solver.termination_condition)"
   ]
  },
  {
   "cell_type": "code",
   "execution_count": 41,
   "metadata": {},
   "outputs": [
    {
     "name": "stdout",
     "output_type": "stream",
     "text": [
      "xw : Size=10, Index=V01_\n",
      "    Key : Lower : Value              : Upper : Fixed : Stale : Domain\n",
      "    C28 :     0 :              193.0 :  None : False : False : NonNegativeReals\n",
      "    C75 :     0 :               79.0 :  None : False : False : NonNegativeReals\n",
      "    C78 :     0 :              158.0 :  None : False : False : NonNegativeReals\n",
      "    C91 :     0 :              107.0 :  None : False : False : NonNegativeReals\n",
      "    C95 :     0 :              130.0 :  None : False : False : NonNegativeReals\n",
      "     D0 :     0 :                0.0 :  None : False : False : NonNegativeReals\n",
      "     D1 :     0 :              230.0 :  None : False : False : NonNegativeReals\n",
      "     S0 :     0 :                0.0 :  None : False : False : NonNegativeReals\n",
      "     S1 :     0 : 119.01666203960724 :  None : False : False : NonNegativeReals\n",
      "    S13 :     0 :  144.4721359549996 :  None : False : False : NonNegativeReals\n"
     ]
    }
   ],
   "source": [
    "m.instance.xw.pprint()"
   ]
  },
  {
   "cell_type": "code",
   "execution_count": 82,
   "metadata": {},
   "outputs": [
    {
     "name": "stdout",
     "output_type": "stream",
     "text": [
      "rC : Charging rate for EV\n",
      "    Size=1, Index=None, Domain=Any, Default=None, Mutable=False\n",
      "    Key  : Value\n",
      "    None :  0.49\n"
     ]
    }
   ],
   "source": [
    "m.instance.rC.display()"
   ]
  },
  {
   "cell_type": "code",
   "execution_count": null,
   "metadata": {},
   "outputs": [],
   "source": []
  },
  {
   "cell_type": "code",
   "execution_count": null,
   "metadata": {},
   "outputs": [],
   "source": []
  }
 ],
 "metadata": {
  "kernelspec": {
   "display_name": "Python 3",
   "language": "python",
   "name": "python3"
  },
  "language_info": {
   "codemirror_mode": {
    "name": "ipython",
    "version": 3
   },
   "file_extension": ".py",
   "mimetype": "text/x-python",
   "name": "python",
   "nbconvert_exporter": "python",
   "pygments_lexer": "ipython3",
   "version": "3.7.9"
  }
 },
 "nbformat": 4,
 "nbformat_minor": 1
}
