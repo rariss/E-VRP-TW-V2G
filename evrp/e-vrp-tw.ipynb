{
 "cells": [
  {
   "cell_type": "code",
   "execution_count": 1,
   "metadata": {
    "pycharm": {
     "name": "#%%\n"
    }
   },
   "outputs": [],
   "source": [
    "import sys\n",
    "sys.path.append(\"../\") # go to parent dir\n",
    "\n",
    "%load_ext autoreload\n",
    "%autoreload 2"
   ]
  },
  {
   "cell_type": "code",
   "execution_count": 2,
   "metadata": {
    "pycharm": {
     "name": "#%%\n"
    }
   },
   "outputs": [],
   "source": [
    "from evrp.utils.utilities import parse_csv_tables, calculate_distance_matrix, generate_index_mapping, create_plotting_edges, create_flat_distance_matrix, create_coordinate_dict, create_flat_optimal_edges, create_optimal_edges, merge_variable_results\n",
    "from evrp.utils.graph import draw_plain_graph, draw_graph\n",
    "from evrp.utils.plot import plot_interactive_graph\n",
    "from evrp.milp.tsp import TSP\n",
    "from evrp.milp.vrptw import VRPTW\n",
    "from evrp.milp.evrptw import EVRPTW\n",
    "\n",
    "import pandas as pd\n",
    "import numpy as np\n",
    "from scipy.spatial import distance\n",
    "\n",
    "import pprint\n",
    "\n",
    "import plotly.figure_factory as ff\n",
    "from plotly.subplots import make_subplots\n",
    "import plotly.graph_objects as go\n",
    "import plotly.express as px\n",
    "\n",
    "import matplotlib.pyplot as plt\n",
    "import matplotlib.colors as pltc\n",
    "\n",
    "import itertools\n",
    "\n",
    "import networkx as nx\n",
    "\n",
    "from pyomo.environ import *\n",
    "\n",
    "pd.options.plotting.backend = \"plotly\"\n",
    "pp = pprint.PrettyPrinter()"
   ]
  },
  {
   "cell_type": "code",
   "execution_count": 3,
   "metadata": {
    "pycharm": {
     "name": "#%%\n"
    }
   },
   "outputs": [],
   "source": [
    "instance = 'r105C5_e'\n",
    "fpath = 'config/test_instances/' + instance + '.csv'"
   ]
  },
  {
   "cell_type": "code",
   "execution_count": 418,
   "metadata": {
    "scrolled": false
   },
   "outputs": [
    {
     "name": "stderr",
     "output_type": "stream",
     "text": [
      "2021-01-13 09:08:20 INFO     Building abstract model\n",
      "2021-01-13 09:08:20 INFO     Defining parameters and sets\n",
      "2021-01-13 09:08:20 INFO     Defining variables\n",
      "2021-01-13 09:08:20 INFO     Defining constraints\n",
      "2021-01-13 09:08:20 INFO     Defining objective\n",
      "2021-01-13 09:08:20 INFO     Importing EVRPTW MILP instance: r105C5_e\n",
      "2021-01-13 09:08:20 INFO     Reading CSV\n",
      "2021-01-13 09:08:20 INFO     Creating graph\n",
      "2021-01-13 09:08:20 INFO     Creating timeseries data\n",
      "2021-01-13 09:08:20 INFO     Creating duplicates and extended graph\n",
      "2021-01-13 09:08:20 INFO     Calculating distance matrix\n",
      "2021-01-13 09:08:20 INFO     Creating parameters\n",
      "2021-01-13 09:08:20 INFO     Creating instance\n",
      "2021-01-13 09:08:20 INFO     Solving instance...\n"
     ]
    },
    {
     "name": "stdout",
     "output_type": "stream",
     "text": [
      "Using license file /Users/ramiariss/gurobi.lic\n",
      "Academic license - for non-commercial use only - expires 2021-01-28\n",
      "Read LP format model from file /var/folders/vv/1p3h17yx43n9m7k86th68_ym0000gn/T/tmp_bgzbj1q.pyomo.lp\n",
      "Reading time = 0.01 seconds\n",
      "x1484: 202 rows, 1484 columns, 654 nonzeros\n",
      "No parameters matching 'MaxTime' found\n",
      "Gurobi Optimizer version 9.1.0 build v9.1.0rc0 (mac64)\n",
      "Thread count: 4 physical cores, 8 logical processors, using up to 8 threads\n",
      "Optimize a model with 202 rows, 1484 columns and 654 nonzeros\n",
      "Model fingerprint: 0xf3d13bd1\n",
      "Model has 2808 quadratic constraints\n",
      "Variable types: 721 continuous, 763 integer (763 binary)\n",
      "Coefficient statistics:\n",
      "  Matrix range     [1e+00, 3e+02]\n",
      "  QMatrix range    [1e+00, 1e+00]\n",
      "  QLMatrix range   [1e+00, 3e+02]\n",
      "  Objective range  [4e+00, 6e+01]\n",
      "  Bounds range     [1e+00, 1e+00]\n",
      "  RHS range        [1e+00, 2e+02]\n",
      "  QRHS range       [2e+00, 2e+02]\n",
      "Presolve removed 88 rows and 26 columns\n",
      "Presolve time: 0.01s\n",
      "Presolved: 1497 rows, 3528 columns, 5562 nonzeros\n",
      "Presolved model has 2070 SOS constraint(s)\n",
      "Variable types: 2092 continuous, 1436 integer (1436 binary)\n",
      "\n",
      "Explored 1 nodes (0 simplex iterations) in 0.02 seconds\n",
      "Thread count was 8 (of 8 available processors)\n",
      "\n",
      "Solution count 0\n",
      "\n",
      "Model is infeasible\n",
      "Best objective -, best bound -, gap -\n"
     ]
    },
    {
     "name": "stderr",
     "output_type": "stream",
     "text": [
      "2021-01-13 09:08:20 WARNING  Loading a SolverResults object with a warning status into model=unknown;\n",
      "    message from solver=Model was proven to be infeasible.\n",
      "2021-01-13 09:08:20 INFO     Done\n"
     ]
    },
    {
     "name": "stdout",
     "output_type": "stream",
     "text": [
      "WARNING: Loading a SolverResults object with a warning status into\n",
      "    model=unknown;\n",
      "        message from solver=Model was proven to be infeasible.\n"
     ]
    }
   ],
   "source": [
    "m = EVRPTW()\n",
    "m.solve(fpath)"
   ]
  },
  {
   "cell_type": "code",
   "execution_count": 404,
   "metadata": {},
   "outputs": [
    {
     "name": "stdout",
     "output_type": "stream",
     "text": [
      "\n",
      "Problem: \n",
      "- Name: x1484\n",
      "  Lower bound: 151.14879946121792\n",
      "  Upper bound: 151.14879946121792\n",
      "  Number of objectives: 1\n",
      "  Number of constraints: 3010\n",
      "  Number of variables: 1484\n",
      "  Number of binary variables: 763\n",
      "  Number of integer variables: 763\n",
      "  Number of continuous variables: 721\n",
      "  Number of nonzeros: 654\n",
      "  Sense: minimize\n",
      "Solver: \n",
      "- Status: ok\n",
      "  Return code: 0\n",
      "  Message: Model was solved to optimality (subject to tolerances), and an optimal solution is available.\n",
      "  Termination condition: optimal\n",
      "  Termination message: Model was solved to optimality (subject to tolerances), and an optimal solution is available.\n",
      "  Wall time: 0.030688047409057617\n",
      "  Error rc: 0\n",
      "  Time: 0.17081022262573242\n",
      "Solution: \n",
      "- number of solutions: 0\n",
      "  number of solutions displayed: 0\n",
      "\n"
     ]
    }
   ],
   "source": [
    "print(m.results)"
   ]
  },
  {
   "cell_type": "code",
   "execution_count": 405,
   "metadata": {},
   "outputs": [],
   "source": [
    "var_list = ['xkappa', 'xp']\n",
    "x = merge_variable_results(m, var_list)"
   ]
  },
  {
   "cell_type": "code",
   "execution_count": 406,
   "metadata": {},
   "outputs": [
    {
     "data": {
      "text/html": [
       "<div>\n",
       "<style scoped>\n",
       "    .dataframe tbody tr th:only-of-type {\n",
       "        vertical-align: middle;\n",
       "    }\n",
       "\n",
       "    .dataframe tbody tr th {\n",
       "        vertical-align: top;\n",
       "    }\n",
       "\n",
       "    .dataframe thead th {\n",
       "        text-align: right;\n",
       "    }\n",
       "</style>\n",
       "<table border=\"1\" class=\"dataframe\">\n",
       "  <thead>\n",
       "    <tr style=\"text-align: right;\">\n",
       "      <th></th>\n",
       "      <th>node</th>\n",
       "      <th>t</th>\n",
       "      <th>state</th>\n",
       "      <th>xp</th>\n",
       "    </tr>\n",
       "  </thead>\n",
       "  <tbody>\n",
       "    <tr>\n",
       "      <th>0</th>\n",
       "      <td>S0_0</td>\n",
       "      <td>0</td>\n",
       "      <td>1.0</td>\n",
       "      <td>2.040816</td>\n",
       "    </tr>\n",
       "    <tr>\n",
       "      <th>463</th>\n",
       "      <td>S13_0</td>\n",
       "      <td>3</td>\n",
       "      <td>1.0</td>\n",
       "      <td>2.040816</td>\n",
       "    </tr>\n",
       "    <tr>\n",
       "      <th>455</th>\n",
       "      <td>S1_0</td>\n",
       "      <td>225</td>\n",
       "      <td>1.0</td>\n",
       "      <td>2.040816</td>\n",
       "    </tr>\n",
       "    <tr>\n",
       "      <th>456</th>\n",
       "      <td>S1_0</td>\n",
       "      <td>226</td>\n",
       "      <td>1.0</td>\n",
       "      <td>2.040816</td>\n",
       "    </tr>\n",
       "    <tr>\n",
       "      <th>457</th>\n",
       "      <td>S1_0</td>\n",
       "      <td>227</td>\n",
       "      <td>1.0</td>\n",
       "      <td>2.040816</td>\n",
       "    </tr>\n",
       "    <tr>\n",
       "      <th>...</th>\n",
       "      <td>...</td>\n",
       "      <td>...</td>\n",
       "      <td>...</td>\n",
       "      <td>...</td>\n",
       "    </tr>\n",
       "    <tr>\n",
       "      <th>231</th>\n",
       "      <td>S1_0</td>\n",
       "      <td>1</td>\n",
       "      <td>1.0</td>\n",
       "      <td>2.040816</td>\n",
       "    </tr>\n",
       "    <tr>\n",
       "      <th>232</th>\n",
       "      <td>S1_0</td>\n",
       "      <td>2</td>\n",
       "      <td>1.0</td>\n",
       "      <td>2.040816</td>\n",
       "    </tr>\n",
       "    <tr>\n",
       "      <th>233</th>\n",
       "      <td>S1_0</td>\n",
       "      <td>3</td>\n",
       "      <td>1.0</td>\n",
       "      <td>2.040816</td>\n",
       "    </tr>\n",
       "    <tr>\n",
       "      <th>234</th>\n",
       "      <td>S1_0</td>\n",
       "      <td>4</td>\n",
       "      <td>1.0</td>\n",
       "      <td>2.040816</td>\n",
       "    </tr>\n",
       "    <tr>\n",
       "      <th>689</th>\n",
       "      <td>S13_0</td>\n",
       "      <td>229</td>\n",
       "      <td>1.0</td>\n",
       "      <td>2.040816</td>\n",
       "    </tr>\n",
       "  </tbody>\n",
       "</table>\n",
       "<p>690 rows × 4 columns</p>\n",
       "</div>"
      ],
      "text/plain": [
       "      node    t  state        xp\n",
       "0     S0_0    0    1.0  2.040816\n",
       "463  S13_0    3    1.0  2.040816\n",
       "455   S1_0  225    1.0  2.040816\n",
       "456   S1_0  226    1.0  2.040816\n",
       "457   S1_0  227    1.0  2.040816\n",
       "..     ...  ...    ...       ...\n",
       "231   S1_0    1    1.0  2.040816\n",
       "232   S1_0    2    1.0  2.040816\n",
       "233   S1_0    3    1.0  2.040816\n",
       "234   S1_0    4    1.0  2.040816\n",
       "689  S13_0  229    1.0  2.040816\n",
       "\n",
       "[690 rows x 4 columns]"
      ]
     },
     "execution_count": 406,
     "metadata": {},
     "output_type": "execute_result"
    }
   ],
   "source": [
    "x[x['state']>1e-4].sort_values(['xp'], ascending=False)"
   ]
  },
  {
   "cell_type": "code",
   "execution_count": null,
   "metadata": {},
   "outputs": [],
   "source": []
  },
  {
   "cell_type": "code",
   "execution_count": 407,
   "metadata": {},
   "outputs": [],
   "source": [
    "var_list = ['xgamma', 'xw', 'xq', 'xa']\n",
    "x = merge_variable_results(m, var_list)"
   ]
  },
  {
   "cell_type": "code",
   "execution_count": 408,
   "metadata": {},
   "outputs": [
    {
     "data": {
      "text/html": [
       "<div>\n",
       "<style scoped>\n",
       "    .dataframe tbody tr th:only-of-type {\n",
       "        vertical-align: middle;\n",
       "    }\n",
       "\n",
       "    .dataframe tbody tr th {\n",
       "        vertical-align: top;\n",
       "    }\n",
       "\n",
       "    .dataframe thead th {\n",
       "        text-align: right;\n",
       "    }\n",
       "</style>\n",
       "<table border=\"1\" class=\"dataframe\">\n",
       "  <thead>\n",
       "    <tr style=\"text-align: right;\">\n",
       "      <th></th>\n",
       "      <th>from</th>\n",
       "      <th>to</th>\n",
       "      <th>state</th>\n",
       "      <th>xw</th>\n",
       "      <th>xq</th>\n",
       "      <th>xa</th>\n",
       "    </tr>\n",
       "  </thead>\n",
       "  <tbody>\n",
       "    <tr>\n",
       "      <th>49</th>\n",
       "      <td>D0</td>\n",
       "      <td>C75</td>\n",
       "      <td>1.0</td>\n",
       "      <td>49.000000</td>\n",
       "      <td>200.0</td>\n",
       "      <td>72.215112</td>\n",
       "    </tr>\n",
       "    <tr>\n",
       "      <th>38</th>\n",
       "      <td>C75</td>\n",
       "      <td>C91</td>\n",
       "      <td>1.0</td>\n",
       "      <td>93.928498</td>\n",
       "      <td>182.0</td>\n",
       "      <td>37.286614</td>\n",
       "    </tr>\n",
       "    <tr>\n",
       "      <th>69</th>\n",
       "      <td>C91</td>\n",
       "      <td>C95</td>\n",
       "      <td>1.0</td>\n",
       "      <td>130.000000</td>\n",
       "      <td>39.0</td>\n",
       "      <td>26.106274</td>\n",
       "    </tr>\n",
       "    <tr>\n",
       "      <th>57</th>\n",
       "      <td>D0</td>\n",
       "      <td>C78</td>\n",
       "      <td>1.0</td>\n",
       "      <td>178.000000</td>\n",
       "      <td>19.0</td>\n",
       "      <td>31.324555</td>\n",
       "    </tr>\n",
       "    <tr>\n",
       "      <th>47</th>\n",
       "      <td>C78</td>\n",
       "      <td>C28</td>\n",
       "      <td>1.0</td>\n",
       "      <td>213.000000</td>\n",
       "      <td>16.0</td>\n",
       "      <td>6.324555</td>\n",
       "    </tr>\n",
       "    <tr>\n",
       "      <th>5</th>\n",
       "      <td>C28</td>\n",
       "      <td>D1</td>\n",
       "      <td>1.0</td>\n",
       "      <td>230.000000</td>\n",
       "      <td>0.0</td>\n",
       "      <td>0.000000</td>\n",
       "    </tr>\n",
       "    <tr>\n",
       "      <th>8</th>\n",
       "      <td>C95</td>\n",
       "      <td>D1</td>\n",
       "      <td>1.0</td>\n",
       "      <td>230.000000</td>\n",
       "      <td>0.0</td>\n",
       "      <td>0.000000</td>\n",
       "    </tr>\n",
       "  </tbody>\n",
       "</table>\n",
       "</div>"
      ],
      "text/plain": [
       "   from   to  state          xw     xq         xa\n",
       "49   D0  C75    1.0   49.000000  200.0  72.215112\n",
       "38  C75  C91    1.0   93.928498  182.0  37.286614\n",
       "69  C91  C95    1.0  130.000000   39.0  26.106274\n",
       "57   D0  C78    1.0  178.000000   19.0  31.324555\n",
       "47  C78  C28    1.0  213.000000   16.0   6.324555\n",
       "5   C28   D1    1.0  230.000000    0.0   0.000000\n",
       "8   C95   D1    1.0  230.000000    0.0   0.000000"
      ]
     },
     "execution_count": 408,
     "metadata": {},
     "output_type": "execute_result"
    }
   ],
   "source": [
    "x[x['state']>1e-4].sort_values(['xw'])"
   ]
  },
  {
   "cell_type": "code",
   "execution_count": 409,
   "metadata": {},
   "outputs": [
    {
     "data": {
      "text/plain": [
       "151.14879946121792"
      ]
     },
     "execution_count": 409,
     "metadata": {},
     "output_type": "execute_result"
    }
   ],
   "source": [
    "test = x[x['state']>1e-4].sort_values(['xw'])\n",
    "route = zip(test['from'], test['to'])\n",
    "sum([m.data['d'].loc[fr, to] for fr, to in route])"
   ]
  },
  {
   "cell_type": "code",
   "execution_count": 410,
   "metadata": {},
   "outputs": [
    {
     "data": {
      "text/html": [
       "<div>\n",
       "<style scoped>\n",
       "    .dataframe tbody tr th:only-of-type {\n",
       "        vertical-align: middle;\n",
       "    }\n",
       "\n",
       "    .dataframe tbody tr th {\n",
       "        vertical-align: top;\n",
       "    }\n",
       "\n",
       "    .dataframe thead th {\n",
       "        text-align: right;\n",
       "    }\n",
       "</style>\n",
       "<table border=\"1\" class=\"dataframe\">\n",
       "  <thead>\n",
       "    <tr style=\"text-align: right;\">\n",
       "      <th></th>\n",
       "      <th>D0</th>\n",
       "      <th>D1</th>\n",
       "      <th>S0_0</th>\n",
       "      <th>S1_0</th>\n",
       "      <th>S13_0</th>\n",
       "      <th>C91</th>\n",
       "      <th>C28</th>\n",
       "      <th>C75</th>\n",
       "      <th>C78</th>\n",
       "      <th>C95</th>\n",
       "    </tr>\n",
       "  </thead>\n",
       "  <tbody>\n",
       "    <tr>\n",
       "      <th>D0</th>\n",
       "      <td>0.000000</td>\n",
       "      <td>0.000000</td>\n",
       "      <td>0.000000</td>\n",
       "      <td>29.068884</td>\n",
       "      <td>19.104973</td>\n",
       "      <td>25.612497</td>\n",
       "      <td>6.324555</td>\n",
       "      <td>27.784888</td>\n",
       "      <td>31.064449</td>\n",
       "      <td>14.866069</td>\n",
       "    </tr>\n",
       "    <tr>\n",
       "      <th>D1</th>\n",
       "      <td>0.000000</td>\n",
       "      <td>0.000000</td>\n",
       "      <td>0.000000</td>\n",
       "      <td>29.068884</td>\n",
       "      <td>19.104973</td>\n",
       "      <td>25.612497</td>\n",
       "      <td>6.324555</td>\n",
       "      <td>27.784888</td>\n",
       "      <td>31.064449</td>\n",
       "      <td>14.866069</td>\n",
       "    </tr>\n",
       "    <tr>\n",
       "      <th>S0_0</th>\n",
       "      <td>0.000000</td>\n",
       "      <td>0.000000</td>\n",
       "      <td>0.000000</td>\n",
       "      <td>29.068884</td>\n",
       "      <td>19.104973</td>\n",
       "      <td>25.612497</td>\n",
       "      <td>6.324555</td>\n",
       "      <td>27.784888</td>\n",
       "      <td>31.064449</td>\n",
       "      <td>14.866069</td>\n",
       "    </tr>\n",
       "    <tr>\n",
       "      <th>S1_0</th>\n",
       "      <td>29.068884</td>\n",
       "      <td>29.068884</td>\n",
       "      <td>29.068884</td>\n",
       "      <td>0.000000</td>\n",
       "      <td>45.541190</td>\n",
       "      <td>52.201533</td>\n",
       "      <td>23.000000</td>\n",
       "      <td>30.016662</td>\n",
       "      <td>15.297059</td>\n",
       "      <td>41.109610</td>\n",
       "    </tr>\n",
       "    <tr>\n",
       "      <th>S13_0</th>\n",
       "      <td>19.104973</td>\n",
       "      <td>19.104973</td>\n",
       "      <td>19.104973</td>\n",
       "      <td>45.541190</td>\n",
       "      <td>0.000000</td>\n",
       "      <td>6.708204</td>\n",
       "      <td>25.000000</td>\n",
       "      <td>30.083218</td>\n",
       "      <td>50.000000</td>\n",
       "      <td>4.472136</td>\n",
       "    </tr>\n",
       "    <tr>\n",
       "      <th>C91</th>\n",
       "      <td>25.612497</td>\n",
       "      <td>25.612497</td>\n",
       "      <td>25.612497</td>\n",
       "      <td>52.201533</td>\n",
       "      <td>6.708204</td>\n",
       "      <td>0.000000</td>\n",
       "      <td>31.622777</td>\n",
       "      <td>34.928498</td>\n",
       "      <td>56.612719</td>\n",
       "      <td>11.180340</td>\n",
       "    </tr>\n",
       "    <tr>\n",
       "      <th>C28</th>\n",
       "      <td>6.324555</td>\n",
       "      <td>6.324555</td>\n",
       "      <td>6.324555</td>\n",
       "      <td>23.000000</td>\n",
       "      <td>25.000000</td>\n",
       "      <td>31.622777</td>\n",
       "      <td>0.000000</td>\n",
       "      <td>27.202941</td>\n",
       "      <td>25.000000</td>\n",
       "      <td>20.615528</td>\n",
       "    </tr>\n",
       "    <tr>\n",
       "      <th>C75</th>\n",
       "      <td>27.784888</td>\n",
       "      <td>27.784888</td>\n",
       "      <td>27.784888</td>\n",
       "      <td>30.016662</td>\n",
       "      <td>30.083218</td>\n",
       "      <td>34.928498</td>\n",
       "      <td>27.202941</td>\n",
       "      <td>0.000000</td>\n",
       "      <td>42.720019</td>\n",
       "      <td>27.294688</td>\n",
       "    </tr>\n",
       "    <tr>\n",
       "      <th>C78</th>\n",
       "      <td>31.064449</td>\n",
       "      <td>31.064449</td>\n",
       "      <td>31.064449</td>\n",
       "      <td>15.297059</td>\n",
       "      <td>50.000000</td>\n",
       "      <td>56.612719</td>\n",
       "      <td>25.000000</td>\n",
       "      <td>42.720019</td>\n",
       "      <td>0.000000</td>\n",
       "      <td>45.607017</td>\n",
       "    </tr>\n",
       "    <tr>\n",
       "      <th>C95</th>\n",
       "      <td>14.866069</td>\n",
       "      <td>14.866069</td>\n",
       "      <td>14.866069</td>\n",
       "      <td>41.109610</td>\n",
       "      <td>4.472136</td>\n",
       "      <td>11.180340</td>\n",
       "      <td>20.615528</td>\n",
       "      <td>27.294688</td>\n",
       "      <td>45.607017</td>\n",
       "      <td>0.000000</td>\n",
       "    </tr>\n",
       "  </tbody>\n",
       "</table>\n",
       "</div>"
      ],
      "text/plain": [
       "              D0         D1       S0_0       S1_0      S13_0        C91  \\\n",
       "D0      0.000000   0.000000   0.000000  29.068884  19.104973  25.612497   \n",
       "D1      0.000000   0.000000   0.000000  29.068884  19.104973  25.612497   \n",
       "S0_0    0.000000   0.000000   0.000000  29.068884  19.104973  25.612497   \n",
       "S1_0   29.068884  29.068884  29.068884   0.000000  45.541190  52.201533   \n",
       "S13_0  19.104973  19.104973  19.104973  45.541190   0.000000   6.708204   \n",
       "C91    25.612497  25.612497  25.612497  52.201533   6.708204   0.000000   \n",
       "C28     6.324555   6.324555   6.324555  23.000000  25.000000  31.622777   \n",
       "C75    27.784888  27.784888  27.784888  30.016662  30.083218  34.928498   \n",
       "C78    31.064449  31.064449  31.064449  15.297059  50.000000  56.612719   \n",
       "C95    14.866069  14.866069  14.866069  41.109610   4.472136  11.180340   \n",
       "\n",
       "             C28        C75        C78        C95  \n",
       "D0      6.324555  27.784888  31.064449  14.866069  \n",
       "D1      6.324555  27.784888  31.064449  14.866069  \n",
       "S0_0    6.324555  27.784888  31.064449  14.866069  \n",
       "S1_0   23.000000  30.016662  15.297059  41.109610  \n",
       "S13_0  25.000000  30.083218  50.000000   4.472136  \n",
       "C91    31.622777  34.928498  56.612719  11.180340  \n",
       "C28     0.000000  27.202941  25.000000  20.615528  \n",
       "C75    27.202941   0.000000  42.720019  27.294688  \n",
       "C78    25.000000  42.720019   0.000000  45.607017  \n",
       "C95    20.615528  27.294688  45.607017   0.000000  "
      ]
     },
     "execution_count": 410,
     "metadata": {},
     "output_type": "execute_result"
    }
   ],
   "source": [
    "m.data['d']"
   ]
  },
  {
   "cell_type": "code",
   "execution_count": 411,
   "metadata": {},
   "outputs": [
    {
     "data": {
      "text/plain": [
       "51.658906"
      ]
     },
     "execution_count": 411,
     "metadata": {},
     "output_type": "execute_result"
    }
   ],
   "source": [
    "25.612497+11.180340+14.866069"
   ]
  },
  {
   "cell_type": "code",
   "execution_count": 412,
   "metadata": {},
   "outputs": [],
   "source": [
    "e, e_flat = create_optimal_edges(m, x=x, graph='V_')"
   ]
  },
  {
   "cell_type": "code",
   "execution_count": 413,
   "metadata": {},
   "outputs": [
    {
     "data": {
      "application/vnd.plotly.v1+json": {
       "config": {
        "plotlyServerURL": "https://plot.ly"
       },
       "data": [
        {
         "customdata": [
          [
           [
            "start"
           ]
          ],
          [
           [
            "end"
           ]
          ],
          [
           [
            "s"
           ]
          ],
          [
           [
            "s"
           ]
          ],
          [
           [
            "s"
           ]
          ],
          [
           [
            "m"
           ]
          ],
          [
           [
            "m"
           ]
          ],
          [
           [
            "m"
           ]
          ],
          [
           [
            "m"
           ]
          ],
          [
           [
            "m"
           ]
          ]
         ],
         "hoverinfo": "none",
         "hovertemplate": "<b>%{text}</b>: %{customdata[0]}<br>X: %{x}<br>Y: %{y}",
         "marker": {
          "color": [
           "rgba(191, 243, 180, 0.8)",
           "rgba(191, 243, 180, 0.8)",
           "rgba(167, 215, 241, 0.8)",
           "rgba(167, 215, 241, 0.8)",
           "rgba(167, 215, 241, 0.8)",
           "rgba(240, 169, 171, 0.8)",
           "rgba(240, 169, 171, 0.8)",
           "rgba(240, 169, 171, 0.8)",
           "rgba(240, 169, 171, 0.8)",
           "rgba(240, 169, 171, 0.8)"
          ],
          "size": 25
         },
         "mode": "markers+text",
         "name": "Nodes",
         "showlegend": true,
         "text": [
          "D0",
          "D1",
          "S0",
          "S1",
          "S13",
          "C91",
          "C28",
          "C75",
          "C78",
          "C95"
         ],
         "type": "scatter",
         "x": [
          35,
          35,
          35,
          64,
          21,
          15,
          41,
          49,
          61,
          25
         ],
         "y": [
          35,
          35,
          35,
          37,
          22,
          19,
          37,
          11,
          52,
          24
         ]
        }
       ],
       "layout": {
        "annotations": [
         {
          "arrowcolor": "#888",
          "arrowhead": 2,
          "arrowsize": 1,
          "arrowwidth": 2,
          "ax": 41,
          "axref": "x",
          "ay": 37,
          "ayref": "y",
          "showarrow": true,
          "text": "",
          "x": 35,
          "xref": "x",
          "y": 35,
          "yref": "y"
         },
         {
          "arrowcolor": "#888",
          "arrowhead": 2,
          "arrowsize": 1,
          "arrowwidth": 2,
          "ax": 25,
          "axref": "x",
          "ay": 24,
          "ayref": "y",
          "showarrow": true,
          "text": "",
          "x": 35,
          "xref": "x",
          "y": 35,
          "yref": "y"
         },
         {
          "arrowcolor": "#888",
          "arrowhead": 2,
          "arrowsize": 1,
          "arrowwidth": 2,
          "ax": 49,
          "axref": "x",
          "ay": 11,
          "ayref": "y",
          "showarrow": true,
          "text": "",
          "x": 15,
          "xref": "x",
          "y": 19,
          "yref": "y"
         },
         {
          "arrowcolor": "#888",
          "arrowhead": 2,
          "arrowsize": 1,
          "arrowwidth": 2,
          "ax": 61,
          "axref": "x",
          "ay": 52,
          "ayref": "y",
          "showarrow": true,
          "text": "",
          "x": 41,
          "xref": "x",
          "y": 37,
          "yref": "y"
         },
         {
          "arrowcolor": "#888",
          "arrowhead": 2,
          "arrowsize": 1,
          "arrowwidth": 2,
          "ax": 35,
          "axref": "x",
          "ay": 35,
          "ayref": "y",
          "showarrow": true,
          "text": "",
          "x": 49,
          "xref": "x",
          "y": 11,
          "yref": "y"
         },
         {
          "arrowcolor": "#888",
          "arrowhead": 2,
          "arrowsize": 1,
          "arrowwidth": 2,
          "ax": 35,
          "axref": "x",
          "ay": 35,
          "ayref": "y",
          "showarrow": true,
          "text": "",
          "x": 61,
          "xref": "x",
          "y": 52,
          "yref": "y"
         },
         {
          "arrowcolor": "#888",
          "arrowhead": 2,
          "arrowsize": 1,
          "arrowwidth": 2,
          "ax": 15,
          "axref": "x",
          "ay": 19,
          "ayref": "y",
          "showarrow": true,
          "text": "",
          "x": 25,
          "xref": "x",
          "y": 24,
          "yref": "y"
         }
        ],
        "height": 600,
        "showlegend": true,
        "template": {
         "data": {
          "bar": [
           {
            "error_x": {
             "color": "rgb(36,36,36)"
            },
            "error_y": {
             "color": "rgb(36,36,36)"
            },
            "marker": {
             "line": {
              "color": "white",
              "width": 0.5
             }
            },
            "type": "bar"
           }
          ],
          "barpolar": [
           {
            "marker": {
             "line": {
              "color": "white",
              "width": 0.5
             }
            },
            "type": "barpolar"
           }
          ],
          "carpet": [
           {
            "aaxis": {
             "endlinecolor": "rgb(36,36,36)",
             "gridcolor": "white",
             "linecolor": "white",
             "minorgridcolor": "white",
             "startlinecolor": "rgb(36,36,36)"
            },
            "baxis": {
             "endlinecolor": "rgb(36,36,36)",
             "gridcolor": "white",
             "linecolor": "white",
             "minorgridcolor": "white",
             "startlinecolor": "rgb(36,36,36)"
            },
            "type": "carpet"
           }
          ],
          "choropleth": [
           {
            "colorbar": {
             "outlinewidth": 1,
             "tickcolor": "rgb(36,36,36)",
             "ticks": "outside"
            },
            "type": "choropleth"
           }
          ],
          "contour": [
           {
            "colorbar": {
             "outlinewidth": 1,
             "tickcolor": "rgb(36,36,36)",
             "ticks": "outside"
            },
            "colorscale": [
             [
              0,
              "#440154"
             ],
             [
              0.1111111111111111,
              "#482878"
             ],
             [
              0.2222222222222222,
              "#3e4989"
             ],
             [
              0.3333333333333333,
              "#31688e"
             ],
             [
              0.4444444444444444,
              "#26828e"
             ],
             [
              0.5555555555555556,
              "#1f9e89"
             ],
             [
              0.6666666666666666,
              "#35b779"
             ],
             [
              0.7777777777777778,
              "#6ece58"
             ],
             [
              0.8888888888888888,
              "#b5de2b"
             ],
             [
              1,
              "#fde725"
             ]
            ],
            "type": "contour"
           }
          ],
          "contourcarpet": [
           {
            "colorbar": {
             "outlinewidth": 1,
             "tickcolor": "rgb(36,36,36)",
             "ticks": "outside"
            },
            "type": "contourcarpet"
           }
          ],
          "heatmap": [
           {
            "colorbar": {
             "outlinewidth": 1,
             "tickcolor": "rgb(36,36,36)",
             "ticks": "outside"
            },
            "colorscale": [
             [
              0,
              "#440154"
             ],
             [
              0.1111111111111111,
              "#482878"
             ],
             [
              0.2222222222222222,
              "#3e4989"
             ],
             [
              0.3333333333333333,
              "#31688e"
             ],
             [
              0.4444444444444444,
              "#26828e"
             ],
             [
              0.5555555555555556,
              "#1f9e89"
             ],
             [
              0.6666666666666666,
              "#35b779"
             ],
             [
              0.7777777777777778,
              "#6ece58"
             ],
             [
              0.8888888888888888,
              "#b5de2b"
             ],
             [
              1,
              "#fde725"
             ]
            ],
            "type": "heatmap"
           }
          ],
          "heatmapgl": [
           {
            "colorbar": {
             "outlinewidth": 1,
             "tickcolor": "rgb(36,36,36)",
             "ticks": "outside"
            },
            "colorscale": [
             [
              0,
              "#440154"
             ],
             [
              0.1111111111111111,
              "#482878"
             ],
             [
              0.2222222222222222,
              "#3e4989"
             ],
             [
              0.3333333333333333,
              "#31688e"
             ],
             [
              0.4444444444444444,
              "#26828e"
             ],
             [
              0.5555555555555556,
              "#1f9e89"
             ],
             [
              0.6666666666666666,
              "#35b779"
             ],
             [
              0.7777777777777778,
              "#6ece58"
             ],
             [
              0.8888888888888888,
              "#b5de2b"
             ],
             [
              1,
              "#fde725"
             ]
            ],
            "type": "heatmapgl"
           }
          ],
          "histogram": [
           {
            "marker": {
             "line": {
              "color": "white",
              "width": 0.6
             }
            },
            "type": "histogram"
           }
          ],
          "histogram2d": [
           {
            "colorbar": {
             "outlinewidth": 1,
             "tickcolor": "rgb(36,36,36)",
             "ticks": "outside"
            },
            "colorscale": [
             [
              0,
              "#440154"
             ],
             [
              0.1111111111111111,
              "#482878"
             ],
             [
              0.2222222222222222,
              "#3e4989"
             ],
             [
              0.3333333333333333,
              "#31688e"
             ],
             [
              0.4444444444444444,
              "#26828e"
             ],
             [
              0.5555555555555556,
              "#1f9e89"
             ],
             [
              0.6666666666666666,
              "#35b779"
             ],
             [
              0.7777777777777778,
              "#6ece58"
             ],
             [
              0.8888888888888888,
              "#b5de2b"
             ],
             [
              1,
              "#fde725"
             ]
            ],
            "type": "histogram2d"
           }
          ],
          "histogram2dcontour": [
           {
            "colorbar": {
             "outlinewidth": 1,
             "tickcolor": "rgb(36,36,36)",
             "ticks": "outside"
            },
            "colorscale": [
             [
              0,
              "#440154"
             ],
             [
              0.1111111111111111,
              "#482878"
             ],
             [
              0.2222222222222222,
              "#3e4989"
             ],
             [
              0.3333333333333333,
              "#31688e"
             ],
             [
              0.4444444444444444,
              "#26828e"
             ],
             [
              0.5555555555555556,
              "#1f9e89"
             ],
             [
              0.6666666666666666,
              "#35b779"
             ],
             [
              0.7777777777777778,
              "#6ece58"
             ],
             [
              0.8888888888888888,
              "#b5de2b"
             ],
             [
              1,
              "#fde725"
             ]
            ],
            "type": "histogram2dcontour"
           }
          ],
          "mesh3d": [
           {
            "colorbar": {
             "outlinewidth": 1,
             "tickcolor": "rgb(36,36,36)",
             "ticks": "outside"
            },
            "type": "mesh3d"
           }
          ],
          "parcoords": [
           {
            "line": {
             "colorbar": {
              "outlinewidth": 1,
              "tickcolor": "rgb(36,36,36)",
              "ticks": "outside"
             }
            },
            "type": "parcoords"
           }
          ],
          "pie": [
           {
            "automargin": true,
            "type": "pie"
           }
          ],
          "scatter": [
           {
            "marker": {
             "colorbar": {
              "outlinewidth": 1,
              "tickcolor": "rgb(36,36,36)",
              "ticks": "outside"
             }
            },
            "type": "scatter"
           }
          ],
          "scatter3d": [
           {
            "line": {
             "colorbar": {
              "outlinewidth": 1,
              "tickcolor": "rgb(36,36,36)",
              "ticks": "outside"
             }
            },
            "marker": {
             "colorbar": {
              "outlinewidth": 1,
              "tickcolor": "rgb(36,36,36)",
              "ticks": "outside"
             }
            },
            "type": "scatter3d"
           }
          ],
          "scattercarpet": [
           {
            "marker": {
             "colorbar": {
              "outlinewidth": 1,
              "tickcolor": "rgb(36,36,36)",
              "ticks": "outside"
             }
            },
            "type": "scattercarpet"
           }
          ],
          "scattergeo": [
           {
            "marker": {
             "colorbar": {
              "outlinewidth": 1,
              "tickcolor": "rgb(36,36,36)",
              "ticks": "outside"
             }
            },
            "type": "scattergeo"
           }
          ],
          "scattergl": [
           {
            "marker": {
             "colorbar": {
              "outlinewidth": 1,
              "tickcolor": "rgb(36,36,36)",
              "ticks": "outside"
             }
            },
            "type": "scattergl"
           }
          ],
          "scattermapbox": [
           {
            "marker": {
             "colorbar": {
              "outlinewidth": 1,
              "tickcolor": "rgb(36,36,36)",
              "ticks": "outside"
             }
            },
            "type": "scattermapbox"
           }
          ],
          "scatterpolar": [
           {
            "marker": {
             "colorbar": {
              "outlinewidth": 1,
              "tickcolor": "rgb(36,36,36)",
              "ticks": "outside"
             }
            },
            "type": "scatterpolar"
           }
          ],
          "scatterpolargl": [
           {
            "marker": {
             "colorbar": {
              "outlinewidth": 1,
              "tickcolor": "rgb(36,36,36)",
              "ticks": "outside"
             }
            },
            "type": "scatterpolargl"
           }
          ],
          "scatterternary": [
           {
            "marker": {
             "colorbar": {
              "outlinewidth": 1,
              "tickcolor": "rgb(36,36,36)",
              "ticks": "outside"
             }
            },
            "type": "scatterternary"
           }
          ],
          "surface": [
           {
            "colorbar": {
             "outlinewidth": 1,
             "tickcolor": "rgb(36,36,36)",
             "ticks": "outside"
            },
            "colorscale": [
             [
              0,
              "#440154"
             ],
             [
              0.1111111111111111,
              "#482878"
             ],
             [
              0.2222222222222222,
              "#3e4989"
             ],
             [
              0.3333333333333333,
              "#31688e"
             ],
             [
              0.4444444444444444,
              "#26828e"
             ],
             [
              0.5555555555555556,
              "#1f9e89"
             ],
             [
              0.6666666666666666,
              "#35b779"
             ],
             [
              0.7777777777777778,
              "#6ece58"
             ],
             [
              0.8888888888888888,
              "#b5de2b"
             ],
             [
              1,
              "#fde725"
             ]
            ],
            "type": "surface"
           }
          ],
          "table": [
           {
            "cells": {
             "fill": {
              "color": "rgb(237,237,237)"
             },
             "line": {
              "color": "white"
             }
            },
            "header": {
             "fill": {
              "color": "rgb(217,217,217)"
             },
             "line": {
              "color": "white"
             }
            },
            "type": "table"
           }
          ]
         },
         "layout": {
          "annotationdefaults": {
           "arrowhead": 0,
           "arrowwidth": 1
          },
          "coloraxis": {
           "colorbar": {
            "outlinewidth": 1,
            "tickcolor": "rgb(36,36,36)",
            "ticks": "outside"
           }
          },
          "colorscale": {
           "diverging": [
            [
             0,
             "rgb(103,0,31)"
            ],
            [
             0.1,
             "rgb(178,24,43)"
            ],
            [
             0.2,
             "rgb(214,96,77)"
            ],
            [
             0.3,
             "rgb(244,165,130)"
            ],
            [
             0.4,
             "rgb(253,219,199)"
            ],
            [
             0.5,
             "rgb(247,247,247)"
            ],
            [
             0.6,
             "rgb(209,229,240)"
            ],
            [
             0.7,
             "rgb(146,197,222)"
            ],
            [
             0.8,
             "rgb(67,147,195)"
            ],
            [
             0.9,
             "rgb(33,102,172)"
            ],
            [
             1,
             "rgb(5,48,97)"
            ]
           ],
           "sequential": [
            [
             0,
             "#440154"
            ],
            [
             0.1111111111111111,
             "#482878"
            ],
            [
             0.2222222222222222,
             "#3e4989"
            ],
            [
             0.3333333333333333,
             "#31688e"
            ],
            [
             0.4444444444444444,
             "#26828e"
            ],
            [
             0.5555555555555556,
             "#1f9e89"
            ],
            [
             0.6666666666666666,
             "#35b779"
            ],
            [
             0.7777777777777778,
             "#6ece58"
            ],
            [
             0.8888888888888888,
             "#b5de2b"
            ],
            [
             1,
             "#fde725"
            ]
           ],
           "sequentialminus": [
            [
             0,
             "#440154"
            ],
            [
             0.1111111111111111,
             "#482878"
            ],
            [
             0.2222222222222222,
             "#3e4989"
            ],
            [
             0.3333333333333333,
             "#31688e"
            ],
            [
             0.4444444444444444,
             "#26828e"
            ],
            [
             0.5555555555555556,
             "#1f9e89"
            ],
            [
             0.6666666666666666,
             "#35b779"
            ],
            [
             0.7777777777777778,
             "#6ece58"
            ],
            [
             0.8888888888888888,
             "#b5de2b"
            ],
            [
             1,
             "#fde725"
            ]
           ]
          },
          "colorway": [
           "#1F77B4",
           "#FF7F0E",
           "#2CA02C",
           "#D62728",
           "#9467BD",
           "#8C564B",
           "#E377C2",
           "#7F7F7F",
           "#BCBD22",
           "#17BECF"
          ],
          "font": {
           "color": "rgb(36,36,36)"
          },
          "geo": {
           "bgcolor": "white",
           "lakecolor": "white",
           "landcolor": "white",
           "showlakes": true,
           "showland": true,
           "subunitcolor": "white"
          },
          "hoverlabel": {
           "align": "left"
          },
          "hovermode": "closest",
          "mapbox": {
           "style": "light"
          },
          "paper_bgcolor": "white",
          "plot_bgcolor": "white",
          "polar": {
           "angularaxis": {
            "gridcolor": "rgb(232,232,232)",
            "linecolor": "rgb(36,36,36)",
            "showgrid": false,
            "showline": true,
            "ticks": "outside"
           },
           "bgcolor": "white",
           "radialaxis": {
            "gridcolor": "rgb(232,232,232)",
            "linecolor": "rgb(36,36,36)",
            "showgrid": false,
            "showline": true,
            "ticks": "outside"
           }
          },
          "scene": {
           "xaxis": {
            "backgroundcolor": "white",
            "gridcolor": "rgb(232,232,232)",
            "gridwidth": 2,
            "linecolor": "rgb(36,36,36)",
            "showbackground": true,
            "showgrid": false,
            "showline": true,
            "ticks": "outside",
            "zeroline": false,
            "zerolinecolor": "rgb(36,36,36)"
           },
           "yaxis": {
            "backgroundcolor": "white",
            "gridcolor": "rgb(232,232,232)",
            "gridwidth": 2,
            "linecolor": "rgb(36,36,36)",
            "showbackground": true,
            "showgrid": false,
            "showline": true,
            "ticks": "outside",
            "zeroline": false,
            "zerolinecolor": "rgb(36,36,36)"
           },
           "zaxis": {
            "backgroundcolor": "white",
            "gridcolor": "rgb(232,232,232)",
            "gridwidth": 2,
            "linecolor": "rgb(36,36,36)",
            "showbackground": true,
            "showgrid": false,
            "showline": true,
            "ticks": "outside",
            "zeroline": false,
            "zerolinecolor": "rgb(36,36,36)"
           }
          },
          "shapedefaults": {
           "fillcolor": "black",
           "line": {
            "width": 0
           },
           "opacity": 0.3
          },
          "ternary": {
           "aaxis": {
            "gridcolor": "rgb(232,232,232)",
            "linecolor": "rgb(36,36,36)",
            "showgrid": false,
            "showline": true,
            "ticks": "outside"
           },
           "baxis": {
            "gridcolor": "rgb(232,232,232)",
            "linecolor": "rgb(36,36,36)",
            "showgrid": false,
            "showline": true,
            "ticks": "outside"
           },
           "bgcolor": "white",
           "caxis": {
            "gridcolor": "rgb(232,232,232)",
            "linecolor": "rgb(36,36,36)",
            "showgrid": false,
            "showline": true,
            "ticks": "outside"
           }
          },
          "title": {
           "x": 0.05
          },
          "xaxis": {
           "automargin": true,
           "gridcolor": "rgb(232,232,232)",
           "linecolor": "rgb(36,36,36)",
           "showgrid": false,
           "showline": true,
           "ticks": "outside",
           "title": {
            "standoff": 15
           },
           "zeroline": false,
           "zerolinecolor": "rgb(36,36,36)"
          },
          "yaxis": {
           "automargin": true,
           "gridcolor": "rgb(232,232,232)",
           "linecolor": "rgb(36,36,36)",
           "showgrid": false,
           "showline": true,
           "ticks": "outside",
           "title": {
            "standoff": 15
           },
           "zeroline": false,
           "zerolinecolor": "rgb(36,36,36)"
          }
         }
        },
        "title": {
         "text": "r105C5_e<br>Objective: 151.15"
        },
        "xaxis": {
         "anchor": "y",
         "constrain": "domain",
         "domain": [
          0,
          1
         ],
         "mirror": true,
         "range": [
          0,
          70.4
         ],
         "showline": true,
         "ticks": "outside",
         "title": {
          "text": "x"
         }
        },
        "yaxis": {
         "anchor": "x",
         "domain": [
          0,
          1
         ],
         "mirror": true,
         "range": [
          0,
          57.2
         ],
         "scaleanchor": "x",
         "scaleratio": 1,
         "showline": true,
         "ticks": "outside",
         "title": {
          "text": "y"
         }
        }
       }
      },
      "text/html": [
       "<div>\n",
       "        \n",
       "        \n",
       "            <div id=\"9a18852d-b83b-4b29-8726-178b33a5c4a9\" class=\"plotly-graph-div\" style=\"height:600px; width:100%;\"></div>\n",
       "            <script type=\"text/javascript\">\n",
       "                require([\"plotly\"], function(Plotly) {\n",
       "                    window.PLOTLYENV=window.PLOTLYENV || {};\n",
       "                    \n",
       "                if (document.getElementById(\"9a18852d-b83b-4b29-8726-178b33a5c4a9\")) {\n",
       "                    Plotly.newPlot(\n",
       "                        '9a18852d-b83b-4b29-8726-178b33a5c4a9',\n",
       "                        [{\"customdata\": [[[\"start\"]], [[\"end\"]], [[\"s\"]], [[\"s\"]], [[\"s\"]], [[\"m\"]], [[\"m\"]], [[\"m\"]], [[\"m\"]], [[\"m\"]]], \"hoverinfo\": \"none\", \"hovertemplate\": \"<b>%{text}</b>: %{customdata[0]}<br>X: %{x}<br>Y: %{y}\", \"marker\": {\"color\": [\"rgba(191, 243, 180, 0.8)\", \"rgba(191, 243, 180, 0.8)\", \"rgba(167, 215, 241, 0.8)\", \"rgba(167, 215, 241, 0.8)\", \"rgba(167, 215, 241, 0.8)\", \"rgba(240, 169, 171, 0.8)\", \"rgba(240, 169, 171, 0.8)\", \"rgba(240, 169, 171, 0.8)\", \"rgba(240, 169, 171, 0.8)\", \"rgba(240, 169, 171, 0.8)\"], \"size\": 25}, \"mode\": \"markers+text\", \"name\": \"Nodes\", \"showlegend\": true, \"text\": [\"D0\", \"D1\", \"S0\", \"S1\", \"S13\", \"C91\", \"C28\", \"C75\", \"C78\", \"C95\"], \"type\": \"scatter\", \"x\": [35, 35, 35, 64, 21, 15, 41, 49, 61, 25], \"y\": [35, 35, 35, 37, 22, 19, 37, 11, 52, 24]}],\n",
       "                        {\"annotations\": [{\"arrowcolor\": \"#888\", \"arrowhead\": 2, \"arrowsize\": 1, \"arrowwidth\": 2, \"ax\": 41, \"axref\": \"x\", \"ay\": 37, \"ayref\": \"y\", \"showarrow\": true, \"text\": \"\", \"x\": 35, \"xref\": \"x\", \"y\": 35, \"yref\": \"y\"}, {\"arrowcolor\": \"#888\", \"arrowhead\": 2, \"arrowsize\": 1, \"arrowwidth\": 2, \"ax\": 25, \"axref\": \"x\", \"ay\": 24, \"ayref\": \"y\", \"showarrow\": true, \"text\": \"\", \"x\": 35, \"xref\": \"x\", \"y\": 35, \"yref\": \"y\"}, {\"arrowcolor\": \"#888\", \"arrowhead\": 2, \"arrowsize\": 1, \"arrowwidth\": 2, \"ax\": 49, \"axref\": \"x\", \"ay\": 11, \"ayref\": \"y\", \"showarrow\": true, \"text\": \"\", \"x\": 15, \"xref\": \"x\", \"y\": 19, \"yref\": \"y\"}, {\"arrowcolor\": \"#888\", \"arrowhead\": 2, \"arrowsize\": 1, \"arrowwidth\": 2, \"ax\": 61, \"axref\": \"x\", \"ay\": 52, \"ayref\": \"y\", \"showarrow\": true, \"text\": \"\", \"x\": 41, \"xref\": \"x\", \"y\": 37, \"yref\": \"y\"}, {\"arrowcolor\": \"#888\", \"arrowhead\": 2, \"arrowsize\": 1, \"arrowwidth\": 2, \"ax\": 35, \"axref\": \"x\", \"ay\": 35, \"ayref\": \"y\", \"showarrow\": true, \"text\": \"\", \"x\": 49, \"xref\": \"x\", \"y\": 11, \"yref\": \"y\"}, {\"arrowcolor\": \"#888\", \"arrowhead\": 2, \"arrowsize\": 1, \"arrowwidth\": 2, \"ax\": 35, \"axref\": \"x\", \"ay\": 35, \"ayref\": \"y\", \"showarrow\": true, \"text\": \"\", \"x\": 61, \"xref\": \"x\", \"y\": 52, \"yref\": \"y\"}, {\"arrowcolor\": \"#888\", \"arrowhead\": 2, \"arrowsize\": 1, \"arrowwidth\": 2, \"ax\": 15, \"axref\": \"x\", \"ay\": 19, \"ayref\": \"y\", \"showarrow\": true, \"text\": \"\", \"x\": 25, \"xref\": \"x\", \"y\": 24, \"yref\": \"y\"}], \"height\": 600, \"showlegend\": true, \"template\": {\"data\": {\"bar\": [{\"error_x\": {\"color\": \"rgb(36,36,36)\"}, \"error_y\": {\"color\": \"rgb(36,36,36)\"}, \"marker\": {\"line\": {\"color\": \"white\", \"width\": 0.5}}, \"type\": \"bar\"}], \"barpolar\": [{\"marker\": {\"line\": {\"color\": \"white\", \"width\": 0.5}}, \"type\": \"barpolar\"}], \"carpet\": [{\"aaxis\": {\"endlinecolor\": \"rgb(36,36,36)\", \"gridcolor\": \"white\", \"linecolor\": \"white\", \"minorgridcolor\": \"white\", \"startlinecolor\": \"rgb(36,36,36)\"}, \"baxis\": {\"endlinecolor\": \"rgb(36,36,36)\", \"gridcolor\": \"white\", \"linecolor\": \"white\", \"minorgridcolor\": \"white\", \"startlinecolor\": \"rgb(36,36,36)\"}, \"type\": \"carpet\"}], \"choropleth\": [{\"colorbar\": {\"outlinewidth\": 1, \"tickcolor\": \"rgb(36,36,36)\", \"ticks\": \"outside\"}, \"type\": \"choropleth\"}], \"contour\": [{\"colorbar\": {\"outlinewidth\": 1, \"tickcolor\": \"rgb(36,36,36)\", \"ticks\": \"outside\"}, \"colorscale\": [[0.0, \"#440154\"], [0.1111111111111111, \"#482878\"], [0.2222222222222222, \"#3e4989\"], [0.3333333333333333, \"#31688e\"], [0.4444444444444444, \"#26828e\"], [0.5555555555555556, \"#1f9e89\"], [0.6666666666666666, \"#35b779\"], [0.7777777777777778, \"#6ece58\"], [0.8888888888888888, \"#b5de2b\"], [1.0, \"#fde725\"]], \"type\": \"contour\"}], \"contourcarpet\": [{\"colorbar\": {\"outlinewidth\": 1, \"tickcolor\": \"rgb(36,36,36)\", \"ticks\": \"outside\"}, \"type\": \"contourcarpet\"}], \"heatmap\": [{\"colorbar\": {\"outlinewidth\": 1, \"tickcolor\": \"rgb(36,36,36)\", \"ticks\": \"outside\"}, \"colorscale\": [[0.0, \"#440154\"], [0.1111111111111111, \"#482878\"], [0.2222222222222222, \"#3e4989\"], [0.3333333333333333, \"#31688e\"], [0.4444444444444444, \"#26828e\"], [0.5555555555555556, \"#1f9e89\"], [0.6666666666666666, \"#35b779\"], [0.7777777777777778, \"#6ece58\"], [0.8888888888888888, \"#b5de2b\"], [1.0, \"#fde725\"]], \"type\": \"heatmap\"}], \"heatmapgl\": [{\"colorbar\": {\"outlinewidth\": 1, \"tickcolor\": \"rgb(36,36,36)\", \"ticks\": \"outside\"}, \"colorscale\": [[0.0, \"#440154\"], [0.1111111111111111, \"#482878\"], [0.2222222222222222, \"#3e4989\"], [0.3333333333333333, \"#31688e\"], [0.4444444444444444, \"#26828e\"], [0.5555555555555556, \"#1f9e89\"], [0.6666666666666666, \"#35b779\"], [0.7777777777777778, \"#6ece58\"], [0.8888888888888888, \"#b5de2b\"], [1.0, \"#fde725\"]], \"type\": \"heatmapgl\"}], \"histogram\": [{\"marker\": {\"line\": {\"color\": \"white\", \"width\": 0.6}}, \"type\": \"histogram\"}], \"histogram2d\": [{\"colorbar\": {\"outlinewidth\": 1, \"tickcolor\": \"rgb(36,36,36)\", \"ticks\": \"outside\"}, \"colorscale\": [[0.0, \"#440154\"], [0.1111111111111111, \"#482878\"], [0.2222222222222222, \"#3e4989\"], [0.3333333333333333, \"#31688e\"], [0.4444444444444444, \"#26828e\"], [0.5555555555555556, \"#1f9e89\"], [0.6666666666666666, \"#35b779\"], [0.7777777777777778, \"#6ece58\"], [0.8888888888888888, \"#b5de2b\"], [1.0, \"#fde725\"]], \"type\": \"histogram2d\"}], \"histogram2dcontour\": [{\"colorbar\": {\"outlinewidth\": 1, \"tickcolor\": \"rgb(36,36,36)\", \"ticks\": \"outside\"}, \"colorscale\": [[0.0, \"#440154\"], [0.1111111111111111, \"#482878\"], [0.2222222222222222, \"#3e4989\"], [0.3333333333333333, \"#31688e\"], [0.4444444444444444, \"#26828e\"], [0.5555555555555556, \"#1f9e89\"], [0.6666666666666666, \"#35b779\"], [0.7777777777777778, \"#6ece58\"], [0.8888888888888888, \"#b5de2b\"], [1.0, \"#fde725\"]], \"type\": \"histogram2dcontour\"}], \"mesh3d\": [{\"colorbar\": {\"outlinewidth\": 1, \"tickcolor\": \"rgb(36,36,36)\", \"ticks\": \"outside\"}, \"type\": \"mesh3d\"}], \"parcoords\": [{\"line\": {\"colorbar\": {\"outlinewidth\": 1, \"tickcolor\": \"rgb(36,36,36)\", \"ticks\": \"outside\"}}, \"type\": \"parcoords\"}], \"pie\": [{\"automargin\": true, \"type\": \"pie\"}], \"scatter\": [{\"marker\": {\"colorbar\": {\"outlinewidth\": 1, \"tickcolor\": \"rgb(36,36,36)\", \"ticks\": \"outside\"}}, \"type\": \"scatter\"}], \"scatter3d\": [{\"line\": {\"colorbar\": {\"outlinewidth\": 1, \"tickcolor\": \"rgb(36,36,36)\", \"ticks\": \"outside\"}}, \"marker\": {\"colorbar\": {\"outlinewidth\": 1, \"tickcolor\": \"rgb(36,36,36)\", \"ticks\": \"outside\"}}, \"type\": \"scatter3d\"}], \"scattercarpet\": [{\"marker\": {\"colorbar\": {\"outlinewidth\": 1, \"tickcolor\": \"rgb(36,36,36)\", \"ticks\": \"outside\"}}, \"type\": \"scattercarpet\"}], \"scattergeo\": [{\"marker\": {\"colorbar\": {\"outlinewidth\": 1, \"tickcolor\": \"rgb(36,36,36)\", \"ticks\": \"outside\"}}, \"type\": \"scattergeo\"}], \"scattergl\": [{\"marker\": {\"colorbar\": {\"outlinewidth\": 1, \"tickcolor\": \"rgb(36,36,36)\", \"ticks\": \"outside\"}}, \"type\": \"scattergl\"}], \"scattermapbox\": [{\"marker\": {\"colorbar\": {\"outlinewidth\": 1, \"tickcolor\": \"rgb(36,36,36)\", \"ticks\": \"outside\"}}, \"type\": \"scattermapbox\"}], \"scatterpolar\": [{\"marker\": {\"colorbar\": {\"outlinewidth\": 1, \"tickcolor\": \"rgb(36,36,36)\", \"ticks\": \"outside\"}}, \"type\": \"scatterpolar\"}], \"scatterpolargl\": [{\"marker\": {\"colorbar\": {\"outlinewidth\": 1, \"tickcolor\": \"rgb(36,36,36)\", \"ticks\": \"outside\"}}, \"type\": \"scatterpolargl\"}], \"scatterternary\": [{\"marker\": {\"colorbar\": {\"outlinewidth\": 1, \"tickcolor\": \"rgb(36,36,36)\", \"ticks\": \"outside\"}}, \"type\": \"scatterternary\"}], \"surface\": [{\"colorbar\": {\"outlinewidth\": 1, \"tickcolor\": \"rgb(36,36,36)\", \"ticks\": \"outside\"}, \"colorscale\": [[0.0, \"#440154\"], [0.1111111111111111, \"#482878\"], [0.2222222222222222, \"#3e4989\"], [0.3333333333333333, \"#31688e\"], [0.4444444444444444, \"#26828e\"], [0.5555555555555556, \"#1f9e89\"], [0.6666666666666666, \"#35b779\"], [0.7777777777777778, \"#6ece58\"], [0.8888888888888888, \"#b5de2b\"], [1.0, \"#fde725\"]], \"type\": \"surface\"}], \"table\": [{\"cells\": {\"fill\": {\"color\": \"rgb(237,237,237)\"}, \"line\": {\"color\": \"white\"}}, \"header\": {\"fill\": {\"color\": \"rgb(217,217,217)\"}, \"line\": {\"color\": \"white\"}}, \"type\": \"table\"}]}, \"layout\": {\"annotationdefaults\": {\"arrowhead\": 0, \"arrowwidth\": 1}, \"coloraxis\": {\"colorbar\": {\"outlinewidth\": 1, \"tickcolor\": \"rgb(36,36,36)\", \"ticks\": \"outside\"}}, \"colorscale\": {\"diverging\": [[0.0, \"rgb(103,0,31)\"], [0.1, \"rgb(178,24,43)\"], [0.2, \"rgb(214,96,77)\"], [0.3, \"rgb(244,165,130)\"], [0.4, \"rgb(253,219,199)\"], [0.5, \"rgb(247,247,247)\"], [0.6, \"rgb(209,229,240)\"], [0.7, \"rgb(146,197,222)\"], [0.8, \"rgb(67,147,195)\"], [0.9, \"rgb(33,102,172)\"], [1.0, \"rgb(5,48,97)\"]], \"sequential\": [[0.0, \"#440154\"], [0.1111111111111111, \"#482878\"], [0.2222222222222222, \"#3e4989\"], [0.3333333333333333, \"#31688e\"], [0.4444444444444444, \"#26828e\"], [0.5555555555555556, \"#1f9e89\"], [0.6666666666666666, \"#35b779\"], [0.7777777777777778, \"#6ece58\"], [0.8888888888888888, \"#b5de2b\"], [1.0, \"#fde725\"]], \"sequentialminus\": [[0.0, \"#440154\"], [0.1111111111111111, \"#482878\"], [0.2222222222222222, \"#3e4989\"], [0.3333333333333333, \"#31688e\"], [0.4444444444444444, \"#26828e\"], [0.5555555555555556, \"#1f9e89\"], [0.6666666666666666, \"#35b779\"], [0.7777777777777778, \"#6ece58\"], [0.8888888888888888, \"#b5de2b\"], [1.0, \"#fde725\"]]}, \"colorway\": [\"#1F77B4\", \"#FF7F0E\", \"#2CA02C\", \"#D62728\", \"#9467BD\", \"#8C564B\", \"#E377C2\", \"#7F7F7F\", \"#BCBD22\", \"#17BECF\"], \"font\": {\"color\": \"rgb(36,36,36)\"}, \"geo\": {\"bgcolor\": \"white\", \"lakecolor\": \"white\", \"landcolor\": \"white\", \"showlakes\": true, \"showland\": true, \"subunitcolor\": \"white\"}, \"hoverlabel\": {\"align\": \"left\"}, \"hovermode\": \"closest\", \"mapbox\": {\"style\": \"light\"}, \"paper_bgcolor\": \"white\", \"plot_bgcolor\": \"white\", \"polar\": {\"angularaxis\": {\"gridcolor\": \"rgb(232,232,232)\", \"linecolor\": \"rgb(36,36,36)\", \"showgrid\": false, \"showline\": true, \"ticks\": \"outside\"}, \"bgcolor\": \"white\", \"radialaxis\": {\"gridcolor\": \"rgb(232,232,232)\", \"linecolor\": \"rgb(36,36,36)\", \"showgrid\": false, \"showline\": true, \"ticks\": \"outside\"}}, \"scene\": {\"xaxis\": {\"backgroundcolor\": \"white\", \"gridcolor\": \"rgb(232,232,232)\", \"gridwidth\": 2, \"linecolor\": \"rgb(36,36,36)\", \"showbackground\": true, \"showgrid\": false, \"showline\": true, \"ticks\": \"outside\", \"zeroline\": false, \"zerolinecolor\": \"rgb(36,36,36)\"}, \"yaxis\": {\"backgroundcolor\": \"white\", \"gridcolor\": \"rgb(232,232,232)\", \"gridwidth\": 2, \"linecolor\": \"rgb(36,36,36)\", \"showbackground\": true, \"showgrid\": false, \"showline\": true, \"ticks\": \"outside\", \"zeroline\": false, \"zerolinecolor\": \"rgb(36,36,36)\"}, \"zaxis\": {\"backgroundcolor\": \"white\", \"gridcolor\": \"rgb(232,232,232)\", \"gridwidth\": 2, \"linecolor\": \"rgb(36,36,36)\", \"showbackground\": true, \"showgrid\": false, \"showline\": true, \"ticks\": \"outside\", \"zeroline\": false, \"zerolinecolor\": \"rgb(36,36,36)\"}}, \"shapedefaults\": {\"fillcolor\": \"black\", \"line\": {\"width\": 0}, \"opacity\": 0.3}, \"ternary\": {\"aaxis\": {\"gridcolor\": \"rgb(232,232,232)\", \"linecolor\": \"rgb(36,36,36)\", \"showgrid\": false, \"showline\": true, \"ticks\": \"outside\"}, \"baxis\": {\"gridcolor\": \"rgb(232,232,232)\", \"linecolor\": \"rgb(36,36,36)\", \"showgrid\": false, \"showline\": true, \"ticks\": \"outside\"}, \"bgcolor\": \"white\", \"caxis\": {\"gridcolor\": \"rgb(232,232,232)\", \"linecolor\": \"rgb(36,36,36)\", \"showgrid\": false, \"showline\": true, \"ticks\": \"outside\"}}, \"title\": {\"x\": 0.05}, \"xaxis\": {\"automargin\": true, \"gridcolor\": \"rgb(232,232,232)\", \"linecolor\": \"rgb(36,36,36)\", \"showgrid\": false, \"showline\": true, \"ticks\": \"outside\", \"title\": {\"standoff\": 15}, \"zeroline\": false, \"zerolinecolor\": \"rgb(36,36,36)\"}, \"yaxis\": {\"automargin\": true, \"gridcolor\": \"rgb(232,232,232)\", \"linecolor\": \"rgb(36,36,36)\", \"showgrid\": false, \"showline\": true, \"ticks\": \"outside\", \"title\": {\"standoff\": 15}, \"zeroline\": false, \"zerolinecolor\": \"rgb(36,36,36)\"}}}, \"title\": {\"text\": \"r105C5_e<br>Objective: 151.15\"}, \"xaxis\": {\"anchor\": \"y\", \"constrain\": \"domain\", \"domain\": [0.0, 1.0], \"mirror\": true, \"range\": [0, 70.4], \"showline\": true, \"ticks\": \"outside\", \"title\": {\"text\": \"x\"}}, \"yaxis\": {\"anchor\": \"x\", \"domain\": [0.0, 1.0], \"mirror\": true, \"range\": [0, 57.2], \"scaleanchor\": \"x\", \"scaleratio\": 1, \"showline\": true, \"ticks\": \"outside\", \"title\": {\"text\": \"y\"}}},\n",
       "                        {\"responsive\": true}\n",
       "                    ).then(function(){\n",
       "                            \n",
       "var gd = document.getElementById('9a18852d-b83b-4b29-8726-178b33a5c4a9');\n",
       "var x = new MutationObserver(function (mutations, observer) {{\n",
       "        var display = window.getComputedStyle(gd).display;\n",
       "        if (!display || display === 'none') {{\n",
       "            console.log([gd, 'removed!']);\n",
       "            Plotly.purge(gd);\n",
       "            observer.disconnect();\n",
       "        }}\n",
       "}});\n",
       "\n",
       "// Listen for the removal of the full notebook cells\n",
       "var notebookContainer = gd.closest('#notebook-container');\n",
       "if (notebookContainer) {{\n",
       "    x.observe(notebookContainer, {childList: true});\n",
       "}}\n",
       "\n",
       "// Listen for the clearing of the current output cell\n",
       "var outputEl = gd.closest('.output');\n",
       "if (outputEl) {{\n",
       "    x.observe(outputEl, {childList: true});\n",
       "}}\n",
       "\n",
       "                        })\n",
       "                };\n",
       "                });\n",
       "            </script>\n",
       "        </div>"
      ]
     },
     "metadata": {},
     "output_type": "display_data"
    }
   ],
   "source": [
    "plot_interactive_graph(m.data['V'], e=e_flat, obj=m.instance.obj(), instance_name=m.instance_name)"
   ]
  },
  {
   "cell_type": "code",
   "execution_count": null,
   "metadata": {},
   "outputs": [],
   "source": []
  },
  {
   "cell_type": "code",
   "execution_count": 313,
   "metadata": {},
   "outputs": [
    {
     "ename": "AttributeError",
     "evalue": "'IndexedConstraint' object has no attribute 'get_values'",
     "output_type": "error",
     "traceback": [
      "\u001b[0;31m---------------------------------------------------------------------------\u001b[0m",
      "\u001b[0;31mAttributeError\u001b[0m                            Traceback (most recent call last)",
      "\u001b[0;32m<ipython-input-313-cea4d612ebaf>\u001b[0m in \u001b[0;36m<module>\u001b[0;34m\u001b[0m\n\u001b[1;32m      1\u001b[0m \u001b[0mv\u001b[0m \u001b[0;34m=\u001b[0m \u001b[0;34m'constraint_energy_customer'\u001b[0m\u001b[0;34m\u001b[0m\u001b[0;34m\u001b[0m\u001b[0m\n\u001b[1;32m      2\u001b[0m \u001b[0mx\u001b[0m \u001b[0;34m=\u001b[0m \u001b[0mgetattr\u001b[0m\u001b[0;34m(\u001b[0m\u001b[0mm\u001b[0m\u001b[0;34m.\u001b[0m\u001b[0minstance\u001b[0m\u001b[0;34m,\u001b[0m \u001b[0mv\u001b[0m\u001b[0;34m)\u001b[0m\u001b[0;34m\u001b[0m\u001b[0;34m\u001b[0m\u001b[0m\n\u001b[0;32m----> 3\u001b[0;31m \u001b[0mkeys\u001b[0m\u001b[0;34m,\u001b[0m \u001b[0mvalues\u001b[0m \u001b[0;34m=\u001b[0m \u001b[0mzip\u001b[0m\u001b[0;34m(\u001b[0m\u001b[0;34m*\u001b[0m\u001b[0mx\u001b[0m\u001b[0;34m.\u001b[0m\u001b[0mget_values\u001b[0m\u001b[0;34m(\u001b[0m\u001b[0;34m)\u001b[0m\u001b[0;34m.\u001b[0m\u001b[0mitems\u001b[0m\u001b[0;34m(\u001b[0m\u001b[0;34m)\u001b[0m\u001b[0;34m)\u001b[0m\u001b[0;34m\u001b[0m\u001b[0;34m\u001b[0m\u001b[0m\n\u001b[0m",
      "\u001b[0;31mAttributeError\u001b[0m: 'IndexedConstraint' object has no attribute 'get_values'"
     ]
    }
   ],
   "source": [
    "v = 'constraint_energy_customer'\n",
    "x = getattr(m.instance, v)\n",
    "keys, values = zip(*x.get_values().items())"
   ]
  },
  {
   "cell_type": "code",
   "execution_count": 104,
   "metadata": {},
   "outputs": [
    {
     "name": "stdout",
     "output_type": "stream",
     "text": [
      "constraint_energy_customer : Size=49, Index=constraint_energy_customer_index, Active=True\n",
      "    Key              : Lower : Body                                                                                          : Upper : Active\n",
      "      ('C28', 'C75') :  -Inf :       xa[C75] - (xa[C28] - 27.202941017470888*xgamma[C28,C75] + 5000.0*(1 - xgamma[C28,C75])) :   0.0 :   True\n",
      "      ('C28', 'C78') :  -Inf :                     xa[C78] - (xa[C28] - 25.0*xgamma[C28,C78] + 5000.0*(1 - xgamma[C28,C78])) :   0.0 :   True\n",
      "      ('C28', 'C91') :  -Inf :       xa[C91] - (xa[C28] - 31.622776601683793*xgamma[C28,C91] + 5000.0*(1 - xgamma[C28,C91])) :   0.0 :   True\n",
      "      ('C28', 'C95') :  -Inf :       xa[C95] - (xa[C28] - 20.615528128088304*xgamma[C28,C95] + 5000.0*(1 - xgamma[C28,C95])) :   0.0 :   True\n",
      "       ('C28', 'D1') :  -Inf :           xa[D1] - (xa[C28] - 6.324555320336759*xgamma[C28,D1] + 5000.0*(1 - xgamma[C28,D1])) :   0.0 :   True\n",
      "     ('C28', 'S0_0') :  -Inf :     xa[S0_0] - (xa[C28] - 6.324555320336759*xgamma[C28,S0_0] + 5000.0*(1 - xgamma[C28,S0_0])) :   0.0 :   True\n",
      "    ('C28', 'S13_0') :  -Inf :               xa[S13_0] - (xa[C28] - 25.0*xgamma[C28,S13_0] + 5000.0*(1 - xgamma[C28,S13_0])) :   0.0 :   True\n",
      "     ('C28', 'S1_0') :  -Inf :                  xa[S1_0] - (xa[C28] - 23.0*xgamma[C28,S1_0] + 5000.0*(1 - xgamma[C28,S1_0])) :   0.0 :   True\n",
      "      ('C75', 'C28') :  -Inf :       xa[C28] - (xa[C75] - 27.202941017470888*xgamma[C75,C28] + 5000.0*(1 - xgamma[C75,C28])) :   0.0 :   True\n",
      "      ('C75', 'C78') :  -Inf :       xa[C78] - (xa[C75] - 42.720018726587654*xgamma[C75,C78] + 5000.0*(1 - xgamma[C75,C78])) :   0.0 :   True\n",
      "      ('C75', 'C91') :  -Inf :        xa[C91] - (xa[C75] - 34.92849839314596*xgamma[C75,C91] + 5000.0*(1 - xgamma[C75,C91])) :   0.0 :   True\n",
      "      ('C75', 'C95') :  -Inf :       xa[C95] - (xa[C75] - 27.294688127912362*xgamma[C75,C95] + 5000.0*(1 - xgamma[C75,C95])) :   0.0 :   True\n",
      "       ('C75', 'D1') :  -Inf :          xa[D1] - (xa[C75] - 27.784887978899608*xgamma[C75,D1] + 5000.0*(1 - xgamma[C75,D1])) :   0.0 :   True\n",
      "     ('C75', 'S0_0') :  -Inf :    xa[S0_0] - (xa[C75] - 27.784887978899608*xgamma[C75,S0_0] + 5000.0*(1 - xgamma[C75,S0_0])) :   0.0 :   True\n",
      "    ('C75', 'S13_0') :  -Inf : xa[S13_0] - (xa[C75] - 30.083217912982647*xgamma[C75,S13_0] + 5000.0*(1 - xgamma[C75,S13_0])) :   0.0 :   True\n",
      "     ('C75', 'S1_0') :  -Inf :     xa[S1_0] - (xa[C75] - 30.01666203960727*xgamma[C75,S1_0] + 5000.0*(1 - xgamma[C75,S1_0])) :   0.0 :   True\n",
      "      ('C78', 'C28') :  -Inf :                     xa[C28] - (xa[C78] - 25.0*xgamma[C78,C28] + 5000.0*(1 - xgamma[C78,C28])) :   0.0 :   True\n",
      "      ('C78', 'C75') :  -Inf :       xa[C75] - (xa[C78] - 42.720018726587654*xgamma[C78,C75] + 5000.0*(1 - xgamma[C78,C75])) :   0.0 :   True\n",
      "      ('C78', 'C91') :  -Inf :        xa[C91] - (xa[C78] - 56.61271941887264*xgamma[C78,C91] + 5000.0*(1 - xgamma[C78,C91])) :   0.0 :   True\n",
      "      ('C78', 'C95') :  -Inf :        xa[C95] - (xa[C78] - 45.60701700396552*xgamma[C78,C95] + 5000.0*(1 - xgamma[C78,C95])) :   0.0 :   True\n",
      "       ('C78', 'D1') :  -Inf :          xa[D1] - (xa[C78] - 31.064449134018133*xgamma[C78,D1] + 5000.0*(1 - xgamma[C78,D1])) :   0.0 :   True\n",
      "     ('C78', 'S0_0') :  -Inf :    xa[S0_0] - (xa[C78] - 31.064449134018133*xgamma[C78,S0_0] + 5000.0*(1 - xgamma[C78,S0_0])) :   0.0 :   True\n",
      "    ('C78', 'S13_0') :  -Inf :               xa[S13_0] - (xa[C78] - 50.0*xgamma[C78,S13_0] + 5000.0*(1 - xgamma[C78,S13_0])) :   0.0 :   True\n",
      "     ('C78', 'S1_0') :  -Inf :    xa[S1_0] - (xa[C78] - 15.297058540778355*xgamma[C78,S1_0] + 5000.0*(1 - xgamma[C78,S1_0])) :   0.0 :   True\n",
      "      ('C91', 'C28') :  -Inf :       xa[C28] - (xa[C91] - 31.622776601683793*xgamma[C91,C28] + 5000.0*(1 - xgamma[C91,C28])) :   0.0 :   True\n",
      "      ('C91', 'C75') :  -Inf :        xa[C75] - (xa[C91] - 34.92849839314596*xgamma[C91,C75] + 5000.0*(1 - xgamma[C91,C75])) :   0.0 :   True\n",
      "      ('C91', 'C78') :  -Inf :        xa[C78] - (xa[C91] - 56.61271941887264*xgamma[C91,C78] + 5000.0*(1 - xgamma[C91,C78])) :   0.0 :   True\n",
      "      ('C91', 'C95') :  -Inf :       xa[C95] - (xa[C91] - 11.180339887498949*xgamma[C91,C95] + 5000.0*(1 - xgamma[C91,C95])) :   0.0 :   True\n",
      "       ('C91', 'D1') :  -Inf :          xa[D1] - (xa[C91] - 25.612496949731394*xgamma[C91,D1] + 5000.0*(1 - xgamma[C91,D1])) :   0.0 :   True\n",
      "     ('C91', 'S0_0') :  -Inf :    xa[S0_0] - (xa[C91] - 25.612496949731394*xgamma[C91,S0_0] + 5000.0*(1 - xgamma[C91,S0_0])) :   0.0 :   True\n",
      "    ('C91', 'S13_0') :  -Inf :  xa[S13_0] - (xa[C91] - 6.708203932499369*xgamma[C91,S13_0] + 5000.0*(1 - xgamma[C91,S13_0])) :   0.0 :   True\n",
      "     ('C91', 'S1_0') :  -Inf :     xa[S1_0] - (xa[C91] - 52.20153254455275*xgamma[C91,S1_0] + 5000.0*(1 - xgamma[C91,S1_0])) :   0.0 :   True\n",
      "      ('C95', 'C28') :  -Inf :       xa[C28] - (xa[C95] - 20.615528128088304*xgamma[C95,C28] + 5000.0*(1 - xgamma[C95,C28])) :   0.0 :   True\n",
      "      ('C95', 'C75') :  -Inf :       xa[C75] - (xa[C95] - 27.294688127912362*xgamma[C95,C75] + 5000.0*(1 - xgamma[C95,C75])) :   0.0 :   True\n",
      "      ('C95', 'C78') :  -Inf :        xa[C78] - (xa[C95] - 45.60701700396552*xgamma[C95,C78] + 5000.0*(1 - xgamma[C95,C78])) :   0.0 :   True\n",
      "      ('C95', 'C91') :  -Inf :       xa[C91] - (xa[C95] - 11.180339887498949*xgamma[C95,C91] + 5000.0*(1 - xgamma[C95,C91])) :   0.0 :   True\n",
      "       ('C95', 'D1') :  -Inf :          xa[D1] - (xa[C95] - 14.866068747318506*xgamma[C95,D1] + 5000.0*(1 - xgamma[C95,D1])) :   0.0 :   True\n",
      "     ('C95', 'S0_0') :  -Inf :    xa[S0_0] - (xa[C95] - 14.866068747318506*xgamma[C95,S0_0] + 5000.0*(1 - xgamma[C95,S0_0])) :   0.0 :   True\n",
      "    ('C95', 'S13_0') :  -Inf :   xa[S13_0] - (xa[C95] - 4.47213595499958*xgamma[C95,S13_0] + 5000.0*(1 - xgamma[C95,S13_0])) :   0.0 :   True\n",
      "     ('C95', 'S1_0') :  -Inf :     xa[S1_0] - (xa[C95] - 41.10960958218893*xgamma[C95,S1_0] + 5000.0*(1 - xgamma[C95,S1_0])) :   0.0 :   True\n",
      "       ('D0', 'C28') :  -Inf :           xa[C28] - (xa[D0] - 6.324555320336759*xgamma[D0,C28] + 5000.0*(1 - xgamma[D0,C28])) :   0.0 :   True\n",
      "       ('D0', 'C75') :  -Inf :          xa[C75] - (xa[D0] - 27.784887978899608*xgamma[D0,C75] + 5000.0*(1 - xgamma[D0,C75])) :   0.0 :   True\n",
      "       ('D0', 'C78') :  -Inf :          xa[C78] - (xa[D0] - 31.064449134018133*xgamma[D0,C78] + 5000.0*(1 - xgamma[D0,C78])) :   0.0 :   True\n",
      "       ('D0', 'C91') :  -Inf :          xa[C91] - (xa[D0] - 25.612496949731394*xgamma[D0,C91] + 5000.0*(1 - xgamma[D0,C91])) :   0.0 :   True\n",
      "       ('D0', 'C95') :  -Inf :          xa[C95] - (xa[D0] - 14.866068747318506*xgamma[D0,C95] + 5000.0*(1 - xgamma[D0,C95])) :   0.0 :   True\n",
      "        ('D0', 'D1') :  -Inf :                                                xa[D1] - (xa[D0] + 5000.0*(1 - xgamma[D0,D1])) :   0.0 :   True\n",
      "      ('D0', 'S0_0') :  -Inf :                                            xa[S0_0] - (xa[D0] + 5000.0*(1 - xgamma[D0,S0_0])) :   0.0 :   True\n",
      "     ('D0', 'S13_0') :  -Inf :      xa[S13_0] - (xa[D0] - 19.1049731745428*xgamma[D0,S13_0] + 5000.0*(1 - xgamma[D0,S13_0])) :   0.0 :   True\n",
      "      ('D0', 'S1_0') :  -Inf :       xa[S1_0] - (xa[D0] - 29.068883707497267*xgamma[D0,S1_0] + 5000.0*(1 - xgamma[D0,S1_0])) :   0.0 :   True\n"
     ]
    }
   ],
   "source": [
    "m.instance.constraint_energy_customer.pprint()"
   ]
  },
  {
   "cell_type": "code",
   "execution_count": 105,
   "metadata": {},
   "outputs": [
    {
     "ename": "AttributeError",
     "evalue": "'ConcreteModel' object has no attribute 'constraint_energy_start_end_soe'",
     "output_type": "error",
     "traceback": [
      "\u001b[0;31m---------------------------------------------------------------------------\u001b[0m",
      "\u001b[0;31mAttributeError\u001b[0m                            Traceback (most recent call last)",
      "\u001b[0;32m<ipython-input-105-7e7821b256b2>\u001b[0m in \u001b[0;36m<module>\u001b[0;34m\u001b[0m\n\u001b[0;32m----> 1\u001b[0;31m \u001b[0mm\u001b[0m\u001b[0;34m.\u001b[0m\u001b[0minstance\u001b[0m\u001b[0;34m.\u001b[0m\u001b[0mconstraint_energy_start_end_soe\u001b[0m\u001b[0;34m.\u001b[0m\u001b[0mpprint\u001b[0m\u001b[0;34m(\u001b[0m\u001b[0;34m)\u001b[0m\u001b[0;34m\u001b[0m\u001b[0;34m\u001b[0m\u001b[0m\n\u001b[0m",
      "\u001b[0;32m~/anaconda/envs/local_python36_env/lib/python3.6/site-packages/pyomo/core/base/block.py\u001b[0m in \u001b[0;36m__getattr__\u001b[0;34m(self, val)\u001b[0m\n\u001b[1;32m    557\u001b[0m         \u001b[0;31m# throw the \"normal\" AttributeError\u001b[0m\u001b[0;34m\u001b[0m\u001b[0;34m\u001b[0m\u001b[0;34m\u001b[0m\u001b[0m\n\u001b[1;32m    558\u001b[0m         raise AttributeError(\"'%s' object has no attribute '%s'\"\n\u001b[0;32m--> 559\u001b[0;31m                              % (self.__class__.__name__, val))\n\u001b[0m\u001b[1;32m    560\u001b[0m \u001b[0;34m\u001b[0m\u001b[0m\n\u001b[1;32m    561\u001b[0m     \u001b[0;32mdef\u001b[0m \u001b[0m__setattr__\u001b[0m\u001b[0;34m(\u001b[0m\u001b[0mself\u001b[0m\u001b[0;34m,\u001b[0m \u001b[0mname\u001b[0m\u001b[0;34m,\u001b[0m \u001b[0mval\u001b[0m\u001b[0;34m)\u001b[0m\u001b[0;34m:\u001b[0m\u001b[0;34m\u001b[0m\u001b[0;34m\u001b[0m\u001b[0m\n",
      "\u001b[0;31mAttributeError\u001b[0m: 'ConcreteModel' object has no attribute 'constraint_energy_start_end_soe'"
     ]
    }
   ],
   "source": [
    "m.instance.constraint_energy_start_end_soe.pprint()"
   ]
  },
  {
   "cell_type": "code",
   "execution_count": 106,
   "metadata": {},
   "outputs": [
    {
     "name": "stdout",
     "output_type": "stream",
     "text": [
      "xkappa : Size=690, Index=xkappa_index\n",
      "    Key            : Lower : Value : Upper : Fixed : Stale : Domain\n",
      "       ('S0_0', 0) :     0 :   0.0 :     1 : False : False : Boolean\n",
      "       ('S0_0', 1) :     0 :   0.0 :     1 : False : False : Boolean\n",
      "       ('S0_0', 2) :     0 :   0.0 :     1 : False : False : Boolean\n",
      "       ('S0_0', 3) :     0 :   0.0 :     1 : False : False : Boolean\n",
      "       ('S0_0', 4) :     0 :   0.0 :     1 : False : False : Boolean\n",
      "       ('S0_0', 5) :     0 :   0.0 :     1 : False : False : Boolean\n",
      "       ('S0_0', 6) :     0 :   0.0 :     1 : False : False : Boolean\n",
      "       ('S0_0', 7) :     0 :   0.0 :     1 : False : False : Boolean\n",
      "       ('S0_0', 8) :     0 :   0.0 :     1 : False : False : Boolean\n",
      "       ('S0_0', 9) :     0 :   0.0 :     1 : False : False : Boolean\n",
      "      ('S0_0', 10) :     0 :   0.0 :     1 : False : False : Boolean\n",
      "      ('S0_0', 11) :     0 :   0.0 :     1 : False : False : Boolean\n",
      "      ('S0_0', 12) :     0 :   0.0 :     1 : False : False : Boolean\n",
      "      ('S0_0', 13) :     0 :   0.0 :     1 : False : False : Boolean\n",
      "      ('S0_0', 14) :     0 :   0.0 :     1 : False : False : Boolean\n",
      "      ('S0_0', 15) :     0 :   0.0 :     1 : False : False : Boolean\n",
      "      ('S0_0', 16) :     0 :   0.0 :     1 : False : False : Boolean\n",
      "      ('S0_0', 17) :     0 :   0.0 :     1 : False : False : Boolean\n",
      "      ('S0_0', 18) :     0 :   0.0 :     1 : False : False : Boolean\n",
      "      ('S0_0', 19) :     0 :   0.0 :     1 : False : False : Boolean\n",
      "      ('S0_0', 20) :     0 :   0.0 :     1 : False : False : Boolean\n",
      "      ('S0_0', 21) :     0 :   0.0 :     1 : False : False : Boolean\n",
      "      ('S0_0', 22) :     0 :   0.0 :     1 : False : False : Boolean\n",
      "      ('S0_0', 23) :     0 :   0.0 :     1 : False : False : Boolean\n",
      "      ('S0_0', 24) :     0 :   0.0 :     1 : False : False : Boolean\n",
      "      ('S0_0', 25) :     0 :   0.0 :     1 : False : False : Boolean\n",
      "      ('S0_0', 26) :     0 :   0.0 :     1 : False : False : Boolean\n",
      "      ('S0_0', 27) :     0 :   0.0 :     1 : False : False : Boolean\n",
      "      ('S0_0', 28) :     0 :   0.0 :     1 : False : False : Boolean\n",
      "      ('S0_0', 29) :     0 :   0.0 :     1 : False : False : Boolean\n",
      "      ('S0_0', 30) :     0 :   0.0 :     1 : False : False : Boolean\n",
      "      ('S0_0', 31) :     0 :   0.0 :     1 : False : False : Boolean\n",
      "      ('S0_0', 32) :     0 :   0.0 :     1 : False : False : Boolean\n",
      "      ('S0_0', 33) :     0 :   0.0 :     1 : False : False : Boolean\n",
      "      ('S0_0', 34) :     0 :   0.0 :     1 : False : False : Boolean\n",
      "      ('S0_0', 35) :     0 :   0.0 :     1 : False : False : Boolean\n",
      "      ('S0_0', 36) :     0 :   0.0 :     1 : False : False : Boolean\n",
      "      ('S0_0', 37) :     0 :   0.0 :     1 : False : False : Boolean\n",
      "      ('S0_0', 38) :     0 :   0.0 :     1 : False : False : Boolean\n",
      "      ('S0_0', 39) :     0 :   0.0 :     1 : False : False : Boolean\n",
      "      ('S0_0', 40) :     0 :   0.0 :     1 : False : False : Boolean\n",
      "      ('S0_0', 41) :     0 :   0.0 :     1 : False : False : Boolean\n",
      "      ('S0_0', 42) :     0 :   0.0 :     1 : False : False : Boolean\n",
      "      ('S0_0', 43) :     0 :   0.0 :     1 : False : False : Boolean\n",
      "      ('S0_0', 44) :     0 :   0.0 :     1 : False : False : Boolean\n",
      "      ('S0_0', 45) :     0 :   0.0 :     1 : False : False : Boolean\n",
      "      ('S0_0', 46) :     0 :   0.0 :     1 : False : False : Boolean\n",
      "      ('S0_0', 47) :     0 :   0.0 :     1 : False : False : Boolean\n",
      "      ('S0_0', 48) :     0 :   0.0 :     1 : False : False : Boolean\n",
      "      ('S0_0', 49) :     0 :   0.0 :     1 : False : False : Boolean\n",
      "      ('S0_0', 50) :     0 :   0.0 :     1 : False : False : Boolean\n",
      "      ('S0_0', 51) :     0 :   0.0 :     1 : False : False : Boolean\n",
      "      ('S0_0', 52) :     0 :   0.0 :     1 : False : False : Boolean\n",
      "      ('S0_0', 53) :     0 :   0.0 :     1 : False : False : Boolean\n",
      "      ('S0_0', 54) :     0 :   0.0 :     1 : False : False : Boolean\n",
      "      ('S0_0', 55) :     0 :   0.0 :     1 : False : False : Boolean\n",
      "      ('S0_0', 56) :     0 :   0.0 :     1 : False : False : Boolean\n",
      "      ('S0_0', 57) :     0 :   0.0 :     1 : False : False : Boolean\n",
      "      ('S0_0', 58) :     0 :   0.0 :     1 : False : False : Boolean\n",
      "      ('S0_0', 59) :     0 :   0.0 :     1 : False : False : Boolean\n",
      "      ('S0_0', 60) :     0 :   0.0 :     1 : False : False : Boolean\n",
      "      ('S0_0', 61) :     0 :   0.0 :     1 : False : False : Boolean\n",
      "      ('S0_0', 62) :     0 :   0.0 :     1 : False : False : Boolean\n",
      "      ('S0_0', 63) :     0 :   0.0 :     1 : False : False : Boolean\n",
      "      ('S0_0', 64) :     0 :   0.0 :     1 : False : False : Boolean\n",
      "      ('S0_0', 65) :     0 :   0.0 :     1 : False : False : Boolean\n",
      "      ('S0_0', 66) :     0 :   0.0 :     1 : False : False : Boolean\n",
      "      ('S0_0', 67) :     0 :   0.0 :     1 : False : False : Boolean\n",
      "      ('S0_0', 68) :     0 :   0.0 :     1 : False : False : Boolean\n",
      "      ('S0_0', 69) :     0 :   0.0 :     1 : False : False : Boolean\n",
      "      ('S0_0', 70) :     0 :   0.0 :     1 : False : False : Boolean\n",
      "      ('S0_0', 71) :     0 :   0.0 :     1 : False : False : Boolean\n",
      "      ('S0_0', 72) :     0 :   0.0 :     1 : False : False : Boolean\n",
      "      ('S0_0', 73) :     0 :   0.0 :     1 : False : False : Boolean\n",
      "      ('S0_0', 74) :     0 :   0.0 :     1 : False : False : Boolean\n",
      "      ('S0_0', 75) :     0 :   0.0 :     1 : False : False : Boolean\n",
      "      ('S0_0', 76) :     0 :   0.0 :     1 : False : False : Boolean\n",
      "      ('S0_0', 77) :     0 :   0.0 :     1 : False : False : Boolean\n",
      "      ('S0_0', 78) :     0 :   0.0 :     1 : False : False : Boolean\n",
      "      ('S0_0', 79) :     0 :   0.0 :     1 : False : False : Boolean\n",
      "      ('S0_0', 80) :     0 :   0.0 :     1 : False : False : Boolean\n",
      "      ('S0_0', 81) :     0 :   0.0 :     1 : False : False : Boolean\n",
      "      ('S0_0', 82) :     0 :   0.0 :     1 : False : False : Boolean\n",
      "      ('S0_0', 83) :     0 :   0.0 :     1 : False : False : Boolean\n",
      "      ('S0_0', 84) :     0 :   0.0 :     1 : False : False : Boolean\n",
      "      ('S0_0', 85) :     0 :   0.0 :     1 : False : False : Boolean\n",
      "      ('S0_0', 86) :     0 :   0.0 :     1 : False : False : Boolean\n",
      "      ('S0_0', 87) :     0 :   0.0 :     1 : False : False : Boolean\n",
      "      ('S0_0', 88) :     0 :   0.0 :     1 : False : False : Boolean\n",
      "      ('S0_0', 89) :     0 :   0.0 :     1 : False : False : Boolean\n",
      "      ('S0_0', 90) :     0 :   0.0 :     1 : False : False : Boolean\n",
      "      ('S0_0', 91) :     0 :   0.0 :     1 : False : False : Boolean\n",
      "      ('S0_0', 92) :     0 :   0.0 :     1 : False : False : Boolean\n",
      "      ('S0_0', 93) :     0 :   0.0 :     1 : False : False : Boolean\n",
      "      ('S0_0', 94) :     0 :   0.0 :     1 : False : False : Boolean\n",
      "      ('S0_0', 95) :     0 :   0.0 :     1 : False : False : Boolean\n",
      "      ('S0_0', 96) :     0 :   0.0 :     1 : False : False : Boolean\n",
      "      ('S0_0', 97) :     0 :   0.0 :     1 : False : False : Boolean\n",
      "      ('S0_0', 98) :     0 :   0.0 :     1 : False : False : Boolean\n",
      "      ('S0_0', 99) :     0 :   0.0 :     1 : False : False : Boolean\n",
      "     ('S0_0', 100) :     0 :   0.0 :     1 : False : False : Boolean\n",
      "     ('S0_0', 101) :     0 :   0.0 :     1 : False : False : Boolean\n",
      "     ('S0_0', 102) :     0 :   0.0 :     1 : False : False : Boolean\n",
      "     ('S0_0', 103) :     0 :   0.0 :     1 : False : False : Boolean\n",
      "     ('S0_0', 104) :     0 :   0.0 :     1 : False : False : Boolean\n",
      "     ('S0_0', 105) :     0 :   0.0 :     1 : False : False : Boolean\n",
      "     ('S0_0', 106) :     0 :   0.0 :     1 : False : False : Boolean\n",
      "     ('S0_0', 107) :     0 :   0.0 :     1 : False : False : Boolean\n",
      "     ('S0_0', 108) :     0 :   0.0 :     1 : False : False : Boolean\n",
      "     ('S0_0', 109) :     0 :   0.0 :     1 : False : False : Boolean\n",
      "     ('S0_0', 110) :     0 :   0.0 :     1 : False : False : Boolean\n",
      "     ('S0_0', 111) :     0 :   0.0 :     1 : False : False : Boolean\n",
      "     ('S0_0', 112) :     0 :   0.0 :     1 : False : False : Boolean\n",
      "     ('S0_0', 113) :     0 :   0.0 :     1 : False : False : Boolean\n",
      "     ('S0_0', 114) :     0 :   0.0 :     1 : False : False : Boolean\n",
      "     ('S0_0', 115) :     0 :   0.0 :     1 : False : False : Boolean\n",
      "     ('S0_0', 116) :     0 :   0.0 :     1 : False : False : Boolean\n",
      "     ('S0_0', 117) :     0 :   0.0 :     1 : False : False : Boolean\n",
      "     ('S0_0', 118) :     0 :   0.0 :     1 : False : False : Boolean\n",
      "     ('S0_0', 119) :     0 :   0.0 :     1 : False : False : Boolean\n",
      "     ('S0_0', 120) :     0 :   0.0 :     1 : False : False : Boolean\n",
      "     ('S0_0', 121) :     0 :   0.0 :     1 : False : False : Boolean\n",
      "     ('S0_0', 122) :     0 :   0.0 :     1 : False : False : Boolean\n",
      "     ('S0_0', 123) :     0 :   0.0 :     1 : False : False : Boolean\n",
      "     ('S0_0', 124) :     0 :   0.0 :     1 : False : False : Boolean\n",
      "     ('S0_0', 125) :     0 :   0.0 :     1 : False : False : Boolean\n",
      "     ('S0_0', 126) :     0 :   0.0 :     1 : False : False : Boolean\n",
      "     ('S0_0', 127) :     0 :   0.0 :     1 : False : False : Boolean\n",
      "     ('S0_0', 128) :     0 :   0.0 :     1 : False : False : Boolean\n",
      "     ('S0_0', 129) :     0 :   0.0 :     1 : False : False : Boolean\n",
      "     ('S0_0', 130) :     0 :   0.0 :     1 : False : False : Boolean\n",
      "     ('S0_0', 131) :     0 :   0.0 :     1 : False : False : Boolean\n",
      "     ('S0_0', 132) :     0 :   0.0 :     1 : False : False : Boolean\n",
      "     ('S0_0', 133) :     0 :   0.0 :     1 : False : False : Boolean\n",
      "     ('S0_0', 134) :     0 :   0.0 :     1 : False : False : Boolean\n",
      "     ('S0_0', 135) :     0 :   0.0 :     1 : False : False : Boolean\n",
      "     ('S0_0', 136) :     0 :   0.0 :     1 : False : False : Boolean\n",
      "     ('S0_0', 137) :     0 :   0.0 :     1 : False : False : Boolean\n",
      "     ('S0_0', 138) :     0 :   0.0 :     1 : False : False : Boolean\n",
      "     ('S0_0', 139) :     0 :   0.0 :     1 : False : False : Boolean\n",
      "     ('S0_0', 140) :     0 :   0.0 :     1 : False : False : Boolean\n",
      "     ('S0_0', 141) :     0 :   0.0 :     1 : False : False : Boolean\n",
      "     ('S0_0', 142) :     0 :   0.0 :     1 : False : False : Boolean\n",
      "     ('S0_0', 143) :     0 :   0.0 :     1 : False : False : Boolean\n",
      "     ('S0_0', 144) :     0 :   0.0 :     1 : False : False : Boolean\n",
      "     ('S0_0', 145) :     0 :   0.0 :     1 : False : False : Boolean\n",
      "     ('S0_0', 146) :     0 :   0.0 :     1 : False : False : Boolean\n",
      "     ('S0_0', 147) :     0 :   0.0 :     1 : False : False : Boolean\n",
      "     ('S0_0', 148) :     0 :   0.0 :     1 : False : False : Boolean\n",
      "     ('S0_0', 149) :     0 :   0.0 :     1 : False : False : Boolean\n",
      "     ('S0_0', 150) :     0 :   0.0 :     1 : False : False : Boolean\n",
      "     ('S0_0', 151) :     0 :   0.0 :     1 : False : False : Boolean\n",
      "     ('S0_0', 152) :     0 :   0.0 :     1 : False : False : Boolean\n",
      "     ('S0_0', 153) :     0 :   0.0 :     1 : False : False : Boolean\n",
      "     ('S0_0', 154) :     0 :   0.0 :     1 : False : False : Boolean\n",
      "     ('S0_0', 155) :     0 :   0.0 :     1 : False : False : Boolean\n",
      "     ('S0_0', 156) :     0 :   0.0 :     1 : False : False : Boolean\n",
      "     ('S0_0', 157) :     0 :   0.0 :     1 : False : False : Boolean\n",
      "     ('S0_0', 158) :     0 :   0.0 :     1 : False : False : Boolean\n",
      "     ('S0_0', 159) :     0 :   0.0 :     1 : False : False : Boolean\n",
      "     ('S0_0', 160) :     0 :   0.0 :     1 : False : False : Boolean\n",
      "     ('S0_0', 161) :     0 :   0.0 :     1 : False : False : Boolean\n",
      "     ('S0_0', 162) :     0 :   0.0 :     1 : False : False : Boolean\n",
      "     ('S0_0', 163) :     0 :   0.0 :     1 : False : False : Boolean\n",
      "     ('S0_0', 164) :     0 :   0.0 :     1 : False : False : Boolean\n",
      "     ('S0_0', 165) :     0 :   0.0 :     1 : False : False : Boolean\n",
      "     ('S0_0', 166) :     0 :   0.0 :     1 : False : False : Boolean\n",
      "     ('S0_0', 167) :     0 :   0.0 :     1 : False : False : Boolean\n",
      "     ('S0_0', 168) :     0 :   0.0 :     1 : False : False : Boolean\n",
      "     ('S0_0', 169) :     0 :   0.0 :     1 : False : False : Boolean\n",
      "     ('S0_0', 170) :     0 :   0.0 :     1 : False : False : Boolean\n",
      "     ('S0_0', 171) :     0 :   0.0 :     1 : False : False : Boolean\n",
      "     ('S0_0', 172) :     0 :   0.0 :     1 : False : False : Boolean\n",
      "     ('S0_0', 173) :     0 :   0.0 :     1 : False : False : Boolean\n",
      "     ('S0_0', 174) :     0 :   0.0 :     1 : False : False : Boolean\n",
      "     ('S0_0', 175) :     0 :   0.0 :     1 : False : False : Boolean\n",
      "     ('S0_0', 176) :     0 :   0.0 :     1 : False : False : Boolean\n",
      "     ('S0_0', 177) :     0 :   0.0 :     1 : False : False : Boolean\n",
      "     ('S0_0', 178) :     0 :   0.0 :     1 : False : False : Boolean\n",
      "     ('S0_0', 179) :     0 :   0.0 :     1 : False : False : Boolean\n",
      "     ('S0_0', 180) :     0 :   0.0 :     1 : False : False : Boolean\n",
      "     ('S0_0', 181) :     0 :   0.0 :     1 : False : False : Boolean\n",
      "     ('S0_0', 182) :     0 :   0.0 :     1 : False : False : Boolean\n",
      "     ('S0_0', 183) :     0 :   0.0 :     1 : False : False : Boolean\n",
      "     ('S0_0', 184) :     0 :   0.0 :     1 : False : False : Boolean\n",
      "     ('S0_0', 185) :     0 :   0.0 :     1 : False : False : Boolean\n",
      "     ('S0_0', 186) :     0 :   0.0 :     1 : False : False : Boolean\n",
      "     ('S0_0', 187) :     0 :   0.0 :     1 : False : False : Boolean\n",
      "     ('S0_0', 188) :     0 :   0.0 :     1 : False : False : Boolean\n",
      "     ('S0_0', 189) :     0 :   0.0 :     1 : False : False : Boolean\n",
      "     ('S0_0', 190) :     0 :   0.0 :     1 : False : False : Boolean\n",
      "     ('S0_0', 191) :     0 :   0.0 :     1 : False : False : Boolean\n",
      "     ('S0_0', 192) :     0 :   0.0 :     1 : False : False : Boolean\n",
      "     ('S0_0', 193) :     0 :   0.0 :     1 : False : False : Boolean\n",
      "     ('S0_0', 194) :     0 :   0.0 :     1 : False : False : Boolean\n",
      "     ('S0_0', 195) :     0 :   0.0 :     1 : False : False : Boolean\n",
      "     ('S0_0', 196) :     0 :   0.0 :     1 : False : False : Boolean\n",
      "     ('S0_0', 197) :     0 :   0.0 :     1 : False : False : Boolean\n",
      "     ('S0_0', 198) :     0 :   0.0 :     1 : False : False : Boolean\n",
      "     ('S0_0', 199) :     0 :   0.0 :     1 : False : False : Boolean\n",
      "     ('S0_0', 200) :     0 :   0.0 :     1 : False : False : Boolean\n",
      "     ('S0_0', 201) :     0 :   0.0 :     1 : False : False : Boolean\n",
      "     ('S0_0', 202) :     0 :   0.0 :     1 : False : False : Boolean\n",
      "     ('S0_0', 203) :     0 :   0.0 :     1 : False : False : Boolean\n",
      "     ('S0_0', 204) :     0 :   0.0 :     1 : False : False : Boolean\n",
      "     ('S0_0', 205) :     0 :   0.0 :     1 : False : False : Boolean\n",
      "     ('S0_0', 206) :     0 :   0.0 :     1 : False : False : Boolean\n",
      "     ('S0_0', 207) :     0 :   0.0 :     1 : False : False : Boolean\n",
      "     ('S0_0', 208) :     0 :   0.0 :     1 : False : False : Boolean\n",
      "     ('S0_0', 209) :     0 :   0.0 :     1 : False : False : Boolean\n",
      "     ('S0_0', 210) :     0 :   0.0 :     1 : False : False : Boolean\n",
      "     ('S0_0', 211) :     0 :   0.0 :     1 : False : False : Boolean\n",
      "     ('S0_0', 212) :     0 :   0.0 :     1 : False : False : Boolean\n",
      "     ('S0_0', 213) :     0 :   0.0 :     1 : False : False : Boolean\n",
      "     ('S0_0', 214) :     0 :   0.0 :     1 : False : False : Boolean\n",
      "     ('S0_0', 215) :     0 :   0.0 :     1 : False : False : Boolean\n",
      "     ('S0_0', 216) :     0 :   0.0 :     1 : False : False : Boolean\n",
      "     ('S0_0', 217) :     0 :   0.0 :     1 : False : False : Boolean\n",
      "     ('S0_0', 218) :     0 :   0.0 :     1 : False : False : Boolean\n",
      "     ('S0_0', 219) :     0 :   0.0 :     1 : False : False : Boolean\n",
      "     ('S0_0', 220) :     0 :   0.0 :     1 : False : False : Boolean\n",
      "     ('S0_0', 221) :     0 :   0.0 :     1 : False : False : Boolean\n",
      "     ('S0_0', 222) :     0 :   0.0 :     1 : False : False : Boolean\n",
      "     ('S0_0', 223) :     0 :   0.0 :     1 : False : False : Boolean\n",
      "     ('S0_0', 224) :     0 :   0.0 :     1 : False : False : Boolean\n",
      "     ('S0_0', 225) :     0 :   0.0 :     1 : False : False : Boolean\n",
      "     ('S0_0', 226) :     0 :   0.0 :     1 : False : False : Boolean\n",
      "     ('S0_0', 227) :     0 :   0.0 :     1 : False : False : Boolean\n",
      "     ('S0_0', 228) :     0 :   0.0 :     1 : False : False : Boolean\n",
      "     ('S0_0', 229) :     0 :   0.0 :     1 : False : False : Boolean\n",
      "      ('S13_0', 0) :     0 :   0.0 :     1 : False : False : Boolean\n",
      "      ('S13_0', 1) :     0 :   0.0 :     1 : False : False : Boolean\n",
      "      ('S13_0', 2) :     0 :   0.0 :     1 : False : False : Boolean\n",
      "      ('S13_0', 3) :     0 :   0.0 :     1 : False : False : Boolean\n",
      "      ('S13_0', 4) :     0 :   0.0 :     1 : False : False : Boolean\n",
      "      ('S13_0', 5) :     0 :   0.0 :     1 : False : False : Boolean\n",
      "      ('S13_0', 6) :     0 :   0.0 :     1 : False : False : Boolean\n",
      "      ('S13_0', 7) :     0 :   0.0 :     1 : False : False : Boolean\n",
      "      ('S13_0', 8) :     0 :   0.0 :     1 : False : False : Boolean\n",
      "      ('S13_0', 9) :     0 :   0.0 :     1 : False : False : Boolean\n",
      "     ('S13_0', 10) :     0 :   0.0 :     1 : False : False : Boolean\n",
      "     ('S13_0', 11) :     0 :   0.0 :     1 : False : False : Boolean\n",
      "     ('S13_0', 12) :     0 :   0.0 :     1 : False : False : Boolean\n",
      "     ('S13_0', 13) :     0 :   0.0 :     1 : False : False : Boolean\n",
      "     ('S13_0', 14) :     0 :   0.0 :     1 : False : False : Boolean\n",
      "     ('S13_0', 15) :     0 :   0.0 :     1 : False : False : Boolean\n",
      "     ('S13_0', 16) :     0 :   0.0 :     1 : False : False : Boolean\n",
      "     ('S13_0', 17) :     0 :   0.0 :     1 : False : False : Boolean\n",
      "     ('S13_0', 18) :     0 :   0.0 :     1 : False : False : Boolean\n",
      "     ('S13_0', 19) :     0 :   0.0 :     1 : False : False : Boolean\n",
      "     ('S13_0', 20) :     0 :   0.0 :     1 : False : False : Boolean\n",
      "     ('S13_0', 21) :     0 :   0.0 :     1 : False : False : Boolean\n",
      "     ('S13_0', 22) :     0 :   0.0 :     1 : False : False : Boolean\n",
      "     ('S13_0', 23) :     0 :   0.0 :     1 : False : False : Boolean\n",
      "     ('S13_0', 24) :     0 :   0.0 :     1 : False : False : Boolean\n",
      "     ('S13_0', 25) :     0 :   0.0 :     1 : False : False : Boolean\n",
      "     ('S13_0', 26) :     0 :   0.0 :     1 : False : False : Boolean\n",
      "     ('S13_0', 27) :     0 :   0.0 :     1 : False : False : Boolean\n",
      "     ('S13_0', 28) :     0 :   0.0 :     1 : False : False : Boolean\n",
      "     ('S13_0', 29) :     0 :   0.0 :     1 : False : False : Boolean\n",
      "     ('S13_0', 30) :     0 :   0.0 :     1 : False : False : Boolean\n",
      "     ('S13_0', 31) :     0 :   0.0 :     1 : False : False : Boolean\n",
      "     ('S13_0', 32) :     0 :   0.0 :     1 : False : False : Boolean\n",
      "     ('S13_0', 33) :     0 :   0.0 :     1 : False : False : Boolean\n",
      "     ('S13_0', 34) :     0 :   0.0 :     1 : False : False : Boolean\n",
      "     ('S13_0', 35) :     0 :   0.0 :     1 : False : False : Boolean\n",
      "     ('S13_0', 36) :     0 :   0.0 :     1 : False : False : Boolean\n",
      "     ('S13_0', 37) :     0 :   0.0 :     1 : False : False : Boolean\n",
      "     ('S13_0', 38) :     0 :   0.0 :     1 : False : False : Boolean\n",
      "     ('S13_0', 39) :     0 :   0.0 :     1 : False : False : Boolean\n",
      "     ('S13_0', 40) :     0 :   0.0 :     1 : False : False : Boolean\n",
      "     ('S13_0', 41) :     0 :   0.0 :     1 : False : False : Boolean\n",
      "     ('S13_0', 42) :     0 :   0.0 :     1 : False : False : Boolean\n",
      "     ('S13_0', 43) :     0 :   0.0 :     1 : False : False : Boolean\n",
      "     ('S13_0', 44) :     0 :   0.0 :     1 : False : False : Boolean\n",
      "     ('S13_0', 45) :     0 :   0.0 :     1 : False : False : Boolean\n",
      "     ('S13_0', 46) :     0 :   0.0 :     1 : False : False : Boolean\n",
      "     ('S13_0', 47) :     0 :   0.0 :     1 : False : False : Boolean\n",
      "     ('S13_0', 48) :     0 :   0.0 :     1 : False : False : Boolean\n",
      "     ('S13_0', 49) :     0 :   0.0 :     1 : False : False : Boolean\n",
      "     ('S13_0', 50) :     0 :   0.0 :     1 : False : False : Boolean\n",
      "     ('S13_0', 51) :     0 :   0.0 :     1 : False : False : Boolean\n",
      "     ('S13_0', 52) :     0 :   0.0 :     1 : False : False : Boolean\n",
      "     ('S13_0', 53) :     0 :   0.0 :     1 : False : False : Boolean\n",
      "     ('S13_0', 54) :     0 :   0.0 :     1 : False : False : Boolean\n",
      "     ('S13_0', 55) :     0 :   0.0 :     1 : False : False : Boolean\n",
      "     ('S13_0', 56) :     0 :   0.0 :     1 : False : False : Boolean\n",
      "     ('S13_0', 57) :     0 :   0.0 :     1 : False : False : Boolean\n",
      "     ('S13_0', 58) :     0 :   0.0 :     1 : False : False : Boolean\n",
      "     ('S13_0', 59) :     0 :   0.0 :     1 : False : False : Boolean\n",
      "     ('S13_0', 60) :     0 :   0.0 :     1 : False : False : Boolean\n",
      "     ('S13_0', 61) :     0 :   0.0 :     1 : False : False : Boolean\n",
      "     ('S13_0', 62) :     0 :   0.0 :     1 : False : False : Boolean\n",
      "     ('S13_0', 63) :     0 :   0.0 :     1 : False : False : Boolean\n",
      "     ('S13_0', 64) :     0 :   0.0 :     1 : False : False : Boolean\n",
      "     ('S13_0', 65) :     0 :   0.0 :     1 : False : False : Boolean\n",
      "     ('S13_0', 66) :     0 :   0.0 :     1 : False : False : Boolean\n",
      "     ('S13_0', 67) :     0 :   0.0 :     1 : False : False : Boolean\n",
      "     ('S13_0', 68) :     0 :   0.0 :     1 : False : False : Boolean\n",
      "     ('S13_0', 69) :     0 :   0.0 :     1 : False : False : Boolean\n",
      "     ('S13_0', 70) :     0 :   0.0 :     1 : False : False : Boolean\n",
      "     ('S13_0', 71) :     0 :   0.0 :     1 : False : False : Boolean\n",
      "     ('S13_0', 72) :     0 :   0.0 :     1 : False : False : Boolean\n",
      "     ('S13_0', 73) :     0 :   0.0 :     1 : False : False : Boolean\n",
      "     ('S13_0', 74) :     0 :   0.0 :     1 : False : False : Boolean\n",
      "     ('S13_0', 75) :     0 :   0.0 :     1 : False : False : Boolean\n",
      "     ('S13_0', 76) :     0 :   0.0 :     1 : False : False : Boolean\n",
      "     ('S13_0', 77) :     0 :   0.0 :     1 : False : False : Boolean\n",
      "     ('S13_0', 78) :     0 :   0.0 :     1 : False : False : Boolean\n",
      "     ('S13_0', 79) :     0 :   0.0 :     1 : False : False : Boolean\n",
      "     ('S13_0', 80) :     0 :   0.0 :     1 : False : False : Boolean\n",
      "     ('S13_0', 81) :     0 :   0.0 :     1 : False : False : Boolean\n",
      "     ('S13_0', 82) :     0 :   0.0 :     1 : False : False : Boolean\n",
      "     ('S13_0', 83) :     0 :   0.0 :     1 : False : False : Boolean\n",
      "     ('S13_0', 84) :     0 :   0.0 :     1 : False : False : Boolean\n",
      "     ('S13_0', 85) :     0 :   0.0 :     1 : False : False : Boolean\n",
      "     ('S13_0', 86) :     0 :   0.0 :     1 : False : False : Boolean\n",
      "     ('S13_0', 87) :     0 :   0.0 :     1 : False : False : Boolean\n",
      "     ('S13_0', 88) :     0 :   0.0 :     1 : False : False : Boolean\n",
      "     ('S13_0', 89) :     0 :   0.0 :     1 : False : False : Boolean\n",
      "     ('S13_0', 90) :     0 :   0.0 :     1 : False : False : Boolean\n",
      "     ('S13_0', 91) :     0 :   0.0 :     1 : False : False : Boolean\n",
      "     ('S13_0', 92) :     0 :   0.0 :     1 : False : False : Boolean\n",
      "     ('S13_0', 93) :     0 :   0.0 :     1 : False : False : Boolean\n",
      "     ('S13_0', 94) :     0 :   0.0 :     1 : False : False : Boolean\n",
      "     ('S13_0', 95) :     0 :   0.0 :     1 : False : False : Boolean\n",
      "     ('S13_0', 96) :     0 :   0.0 :     1 : False : False : Boolean\n",
      "     ('S13_0', 97) :     0 :   0.0 :     1 : False : False : Boolean\n",
      "     ('S13_0', 98) :     0 :   0.0 :     1 : False : False : Boolean\n",
      "     ('S13_0', 99) :     0 :   0.0 :     1 : False : False : Boolean\n",
      "    ('S13_0', 100) :     0 :   0.0 :     1 : False : False : Boolean\n",
      "    ('S13_0', 101) :     0 :   0.0 :     1 : False : False : Boolean\n",
      "    ('S13_0', 102) :     0 :   0.0 :     1 : False : False : Boolean\n",
      "    ('S13_0', 103) :     0 :   0.0 :     1 : False : False : Boolean\n",
      "    ('S13_0', 104) :     0 :   0.0 :     1 : False : False : Boolean\n",
      "    ('S13_0', 105) :     0 :   0.0 :     1 : False : False : Boolean\n",
      "    ('S13_0', 106) :     0 :   0.0 :     1 : False : False : Boolean\n",
      "    ('S13_0', 107) :     0 :   0.0 :     1 : False : False : Boolean\n",
      "    ('S13_0', 108) :     0 :   0.0 :     1 : False : False : Boolean\n",
      "    ('S13_0', 109) :     0 :   0.0 :     1 : False : False : Boolean\n",
      "    ('S13_0', 110) :     0 :   0.0 :     1 : False : False : Boolean\n",
      "    ('S13_0', 111) :     0 :   0.0 :     1 : False : False : Boolean\n",
      "    ('S13_0', 112) :     0 :   0.0 :     1 : False : False : Boolean\n",
      "    ('S13_0', 113) :     0 :   0.0 :     1 : False : False : Boolean\n",
      "    ('S13_0', 114) :     0 :   0.0 :     1 : False : False : Boolean\n",
      "    ('S13_0', 115) :     0 :   0.0 :     1 : False : False : Boolean\n",
      "    ('S13_0', 116) :     0 :   0.0 :     1 : False : False : Boolean\n",
      "    ('S13_0', 117) :     0 :   0.0 :     1 : False : False : Boolean\n",
      "    ('S13_0', 118) :     0 :   0.0 :     1 : False : False : Boolean\n",
      "    ('S13_0', 119) :     0 :   0.0 :     1 : False : False : Boolean\n",
      "    ('S13_0', 120) :     0 :   0.0 :     1 : False : False : Boolean\n",
      "    ('S13_0', 121) :     0 :   0.0 :     1 : False : False : Boolean\n",
      "    ('S13_0', 122) :     0 :   0.0 :     1 : False : False : Boolean\n",
      "    ('S13_0', 123) :     0 :   0.0 :     1 : False : False : Boolean\n",
      "    ('S13_0', 124) :     0 :   0.0 :     1 : False : False : Boolean\n",
      "    ('S13_0', 125) :     0 :   0.0 :     1 : False : False : Boolean\n",
      "    ('S13_0', 126) :     0 :   0.0 :     1 : False : False : Boolean\n",
      "    ('S13_0', 127) :     0 :   0.0 :     1 : False : False : Boolean\n",
      "    ('S13_0', 128) :     0 :   0.0 :     1 : False : False : Boolean\n",
      "    ('S13_0', 129) :     0 :   0.0 :     1 : False : False : Boolean\n",
      "    ('S13_0', 130) :     0 :   0.0 :     1 : False : False : Boolean\n",
      "    ('S13_0', 131) :     0 :   0.0 :     1 : False : False : Boolean\n",
      "    ('S13_0', 132) :     0 :   0.0 :     1 : False : False : Boolean\n",
      "    ('S13_0', 133) :     0 :   0.0 :     1 : False : False : Boolean\n",
      "    ('S13_0', 134) :     0 :   0.0 :     1 : False : False : Boolean\n",
      "    ('S13_0', 135) :     0 :   0.0 :     1 : False : False : Boolean\n",
      "    ('S13_0', 136) :     0 :   0.0 :     1 : False : False : Boolean\n",
      "    ('S13_0', 137) :     0 :   0.0 :     1 : False : False : Boolean\n",
      "    ('S13_0', 138) :     0 :   0.0 :     1 : False : False : Boolean\n",
      "    ('S13_0', 139) :     0 :   0.0 :     1 : False : False : Boolean\n",
      "    ('S13_0', 140) :     0 :   0.0 :     1 : False : False : Boolean\n",
      "    ('S13_0', 141) :     0 :   0.0 :     1 : False : False : Boolean\n",
      "    ('S13_0', 142) :     0 :   0.0 :     1 : False : False : Boolean\n",
      "    ('S13_0', 143) :     0 :   0.0 :     1 : False : False : Boolean\n",
      "    ('S13_0', 144) :     0 :   0.0 :     1 : False : False : Boolean\n",
      "    ('S13_0', 145) :     0 :   0.0 :     1 : False : False : Boolean\n",
      "    ('S13_0', 146) :     0 :   0.0 :     1 : False : False : Boolean\n",
      "    ('S13_0', 147) :     0 :   0.0 :     1 : False : False : Boolean\n",
      "    ('S13_0', 148) :     0 :   0.0 :     1 : False : False : Boolean\n",
      "    ('S13_0', 149) :     0 :   0.0 :     1 : False : False : Boolean\n",
      "    ('S13_0', 150) :     0 :   0.0 :     1 : False : False : Boolean\n",
      "    ('S13_0', 151) :     0 :   0.0 :     1 : False : False : Boolean\n",
      "    ('S13_0', 152) :     0 :   0.0 :     1 : False : False : Boolean\n",
      "    ('S13_0', 153) :     0 :   0.0 :     1 : False : False : Boolean\n",
      "    ('S13_0', 154) :     0 :   0.0 :     1 : False : False : Boolean\n",
      "    ('S13_0', 155) :     0 :   0.0 :     1 : False : False : Boolean\n",
      "    ('S13_0', 156) :     0 :   0.0 :     1 : False : False : Boolean\n",
      "    ('S13_0', 157) :     0 :   0.0 :     1 : False : False : Boolean\n",
      "    ('S13_0', 158) :     0 :   0.0 :     1 : False : False : Boolean\n",
      "    ('S13_0', 159) :     0 :   0.0 :     1 : False : False : Boolean\n",
      "    ('S13_0', 160) :     0 :   0.0 :     1 : False : False : Boolean\n",
      "    ('S13_0', 161) :     0 :   0.0 :     1 : False : False : Boolean\n",
      "    ('S13_0', 162) :     0 :   0.0 :     1 : False : False : Boolean\n",
      "    ('S13_0', 163) :     0 :   0.0 :     1 : False : False : Boolean\n",
      "    ('S13_0', 164) :     0 :   0.0 :     1 : False : False : Boolean\n",
      "    ('S13_0', 165) :     0 :   0.0 :     1 : False : False : Boolean\n",
      "    ('S13_0', 166) :     0 :   0.0 :     1 : False : False : Boolean\n",
      "    ('S13_0', 167) :     0 :   0.0 :     1 : False : False : Boolean\n",
      "    ('S13_0', 168) :     0 :   0.0 :     1 : False : False : Boolean\n",
      "    ('S13_0', 169) :     0 :   0.0 :     1 : False : False : Boolean\n",
      "    ('S13_0', 170) :     0 :   0.0 :     1 : False : False : Boolean\n",
      "    ('S13_0', 171) :     0 :   0.0 :     1 : False : False : Boolean\n",
      "    ('S13_0', 172) :     0 :   0.0 :     1 : False : False : Boolean\n",
      "    ('S13_0', 173) :     0 :   0.0 :     1 : False : False : Boolean\n",
      "    ('S13_0', 174) :     0 :   0.0 :     1 : False : False : Boolean\n",
      "    ('S13_0', 175) :     0 :   0.0 :     1 : False : False : Boolean\n",
      "    ('S13_0', 176) :     0 :   0.0 :     1 : False : False : Boolean\n",
      "    ('S13_0', 177) :     0 :   0.0 :     1 : False : False : Boolean\n",
      "    ('S13_0', 178) :     0 :   0.0 :     1 : False : False : Boolean\n",
      "    ('S13_0', 179) :     0 :   0.0 :     1 : False : False : Boolean\n",
      "    ('S13_0', 180) :     0 :   0.0 :     1 : False : False : Boolean\n",
      "    ('S13_0', 181) :     0 :   0.0 :     1 : False : False : Boolean\n",
      "    ('S13_0', 182) :     0 :   0.0 :     1 : False : False : Boolean\n",
      "    ('S13_0', 183) :     0 :   0.0 :     1 : False : False : Boolean\n",
      "    ('S13_0', 184) :     0 :   0.0 :     1 : False : False : Boolean\n",
      "    ('S13_0', 185) :     0 :   0.0 :     1 : False : False : Boolean\n",
      "    ('S13_0', 186) :     0 :   0.0 :     1 : False : False : Boolean\n",
      "    ('S13_0', 187) :     0 :   0.0 :     1 : False : False : Boolean\n",
      "    ('S13_0', 188) :     0 :   0.0 :     1 : False : False : Boolean\n",
      "    ('S13_0', 189) :     0 :   0.0 :     1 : False : False : Boolean\n",
      "    ('S13_0', 190) :     0 :   0.0 :     1 : False : False : Boolean\n",
      "    ('S13_0', 191) :     0 :   0.0 :     1 : False : False : Boolean\n",
      "    ('S13_0', 192) :     0 :   0.0 :     1 : False : False : Boolean\n",
      "    ('S13_0', 193) :     0 :   0.0 :     1 : False : False : Boolean\n",
      "    ('S13_0', 194) :     0 :   0.0 :     1 : False : False : Boolean\n",
      "    ('S13_0', 195) :     0 :   0.0 :     1 : False : False : Boolean\n",
      "    ('S13_0', 196) :     0 :   0.0 :     1 : False : False : Boolean\n",
      "    ('S13_0', 197) :     0 :   0.0 :     1 : False : False : Boolean\n",
      "    ('S13_0', 198) :     0 :   0.0 :     1 : False : False : Boolean\n",
      "    ('S13_0', 199) :     0 :   0.0 :     1 : False : False : Boolean\n",
      "    ('S13_0', 200) :     0 :   0.0 :     1 : False : False : Boolean\n",
      "    ('S13_0', 201) :     0 :   0.0 :     1 : False : False : Boolean\n",
      "    ('S13_0', 202) :     0 :   0.0 :     1 : False : False : Boolean\n",
      "    ('S13_0', 203) :     0 :   0.0 :     1 : False : False : Boolean\n",
      "    ('S13_0', 204) :     0 :   0.0 :     1 : False : False : Boolean\n",
      "    ('S13_0', 205) :     0 :   0.0 :     1 : False : False : Boolean\n",
      "    ('S13_0', 206) :     0 :   0.0 :     1 : False : False : Boolean\n",
      "    ('S13_0', 207) :     0 :   0.0 :     1 : False : False : Boolean\n",
      "    ('S13_0', 208) :     0 :   0.0 :     1 : False : False : Boolean\n",
      "    ('S13_0', 209) :     0 :   0.0 :     1 : False : False : Boolean\n",
      "    ('S13_0', 210) :     0 :   0.0 :     1 : False : False : Boolean\n",
      "    ('S13_0', 211) :     0 :   0.0 :     1 : False : False : Boolean\n",
      "    ('S13_0', 212) :     0 :   0.0 :     1 : False : False : Boolean\n",
      "    ('S13_0', 213) :     0 :   0.0 :     1 : False : False : Boolean\n",
      "    ('S13_0', 214) :     0 :   0.0 :     1 : False : False : Boolean\n",
      "    ('S13_0', 215) :     0 :   0.0 :     1 : False : False : Boolean\n",
      "    ('S13_0', 216) :     0 :   0.0 :     1 : False : False : Boolean\n",
      "    ('S13_0', 217) :     0 :   0.0 :     1 : False : False : Boolean\n",
      "    ('S13_0', 218) :     0 :   0.0 :     1 : False : False : Boolean\n",
      "    ('S13_0', 219) :     0 :   0.0 :     1 : False : False : Boolean\n",
      "    ('S13_0', 220) :     0 :   0.0 :     1 : False : False : Boolean\n",
      "    ('S13_0', 221) :     0 :   0.0 :     1 : False : False : Boolean\n",
      "    ('S13_0', 222) :     0 :   0.0 :     1 : False : False : Boolean\n",
      "    ('S13_0', 223) :     0 :   0.0 :     1 : False : False : Boolean\n",
      "    ('S13_0', 224) :     0 :   0.0 :     1 : False : False : Boolean\n",
      "    ('S13_0', 225) :     0 :   0.0 :     1 : False : False : Boolean\n",
      "    ('S13_0', 226) :     0 :   0.0 :     1 : False : False : Boolean\n",
      "    ('S13_0', 227) :     0 :   0.0 :     1 : False : False : Boolean\n",
      "    ('S13_0', 228) :     0 :   0.0 :     1 : False : False : Boolean\n",
      "    ('S13_0', 229) :     0 :   0.0 :     1 : False : False : Boolean\n",
      "       ('S1_0', 0) :     0 :   0.0 :     1 : False : False : Boolean\n",
      "       ('S1_0', 1) :     0 :   0.0 :     1 : False : False : Boolean\n",
      "       ('S1_0', 2) :     0 :   0.0 :     1 : False : False : Boolean\n",
      "       ('S1_0', 3) :     0 :   0.0 :     1 : False : False : Boolean\n",
      "       ('S1_0', 4) :     0 :   0.0 :     1 : False : False : Boolean\n",
      "       ('S1_0', 5) :     0 :   0.0 :     1 : False : False : Boolean\n",
      "       ('S1_0', 6) :     0 :   0.0 :     1 : False : False : Boolean\n",
      "       ('S1_0', 7) :     0 :   0.0 :     1 : False : False : Boolean\n",
      "       ('S1_0', 8) :     0 :   0.0 :     1 : False : False : Boolean\n",
      "       ('S1_0', 9) :     0 :   0.0 :     1 : False : False : Boolean\n",
      "      ('S1_0', 10) :     0 :   0.0 :     1 : False : False : Boolean\n",
      "      ('S1_0', 11) :     0 :   0.0 :     1 : False : False : Boolean\n",
      "      ('S1_0', 12) :     0 :   0.0 :     1 : False : False : Boolean\n",
      "      ('S1_0', 13) :     0 :   0.0 :     1 : False : False : Boolean\n",
      "      ('S1_0', 14) :     0 :   0.0 :     1 : False : False : Boolean\n",
      "      ('S1_0', 15) :     0 :   0.0 :     1 : False : False : Boolean\n",
      "      ('S1_0', 16) :     0 :   0.0 :     1 : False : False : Boolean\n",
      "      ('S1_0', 17) :     0 :   0.0 :     1 : False : False : Boolean\n",
      "      ('S1_0', 18) :     0 :   0.0 :     1 : False : False : Boolean\n",
      "      ('S1_0', 19) :     0 :   0.0 :     1 : False : False : Boolean\n",
      "      ('S1_0', 20) :     0 :   0.0 :     1 : False : False : Boolean\n",
      "      ('S1_0', 21) :     0 :   0.0 :     1 : False : False : Boolean\n",
      "      ('S1_0', 22) :     0 :   0.0 :     1 : False : False : Boolean\n",
      "      ('S1_0', 23) :     0 :   0.0 :     1 : False : False : Boolean\n",
      "      ('S1_0', 24) :     0 :   0.0 :     1 : False : False : Boolean\n",
      "      ('S1_0', 25) :     0 :   0.0 :     1 : False : False : Boolean\n",
      "      ('S1_0', 26) :     0 :   0.0 :     1 : False : False : Boolean\n",
      "      ('S1_0', 27) :     0 :   0.0 :     1 : False : False : Boolean\n",
      "      ('S1_0', 28) :     0 :   0.0 :     1 : False : False : Boolean\n",
      "      ('S1_0', 29) :     0 :   0.0 :     1 : False : False : Boolean\n",
      "      ('S1_0', 30) :     0 :   0.0 :     1 : False : False : Boolean\n",
      "      ('S1_0', 31) :     0 :   0.0 :     1 : False : False : Boolean\n",
      "      ('S1_0', 32) :     0 :   0.0 :     1 : False : False : Boolean\n",
      "      ('S1_0', 33) :     0 :   0.0 :     1 : False : False : Boolean\n",
      "      ('S1_0', 34) :     0 :   0.0 :     1 : False : False : Boolean\n",
      "      ('S1_0', 35) :     0 :   0.0 :     1 : False : False : Boolean\n",
      "      ('S1_0', 36) :     0 :   0.0 :     1 : False : False : Boolean\n",
      "      ('S1_0', 37) :     0 :   0.0 :     1 : False : False : Boolean\n",
      "      ('S1_0', 38) :     0 :   0.0 :     1 : False : False : Boolean\n",
      "      ('S1_0', 39) :     0 :   0.0 :     1 : False : False : Boolean\n",
      "      ('S1_0', 40) :     0 :   0.0 :     1 : False : False : Boolean\n",
      "      ('S1_0', 41) :     0 :   0.0 :     1 : False : False : Boolean\n",
      "      ('S1_0', 42) :     0 :   0.0 :     1 : False : False : Boolean\n",
      "      ('S1_0', 43) :     0 :   0.0 :     1 : False : False : Boolean\n",
      "      ('S1_0', 44) :     0 :   0.0 :     1 : False : False : Boolean\n",
      "      ('S1_0', 45) :     0 :   0.0 :     1 : False : False : Boolean\n",
      "      ('S1_0', 46) :     0 :   0.0 :     1 : False : False : Boolean\n",
      "      ('S1_0', 47) :     0 :   0.0 :     1 : False : False : Boolean\n",
      "      ('S1_0', 48) :     0 :   0.0 :     1 : False : False : Boolean\n",
      "      ('S1_0', 49) :     0 :   0.0 :     1 : False : False : Boolean\n",
      "      ('S1_0', 50) :     0 :   0.0 :     1 : False : False : Boolean\n",
      "      ('S1_0', 51) :     0 :   0.0 :     1 : False : False : Boolean\n",
      "      ('S1_0', 52) :     0 :   0.0 :     1 : False : False : Boolean\n",
      "      ('S1_0', 53) :     0 :   0.0 :     1 : False : False : Boolean\n",
      "      ('S1_0', 54) :     0 :   0.0 :     1 : False : False : Boolean\n",
      "      ('S1_0', 55) :     0 :   0.0 :     1 : False : False : Boolean\n",
      "      ('S1_0', 56) :     0 :   0.0 :     1 : False : False : Boolean\n",
      "      ('S1_0', 57) :     0 :   0.0 :     1 : False : False : Boolean\n",
      "      ('S1_0', 58) :     0 :   0.0 :     1 : False : False : Boolean\n",
      "      ('S1_0', 59) :     0 :   0.0 :     1 : False : False : Boolean\n",
      "      ('S1_0', 60) :     0 :   0.0 :     1 : False : False : Boolean\n",
      "      ('S1_0', 61) :     0 :   0.0 :     1 : False : False : Boolean\n",
      "      ('S1_0', 62) :     0 :   0.0 :     1 : False : False : Boolean\n",
      "      ('S1_0', 63) :     0 :   0.0 :     1 : False : False : Boolean\n",
      "      ('S1_0', 64) :     0 :   0.0 :     1 : False : False : Boolean\n",
      "      ('S1_0', 65) :     0 :   0.0 :     1 : False : False : Boolean\n",
      "      ('S1_0', 66) :     0 :   0.0 :     1 : False : False : Boolean\n",
      "      ('S1_0', 67) :     0 :   0.0 :     1 : False : False : Boolean\n",
      "      ('S1_0', 68) :     0 :   0.0 :     1 : False : False : Boolean\n",
      "      ('S1_0', 69) :     0 :   0.0 :     1 : False : False : Boolean\n",
      "      ('S1_0', 70) :     0 :   0.0 :     1 : False : False : Boolean\n",
      "      ('S1_0', 71) :     0 :   0.0 :     1 : False : False : Boolean\n",
      "      ('S1_0', 72) :     0 :   0.0 :     1 : False : False : Boolean\n",
      "      ('S1_0', 73) :     0 :   0.0 :     1 : False : False : Boolean\n",
      "      ('S1_0', 74) :     0 :   0.0 :     1 : False : False : Boolean\n",
      "      ('S1_0', 75) :     0 :   0.0 :     1 : False : False : Boolean\n",
      "      ('S1_0', 76) :     0 :   0.0 :     1 : False : False : Boolean\n",
      "      ('S1_0', 77) :     0 :   0.0 :     1 : False : False : Boolean\n",
      "      ('S1_0', 78) :     0 :   0.0 :     1 : False : False : Boolean\n",
      "      ('S1_0', 79) :     0 :   0.0 :     1 : False : False : Boolean\n",
      "      ('S1_0', 80) :     0 :   0.0 :     1 : False : False : Boolean\n",
      "      ('S1_0', 81) :     0 :   0.0 :     1 : False : False : Boolean\n",
      "      ('S1_0', 82) :     0 :   0.0 :     1 : False : False : Boolean\n",
      "      ('S1_0', 83) :     0 :   0.0 :     1 : False : False : Boolean\n",
      "      ('S1_0', 84) :     0 :   0.0 :     1 : False : False : Boolean\n",
      "      ('S1_0', 85) :     0 :   0.0 :     1 : False : False : Boolean\n",
      "      ('S1_0', 86) :     0 :   0.0 :     1 : False : False : Boolean\n",
      "      ('S1_0', 87) :     0 :   0.0 :     1 : False : False : Boolean\n",
      "      ('S1_0', 88) :     0 :   0.0 :     1 : False : False : Boolean\n",
      "      ('S1_0', 89) :     0 :   0.0 :     1 : False : False : Boolean\n",
      "      ('S1_0', 90) :     0 :   0.0 :     1 : False : False : Boolean\n",
      "      ('S1_0', 91) :     0 :   0.0 :     1 : False : False : Boolean\n",
      "      ('S1_0', 92) :     0 :   0.0 :     1 : False : False : Boolean\n",
      "      ('S1_0', 93) :     0 :   0.0 :     1 : False : False : Boolean\n",
      "      ('S1_0', 94) :     0 :   0.0 :     1 : False : False : Boolean\n",
      "      ('S1_0', 95) :     0 :   0.0 :     1 : False : False : Boolean\n",
      "      ('S1_0', 96) :     0 :   0.0 :     1 : False : False : Boolean\n",
      "      ('S1_0', 97) :     0 :   0.0 :     1 : False : False : Boolean\n",
      "      ('S1_0', 98) :     0 :   0.0 :     1 : False : False : Boolean\n",
      "      ('S1_0', 99) :     0 :   0.0 :     1 : False : False : Boolean\n",
      "     ('S1_0', 100) :     0 :   0.0 :     1 : False : False : Boolean\n",
      "     ('S1_0', 101) :     0 :   0.0 :     1 : False : False : Boolean\n",
      "     ('S1_0', 102) :     0 :   0.0 :     1 : False : False : Boolean\n",
      "     ('S1_0', 103) :     0 :   0.0 :     1 : False : False : Boolean\n",
      "     ('S1_0', 104) :     0 :   0.0 :     1 : False : False : Boolean\n",
      "     ('S1_0', 105) :     0 :   0.0 :     1 : False : False : Boolean\n",
      "     ('S1_0', 106) :     0 :   0.0 :     1 : False : False : Boolean\n",
      "     ('S1_0', 107) :     0 :   0.0 :     1 : False : False : Boolean\n",
      "     ('S1_0', 108) :     0 :   0.0 :     1 : False : False : Boolean\n",
      "     ('S1_0', 109) :     0 :   0.0 :     1 : False : False : Boolean\n",
      "     ('S1_0', 110) :     0 :   0.0 :     1 : False : False : Boolean\n",
      "     ('S1_0', 111) :     0 :   0.0 :     1 : False : False : Boolean\n",
      "     ('S1_0', 112) :     0 :   0.0 :     1 : False : False : Boolean\n",
      "     ('S1_0', 113) :     0 :   0.0 :     1 : False : False : Boolean\n",
      "     ('S1_0', 114) :     0 :   0.0 :     1 : False : False : Boolean\n",
      "     ('S1_0', 115) :     0 :   0.0 :     1 : False : False : Boolean\n",
      "     ('S1_0', 116) :     0 :   0.0 :     1 : False : False : Boolean\n",
      "     ('S1_0', 117) :     0 :   0.0 :     1 : False : False : Boolean\n",
      "     ('S1_0', 118) :     0 :   0.0 :     1 : False : False : Boolean\n",
      "     ('S1_0', 119) :     0 :   0.0 :     1 : False : False : Boolean\n",
      "     ('S1_0', 120) :     0 :   0.0 :     1 : False : False : Boolean\n",
      "     ('S1_0', 121) :     0 :   0.0 :     1 : False : False : Boolean\n",
      "     ('S1_0', 122) :     0 :   0.0 :     1 : False : False : Boolean\n",
      "     ('S1_0', 123) :     0 :   0.0 :     1 : False : False : Boolean\n",
      "     ('S1_0', 124) :     0 :   0.0 :     1 : False : False : Boolean\n",
      "     ('S1_0', 125) :     0 :   0.0 :     1 : False : False : Boolean\n",
      "     ('S1_0', 126) :     0 :   0.0 :     1 : False : False : Boolean\n",
      "     ('S1_0', 127) :     0 :   0.0 :     1 : False : False : Boolean\n",
      "     ('S1_0', 128) :     0 :   0.0 :     1 : False : False : Boolean\n",
      "     ('S1_0', 129) :     0 :   0.0 :     1 : False : False : Boolean\n",
      "     ('S1_0', 130) :     0 :   0.0 :     1 : False : False : Boolean\n",
      "     ('S1_0', 131) :     0 :   0.0 :     1 : False : False : Boolean\n",
      "     ('S1_0', 132) :     0 :   0.0 :     1 : False : False : Boolean\n",
      "     ('S1_0', 133) :     0 :   0.0 :     1 : False : False : Boolean\n",
      "     ('S1_0', 134) :     0 :   0.0 :     1 : False : False : Boolean\n",
      "     ('S1_0', 135) :     0 :   0.0 :     1 : False : False : Boolean\n",
      "     ('S1_0', 136) :     0 :   0.0 :     1 : False : False : Boolean\n",
      "     ('S1_0', 137) :     0 :   0.0 :     1 : False : False : Boolean\n",
      "     ('S1_0', 138) :     0 :   0.0 :     1 : False : False : Boolean\n",
      "     ('S1_0', 139) :     0 :   0.0 :     1 : False : False : Boolean\n",
      "     ('S1_0', 140) :     0 :   0.0 :     1 : False : False : Boolean\n",
      "     ('S1_0', 141) :     0 :   0.0 :     1 : False : False : Boolean\n",
      "     ('S1_0', 142) :     0 :   0.0 :     1 : False : False : Boolean\n",
      "     ('S1_0', 143) :     0 :   0.0 :     1 : False : False : Boolean\n",
      "     ('S1_0', 144) :     0 :   0.0 :     1 : False : False : Boolean\n",
      "     ('S1_0', 145) :     0 :   0.0 :     1 : False : False : Boolean\n",
      "     ('S1_0', 146) :     0 :   0.0 :     1 : False : False : Boolean\n",
      "     ('S1_0', 147) :     0 :   0.0 :     1 : False : False : Boolean\n",
      "     ('S1_0', 148) :     0 :   0.0 :     1 : False : False : Boolean\n",
      "     ('S1_0', 149) :     0 :   0.0 :     1 : False : False : Boolean\n",
      "     ('S1_0', 150) :     0 :   0.0 :     1 : False : False : Boolean\n",
      "     ('S1_0', 151) :     0 :   0.0 :     1 : False : False : Boolean\n",
      "     ('S1_0', 152) :     0 :   0.0 :     1 : False : False : Boolean\n",
      "     ('S1_0', 153) :     0 :   0.0 :     1 : False : False : Boolean\n",
      "     ('S1_0', 154) :     0 :   0.0 :     1 : False : False : Boolean\n",
      "     ('S1_0', 155) :     0 :   0.0 :     1 : False : False : Boolean\n",
      "     ('S1_0', 156) :     0 :   0.0 :     1 : False : False : Boolean\n",
      "     ('S1_0', 157) :     0 :   0.0 :     1 : False : False : Boolean\n",
      "     ('S1_0', 158) :     0 :   0.0 :     1 : False : False : Boolean\n",
      "     ('S1_0', 159) :     0 :   0.0 :     1 : False : False : Boolean\n",
      "     ('S1_0', 160) :     0 :   0.0 :     1 : False : False : Boolean\n",
      "     ('S1_0', 161) :     0 :   0.0 :     1 : False : False : Boolean\n",
      "     ('S1_0', 162) :     0 :   0.0 :     1 : False : False : Boolean\n",
      "     ('S1_0', 163) :     0 :   0.0 :     1 : False : False : Boolean\n",
      "     ('S1_0', 164) :     0 :   0.0 :     1 : False : False : Boolean\n",
      "     ('S1_0', 165) :     0 :   0.0 :     1 : False : False : Boolean\n",
      "     ('S1_0', 166) :     0 :   0.0 :     1 : False : False : Boolean\n",
      "     ('S1_0', 167) :     0 :   0.0 :     1 : False : False : Boolean\n",
      "     ('S1_0', 168) :     0 :   0.0 :     1 : False : False : Boolean\n",
      "     ('S1_0', 169) :     0 :   0.0 :     1 : False : False : Boolean\n",
      "     ('S1_0', 170) :     0 :   0.0 :     1 : False : False : Boolean\n",
      "     ('S1_0', 171) :     0 :   0.0 :     1 : False : False : Boolean\n",
      "     ('S1_0', 172) :     0 :   0.0 :     1 : False : False : Boolean\n",
      "     ('S1_0', 173) :     0 :   0.0 :     1 : False : False : Boolean\n",
      "     ('S1_0', 174) :     0 :   0.0 :     1 : False : False : Boolean\n",
      "     ('S1_0', 175) :     0 :   0.0 :     1 : False : False : Boolean\n",
      "     ('S1_0', 176) :     0 :   0.0 :     1 : False : False : Boolean\n",
      "     ('S1_0', 177) :     0 :   0.0 :     1 : False : False : Boolean\n",
      "     ('S1_0', 178) :     0 :   0.0 :     1 : False : False : Boolean\n",
      "     ('S1_0', 179) :     0 :   0.0 :     1 : False : False : Boolean\n",
      "     ('S1_0', 180) :     0 :   0.0 :     1 : False : False : Boolean\n",
      "     ('S1_0', 181) :     0 :   0.0 :     1 : False : False : Boolean\n",
      "     ('S1_0', 182) :     0 :   0.0 :     1 : False : False : Boolean\n",
      "     ('S1_0', 183) :     0 :   0.0 :     1 : False : False : Boolean\n",
      "     ('S1_0', 184) :     0 :   0.0 :     1 : False : False : Boolean\n",
      "     ('S1_0', 185) :     0 :   0.0 :     1 : False : False : Boolean\n",
      "     ('S1_0', 186) :     0 :   0.0 :     1 : False : False : Boolean\n",
      "     ('S1_0', 187) :     0 :   0.0 :     1 : False : False : Boolean\n",
      "     ('S1_0', 188) :     0 :   0.0 :     1 : False : False : Boolean\n",
      "     ('S1_0', 189) :     0 :   0.0 :     1 : False : False : Boolean\n",
      "     ('S1_0', 190) :     0 :   0.0 :     1 : False : False : Boolean\n",
      "     ('S1_0', 191) :     0 :   0.0 :     1 : False : False : Boolean\n",
      "     ('S1_0', 192) :     0 :   0.0 :     1 : False : False : Boolean\n",
      "     ('S1_0', 193) :     0 :   0.0 :     1 : False : False : Boolean\n",
      "     ('S1_0', 194) :     0 :   0.0 :     1 : False : False : Boolean\n",
      "     ('S1_0', 195) :     0 :   0.0 :     1 : False : False : Boolean\n",
      "     ('S1_0', 196) :     0 :   0.0 :     1 : False : False : Boolean\n",
      "     ('S1_0', 197) :     0 :   0.0 :     1 : False : False : Boolean\n",
      "     ('S1_0', 198) :     0 :   0.0 :     1 : False : False : Boolean\n",
      "     ('S1_0', 199) :     0 :   0.0 :     1 : False : False : Boolean\n",
      "     ('S1_0', 200) :     0 :   0.0 :     1 : False : False : Boolean\n",
      "     ('S1_0', 201) :     0 :   0.0 :     1 : False : False : Boolean\n",
      "     ('S1_0', 202) :     0 :   0.0 :     1 : False : False : Boolean\n",
      "     ('S1_0', 203) :     0 :   0.0 :     1 : False : False : Boolean\n",
      "     ('S1_0', 204) :     0 :   0.0 :     1 : False : False : Boolean\n",
      "     ('S1_0', 205) :     0 :   0.0 :     1 : False : False : Boolean\n",
      "     ('S1_0', 206) :     0 :   0.0 :     1 : False : False : Boolean\n",
      "     ('S1_0', 207) :     0 :   0.0 :     1 : False : False : Boolean\n",
      "     ('S1_0', 208) :     0 :   0.0 :     1 : False : False : Boolean\n",
      "     ('S1_0', 209) :     0 :   0.0 :     1 : False : False : Boolean\n",
      "     ('S1_0', 210) :     0 :   0.0 :     1 : False : False : Boolean\n",
      "     ('S1_0', 211) :     0 :   0.0 :     1 : False : False : Boolean\n",
      "     ('S1_0', 212) :     0 :   0.0 :     1 : False : False : Boolean\n",
      "     ('S1_0', 213) :     0 :   0.0 :     1 : False : False : Boolean\n",
      "     ('S1_0', 214) :     0 :   0.0 :     1 : False : False : Boolean\n",
      "     ('S1_0', 215) :     0 :   0.0 :     1 : False : False : Boolean\n",
      "     ('S1_0', 216) :     0 :   0.0 :     1 : False : False : Boolean\n",
      "     ('S1_0', 217) :     0 :   0.0 :     1 : False : False : Boolean\n",
      "     ('S1_0', 218) :     0 :   0.0 :     1 : False : False : Boolean\n",
      "     ('S1_0', 219) :     0 :   0.0 :     1 : False : False : Boolean\n",
      "     ('S1_0', 220) :     0 :   0.0 :     1 : False : False : Boolean\n",
      "     ('S1_0', 221) :     0 :   0.0 :     1 : False : False : Boolean\n",
      "     ('S1_0', 222) :     0 :   0.0 :     1 : False : False : Boolean\n",
      "     ('S1_0', 223) :     0 :   0.0 :     1 : False : False : Boolean\n",
      "     ('S1_0', 224) :     0 :   0.0 :     1 : False : False : Boolean\n",
      "     ('S1_0', 225) :     0 :   0.0 :     1 : False : False : Boolean\n",
      "     ('S1_0', 226) :     0 :   0.0 :     1 : False : False : Boolean\n",
      "     ('S1_0', 227) :     0 :   0.0 :     1 : False : False : Boolean\n",
      "     ('S1_0', 228) :     0 :   0.0 :     1 : False : False : Boolean\n",
      "     ('S1_0', 229) :     0 :   0.0 :     1 : False : False : Boolean\n"
     ]
    }
   ],
   "source": [
    "m.instance.xkappa.pprint()"
   ]
  },
  {
   "cell_type": "code",
   "execution_count": 312,
   "metadata": {},
   "outputs": [
    {
     "name": "stdout",
     "output_type": "stream",
     "text": [
      "{Member of xa} : Size=10, Index=V01_\n",
      "    Key : Lower : Value : Upper : Fixed : Stale : Domain\n",
      "     D0 :     0 : 100.0 :  None : False : False : NonNegativeReals\n"
     ]
    }
   ],
   "source": [
    "m.instance.xa['D0'].pprint()"
   ]
  },
  {
   "cell_type": "code",
   "execution_count": null,
   "metadata": {},
   "outputs": [],
   "source": []
  }
 ],
 "metadata": {
  "kernelspec": {
   "display_name": "Python 3",
   "language": "python",
   "name": "python3"
  },
  "language_info": {
   "codemirror_mode": {
    "name": "ipython",
    "version": 3
   },
   "file_extension": ".py",
   "mimetype": "text/x-python",
   "name": "python",
   "nbconvert_exporter": "python",
   "pygments_lexer": "ipython3",
   "version": "3.6.10"
  }
 },
 "nbformat": 4,
 "nbformat_minor": 1
}
