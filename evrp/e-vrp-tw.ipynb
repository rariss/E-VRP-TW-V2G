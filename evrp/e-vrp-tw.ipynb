{
 "cells": [
  {
   "cell_type": "code",
   "execution_count": 1,
   "metadata": {
    "pycharm": {
     "name": "#%%\n"
    }
   },
   "outputs": [],
   "source": [
    "import sys\n",
    "sys.path.append(\"../\") # go to parent dir\n",
    "\n",
    "%load_ext autoreload\n",
    "%autoreload 2"
   ]
  },
  {
   "cell_type": "code",
   "execution_count": 116,
   "metadata": {
    "pycharm": {
     "name": "#%%\n"
    }
   },
   "outputs": [],
   "source": [
    "from evrp.utils.utilities import *\n",
    "from evrp.utils.graph import draw_plain_graph, draw_graph\n",
    "from evrp.utils.plot import plot_interactive_graph\n",
    "from evrp.milp.tsp import TSP\n",
    "from evrp.milp.vrptw import VRPTW\n",
    "from evrp.milp.evrptw import EVRPTW\n",
    "\n",
    "import pandas as pd\n",
    "import numpy as np\n",
    "from scipy.spatial import distance\n",
    "\n",
    "import pprint\n",
    "\n",
    "import plotly.figure_factory as ff\n",
    "from plotly.subplots import make_subplots\n",
    "import plotly.graph_objects as go\n",
    "import plotly.express as px\n",
    "\n",
    "import matplotlib.pyplot as plt\n",
    "import matplotlib.colors as pltc\n",
    "from matplotlib.gridspec import GridSpec\n",
    "from matplotlib.ticker import MultipleLocator\n",
    "\n",
    "import itertools\n",
    "\n",
    "import networkx as nx\n",
    "\n",
    "from pyomo.environ import *\n",
    "\n",
    "from evrp.config.GLOBAL_CONFIG import *\n",
    "\n",
    "pd.options.plotting.backend = \"plotly\"\n",
    "pp = pprint.PrettyPrinter()"
   ]
  },
  {
   "cell_type": "code",
   "execution_count": 243,
   "metadata": {
    "pycharm": {
     "name": "#%%\n"
    }
   },
   "outputs": [],
   "source": [
    "instance = 'r105c5_e'\n",
    "fpath = 'config/test_instances/' + instance + '.csv'"
   ]
  },
  {
   "cell_type": "code",
   "execution_count": 187,
   "metadata": {},
   "outputs": [],
   "source": [
    "del m.instance, m.results\n",
    "m.instance = m.instance2.clone()\n",
    "m.results = m.results2.copy()"
   ]
  },
  {
   "cell_type": "code",
   "execution_count": 190,
   "metadata": {},
   "outputs": [
    {
     "name": "stdout",
     "output_type": "stream",
     "text": [
      "Using license file /Users/ramiariss/gurobi.lic\n",
      "Academic license - for non-commercial use only - expires 2021-03-21\n",
      "Read LP format model from file /var/folders/vv/1p3h17yx43n9m7k86th68_ym0000gn/T/tmp2r_5_0fa.pyomo.lp\n",
      "Reading time = 0.05 seconds\n",
      ": 2186 rows, 1414 columns, 4894 nonzeros\n",
      "Read MIP start from file /var/folders/vv/1p3h17yx43n9m7k86th68_ym0000gn/T/tmpjzn5epg2.gurobi.mst\n",
      "Changed value of parameter TimeLimit to 300.0\n",
      "   Prev: inf  Min: 0.0  Max: inf  Default: inf\n",
      "Gurobi Optimizer version 9.1.0 build v9.1.0rc0 (mac64)\n",
      "Thread count: 4 physical cores, 8 logical processors, using up to 8 threads\n",
      "Optimize a model with 2186 rows, 1414 columns and 4894 nonzeros\n",
      "Model fingerprint: 0x4557f771\n",
      "Model has 1350 quadratic objective terms\n",
      "Model has 4503 quadratic constraints\n",
      "Variable types: 736 continuous, 678 integer (678 binary)\n",
      "Coefficient statistics:\n",
      "  Matrix range     [1e+00, 3e+03]\n",
      "  QMatrix range    [1e+00, 3e+01]\n",
      "  QLMatrix range   [1e+00, 1e+00]\n",
      "  Objective range  [9e-02, 2e+03]\n",
      "  QObjective range [6e-02, 2e+01]\n",
      "  Bounds range     [1e+00, 1e+00]\n",
      "  RHS range        [1e+00, 3e+03]\n",
      "  QRHS range       [3e-01, 8e+01]\n",
      "\n",
      "User MIP start produced solution with objective 2527.78 (0.01s)\n",
      "Loaded user MIP start with objective 2527.78\n",
      "\n",
      "Presolve removed 2131 rows and 1042 columns\n",
      "Presolve time: 0.05s\n",
      "Presolved: 1438 rows, 1054 columns, 10705 nonzeros\n",
      "Presolved model has 344 SOS constraint(s)\n",
      "Variable types: 544 continuous, 510 integer (510 binary)\n",
      "Found heuristic solution: objective 2525.1648193\n",
      "\n",
      "Root relaxation: objective 2.525108e+03, 157 iterations, 0.00 seconds\n",
      "\n",
      "    Nodes    |    Current Node    |     Objective Bounds      |     Work\n",
      " Expl Unexpl |  Obj  Depth IntInf | Incumbent    BestBd   Gap | It/Node Time\n",
      "\n",
      "     0     0 2525.10826    0   51 2525.16482 2525.10826  0.00%     -    0s\n",
      "\n",
      "Explored 1 nodes (175 simplex iterations) in 0.32 seconds\n",
      "Thread count was 8 (of 8 available processors)\n",
      "\n",
      "Solution count 2: 2525.16 2527.78 \n",
      "\n",
      "Optimal solution found (tolerance 1.00e-04)\n",
      "Best objective 2.525164819307e+03, best bound 2.525108263984e+03, gap 0.0022%\n"
     ]
    }
   ],
   "source": [
    "# Initialize past solution\n",
    "# Specify solver\n",
    "opt = SolverFactory('gurobi', io_format='python')\n",
    "# Solver options\n",
    "solv_options = {'TimeLimit': 60*5}  # 'Symmetry': 2\n",
    "\n",
    "# SAVE PAST MODEL RESULT\n",
    "m.instance2 = m.instance.clone()\n",
    "m.results2 = m.results.copy()\n",
    "\n",
    "# CHANGE CONSTRAINTS\n",
    "def constraint_energy_peak(instance, s, t):\n",
    "    \"\"\"Peak electric demand for each physical station s(i) ∈ S\"\"\"\n",
    "    return instance.G[s, t] + sum(instance.xkappa[i, t] * instance.xp[i, t] for i in instance.Smap[s]) <= instance.xd[s]\n",
    "m.instance.constraint_energy_peak = Constraint(m.instance.S, m.instance.T, rule=constraint_energy_peak)\n",
    "\n",
    "# CHANGE OBJECTIVES\n",
    "m.instance.del_component(m.instance.obj)  # Decativate the old objective\n",
    "def new_obj(instance):\n",
    "    return m.total_distance(instance) + m.C_fleet_capital_cost(instance) + m.cycle_cost(instance) + m.squeeze_cycle_cost(instance) + m.R_energy_arbitrage_revenue(instance) + m.R_peak_shaving_revenue(instance)\n",
    "m.instance.obj = Objective(rule=new_obj, sense=minimize)\n",
    "\n",
    "# Solve instance\n",
    "m.results = opt.solve(m.instance, tee=True, warmstart=True, options=solv_options)"
   ]
  },
  {
   "cell_type": "code",
   "execution_count": 191,
   "metadata": {},
   "outputs": [
    {
     "name": "stdout",
     "output_type": "stream",
     "text": [
      "\n",
      "Problem: \n",
      "- Name: \n",
      "  Lower bound: 2525.1082639838332\n",
      "  Upper bound: 2525.1648193067313\n",
      "  Number of objectives: 1\n",
      "  Number of constraints: 6689\n",
      "  Number of variables: 1414\n",
      "  Number of binary variables: 678\n",
      "  Number of integer variables: 678\n",
      "  Number of continuous variables: 736\n",
      "  Number of nonzeros: 4894\n",
      "  Sense: minimize\n",
      "Solver: \n",
      "- Status: ok\n",
      "  Return code: 0\n",
      "  Message: Model was solved to optimality (subject to tolerances), and an optimal solution is available.\n",
      "  Termination condition: optimal\n",
      "  Termination message: Model was solved to optimality (subject to tolerances), and an optimal solution is available.\n",
      "  Wall time: 0.32448506355285645\n",
      "  Error rc: 0\n",
      "  Time: 0.6872642040252686\n",
      "Solution: \n",
      "- number of solutions: 0\n",
      "  number of solutions displayed: 0\n",
      "\n"
     ]
    }
   ],
   "source": [
    "print(m.results)"
   ]
  },
  {
   "cell_type": "code",
   "execution_count": 100,
   "metadata": {},
   "outputs": [
    {
     "name": "stdout",
     "output_type": "stream",
     "text": [
      "Using license file /Users/ramiariss/gurobi.lic\n",
      "Academic license - for non-commercial use only - expires 2021-03-21\n",
      "Read LP format model from file /var/folders/vv/1p3h17yx43n9m7k86th68_ym0000gn/T/tmp_u57l7nd.pyomo.lp\n",
      "Reading time = 0.08 seconds\n",
      "x1687: 734 rows, 1684 columns, 2690 nonzeros\n",
      "Read MIP start from file /var/folders/vv/1p3h17yx43n9m7k86th68_ym0000gn/T/tmpvpz49edy.gurobi.mst\n",
      "Changed value of parameter TimeLimit to 300.0\n",
      "   Prev: inf  Min: 0.0  Max: inf  Default: inf\n",
      "Gurobi Optimizer version 9.1.0 build v9.1.0rc0 (mac64)\n",
      "Thread count: 4 physical cores, 8 logical processors, using up to 8 threads\n",
      "Optimize a model with 734 rows, 1684 columns and 2690 nonzeros\n",
      "Model fingerprint: 0x2cf31dec\n",
      "Model has 12198 quadratic objective terms\n",
      "Model has 5616 quadratic constraints\n",
      "Variable types: 733 continuous, 951 integer (951 binary)\n",
      "Coefficient statistics:\n",
      "  Matrix range     [1e+00, 4e+03]\n",
      "  QMatrix range    [1e+00, 3e+01]\n",
      "  QLMatrix range   [1e+00, 3e+03]\n",
      "  Objective range  [3e+00, 1e+03]\n",
      "  QObjective range [6e-02, 2e+01]\n",
      "  Bounds range     [1e+00, 1e+00]\n",
      "  RHS range        [1e+00, 3e+03]\n",
      "  QRHS range       [3e-01, 3e+03]\n",
      "\n",
      "User MIP start produced solution with objective 2227.75 (0.01s)\n",
      "Loaded user MIP start with objective 2227.75\n",
      "\n",
      "Presolve added 1153 rows and 0 columns\n",
      "Presolve removed 0 rows and 32 columns\n",
      "Presolve time: 0.30s\n",
      "Presolved: 18531 rows, 15398 columns, 147108 nonzeros\n",
      "Presolved model has 1356 SOS constraint(s)\n",
      "Variable types: 2290 continuous, 13108 integer (13095 binary)\n",
      "\n",
      "Deterministic concurrent LP optimizer: primal and dual simplex\n",
      "Showing first log only...\n",
      "\n",
      "Concurrent spin time: 0.00s\n",
      "\n",
      "Solved with dual simplex\n",
      "\n",
      "Root relaxation: objective 6.704713e+01, 4807 iterations, 0.47 seconds\n",
      "\n",
      "    Nodes    |    Current Node    |     Objective Bounds      |     Work\n",
      " Expl Unexpl |  Obj  Depth IntInf | Incumbent    BestBd   Gap | It/Node Time\n",
      "\n",
      "     0     0   67.04713    0 1394 2227.74666   67.04713  97.0%     -    2s\n",
      "     0     0  126.23865    0 1156 2227.74666  126.23865  94.3%     -    3s\n",
      "     0     0  126.61620    0 1385 2227.74666  126.61620  94.3%     -    4s\n",
      "     0     0  134.82895    0 1167 2227.74666  134.82895  93.9%     -    5s\n",
      "     0     0  136.67130    0 1159 2227.74666  136.67130  93.9%     -    5s\n",
      "     0     0  137.04448    0 1155 2227.74666  137.04448  93.8%     -    6s\n",
      "     0     0  141.15041    0 1048 2227.74666  141.15041  93.7%     -    7s\n",
      "     0     0  141.21614    0 1045 2227.74666  141.21614  93.7%     -    7s\n",
      "     0     0  141.60797    0 1033 2227.74666  141.60797  93.6%     -    8s\n",
      "     0     0  141.65149    0 1049 2227.74666  141.65149  93.6%     -    8s\n",
      "     0     0  142.08537    0 1020 2227.74666  142.08537  93.6%     -    9s\n",
      "     0     0  142.09941    0  995 2227.74666  142.09941  93.6%     -    9s\n",
      "     0     0  142.35063    0  960 2227.74666  142.35063  93.6%     -   10s\n",
      "     0     0  142.35063    0  959 2227.74666  142.35063  93.6%     -   10s\n",
      "     0     2  142.36260    0  959 2227.74666  142.36260  93.6%     -   12s\n",
      "    27    32  158.95468    5 1128 2227.74666  147.15641  93.4%   762   15s\n",
      "   126    93 infeasible   19      2227.74666  147.15641  93.4%   575   20s\n",
      "   202   144  196.19570    8  975 2227.74666  150.65339  93.2%   573   25s\n",
      "   283   190 1257.66267   19  739 2227.74666  150.65339  93.2%   589   31s\n",
      "   322   211  240.41645    7  728 2227.74666  156.83292  93.0%   639   35s\n",
      "   403   254  193.63504    6  990 2227.74666  163.58922  92.7%   666   40s\n",
      "   564   333 1338.80984   19  599 2227.74666  166.81895  92.5%   615   45s\n",
      "   723   411  209.20923   10 1076 2227.74666  168.62141  92.4%   603   50s\n",
      "   816   441 infeasible   25      2227.74666  170.59964  92.3%   628   56s\n",
      "   922   498  376.25375    9  453 2227.74666  174.76019  92.2%   628   61s\n",
      "  1052   527 2212.47692   26  663 2227.74666  175.54121  92.1%   596   66s\n",
      "  1129   556 1209.99929   11 1080 2227.74666  178.00330  92.0%   603   71s\n",
      "  1222   591 1199.53840   10  822 2227.74666  179.82124  91.9%   595   75s\n",
      "  1309   635 infeasible   27      2227.74666  182.97029  91.8%   591   81s\n",
      "  1492   696  229.34024   10 1169 2227.74666  185.82794  91.7%   580   86s\n",
      "  1636   764 infeasible   14      2227.74666  191.47102  91.4%   591   91s\n",
      "  1813   810  240.14913   10 1165 2227.74666  193.92751  91.3%   578   96s\n",
      "  1973   861 2219.72765   14  877 2227.74666  197.47077  91.1%   572  104s\n",
      "H 2004   861                    2227.7466634  197.47077  91.1%   570  104s\n",
      "  2056   862  245.69767   12 6209 2227.74666  199.72038  91.0%   568  107s\n",
      "  2058   863 1325.51294   15 1253 2227.74666  199.72038  91.0%   567  110s\n",
      "  2073   873  236.16583    9  927 2227.74666  199.72038  91.0%   563  115s\n",
      "  2085   881 1431.10598   22  813 2227.74666  199.72038  91.0%   560  122s\n",
      "  2087   883  237.61960   13  807 2227.74666  199.72038  91.0%   559  125s\n",
      "  2088   886  199.72038   10  781 2227.74666  199.72038  91.0%   567  138s\n",
      "  2090   890  199.72038   11  791 2227.74666  199.72038  91.0%   567  153s\n",
      "  2094   891  199.72038   12  735 2227.74666  199.72038  91.0%   569  158s\n",
      "  2098   894  199.72038   12  938 2227.74666  199.72038  91.0%   571  162s\n",
      "  2106   899  199.72038   13  892 2227.74666  199.72038  91.0%   574  168s\n",
      "  2110   905  199.72038   14  735 2227.74666  199.72038  91.0%   575  170s\n",
      "  2130   914  208.27267   17  793 2227.74666  199.72038  91.0%   578  175s\n",
      "  2164   927 1292.91346   23  382 2227.74666  199.72038  91.0%   586  180s\n",
      "  2199   932 1301.44931   30  642 2227.74666  199.72038  91.0%   589  186s\n",
      "  2242   948  233.18095   16  719 2227.74666  199.72038  91.0%   593  190s\n",
      "  2291   956 1609.78427   25  774 2227.74666  199.72038  91.0%   598  196s\n",
      "  2371   927 1279.56902   24  587 2227.74666  199.72038  91.0%   602  201s\n",
      "  2429   936 1215.86597   18  878 2227.74666  199.72038  91.0%   604  206s\n",
      "  2471   948 1271.16905   21  708 2227.74666  199.72038  91.0%   606  212s\n",
      "  2500   952 infeasible   22      2227.74666  199.72038  91.0%   608  215s\n",
      "  2591   965 1332.26779   32  406 2227.74666  199.72038  91.0%   613  221s\n",
      "  2637   967 infeasible   36      2227.74666  199.72038  91.0%   611  226s\n",
      "  2699   966 1305.87655   22  583 2227.74666  203.44754  90.9%   615  231s\n",
      "  2774   952  241.52771   16  993 2227.74666  205.95595  90.8%   618  237s\n",
      "  2794   948  360.02051   21  707 2227.74666  205.95659  90.8%   623  241s\n",
      "  2867   940  382.23726   21  588 2227.74666  211.45257  90.5%   630  247s\n",
      "  2919   931 infeasible   18      2227.74666  211.98937  90.5%   632  252s\n",
      "  2995   926     cutoff   21      2227.74666  215.95808  90.3%   634  256s\n",
      "  3034   931  263.07274   15  635 2227.74666  217.08627  90.3%   634  261s\n",
      "  3109   930  239.80387   22  720 2227.74666  218.25561  90.2%   633  265s\n",
      "  3212   942 1310.40458   27 1052 2227.74666  219.83108  90.1%   639  273s\n",
      "  3297   927 1342.26953   18  655 2227.74666  226.41627  89.8%   637  281s\n",
      "  3327   934 2221.63778   26  758 2227.74666  228.54972  89.7%   637  285s\n",
      "  3380   926 infeasible   18      2227.74666  228.54972  89.7%   641  294s\n",
      "  3417   924 1647.53447   19  827 2227.74666  230.66052  89.6%   644  300s\n",
      "\n",
      "Cutting planes:\n",
      "  Learned: 4\n",
      "  Gomory: 63\n",
      "  Cover: 10\n",
      "  Implied bound: 1271\n",
      "  Projected implied bound: 3\n",
      "  MIR: 173\n",
      "  StrongCG: 2\n",
      "  Flow cover: 355\n",
      "  GUB cover: 2\n",
      "  Inf proof: 2\n",
      "  Zero half: 84\n",
      "  Mod-K: 10\n",
      "  RLT: 92\n",
      "  Relax-and-lift: 125\n",
      "\n",
      "Explored 3482 nodes (2265304 simplex iterations) in 300.04 seconds\n",
      "Thread count was 8 (of 8 available processors)\n",
      "\n",
      "Solution count 3: 2227.75 2227.75 2227.75 \n",
      "\n",
      "Time limit reached\n",
      "Best objective 2.227746672322e+03, best bound 2.327756079131e+02, gap 89.5511%\n"
     ]
    },
    {
     "name": "stderr",
     "output_type": "stream",
     "text": [
      "2021-01-26 02:14:19 WARNING  Loading a SolverResults object with an 'aborted' status, but containing a solution\n"
     ]
    },
    {
     "name": "stdout",
     "output_type": "stream",
     "text": [
      "WARNING: Loading a SolverResults object with an 'aborted' status, but\n",
      "    containing a solution\n"
     ]
    }
   ],
   "source": [
    "# Testing if instatiating and running same model improves results\n",
    "\n",
    "# SAVE PAST MODEL RESULT\n",
    "m.instance3 = m.instance.clone()\n",
    "m.results3 = m.results.copy()\n",
    "\n",
    "m.results3_ = opt.solve(m.instance, tee=True, warmstart=True, options=solv_options)"
   ]
  },
  {
   "cell_type": "code",
   "execution_count": 279,
   "metadata": {},
   "outputs": [
    {
     "ename": "AttributeError",
     "evalue": "'EVRPTW' object has no attribute 'results3_'",
     "output_type": "error",
     "traceback": [
      "\u001b[0;31m---------------------------------------------------------------------------\u001b[0m",
      "\u001b[0;31mAttributeError\u001b[0m                            Traceback (most recent call last)",
      "\u001b[0;32m<ipython-input-279-094119053289>\u001b[0m in \u001b[0;36m<module>\u001b[0;34m\u001b[0m\n\u001b[0;32m----> 1\u001b[0;31m \u001b[0mprint\u001b[0m\u001b[0;34m(\u001b[0m\u001b[0mm\u001b[0m\u001b[0;34m.\u001b[0m\u001b[0mresults3_\u001b[0m\u001b[0;34m)\u001b[0m\u001b[0;34m\u001b[0m\u001b[0;34m\u001b[0m\u001b[0m\n\u001b[0m",
      "\u001b[0;31mAttributeError\u001b[0m: 'EVRPTW' object has no attribute 'results3_'"
     ]
    }
   ],
   "source": [
    "print(m.results3_)"
   ]
  },
  {
   "cell_type": "code",
   "execution_count": 477,
   "metadata": {},
   "outputs": [
    {
     "data": {
      "text/plain": [
       "'Minimize OpEx CapEx Cycle EA DCM FullStart=End Noxkappabounds'"
      ]
     },
     "execution_count": 477,
     "metadata": {},
     "output_type": "execute_result"
    }
   ],
   "source": [
    "test = 'Minimize OpEx CapEx Cycle EA DCM FullStart=End Noxkappabounds'\n",
    "test.lower().split()\n",
    "test"
   ]
  },
  {
   "cell_type": "code",
   "execution_count": 491,
   "metadata": {
    "scrolled": false
   },
   "outputs": [
    {
     "name": "stderr",
     "output_type": "stream",
     "text": [
      "2021-02-04 03:10:46 INFO     Building abstract model\n",
      "2021-02-04 03:10:46 INFO     Defining parameters and sets\n",
      "2021-02-04 03:10:46 INFO     Defining variables\n",
      "2021-02-04 03:10:46 INFO     Defining constraints\n",
      "2021-02-04 03:10:46 INFO     Importing EVRPTW MILP instance: r105c5_e\n",
      "2021-02-04 03:10:46 INFO     Reading CSV\n",
      "2021-02-04 03:10:46 INFO     Creating graph\n",
      "2021-02-04 03:10:46 INFO     Creating timeseries data\n",
      "2021-02-04 03:10:46 INFO     Creating duplicates and extended graph\n",
      "2021-02-04 03:10:46 INFO     Calculating distance matrix\n",
      "2021-02-04 03:10:46 INFO     Creating parameters\n",
      "2021-02-04 03:10:46 INFO     Creating instance\n",
      "2021-02-04 03:10:46 INFO     Problem type: Minimize OpEx CapEx Cycle EA DCM FullStart=End\n",
      "2021-02-04 03:10:46 INFO     Solving instance...\n"
     ]
    },
    {
     "name": "stdout",
     "output_type": "stream",
     "text": [
      "Using license file /Users/ramiariss/gurobi.lic\n",
      "Academic license - for non-commercial use only - expires 2021-03-21\n",
      "Read LP format model from file /var/folders/vv/1p3h17yx43n9m7k86th68_ym0000gn/T/tmpvtdaw8ic.pyomo.lp\n",
      "Reading time = 0.01 seconds\n",
      ": 346 rows, 452 columns, 1197 nonzeros\n",
      "Changed value of parameter TimeLimit to 300.0\n",
      "   Prev: inf  Min: 0.0  Max: inf  Default: inf\n",
      "Gurobi Optimizer version 9.1.0 build v9.1.0rc0 (mac64)\n",
      "Thread count: 4 physical cores, 8 logical processors, using up to 8 threads\n",
      "Optimize a model with 346 rows, 452 columns and 1197 nonzeros\n",
      "Model fingerprint: 0xc20408d8\n",
      "Model has 1788 quadratic objective terms\n",
      "Model has 1305 quadratic constraints\n",
      "Variable types: 181 continuous, 271 integer (271 binary)\n",
      "Coefficient statistics:\n",
      "  Matrix range     [1e+00, 3e+02]\n",
      "  QMatrix range    [1e+00, 1e+01]\n",
      "  QLMatrix range   [1e+00, 3e+02]\n",
      "  Objective range  [9e+00, 1e+03]\n",
      "  QObjective range [6e-02, 6e+00]\n",
      "  Bounds range     [1e+00, 1e+00]\n",
      "  RHS range        [1e+00, 2e+02]\n",
      "  QRHS range       [2e+00, 2e+02]\n",
      "Presolve added 263 rows and 0 columns\n",
      "Presolve removed 0 rows and 1 columns\n",
      "Presolve time: 0.05s\n",
      "Presolved: 3440 rows, 2647 columns, 15812 nonzeros\n",
      "Presolved model has 276 SOS constraint(s)\n",
      "Variable types: 596 continuous, 2051 integer (2038 binary)\n",
      "\n",
      "Root relaxation: objective 8.354628e+01, 992 iterations, 0.02 seconds\n",
      "\n",
      "    Nodes    |    Current Node    |     Objective Bounds      |     Work\n",
      " Expl Unexpl |  Obj  Depth IntInf | Incumbent    BestBd   Gap | It/Node Time\n",
      "\n",
      "     0     0   83.54628    0  288          -   83.54628      -     -    0s\n",
      "     0     0  152.57603    0  410          -  152.57603      -     -    0s\n",
      "     0     0  180.29780    0  337          -  180.29780      -     -    0s\n",
      "     0     0  181.05259    0  327          -  181.05259      -     -    0s\n",
      "     0     0  191.77574    0  317          -  191.77574      -     -    0s\n",
      "     0     0  195.08704    0  325          -  195.08704      -     -    0s\n",
      "     0     0  195.25724    0  248          -  195.25724      -     -    0s\n",
      "     0     0  198.59996    0  248          -  198.59996      -     -    0s\n",
      "     0     0  198.65320    0  254          -  198.65320      -     -    0s\n",
      "     0     0  201.70194    0  263          -  201.70194      -     -    0s\n",
      "     0     0  201.73014    0  266          -  201.73014      -     -    0s\n",
      "     0     0  202.26102    0  270          -  202.26102      -     -    0s\n",
      "     0     0  202.26102    0  249          -  202.26102      -     -    0s\n",
      "     0     0  202.41254    0  228          -  202.41254      -     -    1s\n",
      "     0     0  202.41254    0  313          -  202.41254      -     -    1s\n",
      "     0     0  202.90676    0  260          -  202.90676      -     -    1s\n",
      "     0     0  202.94178    0  264          -  202.94178      -     -    1s\n",
      "     0     0  204.32628    0  310          -  204.32628      -     -    1s\n",
      "     0     0  204.75726    0  279          -  204.75726      -     -    1s\n",
      "     0     0  205.41840    0  285          -  205.41840      -     -    1s\n",
      "     0     0  205.41840    0  278          -  205.41840      -     -    1s\n",
      "     0     2  205.56758    0  274          -  205.56758      -     -    1s\n",
      "*  591   180              12    2317.0503214  569.41875  75.4%   126    2s\n",
      "\n",
      "Cutting planes:\n",
      "  Gomory: 48\n",
      "  Cover: 41\n",
      "  Implied bound: 390\n",
      "  MIR: 146\n",
      "  Flow cover: 13\n",
      "  GUB cover: 4\n",
      "  Inf proof: 5\n",
      "  Zero half: 32\n",
      "  Mod-K: 2\n",
      "  RLT: 60\n",
      "  Relax-and-lift: 19\n",
      "\n",
      "Explored 1579 nodes (169101 simplex iterations) in 4.25 seconds\n",
      "Thread count was 8 (of 8 available processors)\n",
      "\n",
      "Solution count 1: 2317.05 \n",
      "\n",
      "Optimal solution found (tolerance 1.00e-04)\n",
      "Best objective 2.317050321360e+03, best bound 2.317050321360e+03, gap 0.0000%\n"
     ]
    },
    {
     "name": "stderr",
     "output_type": "stream",
     "text": [
      "2021-02-04 03:10:51 INFO     Done\n"
     ]
    }
   ],
   "source": [
    "m = EVRPTW(problem_type='Minimize OpEx CapEx Cycle EA DCM FullStart=End')\n",
    "m.full_solve(fpath)"
   ]
  },
  {
   "cell_type": "code",
   "execution_count": 492,
   "metadata": {},
   "outputs": [
    {
     "name": "stdout",
     "output_type": "stream",
     "text": [
      "\n",
      "Problem: \n",
      "- Name: \n",
      "  Lower bound: 2317.050321359793\n",
      "  Upper bound: 2317.050321359793\n",
      "  Number of objectives: 1\n",
      "  Number of constraints: 1651\n",
      "  Number of variables: 452\n",
      "  Number of binary variables: 271\n",
      "  Number of integer variables: 271\n",
      "  Number of continuous variables: 181\n",
      "  Number of nonzeros: 1197\n",
      "  Sense: minimize\n",
      "Solver: \n",
      "- Status: ok\n",
      "  Return code: 0\n",
      "  Message: Model was solved to optimality (subject to tolerances), and an optimal solution is available.\n",
      "  Termination condition: optimal\n",
      "  Termination message: Model was solved to optimality (subject to tolerances), and an optimal solution is available.\n",
      "  Wall time: 4.253671169281006\n",
      "  Error rc: 0\n",
      "  Time: 4.36673903465271\n",
      "Solution: \n",
      "- number of solutions: 0\n",
      "  number of solutions displayed: 0\n",
      "\n"
     ]
    }
   ],
   "source": [
    "print(m.results)"
   ]
  },
  {
   "cell_type": "code",
   "execution_count": 493,
   "metadata": {},
   "outputs": [],
   "source": [
    "var_list = ['xkappa', 'xp']\n",
    "xp = merge_variable_results(m, var_list)"
   ]
  },
  {
   "cell_type": "code",
   "execution_count": 494,
   "metadata": {},
   "outputs": [
    {
     "data": {
      "text/html": [
       "<div>\n",
       "<style scoped>\n",
       "    .dataframe tbody tr th:only-of-type {\n",
       "        vertical-align: middle;\n",
       "    }\n",
       "\n",
       "    .dataframe tbody tr th {\n",
       "        vertical-align: top;\n",
       "    }\n",
       "\n",
       "    .dataframe thead th {\n",
       "        text-align: right;\n",
       "    }\n",
       "</style>\n",
       "<table border=\"1\" class=\"dataframe\">\n",
       "  <thead>\n",
       "    <tr style=\"text-align: right;\">\n",
       "      <th></th>\n",
       "      <th>t</th>\n",
       "      <th>state</th>\n",
       "      <th>xp</th>\n",
       "    </tr>\n",
       "    <tr>\n",
       "      <th>node</th>\n",
       "      <th></th>\n",
       "      <th></th>\n",
       "      <th></th>\n",
       "    </tr>\n",
       "  </thead>\n",
       "  <tbody>\n",
       "    <tr>\n",
       "      <th>S0_0</th>\n",
       "      <td>630</td>\n",
       "      <td>3.0</td>\n",
       "      <td>4.482863</td>\n",
       "    </tr>\n",
       "    <tr>\n",
       "      <th>S0_1</th>\n",
       "      <td>630</td>\n",
       "      <td>3.0</td>\n",
       "      <td>4.636151</td>\n",
       "    </tr>\n",
       "    <tr>\n",
       "      <th>S0_2</th>\n",
       "      <td>60</td>\n",
       "      <td>3.0</td>\n",
       "      <td>-0.282845</td>\n",
       "    </tr>\n",
       "    <tr>\n",
       "      <th>S0_3</th>\n",
       "      <td>90</td>\n",
       "      <td>3.0</td>\n",
       "      <td>-4.152503</td>\n",
       "    </tr>\n",
       "    <tr>\n",
       "      <th>S13_0</th>\n",
       "      <td>240</td>\n",
       "      <td>3.0</td>\n",
       "      <td>6.063000</td>\n",
       "    </tr>\n",
       "    <tr>\n",
       "      <th>S1_0</th>\n",
       "      <td>360</td>\n",
       "      <td>3.0</td>\n",
       "      <td>6.063000</td>\n",
       "    </tr>\n",
       "  </tbody>\n",
       "</table>\n",
       "</div>"
      ],
      "text/plain": [
       "         t  state        xp\n",
       "node                       \n",
       "S0_0   630    3.0  4.482863\n",
       "S0_1   630    3.0  4.636151\n",
       "S0_2    60    3.0 -0.282845\n",
       "S0_3    90    3.0 -4.152503\n",
       "S13_0  240    3.0  6.063000\n",
       "S1_0   360    3.0  6.063000"
      ]
     },
     "execution_count": 494,
     "metadata": {},
     "output_type": "execute_result"
    }
   ],
   "source": [
    "xp = xp[xp['state']>1e-4].sort_values(['t'], ascending=True)\n",
    "# print(xp.to_string())\n",
    "xp.groupby('node').sum()"
   ]
  },
  {
   "cell_type": "code",
   "execution_count": null,
   "metadata": {},
   "outputs": [],
   "source": []
  },
  {
   "cell_type": "code",
   "execution_count": 495,
   "metadata": {},
   "outputs": [],
   "source": [
    "var_list = ['xgamma', 'xw', 'xq', 'xa']\n",
    "x = merge_variable_results(m, var_list)"
   ]
  },
  {
   "cell_type": "code",
   "execution_count": 496,
   "metadata": {},
   "outputs": [
    {
     "data": {
      "text/html": [
       "<div>\n",
       "<style scoped>\n",
       "    .dataframe tbody tr th:only-of-type {\n",
       "        vertical-align: middle;\n",
       "    }\n",
       "\n",
       "    .dataframe tbody tr th {\n",
       "        vertical-align: top;\n",
       "    }\n",
       "\n",
       "    .dataframe thead th {\n",
       "        text-align: right;\n",
       "    }\n",
       "</style>\n",
       "<table border=\"1\" class=\"dataframe\">\n",
       "  <thead>\n",
       "    <tr style=\"text-align: right;\">\n",
       "      <th></th>\n",
       "      <th>from</th>\n",
       "      <th>to</th>\n",
       "      <th>state</th>\n",
       "      <th>xw</th>\n",
       "      <th>xq</th>\n",
       "      <th>xa</th>\n",
       "    </tr>\n",
       "  </thead>\n",
       "  <tbody>\n",
       "    <tr>\n",
       "      <th>34</th>\n",
       "      <td>D0</td>\n",
       "      <td>S0_2</td>\n",
       "      <td>1.0</td>\n",
       "      <td>0.000000</td>\n",
       "      <td>21.0</td>\n",
       "      <td>60.630000</td>\n",
       "    </tr>\n",
       "    <tr>\n",
       "      <th>45</th>\n",
       "      <td>D0</td>\n",
       "      <td>S0_3</td>\n",
       "      <td>1.0</td>\n",
       "      <td>0.000000</td>\n",
       "      <td>37.0</td>\n",
       "      <td>60.630000</td>\n",
       "    </tr>\n",
       "    <tr>\n",
       "      <th>103</th>\n",
       "      <td>S0_2</td>\n",
       "      <td>C75</td>\n",
       "      <td>1.0</td>\n",
       "      <td>67.784888</td>\n",
       "      <td>21.0</td>\n",
       "      <td>30.016662</td>\n",
       "    </tr>\n",
       "    <tr>\n",
       "      <th>71</th>\n",
       "      <td>S0_3</td>\n",
       "      <td>S13_0</td>\n",
       "      <td>1.0</td>\n",
       "      <td>70.000000</td>\n",
       "      <td>37.0</td>\n",
       "      <td>0.000000</td>\n",
       "    </tr>\n",
       "    <tr>\n",
       "      <th>84</th>\n",
       "      <td>S13_0</td>\n",
       "      <td>C91</td>\n",
       "      <td>1.0</td>\n",
       "      <td>107.000000</td>\n",
       "      <td>37.0</td>\n",
       "      <td>53.921796</td>\n",
       "    </tr>\n",
       "    <tr>\n",
       "      <th>64</th>\n",
       "      <td>C75</td>\n",
       "      <td>S1_0</td>\n",
       "      <td>1.0</td>\n",
       "      <td>108.000000</td>\n",
       "      <td>3.0</td>\n",
       "      <td>0.000000</td>\n",
       "    </tr>\n",
       "    <tr>\n",
       "      <th>129</th>\n",
       "      <td>C91</td>\n",
       "      <td>C95</td>\n",
       "      <td>1.0</td>\n",
       "      <td>130.000000</td>\n",
       "      <td>36.0</td>\n",
       "      <td>42.741456</td>\n",
       "    </tr>\n",
       "    <tr>\n",
       "      <th>116</th>\n",
       "      <td>S1_0</td>\n",
       "      <td>C78</td>\n",
       "      <td>1.0</td>\n",
       "      <td>158.935551</td>\n",
       "      <td>3.0</td>\n",
       "      <td>45.332941</td>\n",
       "    </tr>\n",
       "    <tr>\n",
       "      <th>99</th>\n",
       "      <td>C95</td>\n",
       "      <td>C28</td>\n",
       "      <td>1.0</td>\n",
       "      <td>183.675445</td>\n",
       "      <td>16.0</td>\n",
       "      <td>22.125928</td>\n",
       "    </tr>\n",
       "    <tr>\n",
       "      <th>19</th>\n",
       "      <td>C28</td>\n",
       "      <td>S0_0</td>\n",
       "      <td>1.0</td>\n",
       "      <td>200.000000</td>\n",
       "      <td>0.0</td>\n",
       "      <td>15.801373</td>\n",
       "    </tr>\n",
       "    <tr>\n",
       "      <th>32</th>\n",
       "      <td>C78</td>\n",
       "      <td>S0_1</td>\n",
       "      <td>1.0</td>\n",
       "      <td>200.000000</td>\n",
       "      <td>0.0</td>\n",
       "      <td>14.268492</td>\n",
       "    </tr>\n",
       "    <tr>\n",
       "      <th>1</th>\n",
       "      <td>S0_0</td>\n",
       "      <td>D1</td>\n",
       "      <td>1.0</td>\n",
       "      <td>230.000000</td>\n",
       "      <td>0.0</td>\n",
       "      <td>60.630000</td>\n",
       "    </tr>\n",
       "    <tr>\n",
       "      <th>2</th>\n",
       "      <td>S0_1</td>\n",
       "      <td>D1</td>\n",
       "      <td>1.0</td>\n",
       "      <td>230.000000</td>\n",
       "      <td>0.0</td>\n",
       "      <td>60.630000</td>\n",
       "    </tr>\n",
       "  </tbody>\n",
       "</table>\n",
       "</div>"
      ],
      "text/plain": [
       "      from     to  state          xw    xq         xa\n",
       "34      D0   S0_2    1.0    0.000000  21.0  60.630000\n",
       "45      D0   S0_3    1.0    0.000000  37.0  60.630000\n",
       "103   S0_2    C75    1.0   67.784888  21.0  30.016662\n",
       "71    S0_3  S13_0    1.0   70.000000  37.0   0.000000\n",
       "84   S13_0    C91    1.0  107.000000  37.0  53.921796\n",
       "64     C75   S1_0    1.0  108.000000   3.0   0.000000\n",
       "129    C91    C95    1.0  130.000000  36.0  42.741456\n",
       "116   S1_0    C78    1.0  158.935551   3.0  45.332941\n",
       "99     C95    C28    1.0  183.675445  16.0  22.125928\n",
       "19     C28   S0_0    1.0  200.000000   0.0  15.801373\n",
       "32     C78   S0_1    1.0  200.000000   0.0  14.268492\n",
       "1     S0_0     D1    1.0  230.000000   0.0  60.630000\n",
       "2     S0_1     D1    1.0  230.000000   0.0  60.630000"
      ]
     },
     "execution_count": 496,
     "metadata": {},
     "output_type": "execute_result"
    }
   ],
   "source": [
    "x[x['state']>1e-4].sort_values(['xw'])"
   ]
  },
  {
   "cell_type": "code",
   "execution_count": 497,
   "metadata": {},
   "outputs": [
    {
     "data": {
      "text/plain": [
       "168.09665813626955"
      ]
     },
     "execution_count": 497,
     "metadata": {},
     "output_type": "execute_result"
    }
   ],
   "source": [
    "test = x[x['state']>1e-4].sort_values(['xw'])\n",
    "route = zip(test['from'], test['to'])\n",
    "sum([m.data['d'].loc[fr, to] for fr, to in route])"
   ]
  },
  {
   "cell_type": "code",
   "execution_count": 498,
   "metadata": {},
   "outputs": [],
   "source": [
    "e, e_flat = create_optimal_edges(m, x=x, graph='V_')"
   ]
  },
  {
   "cell_type": "code",
   "execution_count": 499,
   "metadata": {},
   "outputs": [
    {
     "data": {
      "application/vnd.plotly.v1+json": {
       "config": {
        "plotlyServerURL": "https://plot.ly"
       },
       "data": [
        {
         "customdata": [
          [
           [
            "start"
           ]
          ],
          [
           [
            "end"
           ]
          ],
          [
           [
            "s"
           ]
          ],
          [
           [
            "s"
           ]
          ],
          [
           [
            "s"
           ]
          ],
          [
           [
            "m"
           ]
          ],
          [
           [
            "m"
           ]
          ],
          [
           [
            "m"
           ]
          ],
          [
           [
            "m"
           ]
          ],
          [
           [
            "m"
           ]
          ]
         ],
         "hoverinfo": "none",
         "hovertemplate": "<b>%{text}</b>: %{customdata[0]}<br>X: %{x}<br>Y: %{y}",
         "marker": {
          "color": [
           "rgba(191, 243, 180, 0.8)",
           "rgba(191, 243, 180, 0.8)",
           "rgba(167, 215, 241, 0.8)",
           "rgba(167, 215, 241, 0.8)",
           "rgba(167, 215, 241, 0.8)",
           "rgba(240, 169, 171, 0.8)",
           "rgba(240, 169, 171, 0.8)",
           "rgba(240, 169, 171, 0.8)",
           "rgba(240, 169, 171, 0.8)",
           "rgba(240, 169, 171, 0.8)"
          ],
          "size": 25
         },
         "mode": "markers+text",
         "name": "Nodes",
         "showlegend": true,
         "text": [
          "D0",
          "D1",
          "S0",
          "S1",
          "S13",
          "C91",
          "C28",
          "C75",
          "C78",
          "C95"
         ],
         "type": "scatter",
         "x": [
          35,
          35,
          35,
          64,
          21,
          15,
          41,
          49,
          61,
          25
         ],
         "y": [
          35,
          35,
          35,
          37,
          22,
          19,
          37,
          11,
          52,
          24
         ]
        }
       ],
       "layout": {
        "annotations": [
         {
          "arrowcolor": "#888",
          "arrowhead": 2,
          "arrowsize": 1,
          "arrowwidth": 2,
          "ax": 35,
          "axref": "x",
          "ay": 35,
          "ayref": "y",
          "showarrow": true,
          "text": "",
          "x": 35,
          "xref": "x",
          "y": 35,
          "yref": "y"
         },
         {
          "arrowcolor": "#888",
          "arrowhead": 2,
          "arrowsize": 1,
          "arrowwidth": 2,
          "ax": 35,
          "axref": "x",
          "ay": 35,
          "ayref": "y",
          "showarrow": true,
          "text": "",
          "x": 35,
          "xref": "x",
          "y": 35,
          "yref": "y"
         },
         {
          "arrowcolor": "#888",
          "arrowhead": 2,
          "arrowsize": 1,
          "arrowwidth": 2,
          "ax": 41,
          "axref": "x",
          "ay": 37,
          "ayref": "y",
          "showarrow": true,
          "text": "",
          "x": 35,
          "xref": "x",
          "y": 35,
          "yref": "y"
         },
         {
          "arrowcolor": "#888",
          "arrowhead": 2,
          "arrowsize": 1,
          "arrowwidth": 2,
          "ax": 61,
          "axref": "x",
          "ay": 52,
          "ayref": "y",
          "showarrow": true,
          "text": "",
          "x": 35,
          "xref": "x",
          "y": 35,
          "yref": "y"
         },
         {
          "arrowcolor": "#888",
          "arrowhead": 2,
          "arrowsize": 1,
          "arrowwidth": 2,
          "ax": 35,
          "axref": "x",
          "ay": 35,
          "ayref": "y",
          "showarrow": true,
          "text": "",
          "x": 35,
          "xref": "x",
          "y": 35,
          "yref": "y"
         },
         {
          "arrowcolor": "#888",
          "arrowhead": 2,
          "arrowsize": 1,
          "arrowwidth": 2,
          "ax": 35,
          "axref": "x",
          "ay": 35,
          "ayref": "y",
          "showarrow": true,
          "text": "",
          "x": 35,
          "xref": "x",
          "y": 35,
          "yref": "y"
         },
         {
          "arrowcolor": "#888",
          "arrowhead": 2,
          "arrowsize": 1,
          "arrowwidth": 2,
          "ax": 49,
          "axref": "x",
          "ay": 11,
          "ayref": "y",
          "showarrow": true,
          "text": "",
          "x": 64,
          "xref": "x",
          "y": 37,
          "yref": "y"
         },
         {
          "arrowcolor": "#888",
          "arrowhead": 2,
          "arrowsize": 1,
          "arrowwidth": 2,
          "ax": 35,
          "axref": "x",
          "ay": 35,
          "ayref": "y",
          "showarrow": true,
          "text": "",
          "x": 21,
          "xref": "x",
          "y": 22,
          "yref": "y"
         },
         {
          "arrowcolor": "#888",
          "arrowhead": 2,
          "arrowsize": 1,
          "arrowwidth": 2,
          "ax": 21,
          "axref": "x",
          "ay": 22,
          "ayref": "y",
          "showarrow": true,
          "text": "",
          "x": 15,
          "xref": "x",
          "y": 19,
          "yref": "y"
         },
         {
          "arrowcolor": "#888",
          "arrowhead": 2,
          "arrowsize": 1,
          "arrowwidth": 2,
          "ax": 25,
          "axref": "x",
          "ay": 24,
          "ayref": "y",
          "showarrow": true,
          "text": "",
          "x": 41,
          "xref": "x",
          "y": 37,
          "yref": "y"
         },
         {
          "arrowcolor": "#888",
          "arrowhead": 2,
          "arrowsize": 1,
          "arrowwidth": 2,
          "ax": 35,
          "axref": "x",
          "ay": 35,
          "ayref": "y",
          "showarrow": true,
          "text": "",
          "x": 49,
          "xref": "x",
          "y": 11,
          "yref": "y"
         },
         {
          "arrowcolor": "#888",
          "arrowhead": 2,
          "arrowsize": 1,
          "arrowwidth": 2,
          "ax": 64,
          "axref": "x",
          "ay": 37,
          "ayref": "y",
          "showarrow": true,
          "text": "",
          "x": 61,
          "xref": "x",
          "y": 52,
          "yref": "y"
         },
         {
          "arrowcolor": "#888",
          "arrowhead": 2,
          "arrowsize": 1,
          "arrowwidth": 2,
          "ax": 15,
          "axref": "x",
          "ay": 19,
          "ayref": "y",
          "showarrow": true,
          "text": "",
          "x": 25,
          "xref": "x",
          "y": 24,
          "yref": "y"
         }
        ],
        "height": 600,
        "showlegend": true,
        "template": {
         "data": {
          "bar": [
           {
            "error_x": {
             "color": "rgb(36,36,36)"
            },
            "error_y": {
             "color": "rgb(36,36,36)"
            },
            "marker": {
             "line": {
              "color": "white",
              "width": 0.5
             }
            },
            "type": "bar"
           }
          ],
          "barpolar": [
           {
            "marker": {
             "line": {
              "color": "white",
              "width": 0.5
             }
            },
            "type": "barpolar"
           }
          ],
          "carpet": [
           {
            "aaxis": {
             "endlinecolor": "rgb(36,36,36)",
             "gridcolor": "white",
             "linecolor": "white",
             "minorgridcolor": "white",
             "startlinecolor": "rgb(36,36,36)"
            },
            "baxis": {
             "endlinecolor": "rgb(36,36,36)",
             "gridcolor": "white",
             "linecolor": "white",
             "minorgridcolor": "white",
             "startlinecolor": "rgb(36,36,36)"
            },
            "type": "carpet"
           }
          ],
          "choropleth": [
           {
            "colorbar": {
             "outlinewidth": 1,
             "tickcolor": "rgb(36,36,36)",
             "ticks": "outside"
            },
            "type": "choropleth"
           }
          ],
          "contour": [
           {
            "colorbar": {
             "outlinewidth": 1,
             "tickcolor": "rgb(36,36,36)",
             "ticks": "outside"
            },
            "colorscale": [
             [
              0,
              "#440154"
             ],
             [
              0.1111111111111111,
              "#482878"
             ],
             [
              0.2222222222222222,
              "#3e4989"
             ],
             [
              0.3333333333333333,
              "#31688e"
             ],
             [
              0.4444444444444444,
              "#26828e"
             ],
             [
              0.5555555555555556,
              "#1f9e89"
             ],
             [
              0.6666666666666666,
              "#35b779"
             ],
             [
              0.7777777777777778,
              "#6ece58"
             ],
             [
              0.8888888888888888,
              "#b5de2b"
             ],
             [
              1,
              "#fde725"
             ]
            ],
            "type": "contour"
           }
          ],
          "contourcarpet": [
           {
            "colorbar": {
             "outlinewidth": 1,
             "tickcolor": "rgb(36,36,36)",
             "ticks": "outside"
            },
            "type": "contourcarpet"
           }
          ],
          "heatmap": [
           {
            "colorbar": {
             "outlinewidth": 1,
             "tickcolor": "rgb(36,36,36)",
             "ticks": "outside"
            },
            "colorscale": [
             [
              0,
              "#440154"
             ],
             [
              0.1111111111111111,
              "#482878"
             ],
             [
              0.2222222222222222,
              "#3e4989"
             ],
             [
              0.3333333333333333,
              "#31688e"
             ],
             [
              0.4444444444444444,
              "#26828e"
             ],
             [
              0.5555555555555556,
              "#1f9e89"
             ],
             [
              0.6666666666666666,
              "#35b779"
             ],
             [
              0.7777777777777778,
              "#6ece58"
             ],
             [
              0.8888888888888888,
              "#b5de2b"
             ],
             [
              1,
              "#fde725"
             ]
            ],
            "type": "heatmap"
           }
          ],
          "heatmapgl": [
           {
            "colorbar": {
             "outlinewidth": 1,
             "tickcolor": "rgb(36,36,36)",
             "ticks": "outside"
            },
            "colorscale": [
             [
              0,
              "#440154"
             ],
             [
              0.1111111111111111,
              "#482878"
             ],
             [
              0.2222222222222222,
              "#3e4989"
             ],
             [
              0.3333333333333333,
              "#31688e"
             ],
             [
              0.4444444444444444,
              "#26828e"
             ],
             [
              0.5555555555555556,
              "#1f9e89"
             ],
             [
              0.6666666666666666,
              "#35b779"
             ],
             [
              0.7777777777777778,
              "#6ece58"
             ],
             [
              0.8888888888888888,
              "#b5de2b"
             ],
             [
              1,
              "#fde725"
             ]
            ],
            "type": "heatmapgl"
           }
          ],
          "histogram": [
           {
            "marker": {
             "line": {
              "color": "white",
              "width": 0.6
             }
            },
            "type": "histogram"
           }
          ],
          "histogram2d": [
           {
            "colorbar": {
             "outlinewidth": 1,
             "tickcolor": "rgb(36,36,36)",
             "ticks": "outside"
            },
            "colorscale": [
             [
              0,
              "#440154"
             ],
             [
              0.1111111111111111,
              "#482878"
             ],
             [
              0.2222222222222222,
              "#3e4989"
             ],
             [
              0.3333333333333333,
              "#31688e"
             ],
             [
              0.4444444444444444,
              "#26828e"
             ],
             [
              0.5555555555555556,
              "#1f9e89"
             ],
             [
              0.6666666666666666,
              "#35b779"
             ],
             [
              0.7777777777777778,
              "#6ece58"
             ],
             [
              0.8888888888888888,
              "#b5de2b"
             ],
             [
              1,
              "#fde725"
             ]
            ],
            "type": "histogram2d"
           }
          ],
          "histogram2dcontour": [
           {
            "colorbar": {
             "outlinewidth": 1,
             "tickcolor": "rgb(36,36,36)",
             "ticks": "outside"
            },
            "colorscale": [
             [
              0,
              "#440154"
             ],
             [
              0.1111111111111111,
              "#482878"
             ],
             [
              0.2222222222222222,
              "#3e4989"
             ],
             [
              0.3333333333333333,
              "#31688e"
             ],
             [
              0.4444444444444444,
              "#26828e"
             ],
             [
              0.5555555555555556,
              "#1f9e89"
             ],
             [
              0.6666666666666666,
              "#35b779"
             ],
             [
              0.7777777777777778,
              "#6ece58"
             ],
             [
              0.8888888888888888,
              "#b5de2b"
             ],
             [
              1,
              "#fde725"
             ]
            ],
            "type": "histogram2dcontour"
           }
          ],
          "mesh3d": [
           {
            "colorbar": {
             "outlinewidth": 1,
             "tickcolor": "rgb(36,36,36)",
             "ticks": "outside"
            },
            "type": "mesh3d"
           }
          ],
          "parcoords": [
           {
            "line": {
             "colorbar": {
              "outlinewidth": 1,
              "tickcolor": "rgb(36,36,36)",
              "ticks": "outside"
             }
            },
            "type": "parcoords"
           }
          ],
          "pie": [
           {
            "automargin": true,
            "type": "pie"
           }
          ],
          "scatter": [
           {
            "marker": {
             "colorbar": {
              "outlinewidth": 1,
              "tickcolor": "rgb(36,36,36)",
              "ticks": "outside"
             }
            },
            "type": "scatter"
           }
          ],
          "scatter3d": [
           {
            "line": {
             "colorbar": {
              "outlinewidth": 1,
              "tickcolor": "rgb(36,36,36)",
              "ticks": "outside"
             }
            },
            "marker": {
             "colorbar": {
              "outlinewidth": 1,
              "tickcolor": "rgb(36,36,36)",
              "ticks": "outside"
             }
            },
            "type": "scatter3d"
           }
          ],
          "scattercarpet": [
           {
            "marker": {
             "colorbar": {
              "outlinewidth": 1,
              "tickcolor": "rgb(36,36,36)",
              "ticks": "outside"
             }
            },
            "type": "scattercarpet"
           }
          ],
          "scattergeo": [
           {
            "marker": {
             "colorbar": {
              "outlinewidth": 1,
              "tickcolor": "rgb(36,36,36)",
              "ticks": "outside"
             }
            },
            "type": "scattergeo"
           }
          ],
          "scattergl": [
           {
            "marker": {
             "colorbar": {
              "outlinewidth": 1,
              "tickcolor": "rgb(36,36,36)",
              "ticks": "outside"
             }
            },
            "type": "scattergl"
           }
          ],
          "scattermapbox": [
           {
            "marker": {
             "colorbar": {
              "outlinewidth": 1,
              "tickcolor": "rgb(36,36,36)",
              "ticks": "outside"
             }
            },
            "type": "scattermapbox"
           }
          ],
          "scatterpolar": [
           {
            "marker": {
             "colorbar": {
              "outlinewidth": 1,
              "tickcolor": "rgb(36,36,36)",
              "ticks": "outside"
             }
            },
            "type": "scatterpolar"
           }
          ],
          "scatterpolargl": [
           {
            "marker": {
             "colorbar": {
              "outlinewidth": 1,
              "tickcolor": "rgb(36,36,36)",
              "ticks": "outside"
             }
            },
            "type": "scatterpolargl"
           }
          ],
          "scatterternary": [
           {
            "marker": {
             "colorbar": {
              "outlinewidth": 1,
              "tickcolor": "rgb(36,36,36)",
              "ticks": "outside"
             }
            },
            "type": "scatterternary"
           }
          ],
          "surface": [
           {
            "colorbar": {
             "outlinewidth": 1,
             "tickcolor": "rgb(36,36,36)",
             "ticks": "outside"
            },
            "colorscale": [
             [
              0,
              "#440154"
             ],
             [
              0.1111111111111111,
              "#482878"
             ],
             [
              0.2222222222222222,
              "#3e4989"
             ],
             [
              0.3333333333333333,
              "#31688e"
             ],
             [
              0.4444444444444444,
              "#26828e"
             ],
             [
              0.5555555555555556,
              "#1f9e89"
             ],
             [
              0.6666666666666666,
              "#35b779"
             ],
             [
              0.7777777777777778,
              "#6ece58"
             ],
             [
              0.8888888888888888,
              "#b5de2b"
             ],
             [
              1,
              "#fde725"
             ]
            ],
            "type": "surface"
           }
          ],
          "table": [
           {
            "cells": {
             "fill": {
              "color": "rgb(237,237,237)"
             },
             "line": {
              "color": "white"
             }
            },
            "header": {
             "fill": {
              "color": "rgb(217,217,217)"
             },
             "line": {
              "color": "white"
             }
            },
            "type": "table"
           }
          ]
         },
         "layout": {
          "annotationdefaults": {
           "arrowhead": 0,
           "arrowwidth": 1
          },
          "coloraxis": {
           "colorbar": {
            "outlinewidth": 1,
            "tickcolor": "rgb(36,36,36)",
            "ticks": "outside"
           }
          },
          "colorscale": {
           "diverging": [
            [
             0,
             "rgb(103,0,31)"
            ],
            [
             0.1,
             "rgb(178,24,43)"
            ],
            [
             0.2,
             "rgb(214,96,77)"
            ],
            [
             0.3,
             "rgb(244,165,130)"
            ],
            [
             0.4,
             "rgb(253,219,199)"
            ],
            [
             0.5,
             "rgb(247,247,247)"
            ],
            [
             0.6,
             "rgb(209,229,240)"
            ],
            [
             0.7,
             "rgb(146,197,222)"
            ],
            [
             0.8,
             "rgb(67,147,195)"
            ],
            [
             0.9,
             "rgb(33,102,172)"
            ],
            [
             1,
             "rgb(5,48,97)"
            ]
           ],
           "sequential": [
            [
             0,
             "#440154"
            ],
            [
             0.1111111111111111,
             "#482878"
            ],
            [
             0.2222222222222222,
             "#3e4989"
            ],
            [
             0.3333333333333333,
             "#31688e"
            ],
            [
             0.4444444444444444,
             "#26828e"
            ],
            [
             0.5555555555555556,
             "#1f9e89"
            ],
            [
             0.6666666666666666,
             "#35b779"
            ],
            [
             0.7777777777777778,
             "#6ece58"
            ],
            [
             0.8888888888888888,
             "#b5de2b"
            ],
            [
             1,
             "#fde725"
            ]
           ],
           "sequentialminus": [
            [
             0,
             "#440154"
            ],
            [
             0.1111111111111111,
             "#482878"
            ],
            [
             0.2222222222222222,
             "#3e4989"
            ],
            [
             0.3333333333333333,
             "#31688e"
            ],
            [
             0.4444444444444444,
             "#26828e"
            ],
            [
             0.5555555555555556,
             "#1f9e89"
            ],
            [
             0.6666666666666666,
             "#35b779"
            ],
            [
             0.7777777777777778,
             "#6ece58"
            ],
            [
             0.8888888888888888,
             "#b5de2b"
            ],
            [
             1,
             "#fde725"
            ]
           ]
          },
          "colorway": [
           "#1F77B4",
           "#FF7F0E",
           "#2CA02C",
           "#D62728",
           "#9467BD",
           "#8C564B",
           "#E377C2",
           "#7F7F7F",
           "#BCBD22",
           "#17BECF"
          ],
          "font": {
           "color": "rgb(36,36,36)"
          },
          "geo": {
           "bgcolor": "white",
           "lakecolor": "white",
           "landcolor": "white",
           "showlakes": true,
           "showland": true,
           "subunitcolor": "white"
          },
          "hoverlabel": {
           "align": "left"
          },
          "hovermode": "closest",
          "mapbox": {
           "style": "light"
          },
          "paper_bgcolor": "white",
          "plot_bgcolor": "white",
          "polar": {
           "angularaxis": {
            "gridcolor": "rgb(232,232,232)",
            "linecolor": "rgb(36,36,36)",
            "showgrid": false,
            "showline": true,
            "ticks": "outside"
           },
           "bgcolor": "white",
           "radialaxis": {
            "gridcolor": "rgb(232,232,232)",
            "linecolor": "rgb(36,36,36)",
            "showgrid": false,
            "showline": true,
            "ticks": "outside"
           }
          },
          "scene": {
           "xaxis": {
            "backgroundcolor": "white",
            "gridcolor": "rgb(232,232,232)",
            "gridwidth": 2,
            "linecolor": "rgb(36,36,36)",
            "showbackground": true,
            "showgrid": false,
            "showline": true,
            "ticks": "outside",
            "zeroline": false,
            "zerolinecolor": "rgb(36,36,36)"
           },
           "yaxis": {
            "backgroundcolor": "white",
            "gridcolor": "rgb(232,232,232)",
            "gridwidth": 2,
            "linecolor": "rgb(36,36,36)",
            "showbackground": true,
            "showgrid": false,
            "showline": true,
            "ticks": "outside",
            "zeroline": false,
            "zerolinecolor": "rgb(36,36,36)"
           },
           "zaxis": {
            "backgroundcolor": "white",
            "gridcolor": "rgb(232,232,232)",
            "gridwidth": 2,
            "linecolor": "rgb(36,36,36)",
            "showbackground": true,
            "showgrid": false,
            "showline": true,
            "ticks": "outside",
            "zeroline": false,
            "zerolinecolor": "rgb(36,36,36)"
           }
          },
          "shapedefaults": {
           "fillcolor": "black",
           "line": {
            "width": 0
           },
           "opacity": 0.3
          },
          "ternary": {
           "aaxis": {
            "gridcolor": "rgb(232,232,232)",
            "linecolor": "rgb(36,36,36)",
            "showgrid": false,
            "showline": true,
            "ticks": "outside"
           },
           "baxis": {
            "gridcolor": "rgb(232,232,232)",
            "linecolor": "rgb(36,36,36)",
            "showgrid": false,
            "showline": true,
            "ticks": "outside"
           },
           "bgcolor": "white",
           "caxis": {
            "gridcolor": "rgb(232,232,232)",
            "linecolor": "rgb(36,36,36)",
            "showgrid": false,
            "showline": true,
            "ticks": "outside"
           }
          },
          "title": {
           "x": 0.05
          },
          "xaxis": {
           "automargin": true,
           "gridcolor": "rgb(232,232,232)",
           "linecolor": "rgb(36,36,36)",
           "showgrid": false,
           "showline": true,
           "ticks": "outside",
           "title": {
            "standoff": 15
           },
           "zeroline": false,
           "zerolinecolor": "rgb(36,36,36)"
          },
          "yaxis": {
           "automargin": true,
           "gridcolor": "rgb(232,232,232)",
           "linecolor": "rgb(36,36,36)",
           "showgrid": false,
           "showline": true,
           "ticks": "outside",
           "title": {
            "standoff": 15
           },
           "zeroline": false,
           "zerolinecolor": "rgb(36,36,36)"
          }
         }
        },
        "title": {
         "text": "r105c5_e<br>Objective: 2317.05"
        },
        "xaxis": {
         "anchor": "y",
         "constrain": "domain",
         "domain": [
          0,
          1
         ],
         "mirror": true,
         "range": [
          0,
          70.4
         ],
         "showline": true,
         "ticks": "outside",
         "title": {
          "text": "x"
         }
        },
        "yaxis": {
         "anchor": "x",
         "domain": [
          0,
          1
         ],
         "mirror": true,
         "range": [
          0,
          57.2
         ],
         "scaleanchor": "x",
         "scaleratio": 1,
         "showline": true,
         "ticks": "outside",
         "title": {
          "text": "y"
         }
        }
       }
      },
      "text/html": [
       "<div>\n",
       "        \n",
       "        \n",
       "            <div id=\"956badff-9b1d-48c3-bafb-8f273fecfa87\" class=\"plotly-graph-div\" style=\"height:600px; width:100%;\"></div>\n",
       "            <script type=\"text/javascript\">\n",
       "                require([\"plotly\"], function(Plotly) {\n",
       "                    window.PLOTLYENV=window.PLOTLYENV || {};\n",
       "                    \n",
       "                if (document.getElementById(\"956badff-9b1d-48c3-bafb-8f273fecfa87\")) {\n",
       "                    Plotly.newPlot(\n",
       "                        '956badff-9b1d-48c3-bafb-8f273fecfa87',\n",
       "                        [{\"customdata\": [[[\"start\"]], [[\"end\"]], [[\"s\"]], [[\"s\"]], [[\"s\"]], [[\"m\"]], [[\"m\"]], [[\"m\"]], [[\"m\"]], [[\"m\"]]], \"hoverinfo\": \"none\", \"hovertemplate\": \"<b>%{text}</b>: %{customdata[0]}<br>X: %{x}<br>Y: %{y}\", \"marker\": {\"color\": [\"rgba(191, 243, 180, 0.8)\", \"rgba(191, 243, 180, 0.8)\", \"rgba(167, 215, 241, 0.8)\", \"rgba(167, 215, 241, 0.8)\", \"rgba(167, 215, 241, 0.8)\", \"rgba(240, 169, 171, 0.8)\", \"rgba(240, 169, 171, 0.8)\", \"rgba(240, 169, 171, 0.8)\", \"rgba(240, 169, 171, 0.8)\", \"rgba(240, 169, 171, 0.8)\"], \"size\": 25}, \"mode\": \"markers+text\", \"name\": \"Nodes\", \"showlegend\": true, \"text\": [\"D0\", \"D1\", \"S0\", \"S1\", \"S13\", \"C91\", \"C28\", \"C75\", \"C78\", \"C95\"], \"type\": \"scatter\", \"x\": [35, 35, 35, 64, 21, 15, 41, 49, 61, 25], \"y\": [35, 35, 35, 37, 22, 19, 37, 11, 52, 24]}],\n",
       "                        {\"annotations\": [{\"arrowcolor\": \"#888\", \"arrowhead\": 2, \"arrowsize\": 1, \"arrowwidth\": 2, \"ax\": 35, \"axref\": \"x\", \"ay\": 35, \"ayref\": \"y\", \"showarrow\": true, \"text\": \"\", \"x\": 35, \"xref\": \"x\", \"y\": 35, \"yref\": \"y\"}, {\"arrowcolor\": \"#888\", \"arrowhead\": 2, \"arrowsize\": 1, \"arrowwidth\": 2, \"ax\": 35, \"axref\": \"x\", \"ay\": 35, \"ayref\": \"y\", \"showarrow\": true, \"text\": \"\", \"x\": 35, \"xref\": \"x\", \"y\": 35, \"yref\": \"y\"}, {\"arrowcolor\": \"#888\", \"arrowhead\": 2, \"arrowsize\": 1, \"arrowwidth\": 2, \"ax\": 41, \"axref\": \"x\", \"ay\": 37, \"ayref\": \"y\", \"showarrow\": true, \"text\": \"\", \"x\": 35, \"xref\": \"x\", \"y\": 35, \"yref\": \"y\"}, {\"arrowcolor\": \"#888\", \"arrowhead\": 2, \"arrowsize\": 1, \"arrowwidth\": 2, \"ax\": 61, \"axref\": \"x\", \"ay\": 52, \"ayref\": \"y\", \"showarrow\": true, \"text\": \"\", \"x\": 35, \"xref\": \"x\", \"y\": 35, \"yref\": \"y\"}, {\"arrowcolor\": \"#888\", \"arrowhead\": 2, \"arrowsize\": 1, \"arrowwidth\": 2, \"ax\": 35, \"axref\": \"x\", \"ay\": 35, \"ayref\": \"y\", \"showarrow\": true, \"text\": \"\", \"x\": 35, \"xref\": \"x\", \"y\": 35, \"yref\": \"y\"}, {\"arrowcolor\": \"#888\", \"arrowhead\": 2, \"arrowsize\": 1, \"arrowwidth\": 2, \"ax\": 35, \"axref\": \"x\", \"ay\": 35, \"ayref\": \"y\", \"showarrow\": true, \"text\": \"\", \"x\": 35, \"xref\": \"x\", \"y\": 35, \"yref\": \"y\"}, {\"arrowcolor\": \"#888\", \"arrowhead\": 2, \"arrowsize\": 1, \"arrowwidth\": 2, \"ax\": 49, \"axref\": \"x\", \"ay\": 11, \"ayref\": \"y\", \"showarrow\": true, \"text\": \"\", \"x\": 64, \"xref\": \"x\", \"y\": 37, \"yref\": \"y\"}, {\"arrowcolor\": \"#888\", \"arrowhead\": 2, \"arrowsize\": 1, \"arrowwidth\": 2, \"ax\": 35, \"axref\": \"x\", \"ay\": 35, \"ayref\": \"y\", \"showarrow\": true, \"text\": \"\", \"x\": 21, \"xref\": \"x\", \"y\": 22, \"yref\": \"y\"}, {\"arrowcolor\": \"#888\", \"arrowhead\": 2, \"arrowsize\": 1, \"arrowwidth\": 2, \"ax\": 21, \"axref\": \"x\", \"ay\": 22, \"ayref\": \"y\", \"showarrow\": true, \"text\": \"\", \"x\": 15, \"xref\": \"x\", \"y\": 19, \"yref\": \"y\"}, {\"arrowcolor\": \"#888\", \"arrowhead\": 2, \"arrowsize\": 1, \"arrowwidth\": 2, \"ax\": 25, \"axref\": \"x\", \"ay\": 24, \"ayref\": \"y\", \"showarrow\": true, \"text\": \"\", \"x\": 41, \"xref\": \"x\", \"y\": 37, \"yref\": \"y\"}, {\"arrowcolor\": \"#888\", \"arrowhead\": 2, \"arrowsize\": 1, \"arrowwidth\": 2, \"ax\": 35, \"axref\": \"x\", \"ay\": 35, \"ayref\": \"y\", \"showarrow\": true, \"text\": \"\", \"x\": 49, \"xref\": \"x\", \"y\": 11, \"yref\": \"y\"}, {\"arrowcolor\": \"#888\", \"arrowhead\": 2, \"arrowsize\": 1, \"arrowwidth\": 2, \"ax\": 64, \"axref\": \"x\", \"ay\": 37, \"ayref\": \"y\", \"showarrow\": true, \"text\": \"\", \"x\": 61, \"xref\": \"x\", \"y\": 52, \"yref\": \"y\"}, {\"arrowcolor\": \"#888\", \"arrowhead\": 2, \"arrowsize\": 1, \"arrowwidth\": 2, \"ax\": 15, \"axref\": \"x\", \"ay\": 19, \"ayref\": \"y\", \"showarrow\": true, \"text\": \"\", \"x\": 25, \"xref\": \"x\", \"y\": 24, \"yref\": \"y\"}], \"height\": 600, \"showlegend\": true, \"template\": {\"data\": {\"bar\": [{\"error_x\": {\"color\": \"rgb(36,36,36)\"}, \"error_y\": {\"color\": \"rgb(36,36,36)\"}, \"marker\": {\"line\": {\"color\": \"white\", \"width\": 0.5}}, \"type\": \"bar\"}], \"barpolar\": [{\"marker\": {\"line\": {\"color\": \"white\", \"width\": 0.5}}, \"type\": \"barpolar\"}], \"carpet\": [{\"aaxis\": {\"endlinecolor\": \"rgb(36,36,36)\", \"gridcolor\": \"white\", \"linecolor\": \"white\", \"minorgridcolor\": \"white\", \"startlinecolor\": \"rgb(36,36,36)\"}, \"baxis\": {\"endlinecolor\": \"rgb(36,36,36)\", \"gridcolor\": \"white\", \"linecolor\": \"white\", \"minorgridcolor\": \"white\", \"startlinecolor\": \"rgb(36,36,36)\"}, \"type\": \"carpet\"}], \"choropleth\": [{\"colorbar\": {\"outlinewidth\": 1, \"tickcolor\": \"rgb(36,36,36)\", \"ticks\": \"outside\"}, \"type\": \"choropleth\"}], \"contour\": [{\"colorbar\": {\"outlinewidth\": 1, \"tickcolor\": \"rgb(36,36,36)\", \"ticks\": \"outside\"}, \"colorscale\": [[0.0, \"#440154\"], [0.1111111111111111, \"#482878\"], [0.2222222222222222, \"#3e4989\"], [0.3333333333333333, \"#31688e\"], [0.4444444444444444, \"#26828e\"], [0.5555555555555556, \"#1f9e89\"], [0.6666666666666666, \"#35b779\"], [0.7777777777777778, \"#6ece58\"], [0.8888888888888888, \"#b5de2b\"], [1.0, \"#fde725\"]], \"type\": \"contour\"}], \"contourcarpet\": [{\"colorbar\": {\"outlinewidth\": 1, \"tickcolor\": \"rgb(36,36,36)\", \"ticks\": \"outside\"}, \"type\": \"contourcarpet\"}], \"heatmap\": [{\"colorbar\": {\"outlinewidth\": 1, \"tickcolor\": \"rgb(36,36,36)\", \"ticks\": \"outside\"}, \"colorscale\": [[0.0, \"#440154\"], [0.1111111111111111, \"#482878\"], [0.2222222222222222, \"#3e4989\"], [0.3333333333333333, \"#31688e\"], [0.4444444444444444, \"#26828e\"], [0.5555555555555556, \"#1f9e89\"], [0.6666666666666666, \"#35b779\"], [0.7777777777777778, \"#6ece58\"], [0.8888888888888888, \"#b5de2b\"], [1.0, \"#fde725\"]], \"type\": \"heatmap\"}], \"heatmapgl\": [{\"colorbar\": {\"outlinewidth\": 1, \"tickcolor\": \"rgb(36,36,36)\", \"ticks\": \"outside\"}, \"colorscale\": [[0.0, \"#440154\"], [0.1111111111111111, \"#482878\"], [0.2222222222222222, \"#3e4989\"], [0.3333333333333333, \"#31688e\"], [0.4444444444444444, \"#26828e\"], [0.5555555555555556, \"#1f9e89\"], [0.6666666666666666, \"#35b779\"], [0.7777777777777778, \"#6ece58\"], [0.8888888888888888, \"#b5de2b\"], [1.0, \"#fde725\"]], \"type\": \"heatmapgl\"}], \"histogram\": [{\"marker\": {\"line\": {\"color\": \"white\", \"width\": 0.6}}, \"type\": \"histogram\"}], \"histogram2d\": [{\"colorbar\": {\"outlinewidth\": 1, \"tickcolor\": \"rgb(36,36,36)\", \"ticks\": \"outside\"}, \"colorscale\": [[0.0, \"#440154\"], [0.1111111111111111, \"#482878\"], [0.2222222222222222, \"#3e4989\"], [0.3333333333333333, \"#31688e\"], [0.4444444444444444, \"#26828e\"], [0.5555555555555556, \"#1f9e89\"], [0.6666666666666666, \"#35b779\"], [0.7777777777777778, \"#6ece58\"], [0.8888888888888888, \"#b5de2b\"], [1.0, \"#fde725\"]], \"type\": \"histogram2d\"}], \"histogram2dcontour\": [{\"colorbar\": {\"outlinewidth\": 1, \"tickcolor\": \"rgb(36,36,36)\", \"ticks\": \"outside\"}, \"colorscale\": [[0.0, \"#440154\"], [0.1111111111111111, \"#482878\"], [0.2222222222222222, \"#3e4989\"], [0.3333333333333333, \"#31688e\"], [0.4444444444444444, \"#26828e\"], [0.5555555555555556, \"#1f9e89\"], [0.6666666666666666, \"#35b779\"], [0.7777777777777778, \"#6ece58\"], [0.8888888888888888, \"#b5de2b\"], [1.0, \"#fde725\"]], \"type\": \"histogram2dcontour\"}], \"mesh3d\": [{\"colorbar\": {\"outlinewidth\": 1, \"tickcolor\": \"rgb(36,36,36)\", \"ticks\": \"outside\"}, \"type\": \"mesh3d\"}], \"parcoords\": [{\"line\": {\"colorbar\": {\"outlinewidth\": 1, \"tickcolor\": \"rgb(36,36,36)\", \"ticks\": \"outside\"}}, \"type\": \"parcoords\"}], \"pie\": [{\"automargin\": true, \"type\": \"pie\"}], \"scatter\": [{\"marker\": {\"colorbar\": {\"outlinewidth\": 1, \"tickcolor\": \"rgb(36,36,36)\", \"ticks\": \"outside\"}}, \"type\": \"scatter\"}], \"scatter3d\": [{\"line\": {\"colorbar\": {\"outlinewidth\": 1, \"tickcolor\": \"rgb(36,36,36)\", \"ticks\": \"outside\"}}, \"marker\": {\"colorbar\": {\"outlinewidth\": 1, \"tickcolor\": \"rgb(36,36,36)\", \"ticks\": \"outside\"}}, \"type\": \"scatter3d\"}], \"scattercarpet\": [{\"marker\": {\"colorbar\": {\"outlinewidth\": 1, \"tickcolor\": \"rgb(36,36,36)\", \"ticks\": \"outside\"}}, \"type\": \"scattercarpet\"}], \"scattergeo\": [{\"marker\": {\"colorbar\": {\"outlinewidth\": 1, \"tickcolor\": \"rgb(36,36,36)\", \"ticks\": \"outside\"}}, \"type\": \"scattergeo\"}], \"scattergl\": [{\"marker\": {\"colorbar\": {\"outlinewidth\": 1, \"tickcolor\": \"rgb(36,36,36)\", \"ticks\": \"outside\"}}, \"type\": \"scattergl\"}], \"scattermapbox\": [{\"marker\": {\"colorbar\": {\"outlinewidth\": 1, \"tickcolor\": \"rgb(36,36,36)\", \"ticks\": \"outside\"}}, \"type\": \"scattermapbox\"}], \"scatterpolar\": [{\"marker\": {\"colorbar\": {\"outlinewidth\": 1, \"tickcolor\": \"rgb(36,36,36)\", \"ticks\": \"outside\"}}, \"type\": \"scatterpolar\"}], \"scatterpolargl\": [{\"marker\": {\"colorbar\": {\"outlinewidth\": 1, \"tickcolor\": \"rgb(36,36,36)\", \"ticks\": \"outside\"}}, \"type\": \"scatterpolargl\"}], \"scatterternary\": [{\"marker\": {\"colorbar\": {\"outlinewidth\": 1, \"tickcolor\": \"rgb(36,36,36)\", \"ticks\": \"outside\"}}, \"type\": \"scatterternary\"}], \"surface\": [{\"colorbar\": {\"outlinewidth\": 1, \"tickcolor\": \"rgb(36,36,36)\", \"ticks\": \"outside\"}, \"colorscale\": [[0.0, \"#440154\"], [0.1111111111111111, \"#482878\"], [0.2222222222222222, \"#3e4989\"], [0.3333333333333333, \"#31688e\"], [0.4444444444444444, \"#26828e\"], [0.5555555555555556, \"#1f9e89\"], [0.6666666666666666, \"#35b779\"], [0.7777777777777778, \"#6ece58\"], [0.8888888888888888, \"#b5de2b\"], [1.0, \"#fde725\"]], \"type\": \"surface\"}], \"table\": [{\"cells\": {\"fill\": {\"color\": \"rgb(237,237,237)\"}, \"line\": {\"color\": \"white\"}}, \"header\": {\"fill\": {\"color\": \"rgb(217,217,217)\"}, \"line\": {\"color\": \"white\"}}, \"type\": \"table\"}]}, \"layout\": {\"annotationdefaults\": {\"arrowhead\": 0, \"arrowwidth\": 1}, \"coloraxis\": {\"colorbar\": {\"outlinewidth\": 1, \"tickcolor\": \"rgb(36,36,36)\", \"ticks\": \"outside\"}}, \"colorscale\": {\"diverging\": [[0.0, \"rgb(103,0,31)\"], [0.1, \"rgb(178,24,43)\"], [0.2, \"rgb(214,96,77)\"], [0.3, \"rgb(244,165,130)\"], [0.4, \"rgb(253,219,199)\"], [0.5, \"rgb(247,247,247)\"], [0.6, \"rgb(209,229,240)\"], [0.7, \"rgb(146,197,222)\"], [0.8, \"rgb(67,147,195)\"], [0.9, \"rgb(33,102,172)\"], [1.0, \"rgb(5,48,97)\"]], \"sequential\": [[0.0, \"#440154\"], [0.1111111111111111, \"#482878\"], [0.2222222222222222, \"#3e4989\"], [0.3333333333333333, \"#31688e\"], [0.4444444444444444, \"#26828e\"], [0.5555555555555556, \"#1f9e89\"], [0.6666666666666666, \"#35b779\"], [0.7777777777777778, \"#6ece58\"], [0.8888888888888888, \"#b5de2b\"], [1.0, \"#fde725\"]], \"sequentialminus\": [[0.0, \"#440154\"], [0.1111111111111111, \"#482878\"], [0.2222222222222222, \"#3e4989\"], [0.3333333333333333, \"#31688e\"], [0.4444444444444444, \"#26828e\"], [0.5555555555555556, \"#1f9e89\"], [0.6666666666666666, \"#35b779\"], [0.7777777777777778, \"#6ece58\"], [0.8888888888888888, \"#b5de2b\"], [1.0, \"#fde725\"]]}, \"colorway\": [\"#1F77B4\", \"#FF7F0E\", \"#2CA02C\", \"#D62728\", \"#9467BD\", \"#8C564B\", \"#E377C2\", \"#7F7F7F\", \"#BCBD22\", \"#17BECF\"], \"font\": {\"color\": \"rgb(36,36,36)\"}, \"geo\": {\"bgcolor\": \"white\", \"lakecolor\": \"white\", \"landcolor\": \"white\", \"showlakes\": true, \"showland\": true, \"subunitcolor\": \"white\"}, \"hoverlabel\": {\"align\": \"left\"}, \"hovermode\": \"closest\", \"mapbox\": {\"style\": \"light\"}, \"paper_bgcolor\": \"white\", \"plot_bgcolor\": \"white\", \"polar\": {\"angularaxis\": {\"gridcolor\": \"rgb(232,232,232)\", \"linecolor\": \"rgb(36,36,36)\", \"showgrid\": false, \"showline\": true, \"ticks\": \"outside\"}, \"bgcolor\": \"white\", \"radialaxis\": {\"gridcolor\": \"rgb(232,232,232)\", \"linecolor\": \"rgb(36,36,36)\", \"showgrid\": false, \"showline\": true, \"ticks\": \"outside\"}}, \"scene\": {\"xaxis\": {\"backgroundcolor\": \"white\", \"gridcolor\": \"rgb(232,232,232)\", \"gridwidth\": 2, \"linecolor\": \"rgb(36,36,36)\", \"showbackground\": true, \"showgrid\": false, \"showline\": true, \"ticks\": \"outside\", \"zeroline\": false, \"zerolinecolor\": \"rgb(36,36,36)\"}, \"yaxis\": {\"backgroundcolor\": \"white\", \"gridcolor\": \"rgb(232,232,232)\", \"gridwidth\": 2, \"linecolor\": \"rgb(36,36,36)\", \"showbackground\": true, \"showgrid\": false, \"showline\": true, \"ticks\": \"outside\", \"zeroline\": false, \"zerolinecolor\": \"rgb(36,36,36)\"}, \"zaxis\": {\"backgroundcolor\": \"white\", \"gridcolor\": \"rgb(232,232,232)\", \"gridwidth\": 2, \"linecolor\": \"rgb(36,36,36)\", \"showbackground\": true, \"showgrid\": false, \"showline\": true, \"ticks\": \"outside\", \"zeroline\": false, \"zerolinecolor\": \"rgb(36,36,36)\"}}, \"shapedefaults\": {\"fillcolor\": \"black\", \"line\": {\"width\": 0}, \"opacity\": 0.3}, \"ternary\": {\"aaxis\": {\"gridcolor\": \"rgb(232,232,232)\", \"linecolor\": \"rgb(36,36,36)\", \"showgrid\": false, \"showline\": true, \"ticks\": \"outside\"}, \"baxis\": {\"gridcolor\": \"rgb(232,232,232)\", \"linecolor\": \"rgb(36,36,36)\", \"showgrid\": false, \"showline\": true, \"ticks\": \"outside\"}, \"bgcolor\": \"white\", \"caxis\": {\"gridcolor\": \"rgb(232,232,232)\", \"linecolor\": \"rgb(36,36,36)\", \"showgrid\": false, \"showline\": true, \"ticks\": \"outside\"}}, \"title\": {\"x\": 0.05}, \"xaxis\": {\"automargin\": true, \"gridcolor\": \"rgb(232,232,232)\", \"linecolor\": \"rgb(36,36,36)\", \"showgrid\": false, \"showline\": true, \"ticks\": \"outside\", \"title\": {\"standoff\": 15}, \"zeroline\": false, \"zerolinecolor\": \"rgb(36,36,36)\"}, \"yaxis\": {\"automargin\": true, \"gridcolor\": \"rgb(232,232,232)\", \"linecolor\": \"rgb(36,36,36)\", \"showgrid\": false, \"showline\": true, \"ticks\": \"outside\", \"title\": {\"standoff\": 15}, \"zeroline\": false, \"zerolinecolor\": \"rgb(36,36,36)\"}}}, \"title\": {\"text\": \"r105c5_e<br>Objective: 2317.05\"}, \"xaxis\": {\"anchor\": \"y\", \"constrain\": \"domain\", \"domain\": [0.0, 1.0], \"mirror\": true, \"range\": [0, 70.4], \"showline\": true, \"ticks\": \"outside\", \"title\": {\"text\": \"x\"}}, \"yaxis\": {\"anchor\": \"x\", \"domain\": [0.0, 1.0], \"mirror\": true, \"range\": [0, 57.2], \"scaleanchor\": \"x\", \"scaleratio\": 1, \"showline\": true, \"ticks\": \"outside\", \"title\": {\"text\": \"y\"}}},\n",
       "                        {\"responsive\": true}\n",
       "                    ).then(function(){\n",
       "                            \n",
       "var gd = document.getElementById('956badff-9b1d-48c3-bafb-8f273fecfa87');\n",
       "var x = new MutationObserver(function (mutations, observer) {{\n",
       "        var display = window.getComputedStyle(gd).display;\n",
       "        if (!display || display === 'none') {{\n",
       "            console.log([gd, 'removed!']);\n",
       "            Plotly.purge(gd);\n",
       "            observer.disconnect();\n",
       "        }}\n",
       "}});\n",
       "\n",
       "// Listen for the removal of the full notebook cells\n",
       "var notebookContainer = gd.closest('#notebook-container');\n",
       "if (notebookContainer) {{\n",
       "    x.observe(notebookContainer, {childList: true});\n",
       "}}\n",
       "\n",
       "// Listen for the clearing of the current output cell\n",
       "var outputEl = gd.closest('.output');\n",
       "if (outputEl) {{\n",
       "    x.observe(outputEl, {childList: true});\n",
       "}}\n",
       "\n",
       "                        })\n",
       "                };\n",
       "                });\n",
       "            </script>\n",
       "        </div>"
      ]
     },
     "metadata": {},
     "output_type": "display_data"
    }
   ],
   "source": [
    "plot_interactive_graph(m.data['V'], e=e_flat, obj=m.instance.obj(), instance_name=m.instance_name)"
   ]
  },
  {
   "cell_type": "code",
   "execution_count": 500,
   "metadata": {},
   "outputs": [],
   "source": [
    "traces = trace_routes(m)"
   ]
  },
  {
   "cell_type": "code",
   "execution_count": 501,
   "metadata": {},
   "outputs": [],
   "source": [
    "routes = x[x['state']>1e-4].sort_values(['xw']).set_index(['from', 'to'])"
   ]
  },
  {
   "cell_type": "code",
   "execution_count": 504,
   "metadata": {},
   "outputs": [
    {
     "data": {
      "image/png": "[encoded data removed]",
      "text/plain": [
       "<Figure size 720x1440 with 6 Axes>"
      ]
     },
     "metadata": {},
     "output_type": "display_data"
    }
   ],
   "source": [
    "n_plots = 6\n",
    "style_label = u'seaborn-white'\n",
    "\n",
    "t_S = m.data['Parameters'].loc['t_S', 'value']\n",
    "t_T = m.data['Parameters'].loc['t_T', 'value']\n",
    "time = np.arange(0, t_T, t_S)\n",
    "t_major = (t_T / 10 - (t_T / 10) % t_S)\n",
    "\n",
    "nt = len(traces)  # number of vehicles\n",
    "stations = np.sort(xp['node'].unique())  # stations\n",
    "ns = len(stations)\n",
    "unique_stations = np.unique([m.s_2s[s] for s in stations])\n",
    "nus = len(unique_stations)\n",
    "\n",
    "gap = m.results['Problem'][0]\n",
    "gap = round((gap['Upper bound'] - gap['Lower bound']) / gap['Upper bound'] * 100, 2)\n",
    "\n",
    "# Load Profiles\n",
    "# G = m.data['G'].copy()\n",
    "G = pd.Series(m.instance.G.extract_values())\n",
    "G = G.reset_index().pivot(index='level_1', columns='level_0', values=0)\n",
    "\n",
    "# Energy Price\n",
    "ce = pd.Series(m.instance.ce.extract_values())\n",
    "ce = ce.reset_index().pivot(index='level_1', columns='level_0', values=0)\n",
    "# ce = m.data['ce']\n",
    "\n",
    "# Get colors for each vehicle\n",
    "c = plt.get_cmap('Dark2')\n",
    "colors = [c(tc) for tc in np.linspace(0, 1, len(traces))]\n",
    "\n",
    "# Get colors for each station\n",
    "c2 = plt.get_cmap('viridis')\n",
    "colors2 = [c2(tc) for tc in np.linspace(0, 1, nus)]\n",
    "us_color = {s: colors2[i] for i, s in enumerate(unique_stations)}\n",
    "s_color = {s_: us_color[m.s_2s[s_]] for s_ in stations}\n",
    "s_alpha = {s: 0 for s in unique_stations}\n",
    "for s_, c in s_color.items():\n",
    "    s = m.s_2s[s_]\n",
    "    s_alpha[s] += 1/m.data['S']['instances'][s]\n",
    "    c = list(c)\n",
    "    c[-1] = s_alpha[s]\n",
    "    s_color[s_] = tuple(c)\n",
    "\n",
    "# fig, axs = plt.subplots(n_plots-1, 2, figsize=(10,10), sharex='col', \n",
    "#                         gridspec_kw={'width_ratios': [2, 1], 'height_ratios': [1, 1, 1, 1]})\n",
    "\n",
    "SMALL_SIZE = 14\n",
    "MEDIUM_SIZE = 18\n",
    "BIGGER_SIZE = 20\n",
    "\n",
    "plt.rc('font', size=SMALL_SIZE)          # controls default text sizes\n",
    "plt.rc('axes', titlesize=SMALL_SIZE)     # fontsize of the axes title\n",
    "plt.rc('axes', labelsize=MEDIUM_SIZE)    # fontsize of the x and y labels\n",
    "plt.rc('xtick', labelsize=SMALL_SIZE)    # fontsize of the tick labels\n",
    "plt.rc('ytick', labelsize=SMALL_SIZE)    # fontsize of the tick labels\n",
    "plt.rc('legend', fontsize=SMALL_SIZE)    # legend fontsize\n",
    "plt.rc('figure', titlesize=BIGGER_SIZE)  # fontsize of the figure title\n",
    "\n",
    "fweight = 2  # title fontweights\n",
    "fdict = {'fontsize': MEDIUM_SIZE, 'fontweight' : fweight}  # subplot titles\n",
    "\n",
    "plt.style.use(style_label)\n",
    "fig = plt.figure(figsize=(10,20), num=style_label)\n",
    "\n",
    "gs = GridSpec(n_plots, 1, width_ratios=[1], height_ratios=[n_plots-1, nt, nt, 1, 1, ns])\n",
    "axs0 = fig.add_subplot(gs[0, 0])\n",
    "axs1 = fig.add_subplot(gs[1, 0])\n",
    "axs2 = fig.add_subplot(gs[2, 0], sharex=axs1)\n",
    "axs3 = fig.add_subplot(gs[3, 0], sharex=axs1)\n",
    "axs4 = fig.add_subplot(gs[4, 0], sharex=axs1)\n",
    "axs5 = fig.add_subplot(gs[5, 0], sharex=axs1)\n",
    "\n",
    "obj_breakdown = [m.total_distance(m.instance)(),\n",
    "                 m.C_fleet_capital_cost(m.instance)(),\n",
    "                 m.O_delivery_operating_cost(m.instance)() + m.O_maintenance_operating_cost(m.instance)(),\n",
    "                 m.R_delivery_revenue(m.instance)(),\n",
    "                 m.R_energy_arbitrage_revenue(m.instance)(), \n",
    "                 m.R_peak_shaving_revenue(m.instance)(), # - sum(G.max()[s] * cg for s, cg in m.instance.cg.extract_values().items()),\n",
    "                 m.cycle_cost(m.instance)() + m.squeeze_cycle_cost(m.instance)()]\n",
    "\n",
    "title = ''\n",
    "title += '{}: {}\\n'.format(m.instance_name, m.problem_type)\n",
    "title += 'Objective: {:.2f}, Gap: {:.2f}%, {:.1f}s\\n'.format(m.instance.obj.expr(), gap, m.results['Solver'][0]['Time'])\n",
    "title += 'Dist.: {:.2f}, CapEx: {:.2f}, OpEx: {:.2f}, Delivery: {:.2f}, EA: {:.2f}, DCM: {:.2f}, Cycle: {:.2f}'.format(*obj_breakdown)\n",
    "fig.suptitle(title, x=0.5, y=1.03, horizontalalignment='center', verticalalignment='top', size=SMALL_SIZE, weight=fweight)\n",
    "\n",
    "a = 0.5\n",
    "\n",
    "for i, n in enumerate('SDM'):\n",
    "    # Plot the nodes\n",
    "    axs0.scatter(m.data[n]['d_x'], m.data[n]['d_y'], c=[node_colors_rgba_tuple[n]]*len(m.data[n]), s=100)\n",
    "\n",
    "    # Annotate the nodes\n",
    "    for j, txt in enumerate(m.data[n].index):\n",
    "        scale = 2\n",
    "        if n == 'D':\n",
    "            offset = [-scale, -scale]\n",
    "        elif n == 'S':\n",
    "            offset = [-scale, 0]\n",
    "        else:\n",
    "            offset = [0, 0]\n",
    "        if txt == 'D1':\n",
    "            offset = [0, -scale]\n",
    "            \n",
    "        axs0.annotate(txt, (m.data[n]['d_x'][j]+offset[0], m.data[n]['d_y'][j]+offset[1]))\n",
    "\n",
    "# Plot the vehicle routes    \n",
    "for ti, t in enumerate(traces):\n",
    "    for ki, k in enumerate(t[:-1]):\n",
    "        arrow_x = m.data['V_'].loc[t[ki], 'd_x']\n",
    "        arrow_y = m.data['V_'].loc[t[ki], 'd_y']\n",
    "        arrow_dx = m.data['V_'].loc[t[ki+1], 'd_x'] - arrow_x\n",
    "        arrow_dy = m.data['V_'].loc[t[ki+1], 'd_y'] - arrow_y\n",
    "        \n",
    "        axs0.arrow(arrow_x, arrow_y, arrow_dx, arrow_dy, alpha=a, linewidth=2,\n",
    "                     length_includes_head=True, head_width=1, head_length=1, overhang=0, color=colors[ti])\n",
    "    \n",
    "    axs0.set_aspect('equal', adjustable='datalim')\n",
    "    \n",
    "    # Plot the vehicle states\n",
    "    r = routes.loc[list(zip(t[:-1], t[1:]))]\n",
    "    \n",
    "    # Plot arrival capacity\n",
    "    # create an inset axe in the current axe:\n",
    "    ax1 = axs1.inset_axes([0, ti*1/nt, 1, .8*1/nt])\n",
    "    ax1.plot(r['xw'], r['xq'], color=colors[ti], alpha=a) \n",
    "    for row in r.iterrows():\n",
    "        ax1.annotate('{}: {:.1f}'.format(row[0][1], row[1]['xq']), xy=(row[1]['xw'], row[1]['xq']), color=colors[ti])\n",
    "    ax1.get_shared_x_axes().join(ax1, axs1)\n",
    "    ax1.get_shared_y_axes().join(ax1, axs1)\n",
    "    ax1.set_xticklabels([])\n",
    "    ax1.xaxis.set_major_locator(MultipleLocator(t_major))\n",
    "    ax1.xaxis.set_minor_locator(MultipleLocator(t_S))\n",
    "    ax1.grid(True, which='both', axis='x', alpha=5, linestyle=':')\n",
    "    axs1.set_yticklabels([])\n",
    "    axs1.set_xlim([0, t_T])\n",
    "#     axs1.axis('off')\n",
    "#     axs1.get_xaxis().set_visible(True)\n",
    "#     axs1.grid(False)\n",
    "    axs1.spines['right'].set_visible(False)\n",
    "    axs1.spines['top'].set_visible(False)\n",
    "    axs1.spines['bottom'].set_visible(False)\n",
    "    axs1.spines['left'].set_visible(False)\n",
    "    axs1.set_title('Arrival capacity', fontdict=fdict)   \n",
    "    \n",
    "    # Plot arrival SOE\n",
    "    # create an inset axe in the current axe:\n",
    "    ax2 = axs2.inset_axes([0, ti*1/nt, 1, .8*1/nt])\n",
    "    ax2.plot(r['xw'], r['xa'], color=colors[ti], alpha=a)\n",
    "    for row in r.iterrows():\n",
    "        ax2.annotate('{}: {:.1f}'.format(row[0][1], row[1]['xa']), xy=(row[1]['xw'], row[1]['xa']), color=colors[ti])\n",
    "    ax2.get_shared_x_axes().join(ax2, axs2)\n",
    "    ax2.get_shared_y_axes().join(ax2, axs2)\n",
    "    ax2.set_xticklabels([])\n",
    "    ax2.xaxis.set_major_locator(MultipleLocator(t_major))\n",
    "    ax2.xaxis.set_minor_locator(MultipleLocator(t_S))\n",
    "    ax2.grid(True, which='both', axis='x', alpha=5, linestyle=':')\n",
    "    axs2.set_yticklabels([])\n",
    "    axs2.set_xlim([0, t_T])\n",
    "    axs2.spines['right'].set_visible(False)\n",
    "    axs2.spines['top'].set_visible(False)\n",
    "    axs2.spines['bottom'].set_visible(False)\n",
    "    axs2.spines['left'].set_visible(False)\n",
    "    axs2.set_title('Arrival SOE', fontdict=fdict)\n",
    "    \n",
    "# Plot power\n",
    "s = stations[0]\n",
    "bott = pd.DataFrame(index=time)\n",
    "bott['xp'] = 0\n",
    "ind = xp[xp['node']==s]['t']\n",
    "axs3.bar(ind, xp[xp['node']==s]['xp'], \n",
    "         label=s, width=t_S, align='edge', color=s_color[s])\n",
    "for s2 in stations[1:]:\n",
    "    ind = xp[xp['node']==s]['t']\n",
    "    bott['xp'].loc[ind] += xp[xp['node']==s]['xp'].values\n",
    "    axs3.bar(xp[xp['node']==s2]['t'], xp[xp['node']==s2]['xp'], bottom=bott.loc[xp[xp['node']==s2]['t']].values.reshape(-1),\n",
    "             label=s2, width=t_S, align='edge', color=s_color[s2])\n",
    "    s = s2\n",
    "ind = xp[xp['node']==s]['t']\n",
    "bott['xp'].loc[ind] += xp[xp['node']==s]['xp'].values\n",
    "\n",
    "# axs3.hlines(bott['xp'], bott.index, bott.index+t_S)\n",
    "bott.loc[t_T, 'xp'] = bott.loc[t_T-t_S, 'xp']\n",
    "axs3.step(bott.index, bott['xp'], where='post', alpha=a, color='black')\n",
    "axs3.set_title('Power', fontdict=fdict)\n",
    "\n",
    "axs3.xaxis.set_major_locator(MultipleLocator(t_major))\n",
    "axs3.xaxis.set_minor_locator(MultipleLocator(t_S))\n",
    "axs3.grid(True, which='both', axis='x', alpha=5, linestyle=':')\n",
    "# axs3.legend(loc=\"upper left\", ncol=round(ns/2), bbox_to_anchor=(0, -.25));\n",
    "\n",
    "# Plot energy price\n",
    "ce.loc[t_T] = ce.loc[t_T-t_S]\n",
    "for s in stations:\n",
    "    axs4.step(ce[m.s_2s[s]].index, ce[m.s_2s[s]], where='post', label='_nolegend_', alpha=a, color=s_color[s])\n",
    "axs4.set_title('Energy Price', fontdict={'fontsize': MEDIUM_SIZE, 'fontweight' : fweight})  \n",
    "\n",
    "axs4.xaxis.set_major_locator(MultipleLocator(t_major))\n",
    "axs4.xaxis.set_minor_locator(MultipleLocator(t_S))\n",
    "axs4.grid(True, which='both', axis='x', alpha=5, linestyle=':')\n",
    "\n",
    "# Plot load profiles\n",
    "G.loc[t_T] = G.loc[t_T-t_S]\n",
    "\n",
    "# calculate total power for each station\n",
    "temp = xp.copy()\n",
    "temp['s'] = temp['node'].apply(lambda x: m.s_2s[x])\n",
    "total_power = temp.groupby(['s', 't']).sum()\n",
    "\n",
    "for si, s in enumerate(unique_stations):\n",
    "    # create an inset axe in the current axe:\n",
    "    ax5 = axs5.inset_axes([0, si*1/nus, 1, .8*1/nus])\n",
    "    ax5.step(G[s].index, G[s], where='post', label='_nolegend_', alpha=a, color=us_color[s])\n",
    "    \n",
    "    net_load = G[s].copy()\n",
    "    net_load[total_power.loc[s].index] += total_power.loc[s]['xp']\n",
    "    ax5.fill_between(net_load.index, net_load, step=\"post\", alpha=a, color='black')\n",
    "    \n",
    "    ax5.get_shared_x_axes().join(ax5, axs5)\n",
    "    ax5.get_shared_y_axes().join(ax5, axs5)\n",
    "    ax5.set_xticklabels([])\n",
    "    axs5.set_yticklabels([])\n",
    "    axs5.set_xlim([0, t_T])\n",
    "    ax5.title.set_text('{}: ${}/kW'.format(s, m.data['S'].loc[s, 'cg']))  \n",
    "    \n",
    "    ax5.xaxis.set_major_locator(MultipleLocator(t_major))\n",
    "    ax5.xaxis.set_minor_locator(MultipleLocator(t_S))\n",
    "    ax5.grid(True, which='both', axis='x', alpha=5, linestyle=':')\n",
    "\n",
    "axs5.spines['right'].set_visible(False)\n",
    "axs5.spines['top'].set_visible(False)\n",
    "axs5.spines['bottom'].set_visible(False)\n",
    "axs5.spines['left'].set_visible(False)\n",
    "axs5.set_title('Load Profile', fontdict=fdict)  \n",
    "\n",
    "fig.legend(loc=\"lower right\", bbox_to_anchor=(1.05, 0.01)); # ncol=round(nus), , bbox_to_anchor=(1.05, .4)\n",
    "\n",
    "fig.tight_layout()"
   ]
  },
  {
   "cell_type": "code",
   "execution_count": 292,
   "metadata": {},
   "outputs": [
    {
     "data": {
      "text/html": [
       "<div>\n",
       "<style scoped>\n",
       "    .dataframe tbody tr th:only-of-type {\n",
       "        vertical-align: middle;\n",
       "    }\n",
       "\n",
       "    .dataframe tbody tr th {\n",
       "        vertical-align: top;\n",
       "    }\n",
       "\n",
       "    .dataframe thead th {\n",
       "        text-align: right;\n",
       "    }\n",
       "</style>\n",
       "<table border=\"1\" class=\"dataframe\">\n",
       "  <thead>\n",
       "    <tr style=\"text-align: right;\">\n",
       "      <th></th>\n",
       "      <th>node</th>\n",
       "      <th>t</th>\n",
       "      <th>state</th>\n",
       "      <th>xp</th>\n",
       "    </tr>\n",
       "  </thead>\n",
       "  <tbody>\n",
       "    <tr>\n",
       "      <th>70</th>\n",
       "      <td>S0_3</td>\n",
       "      <td>10</td>\n",
       "      <td>1.0</td>\n",
       "      <td>2.040816</td>\n",
       "    </tr>\n",
       "    <tr>\n",
       "      <th>101</th>\n",
       "      <td>S1_0</td>\n",
       "      <td>90</td>\n",
       "      <td>1.0</td>\n",
       "      <td>1.981367</td>\n",
       "    </tr>\n",
       "    <tr>\n",
       "      <th>102</th>\n",
       "      <td>S1_0</td>\n",
       "      <td>100</td>\n",
       "      <td>1.0</td>\n",
       "      <td>2.040816</td>\n",
       "    </tr>\n",
       "    <tr>\n",
       "      <th>105</th>\n",
       "      <td>S1_0</td>\n",
       "      <td>130</td>\n",
       "      <td>1.0</td>\n",
       "      <td>2.040816</td>\n",
       "    </tr>\n",
       "  </tbody>\n",
       "</table>\n",
       "</div>"
      ],
      "text/plain": [
       "     node    t  state        xp\n",
       "70   S0_3   10    1.0  2.040816\n",
       "101  S1_0   90    1.0  1.981367\n",
       "102  S1_0  100    1.0  2.040816\n",
       "105  S1_0  130    1.0  2.040816"
      ]
     },
     "execution_count": 292,
     "metadata": {},
     "output_type": "execute_result"
    }
   ],
   "source": [
    "xp"
   ]
  },
  {
   "cell_type": "code",
   "execution_count": 293,
   "metadata": {},
   "outputs": [
    {
     "data": {
      "text/html": [
       "<div>\n",
       "<style scoped>\n",
       "    .dataframe tbody tr th:only-of-type {\n",
       "        vertical-align: middle;\n",
       "    }\n",
       "\n",
       "    .dataframe tbody tr th {\n",
       "        vertical-align: top;\n",
       "    }\n",
       "\n",
       "    .dataframe thead th {\n",
       "        text-align: right;\n",
       "    }\n",
       "</style>\n",
       "<table border=\"1\" class=\"dataframe\">\n",
       "  <thead>\n",
       "    <tr style=\"text-align: right;\">\n",
       "      <th></th>\n",
       "      <th></th>\n",
       "      <th>state</th>\n",
       "      <th>xw</th>\n",
       "      <th>xq</th>\n",
       "      <th>xa</th>\n",
       "      <th>from_d_x</th>\n",
       "      <th>from_d_y</th>\n",
       "      <th>to_d_x</th>\n",
       "      <th>to_d_y</th>\n",
       "    </tr>\n",
       "    <tr>\n",
       "      <th>from</th>\n",
       "      <th>to</th>\n",
       "      <th></th>\n",
       "      <th></th>\n",
       "      <th></th>\n",
       "      <th></th>\n",
       "      <th></th>\n",
       "      <th></th>\n",
       "      <th></th>\n",
       "      <th></th>\n",
       "    </tr>\n",
       "  </thead>\n",
       "  <tbody>\n",
       "    <tr>\n",
       "      <th>D0</th>\n",
       "      <th>S0_0</th>\n",
       "      <td>1.0</td>\n",
       "      <td>0.000000</td>\n",
       "      <td>37.0</td>\n",
       "      <td>37.393387</td>\n",
       "      <td>35</td>\n",
       "      <td>35</td>\n",
       "      <td>35</td>\n",
       "      <td>35</td>\n",
       "    </tr>\n",
       "    <tr>\n",
       "      <th>S0_0</th>\n",
       "      <th>S0_3</th>\n",
       "      <td>1.0</td>\n",
       "      <td>0.000000</td>\n",
       "      <td>37.0</td>\n",
       "      <td>37.393387</td>\n",
       "      <td>35</td>\n",
       "      <td>35</td>\n",
       "      <td>35</td>\n",
       "      <td>35</td>\n",
       "    </tr>\n",
       "    <tr>\n",
       "      <th>S0_3</th>\n",
       "      <th>C75</th>\n",
       "      <td>1.0</td>\n",
       "      <td>49.000000</td>\n",
       "      <td>37.0</td>\n",
       "      <td>30.016662</td>\n",
       "      <td>35</td>\n",
       "      <td>35</td>\n",
       "      <td>49</td>\n",
       "      <td>11</td>\n",
       "    </tr>\n",
       "    <tr>\n",
       "      <th>D0</th>\n",
       "      <th>C91</th>\n",
       "      <td>1.0</td>\n",
       "      <td>77.000000</td>\n",
       "      <td>21.0</td>\n",
       "      <td>26.046409</td>\n",
       "      <td>35</td>\n",
       "      <td>35</td>\n",
       "      <td>15</td>\n",
       "      <td>19</td>\n",
       "    </tr>\n",
       "    <tr>\n",
       "      <th>C75</th>\n",
       "      <th>S1_0</th>\n",
       "      <td>1.0</td>\n",
       "      <td>89.016662</td>\n",
       "      <td>19.0</td>\n",
       "      <td>0.000000</td>\n",
       "      <td>49</td>\n",
       "      <td>11</td>\n",
       "      <td>64</td>\n",
       "      <td>37</td>\n",
       "    </tr>\n",
       "    <tr>\n",
       "      <th>C91</th>\n",
       "      <th>C95</th>\n",
       "      <td>1.0</td>\n",
       "      <td>130.000000</td>\n",
       "      <td>20.0</td>\n",
       "      <td>14.866069</td>\n",
       "      <td>15</td>\n",
       "      <td>19</td>\n",
       "      <td>25</td>\n",
       "      <td>24</td>\n",
       "    </tr>\n",
       "    <tr>\n",
       "      <th>C95</th>\n",
       "      <th>S0_2</th>\n",
       "      <td>1.0</td>\n",
       "      <td>154.866069</td>\n",
       "      <td>0.0</td>\n",
       "      <td>0.000000</td>\n",
       "      <td>25</td>\n",
       "      <td>24</td>\n",
       "      <td>35</td>\n",
       "      <td>35</td>\n",
       "    </tr>\n",
       "    <tr>\n",
       "      <th>S1_0</th>\n",
       "      <th>C78</th>\n",
       "      <td>1.0</td>\n",
       "      <td>158.000000</td>\n",
       "      <td>19.0</td>\n",
       "      <td>31.324555</td>\n",
       "      <td>64</td>\n",
       "      <td>37</td>\n",
       "      <td>61</td>\n",
       "      <td>52</td>\n",
       "    </tr>\n",
       "    <tr>\n",
       "      <th>C78</th>\n",
       "      <th>C28</th>\n",
       "      <td>1.0</td>\n",
       "      <td>193.000000</td>\n",
       "      <td>16.0</td>\n",
       "      <td>6.324555</td>\n",
       "      <td>61</td>\n",
       "      <td>52</td>\n",
       "      <td>41</td>\n",
       "      <td>37</td>\n",
       "    </tr>\n",
       "    <tr>\n",
       "      <th>S0_2</th>\n",
       "      <th>D1</th>\n",
       "      <td>1.0</td>\n",
       "      <td>230.000000</td>\n",
       "      <td>0.0</td>\n",
       "      <td>0.000000</td>\n",
       "      <td>35</td>\n",
       "      <td>35</td>\n",
       "      <td>35</td>\n",
       "      <td>35</td>\n",
       "    </tr>\n",
       "    <tr>\n",
       "      <th>C28</th>\n",
       "      <th>D1</th>\n",
       "      <td>1.0</td>\n",
       "      <td>230.000000</td>\n",
       "      <td>0.0</td>\n",
       "      <td>0.000000</td>\n",
       "      <td>41</td>\n",
       "      <td>37</td>\n",
       "      <td>35</td>\n",
       "      <td>35</td>\n",
       "    </tr>\n",
       "  </tbody>\n",
       "</table>\n",
       "</div>"
      ],
      "text/plain": [
       "           state          xw    xq         xa  from_d_x  from_d_y  to_d_x  \\\n",
       "from to                                                                     \n",
       "D0   S0_0    1.0    0.000000  37.0  37.393387        35        35      35   \n",
       "S0_0 S0_3    1.0    0.000000  37.0  37.393387        35        35      35   \n",
       "S0_3 C75     1.0   49.000000  37.0  30.016662        35        35      49   \n",
       "D0   C91     1.0   77.000000  21.0  26.046409        35        35      15   \n",
       "C75  S1_0    1.0   89.016662  19.0   0.000000        49        11      64   \n",
       "C91  C95     1.0  130.000000  20.0  14.866069        15        19      25   \n",
       "C95  S0_2    1.0  154.866069   0.0   0.000000        25        24      35   \n",
       "S1_0 C78     1.0  158.000000  19.0  31.324555        64        37      61   \n",
       "C78  C28     1.0  193.000000  16.0   6.324555        61        52      41   \n",
       "S0_2 D1      1.0  230.000000   0.0   0.000000        35        35      35   \n",
       "C28  D1      1.0  230.000000   0.0   0.000000        41        37      35   \n",
       "\n",
       "           to_d_y  \n",
       "from to            \n",
       "D0   S0_0      35  \n",
       "S0_0 S0_3      35  \n",
       "S0_3 C75       11  \n",
       "D0   C91       19  \n",
       "C75  S1_0      37  \n",
       "C91  C95       24  \n",
       "C95  S0_2      35  \n",
       "S1_0 C78       52  \n",
       "C78  C28       37  \n",
       "S0_2 D1        35  \n",
       "C28  D1        35  "
      ]
     },
     "execution_count": 293,
     "metadata": {},
     "output_type": "execute_result"
    }
   ],
   "source": [
    "routes"
   ]
  },
  {
   "cell_type": "code",
   "execution_count": 294,
   "metadata": {},
   "outputs": [
    {
     "data": {
      "text/plain": [
       "-75.13393125268149"
      ]
     },
     "execution_count": 294,
     "metadata": {},
     "output_type": "execute_result"
    }
   ],
   "source": [
    "i = 'S0_2'\n",
    "j = 'D1'\n",
    "m.instance.xw[i]() + m.instance.d[i, j] + m.instance.t_S() * sum(m.instance.xkappa[i, t] for t in m.instance.T)() - m.instance.xw[j]()"
   ]
  },
  {
   "cell_type": "code",
   "execution_count": null,
   "metadata": {},
   "outputs": [],
   "source": [
    "m.data['d']"
   ]
  },
  {
   "cell_type": "code",
   "execution_count": null,
   "metadata": {},
   "outputs": [],
   "source": [
    "routes"
   ]
  },
  {
   "cell_type": "code",
   "execution_count": 1383,
   "metadata": {},
   "outputs": [
    {
     "data": {
      "text/plain": [
       "2426.4937076977776"
      ]
     },
     "execution_count": 1383,
     "metadata": {},
     "output_type": "execute_result"
    }
   ],
   "source": [
    "m.instance.obj.expr()"
   ]
  },
  {
   "cell_type": "code",
   "execution_count": 1384,
   "metadata": {},
   "outputs": [
    {
     "data": {
      "text/plain": [
       "1.096728461629606"
      ]
     },
     "execution_count": 1384,
     "metadata": {},
     "output_type": "execute_result"
    }
   ],
   "source": [
    "sum(sum(sum(m.instance.ce.extract_values()[(s,t)] * m.instance.xp.extract_values()[(i,t)] * m.instance.xkappa.extract_values()[(i,t)] for t in m.instance.T.data()) for i in m.instance.Smap.extract_values()[s]) for s in m.instance.S.data())"
   ]
  },
  {
   "cell_type": "code",
   "execution_count": 1385,
   "metadata": {},
   "outputs": [
    {
     "data": {
      "text/html": [
       "<div>\n",
       "<style scoped>\n",
       "    .dataframe tbody tr th:only-of-type {\n",
       "        vertical-align: middle;\n",
       "    }\n",
       "\n",
       "    .dataframe tbody tr th {\n",
       "        vertical-align: top;\n",
       "    }\n",
       "\n",
       "    .dataframe thead tr th {\n",
       "        text-align: left;\n",
       "    }\n",
       "\n",
       "    .dataframe thead tr:last-of-type th {\n",
       "        text-align: right;\n",
       "    }\n",
       "</style>\n",
       "<table border=\"1\" class=\"dataframe\">\n",
       "  <thead>\n",
       "    <tr>\n",
       "      <th></th>\n",
       "      <th colspan=\"8\" halign=\"left\">t</th>\n",
       "      <th colspan=\"5\" halign=\"left\">state</th>\n",
       "      <th colspan=\"8\" halign=\"left\">xp</th>\n",
       "    </tr>\n",
       "    <tr>\n",
       "      <th></th>\n",
       "      <th>count</th>\n",
       "      <th>mean</th>\n",
       "      <th>std</th>\n",
       "      <th>min</th>\n",
       "      <th>25%</th>\n",
       "      <th>50%</th>\n",
       "      <th>75%</th>\n",
       "      <th>max</th>\n",
       "      <th>count</th>\n",
       "      <th>mean</th>\n",
       "      <th>...</th>\n",
       "      <th>75%</th>\n",
       "      <th>max</th>\n",
       "      <th>count</th>\n",
       "      <th>mean</th>\n",
       "      <th>std</th>\n",
       "      <th>min</th>\n",
       "      <th>25%</th>\n",
       "      <th>50%</th>\n",
       "      <th>75%</th>\n",
       "      <th>max</th>\n",
       "    </tr>\n",
       "    <tr>\n",
       "      <th>node</th>\n",
       "      <th></th>\n",
       "      <th></th>\n",
       "      <th></th>\n",
       "      <th></th>\n",
       "      <th></th>\n",
       "      <th></th>\n",
       "      <th></th>\n",
       "      <th></th>\n",
       "      <th></th>\n",
       "      <th></th>\n",
       "      <th></th>\n",
       "      <th></th>\n",
       "      <th></th>\n",
       "      <th></th>\n",
       "      <th></th>\n",
       "      <th></th>\n",
       "      <th></th>\n",
       "      <th></th>\n",
       "      <th></th>\n",
       "      <th></th>\n",
       "      <th></th>\n",
       "    </tr>\n",
       "  </thead>\n",
       "  <tbody>\n",
       "    <tr>\n",
       "      <th>S0_0</th>\n",
       "      <td>3.0</td>\n",
       "      <td>30.0</td>\n",
       "      <td>10.000000</td>\n",
       "      <td>20.0</td>\n",
       "      <td>25.0</td>\n",
       "      <td>30.0</td>\n",
       "      <td>35.0</td>\n",
       "      <td>40.0</td>\n",
       "      <td>3.0</td>\n",
       "      <td>1.0</td>\n",
       "      <td>...</td>\n",
       "      <td>1.0</td>\n",
       "      <td>1.0</td>\n",
       "      <td>3.0</td>\n",
       "      <td>0.636832</td>\n",
       "      <td>2.319827</td>\n",
       "      <td>-2.040816</td>\n",
       "      <td>-0.065160</td>\n",
       "      <td>1.910497</td>\n",
       "      <td>1.975657</td>\n",
       "      <td>2.040816</td>\n",
       "    </tr>\n",
       "    <tr>\n",
       "      <th>S0_1</th>\n",
       "      <td>5.0</td>\n",
       "      <td>20.0</td>\n",
       "      <td>15.811388</td>\n",
       "      <td>0.0</td>\n",
       "      <td>10.0</td>\n",
       "      <td>20.0</td>\n",
       "      <td>30.0</td>\n",
       "      <td>40.0</td>\n",
       "      <td>5.0</td>\n",
       "      <td>1.0</td>\n",
       "      <td>...</td>\n",
       "      <td>1.0</td>\n",
       "      <td>1.0</td>\n",
       "      <td>5.0</td>\n",
       "      <td>1.156031</td>\n",
       "      <td>1.793228</td>\n",
       "      <td>-2.040816</td>\n",
       "      <td>1.698522</td>\n",
       "      <td>2.040816</td>\n",
       "      <td>2.040816</td>\n",
       "      <td>2.040816</td>\n",
       "    </tr>\n",
       "    <tr>\n",
       "      <th>S0_2</th>\n",
       "      <td>1.0</td>\n",
       "      <td>220.0</td>\n",
       "      <td>NaN</td>\n",
       "      <td>220.0</td>\n",
       "      <td>220.0</td>\n",
       "      <td>220.0</td>\n",
       "      <td>220.0</td>\n",
       "      <td>220.0</td>\n",
       "      <td>1.0</td>\n",
       "      <td>1.0</td>\n",
       "      <td>...</td>\n",
       "      <td>1.0</td>\n",
       "      <td>1.0</td>\n",
       "      <td>1.0</td>\n",
       "      <td>-1.400839</td>\n",
       "      <td>NaN</td>\n",
       "      <td>-1.400839</td>\n",
       "      <td>-1.400839</td>\n",
       "      <td>-1.400839</td>\n",
       "      <td>-1.400839</td>\n",
       "      <td>-1.400839</td>\n",
       "    </tr>\n",
       "    <tr>\n",
       "      <th>S0_3</th>\n",
       "      <td>7.0</td>\n",
       "      <td>190.0</td>\n",
       "      <td>21.602469</td>\n",
       "      <td>160.0</td>\n",
       "      <td>175.0</td>\n",
       "      <td>190.0</td>\n",
       "      <td>205.0</td>\n",
       "      <td>220.0</td>\n",
       "      <td>7.0</td>\n",
       "      <td>1.0</td>\n",
       "      <td>...</td>\n",
       "      <td>1.0</td>\n",
       "      <td>1.0</td>\n",
       "      <td>7.0</td>\n",
       "      <td>-0.398220</td>\n",
       "      <td>2.063743</td>\n",
       "      <td>-2.040816</td>\n",
       "      <td>-2.040816</td>\n",
       "      <td>-2.040816</td>\n",
       "      <td>1.667455</td>\n",
       "      <td>2.040816</td>\n",
       "    </tr>\n",
       "    <tr>\n",
       "      <th>S13_0</th>\n",
       "      <td>3.0</td>\n",
       "      <td>80.0</td>\n",
       "      <td>10.000000</td>\n",
       "      <td>70.0</td>\n",
       "      <td>75.0</td>\n",
       "      <td>80.0</td>\n",
       "      <td>85.0</td>\n",
       "      <td>90.0</td>\n",
       "      <td>3.0</td>\n",
       "      <td>1.0</td>\n",
       "      <td>...</td>\n",
       "      <td>1.0</td>\n",
       "      <td>1.0</td>\n",
       "      <td>3.0</td>\n",
       "      <td>2.021000</td>\n",
       "      <td>0.034323</td>\n",
       "      <td>1.981367</td>\n",
       "      <td>2.011092</td>\n",
       "      <td>2.040816</td>\n",
       "      <td>2.040816</td>\n",
       "      <td>2.040816</td>\n",
       "    </tr>\n",
       "    <tr>\n",
       "      <th>S1_0</th>\n",
       "      <td>3.0</td>\n",
       "      <td>130.0</td>\n",
       "      <td>10.000000</td>\n",
       "      <td>120.0</td>\n",
       "      <td>125.0</td>\n",
       "      <td>130.0</td>\n",
       "      <td>135.0</td>\n",
       "      <td>140.0</td>\n",
       "      <td>3.0</td>\n",
       "      <td>1.0</td>\n",
       "      <td>...</td>\n",
       "      <td>1.0</td>\n",
       "      <td>1.0</td>\n",
       "      <td>3.0</td>\n",
       "      <td>2.021000</td>\n",
       "      <td>0.017161</td>\n",
       "      <td>2.011092</td>\n",
       "      <td>2.011092</td>\n",
       "      <td>2.011092</td>\n",
       "      <td>2.025954</td>\n",
       "      <td>2.040816</td>\n",
       "    </tr>\n",
       "  </tbody>\n",
       "</table>\n",
       "<p>6 rows × 24 columns</p>\n",
       "</div>"
      ],
      "text/plain": [
       "          t                                                      state       \\\n",
       "      count   mean        std    min    25%    50%    75%    max count mean   \n",
       "node                                                                          \n",
       "S0_0    3.0   30.0  10.000000   20.0   25.0   30.0   35.0   40.0   3.0  1.0   \n",
       "S0_1    5.0   20.0  15.811388    0.0   10.0   20.0   30.0   40.0   5.0  1.0   \n",
       "S0_2    1.0  220.0        NaN  220.0  220.0  220.0  220.0  220.0   1.0  1.0   \n",
       "S0_3    7.0  190.0  21.602469  160.0  175.0  190.0  205.0  220.0   7.0  1.0   \n",
       "S13_0   3.0   80.0  10.000000   70.0   75.0   80.0   85.0   90.0   3.0  1.0   \n",
       "S1_0    3.0  130.0  10.000000  120.0  125.0  130.0  135.0  140.0   3.0  1.0   \n",
       "\n",
       "       ...              xp                                                    \\\n",
       "       ...  75%  max count      mean       std       min       25%       50%   \n",
       "node   ...                                                                     \n",
       "S0_0   ...  1.0  1.0   3.0  0.636832  2.319827 -2.040816 -0.065160  1.910497   \n",
       "S0_1   ...  1.0  1.0   5.0  1.156031  1.793228 -2.040816  1.698522  2.040816   \n",
       "S0_2   ...  1.0  1.0   1.0 -1.400839       NaN -1.400839 -1.400839 -1.400839   \n",
       "S0_3   ...  1.0  1.0   7.0 -0.398220  2.063743 -2.040816 -2.040816 -2.040816   \n",
       "S13_0  ...  1.0  1.0   3.0  2.021000  0.034323  1.981367  2.011092  2.040816   \n",
       "S1_0   ...  1.0  1.0   3.0  2.021000  0.017161  2.011092  2.011092  2.011092   \n",
       "\n",
       "                           \n",
       "            75%       max  \n",
       "node                       \n",
       "S0_0   1.975657  2.040816  \n",
       "S0_1   2.040816  2.040816  \n",
       "S0_2  -1.400839 -1.400839  \n",
       "S0_3   1.667455  2.040816  \n",
       "S13_0  2.040816  2.040816  \n",
       "S1_0   2.025954  2.040816  \n",
       "\n",
       "[6 rows x 24 columns]"
      ]
     },
     "execution_count": 1385,
     "metadata": {},
     "output_type": "execute_result"
    }
   ],
   "source": [
    "xp.groupby('node').describe()"
   ]
  },
  {
   "cell_type": "code",
   "execution_count": 776,
   "metadata": {},
   "outputs": [],
   "source": [
    "test = [xp.set_index('node').loc[n,'state'] * v for n, v in routes.reset_index('to')['state'].iteritems() if n in xp['node'].unique()]"
   ]
  },
  {
   "cell_type": "code",
   "execution_count": 182,
   "metadata": {},
   "outputs": [],
   "source": [
    "m.instance2.xgamma.free()"
   ]
  },
  {
   "cell_type": "code",
   "execution_count": 184,
   "metadata": {},
   "outputs": [],
   "source": [
    "m.instance2.xgamma.fix()"
   ]
  },
  {
   "cell_type": "code",
   "execution_count": 229,
   "metadata": {},
   "outputs": [
    {
     "data": {
      "text/plain": [
       "{('S0_0', 0): 0.0,\n",
       " ('S0_0', 30): 0.0,\n",
       " ('S0_0', 60): 0.0,\n",
       " ('S0_0', 90): 0.0,\n",
       " ('S0_0', 120): 0.0,\n",
       " ('S0_0', 150): 0.0,\n",
       " ('S0_0', 180): 0.0,\n",
       " ('S0_0', 210): 0.0,\n",
       " ('S0_0', 240): 0.0,\n",
       " ('S0_0', 270): 0.0,\n",
       " ('S0_0', 300): 0.0,\n",
       " ('S0_0', 330): 0.0,\n",
       " ('S0_0', 360): 0.0,\n",
       " ('S0_0', 390): 0.0,\n",
       " ('S0_0', 420): 0.0,\n",
       " ('S0_0', 450): 0.0,\n",
       " ('S0_0', 480): 0.0,\n",
       " ('S0_0', 510): 0.0,\n",
       " ('S0_0', 540): 0.0,\n",
       " ('S0_0', 570): 0.0,\n",
       " ('S0_0', 600): 0.0,\n",
       " ('S0_0', 630): 0.0,\n",
       " ('S0_0', 660): 0.0,\n",
       " ('S0_0', 690): 0.0,\n",
       " ('S0_0', 720): 0.0,\n",
       " ('S0_0', 750): 0.0,\n",
       " ('S0_0', 780): 0.0,\n",
       " ('S0_0', 810): 0.0,\n",
       " ('S0_0', 840): 0.0,\n",
       " ('S0_0', 870): 0.0,\n",
       " ('S0_0', 900): 0.0,\n",
       " ('S0_0', 930): 0.0,\n",
       " ('S0_0', 960): 0.0,\n",
       " ('S0_0', 990): 0.0,\n",
       " ('S0_0', 1020): 0.0,\n",
       " ('S0_0', 1050): 0.0,\n",
       " ('S0_0', 1080): 0.0,\n",
       " ('S0_0', 1110): 0.0,\n",
       " ('S0_0', 1140): 0.0,\n",
       " ('S0_0', 1170): 0.0,\n",
       " ('S0_0', 1200): 0.0,\n",
       " ('S0_0', 1230): 0.0,\n",
       " ('S0_0', 1260): 0.0,\n",
       " ('S0_0', 1290): 0.0,\n",
       " ('S0_0', 1320): 0.0,\n",
       " ('S0_0', 1350): 0.0,\n",
       " ('S0_0', 1380): 0.0,\n",
       " ('S0_0', 1410): 0.0,\n",
       " ('S0_0', 1440): 0.0,\n",
       " ('S0_0', 1470): 0.0,\n",
       " ('S0_0', 1500): 0.0,\n",
       " ('S0_0', 1530): 0.0,\n",
       " ('S0_0', 1560): 0.0,\n",
       " ('S0_0', 1590): 0.0,\n",
       " ('S0_0', 1620): 0.0,\n",
       " ('S0_0', 1650): 0.0,\n",
       " ('S0_0', 1680): 0.0,\n",
       " ('S0_0', 1710): 0.0,\n",
       " ('S0_0', 1740): 0.0,\n",
       " ('S0_0', 1770): 0.0,\n",
       " ('S0_0', 1800): 0.0,\n",
       " ('S0_0', 1830): 0.0,\n",
       " ('S0_0', 1860): 0.0,\n",
       " ('S0_0', 1890): 0.0,\n",
       " ('S0_0', 1920): 0.0,\n",
       " ('S0_0', 1950): 0.0,\n",
       " ('S0_0', 1980): 0.0,\n",
       " ('S0_0', 2010): 0.0,\n",
       " ('S0_0', 2040): 0.0,\n",
       " ('S0_0', 2070): 0.0,\n",
       " ('S0_0', 2100): 0.0,\n",
       " ('S0_0', 2130): 0.0,\n",
       " ('S0_0', 2160): 0.0,\n",
       " ('S0_0', 2190): 0.0,\n",
       " ('S0_0', 2220): 0.0,\n",
       " ('S0_0', 2250): 0.0,\n",
       " ('S0_0', 2280): 0.0,\n",
       " ('S0_0', 2310): 0.0,\n",
       " ('S0_0', 2340): 0.0,\n",
       " ('S0_0', 2370): 0.0,\n",
       " ('S0_0', 2400): 0.0,\n",
       " ('S0_0', 2430): 0.0,\n",
       " ('S0_0', 2460): 0.0,\n",
       " ('S0_0', 2490): 0.0,\n",
       " ('S0_0', 2520): 0.0,\n",
       " ('S0_0', 2550): 0.0,\n",
       " ('S0_0', 2580): 0.0,\n",
       " ('S0_0', 2610): 0.0,\n",
       " ('S0_0', 2640): 0.0,\n",
       " ('S0_0', 2670): 0.0,\n",
       " ('S0_0', 2700): 0.0,\n",
       " ('S0_0', 2730): 0.0,\n",
       " ('S0_0', 2760): 0.0,\n",
       " ('S0_0', 2790): 0.0,\n",
       " ('S0_0', 2820): 0.0,\n",
       " ('S0_0', 2850): 0.0,\n",
       " ('S0_0', 2880): 0.0,\n",
       " ('S0_0', 2910): 0.0,\n",
       " ('S0_0', 2940): 0.0,\n",
       " ('S0_0', 2970): 0.0,\n",
       " ('S0_0', 3000): 0.0,\n",
       " ('S0_0', 3030): 0.0,\n",
       " ('S0_0', 3060): 0.0,\n",
       " ('S0_0', 3090): 0.0,\n",
       " ('S0_0', 3120): 0.0,\n",
       " ('S0_0', 3150): 0.0,\n",
       " ('S0_0', 3180): 0.0,\n",
       " ('S0_0', 3210): 0.0,\n",
       " ('S0_0', 3240): 0.0,\n",
       " ('S0_0', 3270): 0.0,\n",
       " ('S0_0', 3300): 0.0,\n",
       " ('S0_0', 3330): 0.0,\n",
       " ('S0_0', 3360): 0.0,\n",
       " ('S0_1', 0): 0.0,\n",
       " ('S0_1', 30): 0.0,\n",
       " ('S0_1', 60): 0.0,\n",
       " ('S0_1', 90): 0.0,\n",
       " ('S0_1', 120): 0.0,\n",
       " ('S0_1', 150): 1.0,\n",
       " ('S0_1', 180): 0.0,\n",
       " ('S0_1', 210): 0.0,\n",
       " ('S0_1', 240): 0.0,\n",
       " ('S0_1', 270): 0.0,\n",
       " ('S0_1', 300): 0.0,\n",
       " ('S0_1', 330): 0.0,\n",
       " ('S0_1', 360): 0.0,\n",
       " ('S0_1', 390): 0.0,\n",
       " ('S0_1', 420): 0.0,\n",
       " ('S0_1', 450): 0.0,\n",
       " ('S0_1', 480): 0.0,\n",
       " ('S0_1', 510): 0.0,\n",
       " ('S0_1', 540): 0.0,\n",
       " ('S0_1', 570): 0.0,\n",
       " ('S0_1', 600): 0.0,\n",
       " ('S0_1', 630): 0.0,\n",
       " ('S0_1', 660): 0.0,\n",
       " ('S0_1', 690): 0.0,\n",
       " ('S0_1', 720): 0.0,\n",
       " ('S0_1', 750): 0.0,\n",
       " ('S0_1', 780): 0.0,\n",
       " ('S0_1', 810): 0.0,\n",
       " ('S0_1', 840): 0.0,\n",
       " ('S0_1', 870): 0.0,\n",
       " ('S0_1', 900): 0.0,\n",
       " ('S0_1', 930): 0.0,\n",
       " ('S0_1', 960): 0.0,\n",
       " ('S0_1', 990): 0.0,\n",
       " ('S0_1', 1020): 0.0,\n",
       " ('S0_1', 1050): 0.0,\n",
       " ('S0_1', 1080): 0.0,\n",
       " ('S0_1', 1110): 0.0,\n",
       " ('S0_1', 1140): 0.0,\n",
       " ('S0_1', 1170): 0.0,\n",
       " ('S0_1', 1200): 0.0,\n",
       " ('S0_1', 1230): 0.0,\n",
       " ('S0_1', 1260): 0.0,\n",
       " ('S0_1', 1290): 0.0,\n",
       " ('S0_1', 1320): 0.0,\n",
       " ('S0_1', 1350): 0.0,\n",
       " ('S0_1', 1380): 0.0,\n",
       " ('S0_1', 1410): 0.0,\n",
       " ('S0_1', 1440): 0.0,\n",
       " ('S0_1', 1470): 0.0,\n",
       " ('S0_1', 1500): 0.0,\n",
       " ('S0_1', 1530): 0.0,\n",
       " ('S0_1', 1560): 0.0,\n",
       " ('S0_1', 1590): 0.0,\n",
       " ('S0_1', 1620): 0.0,\n",
       " ('S0_1', 1650): 0.0,\n",
       " ('S0_1', 1680): 0.0,\n",
       " ('S0_1', 1710): 0.0,\n",
       " ('S0_1', 1740): 0.0,\n",
       " ('S0_1', 1770): 0.0,\n",
       " ('S0_1', 1800): 0.0,\n",
       " ('S0_1', 1830): 0.0,\n",
       " ('S0_1', 1860): 0.0,\n",
       " ('S0_1', 1890): 0.0,\n",
       " ('S0_1', 1920): 0.0,\n",
       " ('S0_1', 1950): 0.0,\n",
       " ('S0_1', 1980): 0.0,\n",
       " ('S0_1', 2010): 0.0,\n",
       " ('S0_1', 2040): 0.0,\n",
       " ('S0_1', 2070): 0.0,\n",
       " ('S0_1', 2100): 0.0,\n",
       " ('S0_1', 2130): 0.0,\n",
       " ('S0_1', 2160): 0.0,\n",
       " ('S0_1', 2190): 0.0,\n",
       " ('S0_1', 2220): 0.0,\n",
       " ('S0_1', 2250): 0.0,\n",
       " ('S0_1', 2280): 0.0,\n",
       " ('S0_1', 2310): 0.0,\n",
       " ('S0_1', 2340): 0.0,\n",
       " ('S0_1', 2370): 0.0,\n",
       " ('S0_1', 2400): 0.0,\n",
       " ('S0_1', 2430): 0.0,\n",
       " ('S0_1', 2460): 0.0,\n",
       " ('S0_1', 2490): 0.0,\n",
       " ('S0_1', 2520): 0.0,\n",
       " ('S0_1', 2550): 0.0,\n",
       " ('S0_1', 2580): 0.0,\n",
       " ('S0_1', 2610): 0.0,\n",
       " ('S0_1', 2640): 0.0,\n",
       " ('S0_1', 2670): 0.0,\n",
       " ('S0_1', 2700): 0.0,\n",
       " ('S0_1', 2730): 0.0,\n",
       " ('S0_1', 2760): 0.0,\n",
       " ('S0_1', 2790): 0.0,\n",
       " ('S0_1', 2820): 0.0,\n",
       " ('S0_1', 2850): 0.0,\n",
       " ('S0_1', 2880): 0.0,\n",
       " ('S0_1', 2910): 0.0,\n",
       " ('S0_1', 2940): 0.0,\n",
       " ('S0_1', 2970): 0.0,\n",
       " ('S0_1', 3000): 0.0,\n",
       " ('S0_1', 3030): 0.0,\n",
       " ('S0_1', 3060): 0.0,\n",
       " ('S0_1', 3090): 0.0,\n",
       " ('S0_1', 3120): 0.0,\n",
       " ('S0_1', 3150): 0.0,\n",
       " ('S0_1', 3180): 0.0,\n",
       " ('S0_1', 3210): 0.0,\n",
       " ('S0_1', 3240): 0.0,\n",
       " ('S0_1', 3270): 0.0,\n",
       " ('S0_1', 3300): 0.0,\n",
       " ('S0_1', 3330): 0.0,\n",
       " ('S0_1', 3360): 0.0,\n",
       " ('S0_2', 0): 0.0,\n",
       " ('S0_2', 30): 0.0,\n",
       " ('S0_2', 60): 0.0,\n",
       " ('S0_2', 90): 0.0,\n",
       " ('S0_2', 120): 0.0,\n",
       " ('S0_2', 150): 0.0,\n",
       " ('S0_2', 180): 0.0,\n",
       " ('S0_2', 210): 0.0,\n",
       " ('S0_2', 240): 0.0,\n",
       " ('S0_2', 270): 0.0,\n",
       " ('S0_2', 300): 0.0,\n",
       " ('S0_2', 330): 0.0,\n",
       " ('S0_2', 360): 0.0,\n",
       " ('S0_2', 390): 0.0,\n",
       " ('S0_2', 420): 0.0,\n",
       " ('S0_2', 450): 0.0,\n",
       " ('S0_2', 480): 0.0,\n",
       " ('S0_2', 510): 0.0,\n",
       " ('S0_2', 540): 0.0,\n",
       " ('S0_2', 570): 0.0,\n",
       " ('S0_2', 600): 0.0,\n",
       " ('S0_2', 630): 0.0,\n",
       " ('S0_2', 660): 0.0,\n",
       " ('S0_2', 690): 0.0,\n",
       " ('S0_2', 720): 0.0,\n",
       " ('S0_2', 750): 0.0,\n",
       " ('S0_2', 780): 0.0,\n",
       " ('S0_2', 810): 0.0,\n",
       " ('S0_2', 840): 0.0,\n",
       " ('S0_2', 870): 0.0,\n",
       " ('S0_2', 900): 0.0,\n",
       " ('S0_2', 930): 0.0,\n",
       " ('S0_2', 960): 0.0,\n",
       " ('S0_2', 990): 0.0,\n",
       " ('S0_2', 1020): 0.0,\n",
       " ('S0_2', 1050): 0.0,\n",
       " ('S0_2', 1080): 0.0,\n",
       " ('S0_2', 1110): 0.0,\n",
       " ('S0_2', 1140): 0.0,\n",
       " ('S0_2', 1170): 0.0,\n",
       " ('S0_2', 1200): 0.0,\n",
       " ('S0_2', 1230): 0.0,\n",
       " ('S0_2', 1260): 0.0,\n",
       " ('S0_2', 1290): 0.0,\n",
       " ('S0_2', 1320): 0.0,\n",
       " ('S0_2', 1350): 0.0,\n",
       " ('S0_2', 1380): 0.0,\n",
       " ('S0_2', 1410): 0.0,\n",
       " ('S0_2', 1440): 0.0,\n",
       " ('S0_2', 1470): 0.0,\n",
       " ('S0_2', 1500): 0.0,\n",
       " ('S0_2', 1530): 0.0,\n",
       " ('S0_2', 1560): 0.0,\n",
       " ('S0_2', 1590): 0.0,\n",
       " ('S0_2', 1620): 0.0,\n",
       " ('S0_2', 1650): 0.0,\n",
       " ('S0_2', 1680): 0.0,\n",
       " ('S0_2', 1710): 0.0,\n",
       " ('S0_2', 1740): 0.0,\n",
       " ('S0_2', 1770): 0.0,\n",
       " ('S0_2', 1800): 0.0,\n",
       " ('S0_2', 1830): 0.0,\n",
       " ('S0_2', 1860): 1.0,\n",
       " ('S0_2', 1890): 1.0,\n",
       " ('S0_2', 1920): 1.0,\n",
       " ('S0_2', 1950): 0.0,\n",
       " ('S0_2', 1980): 0.0,\n",
       " ('S0_2', 2010): 0.0,\n",
       " ('S0_2', 2040): 0.0,\n",
       " ('S0_2', 2070): 0.0,\n",
       " ('S0_2', 2100): 0.0,\n",
       " ('S0_2', 2130): 0.0,\n",
       " ('S0_2', 2160): 0.0,\n",
       " ('S0_2', 2190): 0.0,\n",
       " ('S0_2', 2220): 0.0,\n",
       " ('S0_2', 2250): 0.0,\n",
       " ('S0_2', 2280): 0.0,\n",
       " ('S0_2', 2310): 0.0,\n",
       " ('S0_2', 2340): 0.0,\n",
       " ('S0_2', 2370): 0.0,\n",
       " ('S0_2', 2400): 0.0,\n",
       " ('S0_2', 2430): 0.0,\n",
       " ('S0_2', 2460): 0.0,\n",
       " ('S0_2', 2490): 0.0,\n",
       " ('S0_2', 2520): 0.0,\n",
       " ('S0_2', 2550): 0.0,\n",
       " ('S0_2', 2580): 0.0,\n",
       " ('S0_2', 2610): 0.0,\n",
       " ('S0_2', 2640): 0.0,\n",
       " ('S0_2', 2670): 0.0,\n",
       " ('S0_2', 2700): 0.0,\n",
       " ('S0_2', 2730): 0.0,\n",
       " ('S0_2', 2760): 0.0,\n",
       " ('S0_2', 2790): 0.0,\n",
       " ('S0_2', 2820): 0.0,\n",
       " ('S0_2', 2850): 0.0,\n",
       " ('S0_2', 2880): 0.0,\n",
       " ('S0_2', 2910): 0.0,\n",
       " ('S0_2', 2940): 0.0,\n",
       " ('S0_2', 2970): 0.0,\n",
       " ('S0_2', 3000): 0.0,\n",
       " ('S0_2', 3030): 0.0,\n",
       " ('S0_2', 3060): 0.0,\n",
       " ('S0_2', 3090): 0.0,\n",
       " ('S0_2', 3120): 0.0,\n",
       " ('S0_2', 3150): 0.0,\n",
       " ('S0_2', 3180): 0.0,\n",
       " ('S0_2', 3210): 0.0,\n",
       " ('S0_2', 3240): 0.0,\n",
       " ('S0_2', 3270): 0.0,\n",
       " ('S0_2', 3300): 0.0,\n",
       " ('S0_2', 3330): 0.0,\n",
       " ('S0_2', 3360): 0.0,\n",
       " ('S0_3', 0): 0.0,\n",
       " ('S0_3', 30): 0.0,\n",
       " ('S0_3', 60): 0.0,\n",
       " ('S0_3', 90): 0.0,\n",
       " ('S0_3', 120): 0.0,\n",
       " ('S0_3', 150): 0.0,\n",
       " ('S0_3', 180): 0.0,\n",
       " ('S0_3', 210): 0.0,\n",
       " ('S0_3', 240): 0.0,\n",
       " ('S0_3', 270): 0.0,\n",
       " ('S0_3', 300): 0.0,\n",
       " ('S0_3', 330): 0.0,\n",
       " ('S0_3', 360): 0.0,\n",
       " ('S0_3', 390): 0.0,\n",
       " ('S0_3', 420): 0.0,\n",
       " ('S0_3', 450): 0.0,\n",
       " ('S0_3', 480): 0.0,\n",
       " ('S0_3', 510): 0.0,\n",
       " ('S0_3', 540): 0.0,\n",
       " ('S0_3', 570): 0.0,\n",
       " ('S0_3', 600): 0.0,\n",
       " ('S0_3', 630): 0.0,\n",
       " ('S0_3', 660): 0.0,\n",
       " ('S0_3', 690): 0.0,\n",
       " ('S0_3', 720): 0.0,\n",
       " ('S0_3', 750): 0.0,\n",
       " ('S0_3', 780): 0.0,\n",
       " ('S0_3', 810): 0.0,\n",
       " ('S0_3', 840): 0.0,\n",
       " ('S0_3', 870): 0.0,\n",
       " ('S0_3', 900): 0.0,\n",
       " ('S0_3', 930): 0.0,\n",
       " ('S0_3', 960): 0.0,\n",
       " ('S0_3', 990): 0.0,\n",
       " ('S0_3', 1020): 0.0,\n",
       " ('S0_3', 1050): 0.0,\n",
       " ('S0_3', 1080): 0.0,\n",
       " ('S0_3', 1110): 0.0,\n",
       " ('S0_3', 1140): 0.0,\n",
       " ('S0_3', 1170): 0.0,\n",
       " ('S0_3', 1200): 0.0,\n",
       " ('S0_3', 1230): 0.0,\n",
       " ('S0_3', 1260): 0.0,\n",
       " ('S0_3', 1290): 0.0,\n",
       " ('S0_3', 1320): 0.0,\n",
       " ('S0_3', 1350): 0.0,\n",
       " ('S0_3', 1380): 0.0,\n",
       " ('S0_3', 1410): 0.0,\n",
       " ('S0_3', 1440): 0.0,\n",
       " ('S0_3', 1470): 0.0,\n",
       " ('S0_3', 1500): 0.0,\n",
       " ('S0_3', 1530): 0.0,\n",
       " ('S0_3', 1560): 0.0,\n",
       " ('S0_3', 1590): 0.0,\n",
       " ('S0_3', 1620): 0.0,\n",
       " ('S0_3', 1650): 0.0,\n",
       " ('S0_3', 1680): 0.0,\n",
       " ('S0_3', 1710): 0.0,\n",
       " ('S0_3', 1740): 0.0,\n",
       " ('S0_3', 1770): 0.0,\n",
       " ('S0_3', 1800): 0.0,\n",
       " ('S0_3', 1830): 0.0,\n",
       " ('S0_3', 1860): 0.0,\n",
       " ('S0_3', 1890): 0.0,\n",
       " ('S0_3', 1920): 0.0,\n",
       " ('S0_3', 1950): 0.0,\n",
       " ('S0_3', 1980): 0.0,\n",
       " ('S0_3', 2010): 0.0,\n",
       " ('S0_3', 2040): 0.0,\n",
       " ('S0_3', 2070): 0.0,\n",
       " ('S0_3', 2100): 0.0,\n",
       " ('S0_3', 2130): 0.0,\n",
       " ('S0_3', 2160): 0.0,\n",
       " ('S0_3', 2190): 0.0,\n",
       " ('S0_3', 2220): 0.0,\n",
       " ('S0_3', 2250): 0.0,\n",
       " ('S0_3', 2280): 0.0,\n",
       " ('S0_3', 2310): 0.0,\n",
       " ('S0_3', 2340): 0.0,\n",
       " ('S0_3', 2370): 0.0,\n",
       " ('S0_3', 2400): 0.0,\n",
       " ('S0_3', 2430): 0.0,\n",
       " ('S0_3', 2460): 0.0,\n",
       " ('S0_3', 2490): 0.0,\n",
       " ('S0_3', 2520): 0.0,\n",
       " ('S0_3', 2550): 0.0,\n",
       " ('S0_3', 2580): 0.0,\n",
       " ('S0_3', 2610): 0.0,\n",
       " ('S0_3', 2640): 0.0,\n",
       " ('S0_3', 2670): 0.0,\n",
       " ('S0_3', 2700): 0.0,\n",
       " ('S0_3', 2730): 0.0,\n",
       " ('S0_3', 2760): 0.0,\n",
       " ('S0_3', 2790): 0.0,\n",
       " ('S0_3', 2820): 0.0,\n",
       " ('S0_3', 2850): 0.0,\n",
       " ('S0_3', 2880): 0.0,\n",
       " ('S0_3', 2910): 0.0,\n",
       " ('S0_3', 2940): 0.0,\n",
       " ('S0_3', 2970): 0.0,\n",
       " ('S0_3', 3000): 0.0,\n",
       " ('S0_3', 3030): 0.0,\n",
       " ('S0_3', 3060): 0.0,\n",
       " ('S0_3', 3090): 0.0,\n",
       " ('S0_3', 3120): 0.0,\n",
       " ('S0_3', 3150): 0.0,\n",
       " ('S0_3', 3180): 0.0,\n",
       " ('S0_3', 3210): 1.0,\n",
       " ('S0_3', 3240): 1.0,\n",
       " ('S0_3', 3270): 1.0,\n",
       " ('S0_3', 3300): 1.0,\n",
       " ('S0_3', 3330): 1.0,\n",
       " ('S0_3', 3360): 1.0,\n",
       " ('S3_0', 0): 0.0,\n",
       " ('S3_0', 30): 0.0,\n",
       " ('S3_0', 60): 0.0,\n",
       " ('S3_0', 90): 0.0,\n",
       " ('S3_0', 120): 0.0,\n",
       " ('S3_0', 150): 0.0,\n",
       " ('S3_0', 180): 0.0,\n",
       " ('S3_0', 210): 0.0,\n",
       " ('S3_0', 240): 0.0,\n",
       " ('S3_0', 270): 0.0,\n",
       " ('S3_0', 300): 0.0,\n",
       " ('S3_0', 330): 0.0,\n",
       " ('S3_0', 360): 0.0,\n",
       " ('S3_0', 390): 0.0,\n",
       " ('S3_0', 420): 0.0,\n",
       " ('S3_0', 450): 0.0,\n",
       " ('S3_0', 480): 1.0,\n",
       " ('S3_0', 510): 1.0,\n",
       " ('S3_0', 540): 1.0,\n",
       " ('S3_0', 570): 1.0,\n",
       " ('S3_0', 600): 1.0,\n",
       " ('S3_0', 630): 1.0,\n",
       " ('S3_0', 660): 1.0,\n",
       " ('S3_0', 690): 1.0,\n",
       " ('S3_0', 720): 0.0,\n",
       " ('S3_0', 750): 0.0,\n",
       " ('S3_0', 780): 0.0,\n",
       " ('S3_0', 810): 0.0,\n",
       " ('S3_0', 840): 0.0,\n",
       " ('S3_0', 870): 0.0,\n",
       " ('S3_0', 900): 0.0,\n",
       " ('S3_0', 930): 0.0,\n",
       " ('S3_0', 960): 0.0,\n",
       " ('S3_0', 990): 0.0,\n",
       " ('S3_0', 1020): 0.0,\n",
       " ('S3_0', 1050): 0.0,\n",
       " ('S3_0', 1080): 0.0,\n",
       " ('S3_0', 1110): 0.0,\n",
       " ('S3_0', 1140): 0.0,\n",
       " ('S3_0', 1170): 0.0,\n",
       " ('S3_0', 1200): 0.0,\n",
       " ('S3_0', 1230): 0.0,\n",
       " ('S3_0', 1260): 0.0,\n",
       " ('S3_0', 1290): 0.0,\n",
       " ('S3_0', 1320): 0.0,\n",
       " ('S3_0', 1350): 0.0,\n",
       " ('S3_0', 1380): 0.0,\n",
       " ('S3_0', 1410): 0.0,\n",
       " ('S3_0', 1440): 0.0,\n",
       " ('S3_0', 1470): 0.0,\n",
       " ('S3_0', 1500): 0.0,\n",
       " ('S3_0', 1530): 0.0,\n",
       " ('S3_0', 1560): 0.0,\n",
       " ('S3_0', 1590): 0.0,\n",
       " ('S3_0', 1620): 0.0,\n",
       " ('S3_0', 1650): 0.0,\n",
       " ('S3_0', 1680): 0.0,\n",
       " ('S3_0', 1710): 0.0,\n",
       " ('S3_0', 1740): 0.0,\n",
       " ('S3_0', 1770): 0.0,\n",
       " ('S3_0', 1800): 0.0,\n",
       " ('S3_0', 1830): 0.0,\n",
       " ('S3_0', 1860): 0.0,\n",
       " ('S3_0', 1890): 0.0,\n",
       " ('S3_0', 1920): 0.0,\n",
       " ('S3_0', 1950): 0.0,\n",
       " ('S3_0', 1980): 0.0,\n",
       " ('S3_0', 2010): 0.0,\n",
       " ('S3_0', 2040): 0.0,\n",
       " ('S3_0', 2070): 0.0,\n",
       " ('S3_0', 2100): 0.0,\n",
       " ('S3_0', 2130): 0.0,\n",
       " ('S3_0', 2160): 0.0,\n",
       " ('S3_0', 2190): 0.0,\n",
       " ('S3_0', 2220): 0.0,\n",
       " ('S3_0', 2250): 0.0,\n",
       " ('S3_0', 2280): 0.0,\n",
       " ('S3_0', 2310): 0.0,\n",
       " ('S3_0', 2340): 0.0,\n",
       " ('S3_0', 2370): 0.0,\n",
       " ('S3_0', 2400): 0.0,\n",
       " ('S3_0', 2430): 0.0,\n",
       " ('S3_0', 2460): 0.0,\n",
       " ('S3_0', 2490): 0.0,\n",
       " ('S3_0', 2520): 0.0,\n",
       " ('S3_0', 2550): 0.0,\n",
       " ('S3_0', 2580): 0.0,\n",
       " ('S3_0', 2610): 0.0,\n",
       " ('S3_0', 2640): 0.0,\n",
       " ('S3_0', 2670): 0.0,\n",
       " ('S3_0', 2700): 0.0,\n",
       " ('S3_0', 2730): 0.0,\n",
       " ('S3_0', 2760): 0.0,\n",
       " ('S3_0', 2790): 0.0,\n",
       " ('S3_0', 2820): 0.0,\n",
       " ('S3_0', 2850): 0.0,\n",
       " ('S3_0', 2880): 0.0,\n",
       " ('S3_0', 2910): 0.0,\n",
       " ('S3_0', 2940): 0.0,\n",
       " ('S3_0', 2970): 0.0,\n",
       " ('S3_0', 3000): 0.0,\n",
       " ('S3_0', 3030): 0.0,\n",
       " ('S3_0', 3060): 0.0,\n",
       " ('S3_0', 3090): 0.0,\n",
       " ('S3_0', 3120): 0.0,\n",
       " ('S3_0', 3150): 0.0,\n",
       " ('S3_0', 3180): 0.0,\n",
       " ('S3_0', 3210): 0.0,\n",
       " ('S3_0', 3240): 0.0,\n",
       " ('S3_0', 3270): 0.0,\n",
       " ('S3_0', 3300): 0.0,\n",
       " ('S3_0', 3330): 0.0,\n",
       " ('S3_0', 3360): 0.0,\n",
       " ('S15_0', 0): 0.0,\n",
       " ('S15_0', 30): 0.0,\n",
       " ('S15_0', 60): 0.0,\n",
       " ('S15_0', 90): 0.0,\n",
       " ('S15_0', 120): 0.0,\n",
       " ('S15_0', 150): 0.0,\n",
       " ('S15_0', 180): 0.0,\n",
       " ('S15_0', 210): 0.0,\n",
       " ('S15_0', 240): 0.0,\n",
       " ('S15_0', 270): 0.0,\n",
       " ('S15_0', 300): 0.0,\n",
       " ('S15_0', 330): 0.0,\n",
       " ('S15_0', 360): 0.0,\n",
       " ('S15_0', 390): 0.0,\n",
       " ('S15_0', 420): 0.0,\n",
       " ('S15_0', 450): 0.0,\n",
       " ('S15_0', 480): 0.0,\n",
       " ('S15_0', 510): 0.0,\n",
       " ('S15_0', 540): 0.0,\n",
       " ('S15_0', 570): 0.0,\n",
       " ('S15_0', 600): 0.0,\n",
       " ('S15_0', 630): 0.0,\n",
       " ('S15_0', 660): 0.0,\n",
       " ('S15_0', 690): 0.0,\n",
       " ('S15_0', 720): 0.0,\n",
       " ('S15_0', 750): 0.0,\n",
       " ('S15_0', 780): 0.0,\n",
       " ('S15_0', 810): 0.0,\n",
       " ('S15_0', 840): 0.0,\n",
       " ('S15_0', 870): 0.0,\n",
       " ('S15_0', 900): 0.0,\n",
       " ('S15_0', 930): 0.0,\n",
       " ('S15_0', 960): 0.0,\n",
       " ('S15_0', 990): 0.0,\n",
       " ('S15_0', 1020): 0.0,\n",
       " ('S15_0', 1050): 0.0,\n",
       " ('S15_0', 1080): 0.0,\n",
       " ('S15_0', 1110): 0.0,\n",
       " ('S15_0', 1140): 0.0,\n",
       " ('S15_0', 1170): 0.0,\n",
       " ('S15_0', 1200): 0.0,\n",
       " ('S15_0', 1230): 0.0,\n",
       " ('S15_0', 1260): 0.0,\n",
       " ('S15_0', 1290): 0.0,\n",
       " ('S15_0', 1320): 0.0,\n",
       " ('S15_0', 1350): 0.0,\n",
       " ('S15_0', 1380): 0.0,\n",
       " ('S15_0', 1410): 0.0,\n",
       " ('S15_0', 1440): 0.0,\n",
       " ('S15_0', 1470): 0.0,\n",
       " ('S15_0', 1500): 0.0,\n",
       " ('S15_0', 1530): 0.0,\n",
       " ('S15_0', 1560): 0.0,\n",
       " ('S15_0', 1590): 0.0,\n",
       " ('S15_0', 1620): 0.0,\n",
       " ('S15_0', 1650): 0.0,\n",
       " ('S15_0', 1680): 0.0,\n",
       " ('S15_0', 1710): 0.0,\n",
       " ('S15_0', 1740): 0.0,\n",
       " ('S15_0', 1770): 0.0,\n",
       " ('S15_0', 1800): 0.0,\n",
       " ('S15_0', 1830): 0.0,\n",
       " ('S15_0', 1860): 0.0,\n",
       " ('S15_0', 1890): 0.0,\n",
       " ('S15_0', 1920): 0.0,\n",
       " ('S15_0', 1950): 0.0,\n",
       " ('S15_0', 1980): 0.0,\n",
       " ('S15_0', 2010): 0.0,\n",
       " ('S15_0', 2040): 0.0,\n",
       " ('S15_0', 2070): 0.0,\n",
       " ('S15_0', 2100): 0.0,\n",
       " ('S15_0', 2130): 1.0,\n",
       " ('S15_0', 2160): 1.0,\n",
       " ('S15_0', 2190): 1.0,\n",
       " ('S15_0', 2220): 1.0,\n",
       " ('S15_0', 2250): 0.0,\n",
       " ('S15_0', 2280): 0.0,\n",
       " ('S15_0', 2310): 0.0,\n",
       " ('S15_0', 2340): 0.0,\n",
       " ('S15_0', 2370): 1.0,\n",
       " ('S15_0', 2400): 1.0,\n",
       " ('S15_0', 2430): 1.0,\n",
       " ('S15_0', 2460): 1.0,\n",
       " ('S15_0', 2490): 1.0,\n",
       " ('S15_0', 2520): 0.0,\n",
       " ('S15_0', 2550): 0.0,\n",
       " ('S15_0', 2580): 0.0,\n",
       " ('S15_0', 2610): 0.0,\n",
       " ('S15_0', 2640): 0.0,\n",
       " ('S15_0', 2670): 0.0,\n",
       " ('S15_0', 2700): 0.0,\n",
       " ('S15_0', 2730): 0.0,\n",
       " ('S15_0', 2760): 0.0,\n",
       " ('S15_0', 2790): 0.0,\n",
       " ('S15_0', 2820): 0.0,\n",
       " ('S15_0', 2850): 0.0,\n",
       " ('S15_0', 2880): 0.0,\n",
       " ('S15_0', 2910): 0.0,\n",
       " ('S15_0', 2940): 0.0,\n",
       " ('S15_0', 2970): 0.0,\n",
       " ('S15_0', 3000): 0.0,\n",
       " ('S15_0', 3030): 0.0,\n",
       " ('S15_0', 3060): 0.0,\n",
       " ('S15_0', 3090): 0.0,\n",
       " ('S15_0', 3120): 0.0,\n",
       " ('S15_0', 3150): 0.0,\n",
       " ('S15_0', 3180): 0.0,\n",
       " ('S15_0', 3210): 0.0,\n",
       " ('S15_0', 3240): 0.0,\n",
       " ('S15_0', 3270): 0.0,\n",
       " ('S15_0', 3300): 0.0,\n",
       " ('S15_0', 3330): 0.0,\n",
       " ('S15_0', 3360): 0.0}"
      ]
     },
     "execution_count": 229,
     "metadata": {},
     "output_type": "execute_result"
    }
   ],
   "source": [
    "m.instance2.xkappa.get_values()"
   ]
  },
  {
   "cell_type": "code",
   "execution_count": 263,
   "metadata": {},
   "outputs": [
    {
     "name": "stdout",
     "output_type": "stream",
     "text": [
      "GMAX : Maximum station electric demand\n",
      "    Size=3, Index=S, Domain=Any, Default=None, Mutable=True\n",
      "    Key : Value\n",
      "     S0 :    30\n",
      "     S1 :     0\n",
      "    S13 :     0\n"
     ]
    }
   ],
   "source": [
    "m.instance.GMAX.display()"
   ]
  },
  {
   "cell_type": "code",
   "execution_count": null,
   "metadata": {},
   "outputs": [],
   "source": []
  }
 ],
 "metadata": {
  "kernelspec": {
   "display_name": "Python 3",
   "language": "python",
   "name": "python3"
  },
  "language_info": {
   "codemirror_mode": {
    "name": "ipython",
    "version": 3
   },
   "file_extension": ".py",
   "mimetype": "text/x-python",
   "name": "python",
   "nbconvert_exporter": "python",
   "pygments_lexer": "ipython3",
   "version": "3.6.10"
  }
 },
 "nbformat": 4,
 "nbformat_minor": 1
}
