{
 "cells": [
  {
   "cell_type": "code",
   "execution_count": 1,
   "metadata": {
    "pycharm": {
     "name": "#%%\n"
    }
   },
   "outputs": [],
   "source": [
    "import sys\n",
    "sys.path.append(\"../\") # go to parent dir\n",
    "\n",
    "%load_ext autoreload\n",
    "%autoreload 2"
   ]
  },
  {
   "cell_type": "code",
   "execution_count": 2,
   "metadata": {
    "pycharm": {
     "name": "#%%\n"
    }
   },
   "outputs": [],
   "source": [
    "from evrp.utils.utilities import *\n",
    "from evrp.utils.graph import draw_plain_graph, draw_graph\n",
    "from evrp.utils.plot import plot_interactive_graph\n",
    "from evrp.milp.tsp import TSP\n",
    "from evrp.milp.vrptw import VRPTW\n",
    "from evrp.milp.evrptw import EVRPTW\n",
    "\n",
    "import pandas as pd\n",
    "import numpy as np\n",
    "from scipy.spatial import distance\n",
    "\n",
    "import pprint\n",
    "\n",
    "import plotly.figure_factory as ff\n",
    "from plotly.subplots import make_subplots\n",
    "import plotly.graph_objects as go\n",
    "import plotly.express as px\n",
    "\n",
    "import matplotlib.pyplot as plt\n",
    "import matplotlib.colors as pltc\n",
    "from matplotlib.gridspec import GridSpec\n",
    "\n",
    "import itertools\n",
    "\n",
    "import networkx as nx\n",
    "\n",
    "from pyomo.environ import *\n",
    "\n",
    "from evrp.config.GLOBAL_CONFIG import *\n",
    "\n",
    "pd.options.plotting.backend = \"plotly\"\n",
    "pp = pprint.PrettyPrinter()"
   ]
  },
  {
   "cell_type": "code",
   "execution_count": 3,
   "metadata": {
    "pycharm": {
     "name": "#%%\n"
    }
   },
   "outputs": [],
   "source": [
    "instance = 'c205c10_e'\n",
    "fpath = 'config/test_instances/' + instance + '.csv'"
   ]
  },
  {
   "cell_type": "code",
   "execution_count": 69,
   "metadata": {},
   "outputs": [],
   "source": [
    "del m.instance, m.results\n",
    "m.instance = m.instance2.clone()\n",
    "m.results = m.results2.copy()"
   ]
  },
  {
   "cell_type": "code",
   "execution_count": 70,
   "metadata": {},
   "outputs": [
    {
     "name": "stdout",
     "output_type": "stream",
     "text": [
      "Using license file /Users/ramiariss/gurobi.lic\n",
      "Academic license - for non-commercial use only - expires 2021-03-21\n",
      "Read LP format model from file /var/folders/vv/1p3h17yx43n9m7k86th68_ym0000gn/T/tmpyygddxpo.pyomo.lp\n",
      "Reading time = 0.05 seconds\n",
      "x1167: 616 rows, 1167 columns, 2188 nonzeros\n",
      "Read MIP start from file /var/folders/vv/1p3h17yx43n9m7k86th68_ym0000gn/T/tmpht2w3ggi.gurobi.mst\n",
      "Changed value of parameter TimeLimit to 300.0\n",
      "   Prev: inf  Min: 0.0  Max: inf  Default: inf\n",
      "Gurobi Optimizer version 9.1.0 build v9.1.0rc0 (mac64)\n",
      "Thread count: 4 physical cores, 8 logical processors, using up to 8 threads\n",
      "Optimize a model with 616 rows, 1167 columns and 2188 nonzeros\n",
      "Model fingerprint: 0x3d121362\n",
      "Model has 7228 quadratic objective terms\n",
      "Model has 4067 quadratic constraints\n",
      "Variable types: 504 continuous, 663 integer (663 binary)\n",
      "Coefficient statistics:\n",
      "  Matrix range     [1e+00, 4e+03]\n",
      "  QMatrix range    [1e+00, 3e+01]\n",
      "  QLMatrix range   [1e+00, 3e+03]\n",
      "  Objective range  [3e+00, 1e+03]\n",
      "  QObjective range [6e-02, 2e+01]\n",
      "  Bounds range     [1e+00, 1e+00]\n",
      "  RHS range        [1e+00, 3e+03]\n",
      "  QRHS range       [3e-01, 3e+03]\n",
      "\n",
      "User MIP start produced solution with objective 2528.08 (0.01s)\n",
      "Loaded user MIP start with objective 2528.08\n",
      "\n",
      "Presolve added 673 rows and 0 columns\n",
      "Presolve removed 0 rows and 44 columns\n",
      "Presolve time: 0.18s\n",
      "Presolved: 11562 rows, 9367 columns, 94684 nonzeros\n",
      "Presolved model has 904 SOS constraint(s)\n",
      "Variable types: 1521 continuous, 7846 integer (7837 binary)\n",
      "\n",
      "Root relaxation: objective 4.098205e+02, 3522 iterations, 0.22 seconds\n",
      "\n",
      "    Nodes    |    Current Node    |     Objective Bounds      |     Work\n",
      " Expl Unexpl |  Obj  Depth IntInf | Incumbent    BestBd   Gap | It/Node Time\n",
      "\n",
      "     0     0  409.82052    0  955 2528.07513  409.82052  83.8%     -    0s\n",
      "     0     0  479.78387    0  629 2528.07513  479.78387  81.0%     -    1s\n",
      "     0     0  482.23049    0  742 2528.07513  482.23049  80.9%     -    2s\n",
      "     0     0  482.66275    0  800 2528.07513  482.66275  80.9%     -    2s\n",
      "     0     0  491.28095    0  818 2528.07513  491.28095  80.6%     -    2s\n",
      "     0     0  491.36685    0  806 2528.07513  491.36685  80.6%     -    2s\n",
      "     0     0  500.71024    0  819 2528.07513  500.71024  80.2%     -    3s\n",
      "     0     0  501.00167    0  832 2528.07513  501.00167  80.2%     -    3s\n",
      "     0     0  506.06753    0 1064 2528.07513  506.06753  80.0%     -    4s\n",
      "     0     0  506.11426    0 1081 2528.07513  506.11426  80.0%     -    4s\n",
      "     0     0  506.29282    0 1047 2528.07513  506.29282  80.0%     -    4s\n",
      "     0     0  506.29611    0 1030 2528.07513  506.29611  80.0%     -    4s\n",
      "     0     0  506.91037    0  823 2528.07513  506.91037  79.9%     -    5s\n",
      "     0     0  506.91037    0  823 2528.07513  506.91037  79.9%     -    5s\n",
      "     0     2  506.93794    0  823 2528.07513  506.93794  79.9%     -    5s\n",
      "   140    87 1579.84416   20  796 2528.07513  526.66446  79.2%   429   10s\n",
      "   460   177 1595.77632    8  400 2528.07513  548.71541  78.3%   381   15s\n",
      "   936   283  906.63492    8  658 2528.07513  589.59993  76.7%   370   20s\n",
      "H  991   293                    2528.0451272  591.29546  76.6%   372   20s\n",
      "  1327   336 1145.40461   16  657 2528.04513  654.38148  74.1%   359   25s\n",
      "H 1471   351                    2528.0151272  745.06065  70.5%   361   27s\n",
      "H 1497   351                    2527.9851272  748.81092  70.4%   360   27s\n",
      "  1717   346 1845.85034   15  253 2527.98513  886.54590  64.9%   356   30s\n",
      "  2241   375 1646.12079   13  365 2527.98513 1464.45791  42.1%   354   35s\n",
      "  2773   411 1555.88294   15  481 2527.98513 1514.82696  40.1%   354   40s\n",
      "  3329   443 1607.76917   17  510 2527.98513 1535.60099  39.3%   346   45s\n",
      "  3841   368 infeasible   16      2527.98513 1553.21785  38.6%   345   51s\n",
      "  4149   212 infeasible   13      2527.98513 1570.08978  37.9%   345   55s\n",
      "H 4919   140                    2527.0147294 1834.63638  27.4%   324   58s\n",
      "  5031   118 infeasible   28      2527.01473 2421.86965  4.16%   319   60s\n",
      "  5892   617 2526.79904   41   41 2527.01473 2520.58364  0.25%   289   66s\n",
      "H 5904   560                    2526.9847294 2520.58364  0.25%   288   66s\n",
      "H 6202   537                    2526.9247294 2520.58768  0.25%   275   66s\n",
      "  6520   502 2526.81093   40 1018 2526.92473 2520.58768  0.25%   262   70s\n",
      "  6525   509 2520.58768   14  826 2526.92473 2520.58768  0.25%   263   76s\n",
      "  6531   515 2520.58768   16  803 2526.92473 2520.58768  0.25%   263   81s\n",
      "  6535   516 2520.58768   16  820 2526.92473 2520.58768  0.25%   263   85s\n",
      "  6547   524 2520.58768   18 1013 2526.92473 2520.58768  0.25%   264   91s\n",
      "  6566   534 2520.58768   20  839 2526.92473 2520.58768  0.25%   267   95s\n",
      "  6616   545 2520.58768   25  543 2526.92473 2520.58768  0.25%   272  100s\n",
      "  6689   557 2520.58768   22  745 2526.92473 2520.58768  0.25%   278  105s\n",
      "  6761   550 infeasible   32      2526.92473 2520.58768  0.25%   282  110s\n",
      "  6898   526 2520.58768   26  460 2526.92473 2520.58768  0.25%   289  115s\n",
      "  7071   481 2520.58768   34  446 2526.92473 2520.58768  0.25%   296  120s\n",
      "  7256   395 infeasible   33      2526.92473 2520.58768  0.25%   303  125s\n",
      "H 7262   367                    2526.8947294 2520.58768  0.25%   304  125s\n",
      "  7345   354 2520.58768   22  432 2526.89473 2520.58768  0.25%   309  130s\n",
      "  7526   323 2520.58768   22  498 2526.89473 2520.58768  0.25%   318  136s\n",
      "  7685   294 infeasible   38      2526.89473 2520.58768  0.25%   325  140s\n",
      "  7915   234 2520.58768   34  360 2526.89473 2520.58768  0.25%   333  147s\n",
      "  8038   211     cutoff   39      2526.89473 2520.58768  0.25%   336  152s\n",
      "  8117   213 2520.58768   38  544 2526.89473 2520.58768  0.25%   339  155s\n",
      "  8396   200 infeasible   33      2526.89473 2520.58768  0.25%   344  161s\n",
      "  8638   158 2520.58768   31  318 2526.89473 2520.58768  0.25%   350  167s\n",
      "  8961   206 2520.58768   36  376 2526.89473 2520.58768  0.25%   351  172s\n",
      "\n",
      "Cutting planes:\n",
      "  Learned: 5\n",
      "  Gomory: 5\n",
      "  Cover: 16\n",
      "  Implied bound: 421\n",
      "  MIR: 65\n",
      "  StrongCG: 2\n",
      "  Flow cover: 11\n",
      "  GUB cover: 1\n",
      "  Inf proof: 2\n",
      "  Zero half: 11\n",
      "  RLT: 57\n",
      "  Relax-and-lift: 9\n",
      "\n",
      "Explored 9422 nodes (3196353 simplex iterations) in 172.30 seconds\n",
      "Thread count was 8 (of 8 available processors)\n",
      "\n",
      "Solution count 8: 2526.89 2526.92 2526.98 ... 2528.08\n",
      "\n",
      "Optimal solution found (tolerance 1.00e-04)\n",
      "Best objective 2.526894729439e+03, best bound 2.526776044958e+03, gap 0.0047%\n"
     ]
    }
   ],
   "source": [
    "# Initialize past solution\n",
    "# Specify solver\n",
    "opt = SolverFactory('gurobi', io_format='python')\n",
    "# Solver options\n",
    "solv_options = {'TimeLimit': 60*5}  # 'Symmetry': 2\n",
    "\n",
    "# SAVE PAST MODEL RESULT\n",
    "m.instance2 = m.instance.clone()\n",
    "m.results2 = m.results.copy()\n",
    "\n",
    "# CHANGE CONSTRAINTS\n",
    "def constraint_energy_peak(instance, s, t):\n",
    "    \"\"\"Peak electric demand for each physical station s(i) ∈ S\"\"\"\n",
    "    return instance.G[s, t] + sum(instance.xkappa[i, t] * instance.xp[i, t] for i in instance.Smap[s]) <= instance.xd[s]\n",
    "m.instance.constraint_energy_peak = Constraint(m.instance.S, m.instance.T, rule=constraint_energy_peak)\n",
    "\n",
    "# CHANGE OBJECTIVES\n",
    "m.instance.del_component(m.instance.obj)  # Decativate the old objective\n",
    "def new_obj(instance):\n",
    "    return m.total_distance(instance) + m.C_fleet_capital_cost(instance) + m.cycle_cost(instance) + m.squeeze_cycle_cost(instance) + m.R_energy_arbitrage_revenue(instance) + m.R_peak_shaving_revenue(instance)\n",
    "m.instance.obj = Objective(rule=new_obj, sense=minimize)\n",
    "\n",
    "# Solve instance\n",
    "m.results = opt.solve(m.instance, tee=True, warmstart=True, options=solv_options)"
   ]
  },
  {
   "cell_type": "code",
   "execution_count": 71,
   "metadata": {},
   "outputs": [
    {
     "name": "stdout",
     "output_type": "stream",
     "text": [
      "\n",
      "Problem: \n",
      "- Name: x1167\n",
      "  Lower bound: 2526.7760449580874\n",
      "  Upper bound: 2526.89472943907\n",
      "  Number of objectives: 1\n",
      "  Number of constraints: 4683\n",
      "  Number of variables: 1167\n",
      "  Number of binary variables: 663\n",
      "  Number of integer variables: 663\n",
      "  Number of continuous variables: 504\n",
      "  Number of nonzeros: 2188\n",
      "  Sense: minimize\n",
      "Solver: \n",
      "- Status: ok\n",
      "  Return code: 0\n",
      "  Message: Model was solved to optimality (subject to tolerances), and an optimal solution is available.\n",
      "  Termination condition: optimal\n",
      "  Termination message: Model was solved to optimality (subject to tolerances), and an optimal solution is available.\n",
      "  Wall time: 172.2982850074768\n",
      "  Error rc: 0\n",
      "  Time: 172.44134783744812\n",
      "Solution: \n",
      "- number of solutions: 0\n",
      "  number of solutions displayed: 0\n",
      "\n"
     ]
    }
   ],
   "source": [
    "print(m.results)"
   ]
  },
  {
   "cell_type": "code",
   "execution_count": 41,
   "metadata": {},
   "outputs": [
    {
     "name": "stdout",
     "output_type": "stream",
     "text": [
      "Using license file /Users/ramiariss/gurobi.lic\n",
      "Academic license - for non-commercial use only - expires 2021-03-21\n",
      "Read LP format model from file /var/folders/vv/1p3h17yx43n9m7k86th68_ym0000gn/T/tmpqznnao55.pyomo.lp\n",
      "Reading time = 0.05 seconds\n",
      "x1167: 616 rows, 1167 columns, 2188 nonzeros\n",
      "Read MIP start from file /var/folders/vv/1p3h17yx43n9m7k86th68_ym0000gn/T/tmpm384wndj.gurobi.mst\n",
      "Changed value of parameter TimeLimit to 300.0\n",
      "   Prev: inf  Min: 0.0  Max: inf  Default: inf\n",
      "Gurobi Optimizer version 9.1.0 build v9.1.0rc0 (mac64)\n",
      "Thread count: 4 physical cores, 8 logical processors, using up to 8 threads\n",
      "Optimize a model with 616 rows, 1167 columns and 2188 nonzeros\n",
      "Model fingerprint: 0xe76e6c8f\n",
      "Model has 7228 quadratic objective terms\n",
      "Model has 4067 quadratic constraints\n",
      "Variable types: 504 continuous, 663 integer (663 binary)\n",
      "Coefficient statistics:\n",
      "  Matrix range     [1e+00, 4e+03]\n",
      "  QMatrix range    [1e+00, 3e+01]\n",
      "  QLMatrix range   [1e+00, 3e+03]\n",
      "  Objective range  [3e+00, 1e+03]\n",
      "  QObjective range [6e-02, 2e+01]\n",
      "  Bounds range     [1e+00, 1e+00]\n",
      "  RHS range        [1e+00, 3e+03]\n",
      "  QRHS range       [3e-01, 3e+03]\n",
      "\n",
      "User MIP start produced solution with objective 2526.89 (0.01s)\n",
      "Loaded user MIP start with objective 2526.89\n",
      "\n",
      "Presolve added 673 rows and 0 columns\n",
      "Presolve removed 0 rows and 44 columns\n",
      "Presolve time: 0.18s\n",
      "Presolved: 11562 rows, 9367 columns, 94684 nonzeros\n",
      "Presolved model has 904 SOS constraint(s)\n",
      "Variable types: 1521 continuous, 7846 integer (7837 binary)\n",
      "\n",
      "Root relaxation: objective 4.098205e+02, 3522 iterations, 0.22 seconds\n",
      "\n",
      "    Nodes    |    Current Node    |     Objective Bounds      |     Work\n",
      " Expl Unexpl |  Obj  Depth IntInf | Incumbent    BestBd   Gap | It/Node Time\n",
      "\n",
      "     0     0  409.82052    0  955 2526.89473  409.82052  83.8%     -    0s\n",
      "     0     0  480.98050    0  666 2526.89473  480.98050  81.0%     -    1s\n",
      "     0     0  482.56969    0  817 2526.89473  482.56969  80.9%     -    2s\n",
      "     0     0  482.71267    0  796 2526.89473  482.71267  80.9%     -    2s\n",
      "     0     0  497.23535    0  823 2526.89473  497.23535  80.3%     -    2s\n",
      "     0     0  498.82499    0  723 2526.89473  498.82499  80.3%     -    2s\n",
      "     0     0  498.92983    0  912 2526.89473  498.92983  80.3%     -    2s\n",
      "     0     0  508.78470    0  774 2526.89473  508.78470  79.9%     -    3s\n",
      "     0     0  508.95186    0  771 2526.89473  508.95186  79.9%     -    3s\n",
      "     0     0  510.62929    0  787 2526.89473  510.62929  79.8%     -    3s\n",
      "     0     0  517.08329    0  938 2526.89473  517.08329  79.5%     -    3s\n",
      "     0     0  517.69454    0  947 2526.89473  517.69454  79.5%     -    3s\n",
      "     0     0  518.09033    0  967 2526.89473  518.09033  79.5%     -    4s\n",
      "     0     0  518.10833    0  969 2526.89473  518.10833  79.5%     -    4s\n",
      "     0     0  518.26628    0  946 2526.89473  518.26628  79.5%     -    4s\n",
      "     0     0  518.26628    0  946 2526.89473  518.26628  79.5%     -    5s\n",
      "     0     2  518.31533    0  941 2526.89473  518.31533  79.5%     -    5s\n",
      "   155   112 1795.45043   19  622 2526.89473  531.80202  79.0%   452   10s\n",
      "   597   250 2007.47456   11  324 2526.89473  578.24857  77.1%   339   15s\n",
      "   918   338 1618.44251   17  494 2526.89473  590.46029  76.6%   369   20s\n",
      "  1059   351 infeasible   13      2526.89473  599.10307  76.3%   362   25s\n",
      "  1587   436 1611.32964   20  683 2526.89473  810.98550  67.9%   347   30s\n",
      "  2145   416 1655.24071   11  620 2526.89473 1279.20156  49.4%   331   35s\n",
      "  2719   466 2511.76883   19  650 2526.89473 1492.38453  40.9%   333   40s\n",
      "  3159   458     cutoff   14      2526.89473 1535.26306  39.2%   331   45s\n",
      "  4131   163     cutoff   13      2526.89473 1602.61237  36.6%   301   51s\n",
      "  4717   165 2504.25215   24  421 2526.89473 1615.13676  36.1%   287   55s\n",
      "  6718   984 2517.20940   50 3664 2526.89473 2504.64266  0.88%   212   61s\n",
      "  6730   995 2504.64266   10 1031 2526.89473 2504.64266  0.88%   213   65s\n",
      "  6835  1020 2504.64266   21  519 2526.89473 2504.64266  0.88%   220   70s\n",
      "  6986  1029     cutoff   21      2526.89473 2504.64266  0.88%   230   75s\n",
      "  7170  1019 infeasible   19      2526.89473 2504.64266  0.88%   235   80s\n",
      "  7302   994 infeasible   27      2526.89473 2504.64266  0.88%   242   85s\n",
      "  7522   913 2504.64266   19  550 2526.89473 2504.64266  0.88%   254   90s\n",
      "  7760   815 2504.64266   24  331 2526.89473 2504.64266  0.88%   264   96s\n",
      "  7935   786 2510.79725   38  410 2526.89473 2504.64266  0.88%   267  101s\n",
      "  8007   784     cutoff   30      2526.89473 2504.64266  0.88%   270  105s\n",
      "  8258   725 infeasible   32      2526.89473 2504.64266  0.88%   279  110s\n",
      "  8495   652     cutoff   34      2526.89473 2504.64266  0.88%   285  115s\n",
      "  8741   534     cutoff   28      2526.89473 2504.64266  0.88%   293  121s\n",
      "  9021   357 infeasible   27      2526.89473 2504.64266  0.88%   302  126s\n",
      "  9283   299 2526.80824   54   17 2526.89473 2504.64266  0.88%   308  130s\n",
      " 10788   456     cutoff   63      2526.89473 2522.86454  0.16%   272  138s\n",
      " 11304   233     cutoff   83      2526.89473 2522.90199  0.16%   261  140s\n",
      "\n",
      "Cutting planes:\n",
      "  Learned: 4\n",
      "  Cover: 12\n",
      "  Implied bound: 352\n",
      "  MIR: 84\n",
      "  Flow cover: 4\n",
      "  GUB cover: 4\n",
      "  Inf proof: 1\n",
      "  RLT: 52\n",
      "  Relax-and-lift: 9\n",
      "\n",
      "Explored 13118 nodes (2975063 simplex iterations) in 141.51 seconds\n",
      "Thread count was 8 (of 8 available processors)\n",
      "\n",
      "Solution count 2: 2526.89 2526.89 \n",
      "\n",
      "Optimal solution found (tolerance 1.00e-04)\n",
      "Best objective 2.526894729439e+03, best bound 2.526798241358e+03, gap 0.0038%\n"
     ]
    }
   ],
   "source": [
    "# Testing if instatiating and running same model improves results\n",
    "m.results2_ = opt.solve(m.instance2, tee=True, warmstart=True, options=solv_options)"
   ]
  },
  {
   "cell_type": "code",
   "execution_count": 42,
   "metadata": {},
   "outputs": [
    {
     "name": "stdout",
     "output_type": "stream",
     "text": [
      "\n",
      "Problem: \n",
      "- Name: x1167\n",
      "  Lower bound: 2526.798241357909\n",
      "  Upper bound: 2526.89472943907\n",
      "  Number of objectives: 1\n",
      "  Number of constraints: 4683\n",
      "  Number of variables: 1167\n",
      "  Number of binary variables: 663\n",
      "  Number of integer variables: 663\n",
      "  Number of continuous variables: 504\n",
      "  Number of nonzeros: 2188\n",
      "  Sense: minimize\n",
      "Solver: \n",
      "- Status: ok\n",
      "  Return code: 0\n",
      "  Message: Model was solved to optimality (subject to tolerances), and an optimal solution is available.\n",
      "  Termination condition: optimal\n",
      "  Termination message: Model was solved to optimality (subject to tolerances), and an optimal solution is available.\n",
      "  Wall time: 141.50823402404785\n",
      "  Error rc: 0\n",
      "  Time: 141.64564609527588\n",
      "Solution: \n",
      "- number of solutions: 0\n",
      "  number of solutions displayed: 0\n",
      "\n"
     ]
    }
   ],
   "source": [
    "print(m.results2_)"
   ]
  },
  {
   "cell_type": "code",
   "execution_count": 66,
   "metadata": {
    "scrolled": false
   },
   "outputs": [
    {
     "name": "stderr",
     "output_type": "stream",
     "text": [
      "2021-01-26 01:21:44 INFO     Building abstract model\n",
      "2021-01-26 01:21:44 INFO     Defining parameters and sets\n",
      "2021-01-26 01:21:44 INFO     Defining variables\n",
      "2021-01-26 01:21:44 INFO     Defining constraints\n",
      "2021-01-26 01:21:44 INFO     Defining objective\n",
      "2021-01-26 01:21:44 INFO     Importing EVRPTW MILP instance: c205c10_e\n",
      "2021-01-26 01:21:44 INFO     Reading CSV\n",
      "2021-01-26 01:21:44 INFO     Creating graph\n",
      "2021-01-26 01:21:44 INFO     Creating timeseries data\n",
      "2021-01-26 01:21:44 INFO     Creating duplicates and extended graph\n",
      "2021-01-26 01:21:44 INFO     Calculating distance matrix\n",
      "2021-01-26 01:21:44 INFO     Creating parameters\n",
      "2021-01-26 01:21:44 INFO     Creating instance\n",
      "2021-01-26 01:21:44 INFO     Solving instance...\n"
     ]
    },
    {
     "name": "stdout",
     "output_type": "stream",
     "text": [
      "Using license file /Users/ramiariss/gurobi.lic\n",
      "Academic license - for non-commercial use only - expires 2021-03-21\n",
      "Read LP format model from file /var/folders/vv/1p3h17yx43n9m7k86th68_ym0000gn/T/tmp_0ompvr9.pyomo.lp\n",
      "Reading time = 0.05 seconds\n",
      "x1167: 616 rows, 1164 columns, 2188 nonzeros\n",
      "Changed value of parameter TimeLimit to 300.0\n",
      "   Prev: inf  Min: 0.0  Max: inf  Default: inf\n",
      "Gurobi Optimizer version 9.1.0 build v9.1.0rc0 (mac64)\n",
      "Thread count: 4 physical cores, 8 logical processors, using up to 8 threads\n",
      "Optimize a model with 616 rows, 1164 columns and 2188 nonzeros\n",
      "Model fingerprint: 0x2691545b\n",
      "Model has 7228 quadratic objective terms\n",
      "Model has 3728 quadratic constraints\n",
      "Variable types: 501 continuous, 663 integer (663 binary)\n",
      "Coefficient statistics:\n",
      "  Matrix range     [1e+00, 4e+03]\n",
      "  QMatrix range    [1e+00, 3e+01]\n",
      "  QLMatrix range   [1e+00, 3e+03]\n",
      "  Objective range  [3e+00, 1e+03]\n",
      "  QObjective range [6e-02, 2e+01]\n",
      "  Bounds range     [1e+00, 1e+00]\n",
      "  RHS range        [1e+00, 3e+03]\n",
      "  QRHS range       [3e-01, 3e+03]\n",
      "Presolve added 673 rows and 0 columns\n",
      "Presolve removed 0 rows and 42 columns\n",
      "Presolve time: 0.19s\n",
      "Presolved: 11449 rows, 9366 columns, 94345 nonzeros\n",
      "Presolved model has 904 SOS constraint(s)\n",
      "Variable types: 1520 continuous, 7846 integer (7837 binary)\n",
      "\n",
      "Root relaxation: objective 1.152594e+02, 3526 iterations, 0.24 seconds\n",
      "\n",
      "    Nodes    |    Current Node    |     Objective Bounds      |     Work\n",
      " Expl Unexpl |  Obj  Depth IntInf | Incumbent    BestBd   Gap | It/Node Time\n",
      "\n",
      "     0     0  115.25945    0  942          -  115.25945      -     -    1s\n",
      "     0     0  182.62268    0  500          -  182.62268      -     -    2s\n",
      "     0     0  183.54370    0  984          -  183.54370      -     -    2s\n",
      "     0     0  184.11390    0  838          -  184.11390      -     -    2s\n",
      "     0     0  196.50516    0  835          -  196.50516      -     -    2s\n",
      "     0     0  197.28788    0  851          -  197.28788      -     -    3s\n",
      "     0     0  199.02500    0  775          -  199.02500      -     -    3s\n",
      "     0     0  199.26699    0  764          -  199.26699      -     -    3s\n",
      "     0     0  204.11985    0 1002          -  204.11985      -     -    4s\n",
      "     0     0  205.41828    0  950          -  205.41828      -     -    4s\n",
      "     0     0  205.81251    0  967          -  205.81251      -     -    4s\n",
      "     0     0  206.58733    0  910          -  206.58733      -     -    4s\n",
      "H    0     0                    6389.3254043  206.58733  96.8%     -    4s\n",
      "     0     0  206.58733    0  910 6389.32540  206.58733  96.8%     -    4s\n",
      "H    0     0                    4317.2913858  206.63452  95.2%     -    5s\n",
      "H    0     0                    3312.3052424  206.63452  93.8%     -    5s\n",
      "     0     2  206.63452    0  910 3312.30524  206.63452  93.8%     -    5s\n",
      "H   29    33                    3275.8636914  233.83348  92.9%   576    7s\n",
      "H   31    33                    3275.4623262  233.83348  92.9%   564    7s\n",
      "H  100    99                    2372.1197322  233.83348  90.1%   478    9s\n",
      "H  160   140                    2371.7297322  233.83348  90.1%   349    9s\n",
      "*  179   141              43    2371.6997322  233.83348  90.1%   331    9s\n",
      "   242   152  309.04962    7  593 2371.69973  237.78408  90.0%   293   10s\n",
      "H  300   188                    2236.4902085  237.78408  89.4%   302   12s\n",
      "H  525   232                    2235.1125272  243.78296  89.1%   265   14s\n",
      "   705   370 2232.11642  179   18 2235.11253  243.78296  89.1%   226   15s\n",
      "H  733   370                    2233.3310621  243.78296  89.1%   217   15s\n",
      "H  924   397                    2232.0058749  256.49453  88.5%   218   17s\n",
      "H  932   322                    2230.0465738  256.49453  88.5%   220   17s\n",
      "H 1080   360                    2229.8365738  261.99031  88.3%   224   19s\n",
      "  1185   390  297.33915   12  631 2229.83657  262.65882  88.2%   229   20s\n",
      "H 1403   426                    2229.8065738  281.00580  87.4%   244   23s\n",
      "  1448   442 1020.27245   12  465 2229.80657  281.00580  87.4%   254   27s\n",
      "H 1450   442                    2229.7765738  281.00580  87.4%   253   27s\n",
      "  1593   472  569.33943   12  615 2229.77657  286.85335  87.1%   253   30s\n",
      "  2198   537 1882.65612   13  391 2229.77657  378.91038  83.0%   264   35s\n",
      "  2964   538 infeasible   14      2229.77657  630.15222  71.7%   265   40s\n",
      "  3571   523 1229.55184    9  364 2229.77657 1031.45073  53.7%   267   45s\n",
      "  4013   562 1267.43250   18  564 2229.77657 1218.32600  45.4%   270   51s\n",
      "  4518   583 infeasible   13      2229.77657 1240.39250  44.4%   272   55s\n",
      "  5077   631 2224.15855   25 3669 2229.77657 1256.99676  43.6%   268   60s\n",
      "  5086   640 1256.99676   13  851 2229.77657 1256.99676  43.6%   269   66s\n",
      "  5092   643 1256.99676   15  795 2229.77657 1256.99676  43.6%   270   71s\n",
      "  5100   646 1256.99676   16  841 2229.77657 1256.99676  43.6%   271   76s\n",
      "  5114   658 1256.99676   17  830 2229.77657 1256.99676  43.6%   272   80s\n",
      "  5144   674 1256.99676   20  508 2229.77657 1256.99676  43.6%   273   85s\n",
      "  5178   680 1256.99676   23  547 2229.77657 1256.99676  43.6%   277   90s\n",
      "  5234   687 1284.00188   27  433 2229.77657 1256.99676  43.6%   285   95s\n",
      "  5308   679 infeasible   22      2229.77657 1256.99676  43.6%   295  100s\n",
      "  5377   672 1256.99676   24  650 2229.77657 1256.99676  43.6%   304  105s\n",
      "  5487   672 1256.99676   25 1004 2229.77657 1256.99676  43.6%   313  110s\n",
      "  5602   654 1345.92822   26  276 2229.77657 1256.99676  43.6%   324  115s\n",
      "  5704   637 infeasible   22      2229.77657 1256.99676  43.6%   332  120s\n",
      "  5831   622 infeasible   36      2229.77657 1256.99676  43.6%   344  125s\n",
      "  5967   590 1784.35828   39  678 2229.77657 1256.99676  43.6%   351  130s\n",
      "  6118   541 infeasible   23      2229.77657 1256.99676  43.6%   361  136s\n",
      "  6235   498 1324.26054   25  632 2229.77657 1256.99676  43.6%   367  141s\n",
      "  6268   487 1489.02201   28  315 2229.77657 1256.99676  43.6%   369  145s\n",
      "  6346   465 1256.99676   19  603 2229.77657 1256.99676  43.6%   371  150s\n",
      "  6462   394     cutoff   21      2229.77657 1256.99676  43.6%   379  158s\n",
      "  6568   370 infeasible   31      2229.77657 1256.99676  43.6%   384  160s\n",
      "  6760   370 1276.96742   25  625 2229.77657 1256.99676  43.6%   396  167s\n",
      "  6891   338 infeasible   23      2229.77657 1256.99676  43.6%   397  171s\n",
      "  7028   316 1271.59622   25  582 2229.77657 1256.99676  43.6%   406  178s\n",
      "  7105   329     cutoff   38      2229.77657 1256.99676  43.6%   411  181s\n",
      "  7301   350 1373.44398   29  497 2229.77657 1256.99676  43.6%   423  188s\n",
      "  7505   408     cutoff   22      2229.77657 1256.99676  43.6%   428  192s\n",
      "  7642   418     cutoff   24      2229.77657 1256.99676  43.6%   428  196s\n",
      "  7756   406 infeasible   25      2229.77657 1256.99676  43.6%   435  200s\n",
      "  7863   409 1293.88428   30  849 2229.77657 1256.99676  43.6%   441  205s\n",
      "  7959   404 1256.99676   27  804 2229.77657 1256.99676  43.6%   447  210s\n",
      "  8078   403 1292.20082   30  496 2229.77657 1256.99676  43.6%   455  215s\n",
      "  8265   419 1513.37803   34  575 2229.77657 1256.99676  43.6%   460  220s\n",
      "  8780   374     cutoff   32      2229.77657 1256.99676  43.6%   469  230s\n",
      "  8934   321     cutoff   32      2229.77657 1260.96095  43.4%   473  236s\n",
      "  9198   198 infeasible   27      2229.77657 1281.97945  42.5%   477  241s\n",
      "  9535   520     cutoff   29      2229.77657 1308.06424  41.3%   480  247s\n",
      "* 9618   520              51    2229.7641260 1308.06424  41.3%   478  247s\n",
      "H10349   520                    2229.1551272 2211.97767  0.77%   449  247s\n",
      "H10362   520                    2228.6451272 2211.97767  0.75%   449  247s\n",
      "H10386   520                    2228.1351272 2211.97767  0.73%   448  247s\n",
      "H10647   950                    2228.1051272 2225.40093  0.12%   437  248s\n",
      "H10784   950                    2228.0751272 2225.40175  0.12%   431  248s\n",
      "\n",
      "Cutting planes:\n",
      "  Learned: 3\n",
      "  Gomory: 52\n",
      "  Cover: 7\n",
      "  Implied bound: 411\n",
      "  MIR: 43\n",
      "  Flow cover: 20\n",
      "  GUB cover: 1\n",
      "  RLT: 405\n",
      "  Relax-and-lift: 6\n",
      "\n",
      "Explored 11599 nodes (4666001 simplex iterations) in 248.48 seconds\n",
      "Thread count was 8 (of 8 available processors)\n",
      "\n",
      "Solution count 10: 2228.08 2228.11 2228.14 ... 2230.05\n",
      "\n",
      "Optimal solution found (tolerance 1.00e-04)\n",
      "Best objective 2.228075127180e+03, best bound 2.227864835700e+03, gap 0.0094%\n"
     ]
    },
    {
     "name": "stderr",
     "output_type": "stream",
     "text": [
      "2021-01-26 01:25:55 INFO     Done\n"
     ]
    }
   ],
   "source": [
    "m = EVRPTW()\n",
    "m.solve(fpath)"
   ]
  },
  {
   "cell_type": "code",
   "execution_count": 67,
   "metadata": {},
   "outputs": [
    {
     "name": "stdout",
     "output_type": "stream",
     "text": [
      "\n",
      "Problem: \n",
      "- Name: x1167\n",
      "  Lower bound: 2227.864835700024\n",
      "  Upper bound: 2228.075127179693\n",
      "  Number of objectives: 1\n",
      "  Number of constraints: 4344\n",
      "  Number of variables: 1164\n",
      "  Number of binary variables: 663\n",
      "  Number of integer variables: 663\n",
      "  Number of continuous variables: 501\n",
      "  Number of nonzeros: 2188\n",
      "  Sense: minimize\n",
      "Solver: \n",
      "- Status: ok\n",
      "  Return code: 0\n",
      "  Message: Model was solved to optimality (subject to tolerances), and an optimal solution is available.\n",
      "  Termination condition: optimal\n",
      "  Termination message: Model was solved to optimality (subject to tolerances), and an optimal solution is available.\n",
      "  Wall time: 248.47722387313843\n",
      "  Error rc: 0\n",
      "  Time: 248.62270522117615\n",
      "Solution: \n",
      "- number of solutions: 0\n",
      "  number of solutions displayed: 0\n",
      "\n"
     ]
    }
   ],
   "source": [
    "print(m.results)"
   ]
  },
  {
   "cell_type": "code",
   "execution_count": 72,
   "metadata": {},
   "outputs": [],
   "source": [
    "var_list = ['xkappa', 'xp']\n",
    "xp = merge_variable_results(m, var_list)"
   ]
  },
  {
   "cell_type": "code",
   "execution_count": 73,
   "metadata": {},
   "outputs": [
    {
     "data": {
      "text/html": [
       "<div>\n",
       "<style scoped>\n",
       "    .dataframe tbody tr th:only-of-type {\n",
       "        vertical-align: middle;\n",
       "    }\n",
       "\n",
       "    .dataframe tbody tr th {\n",
       "        vertical-align: top;\n",
       "    }\n",
       "\n",
       "    .dataframe thead th {\n",
       "        text-align: right;\n",
       "    }\n",
       "</style>\n",
       "<table border=\"1\" class=\"dataframe\">\n",
       "  <thead>\n",
       "    <tr style=\"text-align: right;\">\n",
       "      <th></th>\n",
       "      <th>t</th>\n",
       "      <th>state</th>\n",
       "      <th>xp</th>\n",
       "    </tr>\n",
       "    <tr>\n",
       "      <th>node</th>\n",
       "      <th></th>\n",
       "      <th></th>\n",
       "      <th></th>\n",
       "    </tr>\n",
       "  </thead>\n",
       "  <tbody>\n",
       "    <tr>\n",
       "      <th>S0_0</th>\n",
       "      <td>4680</td>\n",
       "      <td>3.0</td>\n",
       "      <td>-0.723100</td>\n",
       "    </tr>\n",
       "    <tr>\n",
       "      <th>S0_1</th>\n",
       "      <td>1170</td>\n",
       "      <td>6.0</td>\n",
       "      <td>-1.566477</td>\n",
       "    </tr>\n",
       "    <tr>\n",
       "      <th>S15_0</th>\n",
       "      <td>5130</td>\n",
       "      <td>9.0</td>\n",
       "      <td>2.457878</td>\n",
       "    </tr>\n",
       "    <tr>\n",
       "      <th>S3_0</th>\n",
       "      <td>4680</td>\n",
       "      <td>8.0</td>\n",
       "      <td>2.305476</td>\n",
       "    </tr>\n",
       "  </tbody>\n",
       "</table>\n",
       "</div>"
      ],
      "text/plain": [
       "          t  state        xp\n",
       "node                        \n",
       "S0_0   4680    3.0 -0.723100\n",
       "S0_1   1170    6.0 -1.566477\n",
       "S15_0  5130    9.0  2.457878\n",
       "S3_0   4680    8.0  2.305476"
      ]
     },
     "execution_count": 73,
     "metadata": {},
     "output_type": "execute_result"
    }
   ],
   "source": [
    "xp = xp[xp['state']>1e-4].sort_values(['t'], ascending=True)\n",
    "# print(xp.to_string())\n",
    "xp.groupby('node').sum()"
   ]
  },
  {
   "cell_type": "code",
   "execution_count": null,
   "metadata": {},
   "outputs": [],
   "source": []
  },
  {
   "cell_type": "code",
   "execution_count": 74,
   "metadata": {},
   "outputs": [],
   "source": [
    "var_list = ['xgamma', 'xw', 'xq', 'xa']\n",
    "x = merge_variable_results(m, var_list)"
   ]
  },
  {
   "cell_type": "code",
   "execution_count": 75,
   "metadata": {},
   "outputs": [
    {
     "data": {
      "text/html": [
       "<div>\n",
       "<style scoped>\n",
       "    .dataframe tbody tr th:only-of-type {\n",
       "        vertical-align: middle;\n",
       "    }\n",
       "\n",
       "    .dataframe tbody tr th {\n",
       "        vertical-align: top;\n",
       "    }\n",
       "\n",
       "    .dataframe thead th {\n",
       "        text-align: right;\n",
       "    }\n",
       "</style>\n",
       "<table border=\"1\" class=\"dataframe\">\n",
       "  <thead>\n",
       "    <tr style=\"text-align: right;\">\n",
       "      <th></th>\n",
       "      <th>from</th>\n",
       "      <th>to</th>\n",
       "      <th>state</th>\n",
       "      <th>xw</th>\n",
       "      <th>xq</th>\n",
       "      <th>xa</th>\n",
       "    </tr>\n",
       "  </thead>\n",
       "  <tbody>\n",
       "    <tr>\n",
       "      <th>29</th>\n",
       "      <td>D0</td>\n",
       "      <td>S0_1</td>\n",
       "      <td>1.0</td>\n",
       "      <td>0.000000</td>\n",
       "      <td>70.0</td>\n",
       "      <td>77.750000</td>\n",
       "    </tr>\n",
       "    <tr>\n",
       "      <th>71</th>\n",
       "      <td>D0</td>\n",
       "      <td>C8</td>\n",
       "      <td>1.0</td>\n",
       "      <td>12.000000</td>\n",
       "      <td>700.0</td>\n",
       "      <td>66.088096</td>\n",
       "    </tr>\n",
       "    <tr>\n",
       "      <th>90</th>\n",
       "      <td>C8</td>\n",
       "      <td>C9</td>\n",
       "      <td>1.0</td>\n",
       "      <td>138.000000</td>\n",
       "      <td>680.0</td>\n",
       "      <td>54.426192</td>\n",
       "    </tr>\n",
       "    <tr>\n",
       "      <th>101</th>\n",
       "      <td>S0_1</td>\n",
       "      <td>C47</td>\n",
       "      <td>1.0</td>\n",
       "      <td>318.027756</td>\n",
       "      <td>70.0</td>\n",
       "      <td>12.727922</td>\n",
       "    </tr>\n",
       "    <tr>\n",
       "      <th>203</th>\n",
       "      <td>C9</td>\n",
       "      <td>C15</td>\n",
       "      <td>1.0</td>\n",
       "      <td>331.000000</td>\n",
       "      <td>670.0</td>\n",
       "      <td>41.619944</td>\n",
       "    </tr>\n",
       "    <tr>\n",
       "      <th>63</th>\n",
       "      <td>C47</td>\n",
       "      <td>S15_0</td>\n",
       "      <td>1.0</td>\n",
       "      <td>450.000000</td>\n",
       "      <td>60.0</td>\n",
       "      <td>0.000000</td>\n",
       "    </tr>\n",
       "    <tr>\n",
       "      <th>56</th>\n",
       "      <td>C15</td>\n",
       "      <td>S3_0</td>\n",
       "      <td>1.0</td>\n",
       "      <td>459.000000</td>\n",
       "      <td>630.0</td>\n",
       "      <td>4.565929</td>\n",
       "    </tr>\n",
       "    <tr>\n",
       "      <th>130</th>\n",
       "      <td>S3_0</td>\n",
       "      <td>C94</td>\n",
       "      <td>1.0</td>\n",
       "      <td>728.000000</td>\n",
       "      <td>630.0</td>\n",
       "      <td>65.730194</td>\n",
       "    </tr>\n",
       "    <tr>\n",
       "      <th>178</th>\n",
       "      <td>C94</td>\n",
       "      <td>C99</td>\n",
       "      <td>1.0</td>\n",
       "      <td>828.198039</td>\n",
       "      <td>620.0</td>\n",
       "      <td>55.532155</td>\n",
       "    </tr>\n",
       "    <tr>\n",
       "      <th>152</th>\n",
       "      <td>C99</td>\n",
       "      <td>C75</td>\n",
       "      <td>1.0</td>\n",
       "      <td>1099.000000</td>\n",
       "      <td>20.0</td>\n",
       "      <td>37.504399</td>\n",
       "    </tr>\n",
       "    <tr>\n",
       "      <th>24</th>\n",
       "      <td>C75</td>\n",
       "      <td>S0_0</td>\n",
       "      <td>1.0</td>\n",
       "      <td>1205.000000</td>\n",
       "      <td>0.0</td>\n",
       "      <td>21.693011</td>\n",
       "    </tr>\n",
       "    <tr>\n",
       "      <th>117</th>\n",
       "      <td>S15_0</td>\n",
       "      <td>C60</td>\n",
       "      <td>1.0</td>\n",
       "      <td>1632.000000</td>\n",
       "      <td>60.0</td>\n",
       "      <td>52.358789</td>\n",
       "    </tr>\n",
       "    <tr>\n",
       "      <th>191</th>\n",
       "      <td>C60</td>\n",
       "      <td>C56</td>\n",
       "      <td>1.0</td>\n",
       "      <td>1817.000000</td>\n",
       "      <td>40.0</td>\n",
       "      <td>47.358789</td>\n",
       "    </tr>\n",
       "    <tr>\n",
       "      <th>167</th>\n",
       "      <td>C56</td>\n",
       "      <td>C66</td>\n",
       "      <td>1.0</td>\n",
       "      <td>2633.000000</td>\n",
       "      <td>10.0</td>\n",
       "      <td>16.552945</td>\n",
       "    </tr>\n",
       "    <tr>\n",
       "      <th>1</th>\n",
       "      <td>S0_0</td>\n",
       "      <td>D1</td>\n",
       "      <td>1.0</td>\n",
       "      <td>3390.000000</td>\n",
       "      <td>0.0</td>\n",
       "      <td>0.000000</td>\n",
       "    </tr>\n",
       "    <tr>\n",
       "      <th>11</th>\n",
       "      <td>C66</td>\n",
       "      <td>D1</td>\n",
       "      <td>1.0</td>\n",
       "      <td>3390.000000</td>\n",
       "      <td>0.0</td>\n",
       "      <td>0.000000</td>\n",
       "    </tr>\n",
       "  </tbody>\n",
       "</table>\n",
       "</div>"
      ],
      "text/plain": [
       "      from     to  state           xw     xq         xa\n",
       "29      D0   S0_1    1.0     0.000000   70.0  77.750000\n",
       "71      D0     C8    1.0    12.000000  700.0  66.088096\n",
       "90      C8     C9    1.0   138.000000  680.0  54.426192\n",
       "101   S0_1    C47    1.0   318.027756   70.0  12.727922\n",
       "203     C9    C15    1.0   331.000000  670.0  41.619944\n",
       "63     C47  S15_0    1.0   450.000000   60.0   0.000000\n",
       "56     C15   S3_0    1.0   459.000000  630.0   4.565929\n",
       "130   S3_0    C94    1.0   728.000000  630.0  65.730194\n",
       "178    C94    C99    1.0   828.198039  620.0  55.532155\n",
       "152    C99    C75    1.0  1099.000000   20.0  37.504399\n",
       "24     C75   S0_0    1.0  1205.000000    0.0  21.693011\n",
       "117  S15_0    C60    1.0  1632.000000   60.0  52.358789\n",
       "191    C60    C56    1.0  1817.000000   40.0  47.358789\n",
       "167    C56    C66    1.0  2633.000000   10.0  16.552945\n",
       "1     S0_0     D1    1.0  3390.000000    0.0   0.000000\n",
       "11     C66     D1    1.0  3390.000000    0.0   0.000000"
      ]
     },
     "execution_count": 75,
     "metadata": {},
     "output_type": "execute_result"
    }
   ],
   "source": [
    "x[x['state']>1e-4].sort_values(['xw'])"
   ]
  },
  {
   "cell_type": "code",
   "execution_count": 76,
   "metadata": {},
   "outputs": [
    {
     "data": {
      "text/plain": [
       "229.71328011074743"
      ]
     },
     "execution_count": 76,
     "metadata": {},
     "output_type": "execute_result"
    }
   ],
   "source": [
    "test = x[x['state']>1e-4].sort_values(['xw'])\n",
    "route = zip(test['from'], test['to'])\n",
    "sum([m.data['d'].loc[fr, to] for fr, to in route])"
   ]
  },
  {
   "cell_type": "code",
   "execution_count": 77,
   "metadata": {},
   "outputs": [],
   "source": [
    "e, e_flat = create_optimal_edges(m, x=x, graph='V_')"
   ]
  },
  {
   "cell_type": "code",
   "execution_count": 78,
   "metadata": {},
   "outputs": [
    {
     "data": {
      "application/vnd.plotly.v1+json": {
       "config": {
        "plotlyServerURL": "https://plot.ly"
       },
       "data": [
        {
         "customdata": [
          [
           [
            "d"
           ]
          ],
          [
           [
            "d"
           ]
          ],
          [
           [
            "s"
           ]
          ],
          [
           [
            "s"
           ]
          ],
          [
           [
            "s"
           ]
          ],
          [
           [
            "m"
           ]
          ],
          [
           [
            "m"
           ]
          ],
          [
           [
            "m"
           ]
          ],
          [
           [
            "m"
           ]
          ],
          [
           [
            "m"
           ]
          ],
          [
           [
            "m"
           ]
          ],
          [
           [
            "m"
           ]
          ],
          [
           [
            "m"
           ]
          ],
          [
           [
            "m"
           ]
          ],
          [
           [
            "m"
           ]
          ]
         ],
         "hoverinfo": "none",
         "hovertemplate": "<b>%{text}</b>: %{customdata[0]}<br>X: %{x}<br>Y: %{y}",
         "marker": {
          "color": [
           "rgba(191, 243, 180, 0.8)",
           "rgba(191, 243, 180, 0.8)",
           "rgba(167, 215, 241, 0.8)",
           "rgba(167, 215, 241, 0.8)",
           "rgba(167, 215, 241, 0.8)",
           "rgba(240, 169, 171, 0.8)",
           "rgba(240, 169, 171, 0.8)",
           "rgba(240, 169, 171, 0.8)",
           "rgba(240, 169, 171, 0.8)",
           "rgba(240, 169, 171, 0.8)",
           "rgba(240, 169, 171, 0.8)",
           "rgba(240, 169, 171, 0.8)",
           "rgba(240, 169, 171, 0.8)",
           "rgba(240, 169, 171, 0.8)",
           "rgba(240, 169, 171, 0.8)"
          ],
          "size": 25
         },
         "mode": "markers+text",
         "name": "Nodes",
         "showlegend": true,
         "text": [
          "D0",
          "D1",
          "S0",
          "S3",
          "S15",
          "C8",
          "C9",
          "C47",
          "C60",
          "C94",
          "C75",
          "C66",
          "C99",
          "C56",
          "C15"
         ],
         "type": "scatter",
         "x": [
          40,
          40,
          40,
          57,
          39,
          34,
          28,
          30,
          35,
          65,
          45,
          47,
          55,
          40,
          20
         ],
         "y": [
          50,
          50,
          50,
          82,
          26,
          60,
          70,
          35,
          5,
          82,
          65,
          35,
          80,
          5,
          80
         ]
        }
       ],
       "layout": {
        "annotations": [
         {
          "arrowcolor": "#888",
          "arrowhead": 2,
          "arrowsize": 1,
          "arrowwidth": 2,
          "ax": 40,
          "axref": "x",
          "ay": 50,
          "ayref": "y",
          "showarrow": true,
          "text": "",
          "x": 40,
          "xref": "x",
          "y": 50,
          "yref": "y"
         },
         {
          "arrowcolor": "#888",
          "arrowhead": 2,
          "arrowsize": 1,
          "arrowwidth": 2,
          "ax": 47,
          "axref": "x",
          "ay": 35,
          "ayref": "y",
          "showarrow": true,
          "text": "",
          "x": 40,
          "xref": "x",
          "y": 50,
          "yref": "y"
         },
         {
          "arrowcolor": "#888",
          "arrowhead": 2,
          "arrowsize": 1,
          "arrowwidth": 2,
          "ax": 45,
          "axref": "x",
          "ay": 65,
          "ayref": "y",
          "showarrow": true,
          "text": "",
          "x": 40,
          "xref": "x",
          "y": 50,
          "yref": "y"
         },
         {
          "arrowcolor": "#888",
          "arrowhead": 2,
          "arrowsize": 1,
          "arrowwidth": 2,
          "ax": 40,
          "axref": "x",
          "ay": 50,
          "ayref": "y",
          "showarrow": true,
          "text": "",
          "x": 40,
          "xref": "x",
          "y": 50,
          "yref": "y"
         },
         {
          "arrowcolor": "#888",
          "arrowhead": 2,
          "arrowsize": 1,
          "arrowwidth": 2,
          "ax": 20,
          "axref": "x",
          "ay": 80,
          "ayref": "y",
          "showarrow": true,
          "text": "",
          "x": 57,
          "xref": "x",
          "y": 82,
          "yref": "y"
         },
         {
          "arrowcolor": "#888",
          "arrowhead": 2,
          "arrowsize": 1,
          "arrowwidth": 2,
          "ax": 30,
          "axref": "x",
          "ay": 35,
          "ayref": "y",
          "showarrow": true,
          "text": "",
          "x": 39,
          "xref": "x",
          "y": 26,
          "yref": "y"
         },
         {
          "arrowcolor": "#888",
          "arrowhead": 2,
          "arrowsize": 1,
          "arrowwidth": 2,
          "ax": 40,
          "axref": "x",
          "ay": 50,
          "ayref": "y",
          "showarrow": true,
          "text": "",
          "x": 34,
          "xref": "x",
          "y": 60,
          "yref": "y"
         },
         {
          "arrowcolor": "#888",
          "arrowhead": 2,
          "arrowsize": 1,
          "arrowwidth": 2,
          "ax": 34,
          "axref": "x",
          "ay": 60,
          "ayref": "y",
          "showarrow": true,
          "text": "",
          "x": 28,
          "xref": "x",
          "y": 70,
          "yref": "y"
         },
         {
          "arrowcolor": "#888",
          "arrowhead": 2,
          "arrowsize": 1,
          "arrowwidth": 2,
          "ax": 40,
          "axref": "x",
          "ay": 50,
          "ayref": "y",
          "showarrow": true,
          "text": "",
          "x": 30,
          "xref": "x",
          "y": 35,
          "yref": "y"
         },
         {
          "arrowcolor": "#888",
          "arrowhead": 2,
          "arrowsize": 1,
          "arrowwidth": 2,
          "ax": 39,
          "axref": "x",
          "ay": 26,
          "ayref": "y",
          "showarrow": true,
          "text": "",
          "x": 35,
          "xref": "x",
          "y": 5,
          "yref": "y"
         },
         {
          "arrowcolor": "#888",
          "arrowhead": 2,
          "arrowsize": 1,
          "arrowwidth": 2,
          "ax": 57,
          "axref": "x",
          "ay": 82,
          "ayref": "y",
          "showarrow": true,
          "text": "",
          "x": 65,
          "xref": "x",
          "y": 82,
          "yref": "y"
         },
         {
          "arrowcolor": "#888",
          "arrowhead": 2,
          "arrowsize": 1,
          "arrowwidth": 2,
          "ax": 55,
          "axref": "x",
          "ay": 80,
          "ayref": "y",
          "showarrow": true,
          "text": "",
          "x": 45,
          "xref": "x",
          "y": 65,
          "yref": "y"
         },
         {
          "arrowcolor": "#888",
          "arrowhead": 2,
          "arrowsize": 1,
          "arrowwidth": 2,
          "ax": 40,
          "axref": "x",
          "ay": 5,
          "ayref": "y",
          "showarrow": true,
          "text": "",
          "x": 47,
          "xref": "x",
          "y": 35,
          "yref": "y"
         },
         {
          "arrowcolor": "#888",
          "arrowhead": 2,
          "arrowsize": 1,
          "arrowwidth": 2,
          "ax": 65,
          "axref": "x",
          "ay": 82,
          "ayref": "y",
          "showarrow": true,
          "text": "",
          "x": 55,
          "xref": "x",
          "y": 80,
          "yref": "y"
         },
         {
          "arrowcolor": "#888",
          "arrowhead": 2,
          "arrowsize": 1,
          "arrowwidth": 2,
          "ax": 35,
          "axref": "x",
          "ay": 5,
          "ayref": "y",
          "showarrow": true,
          "text": "",
          "x": 40,
          "xref": "x",
          "y": 5,
          "yref": "y"
         },
         {
          "arrowcolor": "#888",
          "arrowhead": 2,
          "arrowsize": 1,
          "arrowwidth": 2,
          "ax": 28,
          "axref": "x",
          "ay": 70,
          "ayref": "y",
          "showarrow": true,
          "text": "",
          "x": 20,
          "xref": "x",
          "y": 80,
          "yref": "y"
         }
        ],
        "height": 600,
        "showlegend": true,
        "template": {
         "data": {
          "bar": [
           {
            "error_x": {
             "color": "rgb(36,36,36)"
            },
            "error_y": {
             "color": "rgb(36,36,36)"
            },
            "marker": {
             "line": {
              "color": "white",
              "width": 0.5
             }
            },
            "type": "bar"
           }
          ],
          "barpolar": [
           {
            "marker": {
             "line": {
              "color": "white",
              "width": 0.5
             }
            },
            "type": "barpolar"
           }
          ],
          "carpet": [
           {
            "aaxis": {
             "endlinecolor": "rgb(36,36,36)",
             "gridcolor": "white",
             "linecolor": "white",
             "minorgridcolor": "white",
             "startlinecolor": "rgb(36,36,36)"
            },
            "baxis": {
             "endlinecolor": "rgb(36,36,36)",
             "gridcolor": "white",
             "linecolor": "white",
             "minorgridcolor": "white",
             "startlinecolor": "rgb(36,36,36)"
            },
            "type": "carpet"
           }
          ],
          "choropleth": [
           {
            "colorbar": {
             "outlinewidth": 1,
             "tickcolor": "rgb(36,36,36)",
             "ticks": "outside"
            },
            "type": "choropleth"
           }
          ],
          "contour": [
           {
            "colorbar": {
             "outlinewidth": 1,
             "tickcolor": "rgb(36,36,36)",
             "ticks": "outside"
            },
            "colorscale": [
             [
              0,
              "#440154"
             ],
             [
              0.1111111111111111,
              "#482878"
             ],
             [
              0.2222222222222222,
              "#3e4989"
             ],
             [
              0.3333333333333333,
              "#31688e"
             ],
             [
              0.4444444444444444,
              "#26828e"
             ],
             [
              0.5555555555555556,
              "#1f9e89"
             ],
             [
              0.6666666666666666,
              "#35b779"
             ],
             [
              0.7777777777777778,
              "#6ece58"
             ],
             [
              0.8888888888888888,
              "#b5de2b"
             ],
             [
              1,
              "#fde725"
             ]
            ],
            "type": "contour"
           }
          ],
          "contourcarpet": [
           {
            "colorbar": {
             "outlinewidth": 1,
             "tickcolor": "rgb(36,36,36)",
             "ticks": "outside"
            },
            "type": "contourcarpet"
           }
          ],
          "heatmap": [
           {
            "colorbar": {
             "outlinewidth": 1,
             "tickcolor": "rgb(36,36,36)",
             "ticks": "outside"
            },
            "colorscale": [
             [
              0,
              "#440154"
             ],
             [
              0.1111111111111111,
              "#482878"
             ],
             [
              0.2222222222222222,
              "#3e4989"
             ],
             [
              0.3333333333333333,
              "#31688e"
             ],
             [
              0.4444444444444444,
              "#26828e"
             ],
             [
              0.5555555555555556,
              "#1f9e89"
             ],
             [
              0.6666666666666666,
              "#35b779"
             ],
             [
              0.7777777777777778,
              "#6ece58"
             ],
             [
              0.8888888888888888,
              "#b5de2b"
             ],
             [
              1,
              "#fde725"
             ]
            ],
            "type": "heatmap"
           }
          ],
          "heatmapgl": [
           {
            "colorbar": {
             "outlinewidth": 1,
             "tickcolor": "rgb(36,36,36)",
             "ticks": "outside"
            },
            "colorscale": [
             [
              0,
              "#440154"
             ],
             [
              0.1111111111111111,
              "#482878"
             ],
             [
              0.2222222222222222,
              "#3e4989"
             ],
             [
              0.3333333333333333,
              "#31688e"
             ],
             [
              0.4444444444444444,
              "#26828e"
             ],
             [
              0.5555555555555556,
              "#1f9e89"
             ],
             [
              0.6666666666666666,
              "#35b779"
             ],
             [
              0.7777777777777778,
              "#6ece58"
             ],
             [
              0.8888888888888888,
              "#b5de2b"
             ],
             [
              1,
              "#fde725"
             ]
            ],
            "type": "heatmapgl"
           }
          ],
          "histogram": [
           {
            "marker": {
             "line": {
              "color": "white",
              "width": 0.6
             }
            },
            "type": "histogram"
           }
          ],
          "histogram2d": [
           {
            "colorbar": {
             "outlinewidth": 1,
             "tickcolor": "rgb(36,36,36)",
             "ticks": "outside"
            },
            "colorscale": [
             [
              0,
              "#440154"
             ],
             [
              0.1111111111111111,
              "#482878"
             ],
             [
              0.2222222222222222,
              "#3e4989"
             ],
             [
              0.3333333333333333,
              "#31688e"
             ],
             [
              0.4444444444444444,
              "#26828e"
             ],
             [
              0.5555555555555556,
              "#1f9e89"
             ],
             [
              0.6666666666666666,
              "#35b779"
             ],
             [
              0.7777777777777778,
              "#6ece58"
             ],
             [
              0.8888888888888888,
              "#b5de2b"
             ],
             [
              1,
              "#fde725"
             ]
            ],
            "type": "histogram2d"
           }
          ],
          "histogram2dcontour": [
           {
            "colorbar": {
             "outlinewidth": 1,
             "tickcolor": "rgb(36,36,36)",
             "ticks": "outside"
            },
            "colorscale": [
             [
              0,
              "#440154"
             ],
             [
              0.1111111111111111,
              "#482878"
             ],
             [
              0.2222222222222222,
              "#3e4989"
             ],
             [
              0.3333333333333333,
              "#31688e"
             ],
             [
              0.4444444444444444,
              "#26828e"
             ],
             [
              0.5555555555555556,
              "#1f9e89"
             ],
             [
              0.6666666666666666,
              "#35b779"
             ],
             [
              0.7777777777777778,
              "#6ece58"
             ],
             [
              0.8888888888888888,
              "#b5de2b"
             ],
             [
              1,
              "#fde725"
             ]
            ],
            "type": "histogram2dcontour"
           }
          ],
          "mesh3d": [
           {
            "colorbar": {
             "outlinewidth": 1,
             "tickcolor": "rgb(36,36,36)",
             "ticks": "outside"
            },
            "type": "mesh3d"
           }
          ],
          "parcoords": [
           {
            "line": {
             "colorbar": {
              "outlinewidth": 1,
              "tickcolor": "rgb(36,36,36)",
              "ticks": "outside"
             }
            },
            "type": "parcoords"
           }
          ],
          "pie": [
           {
            "automargin": true,
            "type": "pie"
           }
          ],
          "scatter": [
           {
            "marker": {
             "colorbar": {
              "outlinewidth": 1,
              "tickcolor": "rgb(36,36,36)",
              "ticks": "outside"
             }
            },
            "type": "scatter"
           }
          ],
          "scatter3d": [
           {
            "line": {
             "colorbar": {
              "outlinewidth": 1,
              "tickcolor": "rgb(36,36,36)",
              "ticks": "outside"
             }
            },
            "marker": {
             "colorbar": {
              "outlinewidth": 1,
              "tickcolor": "rgb(36,36,36)",
              "ticks": "outside"
             }
            },
            "type": "scatter3d"
           }
          ],
          "scattercarpet": [
           {
            "marker": {
             "colorbar": {
              "outlinewidth": 1,
              "tickcolor": "rgb(36,36,36)",
              "ticks": "outside"
             }
            },
            "type": "scattercarpet"
           }
          ],
          "scattergeo": [
           {
            "marker": {
             "colorbar": {
              "outlinewidth": 1,
              "tickcolor": "rgb(36,36,36)",
              "ticks": "outside"
             }
            },
            "type": "scattergeo"
           }
          ],
          "scattergl": [
           {
            "marker": {
             "colorbar": {
              "outlinewidth": 1,
              "tickcolor": "rgb(36,36,36)",
              "ticks": "outside"
             }
            },
            "type": "scattergl"
           }
          ],
          "scattermapbox": [
           {
            "marker": {
             "colorbar": {
              "outlinewidth": 1,
              "tickcolor": "rgb(36,36,36)",
              "ticks": "outside"
             }
            },
            "type": "scattermapbox"
           }
          ],
          "scatterpolar": [
           {
            "marker": {
             "colorbar": {
              "outlinewidth": 1,
              "tickcolor": "rgb(36,36,36)",
              "ticks": "outside"
             }
            },
            "type": "scatterpolar"
           }
          ],
          "scatterpolargl": [
           {
            "marker": {
             "colorbar": {
              "outlinewidth": 1,
              "tickcolor": "rgb(36,36,36)",
              "ticks": "outside"
             }
            },
            "type": "scatterpolargl"
           }
          ],
          "scatterternary": [
           {
            "marker": {
             "colorbar": {
              "outlinewidth": 1,
              "tickcolor": "rgb(36,36,36)",
              "ticks": "outside"
             }
            },
            "type": "scatterternary"
           }
          ],
          "surface": [
           {
            "colorbar": {
             "outlinewidth": 1,
             "tickcolor": "rgb(36,36,36)",
             "ticks": "outside"
            },
            "colorscale": [
             [
              0,
              "#440154"
             ],
             [
              0.1111111111111111,
              "#482878"
             ],
             [
              0.2222222222222222,
              "#3e4989"
             ],
             [
              0.3333333333333333,
              "#31688e"
             ],
             [
              0.4444444444444444,
              "#26828e"
             ],
             [
              0.5555555555555556,
              "#1f9e89"
             ],
             [
              0.6666666666666666,
              "#35b779"
             ],
             [
              0.7777777777777778,
              "#6ece58"
             ],
             [
              0.8888888888888888,
              "#b5de2b"
             ],
             [
              1,
              "#fde725"
             ]
            ],
            "type": "surface"
           }
          ],
          "table": [
           {
            "cells": {
             "fill": {
              "color": "rgb(237,237,237)"
             },
             "line": {
              "color": "white"
             }
            },
            "header": {
             "fill": {
              "color": "rgb(217,217,217)"
             },
             "line": {
              "color": "white"
             }
            },
            "type": "table"
           }
          ]
         },
         "layout": {
          "annotationdefaults": {
           "arrowhead": 0,
           "arrowwidth": 1
          },
          "coloraxis": {
           "colorbar": {
            "outlinewidth": 1,
            "tickcolor": "rgb(36,36,36)",
            "ticks": "outside"
           }
          },
          "colorscale": {
           "diverging": [
            [
             0,
             "rgb(103,0,31)"
            ],
            [
             0.1,
             "rgb(178,24,43)"
            ],
            [
             0.2,
             "rgb(214,96,77)"
            ],
            [
             0.3,
             "rgb(244,165,130)"
            ],
            [
             0.4,
             "rgb(253,219,199)"
            ],
            [
             0.5,
             "rgb(247,247,247)"
            ],
            [
             0.6,
             "rgb(209,229,240)"
            ],
            [
             0.7,
             "rgb(146,197,222)"
            ],
            [
             0.8,
             "rgb(67,147,195)"
            ],
            [
             0.9,
             "rgb(33,102,172)"
            ],
            [
             1,
             "rgb(5,48,97)"
            ]
           ],
           "sequential": [
            [
             0,
             "#440154"
            ],
            [
             0.1111111111111111,
             "#482878"
            ],
            [
             0.2222222222222222,
             "#3e4989"
            ],
            [
             0.3333333333333333,
             "#31688e"
            ],
            [
             0.4444444444444444,
             "#26828e"
            ],
            [
             0.5555555555555556,
             "#1f9e89"
            ],
            [
             0.6666666666666666,
             "#35b779"
            ],
            [
             0.7777777777777778,
             "#6ece58"
            ],
            [
             0.8888888888888888,
             "#b5de2b"
            ],
            [
             1,
             "#fde725"
            ]
           ],
           "sequentialminus": [
            [
             0,
             "#440154"
            ],
            [
             0.1111111111111111,
             "#482878"
            ],
            [
             0.2222222222222222,
             "#3e4989"
            ],
            [
             0.3333333333333333,
             "#31688e"
            ],
            [
             0.4444444444444444,
             "#26828e"
            ],
            [
             0.5555555555555556,
             "#1f9e89"
            ],
            [
             0.6666666666666666,
             "#35b779"
            ],
            [
             0.7777777777777778,
             "#6ece58"
            ],
            [
             0.8888888888888888,
             "#b5de2b"
            ],
            [
             1,
             "#fde725"
            ]
           ]
          },
          "colorway": [
           "#1F77B4",
           "#FF7F0E",
           "#2CA02C",
           "#D62728",
           "#9467BD",
           "#8C564B",
           "#E377C2",
           "#7F7F7F",
           "#BCBD22",
           "#17BECF"
          ],
          "font": {
           "color": "rgb(36,36,36)"
          },
          "geo": {
           "bgcolor": "white",
           "lakecolor": "white",
           "landcolor": "white",
           "showlakes": true,
           "showland": true,
           "subunitcolor": "white"
          },
          "hoverlabel": {
           "align": "left"
          },
          "hovermode": "closest",
          "mapbox": {
           "style": "light"
          },
          "paper_bgcolor": "white",
          "plot_bgcolor": "white",
          "polar": {
           "angularaxis": {
            "gridcolor": "rgb(232,232,232)",
            "linecolor": "rgb(36,36,36)",
            "showgrid": false,
            "showline": true,
            "ticks": "outside"
           },
           "bgcolor": "white",
           "radialaxis": {
            "gridcolor": "rgb(232,232,232)",
            "linecolor": "rgb(36,36,36)",
            "showgrid": false,
            "showline": true,
            "ticks": "outside"
           }
          },
          "scene": {
           "xaxis": {
            "backgroundcolor": "white",
            "gridcolor": "rgb(232,232,232)",
            "gridwidth": 2,
            "linecolor": "rgb(36,36,36)",
            "showbackground": true,
            "showgrid": false,
            "showline": true,
            "ticks": "outside",
            "zeroline": false,
            "zerolinecolor": "rgb(36,36,36)"
           },
           "yaxis": {
            "backgroundcolor": "white",
            "gridcolor": "rgb(232,232,232)",
            "gridwidth": 2,
            "linecolor": "rgb(36,36,36)",
            "showbackground": true,
            "showgrid": false,
            "showline": true,
            "ticks": "outside",
            "zeroline": false,
            "zerolinecolor": "rgb(36,36,36)"
           },
           "zaxis": {
            "backgroundcolor": "white",
            "gridcolor": "rgb(232,232,232)",
            "gridwidth": 2,
            "linecolor": "rgb(36,36,36)",
            "showbackground": true,
            "showgrid": false,
            "showline": true,
            "ticks": "outside",
            "zeroline": false,
            "zerolinecolor": "rgb(36,36,36)"
           }
          },
          "shapedefaults": {
           "fillcolor": "black",
           "line": {
            "width": 0
           },
           "opacity": 0.3
          },
          "ternary": {
           "aaxis": {
            "gridcolor": "rgb(232,232,232)",
            "linecolor": "rgb(36,36,36)",
            "showgrid": false,
            "showline": true,
            "ticks": "outside"
           },
           "baxis": {
            "gridcolor": "rgb(232,232,232)",
            "linecolor": "rgb(36,36,36)",
            "showgrid": false,
            "showline": true,
            "ticks": "outside"
           },
           "bgcolor": "white",
           "caxis": {
            "gridcolor": "rgb(232,232,232)",
            "linecolor": "rgb(36,36,36)",
            "showgrid": false,
            "showline": true,
            "ticks": "outside"
           }
          },
          "title": {
           "x": 0.05
          },
          "xaxis": {
           "automargin": true,
           "gridcolor": "rgb(232,232,232)",
           "linecolor": "rgb(36,36,36)",
           "showgrid": false,
           "showline": true,
           "ticks": "outside",
           "title": {
            "standoff": 15
           },
           "zeroline": false,
           "zerolinecolor": "rgb(36,36,36)"
          },
          "yaxis": {
           "automargin": true,
           "gridcolor": "rgb(232,232,232)",
           "linecolor": "rgb(36,36,36)",
           "showgrid": false,
           "showline": true,
           "ticks": "outside",
           "title": {
            "standoff": 15
           },
           "zeroline": false,
           "zerolinecolor": "rgb(36,36,36)"
          }
         }
        },
        "title": {
         "text": "c205c10_e<br>Objective: 2526.89"
        },
        "xaxis": {
         "anchor": "y",
         "constrain": "domain",
         "domain": [
          0,
          1
         ],
         "mirror": true,
         "range": [
          0,
          71.5
         ],
         "showline": true,
         "ticks": "outside",
         "title": {
          "text": "x"
         }
        },
        "yaxis": {
         "anchor": "x",
         "domain": [
          0,
          1
         ],
         "mirror": true,
         "range": [
          0,
          90.2
         ],
         "scaleanchor": "x",
         "scaleratio": 1,
         "showline": true,
         "ticks": "outside",
         "title": {
          "text": "y"
         }
        }
       }
      },
      "text/html": [
       "<div>\n",
       "        \n",
       "        \n",
       "            <div id=\"015b9ef5-41ae-4364-b9e0-1af760717ed7\" class=\"plotly-graph-div\" style=\"height:600px; width:100%;\"></div>\n",
       "            <script type=\"text/javascript\">\n",
       "                require([\"plotly\"], function(Plotly) {\n",
       "                    window.PLOTLYENV=window.PLOTLYENV || {};\n",
       "                    \n",
       "                if (document.getElementById(\"015b9ef5-41ae-4364-b9e0-1af760717ed7\")) {\n",
       "                    Plotly.newPlot(\n",
       "                        '015b9ef5-41ae-4364-b9e0-1af760717ed7',\n",
       "                        [{\"customdata\": [[[\"d\"]], [[\"d\"]], [[\"s\"]], [[\"s\"]], [[\"s\"]], [[\"m\"]], [[\"m\"]], [[\"m\"]], [[\"m\"]], [[\"m\"]], [[\"m\"]], [[\"m\"]], [[\"m\"]], [[\"m\"]], [[\"m\"]]], \"hoverinfo\": \"none\", \"hovertemplate\": \"<b>%{text}</b>: %{customdata[0]}<br>X: %{x}<br>Y: %{y}\", \"marker\": {\"color\": [\"rgba(191, 243, 180, 0.8)\", \"rgba(191, 243, 180, 0.8)\", \"rgba(167, 215, 241, 0.8)\", \"rgba(167, 215, 241, 0.8)\", \"rgba(167, 215, 241, 0.8)\", \"rgba(240, 169, 171, 0.8)\", \"rgba(240, 169, 171, 0.8)\", \"rgba(240, 169, 171, 0.8)\", \"rgba(240, 169, 171, 0.8)\", \"rgba(240, 169, 171, 0.8)\", \"rgba(240, 169, 171, 0.8)\", \"rgba(240, 169, 171, 0.8)\", \"rgba(240, 169, 171, 0.8)\", \"rgba(240, 169, 171, 0.8)\", \"rgba(240, 169, 171, 0.8)\"], \"size\": 25}, \"mode\": \"markers+text\", \"name\": \"Nodes\", \"showlegend\": true, \"text\": [\"D0\", \"D1\", \"S0\", \"S3\", \"S15\", \"C8\", \"C9\", \"C47\", \"C60\", \"C94\", \"C75\", \"C66\", \"C99\", \"C56\", \"C15\"], \"type\": \"scatter\", \"x\": [40, 40, 40, 57, 39, 34, 28, 30, 35, 65, 45, 47, 55, 40, 20], \"y\": [50, 50, 50, 82, 26, 60, 70, 35, 5, 82, 65, 35, 80, 5, 80]}],\n",
       "                        {\"annotations\": [{\"arrowcolor\": \"#888\", \"arrowhead\": 2, \"arrowsize\": 1, \"arrowwidth\": 2, \"ax\": 40, \"axref\": \"x\", \"ay\": 50, \"ayref\": \"y\", \"showarrow\": true, \"text\": \"\", \"x\": 40, \"xref\": \"x\", \"y\": 50, \"yref\": \"y\"}, {\"arrowcolor\": \"#888\", \"arrowhead\": 2, \"arrowsize\": 1, \"arrowwidth\": 2, \"ax\": 47, \"axref\": \"x\", \"ay\": 35, \"ayref\": \"y\", \"showarrow\": true, \"text\": \"\", \"x\": 40, \"xref\": \"x\", \"y\": 50, \"yref\": \"y\"}, {\"arrowcolor\": \"#888\", \"arrowhead\": 2, \"arrowsize\": 1, \"arrowwidth\": 2, \"ax\": 45, \"axref\": \"x\", \"ay\": 65, \"ayref\": \"y\", \"showarrow\": true, \"text\": \"\", \"x\": 40, \"xref\": \"x\", \"y\": 50, \"yref\": \"y\"}, {\"arrowcolor\": \"#888\", \"arrowhead\": 2, \"arrowsize\": 1, \"arrowwidth\": 2, \"ax\": 40, \"axref\": \"x\", \"ay\": 50, \"ayref\": \"y\", \"showarrow\": true, \"text\": \"\", \"x\": 40, \"xref\": \"x\", \"y\": 50, \"yref\": \"y\"}, {\"arrowcolor\": \"#888\", \"arrowhead\": 2, \"arrowsize\": 1, \"arrowwidth\": 2, \"ax\": 20, \"axref\": \"x\", \"ay\": 80, \"ayref\": \"y\", \"showarrow\": true, \"text\": \"\", \"x\": 57, \"xref\": \"x\", \"y\": 82, \"yref\": \"y\"}, {\"arrowcolor\": \"#888\", \"arrowhead\": 2, \"arrowsize\": 1, \"arrowwidth\": 2, \"ax\": 30, \"axref\": \"x\", \"ay\": 35, \"ayref\": \"y\", \"showarrow\": true, \"text\": \"\", \"x\": 39, \"xref\": \"x\", \"y\": 26, \"yref\": \"y\"}, {\"arrowcolor\": \"#888\", \"arrowhead\": 2, \"arrowsize\": 1, \"arrowwidth\": 2, \"ax\": 40, \"axref\": \"x\", \"ay\": 50, \"ayref\": \"y\", \"showarrow\": true, \"text\": \"\", \"x\": 34, \"xref\": \"x\", \"y\": 60, \"yref\": \"y\"}, {\"arrowcolor\": \"#888\", \"arrowhead\": 2, \"arrowsize\": 1, \"arrowwidth\": 2, \"ax\": 34, \"axref\": \"x\", \"ay\": 60, \"ayref\": \"y\", \"showarrow\": true, \"text\": \"\", \"x\": 28, \"xref\": \"x\", \"y\": 70, \"yref\": \"y\"}, {\"arrowcolor\": \"#888\", \"arrowhead\": 2, \"arrowsize\": 1, \"arrowwidth\": 2, \"ax\": 40, \"axref\": \"x\", \"ay\": 50, \"ayref\": \"y\", \"showarrow\": true, \"text\": \"\", \"x\": 30, \"xref\": \"x\", \"y\": 35, \"yref\": \"y\"}, {\"arrowcolor\": \"#888\", \"arrowhead\": 2, \"arrowsize\": 1, \"arrowwidth\": 2, \"ax\": 39, \"axref\": \"x\", \"ay\": 26, \"ayref\": \"y\", \"showarrow\": true, \"text\": \"\", \"x\": 35, \"xref\": \"x\", \"y\": 5, \"yref\": \"y\"}, {\"arrowcolor\": \"#888\", \"arrowhead\": 2, \"arrowsize\": 1, \"arrowwidth\": 2, \"ax\": 57, \"axref\": \"x\", \"ay\": 82, \"ayref\": \"y\", \"showarrow\": true, \"text\": \"\", \"x\": 65, \"xref\": \"x\", \"y\": 82, \"yref\": \"y\"}, {\"arrowcolor\": \"#888\", \"arrowhead\": 2, \"arrowsize\": 1, \"arrowwidth\": 2, \"ax\": 55, \"axref\": \"x\", \"ay\": 80, \"ayref\": \"y\", \"showarrow\": true, \"text\": \"\", \"x\": 45, \"xref\": \"x\", \"y\": 65, \"yref\": \"y\"}, {\"arrowcolor\": \"#888\", \"arrowhead\": 2, \"arrowsize\": 1, \"arrowwidth\": 2, \"ax\": 40, \"axref\": \"x\", \"ay\": 5, \"ayref\": \"y\", \"showarrow\": true, \"text\": \"\", \"x\": 47, \"xref\": \"x\", \"y\": 35, \"yref\": \"y\"}, {\"arrowcolor\": \"#888\", \"arrowhead\": 2, \"arrowsize\": 1, \"arrowwidth\": 2, \"ax\": 65, \"axref\": \"x\", \"ay\": 82, \"ayref\": \"y\", \"showarrow\": true, \"text\": \"\", \"x\": 55, \"xref\": \"x\", \"y\": 80, \"yref\": \"y\"}, {\"arrowcolor\": \"#888\", \"arrowhead\": 2, \"arrowsize\": 1, \"arrowwidth\": 2, \"ax\": 35, \"axref\": \"x\", \"ay\": 5, \"ayref\": \"y\", \"showarrow\": true, \"text\": \"\", \"x\": 40, \"xref\": \"x\", \"y\": 5, \"yref\": \"y\"}, {\"arrowcolor\": \"#888\", \"arrowhead\": 2, \"arrowsize\": 1, \"arrowwidth\": 2, \"ax\": 28, \"axref\": \"x\", \"ay\": 70, \"ayref\": \"y\", \"showarrow\": true, \"text\": \"\", \"x\": 20, \"xref\": \"x\", \"y\": 80, \"yref\": \"y\"}], \"height\": 600, \"showlegend\": true, \"template\": {\"data\": {\"bar\": [{\"error_x\": {\"color\": \"rgb(36,36,36)\"}, \"error_y\": {\"color\": \"rgb(36,36,36)\"}, \"marker\": {\"line\": {\"color\": \"white\", \"width\": 0.5}}, \"type\": \"bar\"}], \"barpolar\": [{\"marker\": {\"line\": {\"color\": \"white\", \"width\": 0.5}}, \"type\": \"barpolar\"}], \"carpet\": [{\"aaxis\": {\"endlinecolor\": \"rgb(36,36,36)\", \"gridcolor\": \"white\", \"linecolor\": \"white\", \"minorgridcolor\": \"white\", \"startlinecolor\": \"rgb(36,36,36)\"}, \"baxis\": {\"endlinecolor\": \"rgb(36,36,36)\", \"gridcolor\": \"white\", \"linecolor\": \"white\", \"minorgridcolor\": \"white\", \"startlinecolor\": \"rgb(36,36,36)\"}, \"type\": \"carpet\"}], \"choropleth\": [{\"colorbar\": {\"outlinewidth\": 1, \"tickcolor\": \"rgb(36,36,36)\", \"ticks\": \"outside\"}, \"type\": \"choropleth\"}], \"contour\": [{\"colorbar\": {\"outlinewidth\": 1, \"tickcolor\": \"rgb(36,36,36)\", \"ticks\": \"outside\"}, \"colorscale\": [[0.0, \"#440154\"], [0.1111111111111111, \"#482878\"], [0.2222222222222222, \"#3e4989\"], [0.3333333333333333, \"#31688e\"], [0.4444444444444444, \"#26828e\"], [0.5555555555555556, \"#1f9e89\"], [0.6666666666666666, \"#35b779\"], [0.7777777777777778, \"#6ece58\"], [0.8888888888888888, \"#b5de2b\"], [1.0, \"#fde725\"]], \"type\": \"contour\"}], \"contourcarpet\": [{\"colorbar\": {\"outlinewidth\": 1, \"tickcolor\": \"rgb(36,36,36)\", \"ticks\": \"outside\"}, \"type\": \"contourcarpet\"}], \"heatmap\": [{\"colorbar\": {\"outlinewidth\": 1, \"tickcolor\": \"rgb(36,36,36)\", \"ticks\": \"outside\"}, \"colorscale\": [[0.0, \"#440154\"], [0.1111111111111111, \"#482878\"], [0.2222222222222222, \"#3e4989\"], [0.3333333333333333, \"#31688e\"], [0.4444444444444444, \"#26828e\"], [0.5555555555555556, \"#1f9e89\"], [0.6666666666666666, \"#35b779\"], [0.7777777777777778, \"#6ece58\"], [0.8888888888888888, \"#b5de2b\"], [1.0, \"#fde725\"]], \"type\": \"heatmap\"}], \"heatmapgl\": [{\"colorbar\": {\"outlinewidth\": 1, \"tickcolor\": \"rgb(36,36,36)\", \"ticks\": \"outside\"}, \"colorscale\": [[0.0, \"#440154\"], [0.1111111111111111, \"#482878\"], [0.2222222222222222, \"#3e4989\"], [0.3333333333333333, \"#31688e\"], [0.4444444444444444, \"#26828e\"], [0.5555555555555556, \"#1f9e89\"], [0.6666666666666666, \"#35b779\"], [0.7777777777777778, \"#6ece58\"], [0.8888888888888888, \"#b5de2b\"], [1.0, \"#fde725\"]], \"type\": \"heatmapgl\"}], \"histogram\": [{\"marker\": {\"line\": {\"color\": \"white\", \"width\": 0.6}}, \"type\": \"histogram\"}], \"histogram2d\": [{\"colorbar\": {\"outlinewidth\": 1, \"tickcolor\": \"rgb(36,36,36)\", \"ticks\": \"outside\"}, \"colorscale\": [[0.0, \"#440154\"], [0.1111111111111111, \"#482878\"], [0.2222222222222222, \"#3e4989\"], [0.3333333333333333, \"#31688e\"], [0.4444444444444444, \"#26828e\"], [0.5555555555555556, \"#1f9e89\"], [0.6666666666666666, \"#35b779\"], [0.7777777777777778, \"#6ece58\"], [0.8888888888888888, \"#b5de2b\"], [1.0, \"#fde725\"]], \"type\": \"histogram2d\"}], \"histogram2dcontour\": [{\"colorbar\": {\"outlinewidth\": 1, \"tickcolor\": \"rgb(36,36,36)\", \"ticks\": \"outside\"}, \"colorscale\": [[0.0, \"#440154\"], [0.1111111111111111, \"#482878\"], [0.2222222222222222, \"#3e4989\"], [0.3333333333333333, \"#31688e\"], [0.4444444444444444, \"#26828e\"], [0.5555555555555556, \"#1f9e89\"], [0.6666666666666666, \"#35b779\"], [0.7777777777777778, \"#6ece58\"], [0.8888888888888888, \"#b5de2b\"], [1.0, \"#fde725\"]], \"type\": \"histogram2dcontour\"}], \"mesh3d\": [{\"colorbar\": {\"outlinewidth\": 1, \"tickcolor\": \"rgb(36,36,36)\", \"ticks\": \"outside\"}, \"type\": \"mesh3d\"}], \"parcoords\": [{\"line\": {\"colorbar\": {\"outlinewidth\": 1, \"tickcolor\": \"rgb(36,36,36)\", \"ticks\": \"outside\"}}, \"type\": \"parcoords\"}], \"pie\": [{\"automargin\": true, \"type\": \"pie\"}], \"scatter\": [{\"marker\": {\"colorbar\": {\"outlinewidth\": 1, \"tickcolor\": \"rgb(36,36,36)\", \"ticks\": \"outside\"}}, \"type\": \"scatter\"}], \"scatter3d\": [{\"line\": {\"colorbar\": {\"outlinewidth\": 1, \"tickcolor\": \"rgb(36,36,36)\", \"ticks\": \"outside\"}}, \"marker\": {\"colorbar\": {\"outlinewidth\": 1, \"tickcolor\": \"rgb(36,36,36)\", \"ticks\": \"outside\"}}, \"type\": \"scatter3d\"}], \"scattercarpet\": [{\"marker\": {\"colorbar\": {\"outlinewidth\": 1, \"tickcolor\": \"rgb(36,36,36)\", \"ticks\": \"outside\"}}, \"type\": \"scattercarpet\"}], \"scattergeo\": [{\"marker\": {\"colorbar\": {\"outlinewidth\": 1, \"tickcolor\": \"rgb(36,36,36)\", \"ticks\": \"outside\"}}, \"type\": \"scattergeo\"}], \"scattergl\": [{\"marker\": {\"colorbar\": {\"outlinewidth\": 1, \"tickcolor\": \"rgb(36,36,36)\", \"ticks\": \"outside\"}}, \"type\": \"scattergl\"}], \"scattermapbox\": [{\"marker\": {\"colorbar\": {\"outlinewidth\": 1, \"tickcolor\": \"rgb(36,36,36)\", \"ticks\": \"outside\"}}, \"type\": \"scattermapbox\"}], \"scatterpolar\": [{\"marker\": {\"colorbar\": {\"outlinewidth\": 1, \"tickcolor\": \"rgb(36,36,36)\", \"ticks\": \"outside\"}}, \"type\": \"scatterpolar\"}], \"scatterpolargl\": [{\"marker\": {\"colorbar\": {\"outlinewidth\": 1, \"tickcolor\": \"rgb(36,36,36)\", \"ticks\": \"outside\"}}, \"type\": \"scatterpolargl\"}], \"scatterternary\": [{\"marker\": {\"colorbar\": {\"outlinewidth\": 1, \"tickcolor\": \"rgb(36,36,36)\", \"ticks\": \"outside\"}}, \"type\": \"scatterternary\"}], \"surface\": [{\"colorbar\": {\"outlinewidth\": 1, \"tickcolor\": \"rgb(36,36,36)\", \"ticks\": \"outside\"}, \"colorscale\": [[0.0, \"#440154\"], [0.1111111111111111, \"#482878\"], [0.2222222222222222, \"#3e4989\"], [0.3333333333333333, \"#31688e\"], [0.4444444444444444, \"#26828e\"], [0.5555555555555556, \"#1f9e89\"], [0.6666666666666666, \"#35b779\"], [0.7777777777777778, \"#6ece58\"], [0.8888888888888888, \"#b5de2b\"], [1.0, \"#fde725\"]], \"type\": \"surface\"}], \"table\": [{\"cells\": {\"fill\": {\"color\": \"rgb(237,237,237)\"}, \"line\": {\"color\": \"white\"}}, \"header\": {\"fill\": {\"color\": \"rgb(217,217,217)\"}, \"line\": {\"color\": \"white\"}}, \"type\": \"table\"}]}, \"layout\": {\"annotationdefaults\": {\"arrowhead\": 0, \"arrowwidth\": 1}, \"coloraxis\": {\"colorbar\": {\"outlinewidth\": 1, \"tickcolor\": \"rgb(36,36,36)\", \"ticks\": \"outside\"}}, \"colorscale\": {\"diverging\": [[0.0, \"rgb(103,0,31)\"], [0.1, \"rgb(178,24,43)\"], [0.2, \"rgb(214,96,77)\"], [0.3, \"rgb(244,165,130)\"], [0.4, \"rgb(253,219,199)\"], [0.5, \"rgb(247,247,247)\"], [0.6, \"rgb(209,229,240)\"], [0.7, \"rgb(146,197,222)\"], [0.8, \"rgb(67,147,195)\"], [0.9, \"rgb(33,102,172)\"], [1.0, \"rgb(5,48,97)\"]], \"sequential\": [[0.0, \"#440154\"], [0.1111111111111111, \"#482878\"], [0.2222222222222222, \"#3e4989\"], [0.3333333333333333, \"#31688e\"], [0.4444444444444444, \"#26828e\"], [0.5555555555555556, \"#1f9e89\"], [0.6666666666666666, \"#35b779\"], [0.7777777777777778, \"#6ece58\"], [0.8888888888888888, \"#b5de2b\"], [1.0, \"#fde725\"]], \"sequentialminus\": [[0.0, \"#440154\"], [0.1111111111111111, \"#482878\"], [0.2222222222222222, \"#3e4989\"], [0.3333333333333333, \"#31688e\"], [0.4444444444444444, \"#26828e\"], [0.5555555555555556, \"#1f9e89\"], [0.6666666666666666, \"#35b779\"], [0.7777777777777778, \"#6ece58\"], [0.8888888888888888, \"#b5de2b\"], [1.0, \"#fde725\"]]}, \"colorway\": [\"#1F77B4\", \"#FF7F0E\", \"#2CA02C\", \"#D62728\", \"#9467BD\", \"#8C564B\", \"#E377C2\", \"#7F7F7F\", \"#BCBD22\", \"#17BECF\"], \"font\": {\"color\": \"rgb(36,36,36)\"}, \"geo\": {\"bgcolor\": \"white\", \"lakecolor\": \"white\", \"landcolor\": \"white\", \"showlakes\": true, \"showland\": true, \"subunitcolor\": \"white\"}, \"hoverlabel\": {\"align\": \"left\"}, \"hovermode\": \"closest\", \"mapbox\": {\"style\": \"light\"}, \"paper_bgcolor\": \"white\", \"plot_bgcolor\": \"white\", \"polar\": {\"angularaxis\": {\"gridcolor\": \"rgb(232,232,232)\", \"linecolor\": \"rgb(36,36,36)\", \"showgrid\": false, \"showline\": true, \"ticks\": \"outside\"}, \"bgcolor\": \"white\", \"radialaxis\": {\"gridcolor\": \"rgb(232,232,232)\", \"linecolor\": \"rgb(36,36,36)\", \"showgrid\": false, \"showline\": true, \"ticks\": \"outside\"}}, \"scene\": {\"xaxis\": {\"backgroundcolor\": \"white\", \"gridcolor\": \"rgb(232,232,232)\", \"gridwidth\": 2, \"linecolor\": \"rgb(36,36,36)\", \"showbackground\": true, \"showgrid\": false, \"showline\": true, \"ticks\": \"outside\", \"zeroline\": false, \"zerolinecolor\": \"rgb(36,36,36)\"}, \"yaxis\": {\"backgroundcolor\": \"white\", \"gridcolor\": \"rgb(232,232,232)\", \"gridwidth\": 2, \"linecolor\": \"rgb(36,36,36)\", \"showbackground\": true, \"showgrid\": false, \"showline\": true, \"ticks\": \"outside\", \"zeroline\": false, \"zerolinecolor\": \"rgb(36,36,36)\"}, \"zaxis\": {\"backgroundcolor\": \"white\", \"gridcolor\": \"rgb(232,232,232)\", \"gridwidth\": 2, \"linecolor\": \"rgb(36,36,36)\", \"showbackground\": true, \"showgrid\": false, \"showline\": true, \"ticks\": \"outside\", \"zeroline\": false, \"zerolinecolor\": \"rgb(36,36,36)\"}}, \"shapedefaults\": {\"fillcolor\": \"black\", \"line\": {\"width\": 0}, \"opacity\": 0.3}, \"ternary\": {\"aaxis\": {\"gridcolor\": \"rgb(232,232,232)\", \"linecolor\": \"rgb(36,36,36)\", \"showgrid\": false, \"showline\": true, \"ticks\": \"outside\"}, \"baxis\": {\"gridcolor\": \"rgb(232,232,232)\", \"linecolor\": \"rgb(36,36,36)\", \"showgrid\": false, \"showline\": true, \"ticks\": \"outside\"}, \"bgcolor\": \"white\", \"caxis\": {\"gridcolor\": \"rgb(232,232,232)\", \"linecolor\": \"rgb(36,36,36)\", \"showgrid\": false, \"showline\": true, \"ticks\": \"outside\"}}, \"title\": {\"x\": 0.05}, \"xaxis\": {\"automargin\": true, \"gridcolor\": \"rgb(232,232,232)\", \"linecolor\": \"rgb(36,36,36)\", \"showgrid\": false, \"showline\": true, \"ticks\": \"outside\", \"title\": {\"standoff\": 15}, \"zeroline\": false, \"zerolinecolor\": \"rgb(36,36,36)\"}, \"yaxis\": {\"automargin\": true, \"gridcolor\": \"rgb(232,232,232)\", \"linecolor\": \"rgb(36,36,36)\", \"showgrid\": false, \"showline\": true, \"ticks\": \"outside\", \"title\": {\"standoff\": 15}, \"zeroline\": false, \"zerolinecolor\": \"rgb(36,36,36)\"}}}, \"title\": {\"text\": \"c205c10_e<br>Objective: 2526.89\"}, \"xaxis\": {\"anchor\": \"y\", \"constrain\": \"domain\", \"domain\": [0.0, 1.0], \"mirror\": true, \"range\": [0, 71.5], \"showline\": true, \"ticks\": \"outside\", \"title\": {\"text\": \"x\"}}, \"yaxis\": {\"anchor\": \"x\", \"domain\": [0.0, 1.0], \"mirror\": true, \"range\": [0, 90.2], \"scaleanchor\": \"x\", \"scaleratio\": 1, \"showline\": true, \"ticks\": \"outside\", \"title\": {\"text\": \"y\"}}},\n",
       "                        {\"responsive\": true}\n",
       "                    ).then(function(){\n",
       "                            \n",
       "var gd = document.getElementById('015b9ef5-41ae-4364-b9e0-1af760717ed7');\n",
       "var x = new MutationObserver(function (mutations, observer) {{\n",
       "        var display = window.getComputedStyle(gd).display;\n",
       "        if (!display || display === 'none') {{\n",
       "            console.log([gd, 'removed!']);\n",
       "            Plotly.purge(gd);\n",
       "            observer.disconnect();\n",
       "        }}\n",
       "}});\n",
       "\n",
       "// Listen for the removal of the full notebook cells\n",
       "var notebookContainer = gd.closest('#notebook-container');\n",
       "if (notebookContainer) {{\n",
       "    x.observe(notebookContainer, {childList: true});\n",
       "}}\n",
       "\n",
       "// Listen for the clearing of the current output cell\n",
       "var outputEl = gd.closest('.output');\n",
       "if (outputEl) {{\n",
       "    x.observe(outputEl, {childList: true});\n",
       "}}\n",
       "\n",
       "                        })\n",
       "                };\n",
       "                });\n",
       "            </script>\n",
       "        </div>"
      ]
     },
     "metadata": {},
     "output_type": "display_data"
    }
   ],
   "source": [
    "plot_interactive_graph(m.data['V'], e=e_flat, obj=m.instance.obj(), instance_name=m.instance_name)"
   ]
  },
  {
   "cell_type": "code",
   "execution_count": 79,
   "metadata": {},
   "outputs": [],
   "source": [
    "traces = trace_routes(m)"
   ]
  },
  {
   "cell_type": "code",
   "execution_count": 80,
   "metadata": {},
   "outputs": [],
   "source": [
    "routes = x[x['state']>1e-4].sort_values(['xw']).set_index(['from', 'to'])"
   ]
  },
  {
   "cell_type": "code",
   "execution_count": 83,
   "metadata": {},
   "outputs": [
    {
     "data": {
      "image/png": "[encoded data removed]",
      "text/plain": [
       "<Figure size 720x1440 with 6 Axes>"
      ]
     },
     "metadata": {},
     "output_type": "display_data"
    }
   ],
   "source": [
    "n_plots = 6\n",
    "style_label = u'seaborn-white'\n",
    "\n",
    "t_S = m.data['Parameters'].loc['t_S', 'value']\n",
    "t_T = m.data['Parameters'].loc['t_T', 'value']\n",
    "time = np.arange(0, t_T, t_S)\n",
    "\n",
    "nt = len(traces)  # number of vehicles\n",
    "stations = np.sort(xp['node'].unique())  # stations\n",
    "ns = len(stations)\n",
    "unique_stations = np.unique([m.s_2s[s] for s in stations])\n",
    "nus = len(unique_stations)\n",
    "\n",
    "gap = m.results['Problem'][0]\n",
    "gap = round((gap['Upper bound'] - gap['Lower bound']) / gap['Upper bound'] * 100, 2)\n",
    "\n",
    "# Load Profiles\n",
    "# G = m.data['G'].copy()\n",
    "G = pd.Series(m.instance.G.extract_values())\n",
    "G = G.reset_index().pivot(index='level_1', columns='level_0', values=0)\n",
    "\n",
    "# Energy Price\n",
    "ce = pd.Series(m.instance.ce.extract_values())\n",
    "ce = ce.reset_index().pivot(index='level_1', columns='level_0', values=0)\n",
    "# ce = m.data['ce']\n",
    "\n",
    "# Get colors for each vehicle\n",
    "c = plt.get_cmap('Dark2')\n",
    "colors = [c(tc) for tc in np.linspace(0, 1, len(traces))]\n",
    "\n",
    "# Get colors for each station\n",
    "c2 = plt.get_cmap('viridis')\n",
    "colors2 = [c2(tc) for tc in np.linspace(0, 1, nus)]\n",
    "us_color = {s: colors2[i] for i, s in enumerate(unique_stations)}\n",
    "s_color = {s_: us_color[m.s_2s[s_]] for s_ in stations}\n",
    "s_alpha = {s: 0 for s in unique_stations}\n",
    "for s_, c in s_color.items():\n",
    "    s = m.s_2s[s_]\n",
    "    s_alpha[s] += 1/m.data['S']['instances'][s]\n",
    "    c = list(c)\n",
    "    c[-1] = s_alpha[s]\n",
    "    s_color[s_] = tuple(c)\n",
    "\n",
    "# fig, axs = plt.subplots(n_plots-1, 2, figsize=(10,10), sharex='col', \n",
    "#                         gridspec_kw={'width_ratios': [2, 1], 'height_ratios': [1, 1, 1, 1]})\n",
    "\n",
    "SMALL_SIZE = 14\n",
    "MEDIUM_SIZE = 18\n",
    "BIGGER_SIZE = 20\n",
    "\n",
    "plt.rc('font', size=SMALL_SIZE)          # controls default text sizes\n",
    "plt.rc('axes', titlesize=SMALL_SIZE)     # fontsize of the axes title\n",
    "plt.rc('axes', labelsize=MEDIUM_SIZE)    # fontsize of the x and y labels\n",
    "plt.rc('xtick', labelsize=SMALL_SIZE)    # fontsize of the tick labels\n",
    "plt.rc('ytick', labelsize=SMALL_SIZE)    # fontsize of the tick labels\n",
    "plt.rc('legend', fontsize=SMALL_SIZE)    # legend fontsize\n",
    "plt.rc('figure', titlesize=BIGGER_SIZE)  # fontsize of the figure title\n",
    "\n",
    "fweight = 2  # title fontweights\n",
    "fdict = {'fontsize': MEDIUM_SIZE, 'fontweight' : fweight}  # subplot titles\n",
    "\n",
    "plt.style.use(style_label)\n",
    "fig = plt.figure(figsize=(10,20), num=style_label)\n",
    "\n",
    "gs = GridSpec(n_plots, 1, width_ratios=[1], height_ratios=[n_plots-1, nt, nt, 1, 1, ns])\n",
    "axs0 = fig.add_subplot(gs[0, 0])\n",
    "axs1 = fig.add_subplot(gs[1, 0])\n",
    "axs2 = fig.add_subplot(gs[2, 0], sharex=axs1)\n",
    "axs3 = fig.add_subplot(gs[3, 0], sharex=axs1)\n",
    "axs4 = fig.add_subplot(gs[4, 0], sharex=axs1)\n",
    "axs5 = fig.add_subplot(gs[5, 0], sharex=axs1)\n",
    "\n",
    "obj_breakdown = [m.total_distance(m.instance)(),\n",
    "                 m.C_fleet_capital_cost(m.instance)(),\n",
    "                 m.R_energy_arbitrage_revenue(m.instance)(), \n",
    "                 m.R_peak_shaving_revenue(m.instance)() - sum(G.max()[s] * cg for s, cg in m.instance.cg.extract_values().items()),\n",
    "                 m.cycle_cost(m.instance)() + m.squeeze_cycle_cost(m.instance)()]\n",
    "\n",
    "title = ''\n",
    "title += '{}\\n'.format(m.instance_name)\n",
    "title += 'Objective: {:.2f}, Gap: {:.2f}%, {:.1f}s\\n'.format(m.instance.obj.expr(), gap, m.results['Solver'][0]['Time'])\n",
    "title += 'Dist.: {:.2f}, CapEx: {:.2f}, EA: {:.2f}, DCM: {:.2f}, Cycle: {:.2f}'.format(*obj_breakdown)\n",
    "fig.suptitle(title, x=0.5, y=1.03, horizontalalignment='center', verticalalignment='top', size=MEDIUM_SIZE, weight=fweight)\n",
    "\n",
    "a = 0.5\n",
    "\n",
    "for i, n in enumerate('SDM'):\n",
    "    # Plot the nodes\n",
    "    axs0.scatter(m.data[n]['d_x'], m.data[n]['d_y'], c=[node_colors_rgba_tuple[n]]*len(m.data[n]), s=100)\n",
    "\n",
    "    # Annotate the nodes\n",
    "    for j, txt in enumerate(m.data[n].index):\n",
    "        scale = 2\n",
    "        if n == 'D':\n",
    "            offset = [-scale, -scale]\n",
    "        elif n == 'S':\n",
    "            offset = [-scale, 0]\n",
    "        else:\n",
    "            offset = [0, 0]\n",
    "        if txt == 'D1':\n",
    "            offset = [0, -scale]\n",
    "            \n",
    "        axs0.annotate(txt, (m.data[n]['d_x'][j]+offset[0], m.data[n]['d_y'][j]+offset[1]))\n",
    "\n",
    "# Plot the vehicle routes    \n",
    "for ti, t in enumerate(traces):\n",
    "    for ki, k in enumerate(t[:-1]):\n",
    "        arrow_x = m.data['V_'].loc[t[ki], 'd_x']\n",
    "        arrow_y = m.data['V_'].loc[t[ki], 'd_y']\n",
    "        arrow_dx = m.data['V_'].loc[t[ki+1], 'd_x'] - arrow_x\n",
    "        arrow_dy = m.data['V_'].loc[t[ki+1], 'd_y'] - arrow_y\n",
    "        \n",
    "        axs0.arrow(arrow_x, arrow_y, arrow_dx, arrow_dy, alpha=a, linewidth=2,\n",
    "                     length_includes_head=True, head_width=1, head_length=1, overhang=0, color=colors[ti])\n",
    "    \n",
    "    axs0.set_aspect('equal', adjustable='datalim')\n",
    "    \n",
    "    # Plot the vehicle states\n",
    "    r = routes.loc[list(zip(t[:-1], t[1:]))]\n",
    "    \n",
    "    # Plot arrival capacity\n",
    "    # create an inset axe in the current axe:\n",
    "    ax1 = axs1.inset_axes([0, ti*1/nt, 1, .8*1/nt])\n",
    "    ax1.plot(r['xw'], r['xq'], color=colors[ti], alpha=a) \n",
    "    for row in r.iterrows():\n",
    "        ax1.annotate('{}: {:.1f}'.format(row[0][1], row[1]['xq']), xy=(row[1]['xw'], row[1]['xq']), color=colors[ti])\n",
    "    ax1.get_shared_x_axes().join(ax1, axs1)\n",
    "    ax1.get_shared_y_axes().join(ax1, axs1)\n",
    "    ax1.set_xticklabels([])\n",
    "    axs1.set_yticklabels([])\n",
    "    axs1.set_xlim([0, t_T])\n",
    "#     axs1.axis('off')\n",
    "#     axs1.get_xaxis().set_visible(True)\n",
    "#     axs1.grid(False)\n",
    "    axs1.spines['right'].set_visible(False)\n",
    "    axs1.spines['top'].set_visible(False)\n",
    "    axs1.spines['bottom'].set_visible(False)\n",
    "    axs1.spines['left'].set_visible(False)\n",
    "    axs1.set_title('Arrival capacity', fontdict=fdict)   \n",
    "    \n",
    "    # Plot arrival SOE\n",
    "    # create an inset axe in the current axe:\n",
    "    ax2 = axs2.inset_axes([0, ti*1/nt, 1, .8*1/nt])\n",
    "    ax2.plot(r['xw'], r['xa'], color=colors[ti], alpha=a)\n",
    "    for row in r.iterrows():\n",
    "        ax2.annotate('{}: {:.1f}'.format(row[0][1], row[1]['xa']), xy=(row[1]['xw'], row[1]['xa']), color=colors[ti])\n",
    "    ax2.get_shared_x_axes().join(ax2, axs2)\n",
    "    ax2.get_shared_y_axes().join(ax2, axs2)\n",
    "    ax2.set_xticklabels([])\n",
    "    axs2.set_yticklabels([])\n",
    "    axs2.set_xlim([0, t_T])\n",
    "    axs2.spines['right'].set_visible(False)\n",
    "    axs2.spines['top'].set_visible(False)\n",
    "    axs2.spines['bottom'].set_visible(False)\n",
    "    axs2.spines['left'].set_visible(False)\n",
    "    axs2.set_title('Arrival SOE', fontdict=fdict)\n",
    "    \n",
    "# Plot power\n",
    "s = stations[0]\n",
    "bott = pd.DataFrame(index=time)\n",
    "bott['xp'] = 0\n",
    "ind = xp[xp['node']==s]['t']\n",
    "axs3.bar(ind, xp[xp['node']==s]['xp'], \n",
    "         label=s, width=t_S, align='edge', color=s_color[s])\n",
    "for s2 in stations[1:]:\n",
    "    ind = xp[xp['node']==s]['t']\n",
    "    bott['xp'].loc[ind] += xp[xp['node']==s]['xp'].values\n",
    "    axs3.bar(xp[xp['node']==s2]['t'], xp[xp['node']==s2]['xp'], bottom=bott.loc[xp[xp['node']==s2]['t']].values.reshape(-1),\n",
    "             label=s2, width=t_S, align='edge', color=s_color[s2])\n",
    "    s = s2\n",
    "ind = xp[xp['node']==s]['t']\n",
    "bott['xp'].loc[ind] += xp[xp['node']==s]['xp'].values\n",
    "\n",
    "# axs3.hlines(bott['xp'], bott.index, bott.index+t_S)\n",
    "bott.loc[t_T, 'xp'] = bott.loc[t_T-t_S, 'xp']\n",
    "axs3.step(bott.index, bott['xp'], where='post', alpha=a, color='black')\n",
    "axs3.set_title('Power', fontdict=fdict)\n",
    "# axs3.legend(loc=\"upper left\", ncol=round(ns/2), bbox_to_anchor=(0, -.25));\n",
    "\n",
    "# Plot energy price\n",
    "ce.loc[t_T] = ce.loc[t_T-t_S]\n",
    "for s in stations:\n",
    "    axs4.step(ce[m.s_2s[s]].index, ce[m.s_2s[s]], where='post', label='_nolegend_', alpha=a, color=s_color[s])\n",
    "axs4.set_title('Energy Price', fontdict={'fontsize': MEDIUM_SIZE, 'fontweight' : fweight})      \n",
    "\n",
    "# Plot load profiles\n",
    "G.loc[t_T] = G.loc[t_T-t_S]\n",
    "\n",
    "# calculate total power for each station\n",
    "temp = xp.copy()\n",
    "temp['s'] = temp['node'].apply(lambda x: m.s_2s[x])\n",
    "total_power = temp.groupby(['s', 't']).sum()\n",
    "\n",
    "for si, s in enumerate(unique_stations):\n",
    "    # create an inset axe in the current axe:\n",
    "    ax5 = axs5.inset_axes([0, si*1/nus, 1, .8*1/nus])\n",
    "    ax5.step(G[s].index, G[s], where='post', label='_nolegend_', alpha=a, color=us_color[s])\n",
    "    \n",
    "    net_load = G[s].copy()\n",
    "    net_load[total_power.loc[s].index] += total_power.loc[s]['xp']\n",
    "    ax5.fill_between(net_load.index, net_load, step=\"post\", alpha=a, color='black')\n",
    "    \n",
    "    ax5.get_shared_x_axes().join(ax5, axs5)\n",
    "    ax5.get_shared_y_axes().join(ax5, axs5)\n",
    "    ax5.set_xticklabels([])\n",
    "    axs5.set_yticklabels([])\n",
    "    axs5.set_xlim([0, t_T])\n",
    "    ax5.title.set_text('{}: ${}/kW'.format(s, m.data['S'].loc[s, 'cg']))  \n",
    "\n",
    "axs5.spines['right'].set_visible(False)\n",
    "axs5.spines['top'].set_visible(False)\n",
    "axs5.spines['bottom'].set_visible(False)\n",
    "axs5.spines['left'].set_visible(False)\n",
    "axs5.set_title('Load Profile', fontdict=fdict)  \n",
    "\n",
    "fig.legend(loc=\"lower right\", bbox_to_anchor=(1.05, 0.01)); # ncol=round(nus), , bbox_to_anchor=(1.05, .4)\n",
    "\n",
    "fig.tight_layout()"
   ]
  },
  {
   "cell_type": "code",
   "execution_count": 82,
   "metadata": {},
   "outputs": [
    {
     "data": {
      "text/html": [
       "<div>\n",
       "<style scoped>\n",
       "    .dataframe tbody tr th:only-of-type {\n",
       "        vertical-align: middle;\n",
       "    }\n",
       "\n",
       "    .dataframe tbody tr th {\n",
       "        vertical-align: top;\n",
       "    }\n",
       "\n",
       "    .dataframe thead th {\n",
       "        text-align: right;\n",
       "    }\n",
       "</style>\n",
       "<table border=\"1\" class=\"dataframe\">\n",
       "  <thead>\n",
       "    <tr style=\"text-align: right;\">\n",
       "      <th></th>\n",
       "      <th>node</th>\n",
       "      <th>t</th>\n",
       "      <th>state</th>\n",
       "      <th>xp</th>\n",
       "    </tr>\n",
       "  </thead>\n",
       "  <tbody>\n",
       "    <tr>\n",
       "      <th>117</th>\n",
       "      <td>S0_1</td>\n",
       "      <td>120</td>\n",
       "      <td>1.0</td>\n",
       "      <td>-0.288184</td>\n",
       "    </tr>\n",
       "    <tr>\n",
       "      <th>118</th>\n",
       "      <td>S0_1</td>\n",
       "      <td>150</td>\n",
       "      <td>1.0</td>\n",
       "      <td>-0.288184</td>\n",
       "    </tr>\n",
       "    <tr>\n",
       "      <th>119</th>\n",
       "      <td>S0_1</td>\n",
       "      <td>180</td>\n",
       "      <td>1.0</td>\n",
       "      <td>-0.125555</td>\n",
       "    </tr>\n",
       "    <tr>\n",
       "      <th>120</th>\n",
       "      <td>S0_1</td>\n",
       "      <td>210</td>\n",
       "      <td>1.0</td>\n",
       "      <td>-0.288184</td>\n",
       "    </tr>\n",
       "    <tr>\n",
       "      <th>121</th>\n",
       "      <td>S0_1</td>\n",
       "      <td>240</td>\n",
       "      <td>1.0</td>\n",
       "      <td>-0.288184</td>\n",
       "    </tr>\n",
       "    <tr>\n",
       "      <th>122</th>\n",
       "      <td>S0_1</td>\n",
       "      <td>270</td>\n",
       "      <td>1.0</td>\n",
       "      <td>-0.288184</td>\n",
       "    </tr>\n",
       "    <tr>\n",
       "      <th>354</th>\n",
       "      <td>S15_0</td>\n",
       "      <td>450</td>\n",
       "      <td>1.0</td>\n",
       "      <td>0.288184</td>\n",
       "    </tr>\n",
       "    <tr>\n",
       "      <th>355</th>\n",
       "      <td>S15_0</td>\n",
       "      <td>480</td>\n",
       "      <td>1.0</td>\n",
       "      <td>0.288184</td>\n",
       "    </tr>\n",
       "    <tr>\n",
       "      <th>242</th>\n",
       "      <td>S3_0</td>\n",
       "      <td>480</td>\n",
       "      <td>1.0</td>\n",
       "      <td>0.288184</td>\n",
       "    </tr>\n",
       "    <tr>\n",
       "      <th>243</th>\n",
       "      <td>S3_0</td>\n",
       "      <td>510</td>\n",
       "      <td>1.0</td>\n",
       "      <td>0.288184</td>\n",
       "    </tr>\n",
       "    <tr>\n",
       "      <th>356</th>\n",
       "      <td>S15_0</td>\n",
       "      <td>510</td>\n",
       "      <td>1.0</td>\n",
       "      <td>0.288184</td>\n",
       "    </tr>\n",
       "    <tr>\n",
       "      <th>357</th>\n",
       "      <td>S15_0</td>\n",
       "      <td>540</td>\n",
       "      <td>1.0</td>\n",
       "      <td>0.288184</td>\n",
       "    </tr>\n",
       "    <tr>\n",
       "      <th>244</th>\n",
       "      <td>S3_0</td>\n",
       "      <td>540</td>\n",
       "      <td>1.0</td>\n",
       "      <td>0.288184</td>\n",
       "    </tr>\n",
       "    <tr>\n",
       "      <th>358</th>\n",
       "      <td>S15_0</td>\n",
       "      <td>570</td>\n",
       "      <td>1.0</td>\n",
       "      <td>0.288184</td>\n",
       "    </tr>\n",
       "    <tr>\n",
       "      <th>245</th>\n",
       "      <td>S3_0</td>\n",
       "      <td>570</td>\n",
       "      <td>1.0</td>\n",
       "      <td>0.288184</td>\n",
       "    </tr>\n",
       "    <tr>\n",
       "      <th>246</th>\n",
       "      <td>S3_0</td>\n",
       "      <td>600</td>\n",
       "      <td>1.0</td>\n",
       "      <td>0.288184</td>\n",
       "    </tr>\n",
       "    <tr>\n",
       "      <th>359</th>\n",
       "      <td>S15_0</td>\n",
       "      <td>600</td>\n",
       "      <td>1.0</td>\n",
       "      <td>0.288184</td>\n",
       "    </tr>\n",
       "    <tr>\n",
       "      <th>247</th>\n",
       "      <td>S3_0</td>\n",
       "      <td>630</td>\n",
       "      <td>1.0</td>\n",
       "      <td>0.288184</td>\n",
       "    </tr>\n",
       "    <tr>\n",
       "      <th>360</th>\n",
       "      <td>S15_0</td>\n",
       "      <td>630</td>\n",
       "      <td>1.0</td>\n",
       "      <td>0.288184</td>\n",
       "    </tr>\n",
       "    <tr>\n",
       "      <th>361</th>\n",
       "      <td>S15_0</td>\n",
       "      <td>660</td>\n",
       "      <td>1.0</td>\n",
       "      <td>0.152403</td>\n",
       "    </tr>\n",
       "    <tr>\n",
       "      <th>248</th>\n",
       "      <td>S3_0</td>\n",
       "      <td>660</td>\n",
       "      <td>1.0</td>\n",
       "      <td>0.288184</td>\n",
       "    </tr>\n",
       "    <tr>\n",
       "      <th>362</th>\n",
       "      <td>S15_0</td>\n",
       "      <td>690</td>\n",
       "      <td>1.0</td>\n",
       "      <td>0.288184</td>\n",
       "    </tr>\n",
       "    <tr>\n",
       "      <th>249</th>\n",
       "      <td>S3_0</td>\n",
       "      <td>690</td>\n",
       "      <td>1.0</td>\n",
       "      <td>0.288184</td>\n",
       "    </tr>\n",
       "    <tr>\n",
       "      <th>51</th>\n",
       "      <td>S0_0</td>\n",
       "      <td>1530</td>\n",
       "      <td>1.0</td>\n",
       "      <td>-0.288184</td>\n",
       "    </tr>\n",
       "    <tr>\n",
       "      <th>52</th>\n",
       "      <td>S0_0</td>\n",
       "      <td>1560</td>\n",
       "      <td>1.0</td>\n",
       "      <td>-0.288184</td>\n",
       "    </tr>\n",
       "    <tr>\n",
       "      <th>53</th>\n",
       "      <td>S0_0</td>\n",
       "      <td>1590</td>\n",
       "      <td>1.0</td>\n",
       "      <td>-0.146731</td>\n",
       "    </tr>\n",
       "  </tbody>\n",
       "</table>\n",
       "</div>"
      ],
      "text/plain": [
       "      node     t  state        xp\n",
       "117   S0_1   120    1.0 -0.288184\n",
       "118   S0_1   150    1.0 -0.288184\n",
       "119   S0_1   180    1.0 -0.125555\n",
       "120   S0_1   210    1.0 -0.288184\n",
       "121   S0_1   240    1.0 -0.288184\n",
       "122   S0_1   270    1.0 -0.288184\n",
       "354  S15_0   450    1.0  0.288184\n",
       "355  S15_0   480    1.0  0.288184\n",
       "242   S3_0   480    1.0  0.288184\n",
       "243   S3_0   510    1.0  0.288184\n",
       "356  S15_0   510    1.0  0.288184\n",
       "357  S15_0   540    1.0  0.288184\n",
       "244   S3_0   540    1.0  0.288184\n",
       "358  S15_0   570    1.0  0.288184\n",
       "245   S3_0   570    1.0  0.288184\n",
       "246   S3_0   600    1.0  0.288184\n",
       "359  S15_0   600    1.0  0.288184\n",
       "247   S3_0   630    1.0  0.288184\n",
       "360  S15_0   630    1.0  0.288184\n",
       "361  S15_0   660    1.0  0.152403\n",
       "248   S3_0   660    1.0  0.288184\n",
       "362  S15_0   690    1.0  0.288184\n",
       "249   S3_0   690    1.0  0.288184\n",
       "51    S0_0  1530    1.0 -0.288184\n",
       "52    S0_0  1560    1.0 -0.288184\n",
       "53    S0_0  1590    1.0 -0.146731"
      ]
     },
     "execution_count": 82,
     "metadata": {},
     "output_type": "execute_result"
    }
   ],
   "source": [
    "xp"
   ]
  },
  {
   "cell_type": "code",
   "execution_count": 2784,
   "metadata": {},
   "outputs": [
    {
     "data": {
      "text/html": [
       "<div>\n",
       "<style scoped>\n",
       "    .dataframe tbody tr th:only-of-type {\n",
       "        vertical-align: middle;\n",
       "    }\n",
       "\n",
       "    .dataframe tbody tr th {\n",
       "        vertical-align: top;\n",
       "    }\n",
       "\n",
       "    .dataframe thead th {\n",
       "        text-align: right;\n",
       "    }\n",
       "</style>\n",
       "<table border=\"1\" class=\"dataframe\">\n",
       "  <thead>\n",
       "    <tr style=\"text-align: right;\">\n",
       "      <th></th>\n",
       "      <th></th>\n",
       "      <th>state</th>\n",
       "      <th>xw</th>\n",
       "      <th>xq</th>\n",
       "      <th>xa</th>\n",
       "      <th>from_d_x</th>\n",
       "      <th>from_d_y</th>\n",
       "      <th>to_d_x</th>\n",
       "      <th>to_d_y</th>\n",
       "    </tr>\n",
       "    <tr>\n",
       "      <th>from</th>\n",
       "      <th>to</th>\n",
       "      <th></th>\n",
       "      <th></th>\n",
       "      <th></th>\n",
       "      <th></th>\n",
       "      <th></th>\n",
       "      <th></th>\n",
       "      <th></th>\n",
       "      <th></th>\n",
       "    </tr>\n",
       "  </thead>\n",
       "  <tbody>\n",
       "    <tr>\n",
       "      <th rowspan=\"2\" valign=\"top\">D0</th>\n",
       "      <th>S0_0</th>\n",
       "      <td>1.0</td>\n",
       "      <td>0.000000</td>\n",
       "      <td>700.0</td>\n",
       "      <td>77.750000</td>\n",
       "      <td>40</td>\n",
       "      <td>50</td>\n",
       "      <td>40</td>\n",
       "      <td>50</td>\n",
       "    </tr>\n",
       "    <tr>\n",
       "      <th>S0_1</th>\n",
       "      <td>1.0</td>\n",
       "      <td>0.000000</td>\n",
       "      <td>700.0</td>\n",
       "      <td>77.750000</td>\n",
       "      <td>40</td>\n",
       "      <td>50</td>\n",
       "      <td>40</td>\n",
       "      <td>50</td>\n",
       "    </tr>\n",
       "    <tr>\n",
       "      <th>S0_0</th>\n",
       "      <th>C8</th>\n",
       "      <td>1.0</td>\n",
       "      <td>12.000000</td>\n",
       "      <td>700.0</td>\n",
       "      <td>66.088096</td>\n",
       "      <td>40</td>\n",
       "      <td>50</td>\n",
       "      <td>34</td>\n",
       "      <td>60</td>\n",
       "    </tr>\n",
       "    <tr>\n",
       "      <th>C8</th>\n",
       "      <th>C9</th>\n",
       "      <td>1.0</td>\n",
       "      <td>138.000000</td>\n",
       "      <td>680.0</td>\n",
       "      <td>54.426192</td>\n",
       "      <td>34</td>\n",
       "      <td>60</td>\n",
       "      <td>28</td>\n",
       "      <td>70</td>\n",
       "    </tr>\n",
       "    <tr>\n",
       "      <th>C9</th>\n",
       "      <th>C15</th>\n",
       "      <td>1.0</td>\n",
       "      <td>331.000000</td>\n",
       "      <td>670.0</td>\n",
       "      <td>41.619944</td>\n",
       "      <td>28</td>\n",
       "      <td>70</td>\n",
       "      <td>20</td>\n",
       "      <td>80</td>\n",
       "    </tr>\n",
       "    <tr>\n",
       "      <th>C15</th>\n",
       "      <th>S3_0</th>\n",
       "      <td>1.0</td>\n",
       "      <td>510.000000</td>\n",
       "      <td>40.0</td>\n",
       "      <td>0.163985</td>\n",
       "      <td>20</td>\n",
       "      <td>80</td>\n",
       "      <td>57</td>\n",
       "      <td>82</td>\n",
       "    </tr>\n",
       "    <tr>\n",
       "      <th>S0_1</th>\n",
       "      <th>C47</th>\n",
       "      <td>1.0</td>\n",
       "      <td>547.000000</td>\n",
       "      <td>700.0</td>\n",
       "      <td>56.437609</td>\n",
       "      <td>40</td>\n",
       "      <td>50</td>\n",
       "      <td>30</td>\n",
       "      <td>35</td>\n",
       "    </tr>\n",
       "    <tr>\n",
       "      <th>S3_0</th>\n",
       "      <th>C94</th>\n",
       "      <td>1.0</td>\n",
       "      <td>728.000000</td>\n",
       "      <td>40.0</td>\n",
       "      <td>44.037184</td>\n",
       "      <td>57</td>\n",
       "      <td>82</td>\n",
       "      <td>65</td>\n",
       "      <td>82</td>\n",
       "    </tr>\n",
       "    <tr>\n",
       "      <th>C94</th>\n",
       "      <th>C99</th>\n",
       "      <td>1.0</td>\n",
       "      <td>1130.000000</td>\n",
       "      <td>30.0</td>\n",
       "      <td>33.839145</td>\n",
       "      <td>65</td>\n",
       "      <td>82</td>\n",
       "      <td>55</td>\n",
       "      <td>80</td>\n",
       "    </tr>\n",
       "    <tr>\n",
       "      <th>C47</th>\n",
       "      <th>C60</th>\n",
       "      <td>1.0</td>\n",
       "      <td>1312.000000</td>\n",
       "      <td>690.0</td>\n",
       "      <td>26.023796</td>\n",
       "      <td>30</td>\n",
       "      <td>35</td>\n",
       "      <td>35</td>\n",
       "      <td>5</td>\n",
       "    </tr>\n",
       "    <tr>\n",
       "      <th>C99</th>\n",
       "      <th>C75</th>\n",
       "      <td>1.0</td>\n",
       "      <td>1419.000000</td>\n",
       "      <td>20.0</td>\n",
       "      <td>15.811388</td>\n",
       "      <td>55</td>\n",
       "      <td>80</td>\n",
       "      <td>45</td>\n",
       "      <td>65</td>\n",
       "    </tr>\n",
       "    <tr>\n",
       "      <th>C60</th>\n",
       "      <th>C56</th>\n",
       "      <td>1.0</td>\n",
       "      <td>1497.000000</td>\n",
       "      <td>40.0</td>\n",
       "      <td>21.023796</td>\n",
       "      <td>35</td>\n",
       "      <td>5</td>\n",
       "      <td>40</td>\n",
       "      <td>5</td>\n",
       "    </tr>\n",
       "    <tr>\n",
       "      <th>C56</th>\n",
       "      <th>S15_0</th>\n",
       "      <td>1.0</td>\n",
       "      <td>1608.023796</td>\n",
       "      <td>10.0</td>\n",
       "      <td>0.000000</td>\n",
       "      <td>40</td>\n",
       "      <td>5</td>\n",
       "      <td>39</td>\n",
       "      <td>26</td>\n",
       "    </tr>\n",
       "    <tr>\n",
       "      <th>S15_0</th>\n",
       "      <th>C66</th>\n",
       "      <td>1.0</td>\n",
       "      <td>2953.000000</td>\n",
       "      <td>10.0</td>\n",
       "      <td>16.552945</td>\n",
       "      <td>39</td>\n",
       "      <td>26</td>\n",
       "      <td>47</td>\n",
       "      <td>35</td>\n",
       "    </tr>\n",
       "    <tr>\n",
       "      <th>C75</th>\n",
       "      <th>D1</th>\n",
       "      <td>1.0</td>\n",
       "      <td>3390.000000</td>\n",
       "      <td>0.0</td>\n",
       "      <td>0.000000</td>\n",
       "      <td>45</td>\n",
       "      <td>65</td>\n",
       "      <td>40</td>\n",
       "      <td>50</td>\n",
       "    </tr>\n",
       "    <tr>\n",
       "      <th>C66</th>\n",
       "      <th>D1</th>\n",
       "      <td>1.0</td>\n",
       "      <td>3390.000000</td>\n",
       "      <td>0.0</td>\n",
       "      <td>0.000000</td>\n",
       "      <td>47</td>\n",
       "      <td>35</td>\n",
       "      <td>40</td>\n",
       "      <td>50</td>\n",
       "    </tr>\n",
       "  </tbody>\n",
       "</table>\n",
       "</div>"
      ],
      "text/plain": [
       "             state           xw     xq         xa  from_d_x  from_d_y  to_d_x  \\\n",
       "from  to                                                                        \n",
       "D0    S0_0     1.0     0.000000  700.0  77.750000        40        50      40   \n",
       "      S0_1     1.0     0.000000  700.0  77.750000        40        50      40   \n",
       "S0_0  C8       1.0    12.000000  700.0  66.088096        40        50      34   \n",
       "C8    C9       1.0   138.000000  680.0  54.426192        34        60      28   \n",
       "C9    C15      1.0   331.000000  670.0  41.619944        28        70      20   \n",
       "C15   S3_0     1.0   510.000000   40.0   0.163985        20        80      57   \n",
       "S0_1  C47      1.0   547.000000  700.0  56.437609        40        50      30   \n",
       "S3_0  C94      1.0   728.000000   40.0  44.037184        57        82      65   \n",
       "C94   C99      1.0  1130.000000   30.0  33.839145        65        82      55   \n",
       "C47   C60      1.0  1312.000000  690.0  26.023796        30        35      35   \n",
       "C99   C75      1.0  1419.000000   20.0  15.811388        55        80      45   \n",
       "C60   C56      1.0  1497.000000   40.0  21.023796        35         5      40   \n",
       "C56   S15_0    1.0  1608.023796   10.0   0.000000        40         5      39   \n",
       "S15_0 C66      1.0  2953.000000   10.0  16.552945        39        26      47   \n",
       "C75   D1       1.0  3390.000000    0.0   0.000000        45        65      40   \n",
       "C66   D1       1.0  3390.000000    0.0   0.000000        47        35      40   \n",
       "\n",
       "             to_d_y  \n",
       "from  to             \n",
       "D0    S0_0       50  \n",
       "      S0_1       50  \n",
       "S0_0  C8         60  \n",
       "C8    C9         70  \n",
       "C9    C15        80  \n",
       "C15   S3_0       82  \n",
       "S0_1  C47        35  \n",
       "S3_0  C94        82  \n",
       "C94   C99        80  \n",
       "C47   C60         5  \n",
       "C99   C75        65  \n",
       "C60   C56         5  \n",
       "C56   S15_0      26  \n",
       "S15_0 C66        35  \n",
       "C75   D1         50  \n",
       "C66   D1         50  "
      ]
     },
     "execution_count": 2784,
     "metadata": {},
     "output_type": "execute_result"
    }
   ],
   "source": [
    "routes"
   ]
  },
  {
   "cell_type": "code",
   "execution_count": null,
   "metadata": {},
   "outputs": [],
   "source": [
    "i = 'S0_2'\n",
    "j = 'D1'\n",
    "m.instance.xw[i]() + m.instance.d[i, j] + m.instance.t_S() * sum(m.instance.xkappa[i, t] for t in m.instance.T)() - m.instance.xw[j]()"
   ]
  },
  {
   "cell_type": "code",
   "execution_count": null,
   "metadata": {},
   "outputs": [],
   "source": [
    "m.data['d']"
   ]
  },
  {
   "cell_type": "code",
   "execution_count": null,
   "metadata": {},
   "outputs": [],
   "source": [
    "routes"
   ]
  },
  {
   "cell_type": "code",
   "execution_count": 1383,
   "metadata": {},
   "outputs": [
    {
     "data": {
      "text/plain": [
       "2426.4937076977776"
      ]
     },
     "execution_count": 1383,
     "metadata": {},
     "output_type": "execute_result"
    }
   ],
   "source": [
    "m.instance.obj.expr()"
   ]
  },
  {
   "cell_type": "code",
   "execution_count": 1384,
   "metadata": {},
   "outputs": [
    {
     "data": {
      "text/plain": [
       "1.096728461629606"
      ]
     },
     "execution_count": 1384,
     "metadata": {},
     "output_type": "execute_result"
    }
   ],
   "source": [
    "sum(sum(sum(m.instance.ce.extract_values()[(s,t)] * m.instance.xp.extract_values()[(i,t)] * m.instance.xkappa.extract_values()[(i,t)] for t in m.instance.T.data()) for i in m.instance.Smap.extract_values()[s]) for s in m.instance.S.data())"
   ]
  },
  {
   "cell_type": "code",
   "execution_count": 1385,
   "metadata": {},
   "outputs": [
    {
     "data": {
      "text/html": [
       "<div>\n",
       "<style scoped>\n",
       "    .dataframe tbody tr th:only-of-type {\n",
       "        vertical-align: middle;\n",
       "    }\n",
       "\n",
       "    .dataframe tbody tr th {\n",
       "        vertical-align: top;\n",
       "    }\n",
       "\n",
       "    .dataframe thead tr th {\n",
       "        text-align: left;\n",
       "    }\n",
       "\n",
       "    .dataframe thead tr:last-of-type th {\n",
       "        text-align: right;\n",
       "    }\n",
       "</style>\n",
       "<table border=\"1\" class=\"dataframe\">\n",
       "  <thead>\n",
       "    <tr>\n",
       "      <th></th>\n",
       "      <th colspan=\"8\" halign=\"left\">t</th>\n",
       "      <th colspan=\"5\" halign=\"left\">state</th>\n",
       "      <th colspan=\"8\" halign=\"left\">xp</th>\n",
       "    </tr>\n",
       "    <tr>\n",
       "      <th></th>\n",
       "      <th>count</th>\n",
       "      <th>mean</th>\n",
       "      <th>std</th>\n",
       "      <th>min</th>\n",
       "      <th>25%</th>\n",
       "      <th>50%</th>\n",
       "      <th>75%</th>\n",
       "      <th>max</th>\n",
       "      <th>count</th>\n",
       "      <th>mean</th>\n",
       "      <th>...</th>\n",
       "      <th>75%</th>\n",
       "      <th>max</th>\n",
       "      <th>count</th>\n",
       "      <th>mean</th>\n",
       "      <th>std</th>\n",
       "      <th>min</th>\n",
       "      <th>25%</th>\n",
       "      <th>50%</th>\n",
       "      <th>75%</th>\n",
       "      <th>max</th>\n",
       "    </tr>\n",
       "    <tr>\n",
       "      <th>node</th>\n",
       "      <th></th>\n",
       "      <th></th>\n",
       "      <th></th>\n",
       "      <th></th>\n",
       "      <th></th>\n",
       "      <th></th>\n",
       "      <th></th>\n",
       "      <th></th>\n",
       "      <th></th>\n",
       "      <th></th>\n",
       "      <th></th>\n",
       "      <th></th>\n",
       "      <th></th>\n",
       "      <th></th>\n",
       "      <th></th>\n",
       "      <th></th>\n",
       "      <th></th>\n",
       "      <th></th>\n",
       "      <th></th>\n",
       "      <th></th>\n",
       "      <th></th>\n",
       "    </tr>\n",
       "  </thead>\n",
       "  <tbody>\n",
       "    <tr>\n",
       "      <th>S0_0</th>\n",
       "      <td>3.0</td>\n",
       "      <td>30.0</td>\n",
       "      <td>10.000000</td>\n",
       "      <td>20.0</td>\n",
       "      <td>25.0</td>\n",
       "      <td>30.0</td>\n",
       "      <td>35.0</td>\n",
       "      <td>40.0</td>\n",
       "      <td>3.0</td>\n",
       "      <td>1.0</td>\n",
       "      <td>...</td>\n",
       "      <td>1.0</td>\n",
       "      <td>1.0</td>\n",
       "      <td>3.0</td>\n",
       "      <td>0.636832</td>\n",
       "      <td>2.319827</td>\n",
       "      <td>-2.040816</td>\n",
       "      <td>-0.065160</td>\n",
       "      <td>1.910497</td>\n",
       "      <td>1.975657</td>\n",
       "      <td>2.040816</td>\n",
       "    </tr>\n",
       "    <tr>\n",
       "      <th>S0_1</th>\n",
       "      <td>5.0</td>\n",
       "      <td>20.0</td>\n",
       "      <td>15.811388</td>\n",
       "      <td>0.0</td>\n",
       "      <td>10.0</td>\n",
       "      <td>20.0</td>\n",
       "      <td>30.0</td>\n",
       "      <td>40.0</td>\n",
       "      <td>5.0</td>\n",
       "      <td>1.0</td>\n",
       "      <td>...</td>\n",
       "      <td>1.0</td>\n",
       "      <td>1.0</td>\n",
       "      <td>5.0</td>\n",
       "      <td>1.156031</td>\n",
       "      <td>1.793228</td>\n",
       "      <td>-2.040816</td>\n",
       "      <td>1.698522</td>\n",
       "      <td>2.040816</td>\n",
       "      <td>2.040816</td>\n",
       "      <td>2.040816</td>\n",
       "    </tr>\n",
       "    <tr>\n",
       "      <th>S0_2</th>\n",
       "      <td>1.0</td>\n",
       "      <td>220.0</td>\n",
       "      <td>NaN</td>\n",
       "      <td>220.0</td>\n",
       "      <td>220.0</td>\n",
       "      <td>220.0</td>\n",
       "      <td>220.0</td>\n",
       "      <td>220.0</td>\n",
       "      <td>1.0</td>\n",
       "      <td>1.0</td>\n",
       "      <td>...</td>\n",
       "      <td>1.0</td>\n",
       "      <td>1.0</td>\n",
       "      <td>1.0</td>\n",
       "      <td>-1.400839</td>\n",
       "      <td>NaN</td>\n",
       "      <td>-1.400839</td>\n",
       "      <td>-1.400839</td>\n",
       "      <td>-1.400839</td>\n",
       "      <td>-1.400839</td>\n",
       "      <td>-1.400839</td>\n",
       "    </tr>\n",
       "    <tr>\n",
       "      <th>S0_3</th>\n",
       "      <td>7.0</td>\n",
       "      <td>190.0</td>\n",
       "      <td>21.602469</td>\n",
       "      <td>160.0</td>\n",
       "      <td>175.0</td>\n",
       "      <td>190.0</td>\n",
       "      <td>205.0</td>\n",
       "      <td>220.0</td>\n",
       "      <td>7.0</td>\n",
       "      <td>1.0</td>\n",
       "      <td>...</td>\n",
       "      <td>1.0</td>\n",
       "      <td>1.0</td>\n",
       "      <td>7.0</td>\n",
       "      <td>-0.398220</td>\n",
       "      <td>2.063743</td>\n",
       "      <td>-2.040816</td>\n",
       "      <td>-2.040816</td>\n",
       "      <td>-2.040816</td>\n",
       "      <td>1.667455</td>\n",
       "      <td>2.040816</td>\n",
       "    </tr>\n",
       "    <tr>\n",
       "      <th>S13_0</th>\n",
       "      <td>3.0</td>\n",
       "      <td>80.0</td>\n",
       "      <td>10.000000</td>\n",
       "      <td>70.0</td>\n",
       "      <td>75.0</td>\n",
       "      <td>80.0</td>\n",
       "      <td>85.0</td>\n",
       "      <td>90.0</td>\n",
       "      <td>3.0</td>\n",
       "      <td>1.0</td>\n",
       "      <td>...</td>\n",
       "      <td>1.0</td>\n",
       "      <td>1.0</td>\n",
       "      <td>3.0</td>\n",
       "      <td>2.021000</td>\n",
       "      <td>0.034323</td>\n",
       "      <td>1.981367</td>\n",
       "      <td>2.011092</td>\n",
       "      <td>2.040816</td>\n",
       "      <td>2.040816</td>\n",
       "      <td>2.040816</td>\n",
       "    </tr>\n",
       "    <tr>\n",
       "      <th>S1_0</th>\n",
       "      <td>3.0</td>\n",
       "      <td>130.0</td>\n",
       "      <td>10.000000</td>\n",
       "      <td>120.0</td>\n",
       "      <td>125.0</td>\n",
       "      <td>130.0</td>\n",
       "      <td>135.0</td>\n",
       "      <td>140.0</td>\n",
       "      <td>3.0</td>\n",
       "      <td>1.0</td>\n",
       "      <td>...</td>\n",
       "      <td>1.0</td>\n",
       "      <td>1.0</td>\n",
       "      <td>3.0</td>\n",
       "      <td>2.021000</td>\n",
       "      <td>0.017161</td>\n",
       "      <td>2.011092</td>\n",
       "      <td>2.011092</td>\n",
       "      <td>2.011092</td>\n",
       "      <td>2.025954</td>\n",
       "      <td>2.040816</td>\n",
       "    </tr>\n",
       "  </tbody>\n",
       "</table>\n",
       "<p>6 rows × 24 columns</p>\n",
       "</div>"
      ],
      "text/plain": [
       "          t                                                      state       \\\n",
       "      count   mean        std    min    25%    50%    75%    max count mean   \n",
       "node                                                                          \n",
       "S0_0    3.0   30.0  10.000000   20.0   25.0   30.0   35.0   40.0   3.0  1.0   \n",
       "S0_1    5.0   20.0  15.811388    0.0   10.0   20.0   30.0   40.0   5.0  1.0   \n",
       "S0_2    1.0  220.0        NaN  220.0  220.0  220.0  220.0  220.0   1.0  1.0   \n",
       "S0_3    7.0  190.0  21.602469  160.0  175.0  190.0  205.0  220.0   7.0  1.0   \n",
       "S13_0   3.0   80.0  10.000000   70.0   75.0   80.0   85.0   90.0   3.0  1.0   \n",
       "S1_0    3.0  130.0  10.000000  120.0  125.0  130.0  135.0  140.0   3.0  1.0   \n",
       "\n",
       "       ...              xp                                                    \\\n",
       "       ...  75%  max count      mean       std       min       25%       50%   \n",
       "node   ...                                                                     \n",
       "S0_0   ...  1.0  1.0   3.0  0.636832  2.319827 -2.040816 -0.065160  1.910497   \n",
       "S0_1   ...  1.0  1.0   5.0  1.156031  1.793228 -2.040816  1.698522  2.040816   \n",
       "S0_2   ...  1.0  1.0   1.0 -1.400839       NaN -1.400839 -1.400839 -1.400839   \n",
       "S0_3   ...  1.0  1.0   7.0 -0.398220  2.063743 -2.040816 -2.040816 -2.040816   \n",
       "S13_0  ...  1.0  1.0   3.0  2.021000  0.034323  1.981367  2.011092  2.040816   \n",
       "S1_0   ...  1.0  1.0   3.0  2.021000  0.017161  2.011092  2.011092  2.011092   \n",
       "\n",
       "                           \n",
       "            75%       max  \n",
       "node                       \n",
       "S0_0   1.975657  2.040816  \n",
       "S0_1   2.040816  2.040816  \n",
       "S0_2  -1.400839 -1.400839  \n",
       "S0_3   1.667455  2.040816  \n",
       "S13_0  2.040816  2.040816  \n",
       "S1_0   2.025954  2.040816  \n",
       "\n",
       "[6 rows x 24 columns]"
      ]
     },
     "execution_count": 1385,
     "metadata": {},
     "output_type": "execute_result"
    }
   ],
   "source": [
    "xp.groupby('node').describe()"
   ]
  },
  {
   "cell_type": "code",
   "execution_count": 776,
   "metadata": {},
   "outputs": [],
   "source": [
    "test = [xp.set_index('node').loc[n,'state'] * v for n, v in routes.reset_index('to')['state'].iteritems() if n in xp['node'].unique()]"
   ]
  },
  {
   "cell_type": "code",
   "execution_count": null,
   "metadata": {},
   "outputs": [],
   "source": []
  }
 ],
 "metadata": {
  "kernelspec": {
   "display_name": "Python 3",
   "language": "python",
   "name": "python3"
  },
  "language_info": {
   "codemirror_mode": {
    "name": "ipython",
    "version": 3
   },
   "file_extension": ".py",
   "mimetype": "text/x-python",
   "name": "python",
   "nbconvert_exporter": "python",
   "pygments_lexer": "ipython3",
   "version": "3.6.10"
  }
 },
 "nbformat": 4,
 "nbformat_minor": 1
}
