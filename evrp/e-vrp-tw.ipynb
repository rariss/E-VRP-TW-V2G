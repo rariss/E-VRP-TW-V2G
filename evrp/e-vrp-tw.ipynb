{
 "cells": [
  {
   "cell_type": "code",
   "execution_count": 1,
   "metadata": {
    "pycharm": {
     "name": "#%%\n"
    }
   },
   "outputs": [],
   "source": [
    "import sys\n",
    "sys.path.append(\"../\") # go to parent dir\n",
    "\n",
    "%load_ext autoreload\n",
    "%autoreload 2"
   ]
  },
  {
   "cell_type": "code",
   "execution_count": 712,
   "metadata": {
    "pycharm": {
     "name": "#%%\n"
    }
   },
   "outputs": [],
   "source": [
    "from evrp.utils.utilities import *\n",
    "from evrp.utils.graph import draw_plain_graph, draw_graph\n",
    "from evrp.utils.plot import plot_interactive_graph\n",
    "from evrp.milp.tsp import TSP\n",
    "from evrp.milp.vrptw import VRPTW\n",
    "from evrp.milp.evrptw import EVRPTW\n",
    "\n",
    "import pandas as pd\n",
    "import numpy as np\n",
    "from scipy.spatial import distance\n",
    "\n",
    "import pprint\n",
    "\n",
    "import plotly.figure_factory as ff\n",
    "from plotly.subplots import make_subplots\n",
    "import plotly.graph_objects as go\n",
    "import plotly.express as px\n",
    "\n",
    "import matplotlib.pyplot as plt\n",
    "import matplotlib.colors as pltc\n",
    "\n",
    "import itertools\n",
    "\n",
    "import networkx as nx\n",
    "\n",
    "from pyomo.environ import *\n",
    "\n",
    "from evrp.config.GLOBAL_CONFIG import *\n",
    "\n",
    "pd.options.plotting.backend = \"plotly\"\n",
    "pp = pprint.PrettyPrinter()"
   ]
  },
  {
   "cell_type": "code",
   "execution_count": 546,
   "metadata": {
    "pycharm": {
     "name": "#%%\n"
    }
   },
   "outputs": [],
   "source": [
    "instance = 'r105c5_e'\n",
    "fpath = 'config/test_instances/' + instance + '.csv'"
   ]
  },
  {
   "cell_type": "code",
   "execution_count": 1036,
   "metadata": {
    "scrolled": false
   },
   "outputs": [
    {
     "name": "stderr",
     "output_type": "stream",
     "text": [
      "2021-01-15 03:31:50 INFO     Building abstract model\n",
      "2021-01-15 03:31:50 INFO     Defining parameters and sets\n",
      "2021-01-15 03:31:50 INFO     Defining variables\n",
      "2021-01-15 03:31:50 INFO     Defining constraints\n",
      "2021-01-15 03:31:50 INFO     Defining objective\n",
      "2021-01-15 03:31:50 INFO     Importing EVRPTW MILP instance: r105c5_e\n",
      "2021-01-15 03:31:50 INFO     Reading CSV\n",
      "2021-01-15 03:31:50 INFO     Creating graph\n",
      "2021-01-15 03:31:50 INFO     Creating timeseries data\n",
      "2021-01-15 03:31:50 INFO     Creating duplicates and extended graph\n",
      "2021-01-15 03:31:50 INFO     Calculating distance matrix\n",
      "2021-01-15 03:31:50 INFO     Creating parameters\n",
      "2021-01-15 03:31:50 INFO     Creating instance\n",
      "2021-01-15 03:31:51 INFO     Solving instance...\n"
     ]
    },
    {
     "name": "stdout",
     "output_type": "stream",
     "text": [
      "\n",
      "--------------------------------------------\n",
      "Warning: your license will expire in 13 days\n",
      "--------------------------------------------\n",
      "\n",
      "Using license file /Users/ramiariss/gurobi.lic\n",
      "Academic license - for non-commercial use only - expires 2021-01-28\n",
      "Read LP format model from file /var/folders/vv/1p3h17yx43n9m7k86th68_ym0000gn/T/tmpra3p0vwn.pyomo.lp\n",
      "Reading time = 0.03 seconds\n",
      "x2933: 272 rows, 2933 columns, 992 nonzeros\n",
      "No parameters matching 'MaxTime' found\n",
      "Gurobi Optimizer version 9.1.0 build v9.1.0rc0 (mac64)\n",
      "Thread count: 4 physical cores, 8 logical processors, using up to 8 threads\n",
      "Optimize a model with 272 rows, 2933 columns and 992 nonzeros\n",
      "Model fingerprint: 0xcff8a7dc\n",
      "Model has 1380 quadratic objective terms\n",
      "Model has 5652 quadratic constraints\n",
      "Variable types: 1420 continuous, 1513 integer (1513 binary)\n",
      "Coefficient statistics:\n",
      "  Matrix range     [1e+00, 3e+02]\n",
      "  QMatrix range    [1e+00, 1e+00]\n",
      "  QLMatrix range   [1e+00, 3e+02]\n",
      "  Objective range  [4e+00, 5e+02]\n",
      "  QObjective range [2e-01, 6e-01]\n",
      "  Bounds range     [1e+00, 1e+00]\n",
      "  RHS range        [1e+00, 2e+02]\n",
      "  QRHS range       [2e+00, 2e+02]\n",
      "Presolve removed 39 rows and 30 columns\n",
      "Presolve time: 0.15s\n",
      "Presolved: 5759 rows, 7043 columns, 28015 nonzeros\n",
      "Presolved model has 2760 SOS constraint(s)\n",
      "Variable types: 4169 continuous, 2874 integer (2874 binary)\n",
      "\n",
      "Root relaxation: objective 1.142672e+02, 148 iterations, 0.01 seconds\n",
      "\n",
      "    Nodes    |    Current Node    |     Objective Bounds      |     Work\n",
      " Expl Unexpl |  Obj  Depth IntInf | Incumbent    BestBd   Gap | It/Node Time\n",
      "\n",
      "     0     0  114.26718    0   12          -  114.26718      -     -    0s\n",
      "H    0     0                    1732.1146212  114.26718  93.4%     -    0s\n",
      "     0     0  129.93347    0   25 1732.11462  129.93347  92.5%     -    0s\n",
      "     0     0  134.23215    0   23 1732.11462  134.23215  92.3%     -    0s\n",
      "     0     0  138.06377    0   20 1732.11462  138.06377  92.0%     -    0s\n",
      "     0     0  138.16849    0   26 1732.11462  138.16849  92.0%     -    0s\n",
      "     0     0  138.16849    0   26 1732.11462  138.16849  92.0%     -    0s\n",
      "H    0     0                    1208.4499574  143.56368  88.1%     -    0s\n",
      "     0     0  143.56368    0   23 1208.44996  143.56368  88.1%     -    0s\n",
      "     0     0  143.59260    0   21 1208.44996  143.59260  88.1%     -    0s\n",
      "     0     2  143.59260    0   21 1208.44996  143.59260  88.1%     -    0s\n",
      "H   30    29                    1185.9935615  143.59260  87.9%   226    1s\n",
      "H   59    59                    1184.9063239  143.59260  87.9%   214    1s\n",
      "H  208   106                    1171.9110246  143.59260  87.7%   251    1s\n",
      "H  472   207                    1171.7541262  172.40495  85.3%   203    2s\n",
      "H  494   221                    1171.6902764  172.40495  85.3%   201    2s\n",
      "  1571   358 infeasible   14      1171.69028  284.94766  75.7%   192    5s\n",
      "  4525   538  708.62739   12   15 1171.69028  683.51096  41.7%   176   10s\n",
      "* 7305    88              29    1168.5457981  768.03935  34.3%   168   14s\n",
      "  7675    64     cutoff  115      1168.54580 1158.01403  0.90%   163   15s\n",
      "* 7726    64              24    1166.4965823 1159.31555  0.62%   162   15s\n",
      "\n",
      "Cutting planes:\n",
      "  Gomory: 2\n",
      "  Cover: 428\n",
      "  Implied bound: 93\n",
      "  MIR: 32\n",
      "  GUB cover: 1\n",
      "  Inf proof: 23\n",
      "  Zero half: 1\n",
      "  RLT: 19\n",
      "  Relax-and-lift: 1\n",
      "\n",
      "Explored 8279 nodes (1254410 simplex iterations) in 15.25 seconds\n",
      "Thread count was 8 (of 8 available processors)\n",
      "\n",
      "Solution count 9: 1166.5 1168.55 1171.69 ... 1732.11\n",
      "\n",
      "Optimal solution found (tolerance 1.00e-04)\n",
      "Best objective 1.166496582336e+03, best bound 1.166496582336e+03, gap 0.0000%\n"
     ]
    },
    {
     "name": "stderr",
     "output_type": "stream",
     "text": [
      "2021-01-15 03:32:07 INFO     Done\n"
     ]
    }
   ],
   "source": [
    "m = EVRPTW()\n",
    "m.solve(fpath)"
   ]
  },
  {
   "cell_type": "code",
   "execution_count": 1037,
   "metadata": {},
   "outputs": [
    {
     "name": "stdout",
     "output_type": "stream",
     "text": [
      "\n",
      "Problem: \n",
      "- Name: x2933\n",
      "  Lower bound: 1166.4965823362163\n",
      "  Upper bound: 1166.4965823362163\n",
      "  Number of objectives: 1\n",
      "  Number of constraints: 5924\n",
      "  Number of variables: 2933\n",
      "  Number of binary variables: 1513\n",
      "  Number of integer variables: 1513\n",
      "  Number of continuous variables: 1420\n",
      "  Number of nonzeros: 992\n",
      "  Sense: minimize\n",
      "Solver: \n",
      "- Status: ok\n",
      "  Return code: 0\n",
      "  Message: Model was solved to optimality (subject to tolerances), and an optimal solution is available.\n",
      "  Termination condition: optimal\n",
      "  Termination message: Model was solved to optimality (subject to tolerances), and an optimal solution is available.\n",
      "  Wall time: 15.25275993347168\n",
      "  Error rc: 0\n",
      "  Time: 15.430068016052246\n",
      "Solution: \n",
      "- number of solutions: 0\n",
      "  number of solutions displayed: 0\n",
      "\n"
     ]
    }
   ],
   "source": [
    "print(m.results)"
   ]
  },
  {
   "cell_type": "code",
   "execution_count": 1038,
   "metadata": {},
   "outputs": [],
   "source": [
    "var_list = ['xkappa', 'xp']\n",
    "x = merge_variable_results(m, var_list)"
   ]
  },
  {
   "cell_type": "code",
   "execution_count": 1039,
   "metadata": {},
   "outputs": [
    {
     "data": {
      "text/html": [
       "<div>\n",
       "<style scoped>\n",
       "    .dataframe tbody tr th:only-of-type {\n",
       "        vertical-align: middle;\n",
       "    }\n",
       "\n",
       "    .dataframe tbody tr th {\n",
       "        vertical-align: top;\n",
       "    }\n",
       "\n",
       "    .dataframe thead th {\n",
       "        text-align: right;\n",
       "    }\n",
       "</style>\n",
       "<table border=\"1\" class=\"dataframe\">\n",
       "  <thead>\n",
       "    <tr style=\"text-align: right;\">\n",
       "      <th></th>\n",
       "      <th>t</th>\n",
       "      <th>state</th>\n",
       "      <th>xp</th>\n",
       "    </tr>\n",
       "    <tr>\n",
       "      <th>node</th>\n",
       "      <th></th>\n",
       "      <th></th>\n",
       "      <th></th>\n",
       "    </tr>\n",
       "  </thead>\n",
       "  <tbody>\n",
       "    <tr>\n",
       "      <th>S0_0</th>\n",
       "      <td>12227</td>\n",
       "      <td>101.0</td>\n",
       "      <td>62.389004</td>\n",
       "    </tr>\n",
       "    <tr>\n",
       "      <th>S0_1</th>\n",
       "      <td>6467</td>\n",
       "      <td>34.0</td>\n",
       "      <td>52.025101</td>\n",
       "    </tr>\n",
       "    <tr>\n",
       "      <th>S13_0</th>\n",
       "      <td>4759</td>\n",
       "      <td>32.0</td>\n",
       "      <td>0.000000</td>\n",
       "    </tr>\n",
       "    <tr>\n",
       "      <th>S13_1</th>\n",
       "      <td>977</td>\n",
       "      <td>18.0</td>\n",
       "      <td>36.734694</td>\n",
       "    </tr>\n",
       "    <tr>\n",
       "      <th>S1_0</th>\n",
       "      <td>6945</td>\n",
       "      <td>82.0</td>\n",
       "      <td>0.000000</td>\n",
       "    </tr>\n",
       "    <tr>\n",
       "      <th>S1_1</th>\n",
       "      <td>70</td>\n",
       "      <td>1.0</td>\n",
       "      <td>0.000000</td>\n",
       "    </tr>\n",
       "  </tbody>\n",
       "</table>\n",
       "</div>"
      ],
      "text/plain": [
       "           t  state         xp\n",
       "node                          \n",
       "S0_0   12227  101.0  62.389004\n",
       "S0_1    6467   34.0  52.025101\n",
       "S13_0   4759   32.0   0.000000\n",
       "S13_1    977   18.0  36.734694\n",
       "S1_0    6945   82.0   0.000000\n",
       "S1_1      70    1.0   0.000000"
      ]
     },
     "execution_count": 1039,
     "metadata": {},
     "output_type": "execute_result"
    }
   ],
   "source": [
    "xp = x[x['state']>1e-4].sort_values(['t'], ascending=True)\n",
    "# print(xp.to_string())\n",
    "xp.groupby('node').sum()"
   ]
  },
  {
   "cell_type": "code",
   "execution_count": null,
   "metadata": {},
   "outputs": [],
   "source": []
  },
  {
   "cell_type": "code",
   "execution_count": 1040,
   "metadata": {},
   "outputs": [],
   "source": [
    "var_list = ['xgamma', 'xw', 'xq', 'xa']\n",
    "x = merge_variable_results(m, var_list)"
   ]
  },
  {
   "cell_type": "code",
   "execution_count": 1041,
   "metadata": {},
   "outputs": [
    {
     "data": {
      "text/html": [
       "<div>\n",
       "<style scoped>\n",
       "    .dataframe tbody tr th:only-of-type {\n",
       "        vertical-align: middle;\n",
       "    }\n",
       "\n",
       "    .dataframe tbody tr th {\n",
       "        vertical-align: top;\n",
       "    }\n",
       "\n",
       "    .dataframe thead th {\n",
       "        text-align: right;\n",
       "    }\n",
       "</style>\n",
       "<table border=\"1\" class=\"dataframe\">\n",
       "  <thead>\n",
       "    <tr style=\"text-align: right;\">\n",
       "      <th></th>\n",
       "      <th>from</th>\n",
       "      <th>to</th>\n",
       "      <th>state</th>\n",
       "      <th>xw</th>\n",
       "      <th>xq</th>\n",
       "      <th>xa</th>\n",
       "    </tr>\n",
       "  </thead>\n",
       "  <tbody>\n",
       "    <tr>\n",
       "      <th>23</th>\n",
       "      <td>D0</td>\n",
       "      <td>S0_1</td>\n",
       "      <td>1.0</td>\n",
       "      <td>0.000000</td>\n",
       "      <td>0.0</td>\n",
       "      <td>29.305445</td>\n",
       "    </tr>\n",
       "    <tr>\n",
       "      <th>12</th>\n",
       "      <td>D0</td>\n",
       "      <td>S0_0</td>\n",
       "      <td>1.0</td>\n",
       "      <td>25.935551</td>\n",
       "      <td>0.0</td>\n",
       "      <td>29.305445</td>\n",
       "    </tr>\n",
       "    <tr>\n",
       "      <th>102</th>\n",
       "      <td>S0_1</td>\n",
       "      <td>C75</td>\n",
       "      <td>1.0</td>\n",
       "      <td>62.071502</td>\n",
       "      <td>200.0</td>\n",
       "      <td>53.545658</td>\n",
       "    </tr>\n",
       "    <tr>\n",
       "      <th>86</th>\n",
       "      <td>C75</td>\n",
       "      <td>C91</td>\n",
       "      <td>1.0</td>\n",
       "      <td>107.000000</td>\n",
       "      <td>182.0</td>\n",
       "      <td>18.617159</td>\n",
       "    </tr>\n",
       "    <tr>\n",
       "      <th>73</th>\n",
       "      <td>C91</td>\n",
       "      <td>S13_1</td>\n",
       "      <td>1.0</td>\n",
       "      <td>123.708204</td>\n",
       "      <td>0.0</td>\n",
       "      <td>11.908955</td>\n",
       "    </tr>\n",
       "    <tr>\n",
       "      <th>128</th>\n",
       "      <td>S13_1</td>\n",
       "      <td>C95</td>\n",
       "      <td>1.0</td>\n",
       "      <td>146.180340</td>\n",
       "      <td>39.0</td>\n",
       "      <td>44.171513</td>\n",
       "    </tr>\n",
       "    <tr>\n",
       "      <th>112</th>\n",
       "      <td>S0_0</td>\n",
       "      <td>C78</td>\n",
       "      <td>1.0</td>\n",
       "      <td>158.000000</td>\n",
       "      <td>19.0</td>\n",
       "      <td>60.630000</td>\n",
       "    </tr>\n",
       "    <tr>\n",
       "      <th>98</th>\n",
       "      <td>C78</td>\n",
       "      <td>C28</td>\n",
       "      <td>1.0</td>\n",
       "      <td>213.000000</td>\n",
       "      <td>16.0</td>\n",
       "      <td>35.630000</td>\n",
       "    </tr>\n",
       "    <tr>\n",
       "      <th>8</th>\n",
       "      <td>C28</td>\n",
       "      <td>D1</td>\n",
       "      <td>1.0</td>\n",
       "      <td>230.000000</td>\n",
       "      <td>0.0</td>\n",
       "      <td>29.305445</td>\n",
       "    </tr>\n",
       "    <tr>\n",
       "      <th>11</th>\n",
       "      <td>C95</td>\n",
       "      <td>D1</td>\n",
       "      <td>1.0</td>\n",
       "      <td>230.000000</td>\n",
       "      <td>0.0</td>\n",
       "      <td>29.305445</td>\n",
       "    </tr>\n",
       "  </tbody>\n",
       "</table>\n",
       "</div>"
      ],
      "text/plain": [
       "      from     to  state          xw     xq         xa\n",
       "23      D0   S0_1    1.0    0.000000    0.0  29.305445\n",
       "12      D0   S0_0    1.0   25.935551    0.0  29.305445\n",
       "102   S0_1    C75    1.0   62.071502  200.0  53.545658\n",
       "86     C75    C91    1.0  107.000000  182.0  18.617159\n",
       "73     C91  S13_1    1.0  123.708204    0.0  11.908955\n",
       "128  S13_1    C95    1.0  146.180340   39.0  44.171513\n",
       "112   S0_0    C78    1.0  158.000000   19.0  60.630000\n",
       "98     C78    C28    1.0  213.000000   16.0  35.630000\n",
       "8      C28     D1    1.0  230.000000    0.0  29.305445\n",
       "11     C95     D1    1.0  230.000000    0.0  29.305445"
      ]
     },
     "execution_count": 1041,
     "metadata": {},
     "output_type": "execute_result"
    }
   ],
   "source": [
    "x[x['state']>1e-4].sort_values(['xw'])"
   ]
  },
  {
   "cell_type": "code",
   "execution_count": 1042,
   "metadata": {},
   "outputs": [
    {
     "data": {
      "text/plain": [
       "151.14879946121792"
      ]
     },
     "execution_count": 1042,
     "metadata": {},
     "output_type": "execute_result"
    }
   ],
   "source": [
    "test = x[x['state']>1e-4].sort_values(['xw'])\n",
    "route = zip(test['from'], test['to'])\n",
    "sum([m.data['d'].loc[fr, to] for fr, to in route])"
   ]
  },
  {
   "cell_type": "code",
   "execution_count": 1043,
   "metadata": {},
   "outputs": [],
   "source": [
    "e, e_flat = create_optimal_edges(m, x=x, graph='V_')"
   ]
  },
  {
   "cell_type": "code",
   "execution_count": 1044,
   "metadata": {},
   "outputs": [
    {
     "data": {
      "application/vnd.plotly.v1+json": {
       "config": {
        "plotlyServerURL": "https://plot.ly"
       },
       "data": [
        {
         "customdata": [
          [
           [
            "start"
           ]
          ],
          [
           [
            "end"
           ]
          ],
          [
           [
            "s"
           ]
          ],
          [
           [
            "s"
           ]
          ],
          [
           [
            "s"
           ]
          ],
          [
           [
            "m"
           ]
          ],
          [
           [
            "m"
           ]
          ],
          [
           [
            "m"
           ]
          ],
          [
           [
            "m"
           ]
          ],
          [
           [
            "m"
           ]
          ]
         ],
         "hoverinfo": "none",
         "hovertemplate": "<b>%{text}</b>: %{customdata[0]}<br>X: %{x}<br>Y: %{y}",
         "marker": {
          "color": [
           "rgba(191, 243, 180, 0.8)",
           "rgba(191, 243, 180, 0.8)",
           "rgba(167, 215, 241, 0.8)",
           "rgba(167, 215, 241, 0.8)",
           "rgba(167, 215, 241, 0.8)",
           "rgba(240, 169, 171, 0.8)",
           "rgba(240, 169, 171, 0.8)",
           "rgba(240, 169, 171, 0.8)",
           "rgba(240, 169, 171, 0.8)",
           "rgba(240, 169, 171, 0.8)"
          ],
          "size": 25
         },
         "mode": "markers+text",
         "name": "Nodes",
         "showlegend": true,
         "text": [
          "D0",
          "D1",
          "S0",
          "S1",
          "S13",
          "C91",
          "C28",
          "C75",
          "C78",
          "C95"
         ],
         "type": "scatter",
         "x": [
          35,
          35,
          35,
          64,
          21,
          15,
          41,
          49,
          61,
          25
         ],
         "y": [
          35,
          35,
          35,
          37,
          22,
          19,
          37,
          11,
          52,
          24
         ]
        }
       ],
       "layout": {
        "annotations": [
         {
          "arrowcolor": "#888",
          "arrowhead": 2,
          "arrowsize": 1,
          "arrowwidth": 2,
          "ax": 41,
          "axref": "x",
          "ay": 37,
          "ayref": "y",
          "showarrow": true,
          "text": "",
          "x": 35,
          "xref": "x",
          "y": 35,
          "yref": "y"
         },
         {
          "arrowcolor": "#888",
          "arrowhead": 2,
          "arrowsize": 1,
          "arrowwidth": 2,
          "ax": 25,
          "axref": "x",
          "ay": 24,
          "ayref": "y",
          "showarrow": true,
          "text": "",
          "x": 35,
          "xref": "x",
          "y": 35,
          "yref": "y"
         },
         {
          "arrowcolor": "#888",
          "arrowhead": 2,
          "arrowsize": 1,
          "arrowwidth": 2,
          "ax": 35,
          "axref": "x",
          "ay": 35,
          "ayref": "y",
          "showarrow": true,
          "text": "",
          "x": 35,
          "xref": "x",
          "y": 35,
          "yref": "y"
         },
         {
          "arrowcolor": "#888",
          "arrowhead": 2,
          "arrowsize": 1,
          "arrowwidth": 2,
          "ax": 35,
          "axref": "x",
          "ay": 35,
          "ayref": "y",
          "showarrow": true,
          "text": "",
          "x": 35,
          "xref": "x",
          "y": 35,
          "yref": "y"
         },
         {
          "arrowcolor": "#888",
          "arrowhead": 2,
          "arrowsize": 1,
          "arrowwidth": 2,
          "ax": 15,
          "axref": "x",
          "ay": 19,
          "ayref": "y",
          "showarrow": true,
          "text": "",
          "x": 21,
          "xref": "x",
          "y": 22,
          "yref": "y"
         },
         {
          "arrowcolor": "#888",
          "arrowhead": 2,
          "arrowsize": 1,
          "arrowwidth": 2,
          "ax": 49,
          "axref": "x",
          "ay": 11,
          "ayref": "y",
          "showarrow": true,
          "text": "",
          "x": 15,
          "xref": "x",
          "y": 19,
          "yref": "y"
         },
         {
          "arrowcolor": "#888",
          "arrowhead": 2,
          "arrowsize": 1,
          "arrowwidth": 2,
          "ax": 61,
          "axref": "x",
          "ay": 52,
          "ayref": "y",
          "showarrow": true,
          "text": "",
          "x": 41,
          "xref": "x",
          "y": 37,
          "yref": "y"
         },
         {
          "arrowcolor": "#888",
          "arrowhead": 2,
          "arrowsize": 1,
          "arrowwidth": 2,
          "ax": 35,
          "axref": "x",
          "ay": 35,
          "ayref": "y",
          "showarrow": true,
          "text": "",
          "x": 49,
          "xref": "x",
          "y": 11,
          "yref": "y"
         },
         {
          "arrowcolor": "#888",
          "arrowhead": 2,
          "arrowsize": 1,
          "arrowwidth": 2,
          "ax": 35,
          "axref": "x",
          "ay": 35,
          "ayref": "y",
          "showarrow": true,
          "text": "",
          "x": 61,
          "xref": "x",
          "y": 52,
          "yref": "y"
         },
         {
          "arrowcolor": "#888",
          "arrowhead": 2,
          "arrowsize": 1,
          "arrowwidth": 2,
          "ax": 21,
          "axref": "x",
          "ay": 22,
          "ayref": "y",
          "showarrow": true,
          "text": "",
          "x": 25,
          "xref": "x",
          "y": 24,
          "yref": "y"
         }
        ],
        "height": 600,
        "showlegend": true,
        "template": {
         "data": {
          "bar": [
           {
            "error_x": {
             "color": "rgb(36,36,36)"
            },
            "error_y": {
             "color": "rgb(36,36,36)"
            },
            "marker": {
             "line": {
              "color": "white",
              "width": 0.5
             }
            },
            "type": "bar"
           }
          ],
          "barpolar": [
           {
            "marker": {
             "line": {
              "color": "white",
              "width": 0.5
             }
            },
            "type": "barpolar"
           }
          ],
          "carpet": [
           {
            "aaxis": {
             "endlinecolor": "rgb(36,36,36)",
             "gridcolor": "white",
             "linecolor": "white",
             "minorgridcolor": "white",
             "startlinecolor": "rgb(36,36,36)"
            },
            "baxis": {
             "endlinecolor": "rgb(36,36,36)",
             "gridcolor": "white",
             "linecolor": "white",
             "minorgridcolor": "white",
             "startlinecolor": "rgb(36,36,36)"
            },
            "type": "carpet"
           }
          ],
          "choropleth": [
           {
            "colorbar": {
             "outlinewidth": 1,
             "tickcolor": "rgb(36,36,36)",
             "ticks": "outside"
            },
            "type": "choropleth"
           }
          ],
          "contour": [
           {
            "colorbar": {
             "outlinewidth": 1,
             "tickcolor": "rgb(36,36,36)",
             "ticks": "outside"
            },
            "colorscale": [
             [
              0,
              "#440154"
             ],
             [
              0.1111111111111111,
              "#482878"
             ],
             [
              0.2222222222222222,
              "#3e4989"
             ],
             [
              0.3333333333333333,
              "#31688e"
             ],
             [
              0.4444444444444444,
              "#26828e"
             ],
             [
              0.5555555555555556,
              "#1f9e89"
             ],
             [
              0.6666666666666666,
              "#35b779"
             ],
             [
              0.7777777777777778,
              "#6ece58"
             ],
             [
              0.8888888888888888,
              "#b5de2b"
             ],
             [
              1,
              "#fde725"
             ]
            ],
            "type": "contour"
           }
          ],
          "contourcarpet": [
           {
            "colorbar": {
             "outlinewidth": 1,
             "tickcolor": "rgb(36,36,36)",
             "ticks": "outside"
            },
            "type": "contourcarpet"
           }
          ],
          "heatmap": [
           {
            "colorbar": {
             "outlinewidth": 1,
             "tickcolor": "rgb(36,36,36)",
             "ticks": "outside"
            },
            "colorscale": [
             [
              0,
              "#440154"
             ],
             [
              0.1111111111111111,
              "#482878"
             ],
             [
              0.2222222222222222,
              "#3e4989"
             ],
             [
              0.3333333333333333,
              "#31688e"
             ],
             [
              0.4444444444444444,
              "#26828e"
             ],
             [
              0.5555555555555556,
              "#1f9e89"
             ],
             [
              0.6666666666666666,
              "#35b779"
             ],
             [
              0.7777777777777778,
              "#6ece58"
             ],
             [
              0.8888888888888888,
              "#b5de2b"
             ],
             [
              1,
              "#fde725"
             ]
            ],
            "type": "heatmap"
           }
          ],
          "heatmapgl": [
           {
            "colorbar": {
             "outlinewidth": 1,
             "tickcolor": "rgb(36,36,36)",
             "ticks": "outside"
            },
            "colorscale": [
             [
              0,
              "#440154"
             ],
             [
              0.1111111111111111,
              "#482878"
             ],
             [
              0.2222222222222222,
              "#3e4989"
             ],
             [
              0.3333333333333333,
              "#31688e"
             ],
             [
              0.4444444444444444,
              "#26828e"
             ],
             [
              0.5555555555555556,
              "#1f9e89"
             ],
             [
              0.6666666666666666,
              "#35b779"
             ],
             [
              0.7777777777777778,
              "#6ece58"
             ],
             [
              0.8888888888888888,
              "#b5de2b"
             ],
             [
              1,
              "#fde725"
             ]
            ],
            "type": "heatmapgl"
           }
          ],
          "histogram": [
           {
            "marker": {
             "line": {
              "color": "white",
              "width": 0.6
             }
            },
            "type": "histogram"
           }
          ],
          "histogram2d": [
           {
            "colorbar": {
             "outlinewidth": 1,
             "tickcolor": "rgb(36,36,36)",
             "ticks": "outside"
            },
            "colorscale": [
             [
              0,
              "#440154"
             ],
             [
              0.1111111111111111,
              "#482878"
             ],
             [
              0.2222222222222222,
              "#3e4989"
             ],
             [
              0.3333333333333333,
              "#31688e"
             ],
             [
              0.4444444444444444,
              "#26828e"
             ],
             [
              0.5555555555555556,
              "#1f9e89"
             ],
             [
              0.6666666666666666,
              "#35b779"
             ],
             [
              0.7777777777777778,
              "#6ece58"
             ],
             [
              0.8888888888888888,
              "#b5de2b"
             ],
             [
              1,
              "#fde725"
             ]
            ],
            "type": "histogram2d"
           }
          ],
          "histogram2dcontour": [
           {
            "colorbar": {
             "outlinewidth": 1,
             "tickcolor": "rgb(36,36,36)",
             "ticks": "outside"
            },
            "colorscale": [
             [
              0,
              "#440154"
             ],
             [
              0.1111111111111111,
              "#482878"
             ],
             [
              0.2222222222222222,
              "#3e4989"
             ],
             [
              0.3333333333333333,
              "#31688e"
             ],
             [
              0.4444444444444444,
              "#26828e"
             ],
             [
              0.5555555555555556,
              "#1f9e89"
             ],
             [
              0.6666666666666666,
              "#35b779"
             ],
             [
              0.7777777777777778,
              "#6ece58"
             ],
             [
              0.8888888888888888,
              "#b5de2b"
             ],
             [
              1,
              "#fde725"
             ]
            ],
            "type": "histogram2dcontour"
           }
          ],
          "mesh3d": [
           {
            "colorbar": {
             "outlinewidth": 1,
             "tickcolor": "rgb(36,36,36)",
             "ticks": "outside"
            },
            "type": "mesh3d"
           }
          ],
          "parcoords": [
           {
            "line": {
             "colorbar": {
              "outlinewidth": 1,
              "tickcolor": "rgb(36,36,36)",
              "ticks": "outside"
             }
            },
            "type": "parcoords"
           }
          ],
          "pie": [
           {
            "automargin": true,
            "type": "pie"
           }
          ],
          "scatter": [
           {
            "marker": {
             "colorbar": {
              "outlinewidth": 1,
              "tickcolor": "rgb(36,36,36)",
              "ticks": "outside"
             }
            },
            "type": "scatter"
           }
          ],
          "scatter3d": [
           {
            "line": {
             "colorbar": {
              "outlinewidth": 1,
              "tickcolor": "rgb(36,36,36)",
              "ticks": "outside"
             }
            },
            "marker": {
             "colorbar": {
              "outlinewidth": 1,
              "tickcolor": "rgb(36,36,36)",
              "ticks": "outside"
             }
            },
            "type": "scatter3d"
           }
          ],
          "scattercarpet": [
           {
            "marker": {
             "colorbar": {
              "outlinewidth": 1,
              "tickcolor": "rgb(36,36,36)",
              "ticks": "outside"
             }
            },
            "type": "scattercarpet"
           }
          ],
          "scattergeo": [
           {
            "marker": {
             "colorbar": {
              "outlinewidth": 1,
              "tickcolor": "rgb(36,36,36)",
              "ticks": "outside"
             }
            },
            "type": "scattergeo"
           }
          ],
          "scattergl": [
           {
            "marker": {
             "colorbar": {
              "outlinewidth": 1,
              "tickcolor": "rgb(36,36,36)",
              "ticks": "outside"
             }
            },
            "type": "scattergl"
           }
          ],
          "scattermapbox": [
           {
            "marker": {
             "colorbar": {
              "outlinewidth": 1,
              "tickcolor": "rgb(36,36,36)",
              "ticks": "outside"
             }
            },
            "type": "scattermapbox"
           }
          ],
          "scatterpolar": [
           {
            "marker": {
             "colorbar": {
              "outlinewidth": 1,
              "tickcolor": "rgb(36,36,36)",
              "ticks": "outside"
             }
            },
            "type": "scatterpolar"
           }
          ],
          "scatterpolargl": [
           {
            "marker": {
             "colorbar": {
              "outlinewidth": 1,
              "tickcolor": "rgb(36,36,36)",
              "ticks": "outside"
             }
            },
            "type": "scatterpolargl"
           }
          ],
          "scatterternary": [
           {
            "marker": {
             "colorbar": {
              "outlinewidth": 1,
              "tickcolor": "rgb(36,36,36)",
              "ticks": "outside"
             }
            },
            "type": "scatterternary"
           }
          ],
          "surface": [
           {
            "colorbar": {
             "outlinewidth": 1,
             "tickcolor": "rgb(36,36,36)",
             "ticks": "outside"
            },
            "colorscale": [
             [
              0,
              "#440154"
             ],
             [
              0.1111111111111111,
              "#482878"
             ],
             [
              0.2222222222222222,
              "#3e4989"
             ],
             [
              0.3333333333333333,
              "#31688e"
             ],
             [
              0.4444444444444444,
              "#26828e"
             ],
             [
              0.5555555555555556,
              "#1f9e89"
             ],
             [
              0.6666666666666666,
              "#35b779"
             ],
             [
              0.7777777777777778,
              "#6ece58"
             ],
             [
              0.8888888888888888,
              "#b5de2b"
             ],
             [
              1,
              "#fde725"
             ]
            ],
            "type": "surface"
           }
          ],
          "table": [
           {
            "cells": {
             "fill": {
              "color": "rgb(237,237,237)"
             },
             "line": {
              "color": "white"
             }
            },
            "header": {
             "fill": {
              "color": "rgb(217,217,217)"
             },
             "line": {
              "color": "white"
             }
            },
            "type": "table"
           }
          ]
         },
         "layout": {
          "annotationdefaults": {
           "arrowhead": 0,
           "arrowwidth": 1
          },
          "coloraxis": {
           "colorbar": {
            "outlinewidth": 1,
            "tickcolor": "rgb(36,36,36)",
            "ticks": "outside"
           }
          },
          "colorscale": {
           "diverging": [
            [
             0,
             "rgb(103,0,31)"
            ],
            [
             0.1,
             "rgb(178,24,43)"
            ],
            [
             0.2,
             "rgb(214,96,77)"
            ],
            [
             0.3,
             "rgb(244,165,130)"
            ],
            [
             0.4,
             "rgb(253,219,199)"
            ],
            [
             0.5,
             "rgb(247,247,247)"
            ],
            [
             0.6,
             "rgb(209,229,240)"
            ],
            [
             0.7,
             "rgb(146,197,222)"
            ],
            [
             0.8,
             "rgb(67,147,195)"
            ],
            [
             0.9,
             "rgb(33,102,172)"
            ],
            [
             1,
             "rgb(5,48,97)"
            ]
           ],
           "sequential": [
            [
             0,
             "#440154"
            ],
            [
             0.1111111111111111,
             "#482878"
            ],
            [
             0.2222222222222222,
             "#3e4989"
            ],
            [
             0.3333333333333333,
             "#31688e"
            ],
            [
             0.4444444444444444,
             "#26828e"
            ],
            [
             0.5555555555555556,
             "#1f9e89"
            ],
            [
             0.6666666666666666,
             "#35b779"
            ],
            [
             0.7777777777777778,
             "#6ece58"
            ],
            [
             0.8888888888888888,
             "#b5de2b"
            ],
            [
             1,
             "#fde725"
            ]
           ],
           "sequentialminus": [
            [
             0,
             "#440154"
            ],
            [
             0.1111111111111111,
             "#482878"
            ],
            [
             0.2222222222222222,
             "#3e4989"
            ],
            [
             0.3333333333333333,
             "#31688e"
            ],
            [
             0.4444444444444444,
             "#26828e"
            ],
            [
             0.5555555555555556,
             "#1f9e89"
            ],
            [
             0.6666666666666666,
             "#35b779"
            ],
            [
             0.7777777777777778,
             "#6ece58"
            ],
            [
             0.8888888888888888,
             "#b5de2b"
            ],
            [
             1,
             "#fde725"
            ]
           ]
          },
          "colorway": [
           "#1F77B4",
           "#FF7F0E",
           "#2CA02C",
           "#D62728",
           "#9467BD",
           "#8C564B",
           "#E377C2",
           "#7F7F7F",
           "#BCBD22",
           "#17BECF"
          ],
          "font": {
           "color": "rgb(36,36,36)"
          },
          "geo": {
           "bgcolor": "white",
           "lakecolor": "white",
           "landcolor": "white",
           "showlakes": true,
           "showland": true,
           "subunitcolor": "white"
          },
          "hoverlabel": {
           "align": "left"
          },
          "hovermode": "closest",
          "mapbox": {
           "style": "light"
          },
          "paper_bgcolor": "white",
          "plot_bgcolor": "white",
          "polar": {
           "angularaxis": {
            "gridcolor": "rgb(232,232,232)",
            "linecolor": "rgb(36,36,36)",
            "showgrid": false,
            "showline": true,
            "ticks": "outside"
           },
           "bgcolor": "white",
           "radialaxis": {
            "gridcolor": "rgb(232,232,232)",
            "linecolor": "rgb(36,36,36)",
            "showgrid": false,
            "showline": true,
            "ticks": "outside"
           }
          },
          "scene": {
           "xaxis": {
            "backgroundcolor": "white",
            "gridcolor": "rgb(232,232,232)",
            "gridwidth": 2,
            "linecolor": "rgb(36,36,36)",
            "showbackground": true,
            "showgrid": false,
            "showline": true,
            "ticks": "outside",
            "zeroline": false,
            "zerolinecolor": "rgb(36,36,36)"
           },
           "yaxis": {
            "backgroundcolor": "white",
            "gridcolor": "rgb(232,232,232)",
            "gridwidth": 2,
            "linecolor": "rgb(36,36,36)",
            "showbackground": true,
            "showgrid": false,
            "showline": true,
            "ticks": "outside",
            "zeroline": false,
            "zerolinecolor": "rgb(36,36,36)"
           },
           "zaxis": {
            "backgroundcolor": "white",
            "gridcolor": "rgb(232,232,232)",
            "gridwidth": 2,
            "linecolor": "rgb(36,36,36)",
            "showbackground": true,
            "showgrid": false,
            "showline": true,
            "ticks": "outside",
            "zeroline": false,
            "zerolinecolor": "rgb(36,36,36)"
           }
          },
          "shapedefaults": {
           "fillcolor": "black",
           "line": {
            "width": 0
           },
           "opacity": 0.3
          },
          "ternary": {
           "aaxis": {
            "gridcolor": "rgb(232,232,232)",
            "linecolor": "rgb(36,36,36)",
            "showgrid": false,
            "showline": true,
            "ticks": "outside"
           },
           "baxis": {
            "gridcolor": "rgb(232,232,232)",
            "linecolor": "rgb(36,36,36)",
            "showgrid": false,
            "showline": true,
            "ticks": "outside"
           },
           "bgcolor": "white",
           "caxis": {
            "gridcolor": "rgb(232,232,232)",
            "linecolor": "rgb(36,36,36)",
            "showgrid": false,
            "showline": true,
            "ticks": "outside"
           }
          },
          "title": {
           "x": 0.05
          },
          "xaxis": {
           "automargin": true,
           "gridcolor": "rgb(232,232,232)",
           "linecolor": "rgb(36,36,36)",
           "showgrid": false,
           "showline": true,
           "ticks": "outside",
           "title": {
            "standoff": 15
           },
           "zeroline": false,
           "zerolinecolor": "rgb(36,36,36)"
          },
          "yaxis": {
           "automargin": true,
           "gridcolor": "rgb(232,232,232)",
           "linecolor": "rgb(36,36,36)",
           "showgrid": false,
           "showline": true,
           "ticks": "outside",
           "title": {
            "standoff": 15
           },
           "zeroline": false,
           "zerolinecolor": "rgb(36,36,36)"
          }
         }
        },
        "title": {
         "text": "r105c5_e<br>Objective: 1166.5"
        },
        "xaxis": {
         "anchor": "y",
         "constrain": "domain",
         "domain": [
          0,
          1
         ],
         "mirror": true,
         "range": [
          0,
          70.4
         ],
         "showline": true,
         "ticks": "outside",
         "title": {
          "text": "x"
         }
        },
        "yaxis": {
         "anchor": "x",
         "domain": [
          0,
          1
         ],
         "mirror": true,
         "range": [
          0,
          57.2
         ],
         "scaleanchor": "x",
         "scaleratio": 1,
         "showline": true,
         "ticks": "outside",
         "title": {
          "text": "y"
         }
        }
       }
      },
      "text/html": [
       "<div>\n",
       "        \n",
       "        \n",
       "            <div id=\"d908fe96-ecea-4411-ab01-057d555668ba\" class=\"plotly-graph-div\" style=\"height:600px; width:100%;\"></div>\n",
       "            <script type=\"text/javascript\">\n",
       "                require([\"plotly\"], function(Plotly) {\n",
       "                    window.PLOTLYENV=window.PLOTLYENV || {};\n",
       "                    \n",
       "                if (document.getElementById(\"d908fe96-ecea-4411-ab01-057d555668ba\")) {\n",
       "                    Plotly.newPlot(\n",
       "                        'd908fe96-ecea-4411-ab01-057d555668ba',\n",
       "                        [{\"customdata\": [[[\"start\"]], [[\"end\"]], [[\"s\"]], [[\"s\"]], [[\"s\"]], [[\"m\"]], [[\"m\"]], [[\"m\"]], [[\"m\"]], [[\"m\"]]], \"hoverinfo\": \"none\", \"hovertemplate\": \"<b>%{text}</b>: %{customdata[0]}<br>X: %{x}<br>Y: %{y}\", \"marker\": {\"color\": [\"rgba(191, 243, 180, 0.8)\", \"rgba(191, 243, 180, 0.8)\", \"rgba(167, 215, 241, 0.8)\", \"rgba(167, 215, 241, 0.8)\", \"rgba(167, 215, 241, 0.8)\", \"rgba(240, 169, 171, 0.8)\", \"rgba(240, 169, 171, 0.8)\", \"rgba(240, 169, 171, 0.8)\", \"rgba(240, 169, 171, 0.8)\", \"rgba(240, 169, 171, 0.8)\"], \"size\": 25}, \"mode\": \"markers+text\", \"name\": \"Nodes\", \"showlegend\": true, \"text\": [\"D0\", \"D1\", \"S0\", \"S1\", \"S13\", \"C91\", \"C28\", \"C75\", \"C78\", \"C95\"], \"type\": \"scatter\", \"x\": [35, 35, 35, 64, 21, 15, 41, 49, 61, 25], \"y\": [35, 35, 35, 37, 22, 19, 37, 11, 52, 24]}],\n",
       "                        {\"annotations\": [{\"arrowcolor\": \"#888\", \"arrowhead\": 2, \"arrowsize\": 1, \"arrowwidth\": 2, \"ax\": 41, \"axref\": \"x\", \"ay\": 37, \"ayref\": \"y\", \"showarrow\": true, \"text\": \"\", \"x\": 35, \"xref\": \"x\", \"y\": 35, \"yref\": \"y\"}, {\"arrowcolor\": \"#888\", \"arrowhead\": 2, \"arrowsize\": 1, \"arrowwidth\": 2, \"ax\": 25, \"axref\": \"x\", \"ay\": 24, \"ayref\": \"y\", \"showarrow\": true, \"text\": \"\", \"x\": 35, \"xref\": \"x\", \"y\": 35, \"yref\": \"y\"}, {\"arrowcolor\": \"#888\", \"arrowhead\": 2, \"arrowsize\": 1, \"arrowwidth\": 2, \"ax\": 35, \"axref\": \"x\", \"ay\": 35, \"ayref\": \"y\", \"showarrow\": true, \"text\": \"\", \"x\": 35, \"xref\": \"x\", \"y\": 35, \"yref\": \"y\"}, {\"arrowcolor\": \"#888\", \"arrowhead\": 2, \"arrowsize\": 1, \"arrowwidth\": 2, \"ax\": 35, \"axref\": \"x\", \"ay\": 35, \"ayref\": \"y\", \"showarrow\": true, \"text\": \"\", \"x\": 35, \"xref\": \"x\", \"y\": 35, \"yref\": \"y\"}, {\"arrowcolor\": \"#888\", \"arrowhead\": 2, \"arrowsize\": 1, \"arrowwidth\": 2, \"ax\": 15, \"axref\": \"x\", \"ay\": 19, \"ayref\": \"y\", \"showarrow\": true, \"text\": \"\", \"x\": 21, \"xref\": \"x\", \"y\": 22, \"yref\": \"y\"}, {\"arrowcolor\": \"#888\", \"arrowhead\": 2, \"arrowsize\": 1, \"arrowwidth\": 2, \"ax\": 49, \"axref\": \"x\", \"ay\": 11, \"ayref\": \"y\", \"showarrow\": true, \"text\": \"\", \"x\": 15, \"xref\": \"x\", \"y\": 19, \"yref\": \"y\"}, {\"arrowcolor\": \"#888\", \"arrowhead\": 2, \"arrowsize\": 1, \"arrowwidth\": 2, \"ax\": 61, \"axref\": \"x\", \"ay\": 52, \"ayref\": \"y\", \"showarrow\": true, \"text\": \"\", \"x\": 41, \"xref\": \"x\", \"y\": 37, \"yref\": \"y\"}, {\"arrowcolor\": \"#888\", \"arrowhead\": 2, \"arrowsize\": 1, \"arrowwidth\": 2, \"ax\": 35, \"axref\": \"x\", \"ay\": 35, \"ayref\": \"y\", \"showarrow\": true, \"text\": \"\", \"x\": 49, \"xref\": \"x\", \"y\": 11, \"yref\": \"y\"}, {\"arrowcolor\": \"#888\", \"arrowhead\": 2, \"arrowsize\": 1, \"arrowwidth\": 2, \"ax\": 35, \"axref\": \"x\", \"ay\": 35, \"ayref\": \"y\", \"showarrow\": true, \"text\": \"\", \"x\": 61, \"xref\": \"x\", \"y\": 52, \"yref\": \"y\"}, {\"arrowcolor\": \"#888\", \"arrowhead\": 2, \"arrowsize\": 1, \"arrowwidth\": 2, \"ax\": 21, \"axref\": \"x\", \"ay\": 22, \"ayref\": \"y\", \"showarrow\": true, \"text\": \"\", \"x\": 25, \"xref\": \"x\", \"y\": 24, \"yref\": \"y\"}], \"height\": 600, \"showlegend\": true, \"template\": {\"data\": {\"bar\": [{\"error_x\": {\"color\": \"rgb(36,36,36)\"}, \"error_y\": {\"color\": \"rgb(36,36,36)\"}, \"marker\": {\"line\": {\"color\": \"white\", \"width\": 0.5}}, \"type\": \"bar\"}], \"barpolar\": [{\"marker\": {\"line\": {\"color\": \"white\", \"width\": 0.5}}, \"type\": \"barpolar\"}], \"carpet\": [{\"aaxis\": {\"endlinecolor\": \"rgb(36,36,36)\", \"gridcolor\": \"white\", \"linecolor\": \"white\", \"minorgridcolor\": \"white\", \"startlinecolor\": \"rgb(36,36,36)\"}, \"baxis\": {\"endlinecolor\": \"rgb(36,36,36)\", \"gridcolor\": \"white\", \"linecolor\": \"white\", \"minorgridcolor\": \"white\", \"startlinecolor\": \"rgb(36,36,36)\"}, \"type\": \"carpet\"}], \"choropleth\": [{\"colorbar\": {\"outlinewidth\": 1, \"tickcolor\": \"rgb(36,36,36)\", \"ticks\": \"outside\"}, \"type\": \"choropleth\"}], \"contour\": [{\"colorbar\": {\"outlinewidth\": 1, \"tickcolor\": \"rgb(36,36,36)\", \"ticks\": \"outside\"}, \"colorscale\": [[0.0, \"#440154\"], [0.1111111111111111, \"#482878\"], [0.2222222222222222, \"#3e4989\"], [0.3333333333333333, \"#31688e\"], [0.4444444444444444, \"#26828e\"], [0.5555555555555556, \"#1f9e89\"], [0.6666666666666666, \"#35b779\"], [0.7777777777777778, \"#6ece58\"], [0.8888888888888888, \"#b5de2b\"], [1.0, \"#fde725\"]], \"type\": \"contour\"}], \"contourcarpet\": [{\"colorbar\": {\"outlinewidth\": 1, \"tickcolor\": \"rgb(36,36,36)\", \"ticks\": \"outside\"}, \"type\": \"contourcarpet\"}], \"heatmap\": [{\"colorbar\": {\"outlinewidth\": 1, \"tickcolor\": \"rgb(36,36,36)\", \"ticks\": \"outside\"}, \"colorscale\": [[0.0, \"#440154\"], [0.1111111111111111, \"#482878\"], [0.2222222222222222, \"#3e4989\"], [0.3333333333333333, \"#31688e\"], [0.4444444444444444, \"#26828e\"], [0.5555555555555556, \"#1f9e89\"], [0.6666666666666666, \"#35b779\"], [0.7777777777777778, \"#6ece58\"], [0.8888888888888888, \"#b5de2b\"], [1.0, \"#fde725\"]], \"type\": \"heatmap\"}], \"heatmapgl\": [{\"colorbar\": {\"outlinewidth\": 1, \"tickcolor\": \"rgb(36,36,36)\", \"ticks\": \"outside\"}, \"colorscale\": [[0.0, \"#440154\"], [0.1111111111111111, \"#482878\"], [0.2222222222222222, \"#3e4989\"], [0.3333333333333333, \"#31688e\"], [0.4444444444444444, \"#26828e\"], [0.5555555555555556, \"#1f9e89\"], [0.6666666666666666, \"#35b779\"], [0.7777777777777778, \"#6ece58\"], [0.8888888888888888, \"#b5de2b\"], [1.0, \"#fde725\"]], \"type\": \"heatmapgl\"}], \"histogram\": [{\"marker\": {\"line\": {\"color\": \"white\", \"width\": 0.6}}, \"type\": \"histogram\"}], \"histogram2d\": [{\"colorbar\": {\"outlinewidth\": 1, \"tickcolor\": \"rgb(36,36,36)\", \"ticks\": \"outside\"}, \"colorscale\": [[0.0, \"#440154\"], [0.1111111111111111, \"#482878\"], [0.2222222222222222, \"#3e4989\"], [0.3333333333333333, \"#31688e\"], [0.4444444444444444, \"#26828e\"], [0.5555555555555556, \"#1f9e89\"], [0.6666666666666666, \"#35b779\"], [0.7777777777777778, \"#6ece58\"], [0.8888888888888888, \"#b5de2b\"], [1.0, \"#fde725\"]], \"type\": \"histogram2d\"}], \"histogram2dcontour\": [{\"colorbar\": {\"outlinewidth\": 1, \"tickcolor\": \"rgb(36,36,36)\", \"ticks\": \"outside\"}, \"colorscale\": [[0.0, \"#440154\"], [0.1111111111111111, \"#482878\"], [0.2222222222222222, \"#3e4989\"], [0.3333333333333333, \"#31688e\"], [0.4444444444444444, \"#26828e\"], [0.5555555555555556, \"#1f9e89\"], [0.6666666666666666, \"#35b779\"], [0.7777777777777778, \"#6ece58\"], [0.8888888888888888, \"#b5de2b\"], [1.0, \"#fde725\"]], \"type\": \"histogram2dcontour\"}], \"mesh3d\": [{\"colorbar\": {\"outlinewidth\": 1, \"tickcolor\": \"rgb(36,36,36)\", \"ticks\": \"outside\"}, \"type\": \"mesh3d\"}], \"parcoords\": [{\"line\": {\"colorbar\": {\"outlinewidth\": 1, \"tickcolor\": \"rgb(36,36,36)\", \"ticks\": \"outside\"}}, \"type\": \"parcoords\"}], \"pie\": [{\"automargin\": true, \"type\": \"pie\"}], \"scatter\": [{\"marker\": {\"colorbar\": {\"outlinewidth\": 1, \"tickcolor\": \"rgb(36,36,36)\", \"ticks\": \"outside\"}}, \"type\": \"scatter\"}], \"scatter3d\": [{\"line\": {\"colorbar\": {\"outlinewidth\": 1, \"tickcolor\": \"rgb(36,36,36)\", \"ticks\": \"outside\"}}, \"marker\": {\"colorbar\": {\"outlinewidth\": 1, \"tickcolor\": \"rgb(36,36,36)\", \"ticks\": \"outside\"}}, \"type\": \"scatter3d\"}], \"scattercarpet\": [{\"marker\": {\"colorbar\": {\"outlinewidth\": 1, \"tickcolor\": \"rgb(36,36,36)\", \"ticks\": \"outside\"}}, \"type\": \"scattercarpet\"}], \"scattergeo\": [{\"marker\": {\"colorbar\": {\"outlinewidth\": 1, \"tickcolor\": \"rgb(36,36,36)\", \"ticks\": \"outside\"}}, \"type\": \"scattergeo\"}], \"scattergl\": [{\"marker\": {\"colorbar\": {\"outlinewidth\": 1, \"tickcolor\": \"rgb(36,36,36)\", \"ticks\": \"outside\"}}, \"type\": \"scattergl\"}], \"scattermapbox\": [{\"marker\": {\"colorbar\": {\"outlinewidth\": 1, \"tickcolor\": \"rgb(36,36,36)\", \"ticks\": \"outside\"}}, \"type\": \"scattermapbox\"}], \"scatterpolar\": [{\"marker\": {\"colorbar\": {\"outlinewidth\": 1, \"tickcolor\": \"rgb(36,36,36)\", \"ticks\": \"outside\"}}, \"type\": \"scatterpolar\"}], \"scatterpolargl\": [{\"marker\": {\"colorbar\": {\"outlinewidth\": 1, \"tickcolor\": \"rgb(36,36,36)\", \"ticks\": \"outside\"}}, \"type\": \"scatterpolargl\"}], \"scatterternary\": [{\"marker\": {\"colorbar\": {\"outlinewidth\": 1, \"tickcolor\": \"rgb(36,36,36)\", \"ticks\": \"outside\"}}, \"type\": \"scatterternary\"}], \"surface\": [{\"colorbar\": {\"outlinewidth\": 1, \"tickcolor\": \"rgb(36,36,36)\", \"ticks\": \"outside\"}, \"colorscale\": [[0.0, \"#440154\"], [0.1111111111111111, \"#482878\"], [0.2222222222222222, \"#3e4989\"], [0.3333333333333333, \"#31688e\"], [0.4444444444444444, \"#26828e\"], [0.5555555555555556, \"#1f9e89\"], [0.6666666666666666, \"#35b779\"], [0.7777777777777778, \"#6ece58\"], [0.8888888888888888, \"#b5de2b\"], [1.0, \"#fde725\"]], \"type\": \"surface\"}], \"table\": [{\"cells\": {\"fill\": {\"color\": \"rgb(237,237,237)\"}, \"line\": {\"color\": \"white\"}}, \"header\": {\"fill\": {\"color\": \"rgb(217,217,217)\"}, \"line\": {\"color\": \"white\"}}, \"type\": \"table\"}]}, \"layout\": {\"annotationdefaults\": {\"arrowhead\": 0, \"arrowwidth\": 1}, \"coloraxis\": {\"colorbar\": {\"outlinewidth\": 1, \"tickcolor\": \"rgb(36,36,36)\", \"ticks\": \"outside\"}}, \"colorscale\": {\"diverging\": [[0.0, \"rgb(103,0,31)\"], [0.1, \"rgb(178,24,43)\"], [0.2, \"rgb(214,96,77)\"], [0.3, \"rgb(244,165,130)\"], [0.4, \"rgb(253,219,199)\"], [0.5, \"rgb(247,247,247)\"], [0.6, \"rgb(209,229,240)\"], [0.7, \"rgb(146,197,222)\"], [0.8, \"rgb(67,147,195)\"], [0.9, \"rgb(33,102,172)\"], [1.0, \"rgb(5,48,97)\"]], \"sequential\": [[0.0, \"#440154\"], [0.1111111111111111, \"#482878\"], [0.2222222222222222, \"#3e4989\"], [0.3333333333333333, \"#31688e\"], [0.4444444444444444, \"#26828e\"], [0.5555555555555556, \"#1f9e89\"], [0.6666666666666666, \"#35b779\"], [0.7777777777777778, \"#6ece58\"], [0.8888888888888888, \"#b5de2b\"], [1.0, \"#fde725\"]], \"sequentialminus\": [[0.0, \"#440154\"], [0.1111111111111111, \"#482878\"], [0.2222222222222222, \"#3e4989\"], [0.3333333333333333, \"#31688e\"], [0.4444444444444444, \"#26828e\"], [0.5555555555555556, \"#1f9e89\"], [0.6666666666666666, \"#35b779\"], [0.7777777777777778, \"#6ece58\"], [0.8888888888888888, \"#b5de2b\"], [1.0, \"#fde725\"]]}, \"colorway\": [\"#1F77B4\", \"#FF7F0E\", \"#2CA02C\", \"#D62728\", \"#9467BD\", \"#8C564B\", \"#E377C2\", \"#7F7F7F\", \"#BCBD22\", \"#17BECF\"], \"font\": {\"color\": \"rgb(36,36,36)\"}, \"geo\": {\"bgcolor\": \"white\", \"lakecolor\": \"white\", \"landcolor\": \"white\", \"showlakes\": true, \"showland\": true, \"subunitcolor\": \"white\"}, \"hoverlabel\": {\"align\": \"left\"}, \"hovermode\": \"closest\", \"mapbox\": {\"style\": \"light\"}, \"paper_bgcolor\": \"white\", \"plot_bgcolor\": \"white\", \"polar\": {\"angularaxis\": {\"gridcolor\": \"rgb(232,232,232)\", \"linecolor\": \"rgb(36,36,36)\", \"showgrid\": false, \"showline\": true, \"ticks\": \"outside\"}, \"bgcolor\": \"white\", \"radialaxis\": {\"gridcolor\": \"rgb(232,232,232)\", \"linecolor\": \"rgb(36,36,36)\", \"showgrid\": false, \"showline\": true, \"ticks\": \"outside\"}}, \"scene\": {\"xaxis\": {\"backgroundcolor\": \"white\", \"gridcolor\": \"rgb(232,232,232)\", \"gridwidth\": 2, \"linecolor\": \"rgb(36,36,36)\", \"showbackground\": true, \"showgrid\": false, \"showline\": true, \"ticks\": \"outside\", \"zeroline\": false, \"zerolinecolor\": \"rgb(36,36,36)\"}, \"yaxis\": {\"backgroundcolor\": \"white\", \"gridcolor\": \"rgb(232,232,232)\", \"gridwidth\": 2, \"linecolor\": \"rgb(36,36,36)\", \"showbackground\": true, \"showgrid\": false, \"showline\": true, \"ticks\": \"outside\", \"zeroline\": false, \"zerolinecolor\": \"rgb(36,36,36)\"}, \"zaxis\": {\"backgroundcolor\": \"white\", \"gridcolor\": \"rgb(232,232,232)\", \"gridwidth\": 2, \"linecolor\": \"rgb(36,36,36)\", \"showbackground\": true, \"showgrid\": false, \"showline\": true, \"ticks\": \"outside\", \"zeroline\": false, \"zerolinecolor\": \"rgb(36,36,36)\"}}, \"shapedefaults\": {\"fillcolor\": \"black\", \"line\": {\"width\": 0}, \"opacity\": 0.3}, \"ternary\": {\"aaxis\": {\"gridcolor\": \"rgb(232,232,232)\", \"linecolor\": \"rgb(36,36,36)\", \"showgrid\": false, \"showline\": true, \"ticks\": \"outside\"}, \"baxis\": {\"gridcolor\": \"rgb(232,232,232)\", \"linecolor\": \"rgb(36,36,36)\", \"showgrid\": false, \"showline\": true, \"ticks\": \"outside\"}, \"bgcolor\": \"white\", \"caxis\": {\"gridcolor\": \"rgb(232,232,232)\", \"linecolor\": \"rgb(36,36,36)\", \"showgrid\": false, \"showline\": true, \"ticks\": \"outside\"}}, \"title\": {\"x\": 0.05}, \"xaxis\": {\"automargin\": true, \"gridcolor\": \"rgb(232,232,232)\", \"linecolor\": \"rgb(36,36,36)\", \"showgrid\": false, \"showline\": true, \"ticks\": \"outside\", \"title\": {\"standoff\": 15}, \"zeroline\": false, \"zerolinecolor\": \"rgb(36,36,36)\"}, \"yaxis\": {\"automargin\": true, \"gridcolor\": \"rgb(232,232,232)\", \"linecolor\": \"rgb(36,36,36)\", \"showgrid\": false, \"showline\": true, \"ticks\": \"outside\", \"title\": {\"standoff\": 15}, \"zeroline\": false, \"zerolinecolor\": \"rgb(36,36,36)\"}}}, \"title\": {\"text\": \"r105c5_e<br>Objective: 1166.5\"}, \"xaxis\": {\"anchor\": \"y\", \"constrain\": \"domain\", \"domain\": [0.0, 1.0], \"mirror\": true, \"range\": [0, 70.4], \"showline\": true, \"ticks\": \"outside\", \"title\": {\"text\": \"x\"}}, \"yaxis\": {\"anchor\": \"x\", \"domain\": [0.0, 1.0], \"mirror\": true, \"range\": [0, 57.2], \"scaleanchor\": \"x\", \"scaleratio\": 1, \"showline\": true, \"ticks\": \"outside\", \"title\": {\"text\": \"y\"}}},\n",
       "                        {\"responsive\": true}\n",
       "                    ).then(function(){\n",
       "                            \n",
       "var gd = document.getElementById('d908fe96-ecea-4411-ab01-057d555668ba');\n",
       "var x = new MutationObserver(function (mutations, observer) {{\n",
       "        var display = window.getComputedStyle(gd).display;\n",
       "        if (!display || display === 'none') {{\n",
       "            console.log([gd, 'removed!']);\n",
       "            Plotly.purge(gd);\n",
       "            observer.disconnect();\n",
       "        }}\n",
       "}});\n",
       "\n",
       "// Listen for the removal of the full notebook cells\n",
       "var notebookContainer = gd.closest('#notebook-container');\n",
       "if (notebookContainer) {{\n",
       "    x.observe(notebookContainer, {childList: true});\n",
       "}}\n",
       "\n",
       "// Listen for the clearing of the current output cell\n",
       "var outputEl = gd.closest('.output');\n",
       "if (outputEl) {{\n",
       "    x.observe(outputEl, {childList: true});\n",
       "}}\n",
       "\n",
       "                        })\n",
       "                };\n",
       "                });\n",
       "            </script>\n",
       "        </div>"
      ]
     },
     "metadata": {},
     "output_type": "display_data"
    }
   ],
   "source": [
    "plot_interactive_graph(m.data['V'], e=e_flat, obj=m.instance.obj(), instance_name=m.instance_name)"
   ]
  },
  {
   "cell_type": "code",
   "execution_count": null,
   "metadata": {},
   "outputs": [],
   "source": []
  },
  {
   "cell_type": "code",
   "execution_count": 1045,
   "metadata": {},
   "outputs": [
    {
     "name": "stdout",
     "output_type": "stream",
     "text": [
      "constraint_energy_start_end_soe : Size=1, Index=constraint_energy_start_end_soe_index, Active=True\n",
      "    Key          : Lower : Body            : Upper : Active\n",
      "    ('D0', 'D1') :   0.0 : xa[D0] - xa[D1] :   0.0 :   True\n"
     ]
    }
   ],
   "source": [
    "m.instance.constraint_energy_start_end_soe.pprint()"
   ]
  },
  {
   "cell_type": "code",
   "execution_count": 1046,
   "metadata": {},
   "outputs": [
    {
     "name": "stdout",
     "output_type": "stream",
     "text": [
      "{Member of xa} : Size=13, Index=V01_\n",
      "    Key : Lower : Value             : Upper : Fixed : Stale : Domain\n",
      "     D0 :     0 : 29.30544467966324 :  None : False : False : NonNegativeReals\n"
     ]
    }
   ],
   "source": [
    "m.instance.xa['D0'].pprint()"
   ]
  },
  {
   "cell_type": "code",
   "execution_count": 1047,
   "metadata": {},
   "outputs": [
    {
     "data": {
      "text/html": [
       "<div>\n",
       "<style scoped>\n",
       "    .dataframe tbody tr th:only-of-type {\n",
       "        vertical-align: middle;\n",
       "    }\n",
       "\n",
       "    .dataframe tbody tr th {\n",
       "        vertical-align: top;\n",
       "    }\n",
       "\n",
       "    .dataframe thead th {\n",
       "        text-align: right;\n",
       "    }\n",
       "</style>\n",
       "<table border=\"1\" class=\"dataframe\">\n",
       "  <thead>\n",
       "    <tr style=\"text-align: right;\">\n",
       "      <th></th>\n",
       "      <th>D0</th>\n",
       "      <th>D1</th>\n",
       "      <th>S0_0</th>\n",
       "      <th>S0_1</th>\n",
       "      <th>S1_0</th>\n",
       "      <th>S1_1</th>\n",
       "      <th>S13_0</th>\n",
       "      <th>S13_1</th>\n",
       "      <th>C91</th>\n",
       "      <th>C28</th>\n",
       "      <th>C75</th>\n",
       "      <th>C78</th>\n",
       "      <th>C95</th>\n",
       "    </tr>\n",
       "  </thead>\n",
       "  <tbody>\n",
       "    <tr>\n",
       "      <th>D0</th>\n",
       "      <td>0.000000</td>\n",
       "      <td>0.000000</td>\n",
       "      <td>0.000000</td>\n",
       "      <td>0.000000</td>\n",
       "      <td>29.068884</td>\n",
       "      <td>29.068884</td>\n",
       "      <td>19.104973</td>\n",
       "      <td>19.104973</td>\n",
       "      <td>25.612497</td>\n",
       "      <td>6.324555</td>\n",
       "      <td>27.784888</td>\n",
       "      <td>31.064449</td>\n",
       "      <td>14.866069</td>\n",
       "    </tr>\n",
       "    <tr>\n",
       "      <th>D1</th>\n",
       "      <td>0.000000</td>\n",
       "      <td>0.000000</td>\n",
       "      <td>0.000000</td>\n",
       "      <td>0.000000</td>\n",
       "      <td>29.068884</td>\n",
       "      <td>29.068884</td>\n",
       "      <td>19.104973</td>\n",
       "      <td>19.104973</td>\n",
       "      <td>25.612497</td>\n",
       "      <td>6.324555</td>\n",
       "      <td>27.784888</td>\n",
       "      <td>31.064449</td>\n",
       "      <td>14.866069</td>\n",
       "    </tr>\n",
       "    <tr>\n",
       "      <th>S0_0</th>\n",
       "      <td>0.000000</td>\n",
       "      <td>0.000000</td>\n",
       "      <td>0.000000</td>\n",
       "      <td>0.000000</td>\n",
       "      <td>29.068884</td>\n",
       "      <td>29.068884</td>\n",
       "      <td>19.104973</td>\n",
       "      <td>19.104973</td>\n",
       "      <td>25.612497</td>\n",
       "      <td>6.324555</td>\n",
       "      <td>27.784888</td>\n",
       "      <td>31.064449</td>\n",
       "      <td>14.866069</td>\n",
       "    </tr>\n",
       "    <tr>\n",
       "      <th>S0_1</th>\n",
       "      <td>0.000000</td>\n",
       "      <td>0.000000</td>\n",
       "      <td>0.000000</td>\n",
       "      <td>0.000000</td>\n",
       "      <td>29.068884</td>\n",
       "      <td>29.068884</td>\n",
       "      <td>19.104973</td>\n",
       "      <td>19.104973</td>\n",
       "      <td>25.612497</td>\n",
       "      <td>6.324555</td>\n",
       "      <td>27.784888</td>\n",
       "      <td>31.064449</td>\n",
       "      <td>14.866069</td>\n",
       "    </tr>\n",
       "    <tr>\n",
       "      <th>S1_0</th>\n",
       "      <td>29.068884</td>\n",
       "      <td>29.068884</td>\n",
       "      <td>29.068884</td>\n",
       "      <td>29.068884</td>\n",
       "      <td>0.000000</td>\n",
       "      <td>0.000000</td>\n",
       "      <td>45.541190</td>\n",
       "      <td>45.541190</td>\n",
       "      <td>52.201533</td>\n",
       "      <td>23.000000</td>\n",
       "      <td>30.016662</td>\n",
       "      <td>15.297059</td>\n",
       "      <td>41.109610</td>\n",
       "    </tr>\n",
       "    <tr>\n",
       "      <th>S1_1</th>\n",
       "      <td>29.068884</td>\n",
       "      <td>29.068884</td>\n",
       "      <td>29.068884</td>\n",
       "      <td>29.068884</td>\n",
       "      <td>0.000000</td>\n",
       "      <td>0.000000</td>\n",
       "      <td>45.541190</td>\n",
       "      <td>45.541190</td>\n",
       "      <td>52.201533</td>\n",
       "      <td>23.000000</td>\n",
       "      <td>30.016662</td>\n",
       "      <td>15.297059</td>\n",
       "      <td>41.109610</td>\n",
       "    </tr>\n",
       "    <tr>\n",
       "      <th>S13_0</th>\n",
       "      <td>19.104973</td>\n",
       "      <td>19.104973</td>\n",
       "      <td>19.104973</td>\n",
       "      <td>19.104973</td>\n",
       "      <td>45.541190</td>\n",
       "      <td>45.541190</td>\n",
       "      <td>0.000000</td>\n",
       "      <td>0.000000</td>\n",
       "      <td>6.708204</td>\n",
       "      <td>25.000000</td>\n",
       "      <td>30.083218</td>\n",
       "      <td>50.000000</td>\n",
       "      <td>4.472136</td>\n",
       "    </tr>\n",
       "    <tr>\n",
       "      <th>S13_1</th>\n",
       "      <td>19.104973</td>\n",
       "      <td>19.104973</td>\n",
       "      <td>19.104973</td>\n",
       "      <td>19.104973</td>\n",
       "      <td>45.541190</td>\n",
       "      <td>45.541190</td>\n",
       "      <td>0.000000</td>\n",
       "      <td>0.000000</td>\n",
       "      <td>6.708204</td>\n",
       "      <td>25.000000</td>\n",
       "      <td>30.083218</td>\n",
       "      <td>50.000000</td>\n",
       "      <td>4.472136</td>\n",
       "    </tr>\n",
       "    <tr>\n",
       "      <th>C91</th>\n",
       "      <td>25.612497</td>\n",
       "      <td>25.612497</td>\n",
       "      <td>25.612497</td>\n",
       "      <td>25.612497</td>\n",
       "      <td>52.201533</td>\n",
       "      <td>52.201533</td>\n",
       "      <td>6.708204</td>\n",
       "      <td>6.708204</td>\n",
       "      <td>0.000000</td>\n",
       "      <td>31.622777</td>\n",
       "      <td>34.928498</td>\n",
       "      <td>56.612719</td>\n",
       "      <td>11.180340</td>\n",
       "    </tr>\n",
       "    <tr>\n",
       "      <th>C28</th>\n",
       "      <td>6.324555</td>\n",
       "      <td>6.324555</td>\n",
       "      <td>6.324555</td>\n",
       "      <td>6.324555</td>\n",
       "      <td>23.000000</td>\n",
       "      <td>23.000000</td>\n",
       "      <td>25.000000</td>\n",
       "      <td>25.000000</td>\n",
       "      <td>31.622777</td>\n",
       "      <td>0.000000</td>\n",
       "      <td>27.202941</td>\n",
       "      <td>25.000000</td>\n",
       "      <td>20.615528</td>\n",
       "    </tr>\n",
       "    <tr>\n",
       "      <th>C75</th>\n",
       "      <td>27.784888</td>\n",
       "      <td>27.784888</td>\n",
       "      <td>27.784888</td>\n",
       "      <td>27.784888</td>\n",
       "      <td>30.016662</td>\n",
       "      <td>30.016662</td>\n",
       "      <td>30.083218</td>\n",
       "      <td>30.083218</td>\n",
       "      <td>34.928498</td>\n",
       "      <td>27.202941</td>\n",
       "      <td>0.000000</td>\n",
       "      <td>42.720019</td>\n",
       "      <td>27.294688</td>\n",
       "    </tr>\n",
       "    <tr>\n",
       "      <th>C78</th>\n",
       "      <td>31.064449</td>\n",
       "      <td>31.064449</td>\n",
       "      <td>31.064449</td>\n",
       "      <td>31.064449</td>\n",
       "      <td>15.297059</td>\n",
       "      <td>15.297059</td>\n",
       "      <td>50.000000</td>\n",
       "      <td>50.000000</td>\n",
       "      <td>56.612719</td>\n",
       "      <td>25.000000</td>\n",
       "      <td>42.720019</td>\n",
       "      <td>0.000000</td>\n",
       "      <td>45.607017</td>\n",
       "    </tr>\n",
       "    <tr>\n",
       "      <th>C95</th>\n",
       "      <td>14.866069</td>\n",
       "      <td>14.866069</td>\n",
       "      <td>14.866069</td>\n",
       "      <td>14.866069</td>\n",
       "      <td>41.109610</td>\n",
       "      <td>41.109610</td>\n",
       "      <td>4.472136</td>\n",
       "      <td>4.472136</td>\n",
       "      <td>11.180340</td>\n",
       "      <td>20.615528</td>\n",
       "      <td>27.294688</td>\n",
       "      <td>45.607017</td>\n",
       "      <td>0.000000</td>\n",
       "    </tr>\n",
       "  </tbody>\n",
       "</table>\n",
       "</div>"
      ],
      "text/plain": [
       "              D0         D1       S0_0       S0_1       S1_0       S1_1  \\\n",
       "D0      0.000000   0.000000   0.000000   0.000000  29.068884  29.068884   \n",
       "D1      0.000000   0.000000   0.000000   0.000000  29.068884  29.068884   \n",
       "S0_0    0.000000   0.000000   0.000000   0.000000  29.068884  29.068884   \n",
       "S0_1    0.000000   0.000000   0.000000   0.000000  29.068884  29.068884   \n",
       "S1_0   29.068884  29.068884  29.068884  29.068884   0.000000   0.000000   \n",
       "S1_1   29.068884  29.068884  29.068884  29.068884   0.000000   0.000000   \n",
       "S13_0  19.104973  19.104973  19.104973  19.104973  45.541190  45.541190   \n",
       "S13_1  19.104973  19.104973  19.104973  19.104973  45.541190  45.541190   \n",
       "C91    25.612497  25.612497  25.612497  25.612497  52.201533  52.201533   \n",
       "C28     6.324555   6.324555   6.324555   6.324555  23.000000  23.000000   \n",
       "C75    27.784888  27.784888  27.784888  27.784888  30.016662  30.016662   \n",
       "C78    31.064449  31.064449  31.064449  31.064449  15.297059  15.297059   \n",
       "C95    14.866069  14.866069  14.866069  14.866069  41.109610  41.109610   \n",
       "\n",
       "           S13_0      S13_1        C91        C28        C75        C78  \\\n",
       "D0     19.104973  19.104973  25.612497   6.324555  27.784888  31.064449   \n",
       "D1     19.104973  19.104973  25.612497   6.324555  27.784888  31.064449   \n",
       "S0_0   19.104973  19.104973  25.612497   6.324555  27.784888  31.064449   \n",
       "S0_1   19.104973  19.104973  25.612497   6.324555  27.784888  31.064449   \n",
       "S1_0   45.541190  45.541190  52.201533  23.000000  30.016662  15.297059   \n",
       "S1_1   45.541190  45.541190  52.201533  23.000000  30.016662  15.297059   \n",
       "S13_0   0.000000   0.000000   6.708204  25.000000  30.083218  50.000000   \n",
       "S13_1   0.000000   0.000000   6.708204  25.000000  30.083218  50.000000   \n",
       "C91     6.708204   6.708204   0.000000  31.622777  34.928498  56.612719   \n",
       "C28    25.000000  25.000000  31.622777   0.000000  27.202941  25.000000   \n",
       "C75    30.083218  30.083218  34.928498  27.202941   0.000000  42.720019   \n",
       "C78    50.000000  50.000000  56.612719  25.000000  42.720019   0.000000   \n",
       "C95     4.472136   4.472136  11.180340  20.615528  27.294688  45.607017   \n",
       "\n",
       "             C95  \n",
       "D0     14.866069  \n",
       "D1     14.866069  \n",
       "S0_0   14.866069  \n",
       "S0_1   14.866069  \n",
       "S1_0   41.109610  \n",
       "S1_1   41.109610  \n",
       "S13_0   4.472136  \n",
       "S13_1   4.472136  \n",
       "C91    11.180340  \n",
       "C28    20.615528  \n",
       "C75    27.294688  \n",
       "C78    45.607017  \n",
       "C95     0.000000  "
      ]
     },
     "execution_count": 1047,
     "metadata": {},
     "output_type": "execute_result"
    }
   ],
   "source": [
    "m.data['d']"
   ]
  },
  {
   "cell_type": "code",
   "execution_count": 1048,
   "metadata": {},
   "outputs": [],
   "source": [
    "traces = trace_routes(m)"
   ]
  },
  {
   "cell_type": "code",
   "execution_count": 1049,
   "metadata": {},
   "outputs": [
    {
     "data": {
      "text/html": [
       "<div>\n",
       "<style scoped>\n",
       "    .dataframe tbody tr th:only-of-type {\n",
       "        vertical-align: middle;\n",
       "    }\n",
       "\n",
       "    .dataframe tbody tr th {\n",
       "        vertical-align: top;\n",
       "    }\n",
       "\n",
       "    .dataframe thead th {\n",
       "        text-align: right;\n",
       "    }\n",
       "</style>\n",
       "<table border=\"1\" class=\"dataframe\">\n",
       "  <thead>\n",
       "    <tr style=\"text-align: right;\">\n",
       "      <th></th>\n",
       "      <th>from</th>\n",
       "      <th>to</th>\n",
       "      <th>state</th>\n",
       "      <th>xw</th>\n",
       "      <th>xq</th>\n",
       "      <th>xa</th>\n",
       "      <th>from_d_x</th>\n",
       "      <th>from_d_y</th>\n",
       "      <th>to_d_x</th>\n",
       "      <th>to_d_y</th>\n",
       "    </tr>\n",
       "  </thead>\n",
       "  <tbody>\n",
       "    <tr>\n",
       "      <th>23</th>\n",
       "      <td>D0</td>\n",
       "      <td>S0_1</td>\n",
       "      <td>1.0</td>\n",
       "      <td>0.000000</td>\n",
       "      <td>0.0</td>\n",
       "      <td>29.305445</td>\n",
       "      <td>35</td>\n",
       "      <td>35</td>\n",
       "      <td>35</td>\n",
       "      <td>35</td>\n",
       "    </tr>\n",
       "    <tr>\n",
       "      <th>12</th>\n",
       "      <td>D0</td>\n",
       "      <td>S0_0</td>\n",
       "      <td>1.0</td>\n",
       "      <td>25.935551</td>\n",
       "      <td>0.0</td>\n",
       "      <td>29.305445</td>\n",
       "      <td>35</td>\n",
       "      <td>35</td>\n",
       "      <td>35</td>\n",
       "      <td>35</td>\n",
       "    </tr>\n",
       "    <tr>\n",
       "      <th>102</th>\n",
       "      <td>S0_1</td>\n",
       "      <td>C75</td>\n",
       "      <td>1.0</td>\n",
       "      <td>62.071502</td>\n",
       "      <td>200.0</td>\n",
       "      <td>53.545658</td>\n",
       "      <td>35</td>\n",
       "      <td>35</td>\n",
       "      <td>49</td>\n",
       "      <td>11</td>\n",
       "    </tr>\n",
       "    <tr>\n",
       "      <th>86</th>\n",
       "      <td>C75</td>\n",
       "      <td>C91</td>\n",
       "      <td>1.0</td>\n",
       "      <td>107.000000</td>\n",
       "      <td>182.0</td>\n",
       "      <td>18.617159</td>\n",
       "      <td>49</td>\n",
       "      <td>11</td>\n",
       "      <td>15</td>\n",
       "      <td>19</td>\n",
       "    </tr>\n",
       "    <tr>\n",
       "      <th>73</th>\n",
       "      <td>C91</td>\n",
       "      <td>S13_1</td>\n",
       "      <td>1.0</td>\n",
       "      <td>123.708204</td>\n",
       "      <td>0.0</td>\n",
       "      <td>11.908955</td>\n",
       "      <td>15</td>\n",
       "      <td>19</td>\n",
       "      <td>21</td>\n",
       "      <td>22</td>\n",
       "    </tr>\n",
       "    <tr>\n",
       "      <th>128</th>\n",
       "      <td>S13_1</td>\n",
       "      <td>C95</td>\n",
       "      <td>1.0</td>\n",
       "      <td>146.180340</td>\n",
       "      <td>39.0</td>\n",
       "      <td>44.171513</td>\n",
       "      <td>21</td>\n",
       "      <td>22</td>\n",
       "      <td>25</td>\n",
       "      <td>24</td>\n",
       "    </tr>\n",
       "    <tr>\n",
       "      <th>112</th>\n",
       "      <td>S0_0</td>\n",
       "      <td>C78</td>\n",
       "      <td>1.0</td>\n",
       "      <td>158.000000</td>\n",
       "      <td>19.0</td>\n",
       "      <td>60.630000</td>\n",
       "      <td>35</td>\n",
       "      <td>35</td>\n",
       "      <td>61</td>\n",
       "      <td>52</td>\n",
       "    </tr>\n",
       "    <tr>\n",
       "      <th>98</th>\n",
       "      <td>C78</td>\n",
       "      <td>C28</td>\n",
       "      <td>1.0</td>\n",
       "      <td>213.000000</td>\n",
       "      <td>16.0</td>\n",
       "      <td>35.630000</td>\n",
       "      <td>61</td>\n",
       "      <td>52</td>\n",
       "      <td>41</td>\n",
       "      <td>37</td>\n",
       "    </tr>\n",
       "    <tr>\n",
       "      <th>8</th>\n",
       "      <td>C28</td>\n",
       "      <td>D1</td>\n",
       "      <td>1.0</td>\n",
       "      <td>230.000000</td>\n",
       "      <td>0.0</td>\n",
       "      <td>29.305445</td>\n",
       "      <td>41</td>\n",
       "      <td>37</td>\n",
       "      <td>35</td>\n",
       "      <td>35</td>\n",
       "    </tr>\n",
       "    <tr>\n",
       "      <th>11</th>\n",
       "      <td>C95</td>\n",
       "      <td>D1</td>\n",
       "      <td>1.0</td>\n",
       "      <td>230.000000</td>\n",
       "      <td>0.0</td>\n",
       "      <td>29.305445</td>\n",
       "      <td>25</td>\n",
       "      <td>24</td>\n",
       "      <td>35</td>\n",
       "      <td>35</td>\n",
       "    </tr>\n",
       "  </tbody>\n",
       "</table>\n",
       "</div>"
      ],
      "text/plain": [
       "      from     to  state          xw     xq         xa  from_d_x  from_d_y  \\\n",
       "23      D0   S0_1    1.0    0.000000    0.0  29.305445        35        35   \n",
       "12      D0   S0_0    1.0   25.935551    0.0  29.305445        35        35   \n",
       "102   S0_1    C75    1.0   62.071502  200.0  53.545658        35        35   \n",
       "86     C75    C91    1.0  107.000000  182.0  18.617159        49        11   \n",
       "73     C91  S13_1    1.0  123.708204    0.0  11.908955        15        19   \n",
       "128  S13_1    C95    1.0  146.180340   39.0  44.171513        21        22   \n",
       "112   S0_0    C78    1.0  158.000000   19.0  60.630000        35        35   \n",
       "98     C78    C28    1.0  213.000000   16.0  35.630000        61        52   \n",
       "8      C28     D1    1.0  230.000000    0.0  29.305445        41        37   \n",
       "11     C95     D1    1.0  230.000000    0.0  29.305445        25        24   \n",
       "\n",
       "     to_d_x  to_d_y  \n",
       "23       35      35  \n",
       "12       35      35  \n",
       "102      49      11  \n",
       "86       15      19  \n",
       "73       21      22  \n",
       "128      25      24  \n",
       "112      61      52  \n",
       "98       41      37  \n",
       "8        35      35  \n",
       "11       35      35  "
      ]
     },
     "execution_count": 1049,
     "metadata": {},
     "output_type": "execute_result"
    }
   ],
   "source": [
    "x[x['state']>1e-4].sort_values(['xw'])"
   ]
  },
  {
   "cell_type": "code",
   "execution_count": null,
   "metadata": {},
   "outputs": [],
   "source": []
  },
  {
   "cell_type": "code",
   "execution_count": 1050,
   "metadata": {},
   "outputs": [],
   "source": [
    "routes = x[x['state']>1e-4].sort_values(['xw']).set_index(['from', 'to'])"
   ]
  },
  {
   "cell_type": "code",
   "execution_count": 1051,
   "metadata": {},
   "outputs": [
    {
     "data": {
      "text/html": [
       "<div>\n",
       "<style scoped>\n",
       "    .dataframe tbody tr th:only-of-type {\n",
       "        vertical-align: middle;\n",
       "    }\n",
       "\n",
       "    .dataframe tbody tr th {\n",
       "        vertical-align: top;\n",
       "    }\n",
       "\n",
       "    .dataframe thead th {\n",
       "        text-align: right;\n",
       "    }\n",
       "</style>\n",
       "<table border=\"1\" class=\"dataframe\">\n",
       "  <thead>\n",
       "    <tr style=\"text-align: right;\">\n",
       "      <th></th>\n",
       "      <th></th>\n",
       "      <th>state</th>\n",
       "      <th>xw</th>\n",
       "      <th>xq</th>\n",
       "      <th>xa</th>\n",
       "      <th>from_d_x</th>\n",
       "      <th>from_d_y</th>\n",
       "      <th>to_d_x</th>\n",
       "      <th>to_d_y</th>\n",
       "    </tr>\n",
       "    <tr>\n",
       "      <th>from</th>\n",
       "      <th>to</th>\n",
       "      <th></th>\n",
       "      <th></th>\n",
       "      <th></th>\n",
       "      <th></th>\n",
       "      <th></th>\n",
       "      <th></th>\n",
       "      <th></th>\n",
       "      <th></th>\n",
       "    </tr>\n",
       "  </thead>\n",
       "  <tbody>\n",
       "    <tr>\n",
       "      <th rowspan=\"2\" valign=\"top\">D0</th>\n",
       "      <th>S0_1</th>\n",
       "      <td>1.0</td>\n",
       "      <td>0.000000</td>\n",
       "      <td>0.0</td>\n",
       "      <td>29.305445</td>\n",
       "      <td>35</td>\n",
       "      <td>35</td>\n",
       "      <td>35</td>\n",
       "      <td>35</td>\n",
       "    </tr>\n",
       "    <tr>\n",
       "      <th>S0_0</th>\n",
       "      <td>1.0</td>\n",
       "      <td>25.935551</td>\n",
       "      <td>0.0</td>\n",
       "      <td>29.305445</td>\n",
       "      <td>35</td>\n",
       "      <td>35</td>\n",
       "      <td>35</td>\n",
       "      <td>35</td>\n",
       "    </tr>\n",
       "    <tr>\n",
       "      <th>S0_1</th>\n",
       "      <th>C75</th>\n",
       "      <td>1.0</td>\n",
       "      <td>62.071502</td>\n",
       "      <td>200.0</td>\n",
       "      <td>53.545658</td>\n",
       "      <td>35</td>\n",
       "      <td>35</td>\n",
       "      <td>49</td>\n",
       "      <td>11</td>\n",
       "    </tr>\n",
       "    <tr>\n",
       "      <th>C75</th>\n",
       "      <th>C91</th>\n",
       "      <td>1.0</td>\n",
       "      <td>107.000000</td>\n",
       "      <td>182.0</td>\n",
       "      <td>18.617159</td>\n",
       "      <td>49</td>\n",
       "      <td>11</td>\n",
       "      <td>15</td>\n",
       "      <td>19</td>\n",
       "    </tr>\n",
       "    <tr>\n",
       "      <th>C91</th>\n",
       "      <th>S13_1</th>\n",
       "      <td>1.0</td>\n",
       "      <td>123.708204</td>\n",
       "      <td>0.0</td>\n",
       "      <td>11.908955</td>\n",
       "      <td>15</td>\n",
       "      <td>19</td>\n",
       "      <td>21</td>\n",
       "      <td>22</td>\n",
       "    </tr>\n",
       "    <tr>\n",
       "      <th>S13_1</th>\n",
       "      <th>C95</th>\n",
       "      <td>1.0</td>\n",
       "      <td>146.180340</td>\n",
       "      <td>39.0</td>\n",
       "      <td>44.171513</td>\n",
       "      <td>21</td>\n",
       "      <td>22</td>\n",
       "      <td>25</td>\n",
       "      <td>24</td>\n",
       "    </tr>\n",
       "    <tr>\n",
       "      <th>S0_0</th>\n",
       "      <th>C78</th>\n",
       "      <td>1.0</td>\n",
       "      <td>158.000000</td>\n",
       "      <td>19.0</td>\n",
       "      <td>60.630000</td>\n",
       "      <td>35</td>\n",
       "      <td>35</td>\n",
       "      <td>61</td>\n",
       "      <td>52</td>\n",
       "    </tr>\n",
       "    <tr>\n",
       "      <th>C78</th>\n",
       "      <th>C28</th>\n",
       "      <td>1.0</td>\n",
       "      <td>213.000000</td>\n",
       "      <td>16.0</td>\n",
       "      <td>35.630000</td>\n",
       "      <td>61</td>\n",
       "      <td>52</td>\n",
       "      <td>41</td>\n",
       "      <td>37</td>\n",
       "    </tr>\n",
       "    <tr>\n",
       "      <th>C28</th>\n",
       "      <th>D1</th>\n",
       "      <td>1.0</td>\n",
       "      <td>230.000000</td>\n",
       "      <td>0.0</td>\n",
       "      <td>29.305445</td>\n",
       "      <td>41</td>\n",
       "      <td>37</td>\n",
       "      <td>35</td>\n",
       "      <td>35</td>\n",
       "    </tr>\n",
       "    <tr>\n",
       "      <th>C95</th>\n",
       "      <th>D1</th>\n",
       "      <td>1.0</td>\n",
       "      <td>230.000000</td>\n",
       "      <td>0.0</td>\n",
       "      <td>29.305445</td>\n",
       "      <td>25</td>\n",
       "      <td>24</td>\n",
       "      <td>35</td>\n",
       "      <td>35</td>\n",
       "    </tr>\n",
       "  </tbody>\n",
       "</table>\n",
       "</div>"
      ],
      "text/plain": [
       "             state          xw     xq         xa  from_d_x  from_d_y  to_d_x  \\\n",
       "from  to                                                                       \n",
       "D0    S0_1     1.0    0.000000    0.0  29.305445        35        35      35   \n",
       "      S0_0     1.0   25.935551    0.0  29.305445        35        35      35   \n",
       "S0_1  C75      1.0   62.071502  200.0  53.545658        35        35      49   \n",
       "C75   C91      1.0  107.000000  182.0  18.617159        49        11      15   \n",
       "C91   S13_1    1.0  123.708204    0.0  11.908955        15        19      21   \n",
       "S13_1 C95      1.0  146.180340   39.0  44.171513        21        22      25   \n",
       "S0_0  C78      1.0  158.000000   19.0  60.630000        35        35      61   \n",
       "C78   C28      1.0  213.000000   16.0  35.630000        61        52      41   \n",
       "C28   D1       1.0  230.000000    0.0  29.305445        41        37      35   \n",
       "C95   D1       1.0  230.000000    0.0  29.305445        25        24      35   \n",
       "\n",
       "             to_d_y  \n",
       "from  to             \n",
       "D0    S0_1       35  \n",
       "      S0_0       35  \n",
       "S0_1  C75        11  \n",
       "C75   C91        19  \n",
       "C91   S13_1      22  \n",
       "S13_1 C95        24  \n",
       "S0_0  C78        52  \n",
       "C78   C28        37  \n",
       "C28   D1         35  \n",
       "C95   D1         35  "
      ]
     },
     "execution_count": 1051,
     "metadata": {},
     "output_type": "execute_result"
    }
   ],
   "source": [
    "routes"
   ]
  },
  {
   "cell_type": "code",
   "execution_count": 1052,
   "metadata": {},
   "outputs": [
    {
     "data": {
      "image/png": "[encoded data removed]",
      "text/plain": [
       "<Figure size 720x720 with 4 Axes>"
      ]
     },
     "metadata": {
      "needs_background": "light"
     },
     "output_type": "display_data"
    }
   ],
   "source": [
    "fig, axs = plt.subplots(4, 1, figsize=(10,10), gridspec_kw={'height_ratios': [4, 1, 1, 1]})\n",
    "\n",
    "title = ''\n",
    "title += '{}\\n'.format(m.instance_name)\n",
    "title += 'Objective: {}'.format(round(m.instance.obj.expr(), 2))\n",
    "fig.suptitle(title)\n",
    "\n",
    "a = 0.5\n",
    "\n",
    "for i, n in enumerate('SDM'):\n",
    "    # Plot the nodes\n",
    "    axs[0].scatter(m.data[n]['d_x'], m.data[n]['d_y'], c=[node_colors_rgba_tuple[n]]*len(m.data[n]), s=100)\n",
    "\n",
    "    # Annotate the nodes\n",
    "    for j, txt in enumerate(m.data[n].index):\n",
    "        scale = 2\n",
    "        if n == 'D':\n",
    "            offset = [-scale, -scale]\n",
    "        elif n == 'S':\n",
    "            offset = [-scale, 0]\n",
    "        else:\n",
    "            offset = [0, 0]\n",
    "        if txt == 'D1':\n",
    "            offset = [0, -scale]\n",
    "            \n",
    "        axs[0].annotate(txt, (m.data[n]['d_x'][j]+offset[0], m.data[n]['d_y'][j]+offset[1]))\n",
    "        \n",
    "# Get colors for each vehicle\n",
    "c = plt.get_cmap('Dark2')\n",
    "colors = [c(tc) for tc in np.linspace(0, 1, len(traces))]\n",
    "    \n",
    "# Plot the vehicle routes        \n",
    "for ti, t in enumerate(traces):\n",
    "    for ki, k in enumerate(t[:-1]):\n",
    "        arrow_x = m.data['V_'].loc[t[ki], 'd_x']\n",
    "        arrow_y = m.data['V_'].loc[t[ki], 'd_y']\n",
    "        arrow_dx = m.data['V_'].loc[t[ki+1], 'd_x'] - arrow_x\n",
    "        arrow_dy = m.data['V_'].loc[t[ki+1], 'd_y'] - arrow_y\n",
    "        \n",
    "        axs[0].arrow(arrow_x, arrow_y, arrow_dx, arrow_dy, alpha=a,\n",
    "                     length_includes_head=True, head_width=.75, head_length=.75, overhang=.25, color=colors[ti])\n",
    "        \n",
    "    # Plot the vehicle states\n",
    "    r = routes.loc[list(zip(t[:-1], t[1:]))]\n",
    "    \n",
    "    # Plot arrival capacity\n",
    "    axs[1].plot(r['xw'], r['xq'], color=colors[ti], alpha=a)\n",
    "    axs[1].title.set_text('Arrival capacity')    \n",
    "    for row in r.iterrows():\n",
    "        axs[1].annotate('{}: {:.1f}'.format(row[0][1], row[1]['xq']), xy=(row[1]['xw'], row[1]['xq']), color=colors[ti])\n",
    "    \n",
    "    # Plot arrival SOE\n",
    "    axs[2].plot(r['xw'], r['xa'], color=colors[ti], alpha=a)\n",
    "    axs[2].title.set_text('Arrival SOE')\n",
    "    for row in r.iterrows():\n",
    "        axs[2].annotate('{}: {:.1f}'.format(row[0][1], row[1]['xa']), xy=(row[1]['xw'], row[1]['xa']), color=colors[ti])\n",
    "    \n",
    "    \n",
    "# Plot power\n",
    "stations = xp['node'].unique()\n",
    "for s in stations:\n",
    "    axs[3].bar(xp[xp['node']==s]['t'], xp[xp['node']==s]['xp'], label=s, alpha=a)\n",
    "\n",
    "axs[3].legend()\n",
    "axs[3].title.set_text('Power')    \n",
    "\n",
    "fig.tight_layout()"
   ]
  },
  {
   "cell_type": "code",
   "execution_count": 1001,
   "metadata": {},
   "outputs": [
    {
     "data": {
      "text/html": [
       "<div>\n",
       "<style scoped>\n",
       "    .dataframe tbody tr th:only-of-type {\n",
       "        vertical-align: middle;\n",
       "    }\n",
       "\n",
       "    .dataframe tbody tr th {\n",
       "        vertical-align: top;\n",
       "    }\n",
       "\n",
       "    .dataframe thead th {\n",
       "        text-align: right;\n",
       "    }\n",
       "</style>\n",
       "<table border=\"1\" class=\"dataframe\">\n",
       "  <thead>\n",
       "    <tr style=\"text-align: right;\">\n",
       "      <th></th>\n",
       "      <th>t</th>\n",
       "      <th>state</th>\n",
       "      <th>xp</th>\n",
       "    </tr>\n",
       "    <tr>\n",
       "      <th>node</th>\n",
       "      <th></th>\n",
       "      <th></th>\n",
       "      <th></th>\n",
       "    </tr>\n",
       "  </thead>\n",
       "  <tbody>\n",
       "    <tr>\n",
       "      <th>S0_0</th>\n",
       "      <td>3766</td>\n",
       "      <td>34.0</td>\n",
       "      <td>69.387755</td>\n",
       "    </tr>\n",
       "    <tr>\n",
       "      <th>S0_1</th>\n",
       "      <td>4613</td>\n",
       "      <td>45.0</td>\n",
       "      <td>91.836735</td>\n",
       "    </tr>\n",
       "    <tr>\n",
       "      <th>S13_1</th>\n",
       "      <td>730</td>\n",
       "      <td>10.0</td>\n",
       "      <td>20.408163</td>\n",
       "    </tr>\n",
       "  </tbody>\n",
       "</table>\n",
       "</div>"
      ],
      "text/plain": [
       "          t  state         xp\n",
       "node                         \n",
       "S0_0   3766   34.0  69.387755\n",
       "S0_1   4613   45.0  91.836735\n",
       "S13_1   730   10.0  20.408163"
      ]
     },
     "execution_count": 1001,
     "metadata": {},
     "output_type": "execute_result"
    }
   ],
   "source": [
    "xp.groupby('node').sum()"
   ]
  },
  {
   "cell_type": "code",
   "execution_count": 936,
   "metadata": {},
   "outputs": [
    {
     "data": {
      "text/plain": [
       "156.08206946417084"
      ]
     },
     "execution_count": 936,
     "metadata": {},
     "output_type": "execute_result"
    }
   ],
   "source": [
    "m.instance.obj.expr()"
   ]
  },
  {
   "cell_type": "code",
   "execution_count": null,
   "metadata": {},
   "outputs": [],
   "source": []
  }
 ],
 "metadata": {
  "kernelspec": {
   "display_name": "Python 3",
   "language": "python",
   "name": "python3"
  },
  "language_info": {
   "codemirror_mode": {
    "name": "ipython",
    "version": 3
   },
   "file_extension": ".py",
   "mimetype": "text/x-python",
   "name": "python",
   "nbconvert_exporter": "python",
   "pygments_lexer": "ipython3",
   "version": "3.6.10"
  }
 },
 "nbformat": 4,
 "nbformat_minor": 1
}
