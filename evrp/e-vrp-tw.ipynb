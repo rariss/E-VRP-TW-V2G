{
 "cells": [
  {
   "cell_type": "code",
   "execution_count": 1,
   "outputs": [],
   "source": [
    "import sys\n",
    "sys.path.append(\"../\") # go to parent dir\n",
    "\n",
    "%load_ext autoreload\n",
    "%autoreload 2"
   ],
   "metadata": {
    "collapsed": false,
    "pycharm": {
     "name": "#%%\n"
    }
   }
  },
  {
   "cell_type": "code",
   "execution_count": 2,
   "outputs": [],
   "source": [
    "from evrp.utils.utilities import create_optimal_edges, create_json_out, update_instance_json, read_instance_json_str, convert_txt_instances_to_csv, trace_routes\n",
    "from evrp.utils.plot import plot_interactive_graph, plot_evrptwv2g\n",
    "from evrp.milp.evrptw import EVRPTW\n",
    "\n",
    "import pandas as pd\n",
    "import numpy as np\n",
    "\n",
    "import json\n",
    "\n",
    "pd.options.plotting.backend = \"plotly\""
   ],
   "metadata": {
    "collapsed": false,
    "pycharm": {
     "name": "#%%\n"
    }
   }
  },
  {
   "cell_type": "markdown",
   "source": [
    "# Convert Schneider instance to E-VRP-TW-V2G"
   ],
   "metadata": {
    "collapsed": false
   }
  },
  {
   "cell_type": "code",
   "execution_count": 3,
   "outputs": [],
   "source": [
    "schneider_instance = 'rc105C5'\n",
    "convert_txt_instances_to_csv(schneider_instance)"
   ],
   "metadata": {
    "collapsed": false,
    "pycharm": {
     "name": "#%%\n"
    }
   }
  },
  {
   "cell_type": "markdown",
   "source": [
    " # Full solve\n",
    "\n",
    "Objective options: {Schneider} OR {OpEx CapEx Cycle EA DCM Delivery}\n",
    "\n",
    "Constraint options: {Start=End, FullStart=End, NoXkappaBounds, NoMinVehicles, NoSymmetry, NoXd, SplitXp, StationaryEVs}"
   ],
   "metadata": {
    "collapsed": false
   }
  },
  {
   "cell_type": "code",
   "execution_count": 61,
   "outputs": [],
   "source": [
    "instance = 'r105C5_e'\n",
    "fpath = 'config/test_instances/' + instance + '.csv'"
   ],
   "metadata": {
    "collapsed": false,
    "pycharm": {
     "name": "#%%\n"
    }
   }
  },
  {
   "cell_type": "code",
   "execution_count": 138,
   "outputs": [
    {
     "name": "stderr",
     "output_type": "stream",
     "text": [
      "2021-06-30 17:36:50 INFO     Building abstract model\n",
      "2021-06-30 17:36:50 INFO     Defining parameters and sets\n",
      "2021-06-30 17:36:50 INFO     Defining variables\n",
      "2021-06-30 17:36:50 INFO     Defining constraints\n",
      "2021-06-30 17:36:50 INFO     Importing EVRPTW MILP instance: r105C5_e\n",
      "2021-06-30 17:36:50 INFO     Reading CSV\n",
      "2021-06-30 17:36:50 INFO     Creating graph\n",
      "2021-06-30 17:36:50 INFO     Creating timeseries data\n",
      "2021-06-30 17:36:50 INFO     Creating duplicates and extended graph\n",
      "2021-06-30 17:36:50 INFO     Using Scipy euclidian distances to generate distance matrix\n",
      "2021-06-30 17:36:50 INFO     Calculating distance matrix\n",
      "2021-06-30 17:36:50 INFO     Creating parameters\n",
      "2021-06-30 17:36:50 INFO     Creating instance\n",
      "2021-06-30 17:36:50 INFO     Problem type: Schneider Cycle nosymmetry stationaryevs splitxp bigm\n",
      "2021-06-30 17:36:53 INFO     Solving instance...\n"
     ]
    },
    {
     "name": "stdout",
     "output_type": "stream",
     "text": [
      "Using license file /Users/ramiariss/gurobi.lic\n",
      "Academic license - for non-commercial use only - expires 2021-08-14\n",
      "Read LP format model from file /var/folders/vv/1p3h17yx43n9m7k86th68_ym0000gn/T/tmpug4b7e2n.pyomo.lp\n",
      "Reading time = 0.03 seconds\n",
      "x3914: 13102 rows, 2396 columns, 29075 nonzeros\n",
      "Changed value of parameter TimeLimit to 120.0\n",
      "   Prev: inf  Min: 0.0  Max: inf  Default: inf\n",
      "Gurobi Optimizer version 9.1.0 build v9.1.0rc0 (mac64)\n",
      "Thread count: 4 physical cores, 8 logical processors, using up to 8 threads\n",
      "Optimize a model with 13102 rows, 2396 columns and 29075 nonzeros\n",
      "Model fingerprint: 0x559adfda\n",
      "Variable types: 457 continuous, 1939 integer (1939 binary)\n",
      "Coefficient statistics:\n",
      "  Matrix range     [1e+00, 6e+02]\n",
      "  Objective range  [4e+00, 1e+03]\n",
      "  Bounds range     [1e+00, 2e+02]\n",
      "  RHS range        [1e+00, 6e+02]\n",
      "Found heuristic solution: objective 1158.9066431\n",
      "Presolve removed 13079 rows and 2263 columns\n",
      "Presolve time: 0.03s\n",
      "Presolved: 23 rows, 133 columns, 320 nonzeros\n",
      "Variable types: 0 continuous, 133 integer (133 binary)\n",
      "\n",
      "Root relaxation: objective 1.107361e+03, 14 iterations, 0.00 seconds\n",
      "\n",
      "    Nodes    |    Current Node    |     Objective Bounds      |     Work\n",
      " Expl Unexpl |  Obj  Depth IntInf | Incumbent    BestBd   Gap | It/Node Time\n",
      "\n",
      "*    0     0               0    1107.3606789 1107.36068  0.00%     -    0s\n",
      "\n",
      "Explored 0 nodes (14 simplex iterations) in 0.04 seconds\n",
      "Thread count was 8 (of 8 available processors)\n",
      "\n",
      "Solution count 2: 1107.36 1158.91 \n",
      "\n",
      "Optimal solution found (tolerance 1.00e-04)\n",
      "Best objective 1.107360678891e+03, best bound 1.107360678891e+03, gap 0.0000%\n"
     ]
    },
    {
     "name": "stderr",
     "output_type": "stream",
     "text": [
      "2021-06-30 17:36:55 INFO     Done\n"
     ]
    }
   ],
   "source": [
    "m = EVRPTW(problem_type='Schneider Cycle nosymmetry stationaryevs splitxp bigm')\n",
    "m.full_solve(fpath)"
   ],
   "metadata": {
    "collapsed": false,
    "pycharm": {
     "name": "#%%\n"
    }
   }
  },
  {
   "cell_type": "code",
   "execution_count": 139,
   "outputs": [
    {
     "name": "stdout",
     "output_type": "stream",
     "text": [
      "('D0', 'D1')\n",
      "('S1_0', 'C78')\n",
      "('C91', 'C95')\n",
      "('C28', 'C75')\n",
      "('C75', 'C28')\n",
      "('C78', 'S1_0')\n",
      "('C95', 'C91')\n"
     ]
    }
   ],
   "source": [
    "for k, v in m.instance.xgamma.get_values().items():\n",
    "    if v>0:\n",
    "        print(k)"
   ],
   "metadata": {
    "collapsed": false,
    "pycharm": {
     "name": "#%%\n"
    }
   }
  },
  {
   "cell_type": "code",
   "execution_count": 135,
   "outputs": [
    {
     "name": "stdout",
     "output_type": "stream",
     "text": [
      "\n",
      "Problem: \n",
      "- Name: x3914\n",
      "  Lower bound: 1000.0\n",
      "  Upper bound: 1000.0\n",
      "  Number of objectives: 1\n",
      "  Number of constraints: 12953\n",
      "  Number of variables: 2396\n",
      "  Number of binary variables: 1939\n",
      "  Number of integer variables: 1939\n",
      "  Number of continuous variables: 457\n",
      "  Number of nonzeros: 27298\n",
      "  Sense: minimize\n",
      "Solver: \n",
      "- Status: ok\n",
      "  Return code: 0\n",
      "  Message: Model was solved to optimality (subject to tolerances), and an optimal solution is available.\n",
      "  Termination condition: optimal\n",
      "  Termination message: Model was solved to optimality (subject to tolerances), and an optimal solution is available.\n",
      "  Wall time: 0.04300713539123535\n",
      "  Error rc: 0\n",
      "  Time: 0.22142481803894043\n",
      "Solution: \n",
      "- number of solutions: 0\n",
      "  number of solutions displayed: 0\n",
      "\n"
     ]
    }
   ],
   "source": [
    "print(m.results)"
   ],
   "metadata": {
    "collapsed": false,
    "pycharm": {
     "name": "#%%\n"
    }
   }
  },
  {
   "cell_type": "code",
   "execution_count": 137,
   "outputs": [
    {
     "name": "stderr",
     "output_type": "stream",
     "text": [
      "2021-06-30 17:35:57 WARNING  0\n"
     ]
    },
    {
     "ename": "IndexError",
     "evalue": "index 0 is out of bounds for axis 0 with size 0",
     "output_type": "error",
     "traceback": [
      "\u001B[0;31m---------------------------------------------------------------------------\u001B[0m",
      "\u001B[0;31mIndexError\u001B[0m                                Traceback (most recent call last)",
      "\u001B[0;32m<ipython-input-137-9659e37c1a0c>\u001B[0m in \u001B[0;36m<module>\u001B[0;34m\u001B[0m\n\u001B[0;32m----> 1\u001B[0;31m \u001B[0mx\u001B[0m\u001B[0;34m,\u001B[0m \u001B[0mxp\u001B[0m\u001B[0;34m,\u001B[0m \u001B[0mtraces\u001B[0m\u001B[0;34m,\u001B[0m \u001B[0mroutes\u001B[0m \u001B[0;34m=\u001B[0m \u001B[0mplot_evrptwv2g\u001B[0m\u001B[0;34m(\u001B[0m\u001B[0mm\u001B[0m\u001B[0;34m,\u001B[0m \u001B[0msave\u001B[0m\u001B[0;34m=\u001B[0m\u001B[0;32mFalse\u001B[0m\u001B[0;34m)\u001B[0m\u001B[0;34m\u001B[0m\u001B[0;34m\u001B[0m\u001B[0m\n\u001B[0m\u001B[1;32m      2\u001B[0m \u001B[0;34m\u001B[0m\u001B[0m\n",
      "\u001B[0;32m~/PycharmProjects/e-vrp/evrp/utils/plot.py\u001B[0m in \u001B[0;36mplot_evrptwv2g\u001B[0;34m(m, **kwargs)\u001B[0m\n\u001B[1;32m    254\u001B[0m     \u001B[0;31m# Plot power\u001B[0m\u001B[0;34m\u001B[0m\u001B[0;34m\u001B[0m\u001B[0;34m\u001B[0m\u001B[0m\n\u001B[1;32m    255\u001B[0m     \u001B[0mlogging\u001B[0m\u001B[0;34m.\u001B[0m\u001B[0mwarning\u001B[0m\u001B[0;34m(\u001B[0m\u001B[0mns\u001B[0m\u001B[0;34m)\u001B[0m\u001B[0;34m\u001B[0m\u001B[0;34m\u001B[0m\u001B[0m\n\u001B[0;32m--> 256\u001B[0;31m     \u001B[0ms\u001B[0m \u001B[0;34m=\u001B[0m \u001B[0mstations\u001B[0m\u001B[0;34m[\u001B[0m\u001B[0;36m0\u001B[0m\u001B[0;34m]\u001B[0m\u001B[0;34m\u001B[0m\u001B[0;34m\u001B[0m\u001B[0m\n\u001B[0m\u001B[1;32m    257\u001B[0m     \u001B[0mbott\u001B[0m \u001B[0;34m=\u001B[0m \u001B[0mpd\u001B[0m\u001B[0;34m.\u001B[0m\u001B[0mDataFrame\u001B[0m\u001B[0;34m(\u001B[0m\u001B[0mindex\u001B[0m\u001B[0;34m=\u001B[0m\u001B[0mtime\u001B[0m\u001B[0;34m)\u001B[0m\u001B[0;34m\u001B[0m\u001B[0;34m\u001B[0m\u001B[0m\n\u001B[1;32m    258\u001B[0m     \u001B[0mbott\u001B[0m\u001B[0;34m[\u001B[0m\u001B[0;34m'xp'\u001B[0m\u001B[0;34m]\u001B[0m \u001B[0;34m=\u001B[0m \u001B[0;36m0\u001B[0m\u001B[0;34m\u001B[0m\u001B[0;34m\u001B[0m\u001B[0m\n",
      "\u001B[0;31mIndexError\u001B[0m: index 0 is out of bounds for axis 0 with size 0"
     ]
    },
    {
     "data": {
      "text/plain": "<Figure size 720x1440 with 7 Axes>",
      "image/png": "[encoded data removed]"
     },
     "metadata": {},
     "output_type": "display_data"
    }
   ],
   "source": [
    "x, xp, traces, routes = plot_evrptwv2g(m, save=False)"
   ],
   "metadata": {
    "collapsed": false,
    "pycharm": {
     "name": "#%%\n"
    }
   }
  },
  {
   "cell_type": "code",
   "execution_count": 83,
   "outputs": [
    {
     "data": {
      "text/plain": "                     xp        xc   xg\n(S0_0, 232)    0.288184  0.288184  0.0\n(S0_0, 236)    0.288184  0.288184  0.0\n(S0_0, 240)    0.288184  0.288184  0.0\n(S0_0, 244)    0.288184  0.288184  0.0\n(S0_0, 248)    0.288184  0.288184  0.0\n(S0_0, 252)    0.288184  0.288184  0.0\n(S0_0, 256)    0.288184  0.288184  0.0\n(S0_0, 260)    0.288184  0.288184  0.0\n(S0_0, 264)    0.288184  0.288184  0.0\n(S0_0, 268)    0.288184  0.288184  0.0\n(S0_0, 272)    0.288184  0.288184  0.0\n(S0_0, 276)    0.288184  0.288184  0.0\n(S0_0, 280)    0.288184  0.288184  0.0\n(S0_0, 284)    0.288184  0.288184  0.0\n(S0_0, 288)    0.288184  0.288184  0.0\n(S0_0, 292)    0.288184  0.288184  0.0\n(S0_0, 296)    0.288184  0.288184  0.0\n(S0_0, 300)    0.288184  0.288184  0.0\n(S0_0, 304)    0.288184  0.288184  0.0\n(S0_0, 308)    0.288184  0.288184  0.0\n(S0_0, 312)    0.288184  0.288184  0.0\n(S0_0, 316)    0.288184  0.288184  0.0\n(S0_0, 320)    0.288184  0.288184  0.0\n(S0_0, 324)    0.288184  0.288184  0.0\n(S0_0, 328)    0.288184  0.288184  0.0\n(S0_0, 332)    0.288184  0.288184  0.0\n(S0_0, 336)    0.288184  0.288184  0.0\n(S0_0, 340)    0.288184  0.288184  0.0\n(S0_0, 344)    0.288184  0.288184  0.0\n(S0_0, 348)    0.288184  0.288184  0.0\n(S0_0, 352)    0.288184  0.288184  0.0\n(S0_0, 356)    0.288184  0.288184  0.0\n(S0_0, 360)    0.288184  0.288184  0.0\n(S0_0, 364)    0.288184  0.288184  0.0\n(S0_0, 368)    0.288184  0.288184  0.0\n(S0_0, 372)    0.288184  0.288184  0.0\n(S0_0, 376)    0.288184  0.288184  0.0\n(S0_0, 380)    0.288184  0.288184  0.0\n(S0_0, 384)    0.288184  0.288184  0.0\n(S0_0, 388)    0.288184  0.288184  0.0\n(S0_0, 392)    0.288184  0.288184  0.0\n(S0_0, 396)    0.288184  0.288184  0.0\n(S0_0, 400)    0.288184  0.288184  0.0\n(S0_0, 404)    0.288184  0.288184  0.0\n(S0_0, 408)    0.288184  0.288184  0.0\n(S0_0, 412)    0.288184  0.288184  0.0\n(S0_0, 428)    0.288184  0.288184  0.0\n(S0_0, 440)    0.288184  0.288184  0.0\n(S0_0, 464)    0.288184  0.288184  0.0\n(S0_0, 476)    0.288184  0.288184  0.0\n(S0_0, 508)    0.288184  0.288184  0.0\n(S0_0, 564)    0.288184  0.288184  0.0\n(S0_0, 592)    0.288184  0.288184  0.0\n(S0_0, 732)    0.288184  0.288184  0.0\n(S0_0, 736)    0.288184  0.288184  0.0\n(S0_0, 748)    0.288184  0.288184  0.0\n(S0_0, 768)    0.288184  0.288184  0.0\n(S15_0, 996)   0.288184  0.288184  0.0\n(S15_0, 1024)  0.288184  0.288184  0.0",
      "text/html": "<div>\n<style scoped>\n    .dataframe tbody tr th:only-of-type {\n        vertical-align: middle;\n    }\n\n    .dataframe tbody tr th {\n        vertical-align: top;\n    }\n\n    .dataframe thead th {\n        text-align: right;\n    }\n</style>\n<table border=\"1\" class=\"dataframe\">\n  <thead>\n    <tr style=\"text-align: right;\">\n      <th></th>\n      <th>xp</th>\n      <th>xc</th>\n      <th>xg</th>\n    </tr>\n  </thead>\n  <tbody>\n    <tr>\n      <th>(S0_0, 232)</th>\n      <td>0.288184</td>\n      <td>0.288184</td>\n      <td>0.0</td>\n    </tr>\n    <tr>\n      <th>(S0_0, 236)</th>\n      <td>0.288184</td>\n      <td>0.288184</td>\n      <td>0.0</td>\n    </tr>\n    <tr>\n      <th>(S0_0, 240)</th>\n      <td>0.288184</td>\n      <td>0.288184</td>\n      <td>0.0</td>\n    </tr>\n    <tr>\n      <th>(S0_0, 244)</th>\n      <td>0.288184</td>\n      <td>0.288184</td>\n      <td>0.0</td>\n    </tr>\n    <tr>\n      <th>(S0_0, 248)</th>\n      <td>0.288184</td>\n      <td>0.288184</td>\n      <td>0.0</td>\n    </tr>\n    <tr>\n      <th>(S0_0, 252)</th>\n      <td>0.288184</td>\n      <td>0.288184</td>\n      <td>0.0</td>\n    </tr>\n    <tr>\n      <th>(S0_0, 256)</th>\n      <td>0.288184</td>\n      <td>0.288184</td>\n      <td>0.0</td>\n    </tr>\n    <tr>\n      <th>(S0_0, 260)</th>\n      <td>0.288184</td>\n      <td>0.288184</td>\n      <td>0.0</td>\n    </tr>\n    <tr>\n      <th>(S0_0, 264)</th>\n      <td>0.288184</td>\n      <td>0.288184</td>\n      <td>0.0</td>\n    </tr>\n    <tr>\n      <th>(S0_0, 268)</th>\n      <td>0.288184</td>\n      <td>0.288184</td>\n      <td>0.0</td>\n    </tr>\n    <tr>\n      <th>(S0_0, 272)</th>\n      <td>0.288184</td>\n      <td>0.288184</td>\n      <td>0.0</td>\n    </tr>\n    <tr>\n      <th>(S0_0, 276)</th>\n      <td>0.288184</td>\n      <td>0.288184</td>\n      <td>0.0</td>\n    </tr>\n    <tr>\n      <th>(S0_0, 280)</th>\n      <td>0.288184</td>\n      <td>0.288184</td>\n      <td>0.0</td>\n    </tr>\n    <tr>\n      <th>(S0_0, 284)</th>\n      <td>0.288184</td>\n      <td>0.288184</td>\n      <td>0.0</td>\n    </tr>\n    <tr>\n      <th>(S0_0, 288)</th>\n      <td>0.288184</td>\n      <td>0.288184</td>\n      <td>0.0</td>\n    </tr>\n    <tr>\n      <th>(S0_0, 292)</th>\n      <td>0.288184</td>\n      <td>0.288184</td>\n      <td>0.0</td>\n    </tr>\n    <tr>\n      <th>(S0_0, 296)</th>\n      <td>0.288184</td>\n      <td>0.288184</td>\n      <td>0.0</td>\n    </tr>\n    <tr>\n      <th>(S0_0, 300)</th>\n      <td>0.288184</td>\n      <td>0.288184</td>\n      <td>0.0</td>\n    </tr>\n    <tr>\n      <th>(S0_0, 304)</th>\n      <td>0.288184</td>\n      <td>0.288184</td>\n      <td>0.0</td>\n    </tr>\n    <tr>\n      <th>(S0_0, 308)</th>\n      <td>0.288184</td>\n      <td>0.288184</td>\n      <td>0.0</td>\n    </tr>\n    <tr>\n      <th>(S0_0, 312)</th>\n      <td>0.288184</td>\n      <td>0.288184</td>\n      <td>0.0</td>\n    </tr>\n    <tr>\n      <th>(S0_0, 316)</th>\n      <td>0.288184</td>\n      <td>0.288184</td>\n      <td>0.0</td>\n    </tr>\n    <tr>\n      <th>(S0_0, 320)</th>\n      <td>0.288184</td>\n      <td>0.288184</td>\n      <td>0.0</td>\n    </tr>\n    <tr>\n      <th>(S0_0, 324)</th>\n      <td>0.288184</td>\n      <td>0.288184</td>\n      <td>0.0</td>\n    </tr>\n    <tr>\n      <th>(S0_0, 328)</th>\n      <td>0.288184</td>\n      <td>0.288184</td>\n      <td>0.0</td>\n    </tr>\n    <tr>\n      <th>(S0_0, 332)</th>\n      <td>0.288184</td>\n      <td>0.288184</td>\n      <td>0.0</td>\n    </tr>\n    <tr>\n      <th>(S0_0, 336)</th>\n      <td>0.288184</td>\n      <td>0.288184</td>\n      <td>0.0</td>\n    </tr>\n    <tr>\n      <th>(S0_0, 340)</th>\n      <td>0.288184</td>\n      <td>0.288184</td>\n      <td>0.0</td>\n    </tr>\n    <tr>\n      <th>(S0_0, 344)</th>\n      <td>0.288184</td>\n      <td>0.288184</td>\n      <td>0.0</td>\n    </tr>\n    <tr>\n      <th>(S0_0, 348)</th>\n      <td>0.288184</td>\n      <td>0.288184</td>\n      <td>0.0</td>\n    </tr>\n    <tr>\n      <th>(S0_0, 352)</th>\n      <td>0.288184</td>\n      <td>0.288184</td>\n      <td>0.0</td>\n    </tr>\n    <tr>\n      <th>(S0_0, 356)</th>\n      <td>0.288184</td>\n      <td>0.288184</td>\n      <td>0.0</td>\n    </tr>\n    <tr>\n      <th>(S0_0, 360)</th>\n      <td>0.288184</td>\n      <td>0.288184</td>\n      <td>0.0</td>\n    </tr>\n    <tr>\n      <th>(S0_0, 364)</th>\n      <td>0.288184</td>\n      <td>0.288184</td>\n      <td>0.0</td>\n    </tr>\n    <tr>\n      <th>(S0_0, 368)</th>\n      <td>0.288184</td>\n      <td>0.288184</td>\n      <td>0.0</td>\n    </tr>\n    <tr>\n      <th>(S0_0, 372)</th>\n      <td>0.288184</td>\n      <td>0.288184</td>\n      <td>0.0</td>\n    </tr>\n    <tr>\n      <th>(S0_0, 376)</th>\n      <td>0.288184</td>\n      <td>0.288184</td>\n      <td>0.0</td>\n    </tr>\n    <tr>\n      <th>(S0_0, 380)</th>\n      <td>0.288184</td>\n      <td>0.288184</td>\n      <td>0.0</td>\n    </tr>\n    <tr>\n      <th>(S0_0, 384)</th>\n      <td>0.288184</td>\n      <td>0.288184</td>\n      <td>0.0</td>\n    </tr>\n    <tr>\n      <th>(S0_0, 388)</th>\n      <td>0.288184</td>\n      <td>0.288184</td>\n      <td>0.0</td>\n    </tr>\n    <tr>\n      <th>(S0_0, 392)</th>\n      <td>0.288184</td>\n      <td>0.288184</td>\n      <td>0.0</td>\n    </tr>\n    <tr>\n      <th>(S0_0, 396)</th>\n      <td>0.288184</td>\n      <td>0.288184</td>\n      <td>0.0</td>\n    </tr>\n    <tr>\n      <th>(S0_0, 400)</th>\n      <td>0.288184</td>\n      <td>0.288184</td>\n      <td>0.0</td>\n    </tr>\n    <tr>\n      <th>(S0_0, 404)</th>\n      <td>0.288184</td>\n      <td>0.288184</td>\n      <td>0.0</td>\n    </tr>\n    <tr>\n      <th>(S0_0, 408)</th>\n      <td>0.288184</td>\n      <td>0.288184</td>\n      <td>0.0</td>\n    </tr>\n    <tr>\n      <th>(S0_0, 412)</th>\n      <td>0.288184</td>\n      <td>0.288184</td>\n      <td>0.0</td>\n    </tr>\n    <tr>\n      <th>(S0_0, 428)</th>\n      <td>0.288184</td>\n      <td>0.288184</td>\n      <td>0.0</td>\n    </tr>\n    <tr>\n      <th>(S0_0, 440)</th>\n      <td>0.288184</td>\n      <td>0.288184</td>\n      <td>0.0</td>\n    </tr>\n    <tr>\n      <th>(S0_0, 464)</th>\n      <td>0.288184</td>\n      <td>0.288184</td>\n      <td>0.0</td>\n    </tr>\n    <tr>\n      <th>(S0_0, 476)</th>\n      <td>0.288184</td>\n      <td>0.288184</td>\n      <td>0.0</td>\n    </tr>\n    <tr>\n      <th>(S0_0, 508)</th>\n      <td>0.288184</td>\n      <td>0.288184</td>\n      <td>0.0</td>\n    </tr>\n    <tr>\n      <th>(S0_0, 564)</th>\n      <td>0.288184</td>\n      <td>0.288184</td>\n      <td>0.0</td>\n    </tr>\n    <tr>\n      <th>(S0_0, 592)</th>\n      <td>0.288184</td>\n      <td>0.288184</td>\n      <td>0.0</td>\n    </tr>\n    <tr>\n      <th>(S0_0, 732)</th>\n      <td>0.288184</td>\n      <td>0.288184</td>\n      <td>0.0</td>\n    </tr>\n    <tr>\n      <th>(S0_0, 736)</th>\n      <td>0.288184</td>\n      <td>0.288184</td>\n      <td>0.0</td>\n    </tr>\n    <tr>\n      <th>(S0_0, 748)</th>\n      <td>0.288184</td>\n      <td>0.288184</td>\n      <td>0.0</td>\n    </tr>\n    <tr>\n      <th>(S0_0, 768)</th>\n      <td>0.288184</td>\n      <td>0.288184</td>\n      <td>0.0</td>\n    </tr>\n    <tr>\n      <th>(S15_0, 996)</th>\n      <td>0.288184</td>\n      <td>0.288184</td>\n      <td>0.0</td>\n    </tr>\n    <tr>\n      <th>(S15_0, 1024)</th>\n      <td>0.288184</td>\n      <td>0.288184</td>\n      <td>0.0</td>\n    </tr>\n  </tbody>\n</table>\n</div>"
     },
     "execution_count": 83,
     "metadata": {},
     "output_type": "execute_result"
    }
   ],
   "source": [
    "dfs = []\n",
    "for k, v in {'xp': m.instance.xp, 'xc': m.instance.xc, 'xg': m.instance.xg}.items():\n",
    "    dfs.append(pd.DataFrame.from_dict(data=v.get_values(), orient='index', columns=[k]))\n",
    "df = pd.concat(dfs, axis=1)\n",
    "df[(df>0).any(axis=1)]"
   ],
   "metadata": {
    "collapsed": false,
    "pycharm": {
     "name": "#%%\n"
    }
   }
  },
  {
   "cell_type": "code",
   "execution_count": 84,
   "outputs": [
    {
     "data": {
      "text/plain": "             state           xw     xq         xa\nfrom  to                                         \nD0    C98      1.0     0.000000  200.0  77.750000\n      D0       NaN     0.000000  200.0  77.750000\nC98   C65      1.0   126.400549  180.0  41.349451\nC65   S0_0     1.0   229.206798   60.0  28.543202\nS0_0  C20      1.0   782.000000   60.0  77.678649\nC20   C24      1.0   877.000000   50.0  72.678649\nC24   S15_0    1.0   994.784888   40.0  44.893761\nS15_0 C57      1.0  1039.045361   40.0  35.923328\nC57   D1       1.0  1236.000000    0.0   0.000000",
      "text/html": "<div>\n<style scoped>\n    .dataframe tbody tr th:only-of-type {\n        vertical-align: middle;\n    }\n\n    .dataframe tbody tr th {\n        vertical-align: top;\n    }\n\n    .dataframe thead th {\n        text-align: right;\n    }\n</style>\n<table border=\"1\" class=\"dataframe\">\n  <thead>\n    <tr style=\"text-align: right;\">\n      <th></th>\n      <th></th>\n      <th>state</th>\n      <th>xw</th>\n      <th>xq</th>\n      <th>xa</th>\n    </tr>\n    <tr>\n      <th>from</th>\n      <th>to</th>\n      <th></th>\n      <th></th>\n      <th></th>\n      <th></th>\n    </tr>\n  </thead>\n  <tbody>\n    <tr>\n      <th rowspan=\"2\" valign=\"top\">D0</th>\n      <th>C98</th>\n      <td>1.0</td>\n      <td>0.000000</td>\n      <td>200.0</td>\n      <td>77.750000</td>\n    </tr>\n    <tr>\n      <th>D0</th>\n      <td>NaN</td>\n      <td>0.000000</td>\n      <td>200.0</td>\n      <td>77.750000</td>\n    </tr>\n    <tr>\n      <th>C98</th>\n      <th>C65</th>\n      <td>1.0</td>\n      <td>126.400549</td>\n      <td>180.0</td>\n      <td>41.349451</td>\n    </tr>\n    <tr>\n      <th>C65</th>\n      <th>S0_0</th>\n      <td>1.0</td>\n      <td>229.206798</td>\n      <td>60.0</td>\n      <td>28.543202</td>\n    </tr>\n    <tr>\n      <th>S0_0</th>\n      <th>C20</th>\n      <td>1.0</td>\n      <td>782.000000</td>\n      <td>60.0</td>\n      <td>77.678649</td>\n    </tr>\n    <tr>\n      <th>C20</th>\n      <th>C24</th>\n      <td>1.0</td>\n      <td>877.000000</td>\n      <td>50.0</td>\n      <td>72.678649</td>\n    </tr>\n    <tr>\n      <th>C24</th>\n      <th>S15_0</th>\n      <td>1.0</td>\n      <td>994.784888</td>\n      <td>40.0</td>\n      <td>44.893761</td>\n    </tr>\n    <tr>\n      <th>S15_0</th>\n      <th>C57</th>\n      <td>1.0</td>\n      <td>1039.045361</td>\n      <td>40.0</td>\n      <td>35.923328</td>\n    </tr>\n    <tr>\n      <th>C57</th>\n      <th>D1</th>\n      <td>1.0</td>\n      <td>1236.000000</td>\n      <td>0.0</td>\n      <td>0.000000</td>\n    </tr>\n  </tbody>\n</table>\n</div>"
     },
     "execution_count": 84,
     "metadata": {},
     "output_type": "execute_result"
    }
   ],
   "source": [
    "routes"
   ],
   "metadata": {
    "collapsed": false,
    "pycharm": {
     "name": "#%%\n"
    }
   }
  },
  {
   "cell_type": "code",
   "execution_count": 21,
   "outputs": [
    {
     "data": {
      "text/plain": "[('D0', 'S1_0', 'M1', 'M2', 'S2_0', 'S0_1', 'D1'),\n ('D0', 'S3_0', 'M3', 'S6_0', 'M6', 'S5_0', 'M5', 'M4', 'S0_0', 'D1')]"
     },
     "execution_count": 21,
     "metadata": {},
     "output_type": "execute_result"
    }
   ],
   "source": [
    "trace_routes(m)"
   ],
   "metadata": {
    "collapsed": false,
    "pycharm": {
     "name": "#%%\n"
    }
   }
  },
  {
   "cell_type": "code",
   "execution_count": 79,
   "outputs": [
    {
     "data": {
      "text/plain": "              D0         D1       S0_0       S0_1      S15_0      S15_1  \\\nD0      0.000000   0.000000   0.000000   0.000000  24.020824  24.020824   \nD1      0.000000   0.000000   0.000000   0.000000  24.020824  24.020824   \nS0_0    0.000000   0.000000   0.000000   0.000000  24.020824  24.020824   \nS0_1    0.000000   0.000000   0.000000   0.000000  24.020824  24.020824   \nS15_0  24.020824  24.020824  24.020824  24.020824   0.000000   0.000000   \nS15_1  24.020824  24.020824  24.020824  24.020824   0.000000   0.000000   \nC20    10.000000  10.000000  10.000000  10.000000  25.632011  25.632011   \nC98    30.805844  30.805844  30.805844  30.805844  52.554733  52.554733   \nC65    12.806248  12.806248  12.806248  12.806248  16.643317  16.643317   \nC57    35.000000  35.000000  35.000000  35.000000  11.045361  11.045361   \nC24    15.000000  15.000000  15.000000  15.000000  27.784888  27.784888   \n\n             C20        C98        C65        C57        C24  \nD0     10.000000  30.805844  12.806248  35.000000  15.000000  \nD1     10.000000  30.805844  12.806248  35.000000  15.000000  \nS0_0   10.000000  30.805844  12.806248  35.000000  15.000000  \nS0_1   10.000000  30.805844  12.806248  35.000000  15.000000  \nS15_0  25.632011  52.554733  16.643317  11.045361  27.784888  \nS15_1  25.632011  52.554733  16.643317  11.045361  27.784888  \nC20     0.000000  37.536649  20.591260  36.400549   5.000000  \nC98    37.536649   0.000000  36.400549  62.641839  41.400483  \nC65    20.591260  36.400549   0.000000  26.248809  25.079872  \nC57    36.400549  62.641839  26.248809   0.000000  38.078866  \nC24     5.000000  41.400483  25.079872  38.078866   0.000000  ",
      "text/html": "<div>\n<style scoped>\n    .dataframe tbody tr th:only-of-type {\n        vertical-align: middle;\n    }\n\n    .dataframe tbody tr th {\n        vertical-align: top;\n    }\n\n    .dataframe thead th {\n        text-align: right;\n    }\n</style>\n<table border=\"1\" class=\"dataframe\">\n  <thead>\n    <tr style=\"text-align: right;\">\n      <th></th>\n      <th>D0</th>\n      <th>D1</th>\n      <th>S0_0</th>\n      <th>S0_1</th>\n      <th>S15_0</th>\n      <th>S15_1</th>\n      <th>C20</th>\n      <th>C98</th>\n      <th>C65</th>\n      <th>C57</th>\n      <th>C24</th>\n    </tr>\n  </thead>\n  <tbody>\n    <tr>\n      <th>D0</th>\n      <td>0.000000</td>\n      <td>0.000000</td>\n      <td>0.000000</td>\n      <td>0.000000</td>\n      <td>24.020824</td>\n      <td>24.020824</td>\n      <td>10.000000</td>\n      <td>30.805844</td>\n      <td>12.806248</td>\n      <td>35.000000</td>\n      <td>15.000000</td>\n    </tr>\n    <tr>\n      <th>D1</th>\n      <td>0.000000</td>\n      <td>0.000000</td>\n      <td>0.000000</td>\n      <td>0.000000</td>\n      <td>24.020824</td>\n      <td>24.020824</td>\n      <td>10.000000</td>\n      <td>30.805844</td>\n      <td>12.806248</td>\n      <td>35.000000</td>\n      <td>15.000000</td>\n    </tr>\n    <tr>\n      <th>S0_0</th>\n      <td>0.000000</td>\n      <td>0.000000</td>\n      <td>0.000000</td>\n      <td>0.000000</td>\n      <td>24.020824</td>\n      <td>24.020824</td>\n      <td>10.000000</td>\n      <td>30.805844</td>\n      <td>12.806248</td>\n      <td>35.000000</td>\n      <td>15.000000</td>\n    </tr>\n    <tr>\n      <th>S0_1</th>\n      <td>0.000000</td>\n      <td>0.000000</td>\n      <td>0.000000</td>\n      <td>0.000000</td>\n      <td>24.020824</td>\n      <td>24.020824</td>\n      <td>10.000000</td>\n      <td>30.805844</td>\n      <td>12.806248</td>\n      <td>35.000000</td>\n      <td>15.000000</td>\n    </tr>\n    <tr>\n      <th>S15_0</th>\n      <td>24.020824</td>\n      <td>24.020824</td>\n      <td>24.020824</td>\n      <td>24.020824</td>\n      <td>0.000000</td>\n      <td>0.000000</td>\n      <td>25.632011</td>\n      <td>52.554733</td>\n      <td>16.643317</td>\n      <td>11.045361</td>\n      <td>27.784888</td>\n    </tr>\n    <tr>\n      <th>S15_1</th>\n      <td>24.020824</td>\n      <td>24.020824</td>\n      <td>24.020824</td>\n      <td>24.020824</td>\n      <td>0.000000</td>\n      <td>0.000000</td>\n      <td>25.632011</td>\n      <td>52.554733</td>\n      <td>16.643317</td>\n      <td>11.045361</td>\n      <td>27.784888</td>\n    </tr>\n    <tr>\n      <th>C20</th>\n      <td>10.000000</td>\n      <td>10.000000</td>\n      <td>10.000000</td>\n      <td>10.000000</td>\n      <td>25.632011</td>\n      <td>25.632011</td>\n      <td>0.000000</td>\n      <td>37.536649</td>\n      <td>20.591260</td>\n      <td>36.400549</td>\n      <td>5.000000</td>\n    </tr>\n    <tr>\n      <th>C98</th>\n      <td>30.805844</td>\n      <td>30.805844</td>\n      <td>30.805844</td>\n      <td>30.805844</td>\n      <td>52.554733</td>\n      <td>52.554733</td>\n      <td>37.536649</td>\n      <td>0.000000</td>\n      <td>36.400549</td>\n      <td>62.641839</td>\n      <td>41.400483</td>\n    </tr>\n    <tr>\n      <th>C65</th>\n      <td>12.806248</td>\n      <td>12.806248</td>\n      <td>12.806248</td>\n      <td>12.806248</td>\n      <td>16.643317</td>\n      <td>16.643317</td>\n      <td>20.591260</td>\n      <td>36.400549</td>\n      <td>0.000000</td>\n      <td>26.248809</td>\n      <td>25.079872</td>\n    </tr>\n    <tr>\n      <th>C57</th>\n      <td>35.000000</td>\n      <td>35.000000</td>\n      <td>35.000000</td>\n      <td>35.000000</td>\n      <td>11.045361</td>\n      <td>11.045361</td>\n      <td>36.400549</td>\n      <td>62.641839</td>\n      <td>26.248809</td>\n      <td>0.000000</td>\n      <td>38.078866</td>\n    </tr>\n    <tr>\n      <th>C24</th>\n      <td>15.000000</td>\n      <td>15.000000</td>\n      <td>15.000000</td>\n      <td>15.000000</td>\n      <td>27.784888</td>\n      <td>27.784888</td>\n      <td>5.000000</td>\n      <td>41.400483</td>\n      <td>25.079872</td>\n      <td>38.078866</td>\n      <td>0.000000</td>\n    </tr>\n  </tbody>\n</table>\n</div>"
     },
     "execution_count": 79,
     "metadata": {},
     "output_type": "execute_result"
    }
   ],
   "source": [
    "m.data['d']"
   ],
   "metadata": {
    "collapsed": false,
    "pycharm": {
     "name": "#%%\n"
    }
   }
  },
  {
   "cell_type": "markdown",
   "source": [
    "# Archive, fix route, modify objective, and warmstart solve"
   ],
   "metadata": {
    "collapsed": false
   }
  },
  {
   "cell_type": "code",
   "execution_count": null,
   "outputs": [],
   "source": [
    "m.archive_instance_result()"
   ],
   "metadata": {
    "collapsed": false,
    "pycharm": {
     "name": "#%%\n"
    }
   }
  },
  {
   "cell_type": "code",
   "execution_count": null,
   "outputs": [],
   "source": [
    "m.fix_variables(['xgamma'])"
   ],
   "metadata": {
    "collapsed": false,
    "pycharm": {
     "name": "#%%\n"
    }
   }
  },
  {
   "cell_type": "code",
   "execution_count": null,
   "outputs": [],
   "source": [
    "m.remake_objective(m.instance, 'Opex Capex EA DCM cycle')"
   ],
   "metadata": {
    "collapsed": false,
    "pycharm": {
     "name": "#%%\n"
    }
   }
  },
  {
   "cell_type": "code",
   "execution_count": null,
   "outputs": [],
   "source": [
    "m.warmstart_solve()"
   ],
   "metadata": {
    "collapsed": false,
    "pycharm": {
     "name": "#%%\n"
    }
   }
  },
  {
   "cell_type": "code",
   "execution_count": null,
   "outputs": [],
   "source": [
    "print(m.results)"
   ],
   "metadata": {
    "collapsed": false,
    "pycharm": {
     "name": "#%%\n"
    }
   }
  },
  {
   "cell_type": "code",
   "execution_count": null,
   "outputs": [],
   "source": [
    "x, xp, traces, routes = plot_evrptwv2g(m)"
   ],
   "metadata": {
    "collapsed": false,
    "pycharm": {
     "name": "#%%\n"
    }
   }
  },
  {
   "cell_type": "markdown",
   "source": [
    "# Archive, rebuild model to modify constraints, fix route, warmstart solve"
   ],
   "metadata": {
    "collapsed": false
   }
  },
  {
   "cell_type": "code",
   "execution_count": null,
   "outputs": [],
   "source": [
    "m.archive_instance_result()"
   ],
   "metadata": {
    "collapsed": false,
    "pycharm": {
     "name": "#%%\n"
    }
   }
  },
  {
   "cell_type": "code",
   "execution_count": null,
   "outputs": [],
   "source": [
    "m.instance_archive"
   ],
   "metadata": {
    "collapsed": false,
    "pycharm": {
     "name": "#%%\n"
    }
   }
  },
  {
   "cell_type": "code",
   "execution_count": null,
   "outputs": [],
   "source": [
    "m.remake_model('Opex Capex EA DCM cycle wsplitxgamma', fpath)"
   ],
   "metadata": {
    "collapsed": false,
    "pycharm": {
     "name": "#%%\n"
    }
   }
  },
  {
   "cell_type": "code",
   "execution_count": null,
   "outputs": [],
   "source": [
    "m.set_xgamma('Opex Capex EA DCM cycle')"
   ],
   "metadata": {
    "collapsed": false,
    "pycharm": {
     "name": "#%%\n"
    }
   }
  },
  {
   "cell_type": "code",
   "execution_count": null,
   "outputs": [],
   "source": [
    "m.fix_variables(['xgamma'])"
   ],
   "metadata": {
    "collapsed": false,
    "pycharm": {
     "name": "#%%\n"
    }
   }
  },
  {
   "cell_type": "code",
   "execution_count": null,
   "outputs": [],
   "source": [
    "m.make_solver(solve_options={'TimeLimit': 60 * 5})"
   ],
   "metadata": {
    "collapsed": false,
    "pycharm": {
     "name": "#%%\n"
    }
   }
  },
  {
   "cell_type": "code",
   "execution_count": null,
   "outputs": [],
   "source": [
    "m.warmstart_solve()"
   ],
   "metadata": {
    "collapsed": false,
    "pycharm": {
     "name": "#%%\n"
    }
   }
  },
  {
   "cell_type": "code",
   "execution_count": null,
   "outputs": [],
   "source": [
    "x, xp, traces, routes = plot_evrptwv2g(m)"
   ],
   "metadata": {
    "collapsed": false,
    "pycharm": {
     "name": "#%%\n"
    }
   }
  },
  {
   "cell_type": "code",
   "execution_count": null,
   "outputs": [],
   "source": [
    "routes"
   ],
   "metadata": {
    "collapsed": false,
    "pycharm": {
     "name": "#%%\n"
    }
   }
  },
  {
   "cell_type": "markdown",
   "source": [
    "# Check infeasible constraints"
   ],
   "metadata": {
    "collapsed": false
   }
  },
  {
   "cell_type": "code",
   "execution_count": null,
   "outputs": [],
   "source": [
    "from pyomo.util.infeasible import log_infeasible_constraints"
   ],
   "metadata": {
    "collapsed": false,
    "pycharm": {
     "name": "#%%\n"
    }
   }
  },
  {
   "cell_type": "code",
   "execution_count": null,
   "outputs": [],
   "source": [
    "log_infeasible_constraints(m.instance)"
   ],
   "metadata": {
    "collapsed": false,
    "pycharm": {
     "name": "#%%\n"
    }
   }
  },
  {
   "cell_type": "code",
   "execution_count": null,
   "outputs": [],
   "source": [],
   "metadata": {
    "collapsed": false,
    "pycharm": {
     "name": "#%%\n"
    }
   }
  }
 ],
 "metadata": {
  "kernelspec": {
   "display_name": "Python 3",
   "language": "python",
   "name": "python3"
  },
  "language_info": {
   "codemirror_mode": {
    "name": "ipython",
    "version": 3
   },
   "file_extension": ".py",
   "mimetype": "text/x-python",
   "name": "python",
   "nbconvert_exporter": "python",
   "pygments_lexer": "ipython3",
   "version": "3.6.10"
  }
 },
 "nbformat": 4,
 "nbformat_minor": 1
}