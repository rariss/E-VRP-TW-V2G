{
 "cells": [
  {
   "cell_type": "code",
   "execution_count": 1,
   "metadata": {
    "pycharm": {
     "name": "#%%\n"
    }
   },
   "outputs": [],
   "source": [
    "import sys\n",
    "sys.path.append(\"../\") # go to parent dir\n",
    "\n",
    "%load_ext autoreload\n",
    "%autoreload 2"
   ]
  },
  {
   "cell_type": "code",
   "execution_count": 2,
   "metadata": {
    "pycharm": {
     "name": "#%%\n"
    }
   },
   "outputs": [],
   "source": [
    "from evrp.utils.utilities import parse_csv_tables, calculate_distance_matrix, generate_index_mapping, create_plotting_edges, create_flat_distance_matrix, create_coordinate_dict, create_flat_optimal_edges, create_optimal_edges, merge_variable_results\n",
    "from evrp.utils.graph import draw_plain_graph, draw_graph\n",
    "from evrp.utils.plot import plot_interactive_graph\n",
    "from evrp.milp.tsp import TSP\n",
    "from evrp.milp.vrptw import VRPTW\n",
    "from evrp.milp.evrptw import EVRPTW\n",
    "\n",
    "import pandas as pd\n",
    "import numpy as np\n",
    "from scipy.spatial import distance\n",
    "\n",
    "import pprint\n",
    "\n",
    "import plotly.figure_factory as ff\n",
    "from plotly.subplots import make_subplots\n",
    "import plotly.graph_objects as go\n",
    "import plotly.express as px\n",
    "\n",
    "import matplotlib.pyplot as plt\n",
    "import matplotlib.colors as pltc\n",
    "\n",
    "import itertools\n",
    "\n",
    "import networkx as nx\n",
    "\n",
    "from pyomo.environ import *\n",
    "\n",
    "pd.options.plotting.backend = \"plotly\"\n",
    "pp = pprint.PrettyPrinter()"
   ]
  },
  {
   "cell_type": "code",
   "execution_count": 3,
   "metadata": {
    "pycharm": {
     "name": "#%%\n"
    }
   },
   "outputs": [],
   "source": [
    "instance = 'r105C5_e'\n",
    "fpath = 'config/test_instances/' + instance + '.csv'"
   ]
  },
  {
   "cell_type": "code",
   "execution_count": 417,
   "metadata": {},
   "outputs": [
    {
     "name": "stderr",
     "output_type": "stream",
     "text": [
      "2020-12-23 04:25:15 INFO     Building abstract model\n",
      "2020-12-23 04:25:15 INFO     Defining parameters and sets\n",
      "2020-12-23 04:25:15 INFO     Defining variables\n",
      "2020-12-23 04:25:15 INFO     Defining constraints\n",
      "2020-12-23 04:25:15 INFO     Defining objective\n",
      "2020-12-23 04:25:15 INFO     Importing EVRPTW MILP instance: r105C5_e\n",
      "2020-12-23 04:25:15 INFO     Reading CSV\n",
      "2020-12-23 04:25:15 INFO     Creating graph\n",
      "2020-12-23 04:25:15 INFO     Creating timeseries data\n",
      "2020-12-23 04:25:15 INFO     Creating duplicates and extended graph\n",
      "2020-12-23 04:25:15 INFO     Calculating distance matrix\n",
      "2020-12-23 04:25:15 INFO     Creating parameters\n",
      "2020-12-23 04:25:15 INFO     Creating instance\n",
      "2020-12-23 04:25:15 INFO     Solving instance...\n",
      "/Users/ramiariss/anaconda/envs/local_python36_env/bin/gurobi.sh: line 8: /Library/gurobi902/mac64/bin/python3.7: No such file or directory\n",
      "2020-12-23 04:25:15 ERROR    Solver (gurobi) returned non-zero return code (127)\n",
      "2020-12-23 04:25:15 ERROR    See the solver log above for diagnostic information.\n"
     ]
    },
    {
     "name": "stdout",
     "output_type": "stream",
     "text": [
      "ERROR: Solver (gurobi) returned non-zero return code (127)\n",
      "ERROR: See the solver log above for diagnostic information.\n"
     ]
    },
    {
     "ename": "ApplicationError",
     "evalue": "Solver (gurobi) did not exit normally",
     "output_type": "error",
     "traceback": [
      "\u001b[0;31m---------------------------------------------------------------------------\u001b[0m",
      "\u001b[0;31mApplicationError\u001b[0m                          Traceback (most recent call last)",
      "\u001b[0;32m<ipython-input-417-f21252ca89f9>\u001b[0m in \u001b[0;36m<module>\u001b[0;34m\u001b[0m\n\u001b[1;32m      1\u001b[0m \u001b[0mm\u001b[0m \u001b[0;34m=\u001b[0m \u001b[0mEVRPTW\u001b[0m\u001b[0;34m(\u001b[0m\u001b[0;34m)\u001b[0m\u001b[0;34m\u001b[0m\u001b[0;34m\u001b[0m\u001b[0m\n\u001b[0;32m----> 2\u001b[0;31m \u001b[0mm\u001b[0m\u001b[0;34m.\u001b[0m\u001b[0msolve\u001b[0m\u001b[0;34m(\u001b[0m\u001b[0mfpath\u001b[0m\u001b[0;34m)\u001b[0m\u001b[0;34m\u001b[0m\u001b[0;34m\u001b[0m\u001b[0m\n\u001b[0m",
      "\u001b[0;32m~/PycharmProjects/e-vrp/evrp/milp/evrptw.py\u001b[0m in \u001b[0;36msolve\u001b[0;34m(self, instance_filepath)\u001b[0m\n\u001b[1;32m    381\u001b[0m         \u001b[0;31m# Solve instance\u001b[0m\u001b[0;34m\u001b[0m\u001b[0;34m\u001b[0m\u001b[0;34m\u001b[0m\u001b[0m\n\u001b[1;32m    382\u001b[0m         \u001b[0mlogging\u001b[0m\u001b[0;34m.\u001b[0m\u001b[0minfo\u001b[0m\u001b[0;34m(\u001b[0m\u001b[0;34m'Solving instance...'\u001b[0m\u001b[0;34m)\u001b[0m\u001b[0;34m\u001b[0m\u001b[0;34m\u001b[0m\u001b[0m\n\u001b[0;32m--> 383\u001b[0;31m         \u001b[0mself\u001b[0m\u001b[0;34m.\u001b[0m\u001b[0mresults\u001b[0m \u001b[0;34m=\u001b[0m \u001b[0mopt\u001b[0m\u001b[0;34m.\u001b[0m\u001b[0msolve\u001b[0m\u001b[0;34m(\u001b[0m\u001b[0mself\u001b[0m\u001b[0;34m.\u001b[0m\u001b[0minstance\u001b[0m\u001b[0;34m,\u001b[0m \u001b[0mtee\u001b[0m\u001b[0;34m=\u001b[0m\u001b[0;32mTrue\u001b[0m\u001b[0;34m,\u001b[0m \u001b[0moptions\u001b[0m\u001b[0;34m=\u001b[0m\u001b[0msolv_options\u001b[0m\u001b[0;34m)\u001b[0m\u001b[0;34m\u001b[0m\u001b[0;34m\u001b[0m\u001b[0m\n\u001b[0m\u001b[1;32m    384\u001b[0m         \u001b[0mlogging\u001b[0m\u001b[0;34m.\u001b[0m\u001b[0minfo\u001b[0m\u001b[0;34m(\u001b[0m\u001b[0;34m'Done'\u001b[0m\u001b[0;34m)\u001b[0m\u001b[0;34m\u001b[0m\u001b[0;34m\u001b[0m\u001b[0m\n",
      "\u001b[0;32m~/anaconda/envs/local_python36_env/lib/python3.6/site-packages/pyomo/opt/base/solvers.py\u001b[0m in \u001b[0;36msolve\u001b[0;34m(self, *args, **kwds)\u001b[0m\n\u001b[1;32m    598\u001b[0m                     \u001b[0mlogger\u001b[0m\u001b[0;34m.\u001b[0m\u001b[0merror\u001b[0m\u001b[0;34m(\u001b[0m\u001b[0;34m\"Solver log:\\n\"\u001b[0m \u001b[0;34m+\u001b[0m \u001b[0mstr\u001b[0m\u001b[0;34m(\u001b[0m\u001b[0m_status\u001b[0m\u001b[0;34m.\u001b[0m\u001b[0mlog\u001b[0m\u001b[0;34m)\u001b[0m\u001b[0;34m)\u001b[0m\u001b[0;34m\u001b[0m\u001b[0;34m\u001b[0m\u001b[0m\n\u001b[1;32m    599\u001b[0m                 raise pyutilib.common.ApplicationError(\n\u001b[0;32m--> 600\u001b[0;31m                     \"Solver (%s) did not exit normally\" % self.name)\n\u001b[0m\u001b[1;32m    601\u001b[0m             \u001b[0msolve_completion_time\u001b[0m \u001b[0;34m=\u001b[0m \u001b[0mtime\u001b[0m\u001b[0;34m.\u001b[0m\u001b[0mtime\u001b[0m\u001b[0;34m(\u001b[0m\u001b[0;34m)\u001b[0m\u001b[0;34m\u001b[0m\u001b[0;34m\u001b[0m\u001b[0m\n\u001b[1;32m    602\u001b[0m             \u001b[0;32mif\u001b[0m \u001b[0mself\u001b[0m\u001b[0;34m.\u001b[0m\u001b[0m_report_timing\u001b[0m\u001b[0;34m:\u001b[0m\u001b[0;34m\u001b[0m\u001b[0;34m\u001b[0m\u001b[0m\n",
      "\u001b[0;31mApplicationError\u001b[0m: Solver (gurobi) did not exit normally"
     ]
    }
   ],
   "source": [
    "m = EVRPTW()\n",
    "m.solve(fpath)"
   ]
  },
  {
   "cell_type": "code",
   "execution_count": 407,
   "metadata": {},
   "outputs": [
    {
     "data": {
      "text/plain": [
       "{'D0': 0,\n",
       " 'D1': 0,\n",
       " 'S0_0': 0,\n",
       " 'S1_0': 0,\n",
       " 'S13_0': 0,\n",
       " 'C91': 10,\n",
       " 'C28': 10,\n",
       " 'C75': 10,\n",
       " 'C78': 10,\n",
       " 'C95': 10}"
      ]
     },
     "execution_count": 407,
     "metadata": {},
     "output_type": "execute_result"
    }
   ],
   "source": [
    "m.data['V_']['tS'].to_dict()"
   ]
  },
  {
   "cell_type": "code",
   "execution_count": null,
   "metadata": {},
   "outputs": [],
   "source": []
  }
 ],
 "metadata": {
  "kernelspec": {
   "display_name": "Python 3",
   "language": "python",
   "name": "python3"
  },
  "language_info": {
   "codemirror_mode": {
    "name": "ipython",
    "version": 3
   },
   "file_extension": ".py",
   "mimetype": "text/x-python",
   "name": "python",
   "nbconvert_exporter": "python",
   "pygments_lexer": "ipython3",
   "version": "3.6.10"
  }
 },
 "nbformat": 4,
 "nbformat_minor": 1
}
