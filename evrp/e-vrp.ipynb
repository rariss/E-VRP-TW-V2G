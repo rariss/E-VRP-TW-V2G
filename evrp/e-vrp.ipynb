{
 "cells": [
  {
   "cell_type": "markdown",
   "source": [
    "## TO-DO\n",
    "\n",
    "- Handling of dummy nodes (user-input vs. package configuration and algorithm modification"
   ],
   "metadata": {
    "collapsed": false
   }
  },
  {
   "cell_type": "code",
   "execution_count": 1,
   "metadata": {
    "collapsed": true
   },
   "outputs": [],
   "source": [
    "%load_ext autoreload\n",
    "%autoreload 2"
   ]
  },
  {
   "cell_type": "code",
   "execution_count": 143,
   "outputs": [],
   "source": [
    "from evrp.utils.utilities import parse_csv_tables, calculate_distance_matrix, generate_index_mapping\n",
    "from evrp.milp.model import MILP\n",
    "\n",
    "import pandas as pd\n",
    "import numpy as np\n",
    "from scipy.spatial import distance\n",
    "\n",
    "import pprint\n",
    "\n",
    "import plotly.figure_factory as ff\n",
    "import plotly.express as px\n",
    "\n",
    "import itertools\n",
    "\n",
    "pd.options.plotting.backend = \"plotly\"\n",
    "pp = pprint.PrettyPrinter()"
   ],
   "metadata": {
    "collapsed": false,
    "pycharm": {
     "name": "#%%\n"
    }
   }
  },
  {
   "cell_type": "code",
   "execution_count": 51,
   "outputs": [],
   "source": [
    "instance = 'test1_D1S3C10'\n",
    "fpath = 'config/test_instances/' + instance + '.csv'"
   ],
   "metadata": {
    "collapsed": false,
    "pycharm": {
     "name": "#%%\n"
    }
   }
  },
  {
   "cell_type": "code",
   "execution_count": 147,
   "outputs": [],
   "source": [
    "m = MILP(fpath)"
   ],
   "metadata": {
    "collapsed": false,
    "pycharm": {
     "name": "#%%\n"
    }
   }
  },
  {
   "cell_type": "code",
   "execution_count": 152,
   "outputs": [
    {
     "data": {
      "text/plain": "node_id         d0         s1         s2         s3         m1         m2  \\\nnode_id                                                                     \nd0        0.000000  27.892651  32.249031  36.235342  17.464249  36.055513   \ns1       27.892651   0.000000  59.615434  61.032778  10.440307  63.071388   \ns2       32.249031  59.615434   0.000000  13.000000  49.244289   4.472136   \ns3       36.235342  61.032778  13.000000   0.000000  51.224994  10.630146   \nm1       17.464249  10.440307  49.244289  51.224994   0.000000  52.773099   \nm2       36.055513  63.071388   4.472136  10.630146  52.773099   0.000000   \nm3       43.863424  69.065187  16.124515   8.062258  59.203040  12.000000   \nm4       18.027756  30.083218  43.416587  50.990195  22.803509  47.801674   \nm5       19.235384  10.198039  51.478151  54.488531   5.000000  55.226805   \nm6       19.697716  31.400637  36.055513  32.572995  23.769729  38.052595   \nm7       31.622777  17.262677  58.309519  55.973208  19.104973  60.827625   \nm8       17.492856  36.878178  36.359318  45.221676  28.231188  40.816663   \nm9       15.000000  34.828150  28.017851  26.419690  25.495098  30.413813   \nm10      18.027756  45.310043  14.317821  19.697716  34.928498  18.027756   \n\nnode_id         m3         m4         m5         m6         m7         m8  \\\nnode_id                                                                     \nd0       43.863424  18.027756  19.235384  19.697716  31.622777  17.492856   \ns1       69.065187  30.083218  10.198039  31.400637  17.262677  36.878178   \ns2       16.124515  43.416587  51.478151  36.055513  58.309519  36.359318   \ns3        8.062258  50.990195  54.488531  32.572995  55.973208  45.221676   \nm1       59.203040  22.803509   5.000000  23.769729  19.104973  28.231188   \nm2       12.000000  47.801674  55.226805  38.052595  60.827625  40.816663   \nm3        0.000000  57.801384  62.369865  40.496913  63.906181  51.478151   \nm4       57.801384   0.000000  20.124612  37.107951  41.773197   8.544004   \nm5       62.369865  20.124612   0.000000  28.460499  23.021729  26.683328   \nm6       40.496913  37.107951  28.460499   0.000000  23.409400  37.121422   \nm7       63.906181  41.773197  23.021729  23.409400   0.000000  46.324939   \nm8       51.478151   8.544004  26.683328  37.121422  46.324939   0.000000   \nm9       34.481879  33.015148  29.410882   8.544004  30.413813  31.320920   \nm10      26.627054  31.304952  37.215588  24.351591  45.000000  25.709920   \n\nnode_id         m9        m10  \nnode_id                        \nd0       15.000000  18.027756  \ns1       34.828150  45.310043  \ns2       28.017851  14.317821  \ns3       26.419690  19.697716  \nm1       25.495098  34.928498  \nm2       30.413813  18.027756  \nm3       34.481879  26.627054  \nm4       33.015148  31.304952  \nm5       29.410882  37.215588  \nm6        8.544004  24.351591  \nm7       30.413813  45.000000  \nm8       31.320920  25.709920  \nm9        0.000000  15.811388  \nm10      15.811388   0.000000  ",
      "text/html": "<div>\n<style scoped>\n    .dataframe tbody tr th:only-of-type {\n        vertical-align: middle;\n    }\n\n    .dataframe tbody tr th {\n        vertical-align: top;\n    }\n\n    .dataframe thead th {\n        text-align: right;\n    }\n</style>\n<table border=\"1\" class=\"dataframe\">\n  <thead>\n    <tr style=\"text-align: right;\">\n      <th>node_id</th>\n      <th>d0</th>\n      <th>s1</th>\n      <th>s2</th>\n      <th>s3</th>\n      <th>m1</th>\n      <th>m2</th>\n      <th>m3</th>\n      <th>m4</th>\n      <th>m5</th>\n      <th>m6</th>\n      <th>m7</th>\n      <th>m8</th>\n      <th>m9</th>\n      <th>m10</th>\n    </tr>\n    <tr>\n      <th>node_id</th>\n      <th></th>\n      <th></th>\n      <th></th>\n      <th></th>\n      <th></th>\n      <th></th>\n      <th></th>\n      <th></th>\n      <th></th>\n      <th></th>\n      <th></th>\n      <th></th>\n      <th></th>\n      <th></th>\n    </tr>\n  </thead>\n  <tbody>\n    <tr>\n      <th>d0</th>\n      <td>0.000000</td>\n      <td>27.892651</td>\n      <td>32.249031</td>\n      <td>36.235342</td>\n      <td>17.464249</td>\n      <td>36.055513</td>\n      <td>43.863424</td>\n      <td>18.027756</td>\n      <td>19.235384</td>\n      <td>19.697716</td>\n      <td>31.622777</td>\n      <td>17.492856</td>\n      <td>15.000000</td>\n      <td>18.027756</td>\n    </tr>\n    <tr>\n      <th>s1</th>\n      <td>27.892651</td>\n      <td>0.000000</td>\n      <td>59.615434</td>\n      <td>61.032778</td>\n      <td>10.440307</td>\n      <td>63.071388</td>\n      <td>69.065187</td>\n      <td>30.083218</td>\n      <td>10.198039</td>\n      <td>31.400637</td>\n      <td>17.262677</td>\n      <td>36.878178</td>\n      <td>34.828150</td>\n      <td>45.310043</td>\n    </tr>\n    <tr>\n      <th>s2</th>\n      <td>32.249031</td>\n      <td>59.615434</td>\n      <td>0.000000</td>\n      <td>13.000000</td>\n      <td>49.244289</td>\n      <td>4.472136</td>\n      <td>16.124515</td>\n      <td>43.416587</td>\n      <td>51.478151</td>\n      <td>36.055513</td>\n      <td>58.309519</td>\n      <td>36.359318</td>\n      <td>28.017851</td>\n      <td>14.317821</td>\n    </tr>\n    <tr>\n      <th>s3</th>\n      <td>36.235342</td>\n      <td>61.032778</td>\n      <td>13.000000</td>\n      <td>0.000000</td>\n      <td>51.224994</td>\n      <td>10.630146</td>\n      <td>8.062258</td>\n      <td>50.990195</td>\n      <td>54.488531</td>\n      <td>32.572995</td>\n      <td>55.973208</td>\n      <td>45.221676</td>\n      <td>26.419690</td>\n      <td>19.697716</td>\n    </tr>\n    <tr>\n      <th>m1</th>\n      <td>17.464249</td>\n      <td>10.440307</td>\n      <td>49.244289</td>\n      <td>51.224994</td>\n      <td>0.000000</td>\n      <td>52.773099</td>\n      <td>59.203040</td>\n      <td>22.803509</td>\n      <td>5.000000</td>\n      <td>23.769729</td>\n      <td>19.104973</td>\n      <td>28.231188</td>\n      <td>25.495098</td>\n      <td>34.928498</td>\n    </tr>\n    <tr>\n      <th>m2</th>\n      <td>36.055513</td>\n      <td>63.071388</td>\n      <td>4.472136</td>\n      <td>10.630146</td>\n      <td>52.773099</td>\n      <td>0.000000</td>\n      <td>12.000000</td>\n      <td>47.801674</td>\n      <td>55.226805</td>\n      <td>38.052595</td>\n      <td>60.827625</td>\n      <td>40.816663</td>\n      <td>30.413813</td>\n      <td>18.027756</td>\n    </tr>\n    <tr>\n      <th>m3</th>\n      <td>43.863424</td>\n      <td>69.065187</td>\n      <td>16.124515</td>\n      <td>8.062258</td>\n      <td>59.203040</td>\n      <td>12.000000</td>\n      <td>0.000000</td>\n      <td>57.801384</td>\n      <td>62.369865</td>\n      <td>40.496913</td>\n      <td>63.906181</td>\n      <td>51.478151</td>\n      <td>34.481879</td>\n      <td>26.627054</td>\n    </tr>\n    <tr>\n      <th>m4</th>\n      <td>18.027756</td>\n      <td>30.083218</td>\n      <td>43.416587</td>\n      <td>50.990195</td>\n      <td>22.803509</td>\n      <td>47.801674</td>\n      <td>57.801384</td>\n      <td>0.000000</td>\n      <td>20.124612</td>\n      <td>37.107951</td>\n      <td>41.773197</td>\n      <td>8.544004</td>\n      <td>33.015148</td>\n      <td>31.304952</td>\n    </tr>\n    <tr>\n      <th>m5</th>\n      <td>19.235384</td>\n      <td>10.198039</td>\n      <td>51.478151</td>\n      <td>54.488531</td>\n      <td>5.000000</td>\n      <td>55.226805</td>\n      <td>62.369865</td>\n      <td>20.124612</td>\n      <td>0.000000</td>\n      <td>28.460499</td>\n      <td>23.021729</td>\n      <td>26.683328</td>\n      <td>29.410882</td>\n      <td>37.215588</td>\n    </tr>\n    <tr>\n      <th>m6</th>\n      <td>19.697716</td>\n      <td>31.400637</td>\n      <td>36.055513</td>\n      <td>32.572995</td>\n      <td>23.769729</td>\n      <td>38.052595</td>\n      <td>40.496913</td>\n      <td>37.107951</td>\n      <td>28.460499</td>\n      <td>0.000000</td>\n      <td>23.409400</td>\n      <td>37.121422</td>\n      <td>8.544004</td>\n      <td>24.351591</td>\n    </tr>\n    <tr>\n      <th>m7</th>\n      <td>31.622777</td>\n      <td>17.262677</td>\n      <td>58.309519</td>\n      <td>55.973208</td>\n      <td>19.104973</td>\n      <td>60.827625</td>\n      <td>63.906181</td>\n      <td>41.773197</td>\n      <td>23.021729</td>\n      <td>23.409400</td>\n      <td>0.000000</td>\n      <td>46.324939</td>\n      <td>30.413813</td>\n      <td>45.000000</td>\n    </tr>\n    <tr>\n      <th>m8</th>\n      <td>17.492856</td>\n      <td>36.878178</td>\n      <td>36.359318</td>\n      <td>45.221676</td>\n      <td>28.231188</td>\n      <td>40.816663</td>\n      <td>51.478151</td>\n      <td>8.544004</td>\n      <td>26.683328</td>\n      <td>37.121422</td>\n      <td>46.324939</td>\n      <td>0.000000</td>\n      <td>31.320920</td>\n      <td>25.709920</td>\n    </tr>\n    <tr>\n      <th>m9</th>\n      <td>15.000000</td>\n      <td>34.828150</td>\n      <td>28.017851</td>\n      <td>26.419690</td>\n      <td>25.495098</td>\n      <td>30.413813</td>\n      <td>34.481879</td>\n      <td>33.015148</td>\n      <td>29.410882</td>\n      <td>8.544004</td>\n      <td>30.413813</td>\n      <td>31.320920</td>\n      <td>0.000000</td>\n      <td>15.811388</td>\n    </tr>\n    <tr>\n      <th>m10</th>\n      <td>18.027756</td>\n      <td>45.310043</td>\n      <td>14.317821</td>\n      <td>19.697716</td>\n      <td>34.928498</td>\n      <td>18.027756</td>\n      <td>26.627054</td>\n      <td>31.304952</td>\n      <td>37.215588</td>\n      <td>24.351591</td>\n      <td>45.000000</td>\n      <td>25.709920</td>\n      <td>15.811388</td>\n      <td>0.000000</td>\n    </tr>\n  </tbody>\n</table>\n</div>"
     },
     "execution_count": 152,
     "metadata": {},
     "output_type": "execute_result"
    }
   ],
   "source": [
    "m.data['d']\n"
   ],
   "metadata": {
    "collapsed": false,
    "pycharm": {
     "name": "#%%\n"
    }
   }
  }
 ],
 "metadata": {
  "kernelspec": {
   "display_name": "Python 3",
   "language": "python",
   "name": "python3"
  },
  "language_info": {
   "codemirror_mode": {
    "name": "ipython",
    "version": 2
   },
   "file_extension": ".py",
   "mimetype": "text/x-python",
   "name": "python",
   "nbconvert_exporter": "python",
   "pygments_lexer": "ipython2",
   "version": "2.7.6"
  }
 },
 "nbformat": 4,
 "nbformat_minor": 0
}