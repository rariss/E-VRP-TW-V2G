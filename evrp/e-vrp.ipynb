{
 "cells": [
  {
   "cell_type": "code",
   "execution_count": 1,
   "metadata": {
    "collapsed": true
   },
   "outputs": [],
   "source": [
    "%load_ext autoreload\n",
    "%autoreload 2"
   ]
  },
  {
   "cell_type": "code",
   "execution_count": 6,
   "outputs": [],
   "source": [
    "from evrp.utils.utilities import parse_csv_tables\n",
    "\n",
    "import pandas as pd\n",
    "pd.options.plotting.backend = \"plotly\"\n",
    "\n",
    "import pprint\n",
    "pp = pprint.PrettyPrinter()\n",
    "\n",
    "import plotly.figure_factory as ff\n",
    "import plotly.express as px\n",
    "\n",
    "import itertools"
   ],
   "metadata": {
    "collapsed": false,
    "pycharm": {
     "name": "#%%\n"
    }
   }
  },
  {
   "cell_type": "code",
   "execution_count": 8,
   "outputs": [],
   "source": [
    "instance = 'test1_D1S3C10'\n",
    "fpath = 'config/test_instances/' + instance + '.csv'"
   ],
   "metadata": {
    "collapsed": false,
    "pycharm": {
     "name": "#%%\n"
    }
   }
  },
  {
   "cell_type": "code",
   "execution_count": 24,
   "outputs": [],
   "source": [
    "data = parse_csv_tables(fpath)"
   ],
   "metadata": {
    "collapsed": false,
    "pycharm": {
     "name": "#%%\n"
    }
   }
  },
  {
   "cell_type": "code",
   "execution_count": 27,
   "outputs": [
    {
     "data": {
      "text/plain": "{'D':         node_description node_type d_x d_y cg tA  tB tS tQ SMIN SMAX\n node_id                                                             \n d0                 depot         d  35  35  5  0  24  0  0  100    0,\n 'S':          node_description node_type d_x d_y tA  tB tS SMIN SMAX\n node_id                                                        \n s1       charging station         s  28  62  0  24  0   50    0\n s2       charging station         s  51   7  0  24  0   50    0\n s3       charging station         s  63  12  0  24  0   50    0,\n 'M':         node_description node_type d_x d_y    q  cq  tA  tB tS        tQ\n node_id                                                                 \n m1              customer         m  31  52  200  10   0  24  1     0.005\n m2              customer         m  55   5  320  10   0  24  1  0.003125\n m3              customer         m  67   5  250  10   0  24  1     0.004\n m4              customer         m  17  34   20  10   0  24  1      0.05\n m5              customer         m  26  52  100  10   0  24  1      0.01\n m6              customer         m  53  43  160  10   0  12  1   0.00625\n m7              customer         m  45  65  100  10   0  12  1      0.01\n m8              customer         m  20  26  100  10  12  24  1      0.01\n m9              customer         m  50  35  200  10  12  24  1     0.005\n m10             customer         m  45  20  100  10  12  24  1      0.01,\n 'Parameters':                          description value\n parameter                                 \n t_T        optimization time horizon    24\n t_S                   time step size     1,\n 'T':       G        ce     \n      d0   d1   d0   d1\n t                     \n 0     0    0  0.1  0.1\n 1    23   23  0.1  0.1\n 2    44   44  0.1  0.1\n 3    63   63  0.1  0.1\n 4    80   80  0.1  0.1\n 5    95   95  0.1  0.1\n 6   108  108  0.1  0.1\n 7   119  119  0.1  0.1\n 8   128  128  0.1  0.1\n 9   135  135  0.1  0.1\n 10  140  140  0.1  0.1\n 11  143  143  0.1  0.1\n 12  144  144  0.1  0.1\n 13  143  143  0.1  0.1\n 14  140  140  0.1  0.1\n 15  135  135  0.1  0.1\n 16  128  128  0.1  0.1\n 17  119  119  0.1  0.1\n 18  108  108  0.1  0.1\n 19   95   95  0.1  0.1\n 20   80   80  0.1  0.1\n 21   63   63  0.1  0.1\n 22   44   44  0.1  0.1\n 23   23   23  0.1  0.1}"
     },
     "execution_count": 27,
     "metadata": {},
     "output_type": "execute_result"
    }
   ],
   "source": [
    "data"
   ],
   "metadata": {
    "collapsed": false,
    "pycharm": {
     "name": "#%%\n"
    }
   }
  },
  {
   "cell_type": "code",
   "execution_count": null,
   "outputs": [],
   "source": [],
   "metadata": {
    "collapsed": false,
    "pycharm": {
     "name": "#%%\n"
    }
   }
  }
 ],
 "metadata": {
  "kernelspec": {
   "display_name": "Python 3",
   "language": "python",
   "name": "python3"
  },
  "language_info": {
   "codemirror_mode": {
    "name": "ipython",
    "version": 2
   },
   "file_extension": ".py",
   "mimetype": "text/x-python",
   "name": "python",
   "nbconvert_exporter": "python",
   "pygments_lexer": "ipython2",
   "version": "2.7.6"
  }
 },
 "nbformat": 4,
 "nbformat_minor": 0
}