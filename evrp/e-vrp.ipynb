{
 "cells": [
  {
   "cell_type": "markdown",
   "source": [
    "## TO-DO\n",
    "\n",
    "- Handling of dummy nodes (user-input vs. package configuration and algorithm modification\n",
    "- Construct parameter dictionary for pyomo concrete instances\n",
    "- Fix order of model construction to remain as Abstract until create_instance() called (issue with initializing Sets then calling constraints)\n",
    "- Combine overlapping nodes in plotly with text and hover so no text overlap"
   ],
   "metadata": {
    "collapsed": false
   }
  },
  {
   "cell_type": "code",
   "execution_count": 1,
   "metadata": {
    "collapsed": true
   },
   "outputs": [],
   "source": [
    "%load_ext autoreload\n",
    "%autoreload 2"
   ]
  },
  {
   "cell_type": "code",
   "execution_count": 289,
   "outputs": [],
   "source": [
    "from evrp.utils.utilities import parse_csv_tables, calculate_distance_matrix, generate_index_mapping, create_plotting_edges, create_flat_distance_matrix, create_coordinate_dict\n",
    "from evrp.utils.graph import draw_plain_graph, draw_graph\n",
    "from evrp.utils.plot import plot_interactive_graph\n",
    "from evrp.milp.model import MILP\n",
    "\n",
    "import pandas as pd\n",
    "import numpy as np\n",
    "from scipy.spatial import distance\n",
    "\n",
    "import pprint\n",
    "\n",
    "import plotly.figure_factory as ff\n",
    "from plotly.subplots import make_subplots\n",
    "import plotly.graph_objects as go\n",
    "import plotly.express as px\n",
    "\n",
    "import matplotlib.pyplot as plt\n",
    "import matplotlib.colors as pltc\n",
    "\n",
    "import itertools\n",
    "\n",
    "import networkx as nx\n",
    "\n",
    "pd.options.plotting.backend = \"plotly\"\n",
    "pp = pprint.PrettyPrinter()"
   ],
   "metadata": {
    "collapsed": false,
    "pycharm": {
     "name": "#%%\n"
    }
   }
  },
  {
   "cell_type": "code",
   "execution_count": 33,
   "outputs": [],
   "source": [
    "instance = 'test1_D1S3C10_TSP'\n",
    "fpath = 'config/test_instances/' + instance + '.csv'"
   ],
   "metadata": {
    "collapsed": false,
    "pycharm": {
     "name": "#%%\n"
    }
   }
  },
  {
   "cell_type": "code",
   "execution_count": 480,
   "outputs": [
    {
     "name": "stderr",
     "output_type": "stream",
     "text": [
      "2020-09-19 02:56:33 INFO     Building MILP for instance: test1_D1S3C10_TSP\n",
      "2020-09-19 02:56:33 INFO     Reading CSV\n",
      "2020-09-19 02:56:33 INFO     Creating graph\n",
      "2020-09-19 02:56:33 INFO     Calculating distance matrix\n",
      "2020-09-19 02:56:33 INFO     Building model\n",
      "2020-09-19 02:56:33 INFO     Defining parameters and sets\n",
      "2020-09-19 02:56:33 INFO     Defining variables\n",
      "2020-09-19 02:56:33 INFO     Defining constraints\n",
      "2020-09-19 02:56:33 INFO     Defining objective\n",
      "2020-09-19 02:56:33 INFO     Construcing model\n",
      "2020-09-19 02:56:33 INFO     Done building model\n"
     ]
    }
   ],
   "source": [
    "m = MILP(fpath)"
   ],
   "metadata": {
    "collapsed": false,
    "pycharm": {
     "name": "#%%\n"
    }
   }
  },
  {
   "cell_type": "code",
   "execution_count": 481,
   "outputs": [
    {
     "name": "stderr",
     "output_type": "stream",
     "text": [
      "2020-09-19 02:56:35 INFO     Creating instance\n",
      "2020-09-19 02:56:35 INFO     Solving instance...\n",
      "2020-09-19 02:56:35 INFO     Parameter OutputFlag unchanged\n",
      "2020-09-19 02:56:35 INFO        Value: 1  Min: 0  Max: 1  Default: 1\n",
      "2020-09-19 02:56:35 INFO     Changed value of parameter LogFile to /var/folders/vv/1p3h17yx43n9m7k86th68_ym0000gn/T/tmp0twalpdc.log\n",
      "2020-09-19 02:56:35 INFO        Prev:   Default: \n",
      "2020-09-19 02:56:35 INFO     Changed value of parameter threads to 4\n",
      "2020-09-19 02:56:35 INFO        Prev: 0  Min: 0  Max: 1024  Default: 0\n",
      "2020-09-19 02:56:35 INFO     Gurobi Optimizer version 9.0.2 build v9.0.2rc0 (mac64)\n",
      "2020-09-19 02:56:35 INFO     Optimize a model with 212 rows, 239 columns and 964 nonzeros\n",
      "2020-09-19 02:56:35 INFO     Model fingerprint: 0xba04eda9\n",
      "2020-09-19 02:56:35 INFO     Variable types: 0 continuous, 239 integer (225 binary)\n",
      "2020-09-19 02:56:35 INFO     Coefficient statistics:\n",
      "2020-09-19 02:56:35 INFO       Matrix range     [1e+00, 2e+01]\n",
      "2020-09-19 02:56:35 INFO       Objective range  [4e+00, 7e+01]\n",
      "2020-09-19 02:56:35 INFO       Bounds range     [1e+00, 1e+01]\n",
      "2020-09-19 02:56:35 INFO       RHS range        [1e+00, 1e+01]\n",
      "2020-09-19 02:56:35 INFO     Presolve removed 0 rows and 15 columns\n",
      "2020-09-19 02:56:35 INFO     Presolve time: 0.01s\n",
      "2020-09-19 02:56:35 INFO     Presolved: 212 rows, 224 columns, 964 nonzeros\n",
      "2020-09-19 02:56:35 INFO     Variable types: 0 continuous, 224 integer (210 binary)\n",
      "2020-09-19 02:56:35 INFO     Found heuristic solution: objective 538.7175802\n",
      "2020-09-19 02:56:35 INFO     \n",
      "2020-09-19 02:56:35 INFO     Root relaxation: objective 1.361608e+02, 60 iterations, 0.00 seconds\n",
      "2020-09-19 02:56:35 INFO     \n",
      "2020-09-19 02:56:35 INFO         Nodes    |    Current Node    |     Objective Bounds      |     Work\n",
      "2020-09-19 02:56:35 INFO      Expl Unexpl |  Obj  Depth IntInf | Incumbent    BestBd   Gap | It/Node Time\n",
      "2020-09-19 02:56:35 INFO     \n",
      "2020-09-19 02:56:35 INFO          0     0  136.16082    0   24  538.71758  136.16082  74.7%     -    0s\n",
      "2020-09-19 02:56:35 INFO     H    0     0                     479.3016340  136.16082  71.6%     -    0s\n",
      "2020-09-19 02:56:35 INFO     H    0     0                     288.9647283  136.16082  52.9%     -    0s\n",
      "2020-09-19 02:56:35 INFO     H    0     0                     222.5359212  136.16082  38.8%     -    0s\n",
      "2020-09-19 02:56:35 INFO          0     0  172.38070    0   26  222.53592  172.38070  22.5%     -    0s\n",
      "2020-09-19 02:56:35 INFO          0     0  172.38070    0   26  222.53592  172.38070  22.5%     -    0s\n",
      "2020-09-19 02:56:35 INFO          0     0  172.38070    0   37  222.53592  172.38070  22.5%     -    0s\n",
      "2020-09-19 02:56:35 INFO          0     0  172.38070    0   39  222.53592  172.38070  22.5%     -    0s\n",
      "2020-09-19 02:56:35 INFO          0     0  172.38070    0   34  222.53592  172.38070  22.5%     -    0s\n",
      "2020-09-19 02:56:35 INFO          0     2  174.81733    0   30  222.53592  174.81733  21.4%     -    0s\n",
      "2020-09-19 02:56:36 INFO     *  121   114              26     210.0648377  174.81733  16.8%   5.2    0s\n",
      "2020-09-19 02:56:36 INFO     *  240   145              21     209.2426449  179.42104  14.3%   5.5    0s\n",
      "2020-09-19 02:56:36 INFO     *  477   239              19     208.1359106  183.23711  12.0%   6.3    0s\n",
      "2020-09-19 02:56:36 INFO     *  562   223              21     206.6550591  183.58006  11.2%   6.4    0s\n",
      "2020-09-19 02:56:36 INFO     *  636   218              22     200.8098541  183.58006  8.58%   6.5    0s\n",
      "2020-09-19 02:56:36 INFO     *  907   219              22     194.1175186  185.14590  4.62%   7.0    0s\n",
      "2020-09-19 02:56:36 INFO     \n",
      "2020-09-19 02:56:36 INFO     Cutting planes:\n",
      "2020-09-19 02:56:36 INFO       Learned: 7\n",
      "2020-09-19 02:56:36 INFO       Gomory: 4\n",
      "2020-09-19 02:56:36 INFO       Cover: 3\n",
      "2020-09-19 02:56:36 INFO       Implied bound: 22\n",
      "2020-09-19 02:56:36 INFO       MIR: 16\n",
      "2020-09-19 02:56:36 INFO       Inf proof: 6\n",
      "2020-09-19 02:56:36 INFO       Zero half: 8\n",
      "2020-09-19 02:56:36 INFO       Relax-and-lift: 11\n",
      "2020-09-19 02:56:36 INFO     \n",
      "2020-09-19 02:56:36 INFO     Explored 1400 nodes (10375 simplex iterations) in 0.42 seconds\n",
      "2020-09-19 02:56:36 INFO     Thread count was 4 (of 8 available processors)\n",
      "2020-09-19 02:56:36 INFO     \n",
      "2020-09-19 02:56:36 INFO     Solution count 10: 194.118 200.81 206.655 ... 538.718\n",
      "2020-09-19 02:56:36 INFO     \n",
      "2020-09-19 02:56:36 INFO     Optimal solution found (tolerance 1.00e-04)\n",
      "2020-09-19 02:56:36 INFO     Best objective 1.941175185758e+02, best bound 1.941175185758e+02, gap 0.0000%\n",
      "2020-09-19 02:56:36 INFO     Changed value of parameter LogFile to \n",
      "2020-09-19 02:56:36 INFO        Prev: /var/folders/vv/1p3h17yx43n9m7k86th68_ym0000gn/T/tmp0twalpdc.log  Default: \n",
      "2020-09-19 02:56:36 INFO     Done\n"
     ]
    },
    {
     "name": "stdout",
     "output_type": "stream",
     "text": [
      "Parameter OutputFlag unchanged\n",
      "   Value: 1  Min: 0  Max: 1  Default: 1\n",
      "Changed value of parameter LogFile to /var/folders/vv/1p3h17yx43n9m7k86th68_ym0000gn/T/tmp0twalpdc.log\n",
      "   Prev:   Default: \n",
      "Changed value of parameter threads to 4\n",
      "   Prev: 0  Min: 0  Max: 1024  Default: 0\n",
      "Gurobi Optimizer version 9.0.2 build v9.0.2rc0 (mac64)\n",
      "Optimize a model with 212 rows, 239 columns and 964 nonzeros\n",
      "Model fingerprint: 0xba04eda9\n",
      "Variable types: 0 continuous, 239 integer (225 binary)\n",
      "Coefficient statistics:\n",
      "  Matrix range     [1e+00, 2e+01]\n",
      "  Objective range  [4e+00, 7e+01]\n",
      "  Bounds range     [1e+00, 1e+01]\n",
      "  RHS range        [1e+00, 1e+01]\n",
      "Presolve removed 0 rows and 15 columns\n",
      "Presolve time: 0.01s\n",
      "Presolved: 212 rows, 224 columns, 964 nonzeros\n",
      "Variable types: 0 continuous, 224 integer (210 binary)\n",
      "Found heuristic solution: objective 538.7175802\n",
      "\n",
      "Root relaxation: objective 1.361608e+02, 60 iterations, 0.00 seconds\n",
      "\n",
      "    Nodes    |    Current Node    |     Objective Bounds      |     Work\n",
      " Expl Unexpl |  Obj  Depth IntInf | Incumbent    BestBd   Gap | It/Node Time\n",
      "\n",
      "     0     0  136.16082    0   24  538.71758  136.16082  74.7%     -    0s\n",
      "H    0     0                     479.3016340  136.16082  71.6%     -    0s\n",
      "H    0     0                     288.9647283  136.16082  52.9%     -    0s\n",
      "H    0     0                     222.5359212  136.16082  38.8%     -    0s\n",
      "     0     0  172.38070    0   26  222.53592  172.38070  22.5%     -    0s\n",
      "     0     0  172.38070    0   26  222.53592  172.38070  22.5%     -    0s\n",
      "     0     0  172.38070    0   37  222.53592  172.38070  22.5%     -    0s\n",
      "     0     0  172.38070    0   39  222.53592  172.38070  22.5%     -    0s\n",
      "     0     0  172.38070    0   34  222.53592  172.38070  22.5%     -    0s\n",
      "     0     2  174.81733    0   30  222.53592  174.81733  21.4%     -    0s\n",
      "*  121   114              26     210.0648377  174.81733  16.8%   5.2    0s\n",
      "*  240   145              21     209.2426449  179.42104  14.3%   5.5    0s\n",
      "*  477   239              19     208.1359106  183.23711  12.0%   6.3    0s\n",
      "*  562   223              21     206.6550591  183.58006  11.2%   6.4    0s\n",
      "*  636   218              22     200.8098541  183.58006  8.58%   6.5    0s\n",
      "*  907   219              22     194.1175186  185.14590  4.62%   7.0    0s\n",
      "\n",
      "Cutting planes:\n",
      "  Learned: 7\n",
      "  Gomory: 4\n",
      "  Cover: 3\n",
      "  Implied bound: 22\n",
      "  MIR: 16\n",
      "  Inf proof: 6\n",
      "  Zero half: 8\n",
      "  Relax-and-lift: 11\n",
      "\n",
      "Explored 1400 nodes (10375 simplex iterations) in 0.42 seconds\n",
      "Thread count was 4 (of 8 available processors)\n",
      "\n",
      "Solution count 10: 194.118 200.81 206.655 ... 538.718\n",
      "\n",
      "Optimal solution found (tolerance 1.00e-04)\n",
      "Best objective 1.941175185758e+02, best bound 1.941175185758e+02, gap 0.0000%\n",
      "Changed value of parameter LogFile to \n",
      "   Prev: /var/folders/vv/1p3h17yx43n9m7k86th68_ym0000gn/T/tmp0twalpdc.log  Default: \n"
     ]
    }
   ],
   "source": [
    "results = m.solve()"
   ],
   "metadata": {
    "collapsed": false,
    "pycharm": {
     "name": "#%%\n"
    }
   }
  },
  {
   "cell_type": "code",
   "execution_count": 482,
   "outputs": [
    {
     "name": "stdout",
     "output_type": "stream",
     "text": [
      "14 Set Declarations\n",
      "    E : Graph edges\n",
      "        Dim=0, Dimen=2, Size=225, Domain=E_domain, Ordered=False, Bounds=None\n",
      "        [('d-1', 'd-1'), ('d-1', 'd0'), ('d-1', 'm1'), ('d-1', 'm10'), ('d-1', 'm2'), ('d-1', 'm3'), ('d-1', 'm4'), ('d-1', 'm5'), ('d-1', 'm6'), ('d-1', 'm7'), ('d-1', 'm8'), ('d-1', 'm9'), ('d-1', 's1'), ('d-1', 's2'), ('d-1', 's3'), ('d0', 'd-1'), ('d0', 'd0'), ('d0', 'm1'), ('d0', 'm10'), ('d0', 'm2'), ('d0', 'm3'), ('d0', 'm4'), ('d0', 'm5'), ('d0', 'm6'), ('d0', 'm7'), ('d0', 'm8'), ('d0', 'm9'), ('d0', 's1'), ('d0', 's2'), ('d0', 's3'), ('m1', 'd-1'), ('m1', 'd0'), ('m1', 'm1'), ('m1', 'm10'), ('m1', 'm2'), ('m1', 'm3'), ('m1', 'm4'), ('m1', 'm5'), ('m1', 'm6'), ('m1', 'm7'), ('m1', 'm8'), ('m1', 'm9'), ('m1', 's1'), ('m1', 's2'), ('m1', 's3'), ('m10', 'd-1'), ('m10', 'd0'), ('m10', 'm1'), ('m10', 'm10'), ('m10', 'm2'), ('m10', 'm3'), ('m10', 'm4'), ('m10', 'm5'), ('m10', 'm6'), ('m10', 'm7'), ('m10', 'm8'), ('m10', 'm9'), ('m10', 's1'), ('m10', 's2'), ('m10', 's3'), ('m2', 'd-1'), ('m2', 'd0'), ('m2', 'm1'), ('m2', 'm10'), ('m2', 'm2'), ('m2', 'm3'), ('m2', 'm4'), ('m2', 'm5'), ('m2', 'm6'), ('m2', 'm7'), ('m2', 'm8'), ('m2', 'm9'), ('m2', 's1'), ('m2', 's2'), ('m2', 's3'), ('m3', 'd-1'), ('m3', 'd0'), ('m3', 'm1'), ('m3', 'm10'), ('m3', 'm2'), ('m3', 'm3'), ('m3', 'm4'), ('m3', 'm5'), ('m3', 'm6'), ('m3', 'm7'), ('m3', 'm8'), ('m3', 'm9'), ('m3', 's1'), ('m3', 's2'), ('m3', 's3'), ('m4', 'd-1'), ('m4', 'd0'), ('m4', 'm1'), ('m4', 'm10'), ('m4', 'm2'), ('m4', 'm3'), ('m4', 'm4'), ('m4', 'm5'), ('m4', 'm6'), ('m4', 'm7'), ('m4', 'm8'), ('m4', 'm9'), ('m4', 's1'), ('m4', 's2'), ('m4', 's3'), ('m5', 'd-1'), ('m5', 'd0'), ('m5', 'm1'), ('m5', 'm10'), ('m5', 'm2'), ('m5', 'm3'), ('m5', 'm4'), ('m5', 'm5'), ('m5', 'm6'), ('m5', 'm7'), ('m5', 'm8'), ('m5', 'm9'), ('m5', 's1'), ('m5', 's2'), ('m5', 's3'), ('m6', 'd-1'), ('m6', 'd0'), ('m6', 'm1'), ('m6', 'm10'), ('m6', 'm2'), ('m6', 'm3'), ('m6', 'm4'), ('m6', 'm5'), ('m6', 'm6'), ('m6', 'm7'), ('m6', 'm8'), ('m6', 'm9'), ('m6', 's1'), ('m6', 's2'), ('m6', 's3'), ('m7', 'd-1'), ('m7', 'd0'), ('m7', 'm1'), ('m7', 'm10'), ('m7', 'm2'), ('m7', 'm3'), ('m7', 'm4'), ('m7', 'm5'), ('m7', 'm6'), ('m7', 'm7'), ('m7', 'm8'), ('m7', 'm9'), ('m7', 's1'), ('m7', 's2'), ('m7', 's3'), ('m8', 'd-1'), ('m8', 'd0'), ('m8', 'm1'), ('m8', 'm10'), ('m8', 'm2'), ('m8', 'm3'), ('m8', 'm4'), ('m8', 'm5'), ('m8', 'm6'), ('m8', 'm7'), ('m8', 'm8'), ('m8', 'm9'), ('m8', 's1'), ('m8', 's2'), ('m8', 's3'), ('m9', 'd-1'), ('m9', 'd0'), ('m9', 'm1'), ('m9', 'm10'), ('m9', 'm2'), ('m9', 'm3'), ('m9', 'm4'), ('m9', 'm5'), ('m9', 'm6'), ('m9', 'm7'), ('m9', 'm8'), ('m9', 'm9'), ('m9', 's1'), ('m9', 's2'), ('m9', 's3'), ('s1', 'd-1'), ('s1', 'd0'), ('s1', 'm1'), ('s1', 'm10'), ('s1', 'm2'), ('s1', 'm3'), ('s1', 'm4'), ('s1', 'm5'), ('s1', 'm6'), ('s1', 'm7'), ('s1', 'm8'), ('s1', 'm9'), ('s1', 's1'), ('s1', 's2'), ('s1', 's3'), ('s2', 'd-1'), ('s2', 'd0'), ('s2', 'm1'), ('s2', 'm10'), ('s2', 'm2'), ('s2', 'm3'), ('s2', 'm4'), ('s2', 'm5'), ('s2', 'm6'), ('s2', 'm7'), ('s2', 'm8'), ('s2', 'm9'), ('s2', 's1'), ('s2', 's2'), ('s2', 's3'), ('s3', 'd-1'), ('s3', 'd0'), ('s3', 'm1'), ('s3', 'm10'), ('s3', 'm2'), ('s3', 'm3'), ('s3', 'm4'), ('s3', 'm5'), ('s3', 'm6'), ('s3', 'm7'), ('s3', 'm8'), ('s3', 'm9'), ('s3', 's1'), ('s3', 's2'), ('s3', 's3')]\n",
      "    E_domain : Dim=0, Dimen=2, Size=225, Domain=None, Ordered=False, Bounds=None\n",
      "        Virtual\n",
      "    E_index_init : Dim=0, Dimen=2, Size=225, Domain=None, Ordered=False, Bounds=None\n",
      "        Virtual\n",
      "    V : Graph nodes\n",
      "        Dim=0, Dimen=1, Size=13, Domain=None, Ordered=False, Bounds=None\n",
      "        ['m1', 'm10', 'm2', 'm3', 'm4', 'm5', 'm6', 'm7', 'm8', 'm9', 's1', 's2', 's3']\n",
      "    V0 : Graph nodes without terminal\n",
      "        Dim=0, Dimen=1, Size=14, Domain=None, Ordered=False, Bounds=None\n",
      "        ['d0', 'm1', 'm10', 'm2', 'm3', 'm4', 'm5', 'm6', 'm7', 'm8', 'm9', 's1', 's2', 's3']\n",
      "    V01 : Graph nodes\n",
      "        Dim=0, Dimen=1, Size=15, Domain=None, Ordered=False, Bounds=None\n",
      "        ['d-1', 'd0', 'm1', 'm10', 'm2', 'm3', 'm4', 'm5', 'm6', 'm7', 'm8', 'm9', 's1', 's2', 's3']\n",
      "    V0_index_init : Dim=0, Dimen=1, Size=14, Domain=None, Ordered=False, Bounds=None\n",
      "        Virtual\n",
      "    V0_index_init_index_1 : Dim=0, Dimen=1, Size=3, Domain=None, Ordered=False, Bounds=(None, None)\n",
      "        ['-', '1', 'd']\n",
      "    V1 : Graph nodes without start\n",
      "        Dim=0, Dimen=1, Size=14, Domain=None, Ordered=False, Bounds=None\n",
      "        ['d-1', 'm1', 'm10', 'm2', 'm3', 'm4', 'm5', 'm6', 'm7', 'm8', 'm9', 's1', 's2', 's3']\n",
      "    V1_index_init : Dim=0, Dimen=1, Size=14, Domain=None, Ordered=False, Bounds=None\n",
      "        Virtual\n",
      "    V1_index_init_index_1 : Dim=0, Dimen=1, Size=2, Domain=None, Ordered=False, Bounds=(None, None)\n",
      "        ['0', 'd']\n",
      "    V_index_init : Dim=0, Dimen=1, Size=13, Domain=None, Ordered=False, Bounds=None\n",
      "        Virtual\n",
      "    V_index_init_index_1 : Dim=0, Dimen=1, Size=2, Domain=None, Ordered=False, Bounds=(None, None)\n",
      "        ['d-1', 'd0']\n",
      "    constraint_single_subtour_index : Dim=0, Dimen=2, Size=196, Domain=None, Ordered=False, Bounds=None\n",
      "        Virtual\n",
      "\n",
      "1 Param Declarations\n",
      "    d : Size=225, Index=E, Domain=Any, Default=None, Mutable=False\n",
      "        Key            : Value\n",
      "        ('d-1', 'd-1') :                0.0\n",
      "         ('d-1', 'd0') :                0.0\n",
      "         ('d-1', 'm1') :  17.46424919657298\n",
      "        ('d-1', 'm10') : 18.027756377319946\n",
      "         ('d-1', 'm2') :  36.05551275463989\n",
      "         ('d-1', 'm3') :  43.86342439892262\n",
      "         ('d-1', 'm4') : 18.027756377319946\n",
      "         ('d-1', 'm5') : 19.235384061671343\n",
      "         ('d-1', 'm6') : 19.697715603592208\n",
      "         ('d-1', 'm7') : 31.622776601683793\n",
      "         ('d-1', 'm8') :   17.4928556845359\n",
      "         ('d-1', 'm9') :               15.0\n",
      "         ('d-1', 's1') : 27.892651361962706\n",
      "         ('d-1', 's2') :   32.2490309931942\n",
      "         ('d-1', 's3') : 36.235341863986875\n",
      "         ('d0', 'd-1') :                0.0\n",
      "          ('d0', 'd0') :                0.0\n",
      "          ('d0', 'm1') :  17.46424919657298\n",
      "         ('d0', 'm10') : 18.027756377319946\n",
      "          ('d0', 'm2') :  36.05551275463989\n",
      "          ('d0', 'm3') :  43.86342439892262\n",
      "          ('d0', 'm4') : 18.027756377319946\n",
      "          ('d0', 'm5') : 19.235384061671343\n",
      "          ('d0', 'm6') : 19.697715603592208\n",
      "          ('d0', 'm7') : 31.622776601683793\n",
      "          ('d0', 'm8') :   17.4928556845359\n",
      "          ('d0', 'm9') :               15.0\n",
      "          ('d0', 's1') : 27.892651361962706\n",
      "          ('d0', 's2') :   32.2490309931942\n",
      "          ('d0', 's3') : 36.235341863986875\n",
      "         ('m1', 'd-1') :  17.46424919657298\n",
      "          ('m1', 'd0') :  17.46424919657298\n",
      "          ('m1', 'm1') :                0.0\n",
      "         ('m1', 'm10') :  34.92849839314596\n",
      "          ('m1', 'm2') : 52.773099207835045\n",
      "          ('m1', 'm3') :  59.20304046246274\n",
      "          ('m1', 'm4') :  22.80350850198276\n",
      "          ('m1', 'm5') :                5.0\n",
      "          ('m1', 'm6') : 23.769728648009426\n",
      "          ('m1', 'm7') :   19.1049731745428\n",
      "          ('m1', 'm8') : 28.231188426986208\n",
      "          ('m1', 'm9') : 25.495097567963924\n",
      "          ('m1', 's1') :  10.44030650891055\n",
      "          ('m1', 's2') :  49.24428900898052\n",
      "          ('m1', 's3') :  51.22499389946279\n",
      "        ('m10', 'd-1') : 18.027756377319946\n",
      "         ('m10', 'd0') : 18.027756377319946\n",
      "         ('m10', 'm1') :  34.92849839314596\n",
      "        ('m10', 'm10') :                0.0\n",
      "         ('m10', 'm2') : 18.027756377319946\n",
      "         ('m10', 'm3') : 26.627053911388696\n",
      "         ('m10', 'm4') : 31.304951684997057\n",
      "         ('m10', 'm5') :  37.21558813185679\n",
      "         ('m10', 'm6') : 24.351591323771842\n",
      "         ('m10', 'm7') :               45.0\n",
      "         ('m10', 'm8') : 25.709920264364882\n",
      "         ('m10', 'm9') : 15.811388300841896\n",
      "         ('m10', 's1') :  45.31004303683677\n",
      "         ('m10', 's2') : 14.317821063276353\n",
      "         ('m10', 's3') : 19.697715603592208\n",
      "         ('m2', 'd-1') :  36.05551275463989\n",
      "          ('m2', 'd0') :  36.05551275463989\n",
      "          ('m2', 'm1') : 52.773099207835045\n",
      "         ('m2', 'm10') : 18.027756377319946\n",
      "          ('m2', 'm2') :                0.0\n",
      "          ('m2', 'm3') :               12.0\n",
      "          ('m2', 'm4') :  47.80167361086848\n",
      "          ('m2', 'm5') : 55.226805085936306\n",
      "          ('m2', 'm6') :  38.05259518088089\n",
      "          ('m2', 'm7') :   60.8276253029822\n",
      "          ('m2', 'm8') :   40.8166632639171\n",
      "          ('m2', 'm9') :   30.4138126514911\n",
      "          ('m2', 's1') : 63.071388124885914\n",
      "          ('m2', 's2') :   4.47213595499958\n",
      "          ('m2', 's3') :  10.63014581273465\n",
      "         ('m3', 'd-1') :  43.86342439892262\n",
      "          ('m3', 'd0') :  43.86342439892262\n",
      "          ('m3', 'm1') :  59.20304046246274\n",
      "         ('m3', 'm10') : 26.627053911388696\n",
      "          ('m3', 'm2') :               12.0\n",
      "          ('m3', 'm3') :                0.0\n",
      "          ('m3', 'm4') :   57.8013840664737\n",
      "          ('m3', 'm5') : 62.369864518050704\n",
      "          ('m3', 'm6') : 40.496913462633174\n",
      "          ('m3', 'm7') :  63.90618123468183\n",
      "          ('m3', 'm8') : 51.478150704935004\n",
      "          ('m3', 'm9') :  34.48187929913333\n",
      "          ('m3', 's1') :  69.06518659932803\n",
      "          ('m3', 's2') :   16.1245154965971\n",
      "          ('m3', 's3') :   8.06225774829855\n",
      "         ('m4', 'd-1') : 18.027756377319946\n",
      "          ('m4', 'd0') : 18.027756377319946\n",
      "          ('m4', 'm1') :  22.80350850198276\n",
      "         ('m4', 'm10') : 31.304951684997057\n",
      "          ('m4', 'm2') :  47.80167361086848\n",
      "          ('m4', 'm3') :   57.8013840664737\n",
      "          ('m4', 'm4') :                0.0\n",
      "          ('m4', 'm5') :  20.12461179749811\n",
      "          ('m4', 'm6') : 37.107950630558946\n",
      "          ('m4', 'm7') : 41.773197148410844\n",
      "          ('m4', 'm8') :   8.54400374531753\n",
      "          ('m4', 'm9') : 33.015148038438355\n",
      "          ('m4', 's1') : 30.083217912982647\n",
      "          ('m4', 's2') :  43.41658669218482\n",
      "          ('m4', 's3') :  50.99019513592785\n",
      "         ('m5', 'd-1') : 19.235384061671343\n",
      "          ('m5', 'd0') : 19.235384061671343\n",
      "          ('m5', 'm1') :                5.0\n",
      "         ('m5', 'm10') :  37.21558813185679\n",
      "          ('m5', 'm2') : 55.226805085936306\n",
      "          ('m5', 'm3') : 62.369864518050704\n",
      "          ('m5', 'm4') :  20.12461179749811\n",
      "          ('m5', 'm5') :                0.0\n",
      "          ('m5', 'm6') : 28.460498941515414\n",
      "          ('m5', 'm7') : 23.021728866442675\n",
      "          ('m5', 'm8') :  26.68332812825267\n",
      "          ('m5', 'm9') : 29.410882339705484\n",
      "          ('m5', 's1') : 10.198039027185569\n",
      "          ('m5', 's2') : 51.478150704935004\n",
      "          ('m5', 's3') :  54.48853090330111\n",
      "         ('m6', 'd-1') : 19.697715603592208\n",
      "          ('m6', 'd0') : 19.697715603592208\n",
      "          ('m6', 'm1') : 23.769728648009426\n",
      "         ('m6', 'm10') : 24.351591323771842\n",
      "          ('m6', 'm2') :  38.05259518088089\n",
      "          ('m6', 'm3') : 40.496913462633174\n",
      "          ('m6', 'm4') : 37.107950630558946\n",
      "          ('m6', 'm5') : 28.460498941515414\n",
      "          ('m6', 'm6') :                0.0\n",
      "          ('m6', 'm7') :  23.40939982143925\n",
      "          ('m6', 'm8') :  37.12142238654117\n",
      "          ('m6', 'm9') :   8.54400374531753\n",
      "          ('m6', 's1') : 31.400636936215164\n",
      "          ('m6', 's2') :  36.05551275463989\n",
      "          ('m6', 's3') :  32.57299494980466\n",
      "         ('m7', 'd-1') : 31.622776601683793\n",
      "          ('m7', 'd0') : 31.622776601683793\n",
      "          ('m7', 'm1') :   19.1049731745428\n",
      "         ('m7', 'm10') :               45.0\n",
      "          ('m7', 'm2') :   60.8276253029822\n",
      "          ('m7', 'm3') :  63.90618123468183\n",
      "          ('m7', 'm4') : 41.773197148410844\n",
      "          ('m7', 'm5') : 23.021728866442675\n",
      "          ('m7', 'm6') :  23.40939982143925\n",
      "          ('m7', 'm7') :                0.0\n",
      "          ('m7', 'm8') :  46.32493928760188\n",
      "          ('m7', 'm9') :   30.4138126514911\n",
      "          ('m7', 's1') :  17.26267650163207\n",
      "          ('m7', 's2') : 58.309518948453004\n",
      "          ('m7', 's3') :  55.97320787662612\n",
      "         ('m8', 'd-1') :   17.4928556845359\n",
      "          ('m8', 'd0') :   17.4928556845359\n",
      "          ('m8', 'm1') : 28.231188426986208\n",
      "         ('m8', 'm10') : 25.709920264364882\n",
      "          ('m8', 'm2') :   40.8166632639171\n",
      "          ('m8', 'm3') : 51.478150704935004\n",
      "          ('m8', 'm4') :   8.54400374531753\n",
      "          ('m8', 'm5') :  26.68332812825267\n",
      "          ('m8', 'm6') :  37.12142238654117\n",
      "          ('m8', 'm7') :  46.32493928760188\n",
      "          ('m8', 'm8') :                0.0\n",
      "          ('m8', 'm9') :  31.32091952673165\n",
      "          ('m8', 's1') :  36.87817782917155\n",
      "          ('m8', 's2') : 36.359317925395686\n",
      "          ('m8', 's3') : 45.221676218380054\n",
      "         ('m9', 'd-1') :               15.0\n",
      "          ('m9', 'd0') :               15.0\n",
      "          ('m9', 'm1') : 25.495097567963924\n",
      "         ('m9', 'm10') : 15.811388300841896\n",
      "          ('m9', 'm2') :   30.4138126514911\n",
      "          ('m9', 'm3') :  34.48187929913333\n",
      "          ('m9', 'm4') : 33.015148038438355\n",
      "          ('m9', 'm5') : 29.410882339705484\n",
      "          ('m9', 'm6') :   8.54400374531753\n",
      "          ('m9', 'm7') :   30.4138126514911\n",
      "          ('m9', 'm8') :  31.32091952673165\n",
      "          ('m9', 'm9') :                0.0\n",
      "          ('m9', 's1') : 34.828149534535996\n",
      "          ('m9', 's2') :   28.0178514522438\n",
      "          ('m9', 's3') : 26.419689627245813\n",
      "         ('s1', 'd-1') : 27.892651361962706\n",
      "          ('s1', 'd0') : 27.892651361962706\n",
      "          ('s1', 'm1') :  10.44030650891055\n",
      "         ('s1', 'm10') :  45.31004303683677\n",
      "          ('s1', 'm2') : 63.071388124885914\n",
      "          ('s1', 'm3') :  69.06518659932803\n",
      "          ('s1', 'm4') : 30.083217912982647\n",
      "          ('s1', 'm5') : 10.198039027185569\n",
      "          ('s1', 'm6') : 31.400636936215164\n",
      "          ('s1', 'm7') :  17.26267650163207\n",
      "          ('s1', 'm8') :  36.87817782917155\n",
      "          ('s1', 'm9') : 34.828149534535996\n",
      "          ('s1', 's1') :                0.0\n",
      "          ('s1', 's2') :  59.61543424315552\n",
      "          ('s1', 's3') : 61.032778078668514\n",
      "         ('s2', 'd-1') :   32.2490309931942\n",
      "          ('s2', 'd0') :   32.2490309931942\n",
      "          ('s2', 'm1') :  49.24428900898052\n",
      "         ('s2', 'm10') : 14.317821063276353\n",
      "          ('s2', 'm2') :   4.47213595499958\n",
      "          ('s2', 'm3') :   16.1245154965971\n",
      "          ('s2', 'm4') :  43.41658669218482\n",
      "          ('s2', 'm5') : 51.478150704935004\n",
      "          ('s2', 'm6') :  36.05551275463989\n",
      "          ('s2', 'm7') : 58.309518948453004\n",
      "          ('s2', 'm8') : 36.359317925395686\n",
      "          ('s2', 'm9') :   28.0178514522438\n",
      "          ('s2', 's1') :  59.61543424315552\n",
      "          ('s2', 's2') :                0.0\n",
      "          ('s2', 's3') :               13.0\n",
      "         ('s3', 'd-1') : 36.235341863986875\n",
      "          ('s3', 'd0') : 36.235341863986875\n",
      "          ('s3', 'm1') :  51.22499389946279\n",
      "         ('s3', 'm10') : 19.697715603592208\n",
      "          ('s3', 'm2') :  10.63014581273465\n",
      "          ('s3', 'm3') :   8.06225774829855\n",
      "          ('s3', 'm4') :  50.99019513592785\n",
      "          ('s3', 'm5') :  54.48853090330111\n",
      "          ('s3', 'm6') :  32.57299494980466\n",
      "          ('s3', 'm7') :  55.97320787662612\n",
      "          ('s3', 'm8') : 45.221676218380054\n",
      "          ('s3', 'm9') : 26.419689627245813\n",
      "          ('s3', 's1') : 61.032778078668514\n",
      "          ('s3', 's2') :               13.0\n",
      "          ('s3', 's3') :                0.0\n",
      "\n",
      "2 Var Declarations\n",
      "    u : Size=14, Index=V1\n",
      "        Key : Lower : Value : Upper : Fixed : Stale : Domain\n",
      "        d-1 :     0 :  14.0 :    14 : False : False : NonNegativeIntegers\n",
      "         m1 :     0 :   3.0 :    14 : False : False : NonNegativeIntegers\n",
      "        m10 :     0 :  13.0 :    14 : False : False : NonNegativeIntegers\n",
      "         m2 :     0 :  11.0 :    14 : False : False : NonNegativeIntegers\n",
      "         m3 :     0 :  10.0 :    14 : False : False : NonNegativeIntegers\n",
      "         m4 :     0 :   1.0 :    14 : False : False : NonNegativeIntegers\n",
      "         m5 :     0 :   2.0 :    14 : False : False : NonNegativeIntegers\n",
      "         m6 :     0 :   6.0 :    14 : False : False : NonNegativeIntegers\n",
      "         m7 :     0 :   5.0 :    14 : False : False : NonNegativeIntegers\n",
      "         m8 :     0 :   0.0 :    14 : False : False : NonNegativeIntegers\n",
      "         m9 :     0 :   7.0 :    14 : False : False : NonNegativeIntegers\n",
      "         s1 :     0 :   4.0 :    14 : False : False : NonNegativeIntegers\n",
      "         s2 :     0 :  12.0 :    14 : False : False : NonNegativeIntegers\n",
      "         s3 :     0 :   8.0 :    14 : False : False : NonNegativeIntegers\n",
      "    xgamma : Size=225, Index=E\n",
      "        Key            : Lower : Value : Upper : Fixed : Stale : Domain\n",
      "        ('d-1', 'd-1') :     0 :  None :     1 : False :  True : Boolean\n",
      "         ('d-1', 'd0') :     0 :   1.0 :     1 : False : False : Boolean\n",
      "         ('d-1', 'm1') :     0 :  -0.0 :     1 : False : False : Boolean\n",
      "        ('d-1', 'm10') :     0 :  -0.0 :     1 : False : False : Boolean\n",
      "         ('d-1', 'm2') :     0 :  -0.0 :     1 : False : False : Boolean\n",
      "         ('d-1', 'm3') :     0 :  -0.0 :     1 : False : False : Boolean\n",
      "         ('d-1', 'm4') :     0 :  -0.0 :     1 : False : False : Boolean\n",
      "         ('d-1', 'm5') :     0 :  -0.0 :     1 : False : False : Boolean\n",
      "         ('d-1', 'm6') :     0 :  -0.0 :     1 : False : False : Boolean\n",
      "         ('d-1', 'm7') :     0 :  -0.0 :     1 : False : False : Boolean\n",
      "         ('d-1', 'm8') :     0 :   0.0 :     1 : False : False : Boolean\n",
      "         ('d-1', 'm9') :     0 :  -0.0 :     1 : False : False : Boolean\n",
      "         ('d-1', 's1') :     0 :  -0.0 :     1 : False : False : Boolean\n",
      "         ('d-1', 's2') :     0 :  -0.0 :     1 : False : False : Boolean\n",
      "         ('d-1', 's3') :     0 :  -0.0 :     1 : False : False : Boolean\n",
      "         ('d0', 'd-1') :     0 :   0.0 :     1 : False : False : Boolean\n",
      "          ('d0', 'd0') :     0 :  None :     1 : False :  True : Boolean\n",
      "          ('d0', 'm1') :     0 :  -0.0 :     1 : False : False : Boolean\n",
      "         ('d0', 'm10') :     0 :  -0.0 :     1 : False : False : Boolean\n",
      "          ('d0', 'm2') :     0 :  -0.0 :     1 : False : False : Boolean\n",
      "          ('d0', 'm3') :     0 :  -0.0 :     1 : False : False : Boolean\n",
      "          ('d0', 'm4') :     0 :  -0.0 :     1 : False : False : Boolean\n",
      "          ('d0', 'm5') :     0 :  -0.0 :     1 : False : False : Boolean\n",
      "          ('d0', 'm6') :     0 :  -0.0 :     1 : False : False : Boolean\n",
      "          ('d0', 'm7') :     0 :  -0.0 :     1 : False : False : Boolean\n",
      "          ('d0', 'm8') :     0 :   1.0 :     1 : False : False : Boolean\n",
      "          ('d0', 'm9') :     0 :  -0.0 :     1 : False : False : Boolean\n",
      "          ('d0', 's1') :     0 :  -0.0 :     1 : False : False : Boolean\n",
      "          ('d0', 's2') :     0 :  -0.0 :     1 : False : False : Boolean\n",
      "          ('d0', 's3') :     0 :  -0.0 :     1 : False : False : Boolean\n",
      "         ('m1', 'd-1') :     0 :  -0.0 :     1 : False : False : Boolean\n",
      "          ('m1', 'd0') :     0 :  -0.0 :     1 : False : False : Boolean\n",
      "          ('m1', 'm1') :     0 :  None :     1 : False :  True : Boolean\n",
      "         ('m1', 'm10') :     0 :  -0.0 :     1 : False : False : Boolean\n",
      "          ('m1', 'm2') :     0 :  -0.0 :     1 : False : False : Boolean\n",
      "          ('m1', 'm3') :     0 :  -0.0 :     1 : False : False : Boolean\n",
      "          ('m1', 'm4') :     0 :  -0.0 :     1 : False : False : Boolean\n",
      "          ('m1', 'm5') :     0 :  -0.0 :     1 : False : False : Boolean\n",
      "          ('m1', 'm6') :     0 :  -0.0 :     1 : False : False : Boolean\n",
      "          ('m1', 'm7') :     0 :  -0.0 :     1 : False : False : Boolean\n",
      "          ('m1', 'm8') :     0 :  -0.0 :     1 : False : False : Boolean\n",
      "          ('m1', 'm9') :     0 :  -0.0 :     1 : False : False : Boolean\n",
      "          ('m1', 's1') :     0 :   1.0 :     1 : False : False : Boolean\n",
      "          ('m1', 's2') :     0 :  -0.0 :     1 : False : False : Boolean\n",
      "          ('m1', 's3') :     0 :  -0.0 :     1 : False : False : Boolean\n",
      "        ('m10', 'd-1') :     0 :   1.0 :     1 : False : False : Boolean\n",
      "         ('m10', 'd0') :     0 :   0.0 :     1 : False : False : Boolean\n",
      "         ('m10', 'm1') :     0 :  -0.0 :     1 : False : False : Boolean\n",
      "        ('m10', 'm10') :     0 :  None :     1 : False :  True : Boolean\n",
      "         ('m10', 'm2') :     0 :  -0.0 :     1 : False : False : Boolean\n",
      "         ('m10', 'm3') :     0 :  -0.0 :     1 : False : False : Boolean\n",
      "         ('m10', 'm4') :     0 :  -0.0 :     1 : False : False : Boolean\n",
      "         ('m10', 'm5') :     0 :  -0.0 :     1 : False : False : Boolean\n",
      "         ('m10', 'm6') :     0 :  -0.0 :     1 : False : False : Boolean\n",
      "         ('m10', 'm7') :     0 :  -0.0 :     1 : False : False : Boolean\n",
      "         ('m10', 'm8') :     0 :  -0.0 :     1 : False : False : Boolean\n",
      "         ('m10', 'm9') :     0 :  -0.0 :     1 : False : False : Boolean\n",
      "         ('m10', 's1') :     0 :  -0.0 :     1 : False : False : Boolean\n",
      "         ('m10', 's2') :     0 :   0.0 :     1 : False : False : Boolean\n",
      "         ('m10', 's3') :     0 :   0.0 :     1 : False : False : Boolean\n",
      "         ('m2', 'd-1') :     0 :  -0.0 :     1 : False : False : Boolean\n",
      "          ('m2', 'd0') :     0 :  -0.0 :     1 : False : False : Boolean\n",
      "          ('m2', 'm1') :     0 :  -0.0 :     1 : False : False : Boolean\n",
      "         ('m2', 'm10') :     0 :  -0.0 :     1 : False : False : Boolean\n",
      "          ('m2', 'm2') :     0 :  None :     1 : False :  True : Boolean\n",
      "          ('m2', 'm3') :     0 :   0.0 :     1 : False : False : Boolean\n",
      "          ('m2', 'm4') :     0 :  -0.0 :     1 : False : False : Boolean\n",
      "          ('m2', 'm5') :     0 :  -0.0 :     1 : False : False : Boolean\n",
      "          ('m2', 'm6') :     0 :  -0.0 :     1 : False : False : Boolean\n",
      "          ('m2', 'm7') :     0 :  -0.0 :     1 : False : False : Boolean\n",
      "          ('m2', 'm8') :     0 :  -0.0 :     1 : False : False : Boolean\n",
      "          ('m2', 'm9') :     0 :  -0.0 :     1 : False : False : Boolean\n",
      "          ('m2', 's1') :     0 :  -0.0 :     1 : False : False : Boolean\n",
      "          ('m2', 's2') :     0 :   1.0 :     1 : False : False : Boolean\n",
      "          ('m2', 's3') :     0 :  -0.0 :     1 : False : False : Boolean\n",
      "         ('m3', 'd-1') :     0 :  -0.0 :     1 : False : False : Boolean\n",
      "          ('m3', 'd0') :     0 :  -0.0 :     1 : False : False : Boolean\n",
      "          ('m3', 'm1') :     0 :  -0.0 :     1 : False : False : Boolean\n",
      "         ('m3', 'm10') :     0 :  -0.0 :     1 : False : False : Boolean\n",
      "          ('m3', 'm2') :     0 :   1.0 :     1 : False : False : Boolean\n",
      "          ('m3', 'm3') :     0 :  None :     1 : False :  True : Boolean\n",
      "          ('m3', 'm4') :     0 :  -0.0 :     1 : False : False : Boolean\n",
      "          ('m3', 'm5') :     0 :  -0.0 :     1 : False : False : Boolean\n",
      "          ('m3', 'm6') :     0 :  -0.0 :     1 : False : False : Boolean\n",
      "          ('m3', 'm7') :     0 :  -0.0 :     1 : False : False : Boolean\n",
      "          ('m3', 'm8') :     0 :  -0.0 :     1 : False : False : Boolean\n",
      "          ('m3', 'm9') :     0 :  -0.0 :     1 : False : False : Boolean\n",
      "          ('m3', 's1') :     0 :  -0.0 :     1 : False : False : Boolean\n",
      "          ('m3', 's2') :     0 :  -0.0 :     1 : False : False : Boolean\n",
      "          ('m3', 's3') :     0 :   0.0 :     1 : False : False : Boolean\n",
      "         ('m4', 'd-1') :     0 :  -0.0 :     1 : False : False : Boolean\n",
      "          ('m4', 'd0') :     0 :  -0.0 :     1 : False : False : Boolean\n",
      "          ('m4', 'm1') :     0 :  -0.0 :     1 : False : False : Boolean\n",
      "         ('m4', 'm10') :     0 :  -0.0 :     1 : False : False : Boolean\n",
      "          ('m4', 'm2') :     0 :  -0.0 :     1 : False : False : Boolean\n",
      "          ('m4', 'm3') :     0 :  -0.0 :     1 : False : False : Boolean\n",
      "          ('m4', 'm4') :     0 :  None :     1 : False :  True : Boolean\n",
      "          ('m4', 'm5') :     0 :   1.0 :     1 : False : False : Boolean\n",
      "          ('m4', 'm6') :     0 :  -0.0 :     1 : False : False : Boolean\n",
      "          ('m4', 'm7') :     0 :  -0.0 :     1 : False : False : Boolean\n",
      "          ('m4', 'm8') :     0 :   0.0 :     1 : False : False : Boolean\n",
      "          ('m4', 'm9') :     0 :  -0.0 :     1 : False : False : Boolean\n",
      "          ('m4', 's1') :     0 :   0.0 :     1 : False : False : Boolean\n",
      "          ('m4', 's2') :     0 :  -0.0 :     1 : False : False : Boolean\n",
      "          ('m4', 's3') :     0 :  -0.0 :     1 : False : False : Boolean\n",
      "         ('m5', 'd-1') :     0 :  -0.0 :     1 : False : False : Boolean\n",
      "          ('m5', 'd0') :     0 :  -0.0 :     1 : False : False : Boolean\n",
      "          ('m5', 'm1') :     0 :   1.0 :     1 : False : False : Boolean\n",
      "         ('m5', 'm10') :     0 :  -0.0 :     1 : False : False : Boolean\n",
      "          ('m5', 'm2') :     0 :  -0.0 :     1 : False : False : Boolean\n",
      "          ('m5', 'm3') :     0 :  -0.0 :     1 : False : False : Boolean\n",
      "          ('m5', 'm4') :     0 :   0.0 :     1 : False : False : Boolean\n",
      "          ('m5', 'm5') :     0 :  None :     1 : False :  True : Boolean\n",
      "          ('m5', 'm6') :     0 :  -0.0 :     1 : False : False : Boolean\n",
      "          ('m5', 'm7') :     0 :  -0.0 :     1 : False : False : Boolean\n",
      "          ('m5', 'm8') :     0 :   0.0 :     1 : False : False : Boolean\n",
      "          ('m5', 'm9') :     0 :  -0.0 :     1 : False : False : Boolean\n",
      "          ('m5', 's1') :     0 :  -0.0 :     1 : False : False : Boolean\n",
      "          ('m5', 's2') :     0 :  -0.0 :     1 : False : False : Boolean\n",
      "          ('m5', 's3') :     0 :  -0.0 :     1 : False : False : Boolean\n",
      "         ('m6', 'd-1') :     0 :  -0.0 :     1 : False : False : Boolean\n",
      "          ('m6', 'd0') :     0 :  -0.0 :     1 : False : False : Boolean\n",
      "          ('m6', 'm1') :     0 :   0.0 :     1 : False : False : Boolean\n",
      "         ('m6', 'm10') :     0 :  -0.0 :     1 : False : False : Boolean\n",
      "          ('m6', 'm2') :     0 :  -0.0 :     1 : False : False : Boolean\n",
      "          ('m6', 'm3') :     0 :  -0.0 :     1 : False : False : Boolean\n",
      "          ('m6', 'm4') :     0 :  -0.0 :     1 : False : False : Boolean\n",
      "          ('m6', 'm5') :     0 :   0.0 :     1 : False : False : Boolean\n",
      "          ('m6', 'm6') :     0 :  None :     1 : False :  True : Boolean\n",
      "          ('m6', 'm7') :     0 :  -0.0 :     1 : False : False : Boolean\n",
      "          ('m6', 'm8') :     0 :  -0.0 :     1 : False : False : Boolean\n",
      "          ('m6', 'm9') :     0 :   1.0 :     1 : False : False : Boolean\n",
      "          ('m6', 's1') :     0 :   0.0 :     1 : False : False : Boolean\n",
      "          ('m6', 's2') :     0 :  -0.0 :     1 : False : False : Boolean\n",
      "          ('m6', 's3') :     0 :  -0.0 :     1 : False : False : Boolean\n",
      "         ('m7', 'd-1') :     0 :  -0.0 :     1 : False : False : Boolean\n",
      "          ('m7', 'd0') :     0 :  -0.0 :     1 : False : False : Boolean\n",
      "          ('m7', 'm1') :     0 :  -0.0 :     1 : False : False : Boolean\n",
      "         ('m7', 'm10') :     0 :  -0.0 :     1 : False : False : Boolean\n",
      "          ('m7', 'm2') :     0 :  -0.0 :     1 : False : False : Boolean\n",
      "          ('m7', 'm3') :     0 :  -0.0 :     1 : False : False : Boolean\n",
      "          ('m7', 'm4') :     0 :  -0.0 :     1 : False : False : Boolean\n",
      "          ('m7', 'm5') :     0 :  -0.0 :     1 : False : False : Boolean\n",
      "          ('m7', 'm6') :     0 :   1.0 :     1 : False : False : Boolean\n",
      "          ('m7', 'm7') :     0 :  None :     1 : False :  True : Boolean\n",
      "          ('m7', 'm8') :     0 :  -0.0 :     1 : False : False : Boolean\n",
      "          ('m7', 'm9') :     0 :  -0.0 :     1 : False : False : Boolean\n",
      "          ('m7', 's1') :     0 :  -0.0 :     1 : False : False : Boolean\n",
      "          ('m7', 's2') :     0 :  -0.0 :     1 : False : False : Boolean\n",
      "          ('m7', 's3') :     0 :  -0.0 :     1 : False : False : Boolean\n",
      "         ('m8', 'd-1') :     0 :   0.0 :     1 : False : False : Boolean\n",
      "          ('m8', 'd0') :     0 :  -0.0 :     1 : False : False : Boolean\n",
      "          ('m8', 'm1') :     0 :  -0.0 :     1 : False : False : Boolean\n",
      "         ('m8', 'm10') :     0 :  -0.0 :     1 : False : False : Boolean\n",
      "          ('m8', 'm2') :     0 :  -0.0 :     1 : False : False : Boolean\n",
      "          ('m8', 'm3') :     0 :  -0.0 :     1 : False : False : Boolean\n",
      "          ('m8', 'm4') :     0 :   1.0 :     1 : False : False : Boolean\n",
      "          ('m8', 'm5') :     0 :  -0.0 :     1 : False : False : Boolean\n",
      "          ('m8', 'm6') :     0 :  -0.0 :     1 : False : False : Boolean\n",
      "          ('m8', 'm7') :     0 :  -0.0 :     1 : False : False : Boolean\n",
      "          ('m8', 'm8') :     0 :  None :     1 : False :  True : Boolean\n",
      "          ('m8', 'm9') :     0 :  -0.0 :     1 : False : False : Boolean\n",
      "          ('m8', 's1') :     0 :  -0.0 :     1 : False : False : Boolean\n",
      "          ('m8', 's2') :     0 :  -0.0 :     1 : False : False : Boolean\n",
      "          ('m8', 's3') :     0 :  -0.0 :     1 : False : False : Boolean\n",
      "         ('m9', 'd-1') :     0 :  -0.0 :     1 : False : False : Boolean\n",
      "          ('m9', 'd0') :     0 :  -0.0 :     1 : False : False : Boolean\n",
      "          ('m9', 'm1') :     0 :  -0.0 :     1 : False : False : Boolean\n",
      "         ('m9', 'm10') :     0 :  -0.0 :     1 : False : False : Boolean\n",
      "          ('m9', 'm2') :     0 :  -0.0 :     1 : False : False : Boolean\n",
      "          ('m9', 'm3') :     0 :  -0.0 :     1 : False : False : Boolean\n",
      "          ('m9', 'm4') :     0 :  -0.0 :     1 : False : False : Boolean\n",
      "          ('m9', 'm5') :     0 :  -0.0 :     1 : False : False : Boolean\n",
      "          ('m9', 'm6') :     0 :   0.0 :     1 : False : False : Boolean\n",
      "          ('m9', 'm7') :     0 :  -0.0 :     1 : False : False : Boolean\n",
      "          ('m9', 'm8') :     0 :  -0.0 :     1 : False : False : Boolean\n",
      "          ('m9', 'm9') :     0 :  None :     1 : False :  True : Boolean\n",
      "          ('m9', 's1') :     0 :  -0.0 :     1 : False : False : Boolean\n",
      "          ('m9', 's2') :     0 :  -0.0 :     1 : False : False : Boolean\n",
      "          ('m9', 's3') :     0 :   1.0 :     1 : False : False : Boolean\n",
      "         ('s1', 'd-1') :     0 :  -0.0 :     1 : False : False : Boolean\n",
      "          ('s1', 'd0') :     0 :  -0.0 :     1 : False : False : Boolean\n",
      "          ('s1', 'm1') :     0 :  -0.0 :     1 : False : False : Boolean\n",
      "         ('s1', 'm10') :     0 :  -0.0 :     1 : False : False : Boolean\n",
      "          ('s1', 'm2') :     0 :  -0.0 :     1 : False : False : Boolean\n",
      "          ('s1', 'm3') :     0 :  -0.0 :     1 : False : False : Boolean\n",
      "          ('s1', 'm4') :     0 :  -0.0 :     1 : False : False : Boolean\n",
      "          ('s1', 'm5') :     0 :   0.0 :     1 : False : False : Boolean\n",
      "          ('s1', 'm6') :     0 :  -0.0 :     1 : False : False : Boolean\n",
      "          ('s1', 'm7') :     0 :   1.0 :     1 : False : False : Boolean\n",
      "          ('s1', 'm8') :     0 :  -0.0 :     1 : False : False : Boolean\n",
      "          ('s1', 'm9') :     0 :  -0.0 :     1 : False : False : Boolean\n",
      "          ('s1', 's1') :     0 :  None :     1 : False :  True : Boolean\n",
      "          ('s1', 's2') :     0 :  -0.0 :     1 : False : False : Boolean\n",
      "          ('s1', 's3') :     0 :  -0.0 :     1 : False : False : Boolean\n",
      "         ('s2', 'd-1') :     0 :  -0.0 :     1 : False : False : Boolean\n",
      "          ('s2', 'd0') :     0 :  -0.0 :     1 : False : False : Boolean\n",
      "          ('s2', 'm1') :     0 :  -0.0 :     1 : False : False : Boolean\n",
      "         ('s2', 'm10') :     0 :   1.0 :     1 : False : False : Boolean\n",
      "          ('s2', 'm2') :     0 :  -0.0 :     1 : False : False : Boolean\n",
      "          ('s2', 'm3') :     0 :  -0.0 :     1 : False : False : Boolean\n",
      "          ('s2', 'm4') :     0 :   0.0 :     1 : False : False : Boolean\n",
      "          ('s2', 'm5') :     0 :  -0.0 :     1 : False : False : Boolean\n",
      "          ('s2', 'm6') :     0 :  -0.0 :     1 : False : False : Boolean\n",
      "          ('s2', 'm7') :     0 :  -0.0 :     1 : False : False : Boolean\n",
      "          ('s2', 'm8') :     0 :  -0.0 :     1 : False : False : Boolean\n",
      "          ('s2', 'm9') :     0 :  -0.0 :     1 : False : False : Boolean\n",
      "          ('s2', 's1') :     0 :  -0.0 :     1 : False : False : Boolean\n",
      "          ('s2', 's2') :     0 :  None :     1 : False :  True : Boolean\n",
      "          ('s2', 's3') :     0 :  -0.0 :     1 : False : False : Boolean\n",
      "         ('s3', 'd-1') :     0 :  -0.0 :     1 : False : False : Boolean\n",
      "          ('s3', 'd0') :     0 :  -0.0 :     1 : False : False : Boolean\n",
      "          ('s3', 'm1') :     0 :  -0.0 :     1 : False : False : Boolean\n",
      "         ('s3', 'm10') :     0 :  -0.0 :     1 : False : False : Boolean\n",
      "          ('s3', 'm2') :     0 :  -0.0 :     1 : False : False : Boolean\n",
      "          ('s3', 'm3') :     0 :   1.0 :     1 : False : False : Boolean\n",
      "          ('s3', 'm4') :     0 :  -0.0 :     1 : False : False : Boolean\n",
      "          ('s3', 'm5') :     0 :  -0.0 :     1 : False : False : Boolean\n",
      "          ('s3', 'm6') :     0 :  -0.0 :     1 : False : False : Boolean\n",
      "          ('s3', 'm7') :     0 :  -0.0 :     1 : False : False : Boolean\n",
      "          ('s3', 'm8') :     0 :  -0.0 :     1 : False : False : Boolean\n",
      "          ('s3', 'm9') :     0 :  -0.0 :     1 : False : False : Boolean\n",
      "          ('s3', 's1') :     0 :  -0.0 :     1 : False : False : Boolean\n",
      "          ('s3', 's2') :     0 :  -0.0 :     1 : False : False : Boolean\n",
      "          ('s3', 's3') :     0 :  None :     1 : False :  True : Boolean\n",
      "\n",
      "1 Objective Declarations\n",
      "    obj : Size=1, Index=None, Active=True\n",
      "        Key  : Active : Sense    : Expression\n",
      "        None :   True : minimize : 27.892651361962706*xgamma[d0,s1] + 32.2490309931942*xgamma[d0,s2] + 36.235341863986875*xgamma[d0,s3] + 17.46424919657298*xgamma[d0,m1] + 36.05551275463989*xgamma[d0,m2] + 43.86342439892262*xgamma[d0,m3] + 18.027756377319946*xgamma[d0,m4] + 19.235384061671343*xgamma[d0,m5] + 19.697715603592208*xgamma[d0,m6] + 31.622776601683793*xgamma[d0,m7] + 17.4928556845359*xgamma[d0,m8] + 15.0*xgamma[d0,m9] + 18.027756377319946*xgamma[d0,m10] + 27.892651361962706*xgamma[d-1,s1] + 32.2490309931942*xgamma[d-1,s2] + 36.235341863986875*xgamma[d-1,s3] + 17.46424919657298*xgamma[d-1,m1] + 36.05551275463989*xgamma[d-1,m2] + 43.86342439892262*xgamma[d-1,m3] + 18.027756377319946*xgamma[d-1,m4] + 19.235384061671343*xgamma[d-1,m5] + 19.697715603592208*xgamma[d-1,m6] + 31.622776601683793*xgamma[d-1,m7] + 17.4928556845359*xgamma[d-1,m8] + 15.0*xgamma[d-1,m9] + 18.027756377319946*xgamma[d-1,m10] + 27.892651361962706*xgamma[s1,d0] + 27.892651361962706*xgamma[s1,d-1] + 59.61543424315552*xgamma[s1,s2] + 61.032778078668514*xgamma[s1,s3] + 10.44030650891055*xgamma[s1,m1] + 63.071388124885914*xgamma[s1,m2] + 69.06518659932803*xgamma[s1,m3] + 30.083217912982647*xgamma[s1,m4] + 10.198039027185569*xgamma[s1,m5] + 31.400636936215164*xgamma[s1,m6] + 17.26267650163207*xgamma[s1,m7] + 36.87817782917155*xgamma[s1,m8] + 34.828149534535996*xgamma[s1,m9] + 45.31004303683677*xgamma[s1,m10] + 32.2490309931942*xgamma[s2,d0] + 32.2490309931942*xgamma[s2,d-1] + 59.61543424315552*xgamma[s2,s1] + 13.0*xgamma[s2,s3] + 49.24428900898052*xgamma[s2,m1] + 4.47213595499958*xgamma[s2,m2] + 16.1245154965971*xgamma[s2,m3] + 43.41658669218482*xgamma[s2,m4] + 51.478150704935004*xgamma[s2,m5] + 36.05551275463989*xgamma[s2,m6] + 58.309518948453004*xgamma[s2,m7] + 36.359317925395686*xgamma[s2,m8] + 28.0178514522438*xgamma[s2,m9] + 14.317821063276353*xgamma[s2,m10] + 36.235341863986875*xgamma[s3,d0] + 36.235341863986875*xgamma[s3,d-1] + 61.032778078668514*xgamma[s3,s1] + 13.0*xgamma[s3,s2] + 51.22499389946279*xgamma[s3,m1] + 10.63014581273465*xgamma[s3,m2] + 8.06225774829855*xgamma[s3,m3] + 50.99019513592785*xgamma[s3,m4] + 54.48853090330111*xgamma[s3,m5] + 32.57299494980466*xgamma[s3,m6] + 55.97320787662612*xgamma[s3,m7] + 45.221676218380054*xgamma[s3,m8] + 26.419689627245813*xgamma[s3,m9] + 19.697715603592208*xgamma[s3,m10] + 17.46424919657298*xgamma[m1,d0] + 17.46424919657298*xgamma[m1,d-1] + 10.44030650891055*xgamma[m1,s1] + 49.24428900898052*xgamma[m1,s2] + 51.22499389946279*xgamma[m1,s3] + 52.773099207835045*xgamma[m1,m2] + 59.20304046246274*xgamma[m1,m3] + 22.80350850198276*xgamma[m1,m4] + 5.0*xgamma[m1,m5] + 23.769728648009426*xgamma[m1,m6] + 19.1049731745428*xgamma[m1,m7] + 28.231188426986208*xgamma[m1,m8] + 25.495097567963924*xgamma[m1,m9] + 34.92849839314596*xgamma[m1,m10] + 36.05551275463989*xgamma[m2,d0] + 36.05551275463989*xgamma[m2,d-1] + 63.071388124885914*xgamma[m2,s1] + 4.47213595499958*xgamma[m2,s2] + 10.63014581273465*xgamma[m2,s3] + 52.773099207835045*xgamma[m2,m1] + 12.0*xgamma[m2,m3] + 47.80167361086848*xgamma[m2,m4] + 55.226805085936306*xgamma[m2,m5] + 38.05259518088089*xgamma[m2,m6] + 60.8276253029822*xgamma[m2,m7] + 40.8166632639171*xgamma[m2,m8] + 30.4138126514911*xgamma[m2,m9] + 18.027756377319946*xgamma[m2,m10] + 43.86342439892262*xgamma[m3,d0] + 43.86342439892262*xgamma[m3,d-1] + 69.06518659932803*xgamma[m3,s1] + 16.1245154965971*xgamma[m3,s2] + 8.06225774829855*xgamma[m3,s3] + 59.20304046246274*xgamma[m3,m1] + 12.0*xgamma[m3,m2] + 57.8013840664737*xgamma[m3,m4] + 62.369864518050704*xgamma[m3,m5] + 40.496913462633174*xgamma[m3,m6] + 63.90618123468183*xgamma[m3,m7] + 51.478150704935004*xgamma[m3,m8] + 34.48187929913333*xgamma[m3,m9] + 26.627053911388696*xgamma[m3,m10] + 18.027756377319946*xgamma[m4,d0] + 18.027756377319946*xgamma[m4,d-1] + 30.083217912982647*xgamma[m4,s1] + 43.41658669218482*xgamma[m4,s2] + 50.99019513592785*xgamma[m4,s3] + 22.80350850198276*xgamma[m4,m1] + 47.80167361086848*xgamma[m4,m2] + 57.8013840664737*xgamma[m4,m3] + 20.12461179749811*xgamma[m4,m5] + 37.107950630558946*xgamma[m4,m6] + 41.773197148410844*xgamma[m4,m7] + 8.54400374531753*xgamma[m4,m8] + 33.015148038438355*xgamma[m4,m9] + 31.304951684997057*xgamma[m4,m10] + 19.235384061671343*xgamma[m5,d0] + 19.235384061671343*xgamma[m5,d-1] + 10.198039027185569*xgamma[m5,s1] + 51.478150704935004*xgamma[m5,s2] + 54.48853090330111*xgamma[m5,s3] + 5.0*xgamma[m5,m1] + 55.226805085936306*xgamma[m5,m2] + 62.369864518050704*xgamma[m5,m3] + 20.12461179749811*xgamma[m5,m4] + 28.460498941515414*xgamma[m5,m6] + 23.021728866442675*xgamma[m5,m7] + 26.68332812825267*xgamma[m5,m8] + 29.410882339705484*xgamma[m5,m9] + 37.21558813185679*xgamma[m5,m10] + 19.697715603592208*xgamma[m6,d0] + 19.697715603592208*xgamma[m6,d-1] + 31.400636936215164*xgamma[m6,s1] + 36.05551275463989*xgamma[m6,s2] + 32.57299494980466*xgamma[m6,s3] + 23.769728648009426*xgamma[m6,m1] + 38.05259518088089*xgamma[m6,m2] + 40.496913462633174*xgamma[m6,m3] + 37.107950630558946*xgamma[m6,m4] + 28.460498941515414*xgamma[m6,m5] + 23.40939982143925*xgamma[m6,m7] + 37.12142238654117*xgamma[m6,m8] + 8.54400374531753*xgamma[m6,m9] + 24.351591323771842*xgamma[m6,m10] + 31.622776601683793*xgamma[m7,d0] + 31.622776601683793*xgamma[m7,d-1] + 17.26267650163207*xgamma[m7,s1] + 58.309518948453004*xgamma[m7,s2] + 55.97320787662612*xgamma[m7,s3] + 19.1049731745428*xgamma[m7,m1] + 60.8276253029822*xgamma[m7,m2] + 63.90618123468183*xgamma[m7,m3] + 41.773197148410844*xgamma[m7,m4] + 23.021728866442675*xgamma[m7,m5] + 23.40939982143925*xgamma[m7,m6] + 46.32493928760188*xgamma[m7,m8] + 30.4138126514911*xgamma[m7,m9] + 45.0*xgamma[m7,m10] + 17.4928556845359*xgamma[m8,d0] + 17.4928556845359*xgamma[m8,d-1] + 36.87817782917155*xgamma[m8,s1] + 36.359317925395686*xgamma[m8,s2] + 45.221676218380054*xgamma[m8,s3] + 28.231188426986208*xgamma[m8,m1] + 40.8166632639171*xgamma[m8,m2] + 51.478150704935004*xgamma[m8,m3] + 8.54400374531753*xgamma[m8,m4] + 26.68332812825267*xgamma[m8,m5] + 37.12142238654117*xgamma[m8,m6] + 46.32493928760188*xgamma[m8,m7] + 31.32091952673165*xgamma[m8,m9] + 25.709920264364882*xgamma[m8,m10] + 15.0*xgamma[m9,d0] + 15.0*xgamma[m9,d-1] + 34.828149534535996*xgamma[m9,s1] + 28.0178514522438*xgamma[m9,s2] + 26.419689627245813*xgamma[m9,s3] + 25.495097567963924*xgamma[m9,m1] + 30.4138126514911*xgamma[m9,m2] + 34.48187929913333*xgamma[m9,m3] + 33.015148038438355*xgamma[m9,m4] + 29.410882339705484*xgamma[m9,m5] + 8.54400374531753*xgamma[m9,m6] + 30.4138126514911*xgamma[m9,m7] + 31.32091952673165*xgamma[m9,m8] + 15.811388300841896*xgamma[m9,m10] + 18.027756377319946*xgamma[m10,d0] + 18.027756377319946*xgamma[m10,d-1] + 45.31004303683677*xgamma[m10,s1] + 14.317821063276353*xgamma[m10,s2] + 19.697715603592208*xgamma[m10,s3] + 34.92849839314596*xgamma[m10,m1] + 18.027756377319946*xgamma[m10,m2] + 26.627053911388696*xgamma[m10,m3] + 31.304951684997057*xgamma[m10,m4] + 37.21558813185679*xgamma[m10,m5] + 24.351591323771842*xgamma[m10,m6] + 45.0*xgamma[m10,m7] + 25.709920264364882*xgamma[m10,m8] + 15.811388300841896*xgamma[m10,m9]\n",
      "\n",
      "3 Constraint Declarations\n",
      "    constraint_in_arcs : Size=15, Index=V01, Active=True\n",
      "        Key : Lower : Body                                                                                                                                                                                                                                         : Upper : Active\n",
      "        d-1 :   1.0 : xgamma[d0,d-1] + xgamma[s1,d-1] + xgamma[s2,d-1] + xgamma[s3,d-1] + xgamma[m1,d-1] + xgamma[m2,d-1] + xgamma[m3,d-1] + xgamma[m4,d-1] + xgamma[m5,d-1] + xgamma[m6,d-1] + xgamma[m7,d-1] + xgamma[m8,d-1] + xgamma[m9,d-1] + xgamma[m10,d-1] :   1.0 :   True\n",
      "         d0 :   1.0 :              xgamma[d-1,d0] + xgamma[s1,d0] + xgamma[s2,d0] + xgamma[s3,d0] + xgamma[m1,d0] + xgamma[m2,d0] + xgamma[m3,d0] + xgamma[m4,d0] + xgamma[m5,d0] + xgamma[m6,d0] + xgamma[m7,d0] + xgamma[m8,d0] + xgamma[m9,d0] + xgamma[m10,d0] :   1.0 :   True\n",
      "         m1 :   1.0 :              xgamma[d0,m1] + xgamma[d-1,m1] + xgamma[s1,m1] + xgamma[s2,m1] + xgamma[s3,m1] + xgamma[m2,m1] + xgamma[m3,m1] + xgamma[m4,m1] + xgamma[m5,m1] + xgamma[m6,m1] + xgamma[m7,m1] + xgamma[m8,m1] + xgamma[m9,m1] + xgamma[m10,m1] :   1.0 :   True\n",
      "        m10 :   1.0 :                  xgamma[d0,m10] + xgamma[d-1,m10] + xgamma[s1,m10] + xgamma[s2,m10] + xgamma[s3,m10] + xgamma[m2,m10] + xgamma[m3,m10] + xgamma[m4,m10] + xgamma[m5,m10] + xgamma[m6,m10] + xgamma[m7,m10] + xgamma[m8,m10] + xgamma[m9,m10] :   1.0 :   True\n",
      "         m2 :   1.0 :              xgamma[d0,m2] + xgamma[d-1,m2] + xgamma[s1,m2] + xgamma[s2,m2] + xgamma[s3,m2] + xgamma[m1,m2] + xgamma[m3,m2] + xgamma[m4,m2] + xgamma[m5,m2] + xgamma[m6,m2] + xgamma[m7,m2] + xgamma[m8,m2] + xgamma[m9,m2] + xgamma[m10,m2] :   1.0 :   True\n",
      "         m3 :   1.0 :              xgamma[d0,m3] + xgamma[d-1,m3] + xgamma[s1,m3] + xgamma[s2,m3] + xgamma[s3,m3] + xgamma[m1,m3] + xgamma[m2,m3] + xgamma[m4,m3] + xgamma[m5,m3] + xgamma[m6,m3] + xgamma[m7,m3] + xgamma[m8,m3] + xgamma[m9,m3] + xgamma[m10,m3] :   1.0 :   True\n",
      "         m4 :   1.0 :              xgamma[d0,m4] + xgamma[d-1,m4] + xgamma[s1,m4] + xgamma[s2,m4] + xgamma[s3,m4] + xgamma[m1,m4] + xgamma[m2,m4] + xgamma[m3,m4] + xgamma[m5,m4] + xgamma[m6,m4] + xgamma[m7,m4] + xgamma[m8,m4] + xgamma[m9,m4] + xgamma[m10,m4] :   1.0 :   True\n",
      "         m5 :   1.0 :              xgamma[d0,m5] + xgamma[d-1,m5] + xgamma[s1,m5] + xgamma[s2,m5] + xgamma[s3,m5] + xgamma[m1,m5] + xgamma[m2,m5] + xgamma[m3,m5] + xgamma[m4,m5] + xgamma[m6,m5] + xgamma[m7,m5] + xgamma[m8,m5] + xgamma[m9,m5] + xgamma[m10,m5] :   1.0 :   True\n",
      "         m6 :   1.0 :              xgamma[d0,m6] + xgamma[d-1,m6] + xgamma[s1,m6] + xgamma[s2,m6] + xgamma[s3,m6] + xgamma[m1,m6] + xgamma[m2,m6] + xgamma[m3,m6] + xgamma[m4,m6] + xgamma[m5,m6] + xgamma[m7,m6] + xgamma[m8,m6] + xgamma[m9,m6] + xgamma[m10,m6] :   1.0 :   True\n",
      "         m7 :   1.0 :              xgamma[d0,m7] + xgamma[d-1,m7] + xgamma[s1,m7] + xgamma[s2,m7] + xgamma[s3,m7] + xgamma[m1,m7] + xgamma[m2,m7] + xgamma[m3,m7] + xgamma[m4,m7] + xgamma[m5,m7] + xgamma[m6,m7] + xgamma[m8,m7] + xgamma[m9,m7] + xgamma[m10,m7] :   1.0 :   True\n",
      "         m8 :   1.0 :              xgamma[d0,m8] + xgamma[d-1,m8] + xgamma[s1,m8] + xgamma[s2,m8] + xgamma[s3,m8] + xgamma[m1,m8] + xgamma[m2,m8] + xgamma[m3,m8] + xgamma[m4,m8] + xgamma[m5,m8] + xgamma[m6,m8] + xgamma[m7,m8] + xgamma[m9,m8] + xgamma[m10,m8] :   1.0 :   True\n",
      "         m9 :   1.0 :              xgamma[d0,m9] + xgamma[d-1,m9] + xgamma[s1,m9] + xgamma[s2,m9] + xgamma[s3,m9] + xgamma[m1,m9] + xgamma[m2,m9] + xgamma[m3,m9] + xgamma[m4,m9] + xgamma[m5,m9] + xgamma[m6,m9] + xgamma[m7,m9] + xgamma[m8,m9] + xgamma[m10,m9] :   1.0 :   True\n",
      "         s1 :   1.0 :              xgamma[d0,s1] + xgamma[d-1,s1] + xgamma[s2,s1] + xgamma[s3,s1] + xgamma[m1,s1] + xgamma[m2,s1] + xgamma[m3,s1] + xgamma[m4,s1] + xgamma[m5,s1] + xgamma[m6,s1] + xgamma[m7,s1] + xgamma[m8,s1] + xgamma[m9,s1] + xgamma[m10,s1] :   1.0 :   True\n",
      "         s2 :   1.0 :              xgamma[d0,s2] + xgamma[d-1,s2] + xgamma[s1,s2] + xgamma[s3,s2] + xgamma[m1,s2] + xgamma[m2,s2] + xgamma[m3,s2] + xgamma[m4,s2] + xgamma[m5,s2] + xgamma[m6,s2] + xgamma[m7,s2] + xgamma[m8,s2] + xgamma[m9,s2] + xgamma[m10,s2] :   1.0 :   True\n",
      "         s3 :   1.0 :              xgamma[d0,s3] + xgamma[d-1,s3] + xgamma[s1,s3] + xgamma[s2,s3] + xgamma[m1,s3] + xgamma[m2,s3] + xgamma[m3,s3] + xgamma[m4,s3] + xgamma[m5,s3] + xgamma[m6,s3] + xgamma[m7,s3] + xgamma[m8,s3] + xgamma[m9,s3] + xgamma[m10,s3] :   1.0 :   True\n",
      "    constraint_out_arcs : Size=15, Index=V01, Active=True\n",
      "        Key : Lower : Body                                                                                                                                                                                                                                         : Upper : Active\n",
      "        d-1 :   1.0 : xgamma[d-1,d0] + xgamma[d-1,s1] + xgamma[d-1,s2] + xgamma[d-1,s3] + xgamma[d-1,m1] + xgamma[d-1,m2] + xgamma[d-1,m3] + xgamma[d-1,m4] + xgamma[d-1,m5] + xgamma[d-1,m6] + xgamma[d-1,m7] + xgamma[d-1,m8] + xgamma[d-1,m9] + xgamma[d-1,m10] :   1.0 :   True\n",
      "         d0 :   1.0 :              xgamma[d0,d-1] + xgamma[d0,s1] + xgamma[d0,s2] + xgamma[d0,s3] + xgamma[d0,m1] + xgamma[d0,m2] + xgamma[d0,m3] + xgamma[d0,m4] + xgamma[d0,m5] + xgamma[d0,m6] + xgamma[d0,m7] + xgamma[d0,m8] + xgamma[d0,m9] + xgamma[d0,m10] :   1.0 :   True\n",
      "         m1 :   1.0 :              xgamma[m1,d0] + xgamma[m1,d-1] + xgamma[m1,s1] + xgamma[m1,s2] + xgamma[m1,s3] + xgamma[m1,m2] + xgamma[m1,m3] + xgamma[m1,m4] + xgamma[m1,m5] + xgamma[m1,m6] + xgamma[m1,m7] + xgamma[m1,m8] + xgamma[m1,m9] + xgamma[m1,m10] :   1.0 :   True\n",
      "        m10 :   1.0 :                  xgamma[m10,d0] + xgamma[m10,d-1] + xgamma[m10,s1] + xgamma[m10,s2] + xgamma[m10,s3] + xgamma[m10,m2] + xgamma[m10,m3] + xgamma[m10,m4] + xgamma[m10,m5] + xgamma[m10,m6] + xgamma[m10,m7] + xgamma[m10,m8] + xgamma[m10,m9] :   1.0 :   True\n",
      "         m2 :   1.0 :              xgamma[m2,d0] + xgamma[m2,d-1] + xgamma[m2,s1] + xgamma[m2,s2] + xgamma[m2,s3] + xgamma[m2,m1] + xgamma[m2,m3] + xgamma[m2,m4] + xgamma[m2,m5] + xgamma[m2,m6] + xgamma[m2,m7] + xgamma[m2,m8] + xgamma[m2,m9] + xgamma[m2,m10] :   1.0 :   True\n",
      "         m3 :   1.0 :              xgamma[m3,d0] + xgamma[m3,d-1] + xgamma[m3,s1] + xgamma[m3,s2] + xgamma[m3,s3] + xgamma[m3,m1] + xgamma[m3,m2] + xgamma[m3,m4] + xgamma[m3,m5] + xgamma[m3,m6] + xgamma[m3,m7] + xgamma[m3,m8] + xgamma[m3,m9] + xgamma[m3,m10] :   1.0 :   True\n",
      "         m4 :   1.0 :              xgamma[m4,d0] + xgamma[m4,d-1] + xgamma[m4,s1] + xgamma[m4,s2] + xgamma[m4,s3] + xgamma[m4,m1] + xgamma[m4,m2] + xgamma[m4,m3] + xgamma[m4,m5] + xgamma[m4,m6] + xgamma[m4,m7] + xgamma[m4,m8] + xgamma[m4,m9] + xgamma[m4,m10] :   1.0 :   True\n",
      "         m5 :   1.0 :              xgamma[m5,d0] + xgamma[m5,d-1] + xgamma[m5,s1] + xgamma[m5,s2] + xgamma[m5,s3] + xgamma[m5,m1] + xgamma[m5,m2] + xgamma[m5,m3] + xgamma[m5,m4] + xgamma[m5,m6] + xgamma[m5,m7] + xgamma[m5,m8] + xgamma[m5,m9] + xgamma[m5,m10] :   1.0 :   True\n",
      "         m6 :   1.0 :              xgamma[m6,d0] + xgamma[m6,d-1] + xgamma[m6,s1] + xgamma[m6,s2] + xgamma[m6,s3] + xgamma[m6,m1] + xgamma[m6,m2] + xgamma[m6,m3] + xgamma[m6,m4] + xgamma[m6,m5] + xgamma[m6,m7] + xgamma[m6,m8] + xgamma[m6,m9] + xgamma[m6,m10] :   1.0 :   True\n",
      "         m7 :   1.0 :              xgamma[m7,d0] + xgamma[m7,d-1] + xgamma[m7,s1] + xgamma[m7,s2] + xgamma[m7,s3] + xgamma[m7,m1] + xgamma[m7,m2] + xgamma[m7,m3] + xgamma[m7,m4] + xgamma[m7,m5] + xgamma[m7,m6] + xgamma[m7,m8] + xgamma[m7,m9] + xgamma[m7,m10] :   1.0 :   True\n",
      "         m8 :   1.0 :              xgamma[m8,d0] + xgamma[m8,d-1] + xgamma[m8,s1] + xgamma[m8,s2] + xgamma[m8,s3] + xgamma[m8,m1] + xgamma[m8,m2] + xgamma[m8,m3] + xgamma[m8,m4] + xgamma[m8,m5] + xgamma[m8,m6] + xgamma[m8,m7] + xgamma[m8,m9] + xgamma[m8,m10] :   1.0 :   True\n",
      "         m9 :   1.0 :              xgamma[m9,d0] + xgamma[m9,d-1] + xgamma[m9,s1] + xgamma[m9,s2] + xgamma[m9,s3] + xgamma[m9,m1] + xgamma[m9,m2] + xgamma[m9,m3] + xgamma[m9,m4] + xgamma[m9,m5] + xgamma[m9,m6] + xgamma[m9,m7] + xgamma[m9,m8] + xgamma[m9,m10] :   1.0 :   True\n",
      "         s1 :   1.0 :              xgamma[s1,d0] + xgamma[s1,d-1] + xgamma[s1,s2] + xgamma[s1,s3] + xgamma[s1,m1] + xgamma[s1,m2] + xgamma[s1,m3] + xgamma[s1,m4] + xgamma[s1,m5] + xgamma[s1,m6] + xgamma[s1,m7] + xgamma[s1,m8] + xgamma[s1,m9] + xgamma[s1,m10] :   1.0 :   True\n",
      "         s2 :   1.0 :              xgamma[s2,d0] + xgamma[s2,d-1] + xgamma[s2,s1] + xgamma[s2,s3] + xgamma[s2,m1] + xgamma[s2,m2] + xgamma[s2,m3] + xgamma[s2,m4] + xgamma[s2,m5] + xgamma[s2,m6] + xgamma[s2,m7] + xgamma[s2,m8] + xgamma[s2,m9] + xgamma[s2,m10] :   1.0 :   True\n",
      "         s3 :   1.0 :              xgamma[s3,d0] + xgamma[s3,d-1] + xgamma[s3,s1] + xgamma[s3,s2] + xgamma[s3,m1] + xgamma[s3,m2] + xgamma[s3,m3] + xgamma[s3,m4] + xgamma[s3,m5] + xgamma[s3,m6] + xgamma[s3,m7] + xgamma[s3,m8] + xgamma[s3,m9] + xgamma[s3,m10] :   1.0 :   True\n",
      "    constraint_single_subtour : Size=182, Index=constraint_single_subtour_index, Active=True\n",
      "        Key            : Lower : Body                                 : Upper : Active\n",
      "         ('d-1', 'm1') :  -Inf :   u[d-1] - u[m1] + 15*xgamma[d-1,m1] :  14.0 :   True\n",
      "        ('d-1', 'm10') :  -Inf : u[d-1] - u[m10] + 15*xgamma[d-1,m10] :  14.0 :   True\n",
      "         ('d-1', 'm2') :  -Inf :   u[d-1] - u[m2] + 15*xgamma[d-1,m2] :  14.0 :   True\n",
      "         ('d-1', 'm3') :  -Inf :   u[d-1] - u[m3] + 15*xgamma[d-1,m3] :  14.0 :   True\n",
      "         ('d-1', 'm4') :  -Inf :   u[d-1] - u[m4] + 15*xgamma[d-1,m4] :  14.0 :   True\n",
      "         ('d-1', 'm5') :  -Inf :   u[d-1] - u[m5] + 15*xgamma[d-1,m5] :  14.0 :   True\n",
      "         ('d-1', 'm6') :  -Inf :   u[d-1] - u[m6] + 15*xgamma[d-1,m6] :  14.0 :   True\n",
      "         ('d-1', 'm7') :  -Inf :   u[d-1] - u[m7] + 15*xgamma[d-1,m7] :  14.0 :   True\n",
      "         ('d-1', 'm8') :  -Inf :   u[d-1] - u[m8] + 15*xgamma[d-1,m8] :  14.0 :   True\n",
      "         ('d-1', 'm9') :  -Inf :   u[d-1] - u[m9] + 15*xgamma[d-1,m9] :  14.0 :   True\n",
      "         ('d-1', 's1') :  -Inf :   u[d-1] - u[s1] + 15*xgamma[d-1,s1] :  14.0 :   True\n",
      "         ('d-1', 's2') :  -Inf :   u[d-1] - u[s2] + 15*xgamma[d-1,s2] :  14.0 :   True\n",
      "         ('d-1', 's3') :  -Inf :   u[d-1] - u[s3] + 15*xgamma[d-1,s3] :  14.0 :   True\n",
      "         ('m1', 'd-1') :  -Inf :   u[m1] - u[d-1] + 15*xgamma[m1,d-1] :  14.0 :   True\n",
      "         ('m1', 'm10') :  -Inf :   u[m1] - u[m10] + 15*xgamma[m1,m10] :  14.0 :   True\n",
      "          ('m1', 'm2') :  -Inf :     u[m1] - u[m2] + 15*xgamma[m1,m2] :  14.0 :   True\n",
      "          ('m1', 'm3') :  -Inf :     u[m1] - u[m3] + 15*xgamma[m1,m3] :  14.0 :   True\n",
      "          ('m1', 'm4') :  -Inf :     u[m1] - u[m4] + 15*xgamma[m1,m4] :  14.0 :   True\n",
      "          ('m1', 'm5') :  -Inf :     u[m1] - u[m5] + 15*xgamma[m1,m5] :  14.0 :   True\n",
      "          ('m1', 'm6') :  -Inf :     u[m1] - u[m6] + 15*xgamma[m1,m6] :  14.0 :   True\n",
      "          ('m1', 'm7') :  -Inf :     u[m1] - u[m7] + 15*xgamma[m1,m7] :  14.0 :   True\n",
      "          ('m1', 'm8') :  -Inf :     u[m1] - u[m8] + 15*xgamma[m1,m8] :  14.0 :   True\n",
      "          ('m1', 'm9') :  -Inf :     u[m1] - u[m9] + 15*xgamma[m1,m9] :  14.0 :   True\n",
      "          ('m1', 's1') :  -Inf :     u[m1] - u[s1] + 15*xgamma[m1,s1] :  14.0 :   True\n",
      "          ('m1', 's2') :  -Inf :     u[m1] - u[s2] + 15*xgamma[m1,s2] :  14.0 :   True\n",
      "          ('m1', 's3') :  -Inf :     u[m1] - u[s3] + 15*xgamma[m1,s3] :  14.0 :   True\n",
      "        ('m10', 'd-1') :  -Inf : u[m10] - u[d-1] + 15*xgamma[m10,d-1] :  14.0 :   True\n",
      "         ('m10', 'm1') :  -Inf :   u[m10] - u[m1] + 15*xgamma[m10,m1] :  14.0 :   True\n",
      "         ('m10', 'm2') :  -Inf :   u[m10] - u[m2] + 15*xgamma[m10,m2] :  14.0 :   True\n",
      "         ('m10', 'm3') :  -Inf :   u[m10] - u[m3] + 15*xgamma[m10,m3] :  14.0 :   True\n",
      "         ('m10', 'm4') :  -Inf :   u[m10] - u[m4] + 15*xgamma[m10,m4] :  14.0 :   True\n",
      "         ('m10', 'm5') :  -Inf :   u[m10] - u[m5] + 15*xgamma[m10,m5] :  14.0 :   True\n",
      "         ('m10', 'm6') :  -Inf :   u[m10] - u[m6] + 15*xgamma[m10,m6] :  14.0 :   True\n",
      "         ('m10', 'm7') :  -Inf :   u[m10] - u[m7] + 15*xgamma[m10,m7] :  14.0 :   True\n",
      "         ('m10', 'm8') :  -Inf :   u[m10] - u[m8] + 15*xgamma[m10,m8] :  14.0 :   True\n",
      "         ('m10', 'm9') :  -Inf :   u[m10] - u[m9] + 15*xgamma[m10,m9] :  14.0 :   True\n",
      "         ('m10', 's1') :  -Inf :   u[m10] - u[s1] + 15*xgamma[m10,s1] :  14.0 :   True\n",
      "         ('m10', 's2') :  -Inf :   u[m10] - u[s2] + 15*xgamma[m10,s2] :  14.0 :   True\n",
      "         ('m10', 's3') :  -Inf :   u[m10] - u[s3] + 15*xgamma[m10,s3] :  14.0 :   True\n",
      "         ('m2', 'd-1') :  -Inf :   u[m2] - u[d-1] + 15*xgamma[m2,d-1] :  14.0 :   True\n",
      "          ('m2', 'm1') :  -Inf :     u[m2] - u[m1] + 15*xgamma[m2,m1] :  14.0 :   True\n",
      "         ('m2', 'm10') :  -Inf :   u[m2] - u[m10] + 15*xgamma[m2,m10] :  14.0 :   True\n",
      "          ('m2', 'm3') :  -Inf :     u[m2] - u[m3] + 15*xgamma[m2,m3] :  14.0 :   True\n",
      "          ('m2', 'm4') :  -Inf :     u[m2] - u[m4] + 15*xgamma[m2,m4] :  14.0 :   True\n",
      "          ('m2', 'm5') :  -Inf :     u[m2] - u[m5] + 15*xgamma[m2,m5] :  14.0 :   True\n",
      "          ('m2', 'm6') :  -Inf :     u[m2] - u[m6] + 15*xgamma[m2,m6] :  14.0 :   True\n",
      "          ('m2', 'm7') :  -Inf :     u[m2] - u[m7] + 15*xgamma[m2,m7] :  14.0 :   True\n",
      "          ('m2', 'm8') :  -Inf :     u[m2] - u[m8] + 15*xgamma[m2,m8] :  14.0 :   True\n",
      "          ('m2', 'm9') :  -Inf :     u[m2] - u[m9] + 15*xgamma[m2,m9] :  14.0 :   True\n",
      "          ('m2', 's1') :  -Inf :     u[m2] - u[s1] + 15*xgamma[m2,s1] :  14.0 :   True\n",
      "          ('m2', 's2') :  -Inf :     u[m2] - u[s2] + 15*xgamma[m2,s2] :  14.0 :   True\n",
      "          ('m2', 's3') :  -Inf :     u[m2] - u[s3] + 15*xgamma[m2,s3] :  14.0 :   True\n",
      "         ('m3', 'd-1') :  -Inf :   u[m3] - u[d-1] + 15*xgamma[m3,d-1] :  14.0 :   True\n",
      "          ('m3', 'm1') :  -Inf :     u[m3] - u[m1] + 15*xgamma[m3,m1] :  14.0 :   True\n",
      "         ('m3', 'm10') :  -Inf :   u[m3] - u[m10] + 15*xgamma[m3,m10] :  14.0 :   True\n",
      "          ('m3', 'm2') :  -Inf :     u[m3] - u[m2] + 15*xgamma[m3,m2] :  14.0 :   True\n",
      "          ('m3', 'm4') :  -Inf :     u[m3] - u[m4] + 15*xgamma[m3,m4] :  14.0 :   True\n",
      "          ('m3', 'm5') :  -Inf :     u[m3] - u[m5] + 15*xgamma[m3,m5] :  14.0 :   True\n",
      "          ('m3', 'm6') :  -Inf :     u[m3] - u[m6] + 15*xgamma[m3,m6] :  14.0 :   True\n",
      "          ('m3', 'm7') :  -Inf :     u[m3] - u[m7] + 15*xgamma[m3,m7] :  14.0 :   True\n",
      "          ('m3', 'm8') :  -Inf :     u[m3] - u[m8] + 15*xgamma[m3,m8] :  14.0 :   True\n",
      "          ('m3', 'm9') :  -Inf :     u[m3] - u[m9] + 15*xgamma[m3,m9] :  14.0 :   True\n",
      "          ('m3', 's1') :  -Inf :     u[m3] - u[s1] + 15*xgamma[m3,s1] :  14.0 :   True\n",
      "          ('m3', 's2') :  -Inf :     u[m3] - u[s2] + 15*xgamma[m3,s2] :  14.0 :   True\n",
      "          ('m3', 's3') :  -Inf :     u[m3] - u[s3] + 15*xgamma[m3,s3] :  14.0 :   True\n",
      "         ('m4', 'd-1') :  -Inf :   u[m4] - u[d-1] + 15*xgamma[m4,d-1] :  14.0 :   True\n",
      "          ('m4', 'm1') :  -Inf :     u[m4] - u[m1] + 15*xgamma[m4,m1] :  14.0 :   True\n",
      "         ('m4', 'm10') :  -Inf :   u[m4] - u[m10] + 15*xgamma[m4,m10] :  14.0 :   True\n",
      "          ('m4', 'm2') :  -Inf :     u[m4] - u[m2] + 15*xgamma[m4,m2] :  14.0 :   True\n",
      "          ('m4', 'm3') :  -Inf :     u[m4] - u[m3] + 15*xgamma[m4,m3] :  14.0 :   True\n",
      "          ('m4', 'm5') :  -Inf :     u[m4] - u[m5] + 15*xgamma[m4,m5] :  14.0 :   True\n",
      "          ('m4', 'm6') :  -Inf :     u[m4] - u[m6] + 15*xgamma[m4,m6] :  14.0 :   True\n",
      "          ('m4', 'm7') :  -Inf :     u[m4] - u[m7] + 15*xgamma[m4,m7] :  14.0 :   True\n",
      "          ('m4', 'm8') :  -Inf :     u[m4] - u[m8] + 15*xgamma[m4,m8] :  14.0 :   True\n",
      "          ('m4', 'm9') :  -Inf :     u[m4] - u[m9] + 15*xgamma[m4,m9] :  14.0 :   True\n",
      "          ('m4', 's1') :  -Inf :     u[m4] - u[s1] + 15*xgamma[m4,s1] :  14.0 :   True\n",
      "          ('m4', 's2') :  -Inf :     u[m4] - u[s2] + 15*xgamma[m4,s2] :  14.0 :   True\n",
      "          ('m4', 's3') :  -Inf :     u[m4] - u[s3] + 15*xgamma[m4,s3] :  14.0 :   True\n",
      "         ('m5', 'd-1') :  -Inf :   u[m5] - u[d-1] + 15*xgamma[m5,d-1] :  14.0 :   True\n",
      "          ('m5', 'm1') :  -Inf :     u[m5] - u[m1] + 15*xgamma[m5,m1] :  14.0 :   True\n",
      "         ('m5', 'm10') :  -Inf :   u[m5] - u[m10] + 15*xgamma[m5,m10] :  14.0 :   True\n",
      "          ('m5', 'm2') :  -Inf :     u[m5] - u[m2] + 15*xgamma[m5,m2] :  14.0 :   True\n",
      "          ('m5', 'm3') :  -Inf :     u[m5] - u[m3] + 15*xgamma[m5,m3] :  14.0 :   True\n",
      "          ('m5', 'm4') :  -Inf :     u[m5] - u[m4] + 15*xgamma[m5,m4] :  14.0 :   True\n",
      "          ('m5', 'm6') :  -Inf :     u[m5] - u[m6] + 15*xgamma[m5,m6] :  14.0 :   True\n",
      "          ('m5', 'm7') :  -Inf :     u[m5] - u[m7] + 15*xgamma[m5,m7] :  14.0 :   True\n",
      "          ('m5', 'm8') :  -Inf :     u[m5] - u[m8] + 15*xgamma[m5,m8] :  14.0 :   True\n",
      "          ('m5', 'm9') :  -Inf :     u[m5] - u[m9] + 15*xgamma[m5,m9] :  14.0 :   True\n",
      "          ('m5', 's1') :  -Inf :     u[m5] - u[s1] + 15*xgamma[m5,s1] :  14.0 :   True\n",
      "          ('m5', 's2') :  -Inf :     u[m5] - u[s2] + 15*xgamma[m5,s2] :  14.0 :   True\n",
      "          ('m5', 's3') :  -Inf :     u[m5] - u[s3] + 15*xgamma[m5,s3] :  14.0 :   True\n",
      "         ('m6', 'd-1') :  -Inf :   u[m6] - u[d-1] + 15*xgamma[m6,d-1] :  14.0 :   True\n",
      "          ('m6', 'm1') :  -Inf :     u[m6] - u[m1] + 15*xgamma[m6,m1] :  14.0 :   True\n",
      "         ('m6', 'm10') :  -Inf :   u[m6] - u[m10] + 15*xgamma[m6,m10] :  14.0 :   True\n",
      "          ('m6', 'm2') :  -Inf :     u[m6] - u[m2] + 15*xgamma[m6,m2] :  14.0 :   True\n",
      "          ('m6', 'm3') :  -Inf :     u[m6] - u[m3] + 15*xgamma[m6,m3] :  14.0 :   True\n",
      "          ('m6', 'm4') :  -Inf :     u[m6] - u[m4] + 15*xgamma[m6,m4] :  14.0 :   True\n",
      "          ('m6', 'm5') :  -Inf :     u[m6] - u[m5] + 15*xgamma[m6,m5] :  14.0 :   True\n",
      "          ('m6', 'm7') :  -Inf :     u[m6] - u[m7] + 15*xgamma[m6,m7] :  14.0 :   True\n",
      "          ('m6', 'm8') :  -Inf :     u[m6] - u[m8] + 15*xgamma[m6,m8] :  14.0 :   True\n",
      "          ('m6', 'm9') :  -Inf :     u[m6] - u[m9] + 15*xgamma[m6,m9] :  14.0 :   True\n",
      "          ('m6', 's1') :  -Inf :     u[m6] - u[s1] + 15*xgamma[m6,s1] :  14.0 :   True\n",
      "          ('m6', 's2') :  -Inf :     u[m6] - u[s2] + 15*xgamma[m6,s2] :  14.0 :   True\n",
      "          ('m6', 's3') :  -Inf :     u[m6] - u[s3] + 15*xgamma[m6,s3] :  14.0 :   True\n",
      "         ('m7', 'd-1') :  -Inf :   u[m7] - u[d-1] + 15*xgamma[m7,d-1] :  14.0 :   True\n",
      "          ('m7', 'm1') :  -Inf :     u[m7] - u[m1] + 15*xgamma[m7,m1] :  14.0 :   True\n",
      "         ('m7', 'm10') :  -Inf :   u[m7] - u[m10] + 15*xgamma[m7,m10] :  14.0 :   True\n",
      "          ('m7', 'm2') :  -Inf :     u[m7] - u[m2] + 15*xgamma[m7,m2] :  14.0 :   True\n",
      "          ('m7', 'm3') :  -Inf :     u[m7] - u[m3] + 15*xgamma[m7,m3] :  14.0 :   True\n",
      "          ('m7', 'm4') :  -Inf :     u[m7] - u[m4] + 15*xgamma[m7,m4] :  14.0 :   True\n",
      "          ('m7', 'm5') :  -Inf :     u[m7] - u[m5] + 15*xgamma[m7,m5] :  14.0 :   True\n",
      "          ('m7', 'm6') :  -Inf :     u[m7] - u[m6] + 15*xgamma[m7,m6] :  14.0 :   True\n",
      "          ('m7', 'm8') :  -Inf :     u[m7] - u[m8] + 15*xgamma[m7,m8] :  14.0 :   True\n",
      "          ('m7', 'm9') :  -Inf :     u[m7] - u[m9] + 15*xgamma[m7,m9] :  14.0 :   True\n",
      "          ('m7', 's1') :  -Inf :     u[m7] - u[s1] + 15*xgamma[m7,s1] :  14.0 :   True\n",
      "          ('m7', 's2') :  -Inf :     u[m7] - u[s2] + 15*xgamma[m7,s2] :  14.0 :   True\n",
      "          ('m7', 's3') :  -Inf :     u[m7] - u[s3] + 15*xgamma[m7,s3] :  14.0 :   True\n",
      "         ('m8', 'd-1') :  -Inf :   u[m8] - u[d-1] + 15*xgamma[m8,d-1] :  14.0 :   True\n",
      "          ('m8', 'm1') :  -Inf :     u[m8] - u[m1] + 15*xgamma[m8,m1] :  14.0 :   True\n",
      "         ('m8', 'm10') :  -Inf :   u[m8] - u[m10] + 15*xgamma[m8,m10] :  14.0 :   True\n",
      "          ('m8', 'm2') :  -Inf :     u[m8] - u[m2] + 15*xgamma[m8,m2] :  14.0 :   True\n",
      "          ('m8', 'm3') :  -Inf :     u[m8] - u[m3] + 15*xgamma[m8,m3] :  14.0 :   True\n",
      "          ('m8', 'm4') :  -Inf :     u[m8] - u[m4] + 15*xgamma[m8,m4] :  14.0 :   True\n",
      "          ('m8', 'm5') :  -Inf :     u[m8] - u[m5] + 15*xgamma[m8,m5] :  14.0 :   True\n",
      "          ('m8', 'm6') :  -Inf :     u[m8] - u[m6] + 15*xgamma[m8,m6] :  14.0 :   True\n",
      "          ('m8', 'm7') :  -Inf :     u[m8] - u[m7] + 15*xgamma[m8,m7] :  14.0 :   True\n",
      "          ('m8', 'm9') :  -Inf :     u[m8] - u[m9] + 15*xgamma[m8,m9] :  14.0 :   True\n",
      "          ('m8', 's1') :  -Inf :     u[m8] - u[s1] + 15*xgamma[m8,s1] :  14.0 :   True\n",
      "          ('m8', 's2') :  -Inf :     u[m8] - u[s2] + 15*xgamma[m8,s2] :  14.0 :   True\n",
      "          ('m8', 's3') :  -Inf :     u[m8] - u[s3] + 15*xgamma[m8,s3] :  14.0 :   True\n",
      "         ('m9', 'd-1') :  -Inf :   u[m9] - u[d-1] + 15*xgamma[m9,d-1] :  14.0 :   True\n",
      "          ('m9', 'm1') :  -Inf :     u[m9] - u[m1] + 15*xgamma[m9,m1] :  14.0 :   True\n",
      "         ('m9', 'm10') :  -Inf :   u[m9] - u[m10] + 15*xgamma[m9,m10] :  14.0 :   True\n",
      "          ('m9', 'm2') :  -Inf :     u[m9] - u[m2] + 15*xgamma[m9,m2] :  14.0 :   True\n",
      "          ('m9', 'm3') :  -Inf :     u[m9] - u[m3] + 15*xgamma[m9,m3] :  14.0 :   True\n",
      "          ('m9', 'm4') :  -Inf :     u[m9] - u[m4] + 15*xgamma[m9,m4] :  14.0 :   True\n",
      "          ('m9', 'm5') :  -Inf :     u[m9] - u[m5] + 15*xgamma[m9,m5] :  14.0 :   True\n",
      "          ('m9', 'm6') :  -Inf :     u[m9] - u[m6] + 15*xgamma[m9,m6] :  14.0 :   True\n",
      "          ('m9', 'm7') :  -Inf :     u[m9] - u[m7] + 15*xgamma[m9,m7] :  14.0 :   True\n",
      "          ('m9', 'm8') :  -Inf :     u[m9] - u[m8] + 15*xgamma[m9,m8] :  14.0 :   True\n",
      "          ('m9', 's1') :  -Inf :     u[m9] - u[s1] + 15*xgamma[m9,s1] :  14.0 :   True\n",
      "          ('m9', 's2') :  -Inf :     u[m9] - u[s2] + 15*xgamma[m9,s2] :  14.0 :   True\n",
      "          ('m9', 's3') :  -Inf :     u[m9] - u[s3] + 15*xgamma[m9,s3] :  14.0 :   True\n",
      "         ('s1', 'd-1') :  -Inf :   u[s1] - u[d-1] + 15*xgamma[s1,d-1] :  14.0 :   True\n",
      "          ('s1', 'm1') :  -Inf :     u[s1] - u[m1] + 15*xgamma[s1,m1] :  14.0 :   True\n",
      "         ('s1', 'm10') :  -Inf :   u[s1] - u[m10] + 15*xgamma[s1,m10] :  14.0 :   True\n",
      "          ('s1', 'm2') :  -Inf :     u[s1] - u[m2] + 15*xgamma[s1,m2] :  14.0 :   True\n",
      "          ('s1', 'm3') :  -Inf :     u[s1] - u[m3] + 15*xgamma[s1,m3] :  14.0 :   True\n",
      "          ('s1', 'm4') :  -Inf :     u[s1] - u[m4] + 15*xgamma[s1,m4] :  14.0 :   True\n",
      "          ('s1', 'm5') :  -Inf :     u[s1] - u[m5] + 15*xgamma[s1,m5] :  14.0 :   True\n",
      "          ('s1', 'm6') :  -Inf :     u[s1] - u[m6] + 15*xgamma[s1,m6] :  14.0 :   True\n",
      "          ('s1', 'm7') :  -Inf :     u[s1] - u[m7] + 15*xgamma[s1,m7] :  14.0 :   True\n",
      "          ('s1', 'm8') :  -Inf :     u[s1] - u[m8] + 15*xgamma[s1,m8] :  14.0 :   True\n",
      "          ('s1', 'm9') :  -Inf :     u[s1] - u[m9] + 15*xgamma[s1,m9] :  14.0 :   True\n",
      "          ('s1', 's2') :  -Inf :     u[s1] - u[s2] + 15*xgamma[s1,s2] :  14.0 :   True\n",
      "          ('s1', 's3') :  -Inf :     u[s1] - u[s3] + 15*xgamma[s1,s3] :  14.0 :   True\n",
      "         ('s2', 'd-1') :  -Inf :   u[s2] - u[d-1] + 15*xgamma[s2,d-1] :  14.0 :   True\n",
      "          ('s2', 'm1') :  -Inf :     u[s2] - u[m1] + 15*xgamma[s2,m1] :  14.0 :   True\n",
      "         ('s2', 'm10') :  -Inf :   u[s2] - u[m10] + 15*xgamma[s2,m10] :  14.0 :   True\n",
      "          ('s2', 'm2') :  -Inf :     u[s2] - u[m2] + 15*xgamma[s2,m2] :  14.0 :   True\n",
      "          ('s2', 'm3') :  -Inf :     u[s2] - u[m3] + 15*xgamma[s2,m3] :  14.0 :   True\n",
      "          ('s2', 'm4') :  -Inf :     u[s2] - u[m4] + 15*xgamma[s2,m4] :  14.0 :   True\n",
      "          ('s2', 'm5') :  -Inf :     u[s2] - u[m5] + 15*xgamma[s2,m5] :  14.0 :   True\n",
      "          ('s2', 'm6') :  -Inf :     u[s2] - u[m6] + 15*xgamma[s2,m6] :  14.0 :   True\n",
      "          ('s2', 'm7') :  -Inf :     u[s2] - u[m7] + 15*xgamma[s2,m7] :  14.0 :   True\n",
      "          ('s2', 'm8') :  -Inf :     u[s2] - u[m8] + 15*xgamma[s2,m8] :  14.0 :   True\n",
      "          ('s2', 'm9') :  -Inf :     u[s2] - u[m9] + 15*xgamma[s2,m9] :  14.0 :   True\n",
      "          ('s2', 's1') :  -Inf :     u[s2] - u[s1] + 15*xgamma[s2,s1] :  14.0 :   True\n",
      "          ('s2', 's3') :  -Inf :     u[s2] - u[s3] + 15*xgamma[s2,s3] :  14.0 :   True\n",
      "         ('s3', 'd-1') :  -Inf :   u[s3] - u[d-1] + 15*xgamma[s3,d-1] :  14.0 :   True\n",
      "          ('s3', 'm1') :  -Inf :     u[s3] - u[m1] + 15*xgamma[s3,m1] :  14.0 :   True\n",
      "         ('s3', 'm10') :  -Inf :   u[s3] - u[m10] + 15*xgamma[s3,m10] :  14.0 :   True\n",
      "          ('s3', 'm2') :  -Inf :     u[s3] - u[m2] + 15*xgamma[s3,m2] :  14.0 :   True\n",
      "          ('s3', 'm3') :  -Inf :     u[s3] - u[m3] + 15*xgamma[s3,m3] :  14.0 :   True\n",
      "          ('s3', 'm4') :  -Inf :     u[s3] - u[m4] + 15*xgamma[s3,m4] :  14.0 :   True\n",
      "          ('s3', 'm5') :  -Inf :     u[s3] - u[m5] + 15*xgamma[s3,m5] :  14.0 :   True\n",
      "          ('s3', 'm6') :  -Inf :     u[s3] - u[m6] + 15*xgamma[s3,m6] :  14.0 :   True\n",
      "          ('s3', 'm7') :  -Inf :     u[s3] - u[m7] + 15*xgamma[s3,m7] :  14.0 :   True\n",
      "          ('s3', 'm8') :  -Inf :     u[s3] - u[m8] + 15*xgamma[s3,m8] :  14.0 :   True\n",
      "          ('s3', 'm9') :  -Inf :     u[s3] - u[m9] + 15*xgamma[s3,m9] :  14.0 :   True\n",
      "          ('s3', 's1') :  -Inf :     u[s3] - u[s1] + 15*xgamma[s3,s1] :  14.0 :   True\n",
      "          ('s3', 's2') :  -Inf :     u[s3] - u[s2] + 15*xgamma[s3,s2] :  14.0 :   True\n",
      "\n",
      "21 Declarations: V01 V_index_init_index_1 V_index_init V V0_index_init_index_1 V0_index_init V0 V1_index_init_index_1 V1_index_init V1 E_index_init E_domain E d xgamma u constraint_in_arcs constraint_out_arcs constraint_single_subtour_index constraint_single_subtour obj\n"
     ]
    }
   ],
   "source": [
    "m.m.pprint()"
   ],
   "metadata": {
    "collapsed": false,
    "pycharm": {
     "name": "#%%\n"
    }
   }
  },
  {
   "cell_type": "code",
   "execution_count": 28,
   "outputs": [
    {
     "name": "stderr",
     "output_type": "stream",
     "text": [
      "2020-09-17 20:06:23 INFO     \n",
      "Name: \n",
      "Type: Graph\n",
      "Number of nodes: 15\n",
      "Number of edges: 120\n",
      "Average degree:  16.0000\n"
     ]
    },
    {
     "data": {
      "text/plain": "<networkx.classes.graph.Graph at 0x7f9bd7009898>"
     },
     "execution_count": 28,
     "metadata": {},
     "output_type": "execute_result"
    },
    {
     "data": {
      "text/plain": "<Figure size 432x288 with 1 Axes>",
      "image/png": "[encoded data removed]"
     },
     "metadata": {},
     "output_type": "display_data"
    }
   ],
   "source": [
    "draw_plain_graph(m.data['V'], m.data['d'])"
   ],
   "metadata": {
    "collapsed": false,
    "pycharm": {
     "name": "#%%\n"
    }
   }
  },
  {
   "cell_type": "code",
   "execution_count": 29,
   "outputs": [
    {
     "name": "stderr",
     "output_type": "stream",
     "text": [
      "2020-09-17 20:06:26 INFO     \n",
      "Name: \n",
      "Type: Graph\n",
      "Number of nodes: 15\n",
      "Number of edges: 120\n",
      "Average degree:  16.0000\n"
     ]
    },
    {
     "data": {
      "text/plain": "<networkx.classes.graph.Graph at 0x7f9bd707dcf8>"
     },
     "execution_count": 29,
     "metadata": {},
     "output_type": "execute_result"
    },
    {
     "data": {
      "text/plain": "<Figure size 432x288 with 1 Axes>",
      "image/png": "[encoded data removed]"
     },
     "metadata": {},
     "output_type": "display_data"
    }
   ],
   "source": [
    "draw_graph(m.data['V'], m.data['d'])"
   ],
   "metadata": {
    "collapsed": false,
    "pycharm": {
     "name": "#%%\n"
    }
   }
  },
  {
   "cell_type": "code",
   "execution_count": 231,
   "outputs": [
    {
     "data": {
      "application/vnd.plotly.v1+json": {
       "config": {
        "plotlyServerURL": "https://plot.ly"
       },
       "data": [
        {
         "hoverinfo": "none",
         "line": {
          "color": "#888",
          "width": 0.5
         },
         "mode": "lines",
         "name": "Edges",
         "type": "scatter",
         "x": [
          35,
          35,
          null,
          35,
          35,
          null,
          35,
          28,
          null,
          35,
          51,
          null,
          35,
          63,
          null,
          35,
          31,
          null,
          35,
          55,
          null,
          35,
          67,
          null,
          35,
          17,
          null,
          35,
          26,
          null,
          35,
          53,
          null,
          35,
          45,
          null,
          35,
          20,
          null,
          35,
          50,
          null,
          35,
          45,
          null,
          35,
          35,
          null,
          35,
          35,
          null,
          35,
          28,
          null,
          35,
          51,
          null,
          35,
          63,
          null,
          35,
          31,
          null,
          35,
          55,
          null,
          35,
          67,
          null,
          35,
          17,
          null,
          35,
          26,
          null,
          35,
          53,
          null,
          35,
          45,
          null,
          35,
          20,
          null,
          35,
          50,
          null,
          35,
          45,
          null,
          28,
          35,
          null,
          28,
          35,
          null,
          28,
          28,
          null,
          28,
          51,
          null,
          28,
          63,
          null,
          28,
          31,
          null,
          28,
          55,
          null,
          28,
          67,
          null,
          28,
          17,
          null,
          28,
          26,
          null,
          28,
          53,
          null,
          28,
          45,
          null,
          28,
          20,
          null,
          28,
          50,
          null,
          28,
          45,
          null,
          51,
          35,
          null,
          51,
          35,
          null,
          51,
          28,
          null,
          51,
          51,
          null,
          51,
          63,
          null,
          51,
          31,
          null,
          51,
          55,
          null,
          51,
          67,
          null,
          51,
          17,
          null,
          51,
          26,
          null,
          51,
          53,
          null,
          51,
          45,
          null,
          51,
          20,
          null,
          51,
          50,
          null,
          51,
          45,
          null,
          63,
          35,
          null,
          63,
          35,
          null,
          63,
          28,
          null,
          63,
          51,
          null,
          63,
          63,
          null,
          63,
          31,
          null,
          63,
          55,
          null,
          63,
          67,
          null,
          63,
          17,
          null,
          63,
          26,
          null,
          63,
          53,
          null,
          63,
          45,
          null,
          63,
          20,
          null,
          63,
          50,
          null,
          63,
          45,
          null,
          31,
          35,
          null,
          31,
          35,
          null,
          31,
          28,
          null,
          31,
          51,
          null,
          31,
          63,
          null,
          31,
          31,
          null,
          31,
          55,
          null,
          31,
          67,
          null,
          31,
          17,
          null,
          31,
          26,
          null,
          31,
          53,
          null,
          31,
          45,
          null,
          31,
          20,
          null,
          31,
          50,
          null,
          31,
          45,
          null,
          55,
          35,
          null,
          55,
          35,
          null,
          55,
          28,
          null,
          55,
          51,
          null,
          55,
          63,
          null,
          55,
          31,
          null,
          55,
          55,
          null,
          55,
          67,
          null,
          55,
          17,
          null,
          55,
          26,
          null,
          55,
          53,
          null,
          55,
          45,
          null,
          55,
          20,
          null,
          55,
          50,
          null,
          55,
          45,
          null,
          67,
          35,
          null,
          67,
          35,
          null,
          67,
          28,
          null,
          67,
          51,
          null,
          67,
          63,
          null,
          67,
          31,
          null,
          67,
          55,
          null,
          67,
          67,
          null,
          67,
          17,
          null,
          67,
          26,
          null,
          67,
          53,
          null,
          67,
          45,
          null,
          67,
          20,
          null,
          67,
          50,
          null,
          67,
          45,
          null,
          17,
          35,
          null,
          17,
          35,
          null,
          17,
          28,
          null,
          17,
          51,
          null,
          17,
          63,
          null,
          17,
          31,
          null,
          17,
          55,
          null,
          17,
          67,
          null,
          17,
          17,
          null,
          17,
          26,
          null,
          17,
          53,
          null,
          17,
          45,
          null,
          17,
          20,
          null,
          17,
          50,
          null,
          17,
          45,
          null,
          26,
          35,
          null,
          26,
          35,
          null,
          26,
          28,
          null,
          26,
          51,
          null,
          26,
          63,
          null,
          26,
          31,
          null,
          26,
          55,
          null,
          26,
          67,
          null,
          26,
          17,
          null,
          26,
          26,
          null,
          26,
          53,
          null,
          26,
          45,
          null,
          26,
          20,
          null,
          26,
          50,
          null,
          26,
          45,
          null,
          53,
          35,
          null,
          53,
          35,
          null,
          53,
          28,
          null,
          53,
          51,
          null,
          53,
          63,
          null,
          53,
          31,
          null,
          53,
          55,
          null,
          53,
          67,
          null,
          53,
          17,
          null,
          53,
          26,
          null,
          53,
          53,
          null,
          53,
          45,
          null,
          53,
          20,
          null,
          53,
          50,
          null,
          53,
          45,
          null,
          45,
          35,
          null,
          45,
          35,
          null,
          45,
          28,
          null,
          45,
          51,
          null,
          45,
          63,
          null,
          45,
          31,
          null,
          45,
          55,
          null,
          45,
          67,
          null,
          45,
          17,
          null,
          45,
          26,
          null,
          45,
          53,
          null,
          45,
          45,
          null,
          45,
          20,
          null,
          45,
          50,
          null,
          45,
          45,
          null,
          20,
          35,
          null,
          20,
          35,
          null,
          20,
          28,
          null,
          20,
          51,
          null,
          20,
          63,
          null,
          20,
          31,
          null,
          20,
          55,
          null,
          20,
          67,
          null,
          20,
          17,
          null,
          20,
          26,
          null,
          20,
          53,
          null,
          20,
          45,
          null,
          20,
          20,
          null,
          20,
          50,
          null,
          20,
          45,
          null,
          50,
          35,
          null,
          50,
          35,
          null,
          50,
          28,
          null,
          50,
          51,
          null,
          50,
          63,
          null,
          50,
          31,
          null,
          50,
          55,
          null,
          50,
          67,
          null,
          50,
          17,
          null,
          50,
          26,
          null,
          50,
          53,
          null,
          50,
          45,
          null,
          50,
          20,
          null,
          50,
          50,
          null,
          50,
          45,
          null,
          45,
          35,
          null,
          45,
          35,
          null,
          45,
          28,
          null,
          45,
          51,
          null,
          45,
          63,
          null,
          45,
          31,
          null,
          45,
          55,
          null,
          45,
          67,
          null,
          45,
          17,
          null,
          45,
          26,
          null,
          45,
          53,
          null,
          45,
          45,
          null,
          45,
          20,
          null,
          45,
          50,
          null,
          45,
          45,
          null
         ],
         "y": [
          35,
          35,
          null,
          35,
          35,
          null,
          35,
          62,
          null,
          35,
          7,
          null,
          35,
          12,
          null,
          35,
          52,
          null,
          35,
          5,
          null,
          35,
          5,
          null,
          35,
          34,
          null,
          35,
          52,
          null,
          35,
          43,
          null,
          35,
          65,
          null,
          35,
          26,
          null,
          35,
          35,
          null,
          35,
          20,
          null,
          35,
          35,
          null,
          35,
          35,
          null,
          35,
          62,
          null,
          35,
          7,
          null,
          35,
          12,
          null,
          35,
          52,
          null,
          35,
          5,
          null,
          35,
          5,
          null,
          35,
          34,
          null,
          35,
          52,
          null,
          35,
          43,
          null,
          35,
          65,
          null,
          35,
          26,
          null,
          35,
          35,
          null,
          35,
          20,
          null,
          62,
          35,
          null,
          62,
          35,
          null,
          62,
          62,
          null,
          62,
          7,
          null,
          62,
          12,
          null,
          62,
          52,
          null,
          62,
          5,
          null,
          62,
          5,
          null,
          62,
          34,
          null,
          62,
          52,
          null,
          62,
          43,
          null,
          62,
          65,
          null,
          62,
          26,
          null,
          62,
          35,
          null,
          62,
          20,
          null,
          7,
          35,
          null,
          7,
          35,
          null,
          7,
          62,
          null,
          7,
          7,
          null,
          7,
          12,
          null,
          7,
          52,
          null,
          7,
          5,
          null,
          7,
          5,
          null,
          7,
          34,
          null,
          7,
          52,
          null,
          7,
          43,
          null,
          7,
          65,
          null,
          7,
          26,
          null,
          7,
          35,
          null,
          7,
          20,
          null,
          12,
          35,
          null,
          12,
          35,
          null,
          12,
          62,
          null,
          12,
          7,
          null,
          12,
          12,
          null,
          12,
          52,
          null,
          12,
          5,
          null,
          12,
          5,
          null,
          12,
          34,
          null,
          12,
          52,
          null,
          12,
          43,
          null,
          12,
          65,
          null,
          12,
          26,
          null,
          12,
          35,
          null,
          12,
          20,
          null,
          52,
          35,
          null,
          52,
          35,
          null,
          52,
          62,
          null,
          52,
          7,
          null,
          52,
          12,
          null,
          52,
          52,
          null,
          52,
          5,
          null,
          52,
          5,
          null,
          52,
          34,
          null,
          52,
          52,
          null,
          52,
          43,
          null,
          52,
          65,
          null,
          52,
          26,
          null,
          52,
          35,
          null,
          52,
          20,
          null,
          5,
          35,
          null,
          5,
          35,
          null,
          5,
          62,
          null,
          5,
          7,
          null,
          5,
          12,
          null,
          5,
          52,
          null,
          5,
          5,
          null,
          5,
          5,
          null,
          5,
          34,
          null,
          5,
          52,
          null,
          5,
          43,
          null,
          5,
          65,
          null,
          5,
          26,
          null,
          5,
          35,
          null,
          5,
          20,
          null,
          5,
          35,
          null,
          5,
          35,
          null,
          5,
          62,
          null,
          5,
          7,
          null,
          5,
          12,
          null,
          5,
          52,
          null,
          5,
          5,
          null,
          5,
          5,
          null,
          5,
          34,
          null,
          5,
          52,
          null,
          5,
          43,
          null,
          5,
          65,
          null,
          5,
          26,
          null,
          5,
          35,
          null,
          5,
          20,
          null,
          34,
          35,
          null,
          34,
          35,
          null,
          34,
          62,
          null,
          34,
          7,
          null,
          34,
          12,
          null,
          34,
          52,
          null,
          34,
          5,
          null,
          34,
          5,
          null,
          34,
          34,
          null,
          34,
          52,
          null,
          34,
          43,
          null,
          34,
          65,
          null,
          34,
          26,
          null,
          34,
          35,
          null,
          34,
          20,
          null,
          52,
          35,
          null,
          52,
          35,
          null,
          52,
          62,
          null,
          52,
          7,
          null,
          52,
          12,
          null,
          52,
          52,
          null,
          52,
          5,
          null,
          52,
          5,
          null,
          52,
          34,
          null,
          52,
          52,
          null,
          52,
          43,
          null,
          52,
          65,
          null,
          52,
          26,
          null,
          52,
          35,
          null,
          52,
          20,
          null,
          43,
          35,
          null,
          43,
          35,
          null,
          43,
          62,
          null,
          43,
          7,
          null,
          43,
          12,
          null,
          43,
          52,
          null,
          43,
          5,
          null,
          43,
          5,
          null,
          43,
          34,
          null,
          43,
          52,
          null,
          43,
          43,
          null,
          43,
          65,
          null,
          43,
          26,
          null,
          43,
          35,
          null,
          43,
          20,
          null,
          65,
          35,
          null,
          65,
          35,
          null,
          65,
          62,
          null,
          65,
          7,
          null,
          65,
          12,
          null,
          65,
          52,
          null,
          65,
          5,
          null,
          65,
          5,
          null,
          65,
          34,
          null,
          65,
          52,
          null,
          65,
          43,
          null,
          65,
          65,
          null,
          65,
          26,
          null,
          65,
          35,
          null,
          65,
          20,
          null,
          26,
          35,
          null,
          26,
          35,
          null,
          26,
          62,
          null,
          26,
          7,
          null,
          26,
          12,
          null,
          26,
          52,
          null,
          26,
          5,
          null,
          26,
          5,
          null,
          26,
          34,
          null,
          26,
          52,
          null,
          26,
          43,
          null,
          26,
          65,
          null,
          26,
          26,
          null,
          26,
          35,
          null,
          26,
          20,
          null,
          35,
          35,
          null,
          35,
          35,
          null,
          35,
          62,
          null,
          35,
          7,
          null,
          35,
          12,
          null,
          35,
          52,
          null,
          35,
          5,
          null,
          35,
          5,
          null,
          35,
          34,
          null,
          35,
          52,
          null,
          35,
          43,
          null,
          35,
          65,
          null,
          35,
          26,
          null,
          35,
          35,
          null,
          35,
          20,
          null,
          20,
          35,
          null,
          20,
          35,
          null,
          20,
          62,
          null,
          20,
          7,
          null,
          20,
          12,
          null,
          20,
          52,
          null,
          20,
          5,
          null,
          20,
          5,
          null,
          20,
          34,
          null,
          20,
          52,
          null,
          20,
          43,
          null,
          20,
          65,
          null,
          20,
          26,
          null,
          20,
          35,
          null,
          20,
          20,
          null
         ]
        },
        {
         "customdata": [
          "start depot",
          "terminal depot",
          "charging station",
          "charging station",
          "charging station",
          "customer",
          "customer",
          "customer",
          "customer",
          "customer",
          "customer",
          "customer",
          "customer",
          "customer",
          "customer"
         ],
         "hoverinfo": "none",
         "hovertemplate": "<b>%{text}</b>: %{customdata}<br>X: %{x}<br>Y: %{y}",
         "marker": {
          "color": [
           "rgba(191, 243, 180, 0.8)",
           "rgba(191, 243, 180, 0.8)",
           "rgba(167, 215, 241, 0.8)",
           "rgba(167, 215, 241, 0.8)",
           "rgba(167, 215, 241, 0.8)",
           "rgba(240, 169, 171, 0.8)",
           "rgba(240, 169, 171, 0.8)",
           "rgba(240, 169, 171, 0.8)",
           "rgba(240, 169, 171, 0.8)",
           "rgba(240, 169, 171, 0.8)",
           "rgba(240, 169, 171, 0.8)",
           "rgba(240, 169, 171, 0.8)",
           "rgba(240, 169, 171, 0.8)",
           "rgba(240, 169, 171, 0.8)",
           "rgba(240, 169, 171, 0.8)"
          ],
          "size": 25
         },
         "mode": "markers+text",
         "name": "Nodes",
         "showlegend": true,
         "text": [
          "d0",
          "d-1",
          "s1",
          "s2",
          "s3",
          "m1",
          "m2",
          "m3",
          "m4",
          "m5",
          "m6",
          "m7",
          "m8",
          "m9",
          "m10"
         ],
         "type": "scatter",
         "x": [
          35,
          35,
          28,
          51,
          63,
          31,
          55,
          67,
          17,
          26,
          53,
          45,
          20,
          50,
          45
         ],
         "y": [
          35,
          35,
          62,
          7,
          12,
          52,
          5,
          5,
          34,
          52,
          43,
          65,
          26,
          35,
          20
         ]
        }
       ],
       "layout": {
        "height": 600,
        "showlegend": true,
        "template": {
         "data": {
          "bar": [
           {
            "error_x": {
             "color": "rgb(36,36,36)"
            },
            "error_y": {
             "color": "rgb(36,36,36)"
            },
            "marker": {
             "line": {
              "color": "white",
              "width": 0.5
             }
            },
            "type": "bar"
           }
          ],
          "barpolar": [
           {
            "marker": {
             "line": {
              "color": "white",
              "width": 0.5
             }
            },
            "type": "barpolar"
           }
          ],
          "carpet": [
           {
            "aaxis": {
             "endlinecolor": "rgb(36,36,36)",
             "gridcolor": "white",
             "linecolor": "white",
             "minorgridcolor": "white",
             "startlinecolor": "rgb(36,36,36)"
            },
            "baxis": {
             "endlinecolor": "rgb(36,36,36)",
             "gridcolor": "white",
             "linecolor": "white",
             "minorgridcolor": "white",
             "startlinecolor": "rgb(36,36,36)"
            },
            "type": "carpet"
           }
          ],
          "choropleth": [
           {
            "colorbar": {
             "outlinewidth": 1,
             "tickcolor": "rgb(36,36,36)",
             "ticks": "outside"
            },
            "type": "choropleth"
           }
          ],
          "contour": [
           {
            "colorbar": {
             "outlinewidth": 1,
             "tickcolor": "rgb(36,36,36)",
             "ticks": "outside"
            },
            "colorscale": [
             [
              0.0,
              "#440154"
             ],
             [
              0.1111111111111111,
              "#482878"
             ],
             [
              0.2222222222222222,
              "#3e4989"
             ],
             [
              0.3333333333333333,
              "#31688e"
             ],
             [
              0.4444444444444444,
              "#26828e"
             ],
             [
              0.5555555555555556,
              "#1f9e89"
             ],
             [
              0.6666666666666666,
              "#35b779"
             ],
             [
              0.7777777777777778,
              "#6ece58"
             ],
             [
              0.8888888888888888,
              "#b5de2b"
             ],
             [
              1.0,
              "#fde725"
             ]
            ],
            "type": "contour"
           }
          ],
          "contourcarpet": [
           {
            "colorbar": {
             "outlinewidth": 1,
             "tickcolor": "rgb(36,36,36)",
             "ticks": "outside"
            },
            "type": "contourcarpet"
           }
          ],
          "heatmap": [
           {
            "colorbar": {
             "outlinewidth": 1,
             "tickcolor": "rgb(36,36,36)",
             "ticks": "outside"
            },
            "colorscale": [
             [
              0.0,
              "#440154"
             ],
             [
              0.1111111111111111,
              "#482878"
             ],
             [
              0.2222222222222222,
              "#3e4989"
             ],
             [
              0.3333333333333333,
              "#31688e"
             ],
             [
              0.4444444444444444,
              "#26828e"
             ],
             [
              0.5555555555555556,
              "#1f9e89"
             ],
             [
              0.6666666666666666,
              "#35b779"
             ],
             [
              0.7777777777777778,
              "#6ece58"
             ],
             [
              0.8888888888888888,
              "#b5de2b"
             ],
             [
              1.0,
              "#fde725"
             ]
            ],
            "type": "heatmap"
           }
          ],
          "heatmapgl": [
           {
            "colorbar": {
             "outlinewidth": 1,
             "tickcolor": "rgb(36,36,36)",
             "ticks": "outside"
            },
            "colorscale": [
             [
              0.0,
              "#440154"
             ],
             [
              0.1111111111111111,
              "#482878"
             ],
             [
              0.2222222222222222,
              "#3e4989"
             ],
             [
              0.3333333333333333,
              "#31688e"
             ],
             [
              0.4444444444444444,
              "#26828e"
             ],
             [
              0.5555555555555556,
              "#1f9e89"
             ],
             [
              0.6666666666666666,
              "#35b779"
             ],
             [
              0.7777777777777778,
              "#6ece58"
             ],
             [
              0.8888888888888888,
              "#b5de2b"
             ],
             [
              1.0,
              "#fde725"
             ]
            ],
            "type": "heatmapgl"
           }
          ],
          "histogram": [
           {
            "marker": {
             "line": {
              "color": "white",
              "width": 0.6
             }
            },
            "type": "histogram"
           }
          ],
          "histogram2d": [
           {
            "colorbar": {
             "outlinewidth": 1,
             "tickcolor": "rgb(36,36,36)",
             "ticks": "outside"
            },
            "colorscale": [
             [
              0.0,
              "#440154"
             ],
             [
              0.1111111111111111,
              "#482878"
             ],
             [
              0.2222222222222222,
              "#3e4989"
             ],
             [
              0.3333333333333333,
              "#31688e"
             ],
             [
              0.4444444444444444,
              "#26828e"
             ],
             [
              0.5555555555555556,
              "#1f9e89"
             ],
             [
              0.6666666666666666,
              "#35b779"
             ],
             [
              0.7777777777777778,
              "#6ece58"
             ],
             [
              0.8888888888888888,
              "#b5de2b"
             ],
             [
              1.0,
              "#fde725"
             ]
            ],
            "type": "histogram2d"
           }
          ],
          "histogram2dcontour": [
           {
            "colorbar": {
             "outlinewidth": 1,
             "tickcolor": "rgb(36,36,36)",
             "ticks": "outside"
            },
            "colorscale": [
             [
              0.0,
              "#440154"
             ],
             [
              0.1111111111111111,
              "#482878"
             ],
             [
              0.2222222222222222,
              "#3e4989"
             ],
             [
              0.3333333333333333,
              "#31688e"
             ],
             [
              0.4444444444444444,
              "#26828e"
             ],
             [
              0.5555555555555556,
              "#1f9e89"
             ],
             [
              0.6666666666666666,
              "#35b779"
             ],
             [
              0.7777777777777778,
              "#6ece58"
             ],
             [
              0.8888888888888888,
              "#b5de2b"
             ],
             [
              1.0,
              "#fde725"
             ]
            ],
            "type": "histogram2dcontour"
           }
          ],
          "mesh3d": [
           {
            "colorbar": {
             "outlinewidth": 1,
             "tickcolor": "rgb(36,36,36)",
             "ticks": "outside"
            },
            "type": "mesh3d"
           }
          ],
          "parcoords": [
           {
            "line": {
             "colorbar": {
              "outlinewidth": 1,
              "tickcolor": "rgb(36,36,36)",
              "ticks": "outside"
             }
            },
            "type": "parcoords"
           }
          ],
          "pie": [
           {
            "automargin": true,
            "type": "pie"
           }
          ],
          "scatter": [
           {
            "marker": {
             "colorbar": {
              "outlinewidth": 1,
              "tickcolor": "rgb(36,36,36)",
              "ticks": "outside"
             }
            },
            "type": "scatter"
           }
          ],
          "scatter3d": [
           {
            "line": {
             "colorbar": {
              "outlinewidth": 1,
              "tickcolor": "rgb(36,36,36)",
              "ticks": "outside"
             }
            },
            "marker": {
             "colorbar": {
              "outlinewidth": 1,
              "tickcolor": "rgb(36,36,36)",
              "ticks": "outside"
             }
            },
            "type": "scatter3d"
           }
          ],
          "scattercarpet": [
           {
            "marker": {
             "colorbar": {
              "outlinewidth": 1,
              "tickcolor": "rgb(36,36,36)",
              "ticks": "outside"
             }
            },
            "type": "scattercarpet"
           }
          ],
          "scattergeo": [
           {
            "marker": {
             "colorbar": {
              "outlinewidth": 1,
              "tickcolor": "rgb(36,36,36)",
              "ticks": "outside"
             }
            },
            "type": "scattergeo"
           }
          ],
          "scattergl": [
           {
            "marker": {
             "colorbar": {
              "outlinewidth": 1,
              "tickcolor": "rgb(36,36,36)",
              "ticks": "outside"
             }
            },
            "type": "scattergl"
           }
          ],
          "scattermapbox": [
           {
            "marker": {
             "colorbar": {
              "outlinewidth": 1,
              "tickcolor": "rgb(36,36,36)",
              "ticks": "outside"
             }
            },
            "type": "scattermapbox"
           }
          ],
          "scatterpolar": [
           {
            "marker": {
             "colorbar": {
              "outlinewidth": 1,
              "tickcolor": "rgb(36,36,36)",
              "ticks": "outside"
             }
            },
            "type": "scatterpolar"
           }
          ],
          "scatterpolargl": [
           {
            "marker": {
             "colorbar": {
              "outlinewidth": 1,
              "tickcolor": "rgb(36,36,36)",
              "ticks": "outside"
             }
            },
            "type": "scatterpolargl"
           }
          ],
          "scatterternary": [
           {
            "marker": {
             "colorbar": {
              "outlinewidth": 1,
              "tickcolor": "rgb(36,36,36)",
              "ticks": "outside"
             }
            },
            "type": "scatterternary"
           }
          ],
          "surface": [
           {
            "colorbar": {
             "outlinewidth": 1,
             "tickcolor": "rgb(36,36,36)",
             "ticks": "outside"
            },
            "colorscale": [
             [
              0.0,
              "#440154"
             ],
             [
              0.1111111111111111,
              "#482878"
             ],
             [
              0.2222222222222222,
              "#3e4989"
             ],
             [
              0.3333333333333333,
              "#31688e"
             ],
             [
              0.4444444444444444,
              "#26828e"
             ],
             [
              0.5555555555555556,
              "#1f9e89"
             ],
             [
              0.6666666666666666,
              "#35b779"
             ],
             [
              0.7777777777777778,
              "#6ece58"
             ],
             [
              0.8888888888888888,
              "#b5de2b"
             ],
             [
              1.0,
              "#fde725"
             ]
            ],
            "type": "surface"
           }
          ],
          "table": [
           {
            "cells": {
             "fill": {
              "color": "rgb(237,237,237)"
             },
             "line": {
              "color": "white"
             }
            },
            "header": {
             "fill": {
              "color": "rgb(217,217,217)"
             },
             "line": {
              "color": "white"
             }
            },
            "type": "table"
           }
          ]
         },
         "layout": {
          "annotationdefaults": {
           "arrowhead": 0,
           "arrowwidth": 1
          },
          "coloraxis": {
           "colorbar": {
            "outlinewidth": 1,
            "tickcolor": "rgb(36,36,36)",
            "ticks": "outside"
           }
          },
          "colorscale": {
           "diverging": [
            [
             0.0,
             "rgb(103,0,31)"
            ],
            [
             0.1,
             "rgb(178,24,43)"
            ],
            [
             0.2,
             "rgb(214,96,77)"
            ],
            [
             0.3,
             "rgb(244,165,130)"
            ],
            [
             0.4,
             "rgb(253,219,199)"
            ],
            [
             0.5,
             "rgb(247,247,247)"
            ],
            [
             0.6,
             "rgb(209,229,240)"
            ],
            [
             0.7,
             "rgb(146,197,222)"
            ],
            [
             0.8,
             "rgb(67,147,195)"
            ],
            [
             0.9,
             "rgb(33,102,172)"
            ],
            [
             1.0,
             "rgb(5,48,97)"
            ]
           ],
           "sequential": [
            [
             0.0,
             "#440154"
            ],
            [
             0.1111111111111111,
             "#482878"
            ],
            [
             0.2222222222222222,
             "#3e4989"
            ],
            [
             0.3333333333333333,
             "#31688e"
            ],
            [
             0.4444444444444444,
             "#26828e"
            ],
            [
             0.5555555555555556,
             "#1f9e89"
            ],
            [
             0.6666666666666666,
             "#35b779"
            ],
            [
             0.7777777777777778,
             "#6ece58"
            ],
            [
             0.8888888888888888,
             "#b5de2b"
            ],
            [
             1.0,
             "#fde725"
            ]
           ],
           "sequentialminus": [
            [
             0.0,
             "#440154"
            ],
            [
             0.1111111111111111,
             "#482878"
            ],
            [
             0.2222222222222222,
             "#3e4989"
            ],
            [
             0.3333333333333333,
             "#31688e"
            ],
            [
             0.4444444444444444,
             "#26828e"
            ],
            [
             0.5555555555555556,
             "#1f9e89"
            ],
            [
             0.6666666666666666,
             "#35b779"
            ],
            [
             0.7777777777777778,
             "#6ece58"
            ],
            [
             0.8888888888888888,
             "#b5de2b"
            ],
            [
             1.0,
             "#fde725"
            ]
           ]
          },
          "colorway": [
           "#1F77B4",
           "#FF7F0E",
           "#2CA02C",
           "#D62728",
           "#9467BD",
           "#8C564B",
           "#E377C2",
           "#7F7F7F",
           "#BCBD22",
           "#17BECF"
          ],
          "font": {
           "color": "rgb(36,36,36)"
          },
          "geo": {
           "bgcolor": "white",
           "lakecolor": "white",
           "landcolor": "white",
           "showlakes": true,
           "showland": true,
           "subunitcolor": "white"
          },
          "hoverlabel": {
           "align": "left"
          },
          "hovermode": "closest",
          "mapbox": {
           "style": "light"
          },
          "paper_bgcolor": "white",
          "plot_bgcolor": "white",
          "polar": {
           "angularaxis": {
            "gridcolor": "rgb(232,232,232)",
            "linecolor": "rgb(36,36,36)",
            "showgrid": false,
            "showline": true,
            "ticks": "outside"
           },
           "bgcolor": "white",
           "radialaxis": {
            "gridcolor": "rgb(232,232,232)",
            "linecolor": "rgb(36,36,36)",
            "showgrid": false,
            "showline": true,
            "ticks": "outside"
           }
          },
          "scene": {
           "xaxis": {
            "backgroundcolor": "white",
            "gridcolor": "rgb(232,232,232)",
            "gridwidth": 2,
            "linecolor": "rgb(36,36,36)",
            "showbackground": true,
            "showgrid": false,
            "showline": true,
            "ticks": "outside",
            "zeroline": false,
            "zerolinecolor": "rgb(36,36,36)"
           },
           "yaxis": {
            "backgroundcolor": "white",
            "gridcolor": "rgb(232,232,232)",
            "gridwidth": 2,
            "linecolor": "rgb(36,36,36)",
            "showbackground": true,
            "showgrid": false,
            "showline": true,
            "ticks": "outside",
            "zeroline": false,
            "zerolinecolor": "rgb(36,36,36)"
           },
           "zaxis": {
            "backgroundcolor": "white",
            "gridcolor": "rgb(232,232,232)",
            "gridwidth": 2,
            "linecolor": "rgb(36,36,36)",
            "showbackground": true,
            "showgrid": false,
            "showline": true,
            "ticks": "outside",
            "zeroline": false,
            "zerolinecolor": "rgb(36,36,36)"
           }
          },
          "shapedefaults": {
           "fillcolor": "black",
           "line": {
            "width": 0
           },
           "opacity": 0.3
          },
          "ternary": {
           "aaxis": {
            "gridcolor": "rgb(232,232,232)",
            "linecolor": "rgb(36,36,36)",
            "showgrid": false,
            "showline": true,
            "ticks": "outside"
           },
           "baxis": {
            "gridcolor": "rgb(232,232,232)",
            "linecolor": "rgb(36,36,36)",
            "showgrid": false,
            "showline": true,
            "ticks": "outside"
           },
           "bgcolor": "white",
           "caxis": {
            "gridcolor": "rgb(232,232,232)",
            "linecolor": "rgb(36,36,36)",
            "showgrid": false,
            "showline": true,
            "ticks": "outside"
           }
          },
          "title": {
           "x": 0.05
          },
          "xaxis": {
           "automargin": true,
           "gridcolor": "rgb(232,232,232)",
           "linecolor": "rgb(36,36,36)",
           "showgrid": false,
           "showline": true,
           "ticks": "outside",
           "title": {
            "standoff": 15
           },
           "zeroline": false,
           "zerolinecolor": "rgb(36,36,36)"
          },
          "yaxis": {
           "automargin": true,
           "gridcolor": "rgb(232,232,232)",
           "linecolor": "rgb(36,36,36)",
           "showgrid": false,
           "showline": true,
           "ticks": "outside",
           "title": {
            "standoff": 15
           },
           "zeroline": false,
           "zerolinecolor": "rgb(36,36,36)"
          }
         }
        },
        "xaxis": {
         "anchor": "y",
         "constrain": "domain",
         "domain": [
          0.0,
          1.0
         ],
         "mirror": true,
         "range": [
          0,
          73.7
         ],
         "showline": true,
         "ticks": "outside",
         "title": {
          "text": "x"
         }
        },
        "yaxis": {
         "anchor": "x",
         "domain": [
          0.0,
          1.0
         ],
         "mirror": true,
         "range": [
          0,
          71.5
         ],
         "scaleanchor": "x",
         "scaleratio": 1,
         "showline": true,
         "ticks": "outside",
         "title": {
          "text": "y"
         }
        }
       }
      },
      "text/html": "<div>\n        \n        \n            <div id=\"01f497d1-2983-4d2b-840e-afdf4c89cacd\" class=\"plotly-graph-div\" style=\"height:600px; width:100%;\"></div>\n            <script type=\"text/javascript\">\n                require([\"plotly\"], function(Plotly) {\n                    window.PLOTLYENV=window.PLOTLYENV || {};\n                    \n                if (document.getElementById(\"01f497d1-2983-4d2b-840e-afdf4c89cacd\")) {\n                    Plotly.newPlot(\n                        '01f497d1-2983-4d2b-840e-afdf4c89cacd',\n                        [{\"hoverinfo\": \"none\", \"line\": {\"color\": \"#888\", \"width\": 0.5}, \"mode\": \"lines\", \"name\": \"Edges\", \"type\": \"scatter\", \"x\": [35, 35, null, 35, 35, null, 35, 28, null, 35, 51, null, 35, 63, null, 35, 31, null, 35, 55, null, 35, 67, null, 35, 17, null, 35, 26, null, 35, 53, null, 35, 45, null, 35, 20, null, 35, 50, null, 35, 45, null, 35, 35, null, 35, 35, null, 35, 28, null, 35, 51, null, 35, 63, null, 35, 31, null, 35, 55, null, 35, 67, null, 35, 17, null, 35, 26, null, 35, 53, null, 35, 45, null, 35, 20, null, 35, 50, null, 35, 45, null, 28, 35, null, 28, 35, null, 28, 28, null, 28, 51, null, 28, 63, null, 28, 31, null, 28, 55, null, 28, 67, null, 28, 17, null, 28, 26, null, 28, 53, null, 28, 45, null, 28, 20, null, 28, 50, null, 28, 45, null, 51, 35, null, 51, 35, null, 51, 28, null, 51, 51, null, 51, 63, null, 51, 31, null, 51, 55, null, 51, 67, null, 51, 17, null, 51, 26, null, 51, 53, null, 51, 45, null, 51, 20, null, 51, 50, null, 51, 45, null, 63, 35, null, 63, 35, null, 63, 28, null, 63, 51, null, 63, 63, null, 63, 31, null, 63, 55, null, 63, 67, null, 63, 17, null, 63, 26, null, 63, 53, null, 63, 45, null, 63, 20, null, 63, 50, null, 63, 45, null, 31, 35, null, 31, 35, null, 31, 28, null, 31, 51, null, 31, 63, null, 31, 31, null, 31, 55, null, 31, 67, null, 31, 17, null, 31, 26, null, 31, 53, null, 31, 45, null, 31, 20, null, 31, 50, null, 31, 45, null, 55, 35, null, 55, 35, null, 55, 28, null, 55, 51, null, 55, 63, null, 55, 31, null, 55, 55, null, 55, 67, null, 55, 17, null, 55, 26, null, 55, 53, null, 55, 45, null, 55, 20, null, 55, 50, null, 55, 45, null, 67, 35, null, 67, 35, null, 67, 28, null, 67, 51, null, 67, 63, null, 67, 31, null, 67, 55, null, 67, 67, null, 67, 17, null, 67, 26, null, 67, 53, null, 67, 45, null, 67, 20, null, 67, 50, null, 67, 45, null, 17, 35, null, 17, 35, null, 17, 28, null, 17, 51, null, 17, 63, null, 17, 31, null, 17, 55, null, 17, 67, null, 17, 17, null, 17, 26, null, 17, 53, null, 17, 45, null, 17, 20, null, 17, 50, null, 17, 45, null, 26, 35, null, 26, 35, null, 26, 28, null, 26, 51, null, 26, 63, null, 26, 31, null, 26, 55, null, 26, 67, null, 26, 17, null, 26, 26, null, 26, 53, null, 26, 45, null, 26, 20, null, 26, 50, null, 26, 45, null, 53, 35, null, 53, 35, null, 53, 28, null, 53, 51, null, 53, 63, null, 53, 31, null, 53, 55, null, 53, 67, null, 53, 17, null, 53, 26, null, 53, 53, null, 53, 45, null, 53, 20, null, 53, 50, null, 53, 45, null, 45, 35, null, 45, 35, null, 45, 28, null, 45, 51, null, 45, 63, null, 45, 31, null, 45, 55, null, 45, 67, null, 45, 17, null, 45, 26, null, 45, 53, null, 45, 45, null, 45, 20, null, 45, 50, null, 45, 45, null, 20, 35, null, 20, 35, null, 20, 28, null, 20, 51, null, 20, 63, null, 20, 31, null, 20, 55, null, 20, 67, null, 20, 17, null, 20, 26, null, 20, 53, null, 20, 45, null, 20, 20, null, 20, 50, null, 20, 45, null, 50, 35, null, 50, 35, null, 50, 28, null, 50, 51, null, 50, 63, null, 50, 31, null, 50, 55, null, 50, 67, null, 50, 17, null, 50, 26, null, 50, 53, null, 50, 45, null, 50, 20, null, 50, 50, null, 50, 45, null, 45, 35, null, 45, 35, null, 45, 28, null, 45, 51, null, 45, 63, null, 45, 31, null, 45, 55, null, 45, 67, null, 45, 17, null, 45, 26, null, 45, 53, null, 45, 45, null, 45, 20, null, 45, 50, null, 45, 45, null], \"y\": [35, 35, null, 35, 35, null, 35, 62, null, 35, 7, null, 35, 12, null, 35, 52, null, 35, 5, null, 35, 5, null, 35, 34, null, 35, 52, null, 35, 43, null, 35, 65, null, 35, 26, null, 35, 35, null, 35, 20, null, 35, 35, null, 35, 35, null, 35, 62, null, 35, 7, null, 35, 12, null, 35, 52, null, 35, 5, null, 35, 5, null, 35, 34, null, 35, 52, null, 35, 43, null, 35, 65, null, 35, 26, null, 35, 35, null, 35, 20, null, 62, 35, null, 62, 35, null, 62, 62, null, 62, 7, null, 62, 12, null, 62, 52, null, 62, 5, null, 62, 5, null, 62, 34, null, 62, 52, null, 62, 43, null, 62, 65, null, 62, 26, null, 62, 35, null, 62, 20, null, 7, 35, null, 7, 35, null, 7, 62, null, 7, 7, null, 7, 12, null, 7, 52, null, 7, 5, null, 7, 5, null, 7, 34, null, 7, 52, null, 7, 43, null, 7, 65, null, 7, 26, null, 7, 35, null, 7, 20, null, 12, 35, null, 12, 35, null, 12, 62, null, 12, 7, null, 12, 12, null, 12, 52, null, 12, 5, null, 12, 5, null, 12, 34, null, 12, 52, null, 12, 43, null, 12, 65, null, 12, 26, null, 12, 35, null, 12, 20, null, 52, 35, null, 52, 35, null, 52, 62, null, 52, 7, null, 52, 12, null, 52, 52, null, 52, 5, null, 52, 5, null, 52, 34, null, 52, 52, null, 52, 43, null, 52, 65, null, 52, 26, null, 52, 35, null, 52, 20, null, 5, 35, null, 5, 35, null, 5, 62, null, 5, 7, null, 5, 12, null, 5, 52, null, 5, 5, null, 5, 5, null, 5, 34, null, 5, 52, null, 5, 43, null, 5, 65, null, 5, 26, null, 5, 35, null, 5, 20, null, 5, 35, null, 5, 35, null, 5, 62, null, 5, 7, null, 5, 12, null, 5, 52, null, 5, 5, null, 5, 5, null, 5, 34, null, 5, 52, null, 5, 43, null, 5, 65, null, 5, 26, null, 5, 35, null, 5, 20, null, 34, 35, null, 34, 35, null, 34, 62, null, 34, 7, null, 34, 12, null, 34, 52, null, 34, 5, null, 34, 5, null, 34, 34, null, 34, 52, null, 34, 43, null, 34, 65, null, 34, 26, null, 34, 35, null, 34, 20, null, 52, 35, null, 52, 35, null, 52, 62, null, 52, 7, null, 52, 12, null, 52, 52, null, 52, 5, null, 52, 5, null, 52, 34, null, 52, 52, null, 52, 43, null, 52, 65, null, 52, 26, null, 52, 35, null, 52, 20, null, 43, 35, null, 43, 35, null, 43, 62, null, 43, 7, null, 43, 12, null, 43, 52, null, 43, 5, null, 43, 5, null, 43, 34, null, 43, 52, null, 43, 43, null, 43, 65, null, 43, 26, null, 43, 35, null, 43, 20, null, 65, 35, null, 65, 35, null, 65, 62, null, 65, 7, null, 65, 12, null, 65, 52, null, 65, 5, null, 65, 5, null, 65, 34, null, 65, 52, null, 65, 43, null, 65, 65, null, 65, 26, null, 65, 35, null, 65, 20, null, 26, 35, null, 26, 35, null, 26, 62, null, 26, 7, null, 26, 12, null, 26, 52, null, 26, 5, null, 26, 5, null, 26, 34, null, 26, 52, null, 26, 43, null, 26, 65, null, 26, 26, null, 26, 35, null, 26, 20, null, 35, 35, null, 35, 35, null, 35, 62, null, 35, 7, null, 35, 12, null, 35, 52, null, 35, 5, null, 35, 5, null, 35, 34, null, 35, 52, null, 35, 43, null, 35, 65, null, 35, 26, null, 35, 35, null, 35, 20, null, 20, 35, null, 20, 35, null, 20, 62, null, 20, 7, null, 20, 12, null, 20, 52, null, 20, 5, null, 20, 5, null, 20, 34, null, 20, 52, null, 20, 43, null, 20, 65, null, 20, 26, null, 20, 35, null, 20, 20, null]}, {\"customdata\": [\"start depot\", \"terminal depot\", \"charging station\", \"charging station\", \"charging station\", \"customer\", \"customer\", \"customer\", \"customer\", \"customer\", \"customer\", \"customer\", \"customer\", \"customer\", \"customer\"], \"hoverinfo\": \"none\", \"hovertemplate\": \"<b>%{text}</b>: %{customdata}<br>X: %{x}<br>Y: %{y}\", \"marker\": {\"color\": [\"rgba(191, 243, 180, 0.8)\", \"rgba(191, 243, 180, 0.8)\", \"rgba(167, 215, 241, 0.8)\", \"rgba(167, 215, 241, 0.8)\", \"rgba(167, 215, 241, 0.8)\", \"rgba(240, 169, 171, 0.8)\", \"rgba(240, 169, 171, 0.8)\", \"rgba(240, 169, 171, 0.8)\", \"rgba(240, 169, 171, 0.8)\", \"rgba(240, 169, 171, 0.8)\", \"rgba(240, 169, 171, 0.8)\", \"rgba(240, 169, 171, 0.8)\", \"rgba(240, 169, 171, 0.8)\", \"rgba(240, 169, 171, 0.8)\", \"rgba(240, 169, 171, 0.8)\"], \"size\": 25}, \"mode\": \"markers+text\", \"name\": \"Nodes\", \"showlegend\": true, \"text\": [\"d0\", \"d-1\", \"s1\", \"s2\", \"s3\", \"m1\", \"m2\", \"m3\", \"m4\", \"m5\", \"m6\", \"m7\", \"m8\", \"m9\", \"m10\"], \"type\": \"scatter\", \"x\": [35, 35, 28, 51, 63, 31, 55, 67, 17, 26, 53, 45, 20, 50, 45], \"y\": [35, 35, 62, 7, 12, 52, 5, 5, 34, 52, 43, 65, 26, 35, 20]}],\n                        {\"height\": 600, \"showlegend\": true, \"template\": {\"data\": {\"bar\": [{\"error_x\": {\"color\": \"rgb(36,36,36)\"}, \"error_y\": {\"color\": \"rgb(36,36,36)\"}, \"marker\": {\"line\": {\"color\": \"white\", \"width\": 0.5}}, \"type\": \"bar\"}], \"barpolar\": [{\"marker\": {\"line\": {\"color\": \"white\", \"width\": 0.5}}, \"type\": \"barpolar\"}], \"carpet\": [{\"aaxis\": {\"endlinecolor\": \"rgb(36,36,36)\", \"gridcolor\": \"white\", \"linecolor\": \"white\", \"minorgridcolor\": \"white\", \"startlinecolor\": \"rgb(36,36,36)\"}, \"baxis\": {\"endlinecolor\": \"rgb(36,36,36)\", \"gridcolor\": \"white\", \"linecolor\": \"white\", \"minorgridcolor\": \"white\", \"startlinecolor\": \"rgb(36,36,36)\"}, \"type\": \"carpet\"}], \"choropleth\": [{\"colorbar\": {\"outlinewidth\": 1, \"tickcolor\": \"rgb(36,36,36)\", \"ticks\": \"outside\"}, \"type\": \"choropleth\"}], \"contour\": [{\"colorbar\": {\"outlinewidth\": 1, \"tickcolor\": \"rgb(36,36,36)\", \"ticks\": \"outside\"}, \"colorscale\": [[0.0, \"#440154\"], [0.1111111111111111, \"#482878\"], [0.2222222222222222, \"#3e4989\"], [0.3333333333333333, \"#31688e\"], [0.4444444444444444, \"#26828e\"], [0.5555555555555556, \"#1f9e89\"], [0.6666666666666666, \"#35b779\"], [0.7777777777777778, \"#6ece58\"], [0.8888888888888888, \"#b5de2b\"], [1.0, \"#fde725\"]], \"type\": \"contour\"}], \"contourcarpet\": [{\"colorbar\": {\"outlinewidth\": 1, \"tickcolor\": \"rgb(36,36,36)\", \"ticks\": \"outside\"}, \"type\": \"contourcarpet\"}], \"heatmap\": [{\"colorbar\": {\"outlinewidth\": 1, \"tickcolor\": \"rgb(36,36,36)\", \"ticks\": \"outside\"}, \"colorscale\": [[0.0, \"#440154\"], [0.1111111111111111, \"#482878\"], [0.2222222222222222, \"#3e4989\"], [0.3333333333333333, \"#31688e\"], [0.4444444444444444, \"#26828e\"], [0.5555555555555556, \"#1f9e89\"], [0.6666666666666666, \"#35b779\"], [0.7777777777777778, \"#6ece58\"], [0.8888888888888888, \"#b5de2b\"], [1.0, \"#fde725\"]], \"type\": \"heatmap\"}], \"heatmapgl\": [{\"colorbar\": {\"outlinewidth\": 1, \"tickcolor\": \"rgb(36,36,36)\", \"ticks\": \"outside\"}, \"colorscale\": [[0.0, \"#440154\"], [0.1111111111111111, \"#482878\"], [0.2222222222222222, \"#3e4989\"], [0.3333333333333333, \"#31688e\"], [0.4444444444444444, \"#26828e\"], [0.5555555555555556, \"#1f9e89\"], [0.6666666666666666, \"#35b779\"], [0.7777777777777778, \"#6ece58\"], [0.8888888888888888, \"#b5de2b\"], [1.0, \"#fde725\"]], \"type\": \"heatmapgl\"}], \"histogram\": [{\"marker\": {\"line\": {\"color\": \"white\", \"width\": 0.6}}, \"type\": \"histogram\"}], \"histogram2d\": [{\"colorbar\": {\"outlinewidth\": 1, \"tickcolor\": \"rgb(36,36,36)\", \"ticks\": \"outside\"}, \"colorscale\": [[0.0, \"#440154\"], [0.1111111111111111, \"#482878\"], [0.2222222222222222, \"#3e4989\"], [0.3333333333333333, \"#31688e\"], [0.4444444444444444, \"#26828e\"], [0.5555555555555556, \"#1f9e89\"], [0.6666666666666666, \"#35b779\"], [0.7777777777777778, \"#6ece58\"], [0.8888888888888888, \"#b5de2b\"], [1.0, \"#fde725\"]], \"type\": \"histogram2d\"}], \"histogram2dcontour\": [{\"colorbar\": {\"outlinewidth\": 1, \"tickcolor\": \"rgb(36,36,36)\", \"ticks\": \"outside\"}, \"colorscale\": [[0.0, \"#440154\"], [0.1111111111111111, \"#482878\"], [0.2222222222222222, \"#3e4989\"], [0.3333333333333333, \"#31688e\"], [0.4444444444444444, \"#26828e\"], [0.5555555555555556, \"#1f9e89\"], [0.6666666666666666, \"#35b779\"], [0.7777777777777778, \"#6ece58\"], [0.8888888888888888, \"#b5de2b\"], [1.0, \"#fde725\"]], \"type\": \"histogram2dcontour\"}], \"mesh3d\": [{\"colorbar\": {\"outlinewidth\": 1, \"tickcolor\": \"rgb(36,36,36)\", \"ticks\": \"outside\"}, \"type\": \"mesh3d\"}], \"parcoords\": [{\"line\": {\"colorbar\": {\"outlinewidth\": 1, \"tickcolor\": \"rgb(36,36,36)\", \"ticks\": \"outside\"}}, \"type\": \"parcoords\"}], \"pie\": [{\"automargin\": true, \"type\": \"pie\"}], \"scatter\": [{\"marker\": {\"colorbar\": {\"outlinewidth\": 1, \"tickcolor\": \"rgb(36,36,36)\", \"ticks\": \"outside\"}}, \"type\": \"scatter\"}], \"scatter3d\": [{\"line\": {\"colorbar\": {\"outlinewidth\": 1, \"tickcolor\": \"rgb(36,36,36)\", \"ticks\": \"outside\"}}, \"marker\": {\"colorbar\": {\"outlinewidth\": 1, \"tickcolor\": \"rgb(36,36,36)\", \"ticks\": \"outside\"}}, \"type\": \"scatter3d\"}], \"scattercarpet\": [{\"marker\": {\"colorbar\": {\"outlinewidth\": 1, \"tickcolor\": \"rgb(36,36,36)\", \"ticks\": \"outside\"}}, \"type\": \"scattercarpet\"}], \"scattergeo\": [{\"marker\": {\"colorbar\": {\"outlinewidth\": 1, \"tickcolor\": \"rgb(36,36,36)\", \"ticks\": \"outside\"}}, \"type\": \"scattergeo\"}], \"scattergl\": [{\"marker\": {\"colorbar\": {\"outlinewidth\": 1, \"tickcolor\": \"rgb(36,36,36)\", \"ticks\": \"outside\"}}, \"type\": \"scattergl\"}], \"scattermapbox\": [{\"marker\": {\"colorbar\": {\"outlinewidth\": 1, \"tickcolor\": \"rgb(36,36,36)\", \"ticks\": \"outside\"}}, \"type\": \"scattermapbox\"}], \"scatterpolar\": [{\"marker\": {\"colorbar\": {\"outlinewidth\": 1, \"tickcolor\": \"rgb(36,36,36)\", \"ticks\": \"outside\"}}, \"type\": \"scatterpolar\"}], \"scatterpolargl\": [{\"marker\": {\"colorbar\": {\"outlinewidth\": 1, \"tickcolor\": \"rgb(36,36,36)\", \"ticks\": \"outside\"}}, \"type\": \"scatterpolargl\"}], \"scatterternary\": [{\"marker\": {\"colorbar\": {\"outlinewidth\": 1, \"tickcolor\": \"rgb(36,36,36)\", \"ticks\": \"outside\"}}, \"type\": \"scatterternary\"}], \"surface\": [{\"colorbar\": {\"outlinewidth\": 1, \"tickcolor\": \"rgb(36,36,36)\", \"ticks\": \"outside\"}, \"colorscale\": [[0.0, \"#440154\"], [0.1111111111111111, \"#482878\"], [0.2222222222222222, \"#3e4989\"], [0.3333333333333333, \"#31688e\"], [0.4444444444444444, \"#26828e\"], [0.5555555555555556, \"#1f9e89\"], [0.6666666666666666, \"#35b779\"], [0.7777777777777778, \"#6ece58\"], [0.8888888888888888, \"#b5de2b\"], [1.0, \"#fde725\"]], \"type\": \"surface\"}], \"table\": [{\"cells\": {\"fill\": {\"color\": \"rgb(237,237,237)\"}, \"line\": {\"color\": \"white\"}}, \"header\": {\"fill\": {\"color\": \"rgb(217,217,217)\"}, \"line\": {\"color\": \"white\"}}, \"type\": \"table\"}]}, \"layout\": {\"annotationdefaults\": {\"arrowhead\": 0, \"arrowwidth\": 1}, \"coloraxis\": {\"colorbar\": {\"outlinewidth\": 1, \"tickcolor\": \"rgb(36,36,36)\", \"ticks\": \"outside\"}}, \"colorscale\": {\"diverging\": [[0.0, \"rgb(103,0,31)\"], [0.1, \"rgb(178,24,43)\"], [0.2, \"rgb(214,96,77)\"], [0.3, \"rgb(244,165,130)\"], [0.4, \"rgb(253,219,199)\"], [0.5, \"rgb(247,247,247)\"], [0.6, \"rgb(209,229,240)\"], [0.7, \"rgb(146,197,222)\"], [0.8, \"rgb(67,147,195)\"], [0.9, \"rgb(33,102,172)\"], [1.0, \"rgb(5,48,97)\"]], \"sequential\": [[0.0, \"#440154\"], [0.1111111111111111, \"#482878\"], [0.2222222222222222, \"#3e4989\"], [0.3333333333333333, \"#31688e\"], [0.4444444444444444, \"#26828e\"], [0.5555555555555556, \"#1f9e89\"], [0.6666666666666666, \"#35b779\"], [0.7777777777777778, \"#6ece58\"], [0.8888888888888888, \"#b5de2b\"], [1.0, \"#fde725\"]], \"sequentialminus\": [[0.0, \"#440154\"], [0.1111111111111111, \"#482878\"], [0.2222222222222222, \"#3e4989\"], [0.3333333333333333, \"#31688e\"], [0.4444444444444444, \"#26828e\"], [0.5555555555555556, \"#1f9e89\"], [0.6666666666666666, \"#35b779\"], [0.7777777777777778, \"#6ece58\"], [0.8888888888888888, \"#b5de2b\"], [1.0, \"#fde725\"]]}, \"colorway\": [\"#1F77B4\", \"#FF7F0E\", \"#2CA02C\", \"#D62728\", \"#9467BD\", \"#8C564B\", \"#E377C2\", \"#7F7F7F\", \"#BCBD22\", \"#17BECF\"], \"font\": {\"color\": \"rgb(36,36,36)\"}, \"geo\": {\"bgcolor\": \"white\", \"lakecolor\": \"white\", \"landcolor\": \"white\", \"showlakes\": true, \"showland\": true, \"subunitcolor\": \"white\"}, \"hoverlabel\": {\"align\": \"left\"}, \"hovermode\": \"closest\", \"mapbox\": {\"style\": \"light\"}, \"paper_bgcolor\": \"white\", \"plot_bgcolor\": \"white\", \"polar\": {\"angularaxis\": {\"gridcolor\": \"rgb(232,232,232)\", \"linecolor\": \"rgb(36,36,36)\", \"showgrid\": false, \"showline\": true, \"ticks\": \"outside\"}, \"bgcolor\": \"white\", \"radialaxis\": {\"gridcolor\": \"rgb(232,232,232)\", \"linecolor\": \"rgb(36,36,36)\", \"showgrid\": false, \"showline\": true, \"ticks\": \"outside\"}}, \"scene\": {\"xaxis\": {\"backgroundcolor\": \"white\", \"gridcolor\": \"rgb(232,232,232)\", \"gridwidth\": 2, \"linecolor\": \"rgb(36,36,36)\", \"showbackground\": true, \"showgrid\": false, \"showline\": true, \"ticks\": \"outside\", \"zeroline\": false, \"zerolinecolor\": \"rgb(36,36,36)\"}, \"yaxis\": {\"backgroundcolor\": \"white\", \"gridcolor\": \"rgb(232,232,232)\", \"gridwidth\": 2, \"linecolor\": \"rgb(36,36,36)\", \"showbackground\": true, \"showgrid\": false, \"showline\": true, \"ticks\": \"outside\", \"zeroline\": false, \"zerolinecolor\": \"rgb(36,36,36)\"}, \"zaxis\": {\"backgroundcolor\": \"white\", \"gridcolor\": \"rgb(232,232,232)\", \"gridwidth\": 2, \"linecolor\": \"rgb(36,36,36)\", \"showbackground\": true, \"showgrid\": false, \"showline\": true, \"ticks\": \"outside\", \"zeroline\": false, \"zerolinecolor\": \"rgb(36,36,36)\"}}, \"shapedefaults\": {\"fillcolor\": \"black\", \"line\": {\"width\": 0}, \"opacity\": 0.3}, \"ternary\": {\"aaxis\": {\"gridcolor\": \"rgb(232,232,232)\", \"linecolor\": \"rgb(36,36,36)\", \"showgrid\": false, \"showline\": true, \"ticks\": \"outside\"}, \"baxis\": {\"gridcolor\": \"rgb(232,232,232)\", \"linecolor\": \"rgb(36,36,36)\", \"showgrid\": false, \"showline\": true, \"ticks\": \"outside\"}, \"bgcolor\": \"white\", \"caxis\": {\"gridcolor\": \"rgb(232,232,232)\", \"linecolor\": \"rgb(36,36,36)\", \"showgrid\": false, \"showline\": true, \"ticks\": \"outside\"}}, \"title\": {\"x\": 0.05}, \"xaxis\": {\"automargin\": true, \"gridcolor\": \"rgb(232,232,232)\", \"linecolor\": \"rgb(36,36,36)\", \"showgrid\": false, \"showline\": true, \"ticks\": \"outside\", \"title\": {\"standoff\": 15}, \"zeroline\": false, \"zerolinecolor\": \"rgb(36,36,36)\"}, \"yaxis\": {\"automargin\": true, \"gridcolor\": \"rgb(232,232,232)\", \"linecolor\": \"rgb(36,36,36)\", \"showgrid\": false, \"showline\": true, \"ticks\": \"outside\", \"title\": {\"standoff\": 15}, \"zeroline\": false, \"zerolinecolor\": \"rgb(36,36,36)\"}}}, \"xaxis\": {\"anchor\": \"y\", \"constrain\": \"domain\", \"domain\": [0.0, 1.0], \"mirror\": true, \"range\": [0, 73.7], \"showline\": true, \"ticks\": \"outside\", \"title\": {\"text\": \"x\"}}, \"yaxis\": {\"anchor\": \"x\", \"domain\": [0.0, 1.0], \"mirror\": true, \"range\": [0, 71.5], \"scaleanchor\": \"x\", \"scaleratio\": 1, \"showline\": true, \"ticks\": \"outside\", \"title\": {\"text\": \"y\"}}},\n                        {\"responsive\": true}\n                    ).then(function(){\n                            \nvar gd = document.getElementById('01f497d1-2983-4d2b-840e-afdf4c89cacd');\nvar x = new MutationObserver(function (mutations, observer) {{\n        var display = window.getComputedStyle(gd).display;\n        if (!display || display === 'none') {{\n            console.log([gd, 'removed!']);\n            Plotly.purge(gd);\n            observer.disconnect();\n        }}\n}});\n\n// Listen for the removal of the full notebook cells\nvar notebookContainer = gd.closest('#notebook-container');\nif (notebookContainer) {{\n    x.observe(notebookContainer, {childList: true});\n}}\n\n// Listen for the clearing of the current output cell\nvar outputEl = gd.closest('.output');\nif (outputEl) {{\n    x.observe(outputEl, {childList: true});\n}}\n\n                        })\n                };\n                });\n            </script>\n        </div>"
     },
     "metadata": {},
     "output_type": "display_data"
    }
   ],
   "source": [
    "plot_interactive_graph(m.data['V'], m.data['d'])"
   ],
   "metadata": {
    "collapsed": false,
    "pycharm": {
     "name": "#%%\n"
    }
   }
  },
  {
   "cell_type": "code",
   "execution_count": null,
   "outputs": [],
   "source": [
    "# m.m.construct()\n",
    "# [(i,j) for i,j in m.m.xgamma.items()]"
   ],
   "metadata": {
    "collapsed": false,
    "pycharm": {
     "name": "#%%\n"
    }
   }
  },
  {
   "cell_type": "code",
   "execution_count": 483,
   "outputs": [
    {
     "name": "stdout",
     "output_type": "stream",
     "text": [
      "14 Set Declarations\n",
      "    E : Graph edges\n",
      "        Dim=0, Dimen=2, Size=225, Domain=E_domain, Ordered=False, Bounds=None\n",
      "        [('d-1', 'd-1'), ('d-1', 'd0'), ('d-1', 'm1'), ('d-1', 'm10'), ('d-1', 'm2'), ('d-1', 'm3'), ('d-1', 'm4'), ('d-1', 'm5'), ('d-1', 'm6'), ('d-1', 'm7'), ('d-1', 'm8'), ('d-1', 'm9'), ('d-1', 's1'), ('d-1', 's2'), ('d-1', 's3'), ('d0', 'd-1'), ('d0', 'd0'), ('d0', 'm1'), ('d0', 'm10'), ('d0', 'm2'), ('d0', 'm3'), ('d0', 'm4'), ('d0', 'm5'), ('d0', 'm6'), ('d0', 'm7'), ('d0', 'm8'), ('d0', 'm9'), ('d0', 's1'), ('d0', 's2'), ('d0', 's3'), ('m1', 'd-1'), ('m1', 'd0'), ('m1', 'm1'), ('m1', 'm10'), ('m1', 'm2'), ('m1', 'm3'), ('m1', 'm4'), ('m1', 'm5'), ('m1', 'm6'), ('m1', 'm7'), ('m1', 'm8'), ('m1', 'm9'), ('m1', 's1'), ('m1', 's2'), ('m1', 's3'), ('m10', 'd-1'), ('m10', 'd0'), ('m10', 'm1'), ('m10', 'm10'), ('m10', 'm2'), ('m10', 'm3'), ('m10', 'm4'), ('m10', 'm5'), ('m10', 'm6'), ('m10', 'm7'), ('m10', 'm8'), ('m10', 'm9'), ('m10', 's1'), ('m10', 's2'), ('m10', 's3'), ('m2', 'd-1'), ('m2', 'd0'), ('m2', 'm1'), ('m2', 'm10'), ('m2', 'm2'), ('m2', 'm3'), ('m2', 'm4'), ('m2', 'm5'), ('m2', 'm6'), ('m2', 'm7'), ('m2', 'm8'), ('m2', 'm9'), ('m2', 's1'), ('m2', 's2'), ('m2', 's3'), ('m3', 'd-1'), ('m3', 'd0'), ('m3', 'm1'), ('m3', 'm10'), ('m3', 'm2'), ('m3', 'm3'), ('m3', 'm4'), ('m3', 'm5'), ('m3', 'm6'), ('m3', 'm7'), ('m3', 'm8'), ('m3', 'm9'), ('m3', 's1'), ('m3', 's2'), ('m3', 's3'), ('m4', 'd-1'), ('m4', 'd0'), ('m4', 'm1'), ('m4', 'm10'), ('m4', 'm2'), ('m4', 'm3'), ('m4', 'm4'), ('m4', 'm5'), ('m4', 'm6'), ('m4', 'm7'), ('m4', 'm8'), ('m4', 'm9'), ('m4', 's1'), ('m4', 's2'), ('m4', 's3'), ('m5', 'd-1'), ('m5', 'd0'), ('m5', 'm1'), ('m5', 'm10'), ('m5', 'm2'), ('m5', 'm3'), ('m5', 'm4'), ('m5', 'm5'), ('m5', 'm6'), ('m5', 'm7'), ('m5', 'm8'), ('m5', 'm9'), ('m5', 's1'), ('m5', 's2'), ('m5', 's3'), ('m6', 'd-1'), ('m6', 'd0'), ('m6', 'm1'), ('m6', 'm10'), ('m6', 'm2'), ('m6', 'm3'), ('m6', 'm4'), ('m6', 'm5'), ('m6', 'm6'), ('m6', 'm7'), ('m6', 'm8'), ('m6', 'm9'), ('m6', 's1'), ('m6', 's2'), ('m6', 's3'), ('m7', 'd-1'), ('m7', 'd0'), ('m7', 'm1'), ('m7', 'm10'), ('m7', 'm2'), ('m7', 'm3'), ('m7', 'm4'), ('m7', 'm5'), ('m7', 'm6'), ('m7', 'm7'), ('m7', 'm8'), ('m7', 'm9'), ('m7', 's1'), ('m7', 's2'), ('m7', 's3'), ('m8', 'd-1'), ('m8', 'd0'), ('m8', 'm1'), ('m8', 'm10'), ('m8', 'm2'), ('m8', 'm3'), ('m8', 'm4'), ('m8', 'm5'), ('m8', 'm6'), ('m8', 'm7'), ('m8', 'm8'), ('m8', 'm9'), ('m8', 's1'), ('m8', 's2'), ('m8', 's3'), ('m9', 'd-1'), ('m9', 'd0'), ('m9', 'm1'), ('m9', 'm10'), ('m9', 'm2'), ('m9', 'm3'), ('m9', 'm4'), ('m9', 'm5'), ('m9', 'm6'), ('m9', 'm7'), ('m9', 'm8'), ('m9', 'm9'), ('m9', 's1'), ('m9', 's2'), ('m9', 's3'), ('s1', 'd-1'), ('s1', 'd0'), ('s1', 'm1'), ('s1', 'm10'), ('s1', 'm2'), ('s1', 'm3'), ('s1', 'm4'), ('s1', 'm5'), ('s1', 'm6'), ('s1', 'm7'), ('s1', 'm8'), ('s1', 'm9'), ('s1', 's1'), ('s1', 's2'), ('s1', 's3'), ('s2', 'd-1'), ('s2', 'd0'), ('s2', 'm1'), ('s2', 'm10'), ('s2', 'm2'), ('s2', 'm3'), ('s2', 'm4'), ('s2', 'm5'), ('s2', 'm6'), ('s2', 'm7'), ('s2', 'm8'), ('s2', 'm9'), ('s2', 's1'), ('s2', 's2'), ('s2', 's3'), ('s3', 'd-1'), ('s3', 'd0'), ('s3', 'm1'), ('s3', 'm10'), ('s3', 'm2'), ('s3', 'm3'), ('s3', 'm4'), ('s3', 'm5'), ('s3', 'm6'), ('s3', 'm7'), ('s3', 'm8'), ('s3', 'm9'), ('s3', 's1'), ('s3', 's2'), ('s3', 's3')]\n",
      "    E_domain : Dim=0, Dimen=2, Size=225, Domain=None, Ordered=False, Bounds=None\n",
      "        Virtual\n",
      "    E_index_init : Dim=0, Dimen=2, Size=225, Domain=None, Ordered=False, Bounds=None\n",
      "        Virtual\n",
      "    V : Graph nodes\n",
      "        Dim=0, Dimen=1, Size=13, Domain=None, Ordered=False, Bounds=None\n",
      "        ['m1', 'm10', 'm2', 'm3', 'm4', 'm5', 'm6', 'm7', 'm8', 'm9', 's1', 's2', 's3']\n",
      "    V0 : Graph nodes without terminal\n",
      "        Dim=0, Dimen=1, Size=14, Domain=None, Ordered=False, Bounds=None\n",
      "        ['d0', 'm1', 'm10', 'm2', 'm3', 'm4', 'm5', 'm6', 'm7', 'm8', 'm9', 's1', 's2', 's3']\n",
      "    V01 : Graph nodes\n",
      "        Dim=0, Dimen=1, Size=15, Domain=None, Ordered=False, Bounds=None\n",
      "        ['d-1', 'd0', 'm1', 'm10', 'm2', 'm3', 'm4', 'm5', 'm6', 'm7', 'm8', 'm9', 's1', 's2', 's3']\n",
      "    V0_index_init : Dim=0, Dimen=1, Size=14, Domain=None, Ordered=False, Bounds=None\n",
      "        Virtual\n",
      "    V0_index_init_index_1 : Dim=0, Dimen=1, Size=3, Domain=None, Ordered=False, Bounds=(None, None)\n",
      "        ['-', '1', 'd']\n",
      "    V1 : Graph nodes without start\n",
      "        Dim=0, Dimen=1, Size=14, Domain=None, Ordered=False, Bounds=None\n",
      "        ['d-1', 'm1', 'm10', 'm2', 'm3', 'm4', 'm5', 'm6', 'm7', 'm8', 'm9', 's1', 's2', 's3']\n",
      "    V1_index_init : Dim=0, Dimen=1, Size=14, Domain=None, Ordered=False, Bounds=None\n",
      "        Virtual\n",
      "    V1_index_init_index_1 : Dim=0, Dimen=1, Size=2, Domain=None, Ordered=False, Bounds=(None, None)\n",
      "        ['0', 'd']\n",
      "    V_index_init : Dim=0, Dimen=1, Size=13, Domain=None, Ordered=False, Bounds=None\n",
      "        Virtual\n",
      "    V_index_init_index_1 : Dim=0, Dimen=1, Size=2, Domain=None, Ordered=False, Bounds=(None, None)\n",
      "        ['d-1', 'd0']\n",
      "    constraint_single_subtour_index : Dim=0, Dimen=2, Size=196, Domain=None, Ordered=False, Bounds=None\n",
      "        Virtual\n",
      "\n",
      "1 Param Declarations\n",
      "    d : Size=225, Index=E, Domain=Any, Default=None, Mutable=False\n",
      "        Key            : Value\n",
      "        ('d-1', 'd-1') :                0.0\n",
      "         ('d-1', 'd0') :                0.0\n",
      "         ('d-1', 'm1') :  17.46424919657298\n",
      "        ('d-1', 'm10') : 18.027756377319946\n",
      "         ('d-1', 'm2') :  36.05551275463989\n",
      "         ('d-1', 'm3') :  43.86342439892262\n",
      "         ('d-1', 'm4') : 18.027756377319946\n",
      "         ('d-1', 'm5') : 19.235384061671343\n",
      "         ('d-1', 'm6') : 19.697715603592208\n",
      "         ('d-1', 'm7') : 31.622776601683793\n",
      "         ('d-1', 'm8') :   17.4928556845359\n",
      "         ('d-1', 'm9') :               15.0\n",
      "         ('d-1', 's1') : 27.892651361962706\n",
      "         ('d-1', 's2') :   32.2490309931942\n",
      "         ('d-1', 's3') : 36.235341863986875\n",
      "         ('d0', 'd-1') :                0.0\n",
      "          ('d0', 'd0') :                0.0\n",
      "          ('d0', 'm1') :  17.46424919657298\n",
      "         ('d0', 'm10') : 18.027756377319946\n",
      "          ('d0', 'm2') :  36.05551275463989\n",
      "          ('d0', 'm3') :  43.86342439892262\n",
      "          ('d0', 'm4') : 18.027756377319946\n",
      "          ('d0', 'm5') : 19.235384061671343\n",
      "          ('d0', 'm6') : 19.697715603592208\n",
      "          ('d0', 'm7') : 31.622776601683793\n",
      "          ('d0', 'm8') :   17.4928556845359\n",
      "          ('d0', 'm9') :               15.0\n",
      "          ('d0', 's1') : 27.892651361962706\n",
      "          ('d0', 's2') :   32.2490309931942\n",
      "          ('d0', 's3') : 36.235341863986875\n",
      "         ('m1', 'd-1') :  17.46424919657298\n",
      "          ('m1', 'd0') :  17.46424919657298\n",
      "          ('m1', 'm1') :                0.0\n",
      "         ('m1', 'm10') :  34.92849839314596\n",
      "          ('m1', 'm2') : 52.773099207835045\n",
      "          ('m1', 'm3') :  59.20304046246274\n",
      "          ('m1', 'm4') :  22.80350850198276\n",
      "          ('m1', 'm5') :                5.0\n",
      "          ('m1', 'm6') : 23.769728648009426\n",
      "          ('m1', 'm7') :   19.1049731745428\n",
      "          ('m1', 'm8') : 28.231188426986208\n",
      "          ('m1', 'm9') : 25.495097567963924\n",
      "          ('m1', 's1') :  10.44030650891055\n",
      "          ('m1', 's2') :  49.24428900898052\n",
      "          ('m1', 's3') :  51.22499389946279\n",
      "        ('m10', 'd-1') : 18.027756377319946\n",
      "         ('m10', 'd0') : 18.027756377319946\n",
      "         ('m10', 'm1') :  34.92849839314596\n",
      "        ('m10', 'm10') :                0.0\n",
      "         ('m10', 'm2') : 18.027756377319946\n",
      "         ('m10', 'm3') : 26.627053911388696\n",
      "         ('m10', 'm4') : 31.304951684997057\n",
      "         ('m10', 'm5') :  37.21558813185679\n",
      "         ('m10', 'm6') : 24.351591323771842\n",
      "         ('m10', 'm7') :               45.0\n",
      "         ('m10', 'm8') : 25.709920264364882\n",
      "         ('m10', 'm9') : 15.811388300841896\n",
      "         ('m10', 's1') :  45.31004303683677\n",
      "         ('m10', 's2') : 14.317821063276353\n",
      "         ('m10', 's3') : 19.697715603592208\n",
      "         ('m2', 'd-1') :  36.05551275463989\n",
      "          ('m2', 'd0') :  36.05551275463989\n",
      "          ('m2', 'm1') : 52.773099207835045\n",
      "         ('m2', 'm10') : 18.027756377319946\n",
      "          ('m2', 'm2') :                0.0\n",
      "          ('m2', 'm3') :               12.0\n",
      "          ('m2', 'm4') :  47.80167361086848\n",
      "          ('m2', 'm5') : 55.226805085936306\n",
      "          ('m2', 'm6') :  38.05259518088089\n",
      "          ('m2', 'm7') :   60.8276253029822\n",
      "          ('m2', 'm8') :   40.8166632639171\n",
      "          ('m2', 'm9') :   30.4138126514911\n",
      "          ('m2', 's1') : 63.071388124885914\n",
      "          ('m2', 's2') :   4.47213595499958\n",
      "          ('m2', 's3') :  10.63014581273465\n",
      "         ('m3', 'd-1') :  43.86342439892262\n",
      "          ('m3', 'd0') :  43.86342439892262\n",
      "          ('m3', 'm1') :  59.20304046246274\n",
      "         ('m3', 'm10') : 26.627053911388696\n",
      "          ('m3', 'm2') :               12.0\n",
      "          ('m3', 'm3') :                0.0\n",
      "          ('m3', 'm4') :   57.8013840664737\n",
      "          ('m3', 'm5') : 62.369864518050704\n",
      "          ('m3', 'm6') : 40.496913462633174\n",
      "          ('m3', 'm7') :  63.90618123468183\n",
      "          ('m3', 'm8') : 51.478150704935004\n",
      "          ('m3', 'm9') :  34.48187929913333\n",
      "          ('m3', 's1') :  69.06518659932803\n",
      "          ('m3', 's2') :   16.1245154965971\n",
      "          ('m3', 's3') :   8.06225774829855\n",
      "         ('m4', 'd-1') : 18.027756377319946\n",
      "          ('m4', 'd0') : 18.027756377319946\n",
      "          ('m4', 'm1') :  22.80350850198276\n",
      "         ('m4', 'm10') : 31.304951684997057\n",
      "          ('m4', 'm2') :  47.80167361086848\n",
      "          ('m4', 'm3') :   57.8013840664737\n",
      "          ('m4', 'm4') :                0.0\n",
      "          ('m4', 'm5') :  20.12461179749811\n",
      "          ('m4', 'm6') : 37.107950630558946\n",
      "          ('m4', 'm7') : 41.773197148410844\n",
      "          ('m4', 'm8') :   8.54400374531753\n",
      "          ('m4', 'm9') : 33.015148038438355\n",
      "          ('m4', 's1') : 30.083217912982647\n",
      "          ('m4', 's2') :  43.41658669218482\n",
      "          ('m4', 's3') :  50.99019513592785\n",
      "         ('m5', 'd-1') : 19.235384061671343\n",
      "          ('m5', 'd0') : 19.235384061671343\n",
      "          ('m5', 'm1') :                5.0\n",
      "         ('m5', 'm10') :  37.21558813185679\n",
      "          ('m5', 'm2') : 55.226805085936306\n",
      "          ('m5', 'm3') : 62.369864518050704\n",
      "          ('m5', 'm4') :  20.12461179749811\n",
      "          ('m5', 'm5') :                0.0\n",
      "          ('m5', 'm6') : 28.460498941515414\n",
      "          ('m5', 'm7') : 23.021728866442675\n",
      "          ('m5', 'm8') :  26.68332812825267\n",
      "          ('m5', 'm9') : 29.410882339705484\n",
      "          ('m5', 's1') : 10.198039027185569\n",
      "          ('m5', 's2') : 51.478150704935004\n",
      "          ('m5', 's3') :  54.48853090330111\n",
      "         ('m6', 'd-1') : 19.697715603592208\n",
      "          ('m6', 'd0') : 19.697715603592208\n",
      "          ('m6', 'm1') : 23.769728648009426\n",
      "         ('m6', 'm10') : 24.351591323771842\n",
      "          ('m6', 'm2') :  38.05259518088089\n",
      "          ('m6', 'm3') : 40.496913462633174\n",
      "          ('m6', 'm4') : 37.107950630558946\n",
      "          ('m6', 'm5') : 28.460498941515414\n",
      "          ('m6', 'm6') :                0.0\n",
      "          ('m6', 'm7') :  23.40939982143925\n",
      "          ('m6', 'm8') :  37.12142238654117\n",
      "          ('m6', 'm9') :   8.54400374531753\n",
      "          ('m6', 's1') : 31.400636936215164\n",
      "          ('m6', 's2') :  36.05551275463989\n",
      "          ('m6', 's3') :  32.57299494980466\n",
      "         ('m7', 'd-1') : 31.622776601683793\n",
      "          ('m7', 'd0') : 31.622776601683793\n",
      "          ('m7', 'm1') :   19.1049731745428\n",
      "         ('m7', 'm10') :               45.0\n",
      "          ('m7', 'm2') :   60.8276253029822\n",
      "          ('m7', 'm3') :  63.90618123468183\n",
      "          ('m7', 'm4') : 41.773197148410844\n",
      "          ('m7', 'm5') : 23.021728866442675\n",
      "          ('m7', 'm6') :  23.40939982143925\n",
      "          ('m7', 'm7') :                0.0\n",
      "          ('m7', 'm8') :  46.32493928760188\n",
      "          ('m7', 'm9') :   30.4138126514911\n",
      "          ('m7', 's1') :  17.26267650163207\n",
      "          ('m7', 's2') : 58.309518948453004\n",
      "          ('m7', 's3') :  55.97320787662612\n",
      "         ('m8', 'd-1') :   17.4928556845359\n",
      "          ('m8', 'd0') :   17.4928556845359\n",
      "          ('m8', 'm1') : 28.231188426986208\n",
      "         ('m8', 'm10') : 25.709920264364882\n",
      "          ('m8', 'm2') :   40.8166632639171\n",
      "          ('m8', 'm3') : 51.478150704935004\n",
      "          ('m8', 'm4') :   8.54400374531753\n",
      "          ('m8', 'm5') :  26.68332812825267\n",
      "          ('m8', 'm6') :  37.12142238654117\n",
      "          ('m8', 'm7') :  46.32493928760188\n",
      "          ('m8', 'm8') :                0.0\n",
      "          ('m8', 'm9') :  31.32091952673165\n",
      "          ('m8', 's1') :  36.87817782917155\n",
      "          ('m8', 's2') : 36.359317925395686\n",
      "          ('m8', 's3') : 45.221676218380054\n",
      "         ('m9', 'd-1') :               15.0\n",
      "          ('m9', 'd0') :               15.0\n",
      "          ('m9', 'm1') : 25.495097567963924\n",
      "         ('m9', 'm10') : 15.811388300841896\n",
      "          ('m9', 'm2') :   30.4138126514911\n",
      "          ('m9', 'm3') :  34.48187929913333\n",
      "          ('m9', 'm4') : 33.015148038438355\n",
      "          ('m9', 'm5') : 29.410882339705484\n",
      "          ('m9', 'm6') :   8.54400374531753\n",
      "          ('m9', 'm7') :   30.4138126514911\n",
      "          ('m9', 'm8') :  31.32091952673165\n",
      "          ('m9', 'm9') :                0.0\n",
      "          ('m9', 's1') : 34.828149534535996\n",
      "          ('m9', 's2') :   28.0178514522438\n",
      "          ('m9', 's3') : 26.419689627245813\n",
      "         ('s1', 'd-1') : 27.892651361962706\n",
      "          ('s1', 'd0') : 27.892651361962706\n",
      "          ('s1', 'm1') :  10.44030650891055\n",
      "         ('s1', 'm10') :  45.31004303683677\n",
      "          ('s1', 'm2') : 63.071388124885914\n",
      "          ('s1', 'm3') :  69.06518659932803\n",
      "          ('s1', 'm4') : 30.083217912982647\n",
      "          ('s1', 'm5') : 10.198039027185569\n",
      "          ('s1', 'm6') : 31.400636936215164\n",
      "          ('s1', 'm7') :  17.26267650163207\n",
      "          ('s1', 'm8') :  36.87817782917155\n",
      "          ('s1', 'm9') : 34.828149534535996\n",
      "          ('s1', 's1') :                0.0\n",
      "          ('s1', 's2') :  59.61543424315552\n",
      "          ('s1', 's3') : 61.032778078668514\n",
      "         ('s2', 'd-1') :   32.2490309931942\n",
      "          ('s2', 'd0') :   32.2490309931942\n",
      "          ('s2', 'm1') :  49.24428900898052\n",
      "         ('s2', 'm10') : 14.317821063276353\n",
      "          ('s2', 'm2') :   4.47213595499958\n",
      "          ('s2', 'm3') :   16.1245154965971\n",
      "          ('s2', 'm4') :  43.41658669218482\n",
      "          ('s2', 'm5') : 51.478150704935004\n",
      "          ('s2', 'm6') :  36.05551275463989\n",
      "          ('s2', 'm7') : 58.309518948453004\n",
      "          ('s2', 'm8') : 36.359317925395686\n",
      "          ('s2', 'm9') :   28.0178514522438\n",
      "          ('s2', 's1') :  59.61543424315552\n",
      "          ('s2', 's2') :                0.0\n",
      "          ('s2', 's3') :               13.0\n",
      "         ('s3', 'd-1') : 36.235341863986875\n",
      "          ('s3', 'd0') : 36.235341863986875\n",
      "          ('s3', 'm1') :  51.22499389946279\n",
      "         ('s3', 'm10') : 19.697715603592208\n",
      "          ('s3', 'm2') :  10.63014581273465\n",
      "          ('s3', 'm3') :   8.06225774829855\n",
      "          ('s3', 'm4') :  50.99019513592785\n",
      "          ('s3', 'm5') :  54.48853090330111\n",
      "          ('s3', 'm6') :  32.57299494980466\n",
      "          ('s3', 'm7') :  55.97320787662612\n",
      "          ('s3', 'm8') : 45.221676218380054\n",
      "          ('s3', 'm9') : 26.419689627245813\n",
      "          ('s3', 's1') : 61.032778078668514\n",
      "          ('s3', 's2') :               13.0\n",
      "          ('s3', 's3') :                0.0\n",
      "\n",
      "2 Var Declarations\n",
      "    u : Size=14, Index=V1\n",
      "        Key : Lower : Value : Upper : Fixed : Stale : Domain\n",
      "        d-1 :     0 :  14.0 :    14 : False : False : NonNegativeIntegers\n",
      "         m1 :     0 :   3.0 :    14 : False : False : NonNegativeIntegers\n",
      "        m10 :     0 :  13.0 :    14 : False : False : NonNegativeIntegers\n",
      "         m2 :     0 :  11.0 :    14 : False : False : NonNegativeIntegers\n",
      "         m3 :     0 :  10.0 :    14 : False : False : NonNegativeIntegers\n",
      "         m4 :     0 :   1.0 :    14 : False : False : NonNegativeIntegers\n",
      "         m5 :     0 :   2.0 :    14 : False : False : NonNegativeIntegers\n",
      "         m6 :     0 :   6.0 :    14 : False : False : NonNegativeIntegers\n",
      "         m7 :     0 :   5.0 :    14 : False : False : NonNegativeIntegers\n",
      "         m8 :     0 :   0.0 :    14 : False : False : NonNegativeIntegers\n",
      "         m9 :     0 :   7.0 :    14 : False : False : NonNegativeIntegers\n",
      "         s1 :     0 :   4.0 :    14 : False : False : NonNegativeIntegers\n",
      "         s2 :     0 :  12.0 :    14 : False : False : NonNegativeIntegers\n",
      "         s3 :     0 :   8.0 :    14 : False : False : NonNegativeIntegers\n",
      "    xgamma : Size=225, Index=E\n",
      "        Key            : Lower : Value : Upper : Fixed : Stale : Domain\n",
      "        ('d-1', 'd-1') :     0 :  None :     1 : False :  True : Boolean\n",
      "         ('d-1', 'd0') :     0 :   1.0 :     1 : False : False : Boolean\n",
      "         ('d-1', 'm1') :     0 :  -0.0 :     1 : False : False : Boolean\n",
      "        ('d-1', 'm10') :     0 :  -0.0 :     1 : False : False : Boolean\n",
      "         ('d-1', 'm2') :     0 :  -0.0 :     1 : False : False : Boolean\n",
      "         ('d-1', 'm3') :     0 :  -0.0 :     1 : False : False : Boolean\n",
      "         ('d-1', 'm4') :     0 :  -0.0 :     1 : False : False : Boolean\n",
      "         ('d-1', 'm5') :     0 :  -0.0 :     1 : False : False : Boolean\n",
      "         ('d-1', 'm6') :     0 :  -0.0 :     1 : False : False : Boolean\n",
      "         ('d-1', 'm7') :     0 :  -0.0 :     1 : False : False : Boolean\n",
      "         ('d-1', 'm8') :     0 :   0.0 :     1 : False : False : Boolean\n",
      "         ('d-1', 'm9') :     0 :  -0.0 :     1 : False : False : Boolean\n",
      "         ('d-1', 's1') :     0 :  -0.0 :     1 : False : False : Boolean\n",
      "         ('d-1', 's2') :     0 :  -0.0 :     1 : False : False : Boolean\n",
      "         ('d-1', 's3') :     0 :  -0.0 :     1 : False : False : Boolean\n",
      "         ('d0', 'd-1') :     0 :   0.0 :     1 : False : False : Boolean\n",
      "          ('d0', 'd0') :     0 :  None :     1 : False :  True : Boolean\n",
      "          ('d0', 'm1') :     0 :  -0.0 :     1 : False : False : Boolean\n",
      "         ('d0', 'm10') :     0 :  -0.0 :     1 : False : False : Boolean\n",
      "          ('d0', 'm2') :     0 :  -0.0 :     1 : False : False : Boolean\n",
      "          ('d0', 'm3') :     0 :  -0.0 :     1 : False : False : Boolean\n",
      "          ('d0', 'm4') :     0 :  -0.0 :     1 : False : False : Boolean\n",
      "          ('d0', 'm5') :     0 :  -0.0 :     1 : False : False : Boolean\n",
      "          ('d0', 'm6') :     0 :  -0.0 :     1 : False : False : Boolean\n",
      "          ('d0', 'm7') :     0 :  -0.0 :     1 : False : False : Boolean\n",
      "          ('d0', 'm8') :     0 :   1.0 :     1 : False : False : Boolean\n",
      "          ('d0', 'm9') :     0 :  -0.0 :     1 : False : False : Boolean\n",
      "          ('d0', 's1') :     0 :  -0.0 :     1 : False : False : Boolean\n",
      "          ('d0', 's2') :     0 :  -0.0 :     1 : False : False : Boolean\n",
      "          ('d0', 's3') :     0 :  -0.0 :     1 : False : False : Boolean\n",
      "         ('m1', 'd-1') :     0 :  -0.0 :     1 : False : False : Boolean\n",
      "          ('m1', 'd0') :     0 :  -0.0 :     1 : False : False : Boolean\n",
      "          ('m1', 'm1') :     0 :  None :     1 : False :  True : Boolean\n",
      "         ('m1', 'm10') :     0 :  -0.0 :     1 : False : False : Boolean\n",
      "          ('m1', 'm2') :     0 :  -0.0 :     1 : False : False : Boolean\n",
      "          ('m1', 'm3') :     0 :  -0.0 :     1 : False : False : Boolean\n",
      "          ('m1', 'm4') :     0 :  -0.0 :     1 : False : False : Boolean\n",
      "          ('m1', 'm5') :     0 :  -0.0 :     1 : False : False : Boolean\n",
      "          ('m1', 'm6') :     0 :  -0.0 :     1 : False : False : Boolean\n",
      "          ('m1', 'm7') :     0 :  -0.0 :     1 : False : False : Boolean\n",
      "          ('m1', 'm8') :     0 :  -0.0 :     1 : False : False : Boolean\n",
      "          ('m1', 'm9') :     0 :  -0.0 :     1 : False : False : Boolean\n",
      "          ('m1', 's1') :     0 :   1.0 :     1 : False : False : Boolean\n",
      "          ('m1', 's2') :     0 :  -0.0 :     1 : False : False : Boolean\n",
      "          ('m1', 's3') :     0 :  -0.0 :     1 : False : False : Boolean\n",
      "        ('m10', 'd-1') :     0 :   1.0 :     1 : False : False : Boolean\n",
      "         ('m10', 'd0') :     0 :   0.0 :     1 : False : False : Boolean\n",
      "         ('m10', 'm1') :     0 :  -0.0 :     1 : False : False : Boolean\n",
      "        ('m10', 'm10') :     0 :  None :     1 : False :  True : Boolean\n",
      "         ('m10', 'm2') :     0 :  -0.0 :     1 : False : False : Boolean\n",
      "         ('m10', 'm3') :     0 :  -0.0 :     1 : False : False : Boolean\n",
      "         ('m10', 'm4') :     0 :  -0.0 :     1 : False : False : Boolean\n",
      "         ('m10', 'm5') :     0 :  -0.0 :     1 : False : False : Boolean\n",
      "         ('m10', 'm6') :     0 :  -0.0 :     1 : False : False : Boolean\n",
      "         ('m10', 'm7') :     0 :  -0.0 :     1 : False : False : Boolean\n",
      "         ('m10', 'm8') :     0 :  -0.0 :     1 : False : False : Boolean\n",
      "         ('m10', 'm9') :     0 :  -0.0 :     1 : False : False : Boolean\n",
      "         ('m10', 's1') :     0 :  -0.0 :     1 : False : False : Boolean\n",
      "         ('m10', 's2') :     0 :   0.0 :     1 : False : False : Boolean\n",
      "         ('m10', 's3') :     0 :   0.0 :     1 : False : False : Boolean\n",
      "         ('m2', 'd-1') :     0 :  -0.0 :     1 : False : False : Boolean\n",
      "          ('m2', 'd0') :     0 :  -0.0 :     1 : False : False : Boolean\n",
      "          ('m2', 'm1') :     0 :  -0.0 :     1 : False : False : Boolean\n",
      "         ('m2', 'm10') :     0 :  -0.0 :     1 : False : False : Boolean\n",
      "          ('m2', 'm2') :     0 :  None :     1 : False :  True : Boolean\n",
      "          ('m2', 'm3') :     0 :   0.0 :     1 : False : False : Boolean\n",
      "          ('m2', 'm4') :     0 :  -0.0 :     1 : False : False : Boolean\n",
      "          ('m2', 'm5') :     0 :  -0.0 :     1 : False : False : Boolean\n",
      "          ('m2', 'm6') :     0 :  -0.0 :     1 : False : False : Boolean\n",
      "          ('m2', 'm7') :     0 :  -0.0 :     1 : False : False : Boolean\n",
      "          ('m2', 'm8') :     0 :  -0.0 :     1 : False : False : Boolean\n",
      "          ('m2', 'm9') :     0 :  -0.0 :     1 : False : False : Boolean\n",
      "          ('m2', 's1') :     0 :  -0.0 :     1 : False : False : Boolean\n",
      "          ('m2', 's2') :     0 :   1.0 :     1 : False : False : Boolean\n",
      "          ('m2', 's3') :     0 :  -0.0 :     1 : False : False : Boolean\n",
      "         ('m3', 'd-1') :     0 :  -0.0 :     1 : False : False : Boolean\n",
      "          ('m3', 'd0') :     0 :  -0.0 :     1 : False : False : Boolean\n",
      "          ('m3', 'm1') :     0 :  -0.0 :     1 : False : False : Boolean\n",
      "         ('m3', 'm10') :     0 :  -0.0 :     1 : False : False : Boolean\n",
      "          ('m3', 'm2') :     0 :   1.0 :     1 : False : False : Boolean\n",
      "          ('m3', 'm3') :     0 :  None :     1 : False :  True : Boolean\n",
      "          ('m3', 'm4') :     0 :  -0.0 :     1 : False : False : Boolean\n",
      "          ('m3', 'm5') :     0 :  -0.0 :     1 : False : False : Boolean\n",
      "          ('m3', 'm6') :     0 :  -0.0 :     1 : False : False : Boolean\n",
      "          ('m3', 'm7') :     0 :  -0.0 :     1 : False : False : Boolean\n",
      "          ('m3', 'm8') :     0 :  -0.0 :     1 : False : False : Boolean\n",
      "          ('m3', 'm9') :     0 :  -0.0 :     1 : False : False : Boolean\n",
      "          ('m3', 's1') :     0 :  -0.0 :     1 : False : False : Boolean\n",
      "          ('m3', 's2') :     0 :  -0.0 :     1 : False : False : Boolean\n",
      "          ('m3', 's3') :     0 :   0.0 :     1 : False : False : Boolean\n",
      "         ('m4', 'd-1') :     0 :  -0.0 :     1 : False : False : Boolean\n",
      "          ('m4', 'd0') :     0 :  -0.0 :     1 : False : False : Boolean\n",
      "          ('m4', 'm1') :     0 :  -0.0 :     1 : False : False : Boolean\n",
      "         ('m4', 'm10') :     0 :  -0.0 :     1 : False : False : Boolean\n",
      "          ('m4', 'm2') :     0 :  -0.0 :     1 : False : False : Boolean\n",
      "          ('m4', 'm3') :     0 :  -0.0 :     1 : False : False : Boolean\n",
      "          ('m4', 'm4') :     0 :  None :     1 : False :  True : Boolean\n",
      "          ('m4', 'm5') :     0 :   1.0 :     1 : False : False : Boolean\n",
      "          ('m4', 'm6') :     0 :  -0.0 :     1 : False : False : Boolean\n",
      "          ('m4', 'm7') :     0 :  -0.0 :     1 : False : False : Boolean\n",
      "          ('m4', 'm8') :     0 :   0.0 :     1 : False : False : Boolean\n",
      "          ('m4', 'm9') :     0 :  -0.0 :     1 : False : False : Boolean\n",
      "          ('m4', 's1') :     0 :   0.0 :     1 : False : False : Boolean\n",
      "          ('m4', 's2') :     0 :  -0.0 :     1 : False : False : Boolean\n",
      "          ('m4', 's3') :     0 :  -0.0 :     1 : False : False : Boolean\n",
      "         ('m5', 'd-1') :     0 :  -0.0 :     1 : False : False : Boolean\n",
      "          ('m5', 'd0') :     0 :  -0.0 :     1 : False : False : Boolean\n",
      "          ('m5', 'm1') :     0 :   1.0 :     1 : False : False : Boolean\n",
      "         ('m5', 'm10') :     0 :  -0.0 :     1 : False : False : Boolean\n",
      "          ('m5', 'm2') :     0 :  -0.0 :     1 : False : False : Boolean\n",
      "          ('m5', 'm3') :     0 :  -0.0 :     1 : False : False : Boolean\n",
      "          ('m5', 'm4') :     0 :   0.0 :     1 : False : False : Boolean\n",
      "          ('m5', 'm5') :     0 :  None :     1 : False :  True : Boolean\n",
      "          ('m5', 'm6') :     0 :  -0.0 :     1 : False : False : Boolean\n",
      "          ('m5', 'm7') :     0 :  -0.0 :     1 : False : False : Boolean\n",
      "          ('m5', 'm8') :     0 :   0.0 :     1 : False : False : Boolean\n",
      "          ('m5', 'm9') :     0 :  -0.0 :     1 : False : False : Boolean\n",
      "          ('m5', 's1') :     0 :  -0.0 :     1 : False : False : Boolean\n",
      "          ('m5', 's2') :     0 :  -0.0 :     1 : False : False : Boolean\n",
      "          ('m5', 's3') :     0 :  -0.0 :     1 : False : False : Boolean\n",
      "         ('m6', 'd-1') :     0 :  -0.0 :     1 : False : False : Boolean\n",
      "          ('m6', 'd0') :     0 :  -0.0 :     1 : False : False : Boolean\n",
      "          ('m6', 'm1') :     0 :   0.0 :     1 : False : False : Boolean\n",
      "         ('m6', 'm10') :     0 :  -0.0 :     1 : False : False : Boolean\n",
      "          ('m6', 'm2') :     0 :  -0.0 :     1 : False : False : Boolean\n",
      "          ('m6', 'm3') :     0 :  -0.0 :     1 : False : False : Boolean\n",
      "          ('m6', 'm4') :     0 :  -0.0 :     1 : False : False : Boolean\n",
      "          ('m6', 'm5') :     0 :   0.0 :     1 : False : False : Boolean\n",
      "          ('m6', 'm6') :     0 :  None :     1 : False :  True : Boolean\n",
      "          ('m6', 'm7') :     0 :  -0.0 :     1 : False : False : Boolean\n",
      "          ('m6', 'm8') :     0 :  -0.0 :     1 : False : False : Boolean\n",
      "          ('m6', 'm9') :     0 :   1.0 :     1 : False : False : Boolean\n",
      "          ('m6', 's1') :     0 :   0.0 :     1 : False : False : Boolean\n",
      "          ('m6', 's2') :     0 :  -0.0 :     1 : False : False : Boolean\n",
      "          ('m6', 's3') :     0 :  -0.0 :     1 : False : False : Boolean\n",
      "         ('m7', 'd-1') :     0 :  -0.0 :     1 : False : False : Boolean\n",
      "          ('m7', 'd0') :     0 :  -0.0 :     1 : False : False : Boolean\n",
      "          ('m7', 'm1') :     0 :  -0.0 :     1 : False : False : Boolean\n",
      "         ('m7', 'm10') :     0 :  -0.0 :     1 : False : False : Boolean\n",
      "          ('m7', 'm2') :     0 :  -0.0 :     1 : False : False : Boolean\n",
      "          ('m7', 'm3') :     0 :  -0.0 :     1 : False : False : Boolean\n",
      "          ('m7', 'm4') :     0 :  -0.0 :     1 : False : False : Boolean\n",
      "          ('m7', 'm5') :     0 :  -0.0 :     1 : False : False : Boolean\n",
      "          ('m7', 'm6') :     0 :   1.0 :     1 : False : False : Boolean\n",
      "          ('m7', 'm7') :     0 :  None :     1 : False :  True : Boolean\n",
      "          ('m7', 'm8') :     0 :  -0.0 :     1 : False : False : Boolean\n",
      "          ('m7', 'm9') :     0 :  -0.0 :     1 : False : False : Boolean\n",
      "          ('m7', 's1') :     0 :  -0.0 :     1 : False : False : Boolean\n",
      "          ('m7', 's2') :     0 :  -0.0 :     1 : False : False : Boolean\n",
      "          ('m7', 's3') :     0 :  -0.0 :     1 : False : False : Boolean\n",
      "         ('m8', 'd-1') :     0 :   0.0 :     1 : False : False : Boolean\n",
      "          ('m8', 'd0') :     0 :  -0.0 :     1 : False : False : Boolean\n",
      "          ('m8', 'm1') :     0 :  -0.0 :     1 : False : False : Boolean\n",
      "         ('m8', 'm10') :     0 :  -0.0 :     1 : False : False : Boolean\n",
      "          ('m8', 'm2') :     0 :  -0.0 :     1 : False : False : Boolean\n",
      "          ('m8', 'm3') :     0 :  -0.0 :     1 : False : False : Boolean\n",
      "          ('m8', 'm4') :     0 :   1.0 :     1 : False : False : Boolean\n",
      "          ('m8', 'm5') :     0 :  -0.0 :     1 : False : False : Boolean\n",
      "          ('m8', 'm6') :     0 :  -0.0 :     1 : False : False : Boolean\n",
      "          ('m8', 'm7') :     0 :  -0.0 :     1 : False : False : Boolean\n",
      "          ('m8', 'm8') :     0 :  None :     1 : False :  True : Boolean\n",
      "          ('m8', 'm9') :     0 :  -0.0 :     1 : False : False : Boolean\n",
      "          ('m8', 's1') :     0 :  -0.0 :     1 : False : False : Boolean\n",
      "          ('m8', 's2') :     0 :  -0.0 :     1 : False : False : Boolean\n",
      "          ('m8', 's3') :     0 :  -0.0 :     1 : False : False : Boolean\n",
      "         ('m9', 'd-1') :     0 :  -0.0 :     1 : False : False : Boolean\n",
      "          ('m9', 'd0') :     0 :  -0.0 :     1 : False : False : Boolean\n",
      "          ('m9', 'm1') :     0 :  -0.0 :     1 : False : False : Boolean\n",
      "         ('m9', 'm10') :     0 :  -0.0 :     1 : False : False : Boolean\n",
      "          ('m9', 'm2') :     0 :  -0.0 :     1 : False : False : Boolean\n",
      "          ('m9', 'm3') :     0 :  -0.0 :     1 : False : False : Boolean\n",
      "          ('m9', 'm4') :     0 :  -0.0 :     1 : False : False : Boolean\n",
      "          ('m9', 'm5') :     0 :  -0.0 :     1 : False : False : Boolean\n",
      "          ('m9', 'm6') :     0 :   0.0 :     1 : False : False : Boolean\n",
      "          ('m9', 'm7') :     0 :  -0.0 :     1 : False : False : Boolean\n",
      "          ('m9', 'm8') :     0 :  -0.0 :     1 : False : False : Boolean\n",
      "          ('m9', 'm9') :     0 :  None :     1 : False :  True : Boolean\n",
      "          ('m9', 's1') :     0 :  -0.0 :     1 : False : False : Boolean\n",
      "          ('m9', 's2') :     0 :  -0.0 :     1 : False : False : Boolean\n",
      "          ('m9', 's3') :     0 :   1.0 :     1 : False : False : Boolean\n",
      "         ('s1', 'd-1') :     0 :  -0.0 :     1 : False : False : Boolean\n",
      "          ('s1', 'd0') :     0 :  -0.0 :     1 : False : False : Boolean\n",
      "          ('s1', 'm1') :     0 :  -0.0 :     1 : False : False : Boolean\n",
      "         ('s1', 'm10') :     0 :  -0.0 :     1 : False : False : Boolean\n",
      "          ('s1', 'm2') :     0 :  -0.0 :     1 : False : False : Boolean\n",
      "          ('s1', 'm3') :     0 :  -0.0 :     1 : False : False : Boolean\n",
      "          ('s1', 'm4') :     0 :  -0.0 :     1 : False : False : Boolean\n",
      "          ('s1', 'm5') :     0 :   0.0 :     1 : False : False : Boolean\n",
      "          ('s1', 'm6') :     0 :  -0.0 :     1 : False : False : Boolean\n",
      "          ('s1', 'm7') :     0 :   1.0 :     1 : False : False : Boolean\n",
      "          ('s1', 'm8') :     0 :  -0.0 :     1 : False : False : Boolean\n",
      "          ('s1', 'm9') :     0 :  -0.0 :     1 : False : False : Boolean\n",
      "          ('s1', 's1') :     0 :  None :     1 : False :  True : Boolean\n",
      "          ('s1', 's2') :     0 :  -0.0 :     1 : False : False : Boolean\n",
      "          ('s1', 's3') :     0 :  -0.0 :     1 : False : False : Boolean\n",
      "         ('s2', 'd-1') :     0 :  -0.0 :     1 : False : False : Boolean\n",
      "          ('s2', 'd0') :     0 :  -0.0 :     1 : False : False : Boolean\n",
      "          ('s2', 'm1') :     0 :  -0.0 :     1 : False : False : Boolean\n",
      "         ('s2', 'm10') :     0 :   1.0 :     1 : False : False : Boolean\n",
      "          ('s2', 'm2') :     0 :  -0.0 :     1 : False : False : Boolean\n",
      "          ('s2', 'm3') :     0 :  -0.0 :     1 : False : False : Boolean\n",
      "          ('s2', 'm4') :     0 :   0.0 :     1 : False : False : Boolean\n",
      "          ('s2', 'm5') :     0 :  -0.0 :     1 : False : False : Boolean\n",
      "          ('s2', 'm6') :     0 :  -0.0 :     1 : False : False : Boolean\n",
      "          ('s2', 'm7') :     0 :  -0.0 :     1 : False : False : Boolean\n",
      "          ('s2', 'm8') :     0 :  -0.0 :     1 : False : False : Boolean\n",
      "          ('s2', 'm9') :     0 :  -0.0 :     1 : False : False : Boolean\n",
      "          ('s2', 's1') :     0 :  -0.0 :     1 : False : False : Boolean\n",
      "          ('s2', 's2') :     0 :  None :     1 : False :  True : Boolean\n",
      "          ('s2', 's3') :     0 :  -0.0 :     1 : False : False : Boolean\n",
      "         ('s3', 'd-1') :     0 :  -0.0 :     1 : False : False : Boolean\n",
      "          ('s3', 'd0') :     0 :  -0.0 :     1 : False : False : Boolean\n",
      "          ('s3', 'm1') :     0 :  -0.0 :     1 : False : False : Boolean\n",
      "         ('s3', 'm10') :     0 :  -0.0 :     1 : False : False : Boolean\n",
      "          ('s3', 'm2') :     0 :  -0.0 :     1 : False : False : Boolean\n",
      "          ('s3', 'm3') :     0 :   1.0 :     1 : False : False : Boolean\n",
      "          ('s3', 'm4') :     0 :  -0.0 :     1 : False : False : Boolean\n",
      "          ('s3', 'm5') :     0 :  -0.0 :     1 : False : False : Boolean\n",
      "          ('s3', 'm6') :     0 :  -0.0 :     1 : False : False : Boolean\n",
      "          ('s3', 'm7') :     0 :  -0.0 :     1 : False : False : Boolean\n",
      "          ('s3', 'm8') :     0 :  -0.0 :     1 : False : False : Boolean\n",
      "          ('s3', 'm9') :     0 :  -0.0 :     1 : False : False : Boolean\n",
      "          ('s3', 's1') :     0 :  -0.0 :     1 : False : False : Boolean\n",
      "          ('s3', 's2') :     0 :  -0.0 :     1 : False : False : Boolean\n",
      "          ('s3', 's3') :     0 :  None :     1 : False :  True : Boolean\n",
      "\n",
      "1 Objective Declarations\n",
      "    obj : Size=1, Index=None, Active=True\n",
      "        Key  : Active : Sense    : Expression\n",
      "        None :   True : minimize : 27.892651361962706*xgamma[d0,s1] + 32.2490309931942*xgamma[d0,s2] + 36.235341863986875*xgamma[d0,s3] + 17.46424919657298*xgamma[d0,m1] + 36.05551275463989*xgamma[d0,m2] + 43.86342439892262*xgamma[d0,m3] + 18.027756377319946*xgamma[d0,m4] + 19.235384061671343*xgamma[d0,m5] + 19.697715603592208*xgamma[d0,m6] + 31.622776601683793*xgamma[d0,m7] + 17.4928556845359*xgamma[d0,m8] + 15.0*xgamma[d0,m9] + 18.027756377319946*xgamma[d0,m10] + 27.892651361962706*xgamma[d-1,s1] + 32.2490309931942*xgamma[d-1,s2] + 36.235341863986875*xgamma[d-1,s3] + 17.46424919657298*xgamma[d-1,m1] + 36.05551275463989*xgamma[d-1,m2] + 43.86342439892262*xgamma[d-1,m3] + 18.027756377319946*xgamma[d-1,m4] + 19.235384061671343*xgamma[d-1,m5] + 19.697715603592208*xgamma[d-1,m6] + 31.622776601683793*xgamma[d-1,m7] + 17.4928556845359*xgamma[d-1,m8] + 15.0*xgamma[d-1,m9] + 18.027756377319946*xgamma[d-1,m10] + 27.892651361962706*xgamma[s1,d0] + 27.892651361962706*xgamma[s1,d-1] + 59.61543424315552*xgamma[s1,s2] + 61.032778078668514*xgamma[s1,s3] + 10.44030650891055*xgamma[s1,m1] + 63.071388124885914*xgamma[s1,m2] + 69.06518659932803*xgamma[s1,m3] + 30.083217912982647*xgamma[s1,m4] + 10.198039027185569*xgamma[s1,m5] + 31.400636936215164*xgamma[s1,m6] + 17.26267650163207*xgamma[s1,m7] + 36.87817782917155*xgamma[s1,m8] + 34.828149534535996*xgamma[s1,m9] + 45.31004303683677*xgamma[s1,m10] + 32.2490309931942*xgamma[s2,d0] + 32.2490309931942*xgamma[s2,d-1] + 59.61543424315552*xgamma[s2,s1] + 13.0*xgamma[s2,s3] + 49.24428900898052*xgamma[s2,m1] + 4.47213595499958*xgamma[s2,m2] + 16.1245154965971*xgamma[s2,m3] + 43.41658669218482*xgamma[s2,m4] + 51.478150704935004*xgamma[s2,m5] + 36.05551275463989*xgamma[s2,m6] + 58.309518948453004*xgamma[s2,m7] + 36.359317925395686*xgamma[s2,m8] + 28.0178514522438*xgamma[s2,m9] + 14.317821063276353*xgamma[s2,m10] + 36.235341863986875*xgamma[s3,d0] + 36.235341863986875*xgamma[s3,d-1] + 61.032778078668514*xgamma[s3,s1] + 13.0*xgamma[s3,s2] + 51.22499389946279*xgamma[s3,m1] + 10.63014581273465*xgamma[s3,m2] + 8.06225774829855*xgamma[s3,m3] + 50.99019513592785*xgamma[s3,m4] + 54.48853090330111*xgamma[s3,m5] + 32.57299494980466*xgamma[s3,m6] + 55.97320787662612*xgamma[s3,m7] + 45.221676218380054*xgamma[s3,m8] + 26.419689627245813*xgamma[s3,m9] + 19.697715603592208*xgamma[s3,m10] + 17.46424919657298*xgamma[m1,d0] + 17.46424919657298*xgamma[m1,d-1] + 10.44030650891055*xgamma[m1,s1] + 49.24428900898052*xgamma[m1,s2] + 51.22499389946279*xgamma[m1,s3] + 52.773099207835045*xgamma[m1,m2] + 59.20304046246274*xgamma[m1,m3] + 22.80350850198276*xgamma[m1,m4] + 5.0*xgamma[m1,m5] + 23.769728648009426*xgamma[m1,m6] + 19.1049731745428*xgamma[m1,m7] + 28.231188426986208*xgamma[m1,m8] + 25.495097567963924*xgamma[m1,m9] + 34.92849839314596*xgamma[m1,m10] + 36.05551275463989*xgamma[m2,d0] + 36.05551275463989*xgamma[m2,d-1] + 63.071388124885914*xgamma[m2,s1] + 4.47213595499958*xgamma[m2,s2] + 10.63014581273465*xgamma[m2,s3] + 52.773099207835045*xgamma[m2,m1] + 12.0*xgamma[m2,m3] + 47.80167361086848*xgamma[m2,m4] + 55.226805085936306*xgamma[m2,m5] + 38.05259518088089*xgamma[m2,m6] + 60.8276253029822*xgamma[m2,m7] + 40.8166632639171*xgamma[m2,m8] + 30.4138126514911*xgamma[m2,m9] + 18.027756377319946*xgamma[m2,m10] + 43.86342439892262*xgamma[m3,d0] + 43.86342439892262*xgamma[m3,d-1] + 69.06518659932803*xgamma[m3,s1] + 16.1245154965971*xgamma[m3,s2] + 8.06225774829855*xgamma[m3,s3] + 59.20304046246274*xgamma[m3,m1] + 12.0*xgamma[m3,m2] + 57.8013840664737*xgamma[m3,m4] + 62.369864518050704*xgamma[m3,m5] + 40.496913462633174*xgamma[m3,m6] + 63.90618123468183*xgamma[m3,m7] + 51.478150704935004*xgamma[m3,m8] + 34.48187929913333*xgamma[m3,m9] + 26.627053911388696*xgamma[m3,m10] + 18.027756377319946*xgamma[m4,d0] + 18.027756377319946*xgamma[m4,d-1] + 30.083217912982647*xgamma[m4,s1] + 43.41658669218482*xgamma[m4,s2] + 50.99019513592785*xgamma[m4,s3] + 22.80350850198276*xgamma[m4,m1] + 47.80167361086848*xgamma[m4,m2] + 57.8013840664737*xgamma[m4,m3] + 20.12461179749811*xgamma[m4,m5] + 37.107950630558946*xgamma[m4,m6] + 41.773197148410844*xgamma[m4,m7] + 8.54400374531753*xgamma[m4,m8] + 33.015148038438355*xgamma[m4,m9] + 31.304951684997057*xgamma[m4,m10] + 19.235384061671343*xgamma[m5,d0] + 19.235384061671343*xgamma[m5,d-1] + 10.198039027185569*xgamma[m5,s1] + 51.478150704935004*xgamma[m5,s2] + 54.48853090330111*xgamma[m5,s3] + 5.0*xgamma[m5,m1] + 55.226805085936306*xgamma[m5,m2] + 62.369864518050704*xgamma[m5,m3] + 20.12461179749811*xgamma[m5,m4] + 28.460498941515414*xgamma[m5,m6] + 23.021728866442675*xgamma[m5,m7] + 26.68332812825267*xgamma[m5,m8] + 29.410882339705484*xgamma[m5,m9] + 37.21558813185679*xgamma[m5,m10] + 19.697715603592208*xgamma[m6,d0] + 19.697715603592208*xgamma[m6,d-1] + 31.400636936215164*xgamma[m6,s1] + 36.05551275463989*xgamma[m6,s2] + 32.57299494980466*xgamma[m6,s3] + 23.769728648009426*xgamma[m6,m1] + 38.05259518088089*xgamma[m6,m2] + 40.496913462633174*xgamma[m6,m3] + 37.107950630558946*xgamma[m6,m4] + 28.460498941515414*xgamma[m6,m5] + 23.40939982143925*xgamma[m6,m7] + 37.12142238654117*xgamma[m6,m8] + 8.54400374531753*xgamma[m6,m9] + 24.351591323771842*xgamma[m6,m10] + 31.622776601683793*xgamma[m7,d0] + 31.622776601683793*xgamma[m7,d-1] + 17.26267650163207*xgamma[m7,s1] + 58.309518948453004*xgamma[m7,s2] + 55.97320787662612*xgamma[m7,s3] + 19.1049731745428*xgamma[m7,m1] + 60.8276253029822*xgamma[m7,m2] + 63.90618123468183*xgamma[m7,m3] + 41.773197148410844*xgamma[m7,m4] + 23.021728866442675*xgamma[m7,m5] + 23.40939982143925*xgamma[m7,m6] + 46.32493928760188*xgamma[m7,m8] + 30.4138126514911*xgamma[m7,m9] + 45.0*xgamma[m7,m10] + 17.4928556845359*xgamma[m8,d0] + 17.4928556845359*xgamma[m8,d-1] + 36.87817782917155*xgamma[m8,s1] + 36.359317925395686*xgamma[m8,s2] + 45.221676218380054*xgamma[m8,s3] + 28.231188426986208*xgamma[m8,m1] + 40.8166632639171*xgamma[m8,m2] + 51.478150704935004*xgamma[m8,m3] + 8.54400374531753*xgamma[m8,m4] + 26.68332812825267*xgamma[m8,m5] + 37.12142238654117*xgamma[m8,m6] + 46.32493928760188*xgamma[m8,m7] + 31.32091952673165*xgamma[m8,m9] + 25.709920264364882*xgamma[m8,m10] + 15.0*xgamma[m9,d0] + 15.0*xgamma[m9,d-1] + 34.828149534535996*xgamma[m9,s1] + 28.0178514522438*xgamma[m9,s2] + 26.419689627245813*xgamma[m9,s3] + 25.495097567963924*xgamma[m9,m1] + 30.4138126514911*xgamma[m9,m2] + 34.48187929913333*xgamma[m9,m3] + 33.015148038438355*xgamma[m9,m4] + 29.410882339705484*xgamma[m9,m5] + 8.54400374531753*xgamma[m9,m6] + 30.4138126514911*xgamma[m9,m7] + 31.32091952673165*xgamma[m9,m8] + 15.811388300841896*xgamma[m9,m10] + 18.027756377319946*xgamma[m10,d0] + 18.027756377319946*xgamma[m10,d-1] + 45.31004303683677*xgamma[m10,s1] + 14.317821063276353*xgamma[m10,s2] + 19.697715603592208*xgamma[m10,s3] + 34.92849839314596*xgamma[m10,m1] + 18.027756377319946*xgamma[m10,m2] + 26.627053911388696*xgamma[m10,m3] + 31.304951684997057*xgamma[m10,m4] + 37.21558813185679*xgamma[m10,m5] + 24.351591323771842*xgamma[m10,m6] + 45.0*xgamma[m10,m7] + 25.709920264364882*xgamma[m10,m8] + 15.811388300841896*xgamma[m10,m9]\n",
      "\n",
      "3 Constraint Declarations\n",
      "    constraint_in_arcs : Size=15, Index=V01, Active=True\n",
      "        Key : Lower : Body                                                                                                                                                                                                                                         : Upper : Active\n",
      "        d-1 :   1.0 : xgamma[d0,d-1] + xgamma[s1,d-1] + xgamma[s2,d-1] + xgamma[s3,d-1] + xgamma[m1,d-1] + xgamma[m2,d-1] + xgamma[m3,d-1] + xgamma[m4,d-1] + xgamma[m5,d-1] + xgamma[m6,d-1] + xgamma[m7,d-1] + xgamma[m8,d-1] + xgamma[m9,d-1] + xgamma[m10,d-1] :   1.0 :   True\n",
      "         d0 :   1.0 :              xgamma[d-1,d0] + xgamma[s1,d0] + xgamma[s2,d0] + xgamma[s3,d0] + xgamma[m1,d0] + xgamma[m2,d0] + xgamma[m3,d0] + xgamma[m4,d0] + xgamma[m5,d0] + xgamma[m6,d0] + xgamma[m7,d0] + xgamma[m8,d0] + xgamma[m9,d0] + xgamma[m10,d0] :   1.0 :   True\n",
      "         m1 :   1.0 :              xgamma[d0,m1] + xgamma[d-1,m1] + xgamma[s1,m1] + xgamma[s2,m1] + xgamma[s3,m1] + xgamma[m2,m1] + xgamma[m3,m1] + xgamma[m4,m1] + xgamma[m5,m1] + xgamma[m6,m1] + xgamma[m7,m1] + xgamma[m8,m1] + xgamma[m9,m1] + xgamma[m10,m1] :   1.0 :   True\n",
      "        m10 :   1.0 :                  xgamma[d0,m10] + xgamma[d-1,m10] + xgamma[s1,m10] + xgamma[s2,m10] + xgamma[s3,m10] + xgamma[m2,m10] + xgamma[m3,m10] + xgamma[m4,m10] + xgamma[m5,m10] + xgamma[m6,m10] + xgamma[m7,m10] + xgamma[m8,m10] + xgamma[m9,m10] :   1.0 :   True\n",
      "         m2 :   1.0 :              xgamma[d0,m2] + xgamma[d-1,m2] + xgamma[s1,m2] + xgamma[s2,m2] + xgamma[s3,m2] + xgamma[m1,m2] + xgamma[m3,m2] + xgamma[m4,m2] + xgamma[m5,m2] + xgamma[m6,m2] + xgamma[m7,m2] + xgamma[m8,m2] + xgamma[m9,m2] + xgamma[m10,m2] :   1.0 :   True\n",
      "         m3 :   1.0 :              xgamma[d0,m3] + xgamma[d-1,m3] + xgamma[s1,m3] + xgamma[s2,m3] + xgamma[s3,m3] + xgamma[m1,m3] + xgamma[m2,m3] + xgamma[m4,m3] + xgamma[m5,m3] + xgamma[m6,m3] + xgamma[m7,m3] + xgamma[m8,m3] + xgamma[m9,m3] + xgamma[m10,m3] :   1.0 :   True\n",
      "         m4 :   1.0 :              xgamma[d0,m4] + xgamma[d-1,m4] + xgamma[s1,m4] + xgamma[s2,m4] + xgamma[s3,m4] + xgamma[m1,m4] + xgamma[m2,m4] + xgamma[m3,m4] + xgamma[m5,m4] + xgamma[m6,m4] + xgamma[m7,m4] + xgamma[m8,m4] + xgamma[m9,m4] + xgamma[m10,m4] :   1.0 :   True\n",
      "         m5 :   1.0 :              xgamma[d0,m5] + xgamma[d-1,m5] + xgamma[s1,m5] + xgamma[s2,m5] + xgamma[s3,m5] + xgamma[m1,m5] + xgamma[m2,m5] + xgamma[m3,m5] + xgamma[m4,m5] + xgamma[m6,m5] + xgamma[m7,m5] + xgamma[m8,m5] + xgamma[m9,m5] + xgamma[m10,m5] :   1.0 :   True\n",
      "         m6 :   1.0 :              xgamma[d0,m6] + xgamma[d-1,m6] + xgamma[s1,m6] + xgamma[s2,m6] + xgamma[s3,m6] + xgamma[m1,m6] + xgamma[m2,m6] + xgamma[m3,m6] + xgamma[m4,m6] + xgamma[m5,m6] + xgamma[m7,m6] + xgamma[m8,m6] + xgamma[m9,m6] + xgamma[m10,m6] :   1.0 :   True\n",
      "         m7 :   1.0 :              xgamma[d0,m7] + xgamma[d-1,m7] + xgamma[s1,m7] + xgamma[s2,m7] + xgamma[s3,m7] + xgamma[m1,m7] + xgamma[m2,m7] + xgamma[m3,m7] + xgamma[m4,m7] + xgamma[m5,m7] + xgamma[m6,m7] + xgamma[m8,m7] + xgamma[m9,m7] + xgamma[m10,m7] :   1.0 :   True\n",
      "         m8 :   1.0 :              xgamma[d0,m8] + xgamma[d-1,m8] + xgamma[s1,m8] + xgamma[s2,m8] + xgamma[s3,m8] + xgamma[m1,m8] + xgamma[m2,m8] + xgamma[m3,m8] + xgamma[m4,m8] + xgamma[m5,m8] + xgamma[m6,m8] + xgamma[m7,m8] + xgamma[m9,m8] + xgamma[m10,m8] :   1.0 :   True\n",
      "         m9 :   1.0 :              xgamma[d0,m9] + xgamma[d-1,m9] + xgamma[s1,m9] + xgamma[s2,m9] + xgamma[s3,m9] + xgamma[m1,m9] + xgamma[m2,m9] + xgamma[m3,m9] + xgamma[m4,m9] + xgamma[m5,m9] + xgamma[m6,m9] + xgamma[m7,m9] + xgamma[m8,m9] + xgamma[m10,m9] :   1.0 :   True\n",
      "         s1 :   1.0 :              xgamma[d0,s1] + xgamma[d-1,s1] + xgamma[s2,s1] + xgamma[s3,s1] + xgamma[m1,s1] + xgamma[m2,s1] + xgamma[m3,s1] + xgamma[m4,s1] + xgamma[m5,s1] + xgamma[m6,s1] + xgamma[m7,s1] + xgamma[m8,s1] + xgamma[m9,s1] + xgamma[m10,s1] :   1.0 :   True\n",
      "         s2 :   1.0 :              xgamma[d0,s2] + xgamma[d-1,s2] + xgamma[s1,s2] + xgamma[s3,s2] + xgamma[m1,s2] + xgamma[m2,s2] + xgamma[m3,s2] + xgamma[m4,s2] + xgamma[m5,s2] + xgamma[m6,s2] + xgamma[m7,s2] + xgamma[m8,s2] + xgamma[m9,s2] + xgamma[m10,s2] :   1.0 :   True\n",
      "         s3 :   1.0 :              xgamma[d0,s3] + xgamma[d-1,s3] + xgamma[s1,s3] + xgamma[s2,s3] + xgamma[m1,s3] + xgamma[m2,s3] + xgamma[m3,s3] + xgamma[m4,s3] + xgamma[m5,s3] + xgamma[m6,s3] + xgamma[m7,s3] + xgamma[m8,s3] + xgamma[m9,s3] + xgamma[m10,s3] :   1.0 :   True\n",
      "    constraint_out_arcs : Size=15, Index=V01, Active=True\n",
      "        Key : Lower : Body                                                                                                                                                                                                                                         : Upper : Active\n",
      "        d-1 :   1.0 : xgamma[d-1,d0] + xgamma[d-1,s1] + xgamma[d-1,s2] + xgamma[d-1,s3] + xgamma[d-1,m1] + xgamma[d-1,m2] + xgamma[d-1,m3] + xgamma[d-1,m4] + xgamma[d-1,m5] + xgamma[d-1,m6] + xgamma[d-1,m7] + xgamma[d-1,m8] + xgamma[d-1,m9] + xgamma[d-1,m10] :   1.0 :   True\n",
      "         d0 :   1.0 :              xgamma[d0,d-1] + xgamma[d0,s1] + xgamma[d0,s2] + xgamma[d0,s3] + xgamma[d0,m1] + xgamma[d0,m2] + xgamma[d0,m3] + xgamma[d0,m4] + xgamma[d0,m5] + xgamma[d0,m6] + xgamma[d0,m7] + xgamma[d0,m8] + xgamma[d0,m9] + xgamma[d0,m10] :   1.0 :   True\n",
      "         m1 :   1.0 :              xgamma[m1,d0] + xgamma[m1,d-1] + xgamma[m1,s1] + xgamma[m1,s2] + xgamma[m1,s3] + xgamma[m1,m2] + xgamma[m1,m3] + xgamma[m1,m4] + xgamma[m1,m5] + xgamma[m1,m6] + xgamma[m1,m7] + xgamma[m1,m8] + xgamma[m1,m9] + xgamma[m1,m10] :   1.0 :   True\n",
      "        m10 :   1.0 :                  xgamma[m10,d0] + xgamma[m10,d-1] + xgamma[m10,s1] + xgamma[m10,s2] + xgamma[m10,s3] + xgamma[m10,m2] + xgamma[m10,m3] + xgamma[m10,m4] + xgamma[m10,m5] + xgamma[m10,m6] + xgamma[m10,m7] + xgamma[m10,m8] + xgamma[m10,m9] :   1.0 :   True\n",
      "         m2 :   1.0 :              xgamma[m2,d0] + xgamma[m2,d-1] + xgamma[m2,s1] + xgamma[m2,s2] + xgamma[m2,s3] + xgamma[m2,m1] + xgamma[m2,m3] + xgamma[m2,m4] + xgamma[m2,m5] + xgamma[m2,m6] + xgamma[m2,m7] + xgamma[m2,m8] + xgamma[m2,m9] + xgamma[m2,m10] :   1.0 :   True\n",
      "         m3 :   1.0 :              xgamma[m3,d0] + xgamma[m3,d-1] + xgamma[m3,s1] + xgamma[m3,s2] + xgamma[m3,s3] + xgamma[m3,m1] + xgamma[m3,m2] + xgamma[m3,m4] + xgamma[m3,m5] + xgamma[m3,m6] + xgamma[m3,m7] + xgamma[m3,m8] + xgamma[m3,m9] + xgamma[m3,m10] :   1.0 :   True\n",
      "         m4 :   1.0 :              xgamma[m4,d0] + xgamma[m4,d-1] + xgamma[m4,s1] + xgamma[m4,s2] + xgamma[m4,s3] + xgamma[m4,m1] + xgamma[m4,m2] + xgamma[m4,m3] + xgamma[m4,m5] + xgamma[m4,m6] + xgamma[m4,m7] + xgamma[m4,m8] + xgamma[m4,m9] + xgamma[m4,m10] :   1.0 :   True\n",
      "         m5 :   1.0 :              xgamma[m5,d0] + xgamma[m5,d-1] + xgamma[m5,s1] + xgamma[m5,s2] + xgamma[m5,s3] + xgamma[m5,m1] + xgamma[m5,m2] + xgamma[m5,m3] + xgamma[m5,m4] + xgamma[m5,m6] + xgamma[m5,m7] + xgamma[m5,m8] + xgamma[m5,m9] + xgamma[m5,m10] :   1.0 :   True\n",
      "         m6 :   1.0 :              xgamma[m6,d0] + xgamma[m6,d-1] + xgamma[m6,s1] + xgamma[m6,s2] + xgamma[m6,s3] + xgamma[m6,m1] + xgamma[m6,m2] + xgamma[m6,m3] + xgamma[m6,m4] + xgamma[m6,m5] + xgamma[m6,m7] + xgamma[m6,m8] + xgamma[m6,m9] + xgamma[m6,m10] :   1.0 :   True\n",
      "         m7 :   1.0 :              xgamma[m7,d0] + xgamma[m7,d-1] + xgamma[m7,s1] + xgamma[m7,s2] + xgamma[m7,s3] + xgamma[m7,m1] + xgamma[m7,m2] + xgamma[m7,m3] + xgamma[m7,m4] + xgamma[m7,m5] + xgamma[m7,m6] + xgamma[m7,m8] + xgamma[m7,m9] + xgamma[m7,m10] :   1.0 :   True\n",
      "         m8 :   1.0 :              xgamma[m8,d0] + xgamma[m8,d-1] + xgamma[m8,s1] + xgamma[m8,s2] + xgamma[m8,s3] + xgamma[m8,m1] + xgamma[m8,m2] + xgamma[m8,m3] + xgamma[m8,m4] + xgamma[m8,m5] + xgamma[m8,m6] + xgamma[m8,m7] + xgamma[m8,m9] + xgamma[m8,m10] :   1.0 :   True\n",
      "         m9 :   1.0 :              xgamma[m9,d0] + xgamma[m9,d-1] + xgamma[m9,s1] + xgamma[m9,s2] + xgamma[m9,s3] + xgamma[m9,m1] + xgamma[m9,m2] + xgamma[m9,m3] + xgamma[m9,m4] + xgamma[m9,m5] + xgamma[m9,m6] + xgamma[m9,m7] + xgamma[m9,m8] + xgamma[m9,m10] :   1.0 :   True\n",
      "         s1 :   1.0 :              xgamma[s1,d0] + xgamma[s1,d-1] + xgamma[s1,s2] + xgamma[s1,s3] + xgamma[s1,m1] + xgamma[s1,m2] + xgamma[s1,m3] + xgamma[s1,m4] + xgamma[s1,m5] + xgamma[s1,m6] + xgamma[s1,m7] + xgamma[s1,m8] + xgamma[s1,m9] + xgamma[s1,m10] :   1.0 :   True\n",
      "         s2 :   1.0 :              xgamma[s2,d0] + xgamma[s2,d-1] + xgamma[s2,s1] + xgamma[s2,s3] + xgamma[s2,m1] + xgamma[s2,m2] + xgamma[s2,m3] + xgamma[s2,m4] + xgamma[s2,m5] + xgamma[s2,m6] + xgamma[s2,m7] + xgamma[s2,m8] + xgamma[s2,m9] + xgamma[s2,m10] :   1.0 :   True\n",
      "         s3 :   1.0 :              xgamma[s3,d0] + xgamma[s3,d-1] + xgamma[s3,s1] + xgamma[s3,s2] + xgamma[s3,m1] + xgamma[s3,m2] + xgamma[s3,m3] + xgamma[s3,m4] + xgamma[s3,m5] + xgamma[s3,m6] + xgamma[s3,m7] + xgamma[s3,m8] + xgamma[s3,m9] + xgamma[s3,m10] :   1.0 :   True\n",
      "    constraint_single_subtour : Size=182, Index=constraint_single_subtour_index, Active=True\n",
      "        Key            : Lower : Body                                 : Upper : Active\n",
      "         ('d-1', 'm1') :  -Inf :   u[d-1] - u[m1] + 15*xgamma[d-1,m1] :  14.0 :   True\n",
      "        ('d-1', 'm10') :  -Inf : u[d-1] - u[m10] + 15*xgamma[d-1,m10] :  14.0 :   True\n",
      "         ('d-1', 'm2') :  -Inf :   u[d-1] - u[m2] + 15*xgamma[d-1,m2] :  14.0 :   True\n",
      "         ('d-1', 'm3') :  -Inf :   u[d-1] - u[m3] + 15*xgamma[d-1,m3] :  14.0 :   True\n",
      "         ('d-1', 'm4') :  -Inf :   u[d-1] - u[m4] + 15*xgamma[d-1,m4] :  14.0 :   True\n",
      "         ('d-1', 'm5') :  -Inf :   u[d-1] - u[m5] + 15*xgamma[d-1,m5] :  14.0 :   True\n",
      "         ('d-1', 'm6') :  -Inf :   u[d-1] - u[m6] + 15*xgamma[d-1,m6] :  14.0 :   True\n",
      "         ('d-1', 'm7') :  -Inf :   u[d-1] - u[m7] + 15*xgamma[d-1,m7] :  14.0 :   True\n",
      "         ('d-1', 'm8') :  -Inf :   u[d-1] - u[m8] + 15*xgamma[d-1,m8] :  14.0 :   True\n",
      "         ('d-1', 'm9') :  -Inf :   u[d-1] - u[m9] + 15*xgamma[d-1,m9] :  14.0 :   True\n",
      "         ('d-1', 's1') :  -Inf :   u[d-1] - u[s1] + 15*xgamma[d-1,s1] :  14.0 :   True\n",
      "         ('d-1', 's2') :  -Inf :   u[d-1] - u[s2] + 15*xgamma[d-1,s2] :  14.0 :   True\n",
      "         ('d-1', 's3') :  -Inf :   u[d-1] - u[s3] + 15*xgamma[d-1,s3] :  14.0 :   True\n",
      "         ('m1', 'd-1') :  -Inf :   u[m1] - u[d-1] + 15*xgamma[m1,d-1] :  14.0 :   True\n",
      "         ('m1', 'm10') :  -Inf :   u[m1] - u[m10] + 15*xgamma[m1,m10] :  14.0 :   True\n",
      "          ('m1', 'm2') :  -Inf :     u[m1] - u[m2] + 15*xgamma[m1,m2] :  14.0 :   True\n",
      "          ('m1', 'm3') :  -Inf :     u[m1] - u[m3] + 15*xgamma[m1,m3] :  14.0 :   True\n",
      "          ('m1', 'm4') :  -Inf :     u[m1] - u[m4] + 15*xgamma[m1,m4] :  14.0 :   True\n",
      "          ('m1', 'm5') :  -Inf :     u[m1] - u[m5] + 15*xgamma[m1,m5] :  14.0 :   True\n",
      "          ('m1', 'm6') :  -Inf :     u[m1] - u[m6] + 15*xgamma[m1,m6] :  14.0 :   True\n",
      "          ('m1', 'm7') :  -Inf :     u[m1] - u[m7] + 15*xgamma[m1,m7] :  14.0 :   True\n",
      "          ('m1', 'm8') :  -Inf :     u[m1] - u[m8] + 15*xgamma[m1,m8] :  14.0 :   True\n",
      "          ('m1', 'm9') :  -Inf :     u[m1] - u[m9] + 15*xgamma[m1,m9] :  14.0 :   True\n",
      "          ('m1', 's1') :  -Inf :     u[m1] - u[s1] + 15*xgamma[m1,s1] :  14.0 :   True\n",
      "          ('m1', 's2') :  -Inf :     u[m1] - u[s2] + 15*xgamma[m1,s2] :  14.0 :   True\n",
      "          ('m1', 's3') :  -Inf :     u[m1] - u[s3] + 15*xgamma[m1,s3] :  14.0 :   True\n",
      "        ('m10', 'd-1') :  -Inf : u[m10] - u[d-1] + 15*xgamma[m10,d-1] :  14.0 :   True\n",
      "         ('m10', 'm1') :  -Inf :   u[m10] - u[m1] + 15*xgamma[m10,m1] :  14.0 :   True\n",
      "         ('m10', 'm2') :  -Inf :   u[m10] - u[m2] + 15*xgamma[m10,m2] :  14.0 :   True\n",
      "         ('m10', 'm3') :  -Inf :   u[m10] - u[m3] + 15*xgamma[m10,m3] :  14.0 :   True\n",
      "         ('m10', 'm4') :  -Inf :   u[m10] - u[m4] + 15*xgamma[m10,m4] :  14.0 :   True\n",
      "         ('m10', 'm5') :  -Inf :   u[m10] - u[m5] + 15*xgamma[m10,m5] :  14.0 :   True\n",
      "         ('m10', 'm6') :  -Inf :   u[m10] - u[m6] + 15*xgamma[m10,m6] :  14.0 :   True\n",
      "         ('m10', 'm7') :  -Inf :   u[m10] - u[m7] + 15*xgamma[m10,m7] :  14.0 :   True\n",
      "         ('m10', 'm8') :  -Inf :   u[m10] - u[m8] + 15*xgamma[m10,m8] :  14.0 :   True\n",
      "         ('m10', 'm9') :  -Inf :   u[m10] - u[m9] + 15*xgamma[m10,m9] :  14.0 :   True\n",
      "         ('m10', 's1') :  -Inf :   u[m10] - u[s1] + 15*xgamma[m10,s1] :  14.0 :   True\n",
      "         ('m10', 's2') :  -Inf :   u[m10] - u[s2] + 15*xgamma[m10,s2] :  14.0 :   True\n",
      "         ('m10', 's3') :  -Inf :   u[m10] - u[s3] + 15*xgamma[m10,s3] :  14.0 :   True\n",
      "         ('m2', 'd-1') :  -Inf :   u[m2] - u[d-1] + 15*xgamma[m2,d-1] :  14.0 :   True\n",
      "          ('m2', 'm1') :  -Inf :     u[m2] - u[m1] + 15*xgamma[m2,m1] :  14.0 :   True\n",
      "         ('m2', 'm10') :  -Inf :   u[m2] - u[m10] + 15*xgamma[m2,m10] :  14.0 :   True\n",
      "          ('m2', 'm3') :  -Inf :     u[m2] - u[m3] + 15*xgamma[m2,m3] :  14.0 :   True\n",
      "          ('m2', 'm4') :  -Inf :     u[m2] - u[m4] + 15*xgamma[m2,m4] :  14.0 :   True\n",
      "          ('m2', 'm5') :  -Inf :     u[m2] - u[m5] + 15*xgamma[m2,m5] :  14.0 :   True\n",
      "          ('m2', 'm6') :  -Inf :     u[m2] - u[m6] + 15*xgamma[m2,m6] :  14.0 :   True\n",
      "          ('m2', 'm7') :  -Inf :     u[m2] - u[m7] + 15*xgamma[m2,m7] :  14.0 :   True\n",
      "          ('m2', 'm8') :  -Inf :     u[m2] - u[m8] + 15*xgamma[m2,m8] :  14.0 :   True\n",
      "          ('m2', 'm9') :  -Inf :     u[m2] - u[m9] + 15*xgamma[m2,m9] :  14.0 :   True\n",
      "          ('m2', 's1') :  -Inf :     u[m2] - u[s1] + 15*xgamma[m2,s1] :  14.0 :   True\n",
      "          ('m2', 's2') :  -Inf :     u[m2] - u[s2] + 15*xgamma[m2,s2] :  14.0 :   True\n",
      "          ('m2', 's3') :  -Inf :     u[m2] - u[s3] + 15*xgamma[m2,s3] :  14.0 :   True\n",
      "         ('m3', 'd-1') :  -Inf :   u[m3] - u[d-1] + 15*xgamma[m3,d-1] :  14.0 :   True\n",
      "          ('m3', 'm1') :  -Inf :     u[m3] - u[m1] + 15*xgamma[m3,m1] :  14.0 :   True\n",
      "         ('m3', 'm10') :  -Inf :   u[m3] - u[m10] + 15*xgamma[m3,m10] :  14.0 :   True\n",
      "          ('m3', 'm2') :  -Inf :     u[m3] - u[m2] + 15*xgamma[m3,m2] :  14.0 :   True\n",
      "          ('m3', 'm4') :  -Inf :     u[m3] - u[m4] + 15*xgamma[m3,m4] :  14.0 :   True\n",
      "          ('m3', 'm5') :  -Inf :     u[m3] - u[m5] + 15*xgamma[m3,m5] :  14.0 :   True\n",
      "          ('m3', 'm6') :  -Inf :     u[m3] - u[m6] + 15*xgamma[m3,m6] :  14.0 :   True\n",
      "          ('m3', 'm7') :  -Inf :     u[m3] - u[m7] + 15*xgamma[m3,m7] :  14.0 :   True\n",
      "          ('m3', 'm8') :  -Inf :     u[m3] - u[m8] + 15*xgamma[m3,m8] :  14.0 :   True\n",
      "          ('m3', 'm9') :  -Inf :     u[m3] - u[m9] + 15*xgamma[m3,m9] :  14.0 :   True\n",
      "          ('m3', 's1') :  -Inf :     u[m3] - u[s1] + 15*xgamma[m3,s1] :  14.0 :   True\n",
      "          ('m3', 's2') :  -Inf :     u[m3] - u[s2] + 15*xgamma[m3,s2] :  14.0 :   True\n",
      "          ('m3', 's3') :  -Inf :     u[m3] - u[s3] + 15*xgamma[m3,s3] :  14.0 :   True\n",
      "         ('m4', 'd-1') :  -Inf :   u[m4] - u[d-1] + 15*xgamma[m4,d-1] :  14.0 :   True\n",
      "          ('m4', 'm1') :  -Inf :     u[m4] - u[m1] + 15*xgamma[m4,m1] :  14.0 :   True\n",
      "         ('m4', 'm10') :  -Inf :   u[m4] - u[m10] + 15*xgamma[m4,m10] :  14.0 :   True\n",
      "          ('m4', 'm2') :  -Inf :     u[m4] - u[m2] + 15*xgamma[m4,m2] :  14.0 :   True\n",
      "          ('m4', 'm3') :  -Inf :     u[m4] - u[m3] + 15*xgamma[m4,m3] :  14.0 :   True\n",
      "          ('m4', 'm5') :  -Inf :     u[m4] - u[m5] + 15*xgamma[m4,m5] :  14.0 :   True\n",
      "          ('m4', 'm6') :  -Inf :     u[m4] - u[m6] + 15*xgamma[m4,m6] :  14.0 :   True\n",
      "          ('m4', 'm7') :  -Inf :     u[m4] - u[m7] + 15*xgamma[m4,m7] :  14.0 :   True\n",
      "          ('m4', 'm8') :  -Inf :     u[m4] - u[m8] + 15*xgamma[m4,m8] :  14.0 :   True\n",
      "          ('m4', 'm9') :  -Inf :     u[m4] - u[m9] + 15*xgamma[m4,m9] :  14.0 :   True\n",
      "          ('m4', 's1') :  -Inf :     u[m4] - u[s1] + 15*xgamma[m4,s1] :  14.0 :   True\n",
      "          ('m4', 's2') :  -Inf :     u[m4] - u[s2] + 15*xgamma[m4,s2] :  14.0 :   True\n",
      "          ('m4', 's3') :  -Inf :     u[m4] - u[s3] + 15*xgamma[m4,s3] :  14.0 :   True\n",
      "         ('m5', 'd-1') :  -Inf :   u[m5] - u[d-1] + 15*xgamma[m5,d-1] :  14.0 :   True\n",
      "          ('m5', 'm1') :  -Inf :     u[m5] - u[m1] + 15*xgamma[m5,m1] :  14.0 :   True\n",
      "         ('m5', 'm10') :  -Inf :   u[m5] - u[m10] + 15*xgamma[m5,m10] :  14.0 :   True\n",
      "          ('m5', 'm2') :  -Inf :     u[m5] - u[m2] + 15*xgamma[m5,m2] :  14.0 :   True\n",
      "          ('m5', 'm3') :  -Inf :     u[m5] - u[m3] + 15*xgamma[m5,m3] :  14.0 :   True\n",
      "          ('m5', 'm4') :  -Inf :     u[m5] - u[m4] + 15*xgamma[m5,m4] :  14.0 :   True\n",
      "          ('m5', 'm6') :  -Inf :     u[m5] - u[m6] + 15*xgamma[m5,m6] :  14.0 :   True\n",
      "          ('m5', 'm7') :  -Inf :     u[m5] - u[m7] + 15*xgamma[m5,m7] :  14.0 :   True\n",
      "          ('m5', 'm8') :  -Inf :     u[m5] - u[m8] + 15*xgamma[m5,m8] :  14.0 :   True\n",
      "          ('m5', 'm9') :  -Inf :     u[m5] - u[m9] + 15*xgamma[m5,m9] :  14.0 :   True\n",
      "          ('m5', 's1') :  -Inf :     u[m5] - u[s1] + 15*xgamma[m5,s1] :  14.0 :   True\n",
      "          ('m5', 's2') :  -Inf :     u[m5] - u[s2] + 15*xgamma[m5,s2] :  14.0 :   True\n",
      "          ('m5', 's3') :  -Inf :     u[m5] - u[s3] + 15*xgamma[m5,s3] :  14.0 :   True\n",
      "         ('m6', 'd-1') :  -Inf :   u[m6] - u[d-1] + 15*xgamma[m6,d-1] :  14.0 :   True\n",
      "          ('m6', 'm1') :  -Inf :     u[m6] - u[m1] + 15*xgamma[m6,m1] :  14.0 :   True\n",
      "         ('m6', 'm10') :  -Inf :   u[m6] - u[m10] + 15*xgamma[m6,m10] :  14.0 :   True\n",
      "          ('m6', 'm2') :  -Inf :     u[m6] - u[m2] + 15*xgamma[m6,m2] :  14.0 :   True\n",
      "          ('m6', 'm3') :  -Inf :     u[m6] - u[m3] + 15*xgamma[m6,m3] :  14.0 :   True\n",
      "          ('m6', 'm4') :  -Inf :     u[m6] - u[m4] + 15*xgamma[m6,m4] :  14.0 :   True\n",
      "          ('m6', 'm5') :  -Inf :     u[m6] - u[m5] + 15*xgamma[m6,m5] :  14.0 :   True\n",
      "          ('m6', 'm7') :  -Inf :     u[m6] - u[m7] + 15*xgamma[m6,m7] :  14.0 :   True\n",
      "          ('m6', 'm8') :  -Inf :     u[m6] - u[m8] + 15*xgamma[m6,m8] :  14.0 :   True\n",
      "          ('m6', 'm9') :  -Inf :     u[m6] - u[m9] + 15*xgamma[m6,m9] :  14.0 :   True\n",
      "          ('m6', 's1') :  -Inf :     u[m6] - u[s1] + 15*xgamma[m6,s1] :  14.0 :   True\n",
      "          ('m6', 's2') :  -Inf :     u[m6] - u[s2] + 15*xgamma[m6,s2] :  14.0 :   True\n",
      "          ('m6', 's3') :  -Inf :     u[m6] - u[s3] + 15*xgamma[m6,s3] :  14.0 :   True\n",
      "         ('m7', 'd-1') :  -Inf :   u[m7] - u[d-1] + 15*xgamma[m7,d-1] :  14.0 :   True\n",
      "          ('m7', 'm1') :  -Inf :     u[m7] - u[m1] + 15*xgamma[m7,m1] :  14.0 :   True\n",
      "         ('m7', 'm10') :  -Inf :   u[m7] - u[m10] + 15*xgamma[m7,m10] :  14.0 :   True\n",
      "          ('m7', 'm2') :  -Inf :     u[m7] - u[m2] + 15*xgamma[m7,m2] :  14.0 :   True\n",
      "          ('m7', 'm3') :  -Inf :     u[m7] - u[m3] + 15*xgamma[m7,m3] :  14.0 :   True\n",
      "          ('m7', 'm4') :  -Inf :     u[m7] - u[m4] + 15*xgamma[m7,m4] :  14.0 :   True\n",
      "          ('m7', 'm5') :  -Inf :     u[m7] - u[m5] + 15*xgamma[m7,m5] :  14.0 :   True\n",
      "          ('m7', 'm6') :  -Inf :     u[m7] - u[m6] + 15*xgamma[m7,m6] :  14.0 :   True\n",
      "          ('m7', 'm8') :  -Inf :     u[m7] - u[m8] + 15*xgamma[m7,m8] :  14.0 :   True\n",
      "          ('m7', 'm9') :  -Inf :     u[m7] - u[m9] + 15*xgamma[m7,m9] :  14.0 :   True\n",
      "          ('m7', 's1') :  -Inf :     u[m7] - u[s1] + 15*xgamma[m7,s1] :  14.0 :   True\n",
      "          ('m7', 's2') :  -Inf :     u[m7] - u[s2] + 15*xgamma[m7,s2] :  14.0 :   True\n",
      "          ('m7', 's3') :  -Inf :     u[m7] - u[s3] + 15*xgamma[m7,s3] :  14.0 :   True\n",
      "         ('m8', 'd-1') :  -Inf :   u[m8] - u[d-1] + 15*xgamma[m8,d-1] :  14.0 :   True\n",
      "          ('m8', 'm1') :  -Inf :     u[m8] - u[m1] + 15*xgamma[m8,m1] :  14.0 :   True\n",
      "         ('m8', 'm10') :  -Inf :   u[m8] - u[m10] + 15*xgamma[m8,m10] :  14.0 :   True\n",
      "          ('m8', 'm2') :  -Inf :     u[m8] - u[m2] + 15*xgamma[m8,m2] :  14.0 :   True\n",
      "          ('m8', 'm3') :  -Inf :     u[m8] - u[m3] + 15*xgamma[m8,m3] :  14.0 :   True\n",
      "          ('m8', 'm4') :  -Inf :     u[m8] - u[m4] + 15*xgamma[m8,m4] :  14.0 :   True\n",
      "          ('m8', 'm5') :  -Inf :     u[m8] - u[m5] + 15*xgamma[m8,m5] :  14.0 :   True\n",
      "          ('m8', 'm6') :  -Inf :     u[m8] - u[m6] + 15*xgamma[m8,m6] :  14.0 :   True\n",
      "          ('m8', 'm7') :  -Inf :     u[m8] - u[m7] + 15*xgamma[m8,m7] :  14.0 :   True\n",
      "          ('m8', 'm9') :  -Inf :     u[m8] - u[m9] + 15*xgamma[m8,m9] :  14.0 :   True\n",
      "          ('m8', 's1') :  -Inf :     u[m8] - u[s1] + 15*xgamma[m8,s1] :  14.0 :   True\n",
      "          ('m8', 's2') :  -Inf :     u[m8] - u[s2] + 15*xgamma[m8,s2] :  14.0 :   True\n",
      "          ('m8', 's3') :  -Inf :     u[m8] - u[s3] + 15*xgamma[m8,s3] :  14.0 :   True\n",
      "         ('m9', 'd-1') :  -Inf :   u[m9] - u[d-1] + 15*xgamma[m9,d-1] :  14.0 :   True\n",
      "          ('m9', 'm1') :  -Inf :     u[m9] - u[m1] + 15*xgamma[m9,m1] :  14.0 :   True\n",
      "         ('m9', 'm10') :  -Inf :   u[m9] - u[m10] + 15*xgamma[m9,m10] :  14.0 :   True\n",
      "          ('m9', 'm2') :  -Inf :     u[m9] - u[m2] + 15*xgamma[m9,m2] :  14.0 :   True\n",
      "          ('m9', 'm3') :  -Inf :     u[m9] - u[m3] + 15*xgamma[m9,m3] :  14.0 :   True\n",
      "          ('m9', 'm4') :  -Inf :     u[m9] - u[m4] + 15*xgamma[m9,m4] :  14.0 :   True\n",
      "          ('m9', 'm5') :  -Inf :     u[m9] - u[m5] + 15*xgamma[m9,m5] :  14.0 :   True\n",
      "          ('m9', 'm6') :  -Inf :     u[m9] - u[m6] + 15*xgamma[m9,m6] :  14.0 :   True\n",
      "          ('m9', 'm7') :  -Inf :     u[m9] - u[m7] + 15*xgamma[m9,m7] :  14.0 :   True\n",
      "          ('m9', 'm8') :  -Inf :     u[m9] - u[m8] + 15*xgamma[m9,m8] :  14.0 :   True\n",
      "          ('m9', 's1') :  -Inf :     u[m9] - u[s1] + 15*xgamma[m9,s1] :  14.0 :   True\n",
      "          ('m9', 's2') :  -Inf :     u[m9] - u[s2] + 15*xgamma[m9,s2] :  14.0 :   True\n",
      "          ('m9', 's3') :  -Inf :     u[m9] - u[s3] + 15*xgamma[m9,s3] :  14.0 :   True\n",
      "         ('s1', 'd-1') :  -Inf :   u[s1] - u[d-1] + 15*xgamma[s1,d-1] :  14.0 :   True\n",
      "          ('s1', 'm1') :  -Inf :     u[s1] - u[m1] + 15*xgamma[s1,m1] :  14.0 :   True\n",
      "         ('s1', 'm10') :  -Inf :   u[s1] - u[m10] + 15*xgamma[s1,m10] :  14.0 :   True\n",
      "          ('s1', 'm2') :  -Inf :     u[s1] - u[m2] + 15*xgamma[s1,m2] :  14.0 :   True\n",
      "          ('s1', 'm3') :  -Inf :     u[s1] - u[m3] + 15*xgamma[s1,m3] :  14.0 :   True\n",
      "          ('s1', 'm4') :  -Inf :     u[s1] - u[m4] + 15*xgamma[s1,m4] :  14.0 :   True\n",
      "          ('s1', 'm5') :  -Inf :     u[s1] - u[m5] + 15*xgamma[s1,m5] :  14.0 :   True\n",
      "          ('s1', 'm6') :  -Inf :     u[s1] - u[m6] + 15*xgamma[s1,m6] :  14.0 :   True\n",
      "          ('s1', 'm7') :  -Inf :     u[s1] - u[m7] + 15*xgamma[s1,m7] :  14.0 :   True\n",
      "          ('s1', 'm8') :  -Inf :     u[s1] - u[m8] + 15*xgamma[s1,m8] :  14.0 :   True\n",
      "          ('s1', 'm9') :  -Inf :     u[s1] - u[m9] + 15*xgamma[s1,m9] :  14.0 :   True\n",
      "          ('s1', 's2') :  -Inf :     u[s1] - u[s2] + 15*xgamma[s1,s2] :  14.0 :   True\n",
      "          ('s1', 's3') :  -Inf :     u[s1] - u[s3] + 15*xgamma[s1,s3] :  14.0 :   True\n",
      "         ('s2', 'd-1') :  -Inf :   u[s2] - u[d-1] + 15*xgamma[s2,d-1] :  14.0 :   True\n",
      "          ('s2', 'm1') :  -Inf :     u[s2] - u[m1] + 15*xgamma[s2,m1] :  14.0 :   True\n",
      "         ('s2', 'm10') :  -Inf :   u[s2] - u[m10] + 15*xgamma[s2,m10] :  14.0 :   True\n",
      "          ('s2', 'm2') :  -Inf :     u[s2] - u[m2] + 15*xgamma[s2,m2] :  14.0 :   True\n",
      "          ('s2', 'm3') :  -Inf :     u[s2] - u[m3] + 15*xgamma[s2,m3] :  14.0 :   True\n",
      "          ('s2', 'm4') :  -Inf :     u[s2] - u[m4] + 15*xgamma[s2,m4] :  14.0 :   True\n",
      "          ('s2', 'm5') :  -Inf :     u[s2] - u[m5] + 15*xgamma[s2,m5] :  14.0 :   True\n",
      "          ('s2', 'm6') :  -Inf :     u[s2] - u[m6] + 15*xgamma[s2,m6] :  14.0 :   True\n",
      "          ('s2', 'm7') :  -Inf :     u[s2] - u[m7] + 15*xgamma[s2,m7] :  14.0 :   True\n",
      "          ('s2', 'm8') :  -Inf :     u[s2] - u[m8] + 15*xgamma[s2,m8] :  14.0 :   True\n",
      "          ('s2', 'm9') :  -Inf :     u[s2] - u[m9] + 15*xgamma[s2,m9] :  14.0 :   True\n",
      "          ('s2', 's1') :  -Inf :     u[s2] - u[s1] + 15*xgamma[s2,s1] :  14.0 :   True\n",
      "          ('s2', 's3') :  -Inf :     u[s2] - u[s3] + 15*xgamma[s2,s3] :  14.0 :   True\n",
      "         ('s3', 'd-1') :  -Inf :   u[s3] - u[d-1] + 15*xgamma[s3,d-1] :  14.0 :   True\n",
      "          ('s3', 'm1') :  -Inf :     u[s3] - u[m1] + 15*xgamma[s3,m1] :  14.0 :   True\n",
      "         ('s3', 'm10') :  -Inf :   u[s3] - u[m10] + 15*xgamma[s3,m10] :  14.0 :   True\n",
      "          ('s3', 'm2') :  -Inf :     u[s3] - u[m2] + 15*xgamma[s3,m2] :  14.0 :   True\n",
      "          ('s3', 'm3') :  -Inf :     u[s3] - u[m3] + 15*xgamma[s3,m3] :  14.0 :   True\n",
      "          ('s3', 'm4') :  -Inf :     u[s3] - u[m4] + 15*xgamma[s3,m4] :  14.0 :   True\n",
      "          ('s3', 'm5') :  -Inf :     u[s3] - u[m5] + 15*xgamma[s3,m5] :  14.0 :   True\n",
      "          ('s3', 'm6') :  -Inf :     u[s3] - u[m6] + 15*xgamma[s3,m6] :  14.0 :   True\n",
      "          ('s3', 'm7') :  -Inf :     u[s3] - u[m7] + 15*xgamma[s3,m7] :  14.0 :   True\n",
      "          ('s3', 'm8') :  -Inf :     u[s3] - u[m8] + 15*xgamma[s3,m8] :  14.0 :   True\n",
      "          ('s3', 'm9') :  -Inf :     u[s3] - u[m9] + 15*xgamma[s3,m9] :  14.0 :   True\n",
      "          ('s3', 's1') :  -Inf :     u[s3] - u[s1] + 15*xgamma[s3,s1] :  14.0 :   True\n",
      "          ('s3', 's2') :  -Inf :     u[s3] - u[s2] + 15*xgamma[s3,s2] :  14.0 :   True\n",
      "\n",
      "21 Declarations: V01 V_index_init_index_1 V_index_init V V0_index_init_index_1 V0_index_init V0 V1_index_init_index_1 V1_index_init V1 E_index_init E_domain E d xgamma u constraint_in_arcs constraint_out_arcs constraint_single_subtour_index constraint_single_subtour obj\n",
      "None\n"
     ]
    }
   ],
   "source": [
    "print('{}'.format(m.m.pprint()))"
   ],
   "metadata": {
    "collapsed": false,
    "pycharm": {
     "name": "#%%\n"
    }
   }
  },
  {
   "cell_type": "code",
   "execution_count": 484,
   "outputs": [],
   "source": [
    "c = create_coordinate_dict(m.data['V'])\n",
    "\n",
    "e = pd.DataFrame([(*k, v()) for k, v in m.m.xgamma.items()])\n",
    "e.rename({0:'from', 1:'to', 2:'state'}, axis=1, inplace=True)\n",
    "e['from_d_x'], e['from_d_y'] = np.vstack([c[e] for e in e['from']]).T\n",
    "e['to_d_x'], e['to_d_y'] =  np.vstack([c[e] for e in e['to']]).T\n",
    "e = e[e['state']==1]\n",
    "# e = e.pivot(index='from', columns='to', values='state')"
   ],
   "metadata": {
    "collapsed": false,
    "pycharm": {
     "name": "#%%\n"
    }
   }
  },
  {
   "cell_type": "code",
   "execution_count": 485,
   "outputs": [
    {
     "data": {
      "application/vnd.plotly.v1+json": {
       "config": {
        "plotlyServerURL": "https://plot.ly"
       },
       "data": [
        {
         "customdata": [
          "start depot",
          "terminal depot",
          "charging station",
          "charging station",
          "charging station",
          "customer",
          "customer",
          "customer",
          "customer",
          "customer",
          "customer",
          "customer",
          "customer",
          "customer",
          "customer"
         ],
         "hoverinfo": "none",
         "hovertemplate": "<b>%{text}</b>: %{customdata}<br>X: %{x}<br>Y: %{y}",
         "marker": {
          "color": [
           "rgba(191, 243, 180, 0.8)",
           "rgba(191, 243, 180, 0.8)",
           "rgba(167, 215, 241, 0.8)",
           "rgba(167, 215, 241, 0.8)",
           "rgba(167, 215, 241, 0.8)",
           "rgba(240, 169, 171, 0.8)",
           "rgba(240, 169, 171, 0.8)",
           "rgba(240, 169, 171, 0.8)",
           "rgba(240, 169, 171, 0.8)",
           "rgba(240, 169, 171, 0.8)",
           "rgba(240, 169, 171, 0.8)",
           "rgba(240, 169, 171, 0.8)",
           "rgba(240, 169, 171, 0.8)",
           "rgba(240, 169, 171, 0.8)",
           "rgba(240, 169, 171, 0.8)"
          ],
          "size": 25
         },
         "mode": "markers+text",
         "name": "Nodes",
         "showlegend": true,
         "text": [
          "d0",
          "d-1",
          "s1",
          "s2",
          "s3",
          "m1",
          "m2",
          "m3",
          "m4",
          "m5",
          "m6",
          "m7",
          "m8",
          "m9",
          "m10"
         ],
         "type": "scatter",
         "x": [
          35,
          35,
          28,
          51,
          63,
          31,
          55,
          67,
          17,
          26,
          53,
          45,
          20,
          50,
          45
         ],
         "y": [
          35,
          35,
          62,
          7,
          12,
          52,
          5,
          5,
          34,
          52,
          43,
          65,
          26,
          35,
          20
         ]
        }
       ],
       "layout": {
        "annotations": [
         {
          "arrowcolor": "#888",
          "arrowhead": 5,
          "arrowsize": 1,
          "arrowwidth": 2,
          "ax": 20,
          "axref": "x",
          "ay": 26,
          "ayref": "y",
          "showarrow": true,
          "text": "",
          "x": 35,
          "xref": "x",
          "y": 35,
          "yref": "y"
         },
         {
          "arrowcolor": "#888",
          "arrowhead": 5,
          "arrowsize": 1,
          "arrowwidth": 2,
          "ax": 35,
          "axref": "x",
          "ay": 35,
          "ayref": "y",
          "showarrow": true,
          "text": "",
          "x": 35,
          "xref": "x",
          "y": 35,
          "yref": "y"
         },
         {
          "arrowcolor": "#888",
          "arrowhead": 5,
          "arrowsize": 1,
          "arrowwidth": 2,
          "ax": 45,
          "axref": "x",
          "ay": 65,
          "ayref": "y",
          "showarrow": true,
          "text": "",
          "x": 28,
          "xref": "x",
          "y": 62,
          "yref": "y"
         },
         {
          "arrowcolor": "#888",
          "arrowhead": 5,
          "arrowsize": 1,
          "arrowwidth": 2,
          "ax": 45,
          "axref": "x",
          "ay": 20,
          "ayref": "y",
          "showarrow": true,
          "text": "",
          "x": 51,
          "xref": "x",
          "y": 7,
          "yref": "y"
         },
         {
          "arrowcolor": "#888",
          "arrowhead": 5,
          "arrowsize": 1,
          "arrowwidth": 2,
          "ax": 67,
          "axref": "x",
          "ay": 5,
          "ayref": "y",
          "showarrow": true,
          "text": "",
          "x": 63,
          "xref": "x",
          "y": 12,
          "yref": "y"
         },
         {
          "arrowcolor": "#888",
          "arrowhead": 5,
          "arrowsize": 1,
          "arrowwidth": 2,
          "ax": 28,
          "axref": "x",
          "ay": 62,
          "ayref": "y",
          "showarrow": true,
          "text": "",
          "x": 31,
          "xref": "x",
          "y": 52,
          "yref": "y"
         },
         {
          "arrowcolor": "#888",
          "arrowhead": 5,
          "arrowsize": 1,
          "arrowwidth": 2,
          "ax": 51,
          "axref": "x",
          "ay": 7,
          "ayref": "y",
          "showarrow": true,
          "text": "",
          "x": 55,
          "xref": "x",
          "y": 5,
          "yref": "y"
         },
         {
          "arrowcolor": "#888",
          "arrowhead": 5,
          "arrowsize": 1,
          "arrowwidth": 2,
          "ax": 55,
          "axref": "x",
          "ay": 5,
          "ayref": "y",
          "showarrow": true,
          "text": "",
          "x": 67,
          "xref": "x",
          "y": 5,
          "yref": "y"
         },
         {
          "arrowcolor": "#888",
          "arrowhead": 5,
          "arrowsize": 1,
          "arrowwidth": 2,
          "ax": 26,
          "axref": "x",
          "ay": 52,
          "ayref": "y",
          "showarrow": true,
          "text": "",
          "x": 17,
          "xref": "x",
          "y": 34,
          "yref": "y"
         },
         {
          "arrowcolor": "#888",
          "arrowhead": 5,
          "arrowsize": 1,
          "arrowwidth": 2,
          "ax": 31,
          "axref": "x",
          "ay": 52,
          "ayref": "y",
          "showarrow": true,
          "text": "",
          "x": 26,
          "xref": "x",
          "y": 52,
          "yref": "y"
         },
         {
          "arrowcolor": "#888",
          "arrowhead": 5,
          "arrowsize": 1,
          "arrowwidth": 2,
          "ax": 50,
          "axref": "x",
          "ay": 35,
          "ayref": "y",
          "showarrow": true,
          "text": "",
          "x": 53,
          "xref": "x",
          "y": 43,
          "yref": "y"
         },
         {
          "arrowcolor": "#888",
          "arrowhead": 5,
          "arrowsize": 1,
          "arrowwidth": 2,
          "ax": 53,
          "axref": "x",
          "ay": 43,
          "ayref": "y",
          "showarrow": true,
          "text": "",
          "x": 45,
          "xref": "x",
          "y": 65,
          "yref": "y"
         },
         {
          "arrowcolor": "#888",
          "arrowhead": 5,
          "arrowsize": 1,
          "arrowwidth": 2,
          "ax": 17,
          "axref": "x",
          "ay": 34,
          "ayref": "y",
          "showarrow": true,
          "text": "",
          "x": 20,
          "xref": "x",
          "y": 26,
          "yref": "y"
         },
         {
          "arrowcolor": "#888",
          "arrowhead": 5,
          "arrowsize": 1,
          "arrowwidth": 2,
          "ax": 63,
          "axref": "x",
          "ay": 12,
          "ayref": "y",
          "showarrow": true,
          "text": "",
          "x": 50,
          "xref": "x",
          "y": 35,
          "yref": "y"
         },
         {
          "arrowcolor": "#888",
          "arrowhead": 5,
          "arrowsize": 1,
          "arrowwidth": 2,
          "ax": 35,
          "axref": "x",
          "ay": 35,
          "ayref": "y",
          "showarrow": true,
          "text": "",
          "x": 45,
          "xref": "x",
          "y": 20,
          "yref": "y"
         }
        ],
        "height": 600,
        "showlegend": true,
        "template": {
         "data": {
          "bar": [
           {
            "error_x": {
             "color": "rgb(36,36,36)"
            },
            "error_y": {
             "color": "rgb(36,36,36)"
            },
            "marker": {
             "line": {
              "color": "white",
              "width": 0.5
             }
            },
            "type": "bar"
           }
          ],
          "barpolar": [
           {
            "marker": {
             "line": {
              "color": "white",
              "width": 0.5
             }
            },
            "type": "barpolar"
           }
          ],
          "carpet": [
           {
            "aaxis": {
             "endlinecolor": "rgb(36,36,36)",
             "gridcolor": "white",
             "linecolor": "white",
             "minorgridcolor": "white",
             "startlinecolor": "rgb(36,36,36)"
            },
            "baxis": {
             "endlinecolor": "rgb(36,36,36)",
             "gridcolor": "white",
             "linecolor": "white",
             "minorgridcolor": "white",
             "startlinecolor": "rgb(36,36,36)"
            },
            "type": "carpet"
           }
          ],
          "choropleth": [
           {
            "colorbar": {
             "outlinewidth": 1,
             "tickcolor": "rgb(36,36,36)",
             "ticks": "outside"
            },
            "type": "choropleth"
           }
          ],
          "contour": [
           {
            "colorbar": {
             "outlinewidth": 1,
             "tickcolor": "rgb(36,36,36)",
             "ticks": "outside"
            },
            "colorscale": [
             [
              0.0,
              "#440154"
             ],
             [
              0.1111111111111111,
              "#482878"
             ],
             [
              0.2222222222222222,
              "#3e4989"
             ],
             [
              0.3333333333333333,
              "#31688e"
             ],
             [
              0.4444444444444444,
              "#26828e"
             ],
             [
              0.5555555555555556,
              "#1f9e89"
             ],
             [
              0.6666666666666666,
              "#35b779"
             ],
             [
              0.7777777777777778,
              "#6ece58"
             ],
             [
              0.8888888888888888,
              "#b5de2b"
             ],
             [
              1.0,
              "#fde725"
             ]
            ],
            "type": "contour"
           }
          ],
          "contourcarpet": [
           {
            "colorbar": {
             "outlinewidth": 1,
             "tickcolor": "rgb(36,36,36)",
             "ticks": "outside"
            },
            "type": "contourcarpet"
           }
          ],
          "heatmap": [
           {
            "colorbar": {
             "outlinewidth": 1,
             "tickcolor": "rgb(36,36,36)",
             "ticks": "outside"
            },
            "colorscale": [
             [
              0.0,
              "#440154"
             ],
             [
              0.1111111111111111,
              "#482878"
             ],
             [
              0.2222222222222222,
              "#3e4989"
             ],
             [
              0.3333333333333333,
              "#31688e"
             ],
             [
              0.4444444444444444,
              "#26828e"
             ],
             [
              0.5555555555555556,
              "#1f9e89"
             ],
             [
              0.6666666666666666,
              "#35b779"
             ],
             [
              0.7777777777777778,
              "#6ece58"
             ],
             [
              0.8888888888888888,
              "#b5de2b"
             ],
             [
              1.0,
              "#fde725"
             ]
            ],
            "type": "heatmap"
           }
          ],
          "heatmapgl": [
           {
            "colorbar": {
             "outlinewidth": 1,
             "tickcolor": "rgb(36,36,36)",
             "ticks": "outside"
            },
            "colorscale": [
             [
              0.0,
              "#440154"
             ],
             [
              0.1111111111111111,
              "#482878"
             ],
             [
              0.2222222222222222,
              "#3e4989"
             ],
             [
              0.3333333333333333,
              "#31688e"
             ],
             [
              0.4444444444444444,
              "#26828e"
             ],
             [
              0.5555555555555556,
              "#1f9e89"
             ],
             [
              0.6666666666666666,
              "#35b779"
             ],
             [
              0.7777777777777778,
              "#6ece58"
             ],
             [
              0.8888888888888888,
              "#b5de2b"
             ],
             [
              1.0,
              "#fde725"
             ]
            ],
            "type": "heatmapgl"
           }
          ],
          "histogram": [
           {
            "marker": {
             "line": {
              "color": "white",
              "width": 0.6
             }
            },
            "type": "histogram"
           }
          ],
          "histogram2d": [
           {
            "colorbar": {
             "outlinewidth": 1,
             "tickcolor": "rgb(36,36,36)",
             "ticks": "outside"
            },
            "colorscale": [
             [
              0.0,
              "#440154"
             ],
             [
              0.1111111111111111,
              "#482878"
             ],
             [
              0.2222222222222222,
              "#3e4989"
             ],
             [
              0.3333333333333333,
              "#31688e"
             ],
             [
              0.4444444444444444,
              "#26828e"
             ],
             [
              0.5555555555555556,
              "#1f9e89"
             ],
             [
              0.6666666666666666,
              "#35b779"
             ],
             [
              0.7777777777777778,
              "#6ece58"
             ],
             [
              0.8888888888888888,
              "#b5de2b"
             ],
             [
              1.0,
              "#fde725"
             ]
            ],
            "type": "histogram2d"
           }
          ],
          "histogram2dcontour": [
           {
            "colorbar": {
             "outlinewidth": 1,
             "tickcolor": "rgb(36,36,36)",
             "ticks": "outside"
            },
            "colorscale": [
             [
              0.0,
              "#440154"
             ],
             [
              0.1111111111111111,
              "#482878"
             ],
             [
              0.2222222222222222,
              "#3e4989"
             ],
             [
              0.3333333333333333,
              "#31688e"
             ],
             [
              0.4444444444444444,
              "#26828e"
             ],
             [
              0.5555555555555556,
              "#1f9e89"
             ],
             [
              0.6666666666666666,
              "#35b779"
             ],
             [
              0.7777777777777778,
              "#6ece58"
             ],
             [
              0.8888888888888888,
              "#b5de2b"
             ],
             [
              1.0,
              "#fde725"
             ]
            ],
            "type": "histogram2dcontour"
           }
          ],
          "mesh3d": [
           {
            "colorbar": {
             "outlinewidth": 1,
             "tickcolor": "rgb(36,36,36)",
             "ticks": "outside"
            },
            "type": "mesh3d"
           }
          ],
          "parcoords": [
           {
            "line": {
             "colorbar": {
              "outlinewidth": 1,
              "tickcolor": "rgb(36,36,36)",
              "ticks": "outside"
             }
            },
            "type": "parcoords"
           }
          ],
          "pie": [
           {
            "automargin": true,
            "type": "pie"
           }
          ],
          "scatter": [
           {
            "marker": {
             "colorbar": {
              "outlinewidth": 1,
              "tickcolor": "rgb(36,36,36)",
              "ticks": "outside"
             }
            },
            "type": "scatter"
           }
          ],
          "scatter3d": [
           {
            "line": {
             "colorbar": {
              "outlinewidth": 1,
              "tickcolor": "rgb(36,36,36)",
              "ticks": "outside"
             }
            },
            "marker": {
             "colorbar": {
              "outlinewidth": 1,
              "tickcolor": "rgb(36,36,36)",
              "ticks": "outside"
             }
            },
            "type": "scatter3d"
           }
          ],
          "scattercarpet": [
           {
            "marker": {
             "colorbar": {
              "outlinewidth": 1,
              "tickcolor": "rgb(36,36,36)",
              "ticks": "outside"
             }
            },
            "type": "scattercarpet"
           }
          ],
          "scattergeo": [
           {
            "marker": {
             "colorbar": {
              "outlinewidth": 1,
              "tickcolor": "rgb(36,36,36)",
              "ticks": "outside"
             }
            },
            "type": "scattergeo"
           }
          ],
          "scattergl": [
           {
            "marker": {
             "colorbar": {
              "outlinewidth": 1,
              "tickcolor": "rgb(36,36,36)",
              "ticks": "outside"
             }
            },
            "type": "scattergl"
           }
          ],
          "scattermapbox": [
           {
            "marker": {
             "colorbar": {
              "outlinewidth": 1,
              "tickcolor": "rgb(36,36,36)",
              "ticks": "outside"
             }
            },
            "type": "scattermapbox"
           }
          ],
          "scatterpolar": [
           {
            "marker": {
             "colorbar": {
              "outlinewidth": 1,
              "tickcolor": "rgb(36,36,36)",
              "ticks": "outside"
             }
            },
            "type": "scatterpolar"
           }
          ],
          "scatterpolargl": [
           {
            "marker": {
             "colorbar": {
              "outlinewidth": 1,
              "tickcolor": "rgb(36,36,36)",
              "ticks": "outside"
             }
            },
            "type": "scatterpolargl"
           }
          ],
          "scatterternary": [
           {
            "marker": {
             "colorbar": {
              "outlinewidth": 1,
              "tickcolor": "rgb(36,36,36)",
              "ticks": "outside"
             }
            },
            "type": "scatterternary"
           }
          ],
          "surface": [
           {
            "colorbar": {
             "outlinewidth": 1,
             "tickcolor": "rgb(36,36,36)",
             "ticks": "outside"
            },
            "colorscale": [
             [
              0.0,
              "#440154"
             ],
             [
              0.1111111111111111,
              "#482878"
             ],
             [
              0.2222222222222222,
              "#3e4989"
             ],
             [
              0.3333333333333333,
              "#31688e"
             ],
             [
              0.4444444444444444,
              "#26828e"
             ],
             [
              0.5555555555555556,
              "#1f9e89"
             ],
             [
              0.6666666666666666,
              "#35b779"
             ],
             [
              0.7777777777777778,
              "#6ece58"
             ],
             [
              0.8888888888888888,
              "#b5de2b"
             ],
             [
              1.0,
              "#fde725"
             ]
            ],
            "type": "surface"
           }
          ],
          "table": [
           {
            "cells": {
             "fill": {
              "color": "rgb(237,237,237)"
             },
             "line": {
              "color": "white"
             }
            },
            "header": {
             "fill": {
              "color": "rgb(217,217,217)"
             },
             "line": {
              "color": "white"
             }
            },
            "type": "table"
           }
          ]
         },
         "layout": {
          "annotationdefaults": {
           "arrowhead": 0,
           "arrowwidth": 1
          },
          "coloraxis": {
           "colorbar": {
            "outlinewidth": 1,
            "tickcolor": "rgb(36,36,36)",
            "ticks": "outside"
           }
          },
          "colorscale": {
           "diverging": [
            [
             0.0,
             "rgb(103,0,31)"
            ],
            [
             0.1,
             "rgb(178,24,43)"
            ],
            [
             0.2,
             "rgb(214,96,77)"
            ],
            [
             0.3,
             "rgb(244,165,130)"
            ],
            [
             0.4,
             "rgb(253,219,199)"
            ],
            [
             0.5,
             "rgb(247,247,247)"
            ],
            [
             0.6,
             "rgb(209,229,240)"
            ],
            [
             0.7,
             "rgb(146,197,222)"
            ],
            [
             0.8,
             "rgb(67,147,195)"
            ],
            [
             0.9,
             "rgb(33,102,172)"
            ],
            [
             1.0,
             "rgb(5,48,97)"
            ]
           ],
           "sequential": [
            [
             0.0,
             "#440154"
            ],
            [
             0.1111111111111111,
             "#482878"
            ],
            [
             0.2222222222222222,
             "#3e4989"
            ],
            [
             0.3333333333333333,
             "#31688e"
            ],
            [
             0.4444444444444444,
             "#26828e"
            ],
            [
             0.5555555555555556,
             "#1f9e89"
            ],
            [
             0.6666666666666666,
             "#35b779"
            ],
            [
             0.7777777777777778,
             "#6ece58"
            ],
            [
             0.8888888888888888,
             "#b5de2b"
            ],
            [
             1.0,
             "#fde725"
            ]
           ],
           "sequentialminus": [
            [
             0.0,
             "#440154"
            ],
            [
             0.1111111111111111,
             "#482878"
            ],
            [
             0.2222222222222222,
             "#3e4989"
            ],
            [
             0.3333333333333333,
             "#31688e"
            ],
            [
             0.4444444444444444,
             "#26828e"
            ],
            [
             0.5555555555555556,
             "#1f9e89"
            ],
            [
             0.6666666666666666,
             "#35b779"
            ],
            [
             0.7777777777777778,
             "#6ece58"
            ],
            [
             0.8888888888888888,
             "#b5de2b"
            ],
            [
             1.0,
             "#fde725"
            ]
           ]
          },
          "colorway": [
           "#1F77B4",
           "#FF7F0E",
           "#2CA02C",
           "#D62728",
           "#9467BD",
           "#8C564B",
           "#E377C2",
           "#7F7F7F",
           "#BCBD22",
           "#17BECF"
          ],
          "font": {
           "color": "rgb(36,36,36)"
          },
          "geo": {
           "bgcolor": "white",
           "lakecolor": "white",
           "landcolor": "white",
           "showlakes": true,
           "showland": true,
           "subunitcolor": "white"
          },
          "hoverlabel": {
           "align": "left"
          },
          "hovermode": "closest",
          "mapbox": {
           "style": "light"
          },
          "paper_bgcolor": "white",
          "plot_bgcolor": "white",
          "polar": {
           "angularaxis": {
            "gridcolor": "rgb(232,232,232)",
            "linecolor": "rgb(36,36,36)",
            "showgrid": false,
            "showline": true,
            "ticks": "outside"
           },
           "bgcolor": "white",
           "radialaxis": {
            "gridcolor": "rgb(232,232,232)",
            "linecolor": "rgb(36,36,36)",
            "showgrid": false,
            "showline": true,
            "ticks": "outside"
           }
          },
          "scene": {
           "xaxis": {
            "backgroundcolor": "white",
            "gridcolor": "rgb(232,232,232)",
            "gridwidth": 2,
            "linecolor": "rgb(36,36,36)",
            "showbackground": true,
            "showgrid": false,
            "showline": true,
            "ticks": "outside",
            "zeroline": false,
            "zerolinecolor": "rgb(36,36,36)"
           },
           "yaxis": {
            "backgroundcolor": "white",
            "gridcolor": "rgb(232,232,232)",
            "gridwidth": 2,
            "linecolor": "rgb(36,36,36)",
            "showbackground": true,
            "showgrid": false,
            "showline": true,
            "ticks": "outside",
            "zeroline": false,
            "zerolinecolor": "rgb(36,36,36)"
           },
           "zaxis": {
            "backgroundcolor": "white",
            "gridcolor": "rgb(232,232,232)",
            "gridwidth": 2,
            "linecolor": "rgb(36,36,36)",
            "showbackground": true,
            "showgrid": false,
            "showline": true,
            "ticks": "outside",
            "zeroline": false,
            "zerolinecolor": "rgb(36,36,36)"
           }
          },
          "shapedefaults": {
           "fillcolor": "black",
           "line": {
            "width": 0
           },
           "opacity": 0.3
          },
          "ternary": {
           "aaxis": {
            "gridcolor": "rgb(232,232,232)",
            "linecolor": "rgb(36,36,36)",
            "showgrid": false,
            "showline": true,
            "ticks": "outside"
           },
           "baxis": {
            "gridcolor": "rgb(232,232,232)",
            "linecolor": "rgb(36,36,36)",
            "showgrid": false,
            "showline": true,
            "ticks": "outside"
           },
           "bgcolor": "white",
           "caxis": {
            "gridcolor": "rgb(232,232,232)",
            "linecolor": "rgb(36,36,36)",
            "showgrid": false,
            "showline": true,
            "ticks": "outside"
           }
          },
          "title": {
           "x": 0.05
          },
          "xaxis": {
           "automargin": true,
           "gridcolor": "rgb(232,232,232)",
           "linecolor": "rgb(36,36,36)",
           "showgrid": false,
           "showline": true,
           "ticks": "outside",
           "title": {
            "standoff": 15
           },
           "zeroline": false,
           "zerolinecolor": "rgb(36,36,36)"
          },
          "yaxis": {
           "automargin": true,
           "gridcolor": "rgb(232,232,232)",
           "linecolor": "rgb(36,36,36)",
           "showgrid": false,
           "showline": true,
           "ticks": "outside",
           "title": {
            "standoff": 15
           },
           "zeroline": false,
           "zerolinecolor": "rgb(36,36,36)"
          }
         }
        },
        "xaxis": {
         "anchor": "y",
         "constrain": "domain",
         "domain": [
          0.0,
          1.0
         ],
         "mirror": true,
         "range": [
          0,
          73.7
         ],
         "showline": true,
         "ticks": "outside",
         "title": {
          "text": "x"
         }
        },
        "yaxis": {
         "anchor": "x",
         "domain": [
          0.0,
          1.0
         ],
         "mirror": true,
         "range": [
          0,
          71.5
         ],
         "scaleanchor": "x",
         "scaleratio": 1,
         "showline": true,
         "ticks": "outside",
         "title": {
          "text": "y"
         }
        }
       }
      },
      "text/html": "<div>\n        \n        \n            <div id=\"9a47e089-f880-4a61-8467-ae29351b4ed3\" class=\"plotly-graph-div\" style=\"height:600px; width:100%;\"></div>\n            <script type=\"text/javascript\">\n                require([\"plotly\"], function(Plotly) {\n                    window.PLOTLYENV=window.PLOTLYENV || {};\n                    \n                if (document.getElementById(\"9a47e089-f880-4a61-8467-ae29351b4ed3\")) {\n                    Plotly.newPlot(\n                        '9a47e089-f880-4a61-8467-ae29351b4ed3',\n                        [{\"customdata\": [\"start depot\", \"terminal depot\", \"charging station\", \"charging station\", \"charging station\", \"customer\", \"customer\", \"customer\", \"customer\", \"customer\", \"customer\", \"customer\", \"customer\", \"customer\", \"customer\"], \"hoverinfo\": \"none\", \"hovertemplate\": \"<b>%{text}</b>: %{customdata}<br>X: %{x}<br>Y: %{y}\", \"marker\": {\"color\": [\"rgba(191, 243, 180, 0.8)\", \"rgba(191, 243, 180, 0.8)\", \"rgba(167, 215, 241, 0.8)\", \"rgba(167, 215, 241, 0.8)\", \"rgba(167, 215, 241, 0.8)\", \"rgba(240, 169, 171, 0.8)\", \"rgba(240, 169, 171, 0.8)\", \"rgba(240, 169, 171, 0.8)\", \"rgba(240, 169, 171, 0.8)\", \"rgba(240, 169, 171, 0.8)\", \"rgba(240, 169, 171, 0.8)\", \"rgba(240, 169, 171, 0.8)\", \"rgba(240, 169, 171, 0.8)\", \"rgba(240, 169, 171, 0.8)\", \"rgba(240, 169, 171, 0.8)\"], \"size\": 25}, \"mode\": \"markers+text\", \"name\": \"Nodes\", \"showlegend\": true, \"text\": [\"d0\", \"d-1\", \"s1\", \"s2\", \"s3\", \"m1\", \"m2\", \"m3\", \"m4\", \"m5\", \"m6\", \"m7\", \"m8\", \"m9\", \"m10\"], \"type\": \"scatter\", \"x\": [35, 35, 28, 51, 63, 31, 55, 67, 17, 26, 53, 45, 20, 50, 45], \"y\": [35, 35, 62, 7, 12, 52, 5, 5, 34, 52, 43, 65, 26, 35, 20]}],\n                        {\"annotations\": [{\"arrowcolor\": \"#888\", \"arrowhead\": 5, \"arrowsize\": 1, \"arrowwidth\": 2, \"ax\": 20, \"axref\": \"x\", \"ay\": 26, \"ayref\": \"y\", \"showarrow\": true, \"text\": \"\", \"x\": 35, \"xref\": \"x\", \"y\": 35, \"yref\": \"y\"}, {\"arrowcolor\": \"#888\", \"arrowhead\": 5, \"arrowsize\": 1, \"arrowwidth\": 2, \"ax\": 35, \"axref\": \"x\", \"ay\": 35, \"ayref\": \"y\", \"showarrow\": true, \"text\": \"\", \"x\": 35, \"xref\": \"x\", \"y\": 35, \"yref\": \"y\"}, {\"arrowcolor\": \"#888\", \"arrowhead\": 5, \"arrowsize\": 1, \"arrowwidth\": 2, \"ax\": 45, \"axref\": \"x\", \"ay\": 65, \"ayref\": \"y\", \"showarrow\": true, \"text\": \"\", \"x\": 28, \"xref\": \"x\", \"y\": 62, \"yref\": \"y\"}, {\"arrowcolor\": \"#888\", \"arrowhead\": 5, \"arrowsize\": 1, \"arrowwidth\": 2, \"ax\": 45, \"axref\": \"x\", \"ay\": 20, \"ayref\": \"y\", \"showarrow\": true, \"text\": \"\", \"x\": 51, \"xref\": \"x\", \"y\": 7, \"yref\": \"y\"}, {\"arrowcolor\": \"#888\", \"arrowhead\": 5, \"arrowsize\": 1, \"arrowwidth\": 2, \"ax\": 67, \"axref\": \"x\", \"ay\": 5, \"ayref\": \"y\", \"showarrow\": true, \"text\": \"\", \"x\": 63, \"xref\": \"x\", \"y\": 12, \"yref\": \"y\"}, {\"arrowcolor\": \"#888\", \"arrowhead\": 5, \"arrowsize\": 1, \"arrowwidth\": 2, \"ax\": 28, \"axref\": \"x\", \"ay\": 62, \"ayref\": \"y\", \"showarrow\": true, \"text\": \"\", \"x\": 31, \"xref\": \"x\", \"y\": 52, \"yref\": \"y\"}, {\"arrowcolor\": \"#888\", \"arrowhead\": 5, \"arrowsize\": 1, \"arrowwidth\": 2, \"ax\": 51, \"axref\": \"x\", \"ay\": 7, \"ayref\": \"y\", \"showarrow\": true, \"text\": \"\", \"x\": 55, \"xref\": \"x\", \"y\": 5, \"yref\": \"y\"}, {\"arrowcolor\": \"#888\", \"arrowhead\": 5, \"arrowsize\": 1, \"arrowwidth\": 2, \"ax\": 55, \"axref\": \"x\", \"ay\": 5, \"ayref\": \"y\", \"showarrow\": true, \"text\": \"\", \"x\": 67, \"xref\": \"x\", \"y\": 5, \"yref\": \"y\"}, {\"arrowcolor\": \"#888\", \"arrowhead\": 5, \"arrowsize\": 1, \"arrowwidth\": 2, \"ax\": 26, \"axref\": \"x\", \"ay\": 52, \"ayref\": \"y\", \"showarrow\": true, \"text\": \"\", \"x\": 17, \"xref\": \"x\", \"y\": 34, \"yref\": \"y\"}, {\"arrowcolor\": \"#888\", \"arrowhead\": 5, \"arrowsize\": 1, \"arrowwidth\": 2, \"ax\": 31, \"axref\": \"x\", \"ay\": 52, \"ayref\": \"y\", \"showarrow\": true, \"text\": \"\", \"x\": 26, \"xref\": \"x\", \"y\": 52, \"yref\": \"y\"}, {\"arrowcolor\": \"#888\", \"arrowhead\": 5, \"arrowsize\": 1, \"arrowwidth\": 2, \"ax\": 50, \"axref\": \"x\", \"ay\": 35, \"ayref\": \"y\", \"showarrow\": true, \"text\": \"\", \"x\": 53, \"xref\": \"x\", \"y\": 43, \"yref\": \"y\"}, {\"arrowcolor\": \"#888\", \"arrowhead\": 5, \"arrowsize\": 1, \"arrowwidth\": 2, \"ax\": 53, \"axref\": \"x\", \"ay\": 43, \"ayref\": \"y\", \"showarrow\": true, \"text\": \"\", \"x\": 45, \"xref\": \"x\", \"y\": 65, \"yref\": \"y\"}, {\"arrowcolor\": \"#888\", \"arrowhead\": 5, \"arrowsize\": 1, \"arrowwidth\": 2, \"ax\": 17, \"axref\": \"x\", \"ay\": 34, \"ayref\": \"y\", \"showarrow\": true, \"text\": \"\", \"x\": 20, \"xref\": \"x\", \"y\": 26, \"yref\": \"y\"}, {\"arrowcolor\": \"#888\", \"arrowhead\": 5, \"arrowsize\": 1, \"arrowwidth\": 2, \"ax\": 63, \"axref\": \"x\", \"ay\": 12, \"ayref\": \"y\", \"showarrow\": true, \"text\": \"\", \"x\": 50, \"xref\": \"x\", \"y\": 35, \"yref\": \"y\"}, {\"arrowcolor\": \"#888\", \"arrowhead\": 5, \"arrowsize\": 1, \"arrowwidth\": 2, \"ax\": 35, \"axref\": \"x\", \"ay\": 35, \"ayref\": \"y\", \"showarrow\": true, \"text\": \"\", \"x\": 45, \"xref\": \"x\", \"y\": 20, \"yref\": \"y\"}], \"height\": 600, \"showlegend\": true, \"template\": {\"data\": {\"bar\": [{\"error_x\": {\"color\": \"rgb(36,36,36)\"}, \"error_y\": {\"color\": \"rgb(36,36,36)\"}, \"marker\": {\"line\": {\"color\": \"white\", \"width\": 0.5}}, \"type\": \"bar\"}], \"barpolar\": [{\"marker\": {\"line\": {\"color\": \"white\", \"width\": 0.5}}, \"type\": \"barpolar\"}], \"carpet\": [{\"aaxis\": {\"endlinecolor\": \"rgb(36,36,36)\", \"gridcolor\": \"white\", \"linecolor\": \"white\", \"minorgridcolor\": \"white\", \"startlinecolor\": \"rgb(36,36,36)\"}, \"baxis\": {\"endlinecolor\": \"rgb(36,36,36)\", \"gridcolor\": \"white\", \"linecolor\": \"white\", \"minorgridcolor\": \"white\", \"startlinecolor\": \"rgb(36,36,36)\"}, \"type\": \"carpet\"}], \"choropleth\": [{\"colorbar\": {\"outlinewidth\": 1, \"tickcolor\": \"rgb(36,36,36)\", \"ticks\": \"outside\"}, \"type\": \"choropleth\"}], \"contour\": [{\"colorbar\": {\"outlinewidth\": 1, \"tickcolor\": \"rgb(36,36,36)\", \"ticks\": \"outside\"}, \"colorscale\": [[0.0, \"#440154\"], [0.1111111111111111, \"#482878\"], [0.2222222222222222, \"#3e4989\"], [0.3333333333333333, \"#31688e\"], [0.4444444444444444, \"#26828e\"], [0.5555555555555556, \"#1f9e89\"], [0.6666666666666666, \"#35b779\"], [0.7777777777777778, \"#6ece58\"], [0.8888888888888888, \"#b5de2b\"], [1.0, \"#fde725\"]], \"type\": \"contour\"}], \"contourcarpet\": [{\"colorbar\": {\"outlinewidth\": 1, \"tickcolor\": \"rgb(36,36,36)\", \"ticks\": \"outside\"}, \"type\": \"contourcarpet\"}], \"heatmap\": [{\"colorbar\": {\"outlinewidth\": 1, \"tickcolor\": \"rgb(36,36,36)\", \"ticks\": \"outside\"}, \"colorscale\": [[0.0, \"#440154\"], [0.1111111111111111, \"#482878\"], [0.2222222222222222, \"#3e4989\"], [0.3333333333333333, \"#31688e\"], [0.4444444444444444, \"#26828e\"], [0.5555555555555556, \"#1f9e89\"], [0.6666666666666666, \"#35b779\"], [0.7777777777777778, \"#6ece58\"], [0.8888888888888888, \"#b5de2b\"], [1.0, \"#fde725\"]], \"type\": \"heatmap\"}], \"heatmapgl\": [{\"colorbar\": {\"outlinewidth\": 1, \"tickcolor\": \"rgb(36,36,36)\", \"ticks\": \"outside\"}, \"colorscale\": [[0.0, \"#440154\"], [0.1111111111111111, \"#482878\"], [0.2222222222222222, \"#3e4989\"], [0.3333333333333333, \"#31688e\"], [0.4444444444444444, \"#26828e\"], [0.5555555555555556, \"#1f9e89\"], [0.6666666666666666, \"#35b779\"], [0.7777777777777778, \"#6ece58\"], [0.8888888888888888, \"#b5de2b\"], [1.0, \"#fde725\"]], \"type\": \"heatmapgl\"}], \"histogram\": [{\"marker\": {\"line\": {\"color\": \"white\", \"width\": 0.6}}, \"type\": \"histogram\"}], \"histogram2d\": [{\"colorbar\": {\"outlinewidth\": 1, \"tickcolor\": \"rgb(36,36,36)\", \"ticks\": \"outside\"}, \"colorscale\": [[0.0, \"#440154\"], [0.1111111111111111, \"#482878\"], [0.2222222222222222, \"#3e4989\"], [0.3333333333333333, \"#31688e\"], [0.4444444444444444, \"#26828e\"], [0.5555555555555556, \"#1f9e89\"], [0.6666666666666666, \"#35b779\"], [0.7777777777777778, \"#6ece58\"], [0.8888888888888888, \"#b5de2b\"], [1.0, \"#fde725\"]], \"type\": \"histogram2d\"}], \"histogram2dcontour\": [{\"colorbar\": {\"outlinewidth\": 1, \"tickcolor\": \"rgb(36,36,36)\", \"ticks\": \"outside\"}, \"colorscale\": [[0.0, \"#440154\"], [0.1111111111111111, \"#482878\"], [0.2222222222222222, \"#3e4989\"], [0.3333333333333333, \"#31688e\"], [0.4444444444444444, \"#26828e\"], [0.5555555555555556, \"#1f9e89\"], [0.6666666666666666, \"#35b779\"], [0.7777777777777778, \"#6ece58\"], [0.8888888888888888, \"#b5de2b\"], [1.0, \"#fde725\"]], \"type\": \"histogram2dcontour\"}], \"mesh3d\": [{\"colorbar\": {\"outlinewidth\": 1, \"tickcolor\": \"rgb(36,36,36)\", \"ticks\": \"outside\"}, \"type\": \"mesh3d\"}], \"parcoords\": [{\"line\": {\"colorbar\": {\"outlinewidth\": 1, \"tickcolor\": \"rgb(36,36,36)\", \"ticks\": \"outside\"}}, \"type\": \"parcoords\"}], \"pie\": [{\"automargin\": true, \"type\": \"pie\"}], \"scatter\": [{\"marker\": {\"colorbar\": {\"outlinewidth\": 1, \"tickcolor\": \"rgb(36,36,36)\", \"ticks\": \"outside\"}}, \"type\": \"scatter\"}], \"scatter3d\": [{\"line\": {\"colorbar\": {\"outlinewidth\": 1, \"tickcolor\": \"rgb(36,36,36)\", \"ticks\": \"outside\"}}, \"marker\": {\"colorbar\": {\"outlinewidth\": 1, \"tickcolor\": \"rgb(36,36,36)\", \"ticks\": \"outside\"}}, \"type\": \"scatter3d\"}], \"scattercarpet\": [{\"marker\": {\"colorbar\": {\"outlinewidth\": 1, \"tickcolor\": \"rgb(36,36,36)\", \"ticks\": \"outside\"}}, \"type\": \"scattercarpet\"}], \"scattergeo\": [{\"marker\": {\"colorbar\": {\"outlinewidth\": 1, \"tickcolor\": \"rgb(36,36,36)\", \"ticks\": \"outside\"}}, \"type\": \"scattergeo\"}], \"scattergl\": [{\"marker\": {\"colorbar\": {\"outlinewidth\": 1, \"tickcolor\": \"rgb(36,36,36)\", \"ticks\": \"outside\"}}, \"type\": \"scattergl\"}], \"scattermapbox\": [{\"marker\": {\"colorbar\": {\"outlinewidth\": 1, \"tickcolor\": \"rgb(36,36,36)\", \"ticks\": \"outside\"}}, \"type\": \"scattermapbox\"}], \"scatterpolar\": [{\"marker\": {\"colorbar\": {\"outlinewidth\": 1, \"tickcolor\": \"rgb(36,36,36)\", \"ticks\": \"outside\"}}, \"type\": \"scatterpolar\"}], \"scatterpolargl\": [{\"marker\": {\"colorbar\": {\"outlinewidth\": 1, \"tickcolor\": \"rgb(36,36,36)\", \"ticks\": \"outside\"}}, \"type\": \"scatterpolargl\"}], \"scatterternary\": [{\"marker\": {\"colorbar\": {\"outlinewidth\": 1, \"tickcolor\": \"rgb(36,36,36)\", \"ticks\": \"outside\"}}, \"type\": \"scatterternary\"}], \"surface\": [{\"colorbar\": {\"outlinewidth\": 1, \"tickcolor\": \"rgb(36,36,36)\", \"ticks\": \"outside\"}, \"colorscale\": [[0.0, \"#440154\"], [0.1111111111111111, \"#482878\"], [0.2222222222222222, \"#3e4989\"], [0.3333333333333333, \"#31688e\"], [0.4444444444444444, \"#26828e\"], [0.5555555555555556, \"#1f9e89\"], [0.6666666666666666, \"#35b779\"], [0.7777777777777778, \"#6ece58\"], [0.8888888888888888, \"#b5de2b\"], [1.0, \"#fde725\"]], \"type\": \"surface\"}], \"table\": [{\"cells\": {\"fill\": {\"color\": \"rgb(237,237,237)\"}, \"line\": {\"color\": \"white\"}}, \"header\": {\"fill\": {\"color\": \"rgb(217,217,217)\"}, \"line\": {\"color\": \"white\"}}, \"type\": \"table\"}]}, \"layout\": {\"annotationdefaults\": {\"arrowhead\": 0, \"arrowwidth\": 1}, \"coloraxis\": {\"colorbar\": {\"outlinewidth\": 1, \"tickcolor\": \"rgb(36,36,36)\", \"ticks\": \"outside\"}}, \"colorscale\": {\"diverging\": [[0.0, \"rgb(103,0,31)\"], [0.1, \"rgb(178,24,43)\"], [0.2, \"rgb(214,96,77)\"], [0.3, \"rgb(244,165,130)\"], [0.4, \"rgb(253,219,199)\"], [0.5, \"rgb(247,247,247)\"], [0.6, \"rgb(209,229,240)\"], [0.7, \"rgb(146,197,222)\"], [0.8, \"rgb(67,147,195)\"], [0.9, \"rgb(33,102,172)\"], [1.0, \"rgb(5,48,97)\"]], \"sequential\": [[0.0, \"#440154\"], [0.1111111111111111, \"#482878\"], [0.2222222222222222, \"#3e4989\"], [0.3333333333333333, \"#31688e\"], [0.4444444444444444, \"#26828e\"], [0.5555555555555556, \"#1f9e89\"], [0.6666666666666666, \"#35b779\"], [0.7777777777777778, \"#6ece58\"], [0.8888888888888888, \"#b5de2b\"], [1.0, \"#fde725\"]], \"sequentialminus\": [[0.0, \"#440154\"], [0.1111111111111111, \"#482878\"], [0.2222222222222222, \"#3e4989\"], [0.3333333333333333, \"#31688e\"], [0.4444444444444444, \"#26828e\"], [0.5555555555555556, \"#1f9e89\"], [0.6666666666666666, \"#35b779\"], [0.7777777777777778, \"#6ece58\"], [0.8888888888888888, \"#b5de2b\"], [1.0, \"#fde725\"]]}, \"colorway\": [\"#1F77B4\", \"#FF7F0E\", \"#2CA02C\", \"#D62728\", \"#9467BD\", \"#8C564B\", \"#E377C2\", \"#7F7F7F\", \"#BCBD22\", \"#17BECF\"], \"font\": {\"color\": \"rgb(36,36,36)\"}, \"geo\": {\"bgcolor\": \"white\", \"lakecolor\": \"white\", \"landcolor\": \"white\", \"showlakes\": true, \"showland\": true, \"subunitcolor\": \"white\"}, \"hoverlabel\": {\"align\": \"left\"}, \"hovermode\": \"closest\", \"mapbox\": {\"style\": \"light\"}, \"paper_bgcolor\": \"white\", \"plot_bgcolor\": \"white\", \"polar\": {\"angularaxis\": {\"gridcolor\": \"rgb(232,232,232)\", \"linecolor\": \"rgb(36,36,36)\", \"showgrid\": false, \"showline\": true, \"ticks\": \"outside\"}, \"bgcolor\": \"white\", \"radialaxis\": {\"gridcolor\": \"rgb(232,232,232)\", \"linecolor\": \"rgb(36,36,36)\", \"showgrid\": false, \"showline\": true, \"ticks\": \"outside\"}}, \"scene\": {\"xaxis\": {\"backgroundcolor\": \"white\", \"gridcolor\": \"rgb(232,232,232)\", \"gridwidth\": 2, \"linecolor\": \"rgb(36,36,36)\", \"showbackground\": true, \"showgrid\": false, \"showline\": true, \"ticks\": \"outside\", \"zeroline\": false, \"zerolinecolor\": \"rgb(36,36,36)\"}, \"yaxis\": {\"backgroundcolor\": \"white\", \"gridcolor\": \"rgb(232,232,232)\", \"gridwidth\": 2, \"linecolor\": \"rgb(36,36,36)\", \"showbackground\": true, \"showgrid\": false, \"showline\": true, \"ticks\": \"outside\", \"zeroline\": false, \"zerolinecolor\": \"rgb(36,36,36)\"}, \"zaxis\": {\"backgroundcolor\": \"white\", \"gridcolor\": \"rgb(232,232,232)\", \"gridwidth\": 2, \"linecolor\": \"rgb(36,36,36)\", \"showbackground\": true, \"showgrid\": false, \"showline\": true, \"ticks\": \"outside\", \"zeroline\": false, \"zerolinecolor\": \"rgb(36,36,36)\"}}, \"shapedefaults\": {\"fillcolor\": \"black\", \"line\": {\"width\": 0}, \"opacity\": 0.3}, \"ternary\": {\"aaxis\": {\"gridcolor\": \"rgb(232,232,232)\", \"linecolor\": \"rgb(36,36,36)\", \"showgrid\": false, \"showline\": true, \"ticks\": \"outside\"}, \"baxis\": {\"gridcolor\": \"rgb(232,232,232)\", \"linecolor\": \"rgb(36,36,36)\", \"showgrid\": false, \"showline\": true, \"ticks\": \"outside\"}, \"bgcolor\": \"white\", \"caxis\": {\"gridcolor\": \"rgb(232,232,232)\", \"linecolor\": \"rgb(36,36,36)\", \"showgrid\": false, \"showline\": true, \"ticks\": \"outside\"}}, \"title\": {\"x\": 0.05}, \"xaxis\": {\"automargin\": true, \"gridcolor\": \"rgb(232,232,232)\", \"linecolor\": \"rgb(36,36,36)\", \"showgrid\": false, \"showline\": true, \"ticks\": \"outside\", \"title\": {\"standoff\": 15}, \"zeroline\": false, \"zerolinecolor\": \"rgb(36,36,36)\"}, \"yaxis\": {\"automargin\": true, \"gridcolor\": \"rgb(232,232,232)\", \"linecolor\": \"rgb(36,36,36)\", \"showgrid\": false, \"showline\": true, \"ticks\": \"outside\", \"title\": {\"standoff\": 15}, \"zeroline\": false, \"zerolinecolor\": \"rgb(36,36,36)\"}}}, \"xaxis\": {\"anchor\": \"y\", \"constrain\": \"domain\", \"domain\": [0.0, 1.0], \"mirror\": true, \"range\": [0, 73.7], \"showline\": true, \"ticks\": \"outside\", \"title\": {\"text\": \"x\"}}, \"yaxis\": {\"anchor\": \"x\", \"domain\": [0.0, 1.0], \"mirror\": true, \"range\": [0, 71.5], \"scaleanchor\": \"x\", \"scaleratio\": 1, \"showline\": true, \"ticks\": \"outside\", \"title\": {\"text\": \"y\"}}},\n                        {\"responsive\": true}\n                    ).then(function(){\n                            \nvar gd = document.getElementById('9a47e089-f880-4a61-8467-ae29351b4ed3');\nvar x = new MutationObserver(function (mutations, observer) {{\n        var display = window.getComputedStyle(gd).display;\n        if (!display || display === 'none') {{\n            console.log([gd, 'removed!']);\n            Plotly.purge(gd);\n            observer.disconnect();\n        }}\n}});\n\n// Listen for the removal of the full notebook cells\nvar notebookContainer = gd.closest('#notebook-container');\nif (notebookContainer) {{\n    x.observe(notebookContainer, {childList: true});\n}}\n\n// Listen for the clearing of the current output cell\nvar outputEl = gd.closest('.output');\nif (outputEl) {{\n    x.observe(outputEl, {childList: true});\n}}\n\n                        })\n                };\n                });\n            </script>\n        </div>"
     },
     "metadata": {},
     "output_type": "display_data"
    }
   ],
   "source": [
    "plot_interactive_graph(m.data['V'], e=e)"
   ],
   "metadata": {
    "collapsed": false,
    "pycharm": {
     "name": "#%%\n"
    }
   }
  },
  {
   "cell_type": "code",
   "execution_count": 457,
   "outputs": [
    {
     "data": {
      "text/plain": "Empty DataFrame\nColumns: [from, to, state, from_d_x, from_d_y, to_d_x, to_d_y]\nIndex: []",
      "text/html": "<div>\n<style scoped>\n    .dataframe tbody tr th:only-of-type {\n        vertical-align: middle;\n    }\n\n    .dataframe tbody tr th {\n        vertical-align: top;\n    }\n\n    .dataframe thead th {\n        text-align: right;\n    }\n</style>\n<table border=\"1\" class=\"dataframe\">\n  <thead>\n    <tr style=\"text-align: right;\">\n      <th></th>\n      <th>from</th>\n      <th>to</th>\n      <th>state</th>\n      <th>from_d_x</th>\n      <th>from_d_y</th>\n      <th>to_d_x</th>\n      <th>to_d_y</th>\n    </tr>\n  </thead>\n  <tbody>\n  </tbody>\n</table>\n</div>"
     },
     "execution_count": 457,
     "metadata": {},
     "output_type": "execute_result"
    }
   ],
   "source": [
    "e\n"
   ],
   "metadata": {
    "collapsed": false,
    "pycharm": {
     "name": "#%%\n"
    }
   }
  }
 ],
 "metadata": {
  "kernelspec": {
   "display_name": "Python 3",
   "language": "python",
   "name": "python3"
  },
  "language_info": {
   "codemirror_mode": {
    "name": "ipython",
    "version": 2
   },
   "file_extension": ".py",
   "mimetype": "text/x-python",
   "name": "python",
   "nbconvert_exporter": "python",
   "pygments_lexer": "ipython2",
   "version": "2.7.6"
  }
 },
 "nbformat": 4,
 "nbformat_minor": 0
}