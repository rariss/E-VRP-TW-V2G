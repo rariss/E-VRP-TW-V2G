{
 "cells": [
  {
   "cell_type": "code",
   "execution_count": 1,
   "metadata": {
    "pycharm": {
     "name": "#%%\n"
    }
   },
   "outputs": [],
   "source": [
    "import sys\n",
    "sys.path.append(\"../\") # go to parent dir\n",
    "\n",
    "%load_ext autoreload\n",
    "%autoreload 2"
   ]
  },
  {
   "cell_type": "code",
   "execution_count": 24,
   "metadata": {
    "pycharm": {
     "name": "#%%\n"
    }
   },
   "outputs": [],
   "source": [
    "# from evrp.utils.utilities import create_optimal_edges, create_json_out, update_instance_json, read_instance_json_str, convert_txt_instances_to_csv\n",
    "# from evrp.utils.plot import plot_interactive_graph, plot_evrptwv2g\n",
    "\n",
    "\n",
    "from evrp.utils.utilities import convert_txt_instances_to_csv\n",
    "from evrp.milp.evrptw_splitxp import EVRPTW\n",
    "# from evrp.milp.evrptw_gdp import EVRPTW\n",
    "# from evrp.milp.evrptw_gdp_nested_station import EVRPTW\n",
    "# from evrp.milp.evrptw_gdp_nested_all import EVRPTW\n",
    "\n",
    "# import pandas as pd\n",
    "# import numpy as np\n",
    "\n",
    "# import json\n",
    "\n",
    "# pd.options.plotting.backend = \"plotly\""
   ]
  },
  {
   "cell_type": "markdown",
   "metadata": {},
   "source": [
    "# Convert Schneider instance to E-VRP-TW-V2G"
   ]
  },
  {
   "cell_type": "code",
   "execution_count": 23,
   "metadata": {},
   "outputs": [
    {
     "ename": "PermissionError",
     "evalue": "[Errno 13] Permission denied: 'config/test_instances/model_compare/r105C5_.csv'",
     "output_type": "error",
     "traceback": [
      "\u001b[1;31m---------------------------------------------------------------------------\u001b[0m",
      "\u001b[1;31mPermissionError\u001b[0m                           Traceback (most recent call last)",
      "\u001b[1;32m<ipython-input-23-cc1fef639bc6>\u001b[0m in \u001b[0;36m<module>\u001b[1;34m\u001b[0m\n\u001b[0;32m      3\u001b[0m \u001b[0moutput_folder_mc\u001b[0m\u001b[1;33m=\u001b[0m\u001b[1;34m'config/test_instances/model_compare/'\u001b[0m\u001b[1;33m\u001b[0m\u001b[1;33m\u001b[0m\u001b[0m\n\u001b[0;32m      4\u001b[0m \u001b[0mschneider_instance\u001b[0m \u001b[1;33m=\u001b[0m \u001b[1;34m'r105C5'\u001b[0m\u001b[1;33m\u001b[0m\u001b[1;33m\u001b[0m\u001b[0m\n\u001b[1;32m----> 5\u001b[1;33m \u001b[0mconvert_txt_instances_to_csv\u001b[0m\u001b[1;33m(\u001b[0m\u001b[0mschneider_instance\u001b[0m\u001b[1;33m,\u001b[0m \u001b[0moutput_folder\u001b[0m\u001b[1;33m=\u001b[0m\u001b[0moutput_folder_mc\u001b[0m\u001b[1;33m)\u001b[0m\u001b[1;33m\u001b[0m\u001b[1;33m\u001b[0m\u001b[0m\n\u001b[0m",
      "\u001b[1;32m~\\Documents\\GitHub\\e-vrp\\evrp\\utils\\utilities.py\u001b[0m in \u001b[0;36mconvert_txt_instances_to_csv\u001b[1;34m(instance, folder, output_folder)\u001b[0m\n\u001b[0;32m    512\u001b[0m     \u001b[0mdict_of_dfs\u001b[0m \u001b[1;33m=\u001b[0m \u001b[1;33m{\u001b[0m\u001b[1;34m'D'\u001b[0m\u001b[1;33m:\u001b[0m \u001b[0mD\u001b[0m\u001b[1;33m,\u001b[0m \u001b[1;34m'S'\u001b[0m\u001b[1;33m:\u001b[0m \u001b[0mS\u001b[0m\u001b[1;33m,\u001b[0m \u001b[1;34m'M'\u001b[0m\u001b[1;33m:\u001b[0m \u001b[0mM\u001b[0m\u001b[1;33m,\u001b[0m \u001b[1;34m'Parameters'\u001b[0m\u001b[1;33m:\u001b[0m \u001b[0mP\u001b[0m\u001b[1;33m,\u001b[0m \u001b[1;34m'W'\u001b[0m\u001b[1;33m:\u001b[0m \u001b[0mW\u001b[0m\u001b[1;33m,\u001b[0m \u001b[1;34m'T'\u001b[0m\u001b[1;33m:\u001b[0m \u001b[0mT\u001b[0m\u001b[1;33m}\u001b[0m\u001b[1;33m\u001b[0m\u001b[1;33m\u001b[0m\u001b[0m\n\u001b[0;32m    513\u001b[0m     \u001b[0mcsv_rows\u001b[0m \u001b[1;33m=\u001b[0m \u001b[0mmax\u001b[0m\u001b[1;33m(\u001b[0m\u001b[0mlen\u001b[0m\u001b[1;33m(\u001b[0m\u001b[0md\u001b[0m\u001b[1;33m.\u001b[0m\u001b[0mcolumns\u001b[0m\u001b[1;33m)\u001b[0m \u001b[1;32mfor\u001b[0m \u001b[0mk\u001b[0m\u001b[1;33m,\u001b[0m \u001b[0md\u001b[0m \u001b[1;32min\u001b[0m \u001b[0mdict_of_dfs\u001b[0m\u001b[1;33m.\u001b[0m\u001b[0mitems\u001b[0m\u001b[1;33m(\u001b[0m\u001b[1;33m)\u001b[0m\u001b[1;33m)\u001b[0m\u001b[1;33m\u001b[0m\u001b[1;33m\u001b[0m\u001b[0m\n\u001b[1;32m--> 514\u001b[1;33m     \u001b[1;32mwith\u001b[0m \u001b[0mopen\u001b[0m\u001b[1;33m(\u001b[0m\u001b[0moutput_folder\u001b[0m \u001b[1;33m+\u001b[0m \u001b[0minstance\u001b[0m \u001b[1;33m+\u001b[0m \u001b[1;34m'_.csv'\u001b[0m\u001b[1;33m,\u001b[0m \u001b[1;34m'w+'\u001b[0m\u001b[1;33m)\u001b[0m \u001b[1;32mas\u001b[0m \u001b[0mf\u001b[0m\u001b[1;33m:\u001b[0m\u001b[1;33m\u001b[0m\u001b[1;33m\u001b[0m\u001b[0m\n\u001b[0m\u001b[0;32m    515\u001b[0m         \u001b[1;32mfor\u001b[0m \u001b[0mk\u001b[0m\u001b[1;33m,\u001b[0m \u001b[0mdf\u001b[0m \u001b[1;32min\u001b[0m \u001b[0mdict_of_dfs\u001b[0m\u001b[1;33m.\u001b[0m\u001b[0mitems\u001b[0m\u001b[1;33m(\u001b[0m\u001b[1;33m)\u001b[0m\u001b[1;33m:\u001b[0m\u001b[1;33m\u001b[0m\u001b[1;33m\u001b[0m\u001b[0m\n\u001b[0;32m    516\u001b[0m             \u001b[0mf\u001b[0m\u001b[1;33m.\u001b[0m\u001b[0mwrite\u001b[0m\u001b[1;33m(\u001b[0m\u001b[0mk\u001b[0m \u001b[1;33m+\u001b[0m \u001b[1;34m','\u001b[0m\u001b[1;33m*\u001b[0m\u001b[0mcsv_rows\u001b[0m \u001b[1;33m+\u001b[0m\u001b[1;34m'\\n'\u001b[0m\u001b[1;33m)\u001b[0m\u001b[1;33m\u001b[0m\u001b[1;33m\u001b[0m\u001b[0m\n",
      "\u001b[1;31mPermissionError\u001b[0m: [Errno 13] Permission denied: 'config/test_instances/model_compare/r105C5_.csv'"
     ]
    }
   ],
   "source": [
    "# schneider_instance = 'rc105C5'\n",
    "folder='config/test_instances/evrptw_instances/'\n",
    "output_folder_mc='config/test_instances/model_compare/'\n",
    "schneider_instance = 'r105C5'\n",
    "convert_txt_instances_to_csv(schneider_instance, output_folder=output_folder_mc)"
   ]
  },
  {
   "cell_type": "markdown",
   "metadata": {},
   "source": [
    " # Full solve\n",
    "\n",
    "Objective options: {Schneider} OR {OpEx CapEx Cycle EA DCM Delivery}\n",
    "\n",
    "Constraint options: {Start=End FullStart=End NoXkappaBounds NoMinVehicles NoSymmetry NoXd}"
   ]
  },
  {
   "cell_type": "code",
   "execution_count": null,
   "metadata": {},
   "outputs": [],
   "source": [
    "r104C5\n",
    "r105C5\n",
    "r201C10\n",
    "rc108C10\n",
    "c103C15\n",
    "c202C15\n",
    "rc103C15\n",
    "r105C15\n",
    "r202C15\n",
    "r102C15"
   ]
  },
  {
   "cell_type": "code",
   "execution_count": 25,
   "metadata": {
    "pycharm": {
     "name": "#%%\n"
    }
   },
   "outputs": [],
   "source": [
    "# instance = 'c101C10_'\n",
    "# fpath = 'config/test_instances/' + instance + '.csv'\n",
    "\n",
    "# instance = 'r105C5_e'\n",
    "# instance = 'c103C5_'\n",
    "# instance = 'rc105C5_'\n",
    "instance = 'r105C5_'\n",
    "\n",
    "fpath = 'config/test_instances/model_compare/' + instance + '.csv'"
   ]
  },
  {
   "cell_type": "code",
   "execution_count": 26,
   "metadata": {
    "pycharm": {
     "name": "#%%\n"
    }
   },
   "outputs": [
    {
     "name": "stderr",
     "output_type": "stream",
     "text": [
      "2021-07-26 11:36:24 INFO     Building abstract model\n",
      "2021-07-26 11:36:24 INFO     Defining parameters and sets\n",
      "2021-07-26 11:36:24 INFO     Defining variables\n",
      "2021-07-26 11:36:24 INFO     Defining constraints\n",
      "2021-07-26 11:36:24 INFO     Importing EVRPTW MILP instance: r105C5_\n",
      "2021-07-26 11:36:24 INFO     Reading CSV\n",
      "2021-07-26 11:36:24 INFO     Creating graph\n",
      "2021-07-26 11:36:24 INFO     Creating timeseries data\n",
      "2021-07-26 11:36:24 INFO     Creating duplicates and extended graph\n",
      "2021-07-26 11:36:24 INFO     Using Scipy euclidian distances to generate distance matrix\n",
      "2021-07-26 11:36:24 INFO     Calculating distance matrix\n",
      "2021-07-26 11:36:24 INFO     Creating parameters\n",
      "2021-07-26 11:36:24 INFO     Creating instance\n",
      "2021-07-26 11:36:25 INFO     Problem type: Schneider Cycle\n",
      "2021-07-26 11:36:26 INFO     Solving instance...\n"
     ]
    },
    {
     "name": "stdout",
     "output_type": "stream",
     "text": [
      "Using license file C:\\gurobi910\\win64\\gurobi.lic\n",
      "Academic license - for non-commercial use only - expires 2021-08-14\n",
      "Read LP format model from file C:\\Users\\berwa\\AppData\\Local\\Temp\\tmpzko0qs15.pyomo.lp\n",
      "Reading time = 0.25 seconds\n",
      "x1487: 12013 rows, 1487 columns, 203060 nonzeros\n",
      "Changed value of parameter TimeLimit to 120.0\n",
      "   Prev: inf  Min: 0.0  Max: inf  Default: inf\n",
      "Gurobi Optimizer version 9.1.0 build v9.1.0rc0 (win64)\n",
      "Thread count: 4 physical cores, 8 logical processors, using up to 8 threads\n",
      "Optimize a model with 12013 rows, 1487 columns and 203060 nonzeros\n",
      "Model fingerprint: 0x8ef53b5a\n",
      "Variable types: 724 continuous, 763 integer (763 binary)\n",
      "Coefficient statistics:\n",
      "  Matrix range     [1e+00, 5e+02]\n",
      "  Objective range  [4e+00, 1e+03]\n",
      "  Bounds range     [1e+00, 1e+00]\n",
      "  RHS range        [1e+00, 5e+02]\n",
      "Presolve removed 7916 rows and 255 columns\n",
      "Presolve time: 0.53s\n",
      "Presolved: 4097 rows, 1232 columns, 27014 nonzeros\n",
      "Variable types: 608 continuous, 624 integer (624 binary)\n",
      "Found heuristic solution: objective 5224.8070895\n",
      "Found heuristic solution: objective 5224.6064094\n",
      "\n",
      "Root relaxation: objective 1.131039e+03, 388 iterations, 0.03 seconds\n",
      "\n",
      "    Nodes    |    Current Node    |     Objective Bounds      |     Work\n",
      " Expl Unexpl |  Obj  Depth IntInf | Incumbent    BestBd   Gap | It/Node Time\n",
      "\n",
      "     0     0 1131.03923    0   10 5224.60641 1131.03923  78.4%     -    0s\n",
      "H    0     0                    2156.0820695 1131.03923  47.5%     -    0s\n",
      "     0     0 1149.29925    0   12 2156.08207 1149.29925  46.7%     -    0s\n",
      "     0     0 1150.53662    0   12 2156.08207 1150.53662  46.6%     -    0s\n",
      "     0     0 1161.84817    0   17 2156.08207 1161.84817  46.1%     -    0s\n",
      "     0     0 1162.70828    0   12 2156.08207 1162.70828  46.1%     -    0s\n",
      "     0     0 1162.70828    0   14 2156.08207 1162.70828  46.1%     -    0s\n",
      "     0     0 1301.09711    0   24 2156.08207 1301.09711  39.7%     -    1s\n",
      "     0     0 1448.16991    0   47 2156.08207 1448.16991  32.8%     -    1s\n",
      "\n",
      "Cutting planes:\n",
      "  Gomory: 1\n",
      "  Cover: 61\n",
      "  Implied bound: 12\n",
      "  Clique: 4\n",
      "  MIR: 35\n",
      "  Flow cover: 1\n",
      "  GUB cover: 3\n",
      "  Zero half: 2\n",
      "  RLT: 2\n",
      "  Relax-and-lift: 1\n",
      "\n",
      "Explored 1 nodes (1031 simplex iterations) in 1.25 seconds\n",
      "Thread count was 8 (of 8 available processors)\n",
      "\n",
      "Solution count 3: 2156.08 5224.61 5224.81 \n",
      "\n",
      "Optimal solution found (tolerance 1.00e-04)\n",
      "Best objective 2.156082069464e+03, best bound 2.156082069464e+03, gap 0.0000%\n"
     ]
    },
    {
     "name": "stderr",
     "output_type": "stream",
     "text": [
      "2021-07-26 11:36:30 INFO     Done\n"
     ]
    }
   ],
   "source": [
    "m = EVRPTW(problem_type='Schneider Cycle')\n",
    "m.full_solve(fpath)"
   ]
  },
  {
   "cell_type": "code",
   "execution_count": 62,
   "metadata": {
    "pycharm": {
     "name": "#%%\n"
    }
   },
   "outputs": [
    {
     "name": "stdout",
     "output_type": "stream",
     "text": [
      "\n",
      "Problem: \n",
      "- Name: x4696\n",
      "  Lower bound: 1353.4175948588856\n",
      "  Upper bound: 3411.6452207271323\n",
      "  Number of objectives: 1\n",
      "  Number of constraints: 56658\n",
      "  Number of variables: 4696\n",
      "  Number of binary variables: 2470\n",
      "  Number of integer variables: 2470\n",
      "  Number of continuous variables: 2226\n",
      "  Number of nonzeros: 924580\n",
      "  Sense: minimize\n",
      "Solver: \n",
      "- Status: aborted\n",
      "  Return code: 0\n",
      "  Message: Optimization terminated because the time expended exceeded the value specified in the TimeLimit parameter.\n",
      "  Termination condition: maxTimeLimit\n",
      "  Termination message: Optimization terminated because the time expended exceeded the value specified in the TimeLimit parameter.\n",
      "  Wall time: 300.1632890701294\n",
      "  Error rc: 0\n",
      "  Time: 300.9641239643097\n",
      "Solution: \n",
      "- number of solutions: 0\n",
      "  number of solutions displayed: 0\n",
      "\n"
     ]
    }
   ],
   "source": [
    "print(m.results)"
   ]
  }
 ],
 "metadata": {
  "kernelspec": {
   "display_name": "Python 3",
   "language": "python",
   "name": "python3"
  },
  "language_info": {
   "codemirror_mode": {
    "name": "ipython",
    "version": 3
   },
   "file_extension": ".py",
   "mimetype": "text/x-python",
   "name": "python",
   "nbconvert_exporter": "python",
   "pygments_lexer": "ipython3",
   "version": "3.7.9"
  }
 },
 "nbformat": 4,
 "nbformat_minor": 1
}
